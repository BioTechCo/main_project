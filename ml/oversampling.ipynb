{
 "cells": [
  {
   "cell_type": "code",
   "execution_count": 4,
   "metadata": {},
   "outputs": [],
   "source": [
    "from imblearn.over_sampling import RandomOverSampler\n",
    "import pandas as pd\n",
    "from collections import Counter\n",
    "from sklearn.model_selection import train_test_split,StratifiedKFold,cross_val_score\n",
    "\n",
    "normalized_train = pd.read_csv('all_beta_normalized_breast_liquid.csv')\n",
    "\n",
    "X_train = normalized_train.iloc[:, 1::2]\n",
    "x = [X_train.iloc[:, i].values.flatten().tolist() for i in range(32)]\n",
    "y = [(0 if (i < 10) else 1) for i in range(32)]\n"
   ]
  },
  {
   "cell_type": "markdown",
   "metadata": {},
   "source": [
    "## RandomOverSampler"
   ]
  },
  {
   "cell_type": "code",
   "execution_count": 5,
   "metadata": {},
   "outputs": [
    {
     "name": "stdout",
     "output_type": "stream",
     "text": [
      "過採樣後的類別分佈： Counter({0: 22, 1: 22})\n"
     ]
    }
   ],
   "source": [
    "ros = RandomOverSampler(random_state=42)\n",
    "X_train, y_train = ros.fit_resample(x, y)\n",
    "\n",
    "print(\"過採樣後的類別分佈：\", Counter(y_train))\n",
    "\n",
    "oversample = pd.DataFrame(X_train).transpose()\n",
    "oversample.columns = y_train\n",
    "oversample.index = normalized_train.iloc[:,0]\n",
    "oversample_sorted = oversample.sort_index(axis=1)\n",
    "\n",
    "oversample_sorted.to_csv(\"all_beta_normalized_breast_liquid_oversample_random.csv\")"
   ]
  },
  {
   "cell_type": "markdown",
   "metadata": {},
   "source": [
    "## SMOTE"
   ]
  },
  {
   "cell_type": "code",
   "execution_count": 6,
   "metadata": {},
   "outputs": [
    {
     "name": "stdout",
     "output_type": "stream",
     "text": [
      "過採樣後的類別分佈： Counter({0: 22, 1: 22})\n"
     ]
    }
   ],
   "source": [
    "from imblearn.over_sampling import SMOTE\n",
    "\n",
    "X_smote, label = SMOTE(random_state=42).fit_resample(x,y)\n",
    "\n",
    "\n",
    "print(\"過採樣後的類別分佈：\", Counter(label))\n",
    "\n",
    "oversample = pd.DataFrame(X_smote).transpose()\n",
    "oversample.columns = label\n",
    "oversample.index = normalized_train.iloc[:,0]\n",
    "oversample_sorted = oversample.sort_index(axis=1)\n",
    "oversample_sorted.to_csv(\"all_beta_normalized_breast_liquid_oversample_smote.csv\")"
   ]
  },
  {
   "cell_type": "markdown",
   "metadata": {},
   "source": [
    "## ADASYN"
   ]
  },
  {
   "cell_type": "code",
   "execution_count": 7,
   "metadata": {},
   "outputs": [
    {
     "name": "stdout",
     "output_type": "stream",
     "text": [
      "過採樣後的類別分佈： Counter({1: 22, 0: 21})\n"
     ]
    }
   ],
   "source": [
    "from imblearn.over_sampling import ADASYN\n",
    "\n",
    "\n",
    "X_adasyn, label = ADASYN(random_state=42).fit_resample(x,y)\n",
    "\n",
    "print(\"過採樣後的類別分佈：\", Counter(label))\n",
    "\n",
    "oversample = pd.DataFrame(X_adasyn).transpose()\n",
    "oversample.columns = label\n",
    "oversample.index = normalized_train.iloc[:,0]\n",
    "oversample_sorted = oversample.sort_index(axis=1)\n",
    "oversample_sorted.to_csv(\"all_beta_normalized_breast_liquid_oversample_adasyn.csv\")\n"
   ]
  }
 ],
 "metadata": {
  "kernelspec": {
   "display_name": "Python 3",
   "language": "python",
   "name": "python3"
  },
  "language_info": {
   "codemirror_mode": {
    "name": "ipython",
    "version": 3
   },
   "file_extension": ".py",
   "mimetype": "text/x-python",
   "name": "python",
   "nbconvert_exporter": "python",
   "pygments_lexer": "ipython3",
   "version": "3.10.7"
  }
 },
 "nbformat": 4,
 "nbformat_minor": 2
}
