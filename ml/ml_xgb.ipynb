{
 "cells": [
  {
   "cell_type": "code",
   "execution_count": 1,
   "metadata": {},
   "outputs": [],
   "source": [
    "import pandas as pd\n",
    "import xgboost as xgb"
   ]
  },
  {
   "cell_type": "code",
   "execution_count": 2,
   "metadata": {},
   "outputs": [],
   "source": [
    "normalized_train = pd.read_csv('../result/all_beta_normalized_train_035.csv')\n",
    "\n",
    "normalized_test = pd.read_csv('../result/all_beta_normalized_test_035.csv')\n",
    "\n",
    "normalized_train_c = normalized_train[normalized_train['Unnamed: 0'].isin(normalized_test['Unnamed: 0'])]"
   ]
  },
  {
   "cell_type": "code",
   "execution_count": 3,
   "metadata": {},
   "outputs": [],
   "source": [
    "X_train = normalized_train_c.iloc[:, 1::2]\n",
    "\n",
    "x = []\n",
    "\n",
    "for i in range(445):\n",
    "    X = X_train.iloc[:, i]\n",
    "\n",
    "    X = X.values.flatten().tolist()\n",
    "\n",
    "    x.append(X)\n",
    "\n",
    "y = [ (0 if i < 47 else 1)  for i in range(445)]"
   ]
  },
  {
   "cell_type": "code",
   "execution_count": 4,
   "metadata": {},
   "outputs": [
    {
     "name": "stdout",
     "output_type": "stream",
     "text": [
      "各次交叉驗證的準確度: [0.98876404 0.97752809 0.96629213 0.98876404 0.98876404]\n",
      "平均交叉驗證準確度: 0.9820224719101123\n"
     ]
    }
   ],
   "source": [
    "from sklearn.model_selection import cross_val_score\n",
    "\n",
    "# 將數據轉換為DMatrix格式\n",
    "dmatrix = xgb.DMatrix(x, label=y)\n",
    "\n",
    "# 定義模型參數\n",
    "params = {\n",
    "    'objective': 'binary:logistic',  # 二分類問題\n",
    "    'eval_metric': 'logloss',  # 評估指標\n",
    "    'max_depth': 3,\n",
    "    'learning_rate': 1\n",
    "}\n",
    "\n",
    "# 建立模型\n",
    "model = xgb.XGBClassifier(**params)\n",
    "\n",
    "# 進行交叉驗證，這裡使用 5-fold 交叉驗證\n",
    "cv_scores = cross_val_score(model, x, y, cv=5, scoring='accuracy')\n",
    "\n",
    "# 印出每次交叉驗證的準確度\n",
    "print(\"各次交叉驗證的準確度:\", cv_scores)\n",
    "\n",
    "# 計算平均準確度\n",
    "average_accuracy = cv_scores.mean()\n",
    "print(\"平均交叉驗證準確度:\", average_accuracy)\n"
   ]
  },
  {
   "cell_type": "code",
   "execution_count": 21,
   "metadata": {},
   "outputs": [],
   "source": [
    "from itertools import combinations\n",
    "\n",
    "target_labels = ['cg03520644','cg05047401','cg06355129','cg07790615','cg09106903']\n",
    "\n",
    "# 三個一組\n",
    "combinations_list = list(combinations(target_labels, 3))\n",
    "\n",
    "acc=[]\n",
    "# 所有可能的組合\n",
    "for combination in combinations_list:\n",
    "    #print(combination)\n",
    "    d1_values = normalized_train.loc[normalized_train['Unnamed: 0']==combination[0]]\n",
    "    d2_values = normalized_train.loc[normalized_train['Unnamed: 0']==combination[1]]\n",
    "    d3_values = normalized_train.loc[normalized_train['Unnamed: 0']==combination[2]]\n",
    "   \n",
    "    d1 = d1_values.iloc[:, 1::2]\n",
    "    d2 = d2_values.iloc[:, 1::2]\n",
    "    d3 = d3_values.iloc[:, 1::2]\n",
    "\n",
    "    d1 = d1.values.flatten().tolist()\n",
    "    d2 = d2.values.flatten().tolist()\n",
    "    d3 = d3.values.flatten().tolist()\n",
    "\n",
    "    x = []\n",
    "\n",
    "    for i in range(445):\n",
    "        x.append([d1[i],d2[i],d3[i]])\n",
    "        \n",
    "    # 將數據轉換為DMatrix格式\n",
    "    dmatrix = xgb.DMatrix(x, label=y)\n",
    "\n",
    "    # 定義模型參數\n",
    "    params = {\n",
    "        'objective': 'binary:logistic',  # 二分類問題\n",
    "        'eval_metric': 'logloss',  # 評估指標\n",
    "        'max_depth': 3,\n",
    "        'learning_rate': 1\n",
    "    }\n",
    "\n",
    "    # 建立模型\n",
    "    model = xgb.XGBClassifier(**params)\n",
    "\n",
    "    # 進行交叉驗證，這裡使用 5-fold 交叉驗證\n",
    "    cv_scores = cross_val_score(model, x, y, cv=5, scoring='accuracy')\n",
    "\n",
    "    # 印出每次交叉驗證的準確度\n",
    "    #print(\"各次交叉驗證的準確度:\", cv_scores)\n",
    "\n",
    "    # 計算平均準確度\n",
    "    average_accuracy = cv_scores.mean()\n",
    "    #print(\"平均交叉驗證準確度:\", average_accuracy)\n",
    "    acc.append([combination[0],combination[1], combination[2], cv_scores[0],cv_scores[1],cv_scores[2],cv_scores[3],cv_scores[4], average_accuracy])\n"
   ]
  },
  {
   "cell_type": "code",
   "execution_count": 23,
   "metadata": {},
   "outputs": [],
   "source": [
    "df=pd.DataFrame(acc, columns=['ID1', 'ID2', 'ID3', 'fold_scores1','fold_scores2','fold_scores3','fold_scores4','fold_scores5', 'average_accuracy'])\n",
    "df.to_csv(\"../result/xgb.csv\", index=False)"
   ]
  }
 ],
 "metadata": {
  "kernelspec": {
   "display_name": "base",
   "language": "python",
   "name": "python3"
  },
  "language_info": {
   "codemirror_mode": {
    "name": "ipython",
    "version": 3
   },
   "file_extension": ".py",
   "mimetype": "text/x-python",
   "name": "python",
   "nbconvert_exporter": "python",
   "pygments_lexer": "ipython3",
   "version": "3.8.8"
  }
 },
 "nbformat": 4,
 "nbformat_minor": 2
}
