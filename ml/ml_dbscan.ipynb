{
 "cells": [
  {
   "cell_type": "markdown",
   "metadata": {},
   "source": [
    "載入套件"
   ]
  },
  {
   "cell_type": "code",
   "execution_count": 1,
   "metadata": {},
   "outputs": [],
   "source": [
    "import matplotlib.pyplot as plt\n",
    "from sklearn.cluster import DBSCAN\n",
    "from sklearn.metrics.pairwise import pairwise_distances\n",
    "from sklearn import datasets\n",
    "import pandas as pd\n",
    "from sklearn.manifold import MDS\n",
    "import numpy as np\n",
    "from sklearn.neighbors import NearestNeighbors \n",
    "from scipy.cluster.hierarchy import dendrogram, linkage\n",
    "from sklearn.metrics import silhouette_score, davies_bouldin_score, calinski_harabasz_score\n",
    "from sklearn.manifold import TSNE"
   ]
  },
  {
   "cell_type": "markdown",
   "metadata": {},
   "source": [
    "載入資料，並將像似矩陣轉為距離矩陣"
   ]
  },
  {
   "cell_type": "code",
   "execution_count": 2,
   "metadata": {},
   "outputs": [
    {
     "name": "stdout",
     "output_type": "stream",
     "text": [
      "          ABL1  ACOT11  ACOT7  ACTN2  ACVR1  ADAM19  ADAMTS12  ADAMTS16  \\\n",
      "ABL1     0.000   0.912  0.531  0.415  0.335   0.470     0.488     0.742   \n",
      "ACOT11   0.912   0.000  0.430  0.912  0.904   0.846     0.838     0.831   \n",
      "ACOT7    0.531   0.430  0.000  0.467  0.515   0.561     0.558     0.777   \n",
      "ACTN2    0.415   0.912  0.467  0.000  0.468   0.390     0.375     0.709   \n",
      "ACVR1    0.335   0.904  0.515  0.468  0.000   0.494     0.488     0.695   \n",
      "...        ...     ...    ...    ...    ...     ...       ...       ...   \n",
      "TMEM196  0.531   0.573  0.573  0.313  0.313   0.313     0.457     0.457   \n",
      "VOPP1    0.608   0.589  0.566  0.660  0.693   0.636     0.718     0.718   \n",
      "KLHL35   0.000   0.872  0.000  0.000  0.000   0.000     0.000     0.643   \n",
      "MPPED2   0.465   0.781  0.460  0.434  0.496   0.474     0.449     0.605   \n",
      "PRR15    0.000   0.872  0.000  0.000  0.000   0.000     0.000     0.643   \n",
      "\n",
      "         ADAMTS20  ADCYAP1  ...   NOL4   PLD5  RALYL  SPHKAP  TMEM132D  \\\n",
      "ABL1        0.798    0.513  ...  0.306  0.490  0.479   0.525     0.000   \n",
      "ACOT11      0.836    0.911  ...  0.934  0.546  0.894   0.886     0.872   \n",
      "ACOT7       0.812    0.497  ...  0.675  0.546  0.491   0.493     0.000   \n",
      "ACTN2       0.790    0.391  ...  0.675  0.694  0.371   0.378     0.000   \n",
      "ACVR1       0.762    0.542  ...  0.675  0.608  0.543   0.548     0.000   \n",
      "...           ...      ...  ...    ...    ...    ...     ...       ...   \n",
      "TMEM196     0.531    0.457  ...  0.811  0.000  0.717   0.531     0.000   \n",
      "VOPP1       0.749    0.725  ...  0.708  0.468  0.618   0.504     0.370   \n",
      "KLHL35      0.719    0.000  ...  0.675  0.694  0.000   0.000     0.000   \n",
      "MPPED2      0.648    0.496  ...  0.675  0.546  0.502   0.492     0.000   \n",
      "PRR15       0.719    0.000  ...  0.675  0.694  0.000   0.000     0.000   \n",
      "\n",
      "         TMEM196  VOPP1  KLHL35  MPPED2  PRR15  \n",
      "ABL1       0.531  0.608   0.000   0.465  0.000  \n",
      "ACOT11     0.573  0.589   0.872   0.781  0.872  \n",
      "ACOT7      0.573  0.566   0.000   0.460  0.000  \n",
      "ACTN2      0.313  0.660   0.000   0.434  0.000  \n",
      "ACVR1      0.313  0.693   0.000   0.496  0.000  \n",
      "...          ...    ...     ...     ...    ...  \n",
      "TMEM196    0.000  0.370   1.000   1.000  1.000  \n",
      "VOPP1      0.370  0.000   1.000   1.000  1.000  \n",
      "KLHL35     1.000  1.000   0.000   0.000  0.000  \n",
      "MPPED2     1.000  1.000   0.000   0.000  0.000  \n",
      "PRR15      1.000  1.000   0.000   0.000  0.000  \n",
      "\n",
      "[384 rows x 384 columns]\n"
     ]
    }
   ],
   "source": [
    "D = pd.read_csv(\"../R-scripts/combined_matrix_symbols.csv\", index_col=0)\n",
    "\n",
    "\n",
    "def replace_with_one_minus_x(x):\n",
    "    return 1 - x\n",
    "\n",
    "D = D.fillna(0)\n",
    "D_transformed = D.applymap(replace_with_one_minus_x)\n",
    "\n",
    "# 打印替换NaN值后的数据\n",
    "print(D_transformed)"
   ]
  },
  {
   "cell_type": "markdown",
   "metadata": {},
   "source": [
    "進行DBSCAN 聚類，為後續可視化資料進行MDS降維，儲存聚類特徵分類檔"
   ]
  },
  {
   "cell_type": "code",
   "execution_count": 3,
   "metadata": {},
   "outputs": [
    {
     "name": "stdout",
     "output_type": "stream",
     "text": [
      "[ 0 -1  0  0  0  0  0 -1 -1  0  0  0  0  0  0  0  0 -1  0  0  0  0  0  0\n",
      " -1  0  0 -1  0  0  0  0  0  0  0  0  0  0  0  0  0  0  0  0  0  0  0  0\n",
      "  0  0  0  0  0  0 -1  0  0 -1  0  0  0  0  0  0  0 -1  0 -1  0 -1 -1  0\n",
      "  0  0  0  0  0 -1  0 -1 -1  0  0  0  0 -1  0  0  0  0  0  0  0  0  0  0\n",
      " -1  0  0  0  0  0  0  0  0  0  0  0  0 -1 -1 -1  0  0  0  0  0 -1  0  0\n",
      "  0  0 -1  0  0  0  0  0  0  0  0  0  0  0  0  0  0  0  0  0 -1  0  0  0\n",
      "  0 -1  0  0  0 -1  0  0  0  0  0  0  0  0  0 -1  0 -1 -1  0  0  0 -1  0\n",
      "  0 -1  0  0  0  0  0  0  0  0  0  0  0  0  0  0  0  0  0  0 -1 -1 -1  0\n",
      "  0  0  0  0 -1 -1  0  0  0  0  0  0  0  0  0  0  0  0  0  0  0  0  0  0\n",
      "  0  0  0  0  0  0  0  0  0  0  0  0  0  0  0  0  0  0 -1 -1  0  0  0 -1\n",
      "  0  0  0  0  0  0  0 -1  0  0  0  0  0  0  0 -1  0 -1  0  0  0 -1  0  0\n",
      "  0  0  0 -1  0  0 -1  0  0  0  0  0  0  0  0  0  0 -1  0  0  0  0  0  0\n",
      "  0  0 -1  0  0  0  0  0 -1 -1  0  0 -1  0  0  0  0 -1  0  0  0  0  0  0\n",
      "  0  0  0  0  0  0 -1  0  0  0  0  0  0  0  0  0 -1  0  0  0  0 -1  0  0\n",
      "  0  0 -1  0  0  0  0  0  0  0  0  0  0 -1 -1  0  0  0  0  0  0  0  0  0\n",
      "  0  0  0  0 -1  0  0 -1 -1  0  0 -1  0  0 -1  0  0  0  0  0 -1  0  0  0]\n"
     ]
    }
   ],
   "source": [
    "clustering = DBSCAN(eps=0.1, min_samples=40, metric='precomputed').fit(D_transformed)\n",
    "print(clustering.labels_)\n",
    "\n",
    "D_array = D_transformed.values\n",
    "\n",
    "mds = MDS(n_components=2, dissimilarity='precomputed', random_state=42)\n",
    "D_2d = mds.fit_transform(D_array)\n",
    "\n",
    "cluster_centers = np.array([np.mean(D_2d[clustering.labels_ == label], axis=0) for label in set(clustering.labels_)])\n",
    "\n",
    "features = D.index.values\n",
    "\n",
    "# 將特徵和分類結果組合成 DataFrame\n",
    "result_df = pd.DataFrame({'Feature': features, 'Cluster': clustering.labels_})\n",
    "\n",
    "result_df.to_csv(\"../result/dbscan_group.csv\",index=False)"
   ]
  },
  {
   "cell_type": "markdown",
   "metadata": {},
   "source": [
    "計算SC、DBI、CH 之不同指標分數，並輸出於終端機"
   ]
  },
  {
   "cell_type": "code",
   "execution_count": 4,
   "metadata": {},
   "outputs": [
    {
     "name": "stdout",
     "output_type": "stream",
     "text": [
      "Silhouette Coefficient: 0.2010742508219012,\n",
      "取值範圍在 [-1, 1] 之間。當 SC 接近 1 時，表示簇內樣本相似度高，簇間樣本相似度低，意味著同一簇內的樣本距離較近，不同簇的樣本相距較遠\n",
      "\n",
      "Davies-Bouldin Index: 1.8961479211299677,\n",
      "值最小为0，数值越小代表聚类效果越好,表示簇內的樣本越緊密，簇間的樣本越分散\n",
      "\n",
      "Calinski-Harabasz Index: 50.06344322808367,\n",
      "類別內部資料的協方差越小越好，類別之間的協方差越大越好，這樣的 Calinski-Harabasz 分數會高。總結起來一句話：CH index 的數值越大越好\n",
      "\n"
     ]
    }
   ],
   "source": [
    "silhouette = silhouette_score(D_transformed, clustering.labels_, metric='precomputed')\n",
    "print(f\"Silhouette Coefficient: {silhouette},\\n取值範圍在 [-1, 1] 之間。當 SC 接近 1 時，表示簇內樣本相似度高，簇間樣本相似度低，意味著同一簇內的樣本距離較近，不同簇的樣本相距較遠\\n\")\n",
    "\n",
    "dbi = davies_bouldin_score(D_transformed, clustering.labels_)\n",
    "print(f\"Davies-Bouldin Index: {dbi},\\n值最小为0，数值越小代表聚类效果越好,表示簇內的樣本越緊密，簇間的樣本越分散\\n\")\n",
    "\n",
    "ch = calinski_harabasz_score(D_transformed, clustering.labels_)\n",
    "print(f\"Calinski-Harabasz Index: {ch},\\n類別內部資料的協方差越小越好，類別之間的協方差越大越好，這樣的 Calinski-Harabasz 分數會高。總結起來一句話：CH index 的數值越大越好\\n\")"
   ]
  },
  {
   "cell_type": "markdown",
   "metadata": {},
   "source": [
    "產生可視化圖片"
   ]
  },
  {
   "cell_type": "code",
   "execution_count": 5,
   "metadata": {},
   "outputs": [
    {
     "ename": "NameError",
     "evalue": "name 'D_array' is not defined",
     "output_type": "error",
     "traceback": [
      "\u001b[1;31m---------------------------------------------------------------------------\u001b[0m",
      "\u001b[1;31mNameError\u001b[0m                                 Traceback (most recent call last)",
      "Cell \u001b[1;32mIn [5], line 4\u001b[0m\n\u001b[0;32m      1\u001b[0m fig, axs \u001b[38;5;241m=\u001b[39m plt\u001b[38;5;241m.\u001b[39msubplots(\u001b[38;5;241m2\u001b[39m,\u001b[38;5;241m2\u001b[39m,figsize\u001b[38;5;241m=\u001b[39m(\u001b[38;5;241m12\u001b[39m, \u001b[38;5;241m10\u001b[39m))\n\u001b[0;32m      3\u001b[0m \u001b[38;5;66;03m# 第一張子圖：DBSCAN聚類結果\u001b[39;00m\n\u001b[1;32m----> 4\u001b[0m axs[\u001b[38;5;241m0\u001b[39m,\u001b[38;5;241m0\u001b[39m]\u001b[38;5;241m.\u001b[39mscatter(\u001b[43mD_array\u001b[49m[:, \u001b[38;5;241m0\u001b[39m], D_array[:, \u001b[38;5;241m1\u001b[39m], c\u001b[38;5;241m=\u001b[39mclustering\u001b[38;5;241m.\u001b[39mlabels_, s\u001b[38;5;241m=\u001b[39m\u001b[38;5;241m30\u001b[39m)\n\u001b[0;32m      5\u001b[0m axs[\u001b[38;5;241m0\u001b[39m,\u001b[38;5;241m0\u001b[39m]\u001b[38;5;241m.\u001b[39mset_title(\u001b[38;5;124m'\u001b[39m\u001b[38;5;124mDBSCAN Clustering\u001b[39m\u001b[38;5;124m'\u001b[39m)\n\u001b[0;32m      7\u001b[0m \u001b[38;5;66;03m# 第二張子圖：原始數據的MDS降維結果\u001b[39;00m\n",
      "\u001b[1;31mNameError\u001b[0m: name 'D_array' is not defined"
     ]
    },
    {
     "data": {
      "image/png": "[encoded data removed]",
      "text/plain": [
       "<Figure size 1200x1000 with 4 Axes>"
      ]
     },
     "metadata": {},
     "output_type": "display_data"
    }
   ],
   "source": [
    "\n",
    "fig, axs = plt.subplots(2,2,figsize=(12, 10))\n",
    "\n",
    "# 第一張子圖：DBSCAN聚類結果\n",
    "axs[0,0].scatter(D_array[:, 0], D_array[:, 1], c=clustering.labels_, s=30)\n",
    "axs[0,0].set_title('DBSCAN Clustering')\n",
    "\n",
    "# 第二張子圖：原始數據的MDS降維結果\n",
    "axs[0,1].scatter(D_2d[:, 0], D_2d[:, 1], c=clustering.labels_, s=30)\n",
    "axs[0,1].set_title('MDS Visualization')\n",
    "\n",
    "# # 第三張子圖：群集中心\n",
    "# axs[1, 0].scatter(D_2d[:, 0], D_2d[:, 1], c=clustering.labels_, s=30)\n",
    "# axs[1, 0].set_title('Cluster Centers')\n",
    "\n",
    "# 第四張子圖：使用 t-SNE 进行降维\n",
    "tsne = TSNE(n_components=2, random_state=42)\n",
    "X_2d = tsne.fit_transform(D)\n",
    "\n",
    "# 可視化聚类結果\n",
    "axs[1, 1].scatter(X_2d[:, 0], X_2d[:, 1], c=clustering.labels_, cmap='viridis', s=30)\n",
    "axs[1, 1].set_title('t-SNE Visualization of DBSCAN Clustering')\n",
    "\n",
    "# 調整子圖間距\n",
    "plt.tight_layout()\n",
    "\n",
    "# 顯示畫布\n",
    "plt.show()"
   ]
  }
 ],
 "metadata": {
  "kernelspec": {
   "display_name": "base",
   "language": "python",
   "name": "python3"
  },
  "language_info": {
   "codemirror_mode": {
    "name": "ipython",
    "version": 3
   },
   "file_extension": ".py",
   "mimetype": "text/x-python",
   "name": "python",
   "nbconvert_exporter": "python",
   "pygments_lexer": "ipython3",
   "version": "3.10.7"
  }
 },
 "nbformat": 4,
 "nbformat_minor": 2
}
