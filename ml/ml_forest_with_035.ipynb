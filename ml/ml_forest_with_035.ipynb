{
  "cells": [
    {
      "cell_type": "markdown",
      "metadata": {},
      "source": [
        "一開始先把all_beta_normalized_train 改為 只保留 |dbeta| > 0.35的版本"
      ]
    },
    {
      "cell_type": "code",
      "execution_count": 5,
      "metadata": {},
      "outputs": [
        {
          "name": "stdout",
          "output_type": "stream",
          "text": [
            "   Unnamed: 0         1         2         3         4         5         6  \\\n",
            "0  cg00000957  0.825079  0.825079  0.836188  0.836188  0.855953  0.855953   \n",
            "1  cg00001349  0.690023  0.690023  0.802989  0.802989  0.744400  0.744400   \n",
            "2  cg00001583  0.095879  0.095879  0.030527  0.030527  0.058828  0.058828   \n",
            "3  cg00002028  0.037414  0.037414  0.028130  0.028130  0.036667  0.036667   \n",
            "4  cg00002837  0.393330  0.393330  0.278496  0.278496  0.354795  0.354795   \n",
            "\n",
            "          7         8         9  ...       881       882       883       884  \\\n",
            "0  0.856379  0.856379  0.833668  ...  0.901550  0.901550  0.873928  0.873928   \n",
            "1  0.826541  0.826541  0.683470  ...  0.864090  0.864090  0.878295  0.878295   \n",
            "2  0.103293  0.103293  0.054348  ...  0.788893  0.788893  0.566003  0.566003   \n",
            "3  0.026973  0.026973  0.032372  ...  0.053580  0.053580  0.037539  0.037539   \n",
            "4  0.371494  0.371494  0.372948  ...  0.799111  0.799111  0.654631  0.654631   \n",
            "\n",
            "        885       886       887       888       889       890  \n",
            "0  0.820407  0.820407  0.880965  0.880965  0.866919  0.866919  \n",
            "1  0.699745  0.699745  0.851946  0.851946  0.784683  0.784683  \n",
            "2  0.648568  0.648568  0.755152  0.755152  0.503848  0.503848  \n",
            "3  0.063686  0.063686  0.067983  0.067983  0.053181  0.053181  \n",
            "4  0.785799  0.785799  0.709136  0.709136  0.452765  0.452765  \n",
            "\n",
            "[5 rows x 891 columns]\n",
            "   Unnamed: 0     dbeta    gene       J,J      J,CZ      J,ER      J,F1  \\\n",
            "0  cg13670057  0.359170    ABL1  0.940415  0.940415  0.943005  0.940415   \n",
            "1  cg10266490  0.398036  ACOT11  0.650742  0.650742  0.650742  0.650742   \n",
            "2  cg10976772  0.355652   ACOT7  0.793987  0.793987  0.750308  0.793987   \n",
            "3  cg18770350  0.375086   ACTN2  0.867500  0.867500  0.875278  0.867500   \n",
            "4  cg09499849  0.372613   ACVR1  0.732394  0.732394  0.732394  0.732394   \n",
            "\n",
            "       CZ,J     CZ,CZ     CZ,ER  ...  Type  feature      cgi        feat.cgi  \\\n",
            "0  0.940415  0.940415  0.943005  ...    II     Body  opensea    Body-opensea   \n",
            "1  0.658163  0.658163  0.658163  ...    II   TSS200  opensea  TSS200-opensea   \n",
            "2  0.804277  0.804277  0.765314  ...    II     Body  opensea    Body-opensea   \n",
            "3  0.867500  0.867500  0.877556  ...     I  1stExon   island  1stExon-island   \n",
            "4  0.747926  0.747926  0.747926  ...    II    5'UTR  opensea   5'UTR-opensea   \n",
            "\n",
            "      UCSC_CpG_Islands_Name   DHS  Enhancer                       Phantom  \\\n",
            "0                       NaN   NaN      True                           NaN   \n",
            "1                       NaN   NaN       NaN                           NaN   \n",
            "2                       NaN  True      True                           NaN   \n",
            "3  chr1:236849472-236850323  True      True  high-CpG:234916417-234916759   \n",
            "4                       NaN   NaN      True                           NaN   \n",
            "\n",
            "   Probe_SNPs  Probe_SNPs_10  \n",
            "0         NaN            NaN  \n",
            "1         NaN            NaN  \n",
            "2         NaN            NaN  \n",
            "3         NaN            NaN  \n",
            "4         NaN            NaN  \n",
            "\n",
            "[5 rows x 59 columns]\n",
            "   Unnamed: 0         1         2         3         4         5         6  \\\n",
            "0  cg03520644  0.229817  0.229817  0.079642  0.079642  0.180363  0.180363   \n",
            "1  cg05047401  0.291908  0.291908  0.030616  0.030616  0.219142  0.219142   \n",
            "2  cg06355129  0.232184  0.232184  0.261523  0.261523  0.176360  0.176360   \n",
            "3  cg07790615  0.029336  0.029336  0.031738  0.031738  0.052790  0.052790   \n",
            "4  cg09106903  0.091505  0.091505  0.066134  0.066134  0.126135  0.126135   \n",
            "\n",
            "          7         8         9  ...       881       882       883       884  \\\n",
            "0  0.182330  0.182330  0.156993  ...  0.787966  0.787966  0.717043  0.717043   \n",
            "1  0.228138  0.228138  0.164601  ...  0.790363  0.790363  0.774816  0.774816   \n",
            "2  0.253273  0.253273  0.083640  ...  0.913858  0.913858  0.757479  0.757479   \n",
            "3  0.075713  0.075713  0.052144  ...  0.793958  0.793958  0.713349  0.713349   \n",
            "4  0.094016  0.094016  0.039025  ...  0.726509  0.726509  0.795497  0.795497   \n",
            "\n",
            "        885       886       887       888       889       890  \n",
            "0  0.732963  0.732963  0.653539  0.653539  0.324511  0.324511  \n",
            "1  0.738141  0.738141  0.780185  0.780185  0.721786  0.721786  \n",
            "2  0.796541  0.796541  0.798998  0.798998  0.744522  0.744522  \n",
            "3  0.809180  0.809180  0.798897  0.798897  0.584788  0.584788  \n",
            "4  0.632736  0.632736  0.779592  0.779592  0.643527  0.643527  \n",
            "\n",
            "[5 rows x 891 columns]\n"
          ]
        }
      ],
      "source": [
        "import pandas as pd\n",
        "\n",
        "nor = pd.read_csv(\"../champ_result/all_beta_normalized_train.csv\")\n",
        "bio = pd.read_csv(\"../result/result_test_cut_point_cross_vali_dmptest.csv\")\n",
        "\n",
        "print(nor.head())\n",
        "print(bio.head())\n",
        "\n",
        "df_mix = pd.merge(nor, bio,how='inner',left_on=\"Unnamed: 0\",right_on= \"Unnamed: 0\")\n",
        "\n",
        "result_df = df_mix[nor.columns]\n",
        "\n",
        "print(result_df.head())\n",
        "\n",
        "result_df.to_csv(\"../result/all_beta_normalized_train_035.csv\",index=False)"
      ]
    },
    {
      "cell_type": "markdown",
      "metadata": {},
      "source": [
        "取得套件"
      ]
    },
    {
      "cell_type": "code",
      "execution_count": 6,
      "metadata": {},
      "outputs": [],
      "source": [
        "from sklearn.ensemble import RandomForestClassifier\n",
        "from sklearn.inspection import permutation_importance\n",
        "from sklearn import datasets\n",
        "from sklearn.model_selection import train_test_split\n",
        "import numpy as np\n",
        "import pandas as pd\n",
        "from matplotlib import pyplot as plt"
      ]
    },
    {
      "cell_type": "markdown",
      "metadata": {},
      "source": [
        "拿取train 資料"
      ]
    },
    {
      "cell_type": "code",
      "execution_count": 42,
      "metadata": {},
      "outputs": [],
      "source": [
        "normalized_train = pd.read_csv('../result/all_beta_normalized_train_0.4.csv')\n",
        "\n",
        "normalized_test = pd.read_csv('../result/all_beta_normalized_test_0.4.csv')\n",
        "\n",
        "X = pd.concat([normalized_train.iloc[:,1::2], normalized_test.iloc[:,1::2]], axis=1, ignore_index=True)\n",
        "X = X.T\n",
        "# X_train = normalized_train.iloc[:, 1::2]\n",
        "# X_test = normalized_test.iloc[:, 1::2]"
      ]
    },
    {
      "cell_type": "markdown",
      "metadata": {},
      "source": [
        "將資料作為每個人的特徵"
      ]
    },
    {
      "cell_type": "code",
      "execution_count": 43,
      "metadata": {},
      "outputs": [],
      "source": [
        "Y = np.array([ (0 if i < 47 else 1)  for i in range(445)] + [ (0 if i < 50 else 1)  for i in range(450)])"
      ]
    },
    {
      "cell_type": "code",
      "execution_count": 44,
      "metadata": {},
      "outputs": [
        {
          "name": "stdout",
          "output_type": "stream",
          "text": [
            "(895, 139)\n",
            "(895,)\n"
          ]
        }
      ],
      "source": [
        "print(X.shape)\n",
        "print(Y.shape)"
      ]
    },
    {
      "cell_type": "markdown",
      "metadata": {},
      "source": [
        "開始預測"
      ]
    },
    {
      "cell_type": "code",
      "execution_count": 45,
      "metadata": {},
      "outputs": [
        {
          "name": "stdout",
          "output_type": "stream",
          "text": [
            "訓練集:  1.0\n",
            "測試集:  0.9832402234636871\n"
          ]
        }
      ],
      "source": [
        "\n",
        "# 建立 Random Forest Classifier 模型\n",
        "randomForestModel = RandomForestClassifier(n_estimators=100, criterion = 'gini')\n",
        "# 使用訓練資料訓練模型\n",
        "\n",
        "X_train, X_test, Y_train, Y_test = train_test_split(X, Y,test_size=0.2,random_state=0)\n",
        "\n",
        "randomForestModel.fit(X_train, Y_train)\n",
        "# 使用訓練資料預測分類\n",
        "predicted = randomForestModel.predict(X_train)\n",
        "predicted_t = randomForestModel.predict(X_test)\n",
        "\n",
        "print('訓練集: ',randomForestModel.score(X_train,Y_train))\n",
        "print('測試集: ',randomForestModel.score(X_test,Y_test))\n",
        "\n",
        "# 預測成功的比例\n"
      ]
    },
    {
      "cell_type": "code",
      "execution_count": 46,
      "metadata": {},
      "outputs": [
        {
          "data": {
            "image/png": "[encoded data removed]",
            "text/plain": [
              "<Figure size 640x480 with 1 Axes>"
            ]
          },
          "metadata": {},
          "output_type": "display_data"
        }
      ],
      "source": [
        "result = permutation_importance(randomForestModel, X_train, Y_train, n_repeats=10, random_state=0)\n",
        "#feature_importance = dict(zip(X.columns, result.importances_mean))\n",
        "permutation_importance_result = pd.DataFrame({'Feature': X_train.columns, 'Importance': result.importances_mean})\n",
        "permutation_importance_result.sort_values(by='Importance', ascending=False)\n",
        "# draw graph of feature importances for better visualization\n",
        "permutation_importance_result.sort_values(by='Importance', ascending=False).head(10).plot(kind='barh', x='Feature', y='Importance')\n",
        "plt.show()\n"
      ]
    },
    {
      "cell_type": "markdown",
      "metadata": {},
      "source": [
        "將特徵重要程度輸出並匯出"
      ]
    },
    {
      "cell_type": "code",
      "execution_count": 48,
      "metadata": {},
      "outputs": [
        {
          "name": "stdout",
          "output_type": "stream",
          "text": [
            "特徵重要程度:  [1.32234433e-02 2.88823522e-04 1.00550856e-03 4.82653004e-03\n",
            " 6.20264592e-04 5.69630535e-04 2.57177804e-02 1.60466236e-02\n",
            " 6.18858406e-04 4.43388471e-04 5.22003848e-03 1.96193386e-02\n",
            " 9.70786683e-04 2.07725652e-05 3.35585189e-04 1.10795744e-03\n",
            " 3.68910169e-02 3.55409146e-04 1.75350275e-03 1.04700054e-03\n",
            " 4.96394732e-04 8.00104258e-04 8.03985057e-04 8.53056441e-04\n",
            " 8.63316192e-02 1.21832292e-03 2.02025345e-04 2.36023392e-03\n",
            " 3.27925250e-02 1.46726730e-03 1.54852284e-03 1.18752764e-04\n",
            " 1.38407337e-02 2.62204723e-04 3.54156920e-03 3.17352394e-02\n",
            " 1.00896153e-03 6.05026369e-04 4.89855178e-03 3.28142577e-03\n",
            " 2.64446985e-03 1.87868778e-03 1.78532884e-04 3.53707609e-03\n",
            " 5.17433509e-04 9.56697622e-04 3.73543377e-03 2.05202619e-03\n",
            " 1.23183218e-02 4.31079789e-04 2.50764504e-02 8.88734602e-03\n",
            " 3.78607980e-02 2.77170367e-03 1.31009395e-02 3.47124484e-04\n",
            " 2.51687282e-02 9.51264988e-04 6.55373074e-03 2.71652777e-03\n",
            " 1.72826232e-04 1.53970217e-04 2.89413214e-03 1.34231223e-04\n",
            " 1.72079420e-03 1.46845841e-03 2.15983819e-04 1.90165070e-02\n",
            " 4.18173218e-02 8.55152669e-03 2.23638488e-03 5.54809945e-03\n",
            " 3.60761388e-04 3.38074236e-03 1.50291908e-03 3.42986706e-02\n",
            " 1.64483072e-03 4.38178173e-03 1.35519444e-02 1.77941661e-03\n",
            " 4.61172182e-02 2.70172277e-03 8.76353772e-03 3.05134822e-02\n",
            " 1.40934903e-02 4.34130093e-04 2.95532475e-03 1.20576254e-02\n",
            " 8.26778384e-03 2.46183345e-03 1.88043575e-02 6.92910352e-04\n",
            " 1.25651080e-03 1.98817665e-02 6.38298917e-04 1.39329533e-03\n",
            " 9.73094781e-04 6.03381597e-04 1.29931761e-03 1.49948894e-02\n",
            " 6.47504750e-04 4.89568776e-04 3.30208200e-03 7.57586888e-04\n",
            " 2.66937350e-04 1.70493542e-02 2.13325843e-03 4.70913426e-04\n",
            " 7.76642975e-04 2.87591819e-02 2.50429048e-04 2.18568961e-03\n",
            " 4.10541157e-03 1.92932461e-04 6.27440827e-04 5.11956383e-04\n",
            " 1.08316390e-03 4.42310668e-03 4.66949751e-04 4.38163042e-03\n",
            " 8.14512677e-04 6.47614353e-04 2.14869649e-03 4.03512134e-04\n",
            " 2.41161767e-02 8.09798319e-04 1.58875608e-02 5.41510186e-04\n",
            " 2.15917475e-04 1.28594348e-02 6.79557584e-04 1.37707484e-03\n",
            " 7.94620727e-03 9.56456524e-03 7.04571021e-03 1.97914599e-03\n",
            " 4.47917768e-03 1.15108773e-03 3.01825686e-02]\n"
          ]
        }
      ],
      "source": [
        "\n",
        "print('特徵重要程度: ',randomForestModel.feature_importances_)\n",
        "\n",
        "df = pd.DataFrame({\n",
        "    'Probe_ID': normalized_train['Unnamed: 0'],\n",
        "    'import_level_in_forest': randomForestModel.feature_importances_\n",
        "})\n",
        "\n",
        "# print(df)\n",
        "\n",
        "df.to_csv(\"../result/imp_level.csv\",index=False)"
      ]
    },
    {
      "cell_type": "markdown",
      "metadata": {},
      "source": [
        "使用cross validation 並拓展多棵樹(100~1100)"
      ]
    },
    {
      "cell_type": "code",
      "execution_count": 11,
      "metadata": {},
      "outputs": [
        {
          "name": "stdout",
          "output_type": "stream",
          "text": [
            "[0.98876404 0.98876404 0.96629213 0.98876404 0.98876404]\n",
            "0.9842696629213483\n"
          ]
        },
        {
          "data": {
            "image/png": "[encoded data removed]",
            "text/plain": [
              "<Figure size 640x480 with 1 Axes>"
            ]
          },
          "metadata": {},
          "output_type": "display_data"
        }
      ],
      "source": [
        "from sklearn.model_selection import cross_val_score\n",
        "import matplotlib.pyplot as plt\n",
        "\n",
        "randomForestModel = RandomForestClassifier(n_estimators=100, criterion = 'gini')\n",
        "\n",
        "scores = cross_val_score(randomForestModel,x,y,cv=5,scoring='accuracy')\n",
        "print(scores)\n",
        "print(scores.mean())\n",
        "\n",
        "k_range = range(100,1100,100)\n",
        "rf_score_n_estimators = []\n",
        "\n",
        "for i in range(100,1100,100):\n",
        "    randomForestModel = RandomForestClassifier(n_estimators=i, criterion = 'gini')\n",
        "    scores = cross_val_score(randomForestModel,x,y,cv=5,scoring='accuracy')\n",
        "    rf_score_n_estimators.append(scores.mean())\n",
        "\n",
        "# print(df)\n",
        "\n",
        "plt.plot(k_range,rf_score_n_estimators)\n",
        "plt.ylim(0.98,1.0)\n",
        "plt.xlabel('RandomForest estimators value')\n",
        "plt.ylabel('Cross-Validated Accuracy')\n",
        "plt.xticks(k_range)\n",
        "plt.title('use cross vaildation to find best value estimators')\n",
        "plt.show()"
      ]
    },
    {
      "cell_type": "code",
      "execution_count": 14,
      "metadata": {},
      "outputs": [
        {
          "name": "stdout",
          "output_type": "stream",
          "text": [
            "訓練集:  1.0\n",
            "測試集:  0.9775280898876404\n",
            "99\n",
            "110\n",
            "訓練集:  1.0\n",
            "測試集:  1.0\n",
            "99\n",
            "110\n",
            "訓練集:  1.0\n",
            "測試集:  1.0\n",
            "99\n",
            "110\n",
            "訓練集:  1.0\n",
            "測試集:  1.0\n",
            "99\n",
            "110\n",
            "訓練集:  1.0\n",
            "測試集:  0.9887640449438202\n",
            "99\n",
            "110\n",
            "[0.98876404 0.98876404 0.97752809 0.98876404 0.98876404]\n",
            "0.9865168539325841\n",
            "訓練集:  1.0\n",
            "測試集:  0.9662921348314607\n",
            "53\n",
            "71\n",
            "訓練集:  1.0\n",
            "測試集:  0.9887640449438202\n",
            "53\n",
            "71\n",
            "訓練集:  1.0\n",
            "測試集:  0.9887640449438202\n",
            "53\n",
            "71\n",
            "訓練集:  1.0\n",
            "測試集:  1.0\n",
            "53\n",
            "71\n",
            "訓練集:  1.0\n",
            "測試集:  0.9775280898876404\n",
            "53\n",
            "71\n",
            "[0.98876404 0.97752809 0.97752809 0.98876404 0.98876404]\n",
            "0.9842696629213481\n",
            "訓練集:  1.0\n",
            "測試集:  0.9775280898876404\n",
            "159\n",
            "192\n",
            "訓練集:  1.0\n",
            "測試集:  1.0\n",
            "159\n",
            "192\n",
            "訓練集:  1.0\n",
            "測試集:  0.9887640449438202\n",
            "159\n",
            "192\n",
            "訓練集:  1.0\n",
            "測試集:  1.0\n",
            "159\n",
            "192\n",
            "訓練集:  1.0\n",
            "測試集:  0.9887640449438202\n",
            "159\n",
            "192\n",
            "[0.98876404 0.98876404 0.96629213 0.98876404 0.98876404]\n",
            "0.9842696629213483\n"
          ]
        }
      ],
      "source": [
        "gene_name = pd.read_csv('../result/DMP_logFC.csv')\n",
        "for i in range(3):\n",
        "    dc = []\n",
        "    cl_ = str(i+1)\n",
        "    cl_f = pd.read_csv(\"../result/cluster_rank_\"+cl_+\".csv\")\n",
        "\n",
        "    normalized_train_c = normalized_train[normalized_train['Unnamed: 0'].isin(cl_f['Probe_ID'])]\n",
        "\n",
        "    X_train = normalized_train_c.iloc[:, 1::2]\n",
        "        \n",
        "    x = []\n",
        "\n",
        "    for i in range(445):\n",
        "        X = X_train.iloc[:, i]\n",
        "\n",
        "        X = X.values.flatten().tolist()\n",
        "\n",
        "        x.append(X)\n",
        "        \n",
        "    randomForestModel = RandomForestClassifier(n_estimators=80, criterion = 'gini')\n",
        "    # 使用訓練資料訓練模型\n",
        "\n",
        "    result_df = pd.DataFrame()\n",
        "    for i in range(5):\n",
        "        X_train, X_test, y_train, y_test = train_test_split(X, Y, test_size=0.2, random_state=i)\n",
        "        #random_state => 改變其亂數，不然將會三次都切到同樣的數據\n",
        "            # print(y_train) #確認是否改變，\n",
        "        randomForestModel.fit(X_train, y_train)\n",
        "        # 使用訓練資料預測分類\n",
        "        predicted = randomForestModel.predict(X_train)\n",
        "        predicted_t = randomForestModel.predict(X_test)\n",
        "\n",
        "        print('訓練集: ',randomForestModel.score(X_train,y_train))\n",
        "        print('測試集: ',randomForestModel.score(X_test,y_test))\n",
        "\n",
        "        # print('特徵重要程度: ',randomForestModel.feature_importances_)\n",
        "\n",
        "        df = pd.DataFrame({\n",
        "            'Probe_ID': normalized_train_c['Unnamed: 0'],\n",
        "            'import_level_in_forest': randomForestModel.feature_importances_\n",
        "        })\n",
        "        \n",
        "        df_mix = pd.merge(df, gene_name,how='inner',left_on=\"Probe_ID\",right_on= \"ID\")\n",
        "\n",
        "        print(len(df_mix))\n",
        "        print(len(df))\n",
        "        df_mix = df_mix[['Probe_ID','import_level_in_forest','gene']]\n",
        "        df_mix = df_mix.sort_values(by='import_level_in_forest', ascending=False)\n",
        "        # df_mix.to_csv(\"../result/imp_level_cl_\"+cl_+\"/result\"+str(i+1)+\".csv\",index=False)\n",
        "        df_mix['iteration'] = i + 1  # 添加一列表示迭代次數\n",
        "        # 附加到結果資料框\n",
        "        result_df = pd.concat([result_df, df_mix], axis=1)\n",
        "\n",
        "   \n",
        "    result_df.to_csv(\"../result/imp_level_cl_\"+cl_+\"/result_all.csv\",index=False)\n",
        "    randomForestModel = RandomForestClassifier(n_estimators=80, criterion = 'gini')\n",
        "\n",
        "    scores = cross_val_score(randomForestModel,x,y,cv=5,scoring='accuracy')\n",
        "    print(scores)\n",
        "    print(scores.mean())\n"
      ]
    }
  ],
  "metadata": {
    "kernelspec": {
      "display_name": "Python 3",
      "language": "python",
      "name": "python3"
    },
    "language_info": {
      "codemirror_mode": {
        "name": "ipython",
        "version": 3
      },
      "file_extension": ".py",
      "mimetype": "text/x-python",
      "name": "python",
      "nbconvert_exporter": "python",
      "pygments_lexer": "ipython3",
      "version": "3.10.11"
    }
  },
  "nbformat": 4,
  "nbformat_minor": 2
}
