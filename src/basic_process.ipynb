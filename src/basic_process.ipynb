{
 "cells": [
  {
   "cell_type": "code",
   "execution_count": 1,
   "metadata": {},
   "outputs": [],
   "source": [
    "import pandas as pd"
   ]
  },
  {
   "cell_type": "code",
   "execution_count": 2,
   "metadata": {},
   "outputs": [],
   "source": [
    "train = pd.read_csv(\"../champ_result/all_beta_normalized.csv\")"
   ]
  },
  {
   "cell_type": "code",
   "execution_count": 3,
   "metadata": {},
   "outputs": [],
   "source": [
    "id_list = pd.read_csv(\"../result/id_list.txt\", header=None)"
   ]
  },
  {
   "cell_type": "code",
   "execution_count": 4,
   "metadata": {},
   "outputs": [],
   "source": [
    "train = train[train[\"Unnamed: 0\"].isin(id_list[0])]"
   ]
  },
  {
   "cell_type": "code",
   "execution_count": 5,
   "metadata": {},
   "outputs": [],
   "source": [
    "train_normal = train.iloc[:, 1:95:2].T\n",
    "train_tumor = train.iloc[:,95::2].T"
   ]
  },
  {
   "cell_type": "markdown",
   "metadata": {},
   "source": [
    "##### Calculate Δβ"
   ]
  },
  {
   "cell_type": "code",
   "execution_count": 6,
   "metadata": {},
   "outputs": [],
   "source": [
    "# remove outlier based on every column\n",
    "def IQR(df):\n",
    "    Q1 = df.quantile(0.25)\n",
    "    Q3 = df.quantile(0.75)\n",
    "    IQR = Q3 - Q1\n",
    "    upper_fence = Q3 + IQR*1.5\n",
    "    lower_fence = Q1 - IQR*1.5\n",
    "    return upper_fence,lower_fence\n",
    "def no_outlier(df):\n",
    "    upper_fence, lower_fence = IQR(df)\n",
    "    ddf=df[(df>lower_fence)&(df<upper_fence)]\n",
    "    return ddf"
   ]
  },
  {
   "cell_type": "code",
   "execution_count": 7,
   "metadata": {},
   "outputs": [],
   "source": [
    "train_normal = no_outlier(train_normal)\n",
    "train_tumor = no_outlier(train_tumor)"
   ]
  },
  {
   "cell_type": "code",
   "execution_count": 8,
   "metadata": {},
   "outputs": [],
   "source": [
    "train_normal_avg = train_normal.mean(skipna=True, axis = 0)"
   ]
  },
  {
   "cell_type": "code",
   "execution_count": 9,
   "metadata": {},
   "outputs": [],
   "source": [
    "train_tumor=(train_tumor).subtract(train_normal_avg, axis = 1)"
   ]
  },
  {
   "cell_type": "code",
   "execution_count": 10,
   "metadata": {},
   "outputs": [],
   "source": [
    "train_tumor=no_outlier(train_tumor)"
   ]
  },
  {
   "cell_type": "code",
   "execution_count": 11,
   "metadata": {},
   "outputs": [],
   "source": [
    "train_tumor_mean = train_tumor.mean(skipna=True, axis = 0)"
   ]
  },
  {
   "cell_type": "code",
   "execution_count": 12,
   "metadata": {},
   "outputs": [
    {
     "data": {
      "text/html": [
       "<div>\n",
       "<style scoped>\n",
       "    .dataframe tbody tr th:only-of-type {\n",
       "        vertical-align: middle;\n",
       "    }\n",
       "\n",
       "    .dataframe tbody tr th {\n",
       "        vertical-align: top;\n",
       "    }\n",
       "\n",
       "    .dataframe thead th {\n",
       "        text-align: right;\n",
       "    }\n",
       "</style>\n",
       "<table border=\"1\" class=\"dataframe\">\n",
       "  <thead>\n",
       "    <tr style=\"text-align: right;\">\n",
       "      <th></th>\n",
       "      <th>Unnamed: 0</th>\n",
       "      <th>dbeta</th>\n",
       "    </tr>\n",
       "  </thead>\n",
       "  <tbody>\n",
       "    <tr>\n",
       "      <th>0</th>\n",
       "      <td>cg00000957</td>\n",
       "      <td>0.017616</td>\n",
       "    </tr>\n",
       "    <tr>\n",
       "      <th>1</th>\n",
       "      <td>cg00001349</td>\n",
       "      <td>0.032420</td>\n",
       "    </tr>\n",
       "    <tr>\n",
       "      <th>2</th>\n",
       "      <td>cg00001583</td>\n",
       "      <td>0.316867</td>\n",
       "    </tr>\n",
       "    <tr>\n",
       "      <th>3</th>\n",
       "      <td>cg00002028</td>\n",
       "      <td>0.014177</td>\n",
       "    </tr>\n",
       "    <tr>\n",
       "      <th>4</th>\n",
       "      <td>cg00002837</td>\n",
       "      <td>0.120412</td>\n",
       "    </tr>\n",
       "    <tr>\n",
       "      <th>...</th>\n",
       "      <td>...</td>\n",
       "      <td>...</td>\n",
       "    </tr>\n",
       "    <tr>\n",
       "      <th>349415</th>\n",
       "      <td>cg27656573</td>\n",
       "      <td>0.003831</td>\n",
       "    </tr>\n",
       "    <tr>\n",
       "      <th>349416</th>\n",
       "      <td>cg27657363</td>\n",
       "      <td>-0.013388</td>\n",
       "    </tr>\n",
       "    <tr>\n",
       "      <th>349417</th>\n",
       "      <td>cg27657537</td>\n",
       "      <td>0.038450</td>\n",
       "    </tr>\n",
       "    <tr>\n",
       "      <th>349418</th>\n",
       "      <td>cg27662611</td>\n",
       "      <td>0.003935</td>\n",
       "    </tr>\n",
       "    <tr>\n",
       "      <th>349419</th>\n",
       "      <td>cg27665648</td>\n",
       "      <td>-0.011709</td>\n",
       "    </tr>\n",
       "  </tbody>\n",
       "</table>\n",
       "<p>341413 rows × 2 columns</p>\n",
       "</div>"
      ],
      "text/plain": [
       "        Unnamed: 0     dbeta\n",
       "0       cg00000957  0.017616\n",
       "1       cg00001349  0.032420\n",
       "2       cg00001583  0.316867\n",
       "3       cg00002028  0.014177\n",
       "4       cg00002837  0.120412\n",
       "...            ...       ...\n",
       "349415  cg27656573  0.003831\n",
       "349416  cg27657363 -0.013388\n",
       "349417  cg27657537  0.038450\n",
       "349418  cg27662611  0.003935\n",
       "349419  cg27665648 -0.011709\n",
       "\n",
       "[341413 rows x 2 columns]"
      ]
     },
     "execution_count": 12,
     "metadata": {},
     "output_type": "execute_result"
    }
   ],
   "source": [
    "Δβ = pd.merge(train.iloc[:,:1], pd.DataFrame(train_tumor_mean, columns = [\"dbeta\"]), left_index=True, right_index=True)\n",
    "Δβ"
   ]
  },
  {
   "cell_type": "code",
   "execution_count": 13,
   "metadata": {},
   "outputs": [
    {
     "name": "stdout",
     "output_type": "stream",
     "text": [
      "raw train shape: (268112, 24)\n",
      "after dropna: (206165, 2)\n"
     ]
    }
   ],
   "source": [
    "dmp_train = pd.read_csv(\"../champ_result/DMP_result.csv\")\n",
    "print(f\"raw train shape: {dmp_train.shape}\")\n",
    "dmp_train = dmp_train[[\"Unnamed: 0\", \"gene\"]]\n",
    "dmp_train.dropna(inplace=True)\n",
    "print(f\"after dropna: {dmp_train.shape}\")"
   ]
  },
  {
   "cell_type": "code",
   "execution_count": 14,
   "metadata": {},
   "outputs": [],
   "source": [
    "result = pd.merge(Δβ, dmp_train, on=\"Unnamed: 0\", how=\"inner\")"
   ]
  },
  {
   "cell_type": "code",
   "execution_count": 15,
   "metadata": {},
   "outputs": [],
   "source": [
    "def find_max_dBeta_grouped(group):\n",
    "    idx_max = group['dbeta'].abs().idxmax()\n",
    "    return group.loc[idx_max]\n",
    "\n",
    "result_max_per_gene = result.groupby(\"gene\").apply(find_max_dBeta_grouped).reset_index(drop=True)"
   ]
  },
  {
   "cell_type": "code",
   "execution_count": 16,
   "metadata": {},
   "outputs": [],
   "source": [
    "single = pd.read_csv('../comorbidity/matchgene174_single_3Y10__OR2.txt', sep='\\t', header=None)"
   ]
  },
  {
   "cell_type": "code",
   "execution_count": 17,
   "metadata": {},
   "outputs": [
    {
     "data": {
      "text/html": [
       "<div>\n",
       "<style scoped>\n",
       "    .dataframe tbody tr th:only-of-type {\n",
       "        vertical-align: middle;\n",
       "    }\n",
       "\n",
       "    .dataframe tbody tr th {\n",
       "        vertical-align: top;\n",
       "    }\n",
       "\n",
       "    .dataframe thead th {\n",
       "        text-align: right;\n",
       "    }\n",
       "</style>\n",
       "<table border=\"1\" class=\"dataframe\">\n",
       "  <thead>\n",
       "    <tr style=\"text-align: right;\">\n",
       "      <th></th>\n",
       "      <th>Unnamed: 0</th>\n",
       "      <th>dbeta</th>\n",
       "      <th>gene</th>\n",
       "    </tr>\n",
       "  </thead>\n",
       "  <tbody>\n",
       "    <tr>\n",
       "      <th>3</th>\n",
       "      <td>cg00134295</td>\n",
       "      <td>0.207143</td>\n",
       "      <td>A2M</td>\n",
       "    </tr>\n",
       "    <tr>\n",
       "      <th>4</th>\n",
       "      <td>cg15769388</td>\n",
       "      <td>-0.143162</td>\n",
       "      <td>A2ML1</td>\n",
       "    </tr>\n",
       "    <tr>\n",
       "      <th>11</th>\n",
       "      <td>cg13001012</td>\n",
       "      <td>-0.056940</td>\n",
       "      <td>AADAC</td>\n",
       "    </tr>\n",
       "    <tr>\n",
       "      <th>14</th>\n",
       "      <td>cg00150882</td>\n",
       "      <td>0.157614</td>\n",
       "      <td>AADAT</td>\n",
       "    </tr>\n",
       "    <tr>\n",
       "      <th>15</th>\n",
       "      <td>cg20940607</td>\n",
       "      <td>0.009114</td>\n",
       "      <td>AAGAB</td>\n",
       "    </tr>\n",
       "    <tr>\n",
       "      <th>...</th>\n",
       "      <td>...</td>\n",
       "      <td>...</td>\n",
       "      <td>...</td>\n",
       "    </tr>\n",
       "    <tr>\n",
       "      <th>18285</th>\n",
       "      <td>cg07135797</td>\n",
       "      <td>-0.288723</td>\n",
       "      <td>ZNRD1</td>\n",
       "    </tr>\n",
       "    <tr>\n",
       "      <th>18288</th>\n",
       "      <td>cg20080983</td>\n",
       "      <td>-0.261198</td>\n",
       "      <td>ZNRF3</td>\n",
       "    </tr>\n",
       "    <tr>\n",
       "      <th>18304</th>\n",
       "      <td>cg14231297</td>\n",
       "      <td>0.401591</td>\n",
       "      <td>ZSCAN18</td>\n",
       "    </tr>\n",
       "    <tr>\n",
       "      <th>18324</th>\n",
       "      <td>cg14642833</td>\n",
       "      <td>-0.018417</td>\n",
       "      <td>ZWINT</td>\n",
       "    </tr>\n",
       "    <tr>\n",
       "      <th>18328</th>\n",
       "      <td>cg09704136</td>\n",
       "      <td>0.236211</td>\n",
       "      <td>ZYX</td>\n",
       "    </tr>\n",
       "  </tbody>\n",
       "</table>\n",
       "<p>7858 rows × 3 columns</p>\n",
       "</div>"
      ],
      "text/plain": [
       "       Unnamed: 0     dbeta     gene\n",
       "3      cg00134295  0.207143      A2M\n",
       "4      cg15769388 -0.143162    A2ML1\n",
       "11     cg13001012 -0.056940    AADAC\n",
       "14     cg00150882  0.157614    AADAT\n",
       "15     cg20940607  0.009114    AAGAB\n",
       "...           ...       ...      ...\n",
       "18285  cg07135797 -0.288723    ZNRD1\n",
       "18288  cg20080983 -0.261198    ZNRF3\n",
       "18304  cg14231297  0.401591  ZSCAN18\n",
       "18324  cg14642833 -0.018417    ZWINT\n",
       "18328  cg09704136  0.236211      ZYX\n",
       "\n",
       "[7858 rows x 3 columns]"
      ]
     },
     "execution_count": 17,
     "metadata": {},
     "output_type": "execute_result"
    }
   ],
   "source": [
    "result_max_per_gene_single = result_max_per_gene[result_max_per_gene['gene'].isin(single[0])]\n",
    "result_max_per_gene_single"
   ]
  },
  {
   "cell_type": "code",
   "execution_count": 18,
   "metadata": {},
   "outputs": [],
   "source": [
    "result_max_per_gene_single.to_csv(\"../result/result_max_per_gene_single.csv\", index=False)"
   ]
  },
  {
   "cell_type": "code",
   "execution_count": 23,
   "metadata": {},
   "outputs": [
    {
     "data": {
      "text/html": [
       "<div>\n",
       "<style scoped>\n",
       "    .dataframe tbody tr th:only-of-type {\n",
       "        vertical-align: middle;\n",
       "    }\n",
       "\n",
       "    .dataframe tbody tr th {\n",
       "        vertical-align: top;\n",
       "    }\n",
       "\n",
       "    .dataframe thead th {\n",
       "        text-align: right;\n",
       "    }\n",
       "</style>\n",
       "<table border=\"1\" class=\"dataframe\">\n",
       "  <thead>\n",
       "    <tr style=\"text-align: right;\">\n",
       "      <th></th>\n",
       "      <th>Unnamed: 0</th>\n",
       "      <th>dbeta</th>\n",
       "      <th>gene</th>\n",
       "    </tr>\n",
       "  </thead>\n",
       "  <tbody>\n",
       "    <tr>\n",
       "      <th>91</th>\n",
       "      <td>cg13670057</td>\n",
       "      <td>0.359170</td>\n",
       "      <td>ABL1</td>\n",
       "    </tr>\n",
       "    <tr>\n",
       "      <th>146</th>\n",
       "      <td>cg10266490</td>\n",
       "      <td>0.403402</td>\n",
       "      <td>ACOT11</td>\n",
       "    </tr>\n",
       "    <tr>\n",
       "      <th>151</th>\n",
       "      <td>cg10976772</td>\n",
       "      <td>0.365513</td>\n",
       "      <td>ACOT7</td>\n",
       "    </tr>\n",
       "    <tr>\n",
       "      <th>196</th>\n",
       "      <td>cg18770350</td>\n",
       "      <td>0.375086</td>\n",
       "      <td>ACTN2</td>\n",
       "    </tr>\n",
       "    <tr>\n",
       "      <th>210</th>\n",
       "      <td>cg09499849</td>\n",
       "      <td>0.383661</td>\n",
       "      <td>ACVR1</td>\n",
       "    </tr>\n",
       "    <tr>\n",
       "      <th>...</th>\n",
       "      <td>...</td>\n",
       "      <td>...</td>\n",
       "      <td>...</td>\n",
       "    </tr>\n",
       "    <tr>\n",
       "      <th>17772</th>\n",
       "      <td>cg04738965</td>\n",
       "      <td>0.408686</td>\n",
       "      <td>ZIC1</td>\n",
       "    </tr>\n",
       "    <tr>\n",
       "      <th>17774</th>\n",
       "      <td>cg16768018</td>\n",
       "      <td>0.462100</td>\n",
       "      <td>ZIC4</td>\n",
       "    </tr>\n",
       "    <tr>\n",
       "      <th>17775</th>\n",
       "      <td>cg20985450</td>\n",
       "      <td>0.402938</td>\n",
       "      <td>ZIC5</td>\n",
       "    </tr>\n",
       "    <tr>\n",
       "      <th>18045</th>\n",
       "      <td>cg21183523</td>\n",
       "      <td>0.381336</td>\n",
       "      <td>ZNF521</td>\n",
       "    </tr>\n",
       "    <tr>\n",
       "      <th>18304</th>\n",
       "      <td>cg14231297</td>\n",
       "      <td>0.401591</td>\n",
       "      <td>ZSCAN18</td>\n",
       "    </tr>\n",
       "  </tbody>\n",
       "</table>\n",
       "<p>388 rows × 3 columns</p>\n",
       "</div>"
      ],
      "text/plain": [
       "       Unnamed: 0     dbeta     gene\n",
       "91     cg13670057  0.359170     ABL1\n",
       "146    cg10266490  0.403402   ACOT11\n",
       "151    cg10976772  0.365513    ACOT7\n",
       "196    cg18770350  0.375086    ACTN2\n",
       "210    cg09499849  0.383661    ACVR1\n",
       "...           ...       ...      ...\n",
       "17772  cg04738965  0.408686     ZIC1\n",
       "17774  cg16768018  0.462100     ZIC4\n",
       "17775  cg20985450  0.402938     ZIC5\n",
       "18045  cg21183523  0.381336   ZNF521\n",
       "18304  cg14231297  0.401591  ZSCAN18\n",
       "\n",
       "[388 rows x 3 columns]"
      ]
     },
     "execution_count": 23,
     "metadata": {},
     "output_type": "execute_result"
    }
   ],
   "source": [
    "check = result_max_per_gene_single.loc[result_max_per_gene_single[\"dbeta\"].abs() > 0.35]\n",
    "check"
   ]
  },
  {
   "cell_type": "code",
   "execution_count": null,
   "metadata": {},
   "outputs": [],
   "source": []
  }
 ],
 "metadata": {
  "kernelspec": {
   "display_name": "venv",
   "language": "python",
   "name": "python3"
  },
  "language_info": {
   "codemirror_mode": {
    "name": "ipython",
    "version": 3
   },
   "file_extension": ".py",
   "mimetype": "text/x-python",
   "name": "python",
   "nbconvert_exporter": "python",
   "pygments_lexer": "ipython3",
   "version": "3.10.11"
  }
 },
 "nbformat": 4,
 "nbformat_minor": 2
}
