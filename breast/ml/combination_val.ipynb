{
 "cells": [
  {
   "cell_type": "markdown",
   "metadata": {},
   "source": [
    "#### Combination Validation Filter\n",
    "#### Step\n",
    "1. Execute the prediction combination function.\n",
    "2. Input the selected gene file.\n",
    "3. Create training/testing set labels.\n",
    "4. Select one gene from each group for combination.\n",
    "5. Create training/testing datasets.\n",
    "6. Adjust model parameters.\n",
    "7. Perform model prediction.\n",
    "8. Output and save the final prediction results.\n",
    "#### Importance\n",
    "* The input file must include `ID` and `cluster`.\n",
    "* Ensure that all genes are present in each dataset (code include a check to verify that the selected features are present).\n",
    "* Adjust parameters manually until no overfitting occurs (you can remove unsuitable models).\n",
    "* Other than the file path, `cluster_num` and `param_grids`, no further changes are necessary."
   ]
  },
  {
   "cell_type": "code",
   "execution_count": 1,
   "metadata": {},
   "outputs": [],
   "source": [
    "import os\n",
    "import pandas as pd\n",
    "\n",
    "from itertools import combinations\n",
    "from sklearn.model_selection import GridSearchCV\n",
    "import xgboost as xgb\n",
    "\n",
    "from sklearn.ensemble import RandomForestClassifier\n",
    "\n",
    "from sklearn.svm import SVC\n",
    "\n",
    "from sklearn.linear_model import LogisticRegression\n",
    "\n",
    "from sklearn.tree import DecisionTreeClassifier\n",
    "\n",
    "from sklearn.metrics import (\n",
    "    confusion_matrix,\n",
    "    precision_score,\n",
    "    accuracy_score,\n",
    "    matthews_corrcoef,\n",
    "    f1_score,\n",
    ")"
   ]
  },
  {
   "cell_type": "code",
   "execution_count": 2,
   "metadata": {},
   "outputs": [],
   "source": [
    "def is_unique(lst):\n",
    "    return len(lst) == len(set(lst))\n",
    "\n",
    "\n",
    "def prepare_data(data, combination, label, cluster_num):\n",
    "    X = []\n",
    "    cluster_values = []\n",
    "    for i in range(cluster_num):\n",
    "\n",
    "        gene_values = data.loc[data[data.columns[0]].isin([combination[i]])]\n",
    "        gene_values = gene_values.iloc[:, 1::].values.flatten().tolist()\n",
    "        cluster_values.append(gene_values)\n",
    "\n",
    "    for i in range(len(label)):\n",
    "        sample = [cluster_values[j][i] for j in range(cluster_num)]\n",
    "        X.append(sample)\n",
    "    return X"
   ]
  },
  {
   "cell_type": "code",
   "execution_count": 3,
   "metadata": {},
   "outputs": [],
   "source": [
    "def predict_comb(\n",
    "    train_data, train_label, test_data, test_label, cluster_num, param_grids, final_gene\n",
    "):\n",
    "    combinations_list = list(combinations(final_gene[\"ID\"], cluster_num))\n",
    "    result = []\n",
    "    models = {\n",
    "        \"XGBoost\": xgb.XGBClassifier(),\n",
    "        \"RandomForest\": RandomForestClassifier(),\n",
    "        \"SVM\": SVC(),\n",
    "        \"Logistic Regression\": LogisticRegression(),\n",
    "        \"Decision Tree\": DecisionTreeClassifier(),\n",
    "    }\n",
    "\n",
    "    for model_name, model in models.items():\n",
    "        # 取出所有可能的組合\n",
    "        for combination in combinations_list:\n",
    "            lst = []\n",
    "            for i in range(cluster_num):\n",
    "                lst.append(\n",
    "                    int(\n",
    "                        final_gene.loc[final_gene[\"ID\"] == combination[i]][\n",
    "                            \"cluster\"\n",
    "                        ].iloc[0]\n",
    "                    )\n",
    "                )\n",
    "            # 檢查是否在不同群\n",
    "            if is_unique(lst):\n",
    "                # 準備訓練 / 測試資料\n",
    "                X_test = prepare_data(test_data, combination, test_label, cluster_num)\n",
    "                X_train = prepare_data(\n",
    "                    train_data, combination, train_label, cluster_num\n",
    "                )\n",
    "\n",
    "                # 模型參數調整\n",
    "                param_grid = param_grids[model_name]\n",
    "                grid_search = GridSearchCV(\n",
    "                    estimator=model, param_grid=param_grid, cv=5, n_jobs=-1\n",
    "                )\n",
    "                grid_search.fit(X_train, train_label)\n",
    "                print(\"Best Parameters:\", grid_search.best_params_)\n",
    "                print(\"Best Score:\", grid_search.best_score_)\n",
    "                model = grid_search.best_estimator_\n",
    "\n",
    "                # 預測\n",
    "                y_pred_train = model.predict(X_train)\n",
    "                accuracy_train = accuracy_score(train_label, y_pred_train)\n",
    "                # print(\"Train accuracy: \", round(accuracy_train, 2))\n",
    "                y_pred = model.predict(X_test)\n",
    "                accuracy = accuracy_score(test_label, y_pred)\n",
    "                # print(\"Test accuracy: \", round(accuracy, 2))\n",
    "\n",
    "                # 檢查是否過擬合\n",
    "                if abs(accuracy_train - accuracy) > 0.1:\n",
    "                    print(\"Train accuracy: \", round(accuracy_train, 2))\n",
    "                    print(\"Test accuracy: \", round(accuracy, 2))\n",
    "                    print(f\"========={model_name} overfitting =========\\n\")\n",
    "                else:\n",
    "                    # 輸出結果\n",
    "                    tn, fp, fn, tp = confusion_matrix(test_label, y_pred).ravel()\n",
    "                    sensitivity = tp / (tp + fn)\n",
    "                    specificity = tn / (tn + fp)\n",
    "                    precision = precision_score(test_label, y_pred)\n",
    "                    f1 = f1_score(test_label, y_pred)\n",
    "                    mcc = matthews_corrcoef(test_label, y_pred)\n",
    "\n",
    "                    sorted_combination = [x for _, x in sorted(zip(lst, combination))]\n",
    "                    result.append(\n",
    "                        [model_name]\n",
    "                        + sorted_combination\n",
    "                        + [\n",
    "                            round(accuracy, 2),\n",
    "                            round(sensitivity, 2),\n",
    "                            round(specificity, 2),\n",
    "                            round(precision, 2),\n",
    "                            round(f1, 2),\n",
    "                            round(mcc, 2),\n",
    "                        ]\n",
    "                    )\n",
    "    id_columns = [f\"ID{i+1}\" for i in range(cluster_num)]\n",
    "    result = pd.DataFrame(\n",
    "        result,\n",
    "        columns=[\"Model\"]\n",
    "        + id_columns\n",
    "        + [\"accuracy\", \"sensitivity\", \"specificity\", \"precision\", \"f1_score\", \"mcc\"],\n",
    "    )\n",
    "\n",
    "    return result"
   ]
  },
  {
   "cell_type": "markdown",
   "metadata": {},
   "source": [
    "#### 輸入特徵資料"
   ]
  },
  {
   "cell_type": "code",
   "execution_count": null,
   "metadata": {},
   "outputs": [],
   "source": [
    "dbeta = pd.read_csv(\n",
    "    \"../result/GDC_breast_tissue_450k/train80/dbeta_GSE243529_TSS_0.15.csv\"\n",
    ")\n",
    "dbeta"
   ]
  },
  {
   "cell_type": "code",
   "execution_count": null,
   "metadata": {},
   "outputs": [],
   "source": [
    "cluster_num = 4  # 總共群數\n",
    "# 須包含ID和cluster欄位\n",
    "input_path = (\n",
    "    \"../result/GDC_breast_tissue_450k_GSE243529/RFE/cluster_RFE.csv\"  # example\n",
    ")\n",
    "final_gene = pd.read_csv(input_path)\n",
    "final_gene = pd.merge(final_gene, dbeta, on=\"gene\", how=\"inner\")\n",
    "final_gene"
   ]
  },
  {
   "cell_type": "markdown",
   "metadata": {},
   "source": [
    "#### 液態驗證"
   ]
  },
  {
   "cell_type": "markdown",
   "metadata": {},
   "source": [
    "#### GSE243529 訓練80%資料"
   ]
  },
  {
   "cell_type": "code",
   "execution_count": null,
   "metadata": {},
   "outputs": [],
   "source": [
    "beta_normalized_243529_train = (\n",
    "    \"../result/GSE243529/train80/all_beta_normalized_train.csv\"\n",
    ")\n",
    "data_243529_train = pd.read_csv(beta_normalized_243529_train)\n",
    "data_243529_train"
   ]
  },
  {
   "cell_type": "code",
   "execution_count": null,
   "metadata": {},
   "outputs": [],
   "source": [
    "# 檢查挑選出的特徵是否都有出現\n",
    "data_243529_train = data_243529_train[\n",
    "    data_243529_train[\"Unnamed: 0\"].isin(final_gene[\"ID\"])\n",
    "]\n",
    "data_243529_train"
   ]
  },
  {
   "cell_type": "code",
   "execution_count": 12,
   "metadata": {},
   "outputs": [],
   "source": [
    "y_train_243529 = [\n",
    "    (0 if i < 218 else 1) for i in range((data_243529_train.shape[1] - 1))\n",
    "]"
   ]
  },
  {
   "cell_type": "markdown",
   "metadata": {},
   "source": [
    "#### GSE243529 驗證20%資料"
   ]
  },
  {
   "cell_type": "code",
   "execution_count": null,
   "metadata": {},
   "outputs": [],
   "source": [
    "beta_normalized_243529_val = \"../result/GSE243529/test20/all_beta_normalized_test.csv\"\n",
    "data_243529_val = pd.read_csv(beta_normalized_243529_val)\n",
    "data_243529_val"
   ]
  },
  {
   "cell_type": "code",
   "execution_count": null,
   "metadata": {},
   "outputs": [],
   "source": [
    "data_243529_val = data_243529_val[data_243529_val[\"Unnamed: 0\"].isin(final_gene[\"ID\"])]\n",
    "data_243529_val"
   ]
  },
  {
   "cell_type": "code",
   "execution_count": 15,
   "metadata": {},
   "outputs": [],
   "source": [
    "y_val_243529 = [(0 if i < 50 else 1) for i in range((data_243529_val.shape[1] - 1))]"
   ]
  },
  {
   "cell_type": "code",
   "execution_count": 21,
   "metadata": {},
   "outputs": [],
   "source": [
    "param_grids_243529 = {\n",
    "    \"SVM\": {\"C\": [0.1, 1, 10], \"kernel\": [\"linear\", \"rbf\"]},\n",
    "    \"Logistic Regression\": {\"C\": [0.1, 1, 10], \"solver\": [\"liblinear\"]},\n",
    "    \"Decision Tree\": {\"max_depth\": [3, 5, 7], \"min_samples_split\": [2, 5, 10]},\n",
    "    \"RandomForest\": {\n",
    "        \"n_estimators\": [50, 100, 200],\n",
    "        \"max_depth\": [3, 5, 7],\n",
    "        \"min_samples_split\": [2, 5, 10],\n",
    "    },\n",
    "    \"XGBoost\": {\n",
    "        \"n_estimators\": [50, 100, 200],\n",
    "        \"max_depth\": [3, 5, 7],\n",
    "        \"learning_rate\": [0.01, 0.1, 0.2],\n",
    "    },\n",
    "}"
   ]
  },
  {
   "cell_type": "code",
   "execution_count": null,
   "metadata": {},
   "outputs": [],
   "source": [
    "result_243529 = predict_comb(\n",
    "    data_243529_train,\n",
    "    y_train_243529,\n",
    "    data_243529_val,\n",
    "    y_val_243529,\n",
    "    cluster_num,\n",
    "    param_grids_243529,\n",
    "    final_gene,\n",
    ")\n",
    "result_243529"
   ]
  },
  {
   "cell_type": "code",
   "execution_count": 40,
   "metadata": {},
   "outputs": [],
   "source": [
    "os.makedirs(f\"../result/GSE243529\", exist_ok=True)\n",
    "result_243529.to_csv(\n",
    "    \"../result/GSE243529/predict_combination.csv\", index=False\n",
    ")"
   ]
  },
  {
   "cell_type": "markdown",
   "metadata": {},
   "source": [
    "#### 組織驗證"
   ]
  },
  {
   "cell_type": "markdown",
   "metadata": {},
   "source": [
    "#### 450K 訓練80%資料"
   ]
  },
  {
   "cell_type": "code",
   "execution_count": null,
   "metadata": {},
   "outputs": [],
   "source": [
    "beta_normalized_450K_train = \"../result/GDC_breast_tissue_450k/train80/all_beta_normalized_train.csv\"\n",
    "\n",
    "data_450K_train = pd.read_csv(beta_normalized_450K_train)\n",
    "data_450K_train"
   ]
  },
  {
   "cell_type": "code",
   "execution_count": null,
   "metadata": {},
   "outputs": [],
   "source": [
    "# 檢查挑選出的特徵是否都有出現\n",
    "data_450K_train = data_450K_train[\n",
    "    data_450K_train[\"Unnamed: 0\"].isin(final_gene[\"ID\"])\n",
    "]\n",
    "data_450K_train"
   ]
  },
  {
   "cell_type": "code",
   "execution_count": 25,
   "metadata": {},
   "outputs": [],
   "source": [
    "y_train_450K = [\n",
    "    (0 if i < 637 else 1) for i in range(data_450K_train.shape[1] - 1)\n",
    "]"
   ]
  },
  {
   "cell_type": "markdown",
   "metadata": {},
   "source": [
    "#### 450K 測試20%資料"
   ]
  },
  {
   "cell_type": "code",
   "execution_count": null,
   "metadata": {},
   "outputs": [],
   "source": [
    "beta_normalized_450K_test = \"../result/GDC_breast_tissue_450k/test20/all_beta_normalized_test.csv\"\n",
    "\n",
    "data_450K_test = pd.read_csv(beta_normalized_450K_test)\n",
    "data_450K_test"
   ]
  },
  {
   "cell_type": "code",
   "execution_count": null,
   "metadata": {},
   "outputs": [],
   "source": [
    "y_test_450K = [(0 if i < 18 else 1) for i in range(data_450K_test.shape[1] - 1)]\n",
    "\n",
    "# 檢查挑選出的特徵是否都有出現\n",
    "data_450K_test = data_450K_test[data_450K_test[\"Unnamed: 0\"].isin(final_gene[\"ID\"])]\n",
    "data_450K_test"
   ]
  },
  {
   "cell_type": "code",
   "execution_count": 28,
   "metadata": {},
   "outputs": [],
   "source": [
    "param_grids_450K = {\n",
    "    \"SVM\": {\"C\": [0.1, 1, 10], \"kernel\": [\"linear\", \"rbf\"]},\n",
    "    \"Logistic Regression\": {\"C\": [0.1, 1, 10], \"solver\": [\"liblinear\"]},\n",
    "    \"Decision Tree\": {\"max_depth\": [3, 5, 7], \"min_samples_split\": [2, 5, 10]},\n",
    "    \"RandomForest\": {\n",
    "        \"n_estimators\": [50, 100, 200],\n",
    "        \"max_depth\": [3, 5, 7],\n",
    "        \"min_samples_split\": [2, 5, 10],\n",
    "    },\n",
    "    \"XGBoost\": {\n",
    "        \"n_estimators\": [50, 100, 200],\n",
    "        \"max_depth\": [3, 5, 7],\n",
    "        \"learning_rate\": [0.01, 0.1, 0.2],\n",
    "    },\n",
    "}"
   ]
  },
  {
   "cell_type": "code",
   "execution_count": null,
   "metadata": {},
   "outputs": [],
   "source": [
    "result_450K = predict_comb(\n",
    "    data_450K_train,\n",
    "    y_train_450K,\n",
    "    data_450K_test,\n",
    "    y_test_450K,\n",
    "    cluster_num,\n",
    "    param_grids_450K,\n",
    "    final_gene,\n",
    ")\n",
    "result_450K"
   ]
  },
  {
   "cell_type": "code",
   "execution_count": 52,
   "metadata": {},
   "outputs": [],
   "source": [
    "os.makedirs(f\"../result/GDC_breast_tissue_450K\", exist_ok=True)\n",
    "result_450K.to_csv(\n",
    "    \"../result/GDC_breast_tissue_450K/predict_combination.csv\", index=False\n",
    ")"
   ]
  }
 ],
 "metadata": {
  "kernelspec": {
   "display_name": ".venv",
   "language": "python",
   "name": "python3"
  },
  "language_info": {
   "codemirror_mode": {
    "name": "ipython",
    "version": 3
   },
   "file_extension": ".py",
   "mimetype": "text/x-python",
   "name": "python",
   "nbconvert_exporter": "python",
   "pygments_lexer": "ipython3",
   "version": "3.11.9"
  }
 },
 "nbformat": 4,
 "nbformat_minor": 2
}
