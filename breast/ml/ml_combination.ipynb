{
 "cells": [
  {
   "cell_type": "markdown",
   "metadata": {},
   "source": [
    "接續方法2剩下7個位點 進行3個為一組組合 使用5種模型預測"
   ]
  },
  {
   "cell_type": "code",
   "execution_count": null,
   "metadata": {},
   "outputs": [],
   "source": [
    "import pandas as pd\n",
    "import xgboost as xgb"
   ]
  },
  {
   "cell_type": "code",
   "execution_count": null,
   "metadata": {},
   "outputs": [],
   "source": [
    "normalized_train = pd.read_csv('../result/all_beta_normalized_train_0.35.csv')\n",
    "\n",
    "normalized_test = pd.read_csv('../result/all_beta_normalized_test_0.35.csv')\n",
    "\n",
    "normalized_train = normalized_train[normalized_train['Unnamed: 0'].isin(normalized_test['Unnamed: 0'])]\n",
    "\n",
    "method2_gene=pd.read_csv(\"../result/overlap_select_gene_7.csv\")\n",
    "normalized_train_c= normalized_train[normalized_train['Unnamed: 0'].isin(method2_gene['ID'])]\n",
    "normalized_train_c"
   ]
  },
  {
   "cell_type": "code",
   "execution_count": null,
   "metadata": {},
   "outputs": [],
   "source": [
    "X_train = normalized_train_c.iloc[:, 1::2]\n",
    "\n",
    "x = []\n",
    "\n",
    "for i in range(445):\n",
    "    X = X_train.iloc[:, i]\n",
    "\n",
    "    X = X.values.flatten().tolist()\n",
    "\n",
    "    x.append(X)\n",
    "\n",
    "y = [ (0 if i < 47 else 1)  for i in range(445)]"
   ]
  },
  {
   "cell_type": "code",
   "execution_count": null,
   "metadata": {},
   "outputs": [],
   "source": [
    "from sklearn.metrics import roc_auc_score, f1_score\n",
    "from itertools import combinations\n",
    "from sklearn.model_selection import cross_val_score,cross_val_predict\n",
    "from sklearn.ensemble import RandomForestClassifier\n",
    "from sklearn.svm import SVC\n",
    "from sklearn.linear_model import LogisticRegression\n",
    "from sklearn.tree import DecisionTreeClassifier"
   ]
  },
  {
   "cell_type": "code",
   "execution_count": null,
   "metadata": {},
   "outputs": [],
   "source": [
    "target_labels = normalized_train_c['Unnamed: 0']\n",
    "# 三個一組\n",
    "combinations_list = list(combinations(target_labels, 3))\n",
    "\n",
    "result=[]\n",
    "# 定義模型參數\n",
    "params = {\n",
    "    'objective': 'binary:logistic',  # 二分類問題\n",
    "    'eval_metric': 'logloss',  # 評估指標\n",
    "    'max_depth': 3,\n",
    "    'learning_rate': 1\n",
    "}\n",
    "models = {\n",
    "    'XGBoost': xgb.XGBClassifier(**params),\n",
    "    'RandomForest': RandomForestClassifier(n_estimators=100, random_state=42),\n",
    "    'SVM': SVC(kernel='linear'),\n",
    "    'Logistic Regression': LogisticRegression(),\n",
    "    'Decision Tree': DecisionTreeClassifier()\n",
    "}\n",
    "\n",
    "for model_name, model in models.items():\n",
    "\n",
    "    # 所有可能的組合\n",
    "    for combination in combinations_list:\n",
    "        #print(combination)\n",
    "        d1_values = normalized_train.loc[normalized_train['Unnamed: 0']==combination[0]]\n",
    "        d2_values = normalized_train.loc[normalized_train['Unnamed: 0']==combination[1]]\n",
    "        d3_values = normalized_train.loc[normalized_train['Unnamed: 0']==combination[2]]\n",
    "    \n",
    "        d1 = d1_values.iloc[:, 1::2]\n",
    "        d2 = d2_values.iloc[:, 1::2]\n",
    "        d3 = d3_values.iloc[:, 1::2]\n",
    "\n",
    "        d1 = d1.values.flatten().tolist()\n",
    "        d2 = d2.values.flatten().tolist()\n",
    "        d3 = d3.values.flatten().tolist()\n",
    "\n",
    "        x = []\n",
    "\n",
    "        for i in range(445):\n",
    "            x.append([d1[i],d2[i],d3[i]])\n",
    "            \n",
    "        # 將數據轉換為DMatrix格式\n",
    "        dmatrix = xgb.DMatrix(x, label=y)\n",
    "\n",
    "        # 進行交叉驗證，這裡使用 5-fold 交叉驗證\n",
    "        cv_scores = cross_val_score(model, x, y, cv=5, scoring='accuracy')\n",
    "        # 計算平均準確度\n",
    "        average_accuracy = cv_scores.mean()\n",
    "\n",
    "        # 獲取模型預測結果\n",
    "        y_pred = cross_val_predict(model, x, y, cv=5)\n",
    "        \n",
    "        # 計算AUC\n",
    "        auc_score = roc_auc_score(y, y_pred)\n",
    "        \n",
    "        # 計算F1 score\n",
    "        f1 = f1_score(y, y_pred)\n",
    "        GO_1=int(method2_gene.loc[method2_gene['ID'] == combination[0]][\"GO\"])\n",
    "        GO_2=int(method2_gene.loc[method2_gene['ID'] == combination[1]][\"GO\"])\n",
    "        GO_3=int(method2_gene.loc[method2_gene['ID'] == combination[2]][\"GO\"])\n",
    "        if (GO_1!=GO_2 & GO_2!=GO_3 & GO_1!=GO_3):\n",
    "            print(GO_1,GO_2,GO_3)\n",
    "            if (GO_1==1 and GO_2==4 and GO_3==3):\n",
    "                result.append([model_name, combination[0], combination[2], combination[1], average_accuracy, auc_score, f1])\n",
    "            elif (GO_1==1 and GO_2==3 and GO_3==4):\n",
    "                result.append([model_name, combination[0], combination[1], combination[2], average_accuracy, auc_score, f1])\n",
    "            elif (GO_1==4 and GO_2==1 and GO_3==3):\n",
    "                result.append([model_name, combination[1], combination[2], combination[0], average_accuracy, auc_score, f1])\n",
    "            elif (GO_1==4 and GO_2==3 and GO_3==1):\n",
    "                result.append([model_name, combination[2], combination[1], combination[0], average_accuracy, auc_score, f1])\n",
    "            elif (GO_1==3 and GO_2==1 and GO_3==4):\n",
    "                result.append([model_name, combination[1], combination[0], combination[2], average_accuracy, auc_score, f1])\n",
    "            elif (GO_1==3 and GO_2==4 and GO_3==1):\n",
    "                result.append([model_name, combination[2], combination[0], combination[1], average_accuracy, auc_score, f1])\n",
    "            print(result)  \n",
    "result\n"
   ]
  },
  {
   "cell_type": "code",
   "execution_count": null,
   "metadata": {},
   "outputs": [],
   "source": [
    "df=pd.DataFrame(result, columns=['Model','ID1', 'ID2', 'ID3', 'average_accuracy','AUC','f1_score'])\n",
    "df.to_csv(\"../result/ml_combination_method2.csv\", index=False)"
   ]
  },
  {
   "cell_type": "markdown",
   "metadata": {},
   "source": [
    "挑出3個為一組最佳的組合: MIR124-2、ZSCAN18、KCNE3 繪製normal/tumor間的關係"
   ]
  },
  {
   "cell_type": "code",
   "execution_count": null,
   "metadata": {},
   "outputs": [],
   "source": [
    "d1_values = normalized_train.loc[normalized_train['Unnamed: 0'] == 'cg07792478']\n",
    "d2_values = normalized_train.loc[normalized_train['Unnamed: 0'] == 'cg04574090']\n",
    "d3_values = normalized_train.loc[normalized_train['Unnamed: 0'] == 'cg14231297']\n",
    "\n",
    "\n",
    "print(d1_values)\n",
    "\n",
    "d1 = d1_values.iloc[:, 1::2]\n",
    "d2 = d2_values.iloc[:, 1::2]\n",
    "d3 = d3_values.iloc[:, 1::2]\n",
    "\n",
    "d1 = d1.values.flatten().tolist()\n",
    "d2 = d2.values.flatten().tolist()\n",
    "d3 = d3.values.flatten().tolist()"
   ]
  },
  {
   "cell_type": "code",
   "execution_count": null,
   "metadata": {},
   "outputs": [],
   "source": [
    "import pandas as pd\n",
    "import matplotlib.pyplot as plt\n",
    "import numpy as np\n",
    "from mpl_toolkits.mplot3d import Axes3D\n",
    "from ipywidgets import interact\n",
    "\n",
    "def plot_3d_scatter(elev, azim):\n",
    "    fig = plt.figure()\n",
    "    ax = fig.add_subplot(111, projection='3d')\n",
    "    \n",
    "    ax.scatter(d1[:47], d2[:47], d3[:47], marker='o', color='blue', label='normal')\n",
    "    ax.scatter(d1[47:], d2[47:], d3[47:], marker='x', color='red', label='tumor')\n",
    "\n",
    "    ax.set_title('3D Scatter Plot')\n",
    "    ax.set_xlabel('X-cg07792478')\n",
    "    ax.set_ylabel('Y-cg04574090')\n",
    "    ax.set_zlabel('Z-cg14231297')\n",
    "\n",
    "    ax.legend()\n",
    "\n",
    "    ax.view_init(elev=elev, azim=azim)\n",
    "    \n",
    "    plt.show()\n",
    "\n",
    "interact(plot_3d_scatter, elev=(0, 90, 5), azim=(0, 360, 5))\n"
   ]
  },
  {
   "cell_type": "markdown",
   "metadata": {},
   "source": [
    "接續方法1剩下40個位點進行GO分4群後實作RFECV總共剩下30個 於每群挑一個代表的位點 組合並預測"
   ]
  },
  {
   "cell_type": "code",
   "execution_count": null,
   "metadata": {},
   "outputs": [],
   "source": [
    "import pandas as pd\n",
    "import xgboost as xgb\n",
    "from sklearn.metrics import roc_auc_score, f1_score\n",
    "from itertools import combinations\n",
    "from sklearn.model_selection import cross_val_score,cross_val_predict\n",
    "from sklearn.ensemble import RandomForestClassifier\n",
    "from sklearn.svm import SVC\n",
    "from sklearn.linear_model import LogisticRegression\n",
    "from sklearn.tree import DecisionTreeClassifier"
   ]
  },
  {
   "cell_type": "code",
   "execution_count": null,
   "metadata": {},
   "outputs": [],
   "source": [
    "normalized_train = pd.read_csv('../result/all_beta_normalized_train_0.35.csv')\n",
    "\n",
    "normalized_test = pd.read_csv('../result/all_beta_normalized_test_0.35.csv')\n",
    "\n",
    "normalized_train = normalized_train[normalized_train['Unnamed: 0'].isin(normalized_test['Unnamed: 0'])]\n",
    "\n",
    "cluster=pd.read_csv(\"../result/RFE_method1/RFECV/cluster.csv\")\n",
    "normalized_train_c= normalized_train[normalized_train['Unnamed: 0'].isin(cluster['ID'])]\n",
    "normalized_train_c"
   ]
  },
  {
   "cell_type": "code",
   "execution_count": null,
   "metadata": {},
   "outputs": [],
   "source": [
    "X_train = normalized_train_c.iloc[:, 1::2]\n",
    "\n",
    "x = []\n",
    "\n",
    "for i in range(445):\n",
    "    X = X_train.iloc[:, i]\n",
    "\n",
    "    X = X.values.flatten().tolist()\n",
    "\n",
    "    x.append(X)\n",
    "\n",
    "y = [ (0 if i < 47 else 1)  for i in range(445)]"
   ]
  },
  {
   "cell_type": "code",
   "execution_count": null,
   "metadata": {},
   "outputs": [],
   "source": [
    "def is_unique(lst):\n",
    "    return len(lst) == len(set(lst))"
   ]
  },
  {
   "cell_type": "code",
   "execution_count": null,
   "metadata": {},
   "outputs": [],
   "source": [
    "target_labels = normalized_train_c['Unnamed: 0']\n",
    "# 四個一組\n",
    "combinations_list = list(combinations(target_labels, 4))\n",
    "\n",
    "result=[]\n",
    "# 定義模型參數\n",
    "params = {\n",
    "    'objective': 'binary:logistic',  # 二分類問題\n",
    "    'eval_metric': 'logloss',  # 評估指標\n",
    "    'max_depth': 3,\n",
    "    'learning_rate': 1\n",
    "}\n",
    "models = {\n",
    "    'XGBoost': xgb.XGBClassifier(**params),\n",
    "    'RandomForest': RandomForestClassifier(n_estimators=100, \n",
    "                                            max_depth=10, \n",
    "                                            min_samples_split=5, \n",
    "                                            min_samples_leaf=2,\n",
    "                                            min_impurity_decrease=0.0,\n",
    "                                            random_state=42),\n",
    "    'SVM': SVC(kernel='linear'),\n",
    "    'Logistic Regression': LogisticRegression(),\n",
    "    'Decision Tree': DecisionTreeClassifier()\n",
    "}\n",
    "\n",
    "for model_name, model in models.items():\n",
    "\n",
    "    # 所有可能的組合\n",
    "    for combination in combinations_list:\n",
    "\n",
    "        GO_1=int(cluster.loc[cluster['ID'] == combination[0]][\"GO\"])\n",
    "        GO_2=int(cluster.loc[cluster['ID'] == combination[1]][\"GO\"])\n",
    "        GO_3=int(cluster.loc[cluster['ID'] == combination[2]][\"GO\"])\n",
    "        GO_4=int(cluster.loc[cluster['ID'] == combination[3]][\"GO\"])\n",
    "\n",
    "        lst=[GO_1,GO_2,GO_3,GO_4]\n",
    "\n",
    "        if(is_unique(lst)):\n",
    "            d1_values = normalized_train.loc[normalized_train['Unnamed: 0']==combination[0]]\n",
    "            d2_values = normalized_train.loc[normalized_train['Unnamed: 0']==combination[1]]\n",
    "            d3_values = normalized_train.loc[normalized_train['Unnamed: 0']==combination[2]]\n",
    "            d4_values = normalized_train.loc[normalized_train['Unnamed: 0']==combination[3]]\n",
    "        \n",
    "            d1 = d1_values.iloc[:, 1::2]\n",
    "            d2 = d2_values.iloc[:, 1::2]\n",
    "            d3 = d3_values.iloc[:, 1::2]\n",
    "            d4 = d4_values.iloc[:, 1::2]\n",
    "\n",
    "            d1 = d1.values.flatten().tolist()\n",
    "            d2 = d2.values.flatten().tolist()\n",
    "            d3 = d3.values.flatten().tolist()\n",
    "            d4 = d4.values.flatten().tolist()\n",
    "\n",
    "            x = []\n",
    "\n",
    "            for i in range(445):\n",
    "                x.append([d1[i],d2[i],d3[i],d4[i]])\n",
    "            \n",
    "\n",
    "            dmatrix = xgb.DMatrix(x, label=y)\n",
    "\n",
    "            cv_scores = cross_val_score(model, x, y, cv=5, scoring='accuracy')\n",
    "            \n",
    "            average_accuracy = cv_scores.mean()\n",
    "\n",
    "            # 獲取模型預測結果\n",
    "            y_pred = cross_val_predict(model, x, y, cv=5)\n",
    "            \n",
    "            auc_score = roc_auc_score(y, y_pred)\n",
    "            f1 = f1_score(y, y_pred)\n",
    "\n",
    "            sorted_combination = [x for _, x in sorted(zip(lst, combination))]\n",
    "            result.append([model_name] + sorted_combination + [average_accuracy, auc_score, f1])\n",
    "            \n",
    "# result\n"
   ]
  },
  {
   "cell_type": "code",
   "execution_count": null,
   "metadata": {},
   "outputs": [],
   "source": [
    "df=pd.DataFrame(result, columns=['Model','ID1', 'ID2', 'ID3','ID4', 'average_accuracy','AUC','f1_score'])\n",
    "df.to_csv(\"../result/RFE_method1/RFECV/ml_combination_method1.csv\", index=False)"
   ]
  },
  {
   "cell_type": "code",
   "execution_count": null,
   "metadata": {},
   "outputs": [],
   "source": [
    "method1_combination=pd.read_csv(\"../result/RFE_method1/RFECV/ml_combination_method1.csv\")\n",
    "\n",
    "for i in range(0,len(method1_combination)-4,5):\n",
    "    method1_combination['AVG_accuracy'][i]=(method1_combination['average_accuracy'][i:i+5]).mean()\n",
    "    method1_combination['AVG_AUC'][i]=(method1_combination['AUC'][i:i+5]).mean()\n",
    "    method1_combination['AVG_f1_score'][i]=(method1_combination['f1_score'][i:i+5]).mean()"
   ]
  },
  {
   "cell_type": "code",
   "execution_count": null,
   "metadata": {},
   "outputs": [],
   "source": [
    "method1_combination.to_csv(\"../result/RFE_method1/RFECV/ml_combination_method1.csv\", index=False)"
   ]
  },
  {
   "cell_type": "markdown",
   "metadata": {},
   "source": [
    "挑選出4個為一組最佳組合:RGS22、SLC6A3、GHSR、ZSCAN18(和方法2相同)"
   ]
  }
 ],
 "metadata": {
  "kernelspec": {
   "display_name": "base",
   "language": "python",
   "name": "python3"
  },
  "language_info": {
   "codemirror_mode": {
    "name": "ipython",
    "version": 3
   },
   "file_extension": ".py",
   "mimetype": "text/x-python",
   "name": "python",
   "nbconvert_exporter": "python",
   "pygments_lexer": "ipython3",
   "version": "3.8.8"
  }
 },
 "nbformat": 4,
 "nbformat_minor": 2
}
