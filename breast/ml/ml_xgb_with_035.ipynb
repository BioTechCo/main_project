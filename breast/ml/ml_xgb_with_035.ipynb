{
 "cells": [
  {
   "cell_type": "code",
   "execution_count": 1,
   "metadata": {},
   "outputs": [],
   "source": [
    "import pandas as pd\n",
    "import xgboost as xgb"
   ]
  },
  {
   "cell_type": "code",
   "execution_count": 3,
   "metadata": {},
   "outputs": [],
   "source": [
    "normalized_train = pd.read_csv('../result/all_beta_normalized_train_0.35.csv')\n",
    "\n",
    "normalized_test = pd.read_csv('../result/all_beta_normalized_test_0.35.csv')\n",
    "\n",
    "normalized_train_c = normalized_train[normalized_train['Unnamed: 0'].isin(normalized_test['Unnamed: 0'])]"
   ]
  },
  {
   "cell_type": "code",
   "execution_count": 4,
   "metadata": {},
   "outputs": [],
   "source": [
    "X_train = normalized_train_c.iloc[:, 1::2]\n",
    "\n",
    "x = []\n",
    "\n",
    "for i in range(445):\n",
    "    X = X_train.iloc[:, i]\n",
    "\n",
    "    X = X.values.flatten().tolist()\n",
    "\n",
    "    x.append(X)\n",
    "\n",
    "y = [ (0 if i < 47 else 1)  for i in range(445)]"
   ]
  },
  {
   "cell_type": "code",
   "execution_count": 5,
   "metadata": {},
   "outputs": [
    {
     "name": "stdout",
     "output_type": "stream",
     "text": [
      "各次交叉驗證的準確度: [0.98876404 0.97752809 0.96629213 0.98876404 0.98876404]\n",
      "平均交叉驗證準確度: 0.9820224719101123\n"
     ]
    }
   ],
   "source": [
    "from sklearn.model_selection import cross_val_score\n",
    "\n",
    "# 將數據轉換為DMatrix格式\n",
    "dmatrix = xgb.DMatrix(x, label=y)\n",
    "\n",
    "# 定義模型參數\n",
    "params = {\n",
    "    'objective': 'binary:logistic',  # 二分類問題\n",
    "    'eval_metric': 'logloss',  # 評估指標\n",
    "    'max_depth': 3,\n",
    "    'learning_rate': 1\n",
    "}\n",
    "\n",
    "# 建立模型\n",
    "model = xgb.XGBClassifier(**params)\n",
    "\n",
    "# 進行交叉驗證，這裡使用 5-fold 交叉驗證\n",
    "cv_scores = cross_val_score(model, x, y, cv=5, scoring='accuracy')\n",
    "\n",
    "# 印出每次交叉驗證的準確度\n",
    "print(\"各次交叉驗證的準確度:\", cv_scores)\n",
    "\n",
    "# 計算平均準確度\n",
    "average_accuracy = cv_scores.mean()\n",
    "print(\"平均交叉驗證準確度:\", average_accuracy)\n"
   ]
  }
 ],
 "metadata": {
  "kernelspec": {
   "display_name": "base",
   "language": "python",
   "name": "python3"
  },
  "language_info": {
   "codemirror_mode": {
    "name": "ipython",
    "version": 3
   },
   "file_extension": ".py",
   "mimetype": "text/x-python",
   "name": "python",
   "nbconvert_exporter": "python",
   "pygments_lexer": "ipython3",
   "version": "3.8.8"
  }
 },
 "nbformat": 4,
 "nbformat_minor": 2
}
