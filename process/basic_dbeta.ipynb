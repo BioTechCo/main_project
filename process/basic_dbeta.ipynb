{
 "cells": [
  {
   "cell_type": "markdown",
   "metadata": {},
   "source": [
    "### Implementation\n",
    "1. split normal and tumor samples\n",
    "2. remove outliers in normal and tumor samples\n",
    "3. calculate the mean of normal sammples\n",
    "4. tumor - avg(normal)\n",
    "5. calculate the mean of tumor samples\n",
    "6. merge with DMP file\n",
    "7. exclude the genes not in single comorbidity list\n",
    "\n",
    "### Notes\n",
    "normal samples are procceed with tumor samples in all_beta_normalized file\n",
    "\n",
    "### Input Columns\n",
    "1. `Unnamed: 0` - id of the sample\n",
    "> list of serial number for each sample \n",
    "\n",
    "### Output Columns\n",
    "1. `id` - id of the sample\n",
    "2. `gene` - gene name\n",
    "3. `dbeta` - beta value of tumor - average of beta value of normal\n",
    "\n",
    "### Parameters\n",
    "1. `cancer_type` - cancer type name\n",
    "2. `data_source` - folder name where all_beta_normalized and DMP files are stored, either GSE accession number or associated \n",
    "3. `all_beta_normalized_path` - all_beta_normalized file path within `champ_result`\n",
    "4. `DMP_path` - DMP file path within `champ_result`\n",
    "5. `result_folder` - default `train100` folder\n",
    "6. `normal_count` - number of normal samples\n",
    "7. `is_duplicate` - if the sample is duplicate or not, 2 if duplicate, 1 if not duplicate"
   ]
  },
  {
   "cell_type": "code",
   "execution_count": 1,
   "metadata": {},
   "outputs": [],
   "source": [
    "import pandas as pd\n",
    "import os"
   ]
  },
  {
   "cell_type": "code",
   "execution_count": 2,
   "metadata": {},
   "outputs": [],
   "source": [
    "cancer_type = \"breast\"\n",
    "data_source = \"GDC_breast_tissue\"\n",
    "\n",
    "\n",
    "all_beta_normalized_path = \"all_beta_normalized_0.csv\"\n",
    "\n",
    "\n",
    "DMP_path = \"DMP_result_0.csv\"\n",
    "\n",
    "\n",
    "result_folder = \"train100\"\n",
    "\n",
    "\n",
    "normal_count = 47\n",
    "\n",
    "\n",
    "is_duplicate = 2"
   ]
  },
  {
   "cell_type": "code",
   "execution_count": 3,
   "metadata": {},
   "outputs": [],
   "source": [
    "all_beta_normalized = pd.read_csv(\n",
    "    f\"../{cancer_type}/champ_result/{data_source}/{all_beta_normalized_path}\"\n",
    ")"
   ]
  },
  {
   "cell_type": "code",
   "execution_count": 4,
   "metadata": {},
   "outputs": [
    {
     "name": "stdout",
     "output_type": "stream",
     "text": [
      "(349420, 891)\n"
     ]
    }
   ],
   "source": [
    "print(all_beta_normalized.shape)"
   ]
  },
  {
   "cell_type": "code",
   "execution_count": 5,
   "metadata": {},
   "outputs": [],
   "source": [
    "all_beta_normalized_normal = all_beta_normalized.iloc[\n",
    "    :, 1 : normal_count * 2 + 1 : is_duplicate\n",
    "]\n",
    "\n",
    "\n",
    "all_beta_normalized_tumor = all_beta_normalized.iloc[\n",
    "    :, normal_count * 2 + 1 :: is_duplicate\n",
    "]"
   ]
  },
  {
   "cell_type": "code",
   "execution_count": 6,
   "metadata": {},
   "outputs": [],
   "source": [
    "def IQR(df):\n",
    "    Q1 = df.quantile(0.25)\n",
    "    Q3 = df.quantile(0.75)\n",
    "    IQR = Q3 - Q1\n",
    "    upper_fence = Q3 + IQR * 1.5\n",
    "    lower_fence = Q1 - IQR * 1.5\n",
    "    return upper_fence, lower_fence\n",
    "\n",
    "\n",
    "def no_outlier(df):\n",
    "    upper_fence, lower_fence = IQR(df)\n",
    "    ddf = df[(df > lower_fence) & (df < upper_fence)]\n",
    "    return ddf"
   ]
  },
  {
   "cell_type": "code",
   "execution_count": 7,
   "metadata": {},
   "outputs": [],
   "source": [
    "all_beta_normalized_normal = no_outlier(all_beta_normalized_normal)\n",
    "all_beta_normalized_tumor = no_outlier(all_beta_normalized_tumor)"
   ]
  },
  {
   "cell_type": "code",
   "execution_count": 8,
   "metadata": {},
   "outputs": [],
   "source": [
    "train_normal_avg = all_beta_normalized_normal.mean(skipna=True, axis=1)"
   ]
  },
  {
   "cell_type": "code",
   "execution_count": 9,
   "metadata": {},
   "outputs": [],
   "source": [
    "all_beta_normalized_tumor = (all_beta_normalized_tumor).subtract(\n",
    "    train_normal_avg, axis=0\n",
    ")"
   ]
  },
  {
   "cell_type": "code",
   "execution_count": 10,
   "metadata": {},
   "outputs": [],
   "source": [
    "all_beta_normalized_tumor = no_outlier(all_beta_normalized_tumor)"
   ]
  },
  {
   "cell_type": "code",
   "execution_count": 11,
   "metadata": {},
   "outputs": [],
   "source": [
    "train_tumor_mean = all_beta_normalized_tumor.mean(skipna=True, axis=1)"
   ]
  },
  {
   "cell_type": "code",
   "execution_count": 12,
   "metadata": {},
   "outputs": [
    {
     "name": "stdout",
     "output_type": "stream",
     "text": [
      "(349420, 2)\n"
     ]
    },
    {
     "data": {
      "text/html": [
       "<div>\n",
       "<style scoped>\n",
       "    .dataframe tbody tr th:only-of-type {\n",
       "        vertical-align: middle;\n",
       "    }\n",
       "\n",
       "    .dataframe tbody tr th {\n",
       "        vertical-align: top;\n",
       "    }\n",
       "\n",
       "    .dataframe thead th {\n",
       "        text-align: right;\n",
       "    }\n",
       "</style>\n",
       "<table border=\"1\" class=\"dataframe\">\n",
       "  <thead>\n",
       "    <tr style=\"text-align: right;\">\n",
       "      <th></th>\n",
       "      <th>Unnamed: 0</th>\n",
       "      <th>dbeta</th>\n",
       "    </tr>\n",
       "  </thead>\n",
       "  <tbody>\n",
       "    <tr>\n",
       "      <th>0</th>\n",
       "      <td>cg00000957</td>\n",
       "      <td>0.012306</td>\n",
       "    </tr>\n",
       "    <tr>\n",
       "      <th>1</th>\n",
       "      <td>cg00001349</td>\n",
       "      <td>0.023453</td>\n",
       "    </tr>\n",
       "    <tr>\n",
       "      <th>2</th>\n",
       "      <td>cg00001583</td>\n",
       "      <td>0.034369</td>\n",
       "    </tr>\n",
       "    <tr>\n",
       "      <th>3</th>\n",
       "      <td>cg00002028</td>\n",
       "      <td>0.013361</td>\n",
       "    </tr>\n",
       "    <tr>\n",
       "      <th>4</th>\n",
       "      <td>cg00002837</td>\n",
       "      <td>0.016480</td>\n",
       "    </tr>\n",
       "    <tr>\n",
       "      <th>...</th>\n",
       "      <td>...</td>\n",
       "      <td>...</td>\n",
       "    </tr>\n",
       "    <tr>\n",
       "      <th>349415</th>\n",
       "      <td>cg27656573</td>\n",
       "      <td>0.001406</td>\n",
       "    </tr>\n",
       "    <tr>\n",
       "      <th>349416</th>\n",
       "      <td>cg27657363</td>\n",
       "      <td>-0.017933</td>\n",
       "    </tr>\n",
       "    <tr>\n",
       "      <th>349417</th>\n",
       "      <td>cg27657537</td>\n",
       "      <td>0.022685</td>\n",
       "    </tr>\n",
       "    <tr>\n",
       "      <th>349418</th>\n",
       "      <td>cg27662611</td>\n",
       "      <td>0.005706</td>\n",
       "    </tr>\n",
       "    <tr>\n",
       "      <th>349419</th>\n",
       "      <td>cg27665648</td>\n",
       "      <td>-0.014701</td>\n",
       "    </tr>\n",
       "  </tbody>\n",
       "</table>\n",
       "<p>349420 rows × 2 columns</p>\n",
       "</div>"
      ],
      "text/plain": [
       "        Unnamed: 0     dbeta\n",
       "0       cg00000957  0.012306\n",
       "1       cg00001349  0.023453\n",
       "2       cg00001583  0.034369\n",
       "3       cg00002028  0.013361\n",
       "4       cg00002837  0.016480\n",
       "...            ...       ...\n",
       "349415  cg27656573  0.001406\n",
       "349416  cg27657363 -0.017933\n",
       "349417  cg27657537  0.022685\n",
       "349418  cg27662611  0.005706\n",
       "349419  cg27665648 -0.014701\n",
       "\n",
       "[349420 rows x 2 columns]"
      ]
     },
     "execution_count": 12,
     "metadata": {},
     "output_type": "execute_result"
    }
   ],
   "source": [
    "delta_beta = pd.merge(\n",
    "    all_beta_normalized.iloc[:, :1],\n",
    "    pd.DataFrame(train_tumor_mean, columns=[\"dbeta\"]),\n",
    "    left_index=True,\n",
    "    right_index=True,\n",
    ")\n",
    "\n",
    "\n",
    "print(delta_beta.shape)\n",
    "delta_beta"
   ]
  },
  {
   "cell_type": "code",
   "execution_count": 17,
   "metadata": {},
   "outputs": [
    {
     "name": "stdout",
     "output_type": "stream",
     "text": [
      "dmp shape: (268112, 24)\n",
      "dmp shape after dropna: (206165, 3)\n"
     ]
    }
   ],
   "source": [
    "dmp = pd.read_csv(f\"../{cancer_type}/champ_result/{data_source}/{DMP_path}\")\n",
    "print(f\"dmp shape: {dmp.shape}\")\n",
    "dmp = dmp[[\"Unnamed: 0\", \"gene\", \"feature\"]]\n",
    "dmp.dropna(inplace=True)\n",
    "print(f\"dmp shape after dropna: {dmp.shape}\")"
   ]
  },
  {
   "cell_type": "code",
   "execution_count": 18,
   "metadata": {},
   "outputs": [],
   "source": [
    "result = pd.merge(delta_beta, dmp, on=\"Unnamed: 0\", how=\"inner\")"
   ]
  },
  {
   "cell_type": "code",
   "execution_count": 19,
   "metadata": {},
   "outputs": [],
   "source": [
    "def find_max_dBeta_grouped(group):\n",
    "    idx_max = group[\"dbeta\"].abs().idxmax()\n",
    "    return group.loc[idx_max]\n",
    "\n",
    "\n",
    "max_dbeta_per_gene = result.groupby(\"gene\", as_index=False).apply(\n",
    "    find_max_dBeta_grouped, include_groups=False\n",
    ")"
   ]
  },
  {
   "cell_type": "code",
   "execution_count": 21,
   "metadata": {},
   "outputs": [
    {
     "data": {
      "text/html": [
       "<div>\n",
       "<style scoped>\n",
       "    .dataframe tbody tr th:only-of-type {\n",
       "        vertical-align: middle;\n",
       "    }\n",
       "\n",
       "    .dataframe tbody tr th {\n",
       "        vertical-align: top;\n",
       "    }\n",
       "\n",
       "    .dataframe thead th {\n",
       "        text-align: right;\n",
       "    }\n",
       "</style>\n",
       "<table border=\"1\" class=\"dataframe\">\n",
       "  <thead>\n",
       "    <tr style=\"text-align: right;\">\n",
       "      <th></th>\n",
       "      <th>ID</th>\n",
       "      <th>gene</th>\n",
       "      <th>dbeta</th>\n",
       "      <th>feature</th>\n",
       "    </tr>\n",
       "  </thead>\n",
       "  <tbody>\n",
       "    <tr>\n",
       "      <th>0</th>\n",
       "      <td>cg14222245</td>\n",
       "      <td>A1BG</td>\n",
       "      <td>0.093091</td>\n",
       "      <td>Body</td>\n",
       "    </tr>\n",
       "    <tr>\n",
       "      <th>1</th>\n",
       "      <td>cg03391464</td>\n",
       "      <td>A2BP1</td>\n",
       "      <td>-0.090720</td>\n",
       "      <td>Body</td>\n",
       "    </tr>\n",
       "    <tr>\n",
       "      <th>2</th>\n",
       "      <td>cg07218357</td>\n",
       "      <td>A2LD1</td>\n",
       "      <td>-0.038256</td>\n",
       "      <td>TSS200</td>\n",
       "    </tr>\n",
       "    <tr>\n",
       "      <th>3</th>\n",
       "      <td>cg08300930</td>\n",
       "      <td>A2M</td>\n",
       "      <td>0.055621</td>\n",
       "      <td>Body</td>\n",
       "    </tr>\n",
       "    <tr>\n",
       "      <th>4</th>\n",
       "      <td>cg21416544</td>\n",
       "      <td>A2ML1</td>\n",
       "      <td>0.074046</td>\n",
       "      <td>Body</td>\n",
       "    </tr>\n",
       "    <tr>\n",
       "      <th>...</th>\n",
       "      <td>...</td>\n",
       "      <td>...</td>\n",
       "      <td>...</td>\n",
       "      <td>...</td>\n",
       "    </tr>\n",
       "    <tr>\n",
       "      <th>18360</th>\n",
       "      <td>cg23995459</td>\n",
       "      <td>ZYG11B</td>\n",
       "      <td>-0.046242</td>\n",
       "      <td>TSS1500</td>\n",
       "    </tr>\n",
       "    <tr>\n",
       "      <th>18361</th>\n",
       "      <td>cg09704136</td>\n",
       "      <td>ZYX</td>\n",
       "      <td>0.080822</td>\n",
       "      <td>Body</td>\n",
       "    </tr>\n",
       "    <tr>\n",
       "      <th>18362</th>\n",
       "      <td>cg02459389</td>\n",
       "      <td>ZZEF1</td>\n",
       "      <td>0.114043</td>\n",
       "      <td>Body</td>\n",
       "    </tr>\n",
       "    <tr>\n",
       "      <th>18363</th>\n",
       "      <td>cg17224732</td>\n",
       "      <td>ZZZ3</td>\n",
       "      <td>0.011370</td>\n",
       "      <td>TSS200</td>\n",
       "    </tr>\n",
       "    <tr>\n",
       "      <th>18364</th>\n",
       "      <td>cg20009101</td>\n",
       "      <td>psiTPTE22</td>\n",
       "      <td>0.021316</td>\n",
       "      <td>Body</td>\n",
       "    </tr>\n",
       "  </tbody>\n",
       "</table>\n",
       "<p>18365 rows × 4 columns</p>\n",
       "</div>"
      ],
      "text/plain": [
       "               ID       gene     dbeta  feature\n",
       "0      cg14222245       A1BG  0.093091     Body\n",
       "1      cg03391464      A2BP1 -0.090720     Body\n",
       "2      cg07218357      A2LD1 -0.038256   TSS200\n",
       "3      cg08300930        A2M  0.055621     Body\n",
       "4      cg21416544      A2ML1  0.074046     Body\n",
       "...           ...        ...       ...      ...\n",
       "18360  cg23995459     ZYG11B -0.046242  TSS1500\n",
       "18361  cg09704136        ZYX  0.080822     Body\n",
       "18362  cg02459389      ZZEF1  0.114043     Body\n",
       "18363  cg17224732       ZZZ3  0.011370   TSS200\n",
       "18364  cg20009101  psiTPTE22  0.021316     Body\n",
       "\n",
       "[18365 rows x 4 columns]"
      ]
     },
     "execution_count": 21,
     "metadata": {},
     "output_type": "execute_result"
    }
   ],
   "source": [
    "max_dbeta_per_gene.columns = [\"gene\", \"ID\", \"dbeta\", \"feature\"]\n",
    "max_dbeta_per_gene = max_dbeta_per_gene[[\"ID\", \"gene\", \"dbeta\", \"feature\"]]\n",
    "max_dbeta_per_gene"
   ]
  },
  {
   "cell_type": "code",
   "execution_count": 22,
   "metadata": {},
   "outputs": [],
   "source": [
    "comorbidity = pd.read_csv(\n",
    "    \"../external_result/matchgene174_single_3Y10__OR2.txt\", sep=\"\\t\", header=None\n",
    ")"
   ]
  },
  {
   "cell_type": "code",
   "execution_count": 23,
   "metadata": {},
   "outputs": [
    {
     "data": {
      "text/html": [
       "<div>\n",
       "<style scoped>\n",
       "    .dataframe tbody tr th:only-of-type {\n",
       "        vertical-align: middle;\n",
       "    }\n",
       "\n",
       "    .dataframe tbody tr th {\n",
       "        vertical-align: top;\n",
       "    }\n",
       "\n",
       "    .dataframe thead th {\n",
       "        text-align: right;\n",
       "    }\n",
       "</style>\n",
       "<table border=\"1\" class=\"dataframe\">\n",
       "  <thead>\n",
       "    <tr style=\"text-align: right;\">\n",
       "      <th></th>\n",
       "      <th>ID</th>\n",
       "      <th>gene</th>\n",
       "      <th>dbeta</th>\n",
       "      <th>feature</th>\n",
       "    </tr>\n",
       "  </thead>\n",
       "  <tbody>\n",
       "    <tr>\n",
       "      <th>3</th>\n",
       "      <td>cg08300930</td>\n",
       "      <td>A2M</td>\n",
       "      <td>0.055621</td>\n",
       "      <td>Body</td>\n",
       "    </tr>\n",
       "    <tr>\n",
       "      <th>4</th>\n",
       "      <td>cg21416544</td>\n",
       "      <td>A2ML1</td>\n",
       "      <td>0.074046</td>\n",
       "      <td>Body</td>\n",
       "    </tr>\n",
       "    <tr>\n",
       "      <th>11</th>\n",
       "      <td>cg13001012</td>\n",
       "      <td>AADAC</td>\n",
       "      <td>-0.039686</td>\n",
       "      <td>TSS1500</td>\n",
       "    </tr>\n",
       "    <tr>\n",
       "      <th>14</th>\n",
       "      <td>cg06339629</td>\n",
       "      <td>AADAT</td>\n",
       "      <td>0.035697</td>\n",
       "      <td>TSS1500</td>\n",
       "    </tr>\n",
       "    <tr>\n",
       "      <th>15</th>\n",
       "      <td>cg20940607</td>\n",
       "      <td>AAGAB</td>\n",
       "      <td>0.009760</td>\n",
       "      <td>1stExon</td>\n",
       "    </tr>\n",
       "    <tr>\n",
       "      <th>...</th>\n",
       "      <td>...</td>\n",
       "      <td>...</td>\n",
       "      <td>...</td>\n",
       "      <td>...</td>\n",
       "    </tr>\n",
       "    <tr>\n",
       "      <th>18318</th>\n",
       "      <td>cg07135797</td>\n",
       "      <td>ZNRD1</td>\n",
       "      <td>-0.063229</td>\n",
       "      <td>Body</td>\n",
       "    </tr>\n",
       "    <tr>\n",
       "      <th>18321</th>\n",
       "      <td>cg13298682</td>\n",
       "      <td>ZNRF3</td>\n",
       "      <td>-0.087323</td>\n",
       "      <td>Body</td>\n",
       "    </tr>\n",
       "    <tr>\n",
       "      <th>18337</th>\n",
       "      <td>cg05616010</td>\n",
       "      <td>ZSCAN18</td>\n",
       "      <td>0.084201</td>\n",
       "      <td>TSS1500</td>\n",
       "    </tr>\n",
       "    <tr>\n",
       "      <th>18357</th>\n",
       "      <td>cg14642833</td>\n",
       "      <td>ZWINT</td>\n",
       "      <td>-0.015362</td>\n",
       "      <td>TSS1500</td>\n",
       "    </tr>\n",
       "    <tr>\n",
       "      <th>18361</th>\n",
       "      <td>cg09704136</td>\n",
       "      <td>ZYX</td>\n",
       "      <td>0.080822</td>\n",
       "      <td>Body</td>\n",
       "    </tr>\n",
       "  </tbody>\n",
       "</table>\n",
       "<p>7868 rows × 4 columns</p>\n",
       "</div>"
      ],
      "text/plain": [
       "               ID     gene     dbeta  feature\n",
       "3      cg08300930      A2M  0.055621     Body\n",
       "4      cg21416544    A2ML1  0.074046     Body\n",
       "11     cg13001012    AADAC -0.039686  TSS1500\n",
       "14     cg06339629    AADAT  0.035697  TSS1500\n",
       "15     cg20940607    AAGAB  0.009760  1stExon\n",
       "...           ...      ...       ...      ...\n",
       "18318  cg07135797    ZNRD1 -0.063229     Body\n",
       "18321  cg13298682    ZNRF3 -0.087323     Body\n",
       "18337  cg05616010  ZSCAN18  0.084201  TSS1500\n",
       "18357  cg14642833    ZWINT -0.015362  TSS1500\n",
       "18361  cg09704136      ZYX  0.080822     Body\n",
       "\n",
       "[7868 rows x 4 columns]"
      ]
     },
     "execution_count": 23,
     "metadata": {},
     "output_type": "execute_result"
    }
   ],
   "source": [
    "result_max_per_gene_single = max_dbeta_per_gene[\n",
    "    max_dbeta_per_gene[\"gene\"].isin(comorbidity[0])\n",
    "]\n",
    "\n",
    "\n",
    "result_max_per_gene_single"
   ]
  },
  {
   "cell_type": "code",
   "execution_count": 25,
   "metadata": {},
   "outputs": [],
   "source": [
    "# check if the folder exists\n",
    "if not os.path.exists(f\"../{cancer_type}/result/{data_source}/{result_folder}\"):\n",
    "    os.makedirs(f\"../{cancer_type}/result/{data_source}/{result_folder}\")\n",
    "result_max_per_gene_single.to_csv(\n",
    "    f\"../{cancer_type}/result/{data_source}/{result_folder}/dbeta.csv\", index=False\n",
    ")"
   ]
  },
  {
   "cell_type": "code",
   "execution_count": null,
   "metadata": {},
   "outputs": [],
   "source": []
  }
 ],
 "metadata": {
  "kernelspec": {
   "display_name": "venv",
   "language": "python",
   "name": "python3"
  },
  "language_info": {
   "codemirror_mode": {
    "name": "ipython",
    "version": 3
   },
   "file_extension": ".py",
   "mimetype": "text/x-python",
   "name": "python",
   "nbconvert_exporter": "python",
   "pygments_lexer": "ipython3",
   "version": "3.11.9"
  }
 },
 "nbformat": 4,
 "nbformat_minor": 2
}
