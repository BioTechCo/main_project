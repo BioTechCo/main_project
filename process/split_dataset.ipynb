{
 "cells": [
  {
   "cell_type": "markdown",
   "metadata": {},
   "source": [
    "<!-- @format -->\n",
    "\n",
    "### Implementation\n",
    "\n",
    "1. remove duplicate column\n",
    "2. combine two sets if needed\n",
    "3. create array of probe name and type\n",
    "4. using train_test_split to split train and test data\n",
    "5. combine probe name, type and train_X as new train_df to output\n",
    "\n",
    "### Notes\n",
    "\n",
    "1. Be aware of random seed ratio setting\n",
    "2. Ensure the first n row are normal in inputData\n",
    "3. It takes around 5 min to finish breast cancer data\n",
    "4. (PLEASE change the path by youself)\n",
    "5. make sure input df is as follow:\n",
    "\n",
    "| Unnamed: 0   |            |            |          |          |\n",
    "| ------------ | ---------- | ---------- | -------- | -------- |\n",
    "| cgxxxxxxxxxx | 0.86868686 | 0.86868686 | 0.363636 | 0.363636 |\n",
    "| cgxxxxxxxxxx | 0.86868686 | 0.86868686 | 0.363636 | 0.363636 |\n",
    "| cgxxxxxxxxxx | 0.86868686 | 0.86868686 | 0.363636 | 0.363636 |\n",
    "| cgxxxxxxxxxx | 0.86868686 | 0.86868686 | 0.363636 | 0.363636 |\n",
    "\n",
    "### Input Columns\n",
    "\n",
    "1. `Unnamed: 0` - id of the sample\n",
    "   > list of serial number for each sample\n",
    "\n",
    "### Output File\n",
    "\n",
    "1. training_data.csv\n",
    "2. testing_data.csv\n",
    "\n",
    "### Parameters\n",
    "\n",
    "1. `seed` - make sure to change it if you want to have muiltple diffrent result\n",
    "2. `test_ratio` - the ratio to split train and test from champ data\n",
    "3. `hasTwoSets` - combine two set if needed, remember to set secChampDataPath \n",
    "4. `normalNumber` - the total number of tumor data\n",
    "5. `champDataPath` - path of input data file (PLEASE change the path by youself)\n",
    "6. `secChampDataPath` - path of input data file (PLEASE change the path by youself)\n",
    "7. `outputTrainDataPath` - path of output train data file\n",
    "8. `outputTestDataPath` - path of output test data file\n"
   ]
  },
  {
   "cell_type": "code",
   "execution_count": null,
   "metadata": {},
   "outputs": [],
   "source": [
    "import pandas as pd\n",
    "from sklearn.model_selection import train_test_split"
   ]
  },
  {
   "cell_type": "code",
   "execution_count": null,
   "metadata": {},
   "outputs": [],
   "source": [
    "test_ratio = 0.2\n",
    "seed = 42\n",
    "\n",
    "\n",
    "hasTwoSets = True\n",
    "\n",
    "normalNumber = 8\n",
    "\n",
    "champDataPath = \"../champ_result/breast/GSE148663/all_beta_normalized.csv\"\n",
    "\n",
    "secChampDataPath = \"../champ_result/breast/GSE148663/all_beta_normalized.csv\"\n",
    "\n",
    "outputTrainDataPath = \"../champ_result/breast/GSE148663/train80/all_beta_normalized.csv\"\n",
    "\n",
    "outputTestDataPath = \"../champ_result/breast/GSE148663/test20/all_beta_normalized.csv\""
   ]
  },
  {
   "cell_type": "code",
   "execution_count": null,
   "metadata": {},
   "outputs": [],
   "source": [
    "df = pd.read_csv(champDataPath)\n",
    "df = df.iloc[:, ::2]\n",
    "if(hasTwoSets):\n",
    "    df2 = pd.read_csv(secChampDataPath)\n",
    "    df2 = df2.iloc[:, ::2]\n",
    "    df = df.merge(df2, on='Unnamed: 0', how='outer', suffixes=('_df1', '_df2'))\n",
    "df"
   ]
  },
  {
   "cell_type": "code",
   "execution_count": null,
   "metadata": {},
   "outputs": [],
   "source": [
    "X = df.iloc[:, 1::]\n",
    "\n",
    "X = [X.iloc[i, :].values.flatten().tolist() for i in range((df.shape[0]))]\n",
    "\n",
    "X = pd.DataFrame(X)  \n",
    "\n",
    "type_array = [(\"normal\" if i < normalNumber else \"tumor\") for i in range((df.shape[0]))]\n",
    "\n",
    "name_array = df[\"Unnamed: 0\"].tolist()"
   ]
  },
  {
   "cell_type": "code",
   "execution_count": null,
   "metadata": {},
   "outputs": [],
   "source": [
    "from collections import Counter\n",
    "\n",
    "X_train, X_test, type_train, type_test, name_train, name_test = train_test_split(X, type_array, name_array, test_size=0.2, random_state=42)\n",
    "\n",
    "print(f\"訓練集樣本數量： {len(X_train)}\")\n",
    "print(f\"測試集樣本數量： {len(X_test)}\")\n",
    "train_class_distribution = Counter(type_train)\n",
    "val_class_distribution = Counter(type_test)\n",
    "print(\"訓練集中各類別樣本數量：\")\n",
    "print(train_class_distribution)\n",
    "print(\"測試集中各類別樣本數量：\")\n",
    "print(val_class_distribution)"
   ]
  },
  {
   "cell_type": "code",
   "execution_count": null,
   "metadata": {},
   "outputs": [],
   "source": [
    "train_df = pd.concat(\n",
    "    [pd.DataFrame(name_train),pd.DataFrame(type_train),pd.DataFrame(X_train)], ignore_index=True, axis=1\n",
    ")\n",
    "test_df = pd.concat(\n",
    "    [pd.DataFrame(name_test),pd.DataFrame(type_test),pd.DataFrame(X_test)], ignore_index=True, axis=1\n",
    ")\n",
    "\n",
    "train_df = train_df.sort_values(by=[train_df.columns[1],train_df.columns[0]])\n",
    "test_df = test_df.sort_values(by=[test_df.columns[1],test_df.columns[0]])\n",
    "train_df"
   ]
  },
  {
   "cell_type": "code",
   "execution_count": null,
   "metadata": {},
   "outputs": [],
   "source": [
    "# export the training and testing sets to CSV\n",
    "train_df.to_csv(outputTrainDataPath, index=False)\n",
    "\n",
    "test_df.to_csv(outputTestDataPath, index=False)"
   ]
  }
 ],
 "metadata": {
  "kernelspec": {
   "display_name": ".venv",
   "language": "python",
   "name": "python3"
  },
  "language_info": {
   "codemirror_mode": {
    "name": "ipython",
    "version": 3
   },
   "file_extension": ".py",
   "mimetype": "text/x-python",
   "name": "python",
   "nbconvert_exporter": "python",
   "pygments_lexer": "ipython3",
   "version": "3.12.2"
  }
 },
 "nbformat": 4,
 "nbformat_minor": 2
}
