{
 "cells": [
  {
   "cell_type": "markdown",
   "metadata": {},
   "source": [
    "<!-- @format -->\n",
    "\n",
    "### Implementation\n",
    "\n",
    "1. split champ data into train and test\n",
    "\n",
    "### Notes\n",
    "\n",
    "1. Be aware of random seed raio setting\n",
    "2. Ensure the number and position of tumor samples or normal samples in inputData\n",
    "3. It takes around 15 min to finish breast cancer data\n",
    "4. (PLEASE change the path by youself)\n",
    "\n",
    "### Input Columns\n",
    "\n",
    "1. `Unnamed: 0` - id of the sample\n",
    "   > list of serial number for each sample\n",
    "\n",
    "### Output File\n",
    "\n",
    "1. training_data.csv\n",
    "2. testing_data.csv\n",
    "\n",
    "### Parameters\n",
    "\n",
    "1. `seed` - make sure to change it if you want to have muiltple diffrent result\n",
    "2. `train_ratio` - the ratio to split train and test from champ data\n",
    "3. `isTumorFirst` - Ensure that tumor samples or normal samples are in the first n rows of the data set\n",
    "4. `tumorNumber` - the total number of tumor data\n",
    "5. `champDataPath` - path of input data file (PLEASE change the path by youself)\n",
    "6. `outputTrainDataPath` - path of output train data file\n",
    "7. `outputTestDataPath` - path of output test data file\n"
   ]
  },
  {
   "cell_type": "code",
   "execution_count": null,
   "metadata": {},
   "outputs": [],
   "source": [
    "import pandas as pd\n",
    "from sklearn.model_selection import train_test_split"
   ]
  },
  {
   "cell_type": "code",
   "execution_count": null,
   "metadata": {},
   "outputs": [],
   "source": [
    "train_ratio = 0.8\n",
    "seed = 42\n",
    "isTumorFirst = True\n",
    "tumorNumber = 98\n",
    "champDataPath = \"../champ_result/breast/GSE148663/all_beta_normalized.csv\"\n",
    "outputTrainDataPath = \"../champ_result/breast/GSE148663/train80/outputTrainDataPath.csv\"\n",
    "outputTestDataPath = \"../champ_result/breast/GSE148663/test20/outputTestDataPath.csv\""
   ]
  },
  {
   "cell_type": "code",
   "execution_count": null,
   "metadata": {},
   "outputs": [],
   "source": [
    "new_col  = pd.DataFrame\n",
    "\n",
    "df = pd.read_csv(champDataPath)\n",
    "\n",
    "if(isTumorFirst) :\n",
    "    new_col = ['tumor'] * tumorNumber + ['normal'] * (len(df) - tumorNumber)\n",
    "else :\n",
    "    new_col = ['normal'] * (len(df) - tumorNumber) + ['tumor'] * tumorNumber\n",
    "new_col\n",
    "df.insert(1, 'Type', new_col)"
   ]
  },
  {
   "cell_type": "code",
   "execution_count": null,
   "metadata": {},
   "outputs": [],
   "source": [
    "train_df, test_df = train_test_split(df, train_size=train_ratio, random_state=seed)"
   ]
  },
  {
   "cell_type": "code",
   "execution_count": null,
   "metadata": {},
   "outputs": [],
   "source": [
    "# export the training and testing sets to CSV\n",
    "train_df.to_csv(outputTrainDataPath, index=False)\n",
    "\n",
    "test_df.to_csv(outputTestDataPath, index=False)"
   ]
  },
  {
   "cell_type": "code",
   "execution_count": null,
   "metadata": {},
   "outputs": [],
   "source": [
    "print(f\"總樣本數量： {len(df)}\")\n",
    "print(f\"訓練集樣本數量： {len(train_df)}\")\n",
    "print(f\"訓練集tumor數量：{(train_df[\"Type\"] == \"tumor\").sum()}\")\n",
    "print(f\"訓練集normal數量：{(train_df[\"Type\"] == \"normal\").sum()}\")\n",
    "\n",
    "print(f\"測試集樣本數量： {len(test_df)}\")\n",
    "print(f\"測試集tumor數量：{(test_df[\"Type\"] == \"tumor\").sum()}\")\n",
    "print(f\"訓練集normal數量：{(test_df[\"Type\"] == \"normal\").sum()}\")"
   ]
  }
 ],
 "metadata": {
  "kernelspec": {
   "display_name": ".venv",
   "language": "python",
   "name": "python3"
  },
  "language_info": {
   "codemirror_mode": {
    "name": "ipython",
    "version": 3
   },
   "file_extension": ".py",
   "mimetype": "text/x-python",
   "name": "python",
   "nbconvert_exporter": "python",
   "pygments_lexer": "ipython3",
   "version": "3.12.2"
  }
 },
 "nbformat": 4,
 "nbformat_minor": 2
}
