{
 "cells": [
  {
   "cell_type": "markdown",
   "metadata": {},
   "source": [
    "<!-- @format -->\n",
    "\n",
    "### Implementation\n",
    "\n",
    "1. split champ data into train and test\n",
    "\n",
    "### Notes\n",
    "\n",
    "1. Be aware of random seed raio setting\n",
    "2. It takes around 25 min to finish breast cancer data\n",
    "3. (PLEASE change the path by youself)\n",
    "\n",
    "### Input Columns\n",
    "\n",
    "1. `Unnamed: 0` - id of the sample\n",
    "   > list of serial number for each sample\n",
    "\n",
    "### Output File\n",
    "\n",
    "1. training_data.csv\n",
    "2. testing_data.csv\n",
    "\n",
    "### Parameters\n",
    "\n",
    "1. `seed` - make sure to change it if you want to have muiltple diffrent result\n",
    "2. `train_ratio` - the ratio to split train and test from champ data\n",
    "3. `champDataPath` - path of input data file (PLEASE change the path by youself)\n",
    "4. `outputTrainDataPath` - path of output train data file\n",
    "5. `outputTestDataPath` - path of output test data file\n"
   ]
  },
  {
   "cell_type": "code",
   "execution_count": null,
   "metadata": {},
   "outputs": [],
   "source": [
    "import numpy as np\n",
    "import pandas as pd"
   ]
  },
  {
   "cell_type": "code",
   "execution_count": null,
   "metadata": {},
   "outputs": [],
   "source": [
    "train_ratio = 0.8\n",
    "seed = 42\n",
    "champDataPath = \"\\\\breast\\\\champr_result\"\n",
    "outputTrainDataPath = \"outputTrainDataPath.csv\"\n",
    "outputTestDataPath = \"outputTestDataPath.csv\""
   ]
  },
  {
   "cell_type": "code",
   "execution_count": null,
   "metadata": {},
   "outputs": [
    {
     "ename": "",
     "evalue": "",
     "output_type": "error",
     "traceback": [
      "\u001b[1;31mThe Kernel crashed while executing code in the current cell or a previous cell. \n",
      "\u001b[1;31mPlease review the code in the cell(s) to identify a possible cause of the failure. \n",
      "\u001b[1;31mClick <a href='https://aka.ms/vscodeJupyterKernelCrash'>here</a> for more info. \n",
      "\u001b[1;31mView Jupyter <a href='command:jupyter.viewOutput'>log</a> for further details."
     ]
    }
   ],
   "source": [
    "import pandas as pd\n",
    "\n",
    "df = pd.read_csv(champDataPath)\n",
    "\n",
    "print(df.head())"
   ]
  },
  {
   "cell_type": "code",
   "execution_count": null,
   "metadata": {},
   "outputs": [],
   "source": [
    "\n",
    "train_size = int(train_ratio * len(df))\n",
    "\n",
    "np.random.seed(seed)\n",
    "train_indices = np.random.choice(len(df), int(0.8 * len(df)), replace=False)\n",
    "\n",
    "train_df = df.iloc[train_indices]\n",
    "test_df = df.drop(train_indices)\n",
    "\n",
    "train_df.to_csv(\"training_data.csv\", index=False)\n",
    "test_df.to_csv(\"testing_data.csv\", index=False)"
   ]
  },
  {
   "cell_type": "code",
   "execution_count": null,
   "metadata": {},
   "outputs": [],
   "source": [
    "train_df.to_csv(outputTrainDataPath, index=False)\n",
    "test_df.to_csv(outputTestDataPath, index=False)"
   ]
  },
  {
   "cell_type": "code",
   "execution_count": null,
   "metadata": {},
   "outputs": [],
   "source": [
    "# test if the data is correctly split\n",
    "print(train_df.shape[0], train_df.shape[1])\n",
    "print(test_df.shape[0], test_df.shape[1])\n",
    "print(df.shape[0], df.shape[1])"
   ]
  }
 ],
 "metadata": {
  "kernelspec": {
   "display_name": ".venv",
   "language": "python",
   "name": "python3"
  },
  "language_info": {
   "codemirror_mode": {
    "name": "ipython",
    "version": 3
   },
   "file_extension": ".py",
   "mimetype": "text/x-python",
   "name": "python",
   "nbconvert_exporter": "python",
   "pygments_lexer": "ipython3",
   "version": "3.12.2"
  }
 },
 "nbformat": 4,
 "nbformat_minor": 2
}
