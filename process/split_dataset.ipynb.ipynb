{
 "cells": [
  {
   "cell_type": "markdown",
   "metadata": {},
   "source": [
    "# split champ data(all_beta_normalized) to train/test data\n",
    "\n",
    "setup the following variable\n",
    "* iuput csvFile(It should have probs name in first column)\n",
    "* train/test ratio\n",
    "* random seed\n",
    "* output file name( for example \"all_beta_normalized_train\")\n",
    "\n",
    "and wait around 25min (breast cancer)\n",
    "\n",
    "saving it as given file structure\n",
    "```\n",
    "    │   ├── result/\n",
    "    │   │   ├── GSE243529/\n",
    "    │   │   │   ├── train75/\n",
    "    │   │   │   │   ├── all_beta_normalized_train\n",
    "    │   │   │   │   ├── dbeta.csv\n",
    "    │   │   │   │   ├── dbeta_0.01.csv\n",
    "    │   │   │   │   ├── dbeta_hyper_0.01.csv\n",
    "    │   │   │   │   ├── distance_matrix_0.01.csv\n",
    "    │   │   │   │   ├── distance_matrix_hyper_0.01.csv\n",
    "    │   │   │   │   ├── cluster_0.01.csv\n",
    "    │   │   │   │   └── cluster_hper_0.01.csv\n",
    "    │   │   │   ├── test25/\n",
    "    │   │   │   │   └── all_beta_normalized_test\n",
    "    ```"
   ]
  },
  {
   "cell_type": "code",
   "execution_count": null,
   "metadata": {},
   "outputs": [],
   "source": [
    "import numpy as np\n",
    "import pandas as pd\n",
    "import winsound\n"
   ]
  },
  {
   "cell_type": "code",
   "execution_count": null,
   "metadata": {},
   "outputs": [],
   "source": [
    "np.random.seed(42)\n",
    "train_ratio = 0.8"
   ]
  },
  {
   "cell_type": "code",
   "execution_count": null,
   "metadata": {},
   "outputs": [],
   "source": [
    "import pandas as pd\n",
    "\n",
    "df = pd.read_csv(\"D:\\\\大學專題\\\\praticalProject\\\\all_beta_normalized\\\\all_beta_normalized.csv\")\n",
    "\n",
    "print(df.head())\n",
    "\n"
   ]
  },
  {
   "cell_type": "code",
   "execution_count": null,
   "metadata": {},
   "outputs": [],
   "source": [
    "\n",
    "train_size = int(train_ratio * len(df))\n",
    "\n",
    "train_indices = np.random.choice(len(df), int(0.8 * len(df)), replace=False)\n",
    "train_df = df.iloc[train_indices]\n",
    "test_df = df.drop(train_indices)\n",
    "\n",
    "train_df.to_csv(\"training_data.csv\", index=False)\n",
    "test_df.to_csv(\"testing_data.csv\", index=False)\n",
    "\n",
    "winsound.Beep(300, 2000)  # Beep at 1000 Hz for 1000 ms"
   ]
  },
  {
   "cell_type": "code",
   "execution_count": null,
   "metadata": {},
   "outputs": [],
   "source": [
    "train_df.to_csv(\"training_data.csv\", index=False)\n",
    "test_df.to_csv(\"testing_data.csv\", index=False)\n",
    "\n",
    "winsound.Beep(300, 2000)  # Beep at 1000 Hz for 1000 ms"
   ]
  },
  {
   "cell_type": "code",
   "execution_count": null,
   "metadata": {},
   "outputs": [],
   "source": [
    "# test if the data is correctly split\n",
    "print(train_df.shape[0],train_df.shape[1])\n",
    "print(test_df.shape[0],test_df.shape[1])\n",
    "print(df.shape[0],df.shape[1])"
   ]
  }
 ],
 "metadata": {
  "kernelspec": {
   "display_name": ".venv",
   "language": "python",
   "name": "python3"
  },
  "language_info": {
   "codemirror_mode": {
    "name": "ipython",
    "version": 3
   },
   "file_extension": ".py",
   "mimetype": "text/x-python",
   "name": "python",
   "nbconvert_exporter": "python",
   "pygments_lexer": "ipython3",
   "version": "3.12.2"
  }
 },
 "nbformat": 4,
 "nbformat_minor": 2
}
