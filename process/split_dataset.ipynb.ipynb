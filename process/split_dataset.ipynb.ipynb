{
 "cells": [
  {
   "cell_type": "markdown",
   "metadata": {},
   "source": [
    "<!-- @format -->\n",
    "\n",
    "### Implementation\n",
    "\n",
    "1. split champ data into train and test\n",
    "\n",
    "### Notes\n",
    "\n",
    "1. Be aware of random seed raio setting\n",
    "2. It takes around 25 min to finish breast cancer data\n",
    "3. (PLEASE change the path by youself)\n",
    "\n",
    "### Input Columns\n",
    "\n",
    "1. `Unnamed: 0` - id of the sample\n",
    "   > list of serial number for each sample\n",
    "\n",
    "### Output File\n",
    "\n",
    "1. training_data.csv\n",
    "2. testing_data.csv\n",
    "\n",
    "### Parameters\n",
    "\n",
    "1. `seed` - make sure to change it if you want to have muiltple diffrent result\n",
    "2. `train_ratio` - the ratio to split train and test from champ data\n",
    "3. `champDataPath` - path of input data file (PLEASE change the path by youself)\n",
    "4. `outputTrainDataPath` - path of output train data file\n",
    "5. `outputTestDataPath` - path of output test data file\n"
   ]
  },
  {
   "cell_type": "code",
   "execution_count": 2,
   "metadata": {},
   "outputs": [],
   "source": [
    "import pandas as pd\n",
    "from sklearn.model_selection import train_test_split"
   ]
  },
  {
   "cell_type": "code",
   "execution_count": 9,
   "metadata": {},
   "outputs": [],
   "source": [
    "train_ratio = 0.8\n",
    "seed = 42\n",
    "champDataPath = \"../champ_result/breast/champ_result/GSE148663/all_beta_normalized.csv\"\n",
    "outputTrainDataPath = \"outputTrainDataPath.csv\"\n",
    "outputTestDataPath = \"outputTestDataPath.csv\""
   ]
  },
  {
   "cell_type": "code",
   "execution_count": 20,
   "metadata": {},
   "outputs": [],
   "source": [
    "df = pd.read_csv(champDataPath)"
   ]
  },
  {
   "cell_type": "code",
   "execution_count": 30,
   "metadata": {},
   "outputs": [],
   "source": [
    "# Split the DataFrame into training and testing sets\n",
    "train_df, test_df = train_test_split(\n",
    "    df.iloc[:, 1:].T, train_size=train_ratio, random_state=seed\n",
    ")\n",
    "train_df = pd.concat([df.iloc[:, 0], train_df.T], axis=1)\n",
    "test_df = pd.concat([df.iloc[:, 0], test_df.T], axis=1)"
   ]
  },
  {
   "cell_type": "code",
   "execution_count": 31,
   "metadata": {},
   "outputs": [],
   "source": [
    "# export the training and testing sets to CSV\n",
    "train_df.to_csv(outputTrainDataPath, index=False)\n",
    "\n",
    "test_df.to_csv(outputTestDataPath, index=False)"
   ]
  },
  {
   "cell_type": "code",
   "execution_count": 33,
   "metadata": {},
   "outputs": [
    {
     "name": "stdout",
     "output_type": "stream",
     "text": [
      "Training DataFrame: 410747 rows, 52 columns\n",
      "Testing DataFrame: 410747 rows, 14 columns\n",
      "Original DataFrame: 410747 rows, 65 columns\n"
     ]
    }
   ],
   "source": [
    "print(f\"Training DataFrame: {train_df.shape[0]} rows, {train_df.shape[1]} columns\")\n",
    "print(f\"Testing DataFrame: {test_df.shape[0]} rows, {test_df.shape[1]} columns\")\n",
    "print(f\"Original DataFrame: {df.shape[0]} rows, {df.shape[1]} columns\")"
   ]
  },
  {
   "cell_type": "code",
   "execution_count": null,
   "metadata": {},
   "outputs": [],
   "source": []
  }
 ],
 "metadata": {
  "kernelspec": {
   "display_name": ".venv",
   "language": "python",
   "name": "python3"
  },
  "language_info": {
   "codemirror_mode": {
    "name": "ipython",
    "version": 3
   },
   "file_extension": ".py",
   "mimetype": "text/x-python",
   "name": "python",
   "nbconvert_exporter": "python",
   "pygments_lexer": "ipython3",
   "version": "3.11.9"
  }
 },
 "nbformat": 4,
 "nbformat_minor": 2
}
