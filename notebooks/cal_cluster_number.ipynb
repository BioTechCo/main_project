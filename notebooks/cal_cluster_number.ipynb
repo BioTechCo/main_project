{
 "cells": [
  {
   "cell_type": "markdown",
   "metadata": {},
   "source": [
    "計算 Silhouette Score 獲得最佳分群數(依照Ward分群)"
   ]
  },
  {
   "cell_type": "code",
   "execution_count": 2,
   "metadata": {},
   "outputs": [],
   "source": [
    "import matplotlib.pyplot as plt\n",
    "from scipy.cluster.hierarchy import linkage, dendrogram, fcluster\n",
    "from sklearn.metrics import silhouette_score\n",
    "from scipy.spatial.distance import squareform\n",
    "import pandas as pd\n",
    "import numpy as np"
   ]
  },
  {
   "cell_type": "code",
   "execution_count": null,
   "metadata": {},
   "outputs": [],
   "source": [
    "data=pd.read_csv(\"../distance_matrix.csv\")\n",
    "data=data.iloc[0:,1:]\n",
    "data"
   ]
  },
  {
   "cell_type": "code",
   "execution_count": null,
   "metadata": {},
   "outputs": [],
   "source": [
    "# replace NaN with 0\n",
    "data = data.fillna(1)\n",
    "# replace 0 with 1\n",
    "data = data.replace(0, 1)\n",
    "for i in range(data.shape[0]):\n",
    "    data.iloc[i,i]=0\n",
    "condensed_data = squareform(data, force='tovector', checks=False)\n",
    "linkage_matrix = linkage(condensed_data, method='ward')\n",
    "\n",
    "dendrogram(linkage_matrix, color_threshold=1.9)\n",
    "plt.tick_params(axis='x', which='both', bottom=False, top=False, labelbottom=False)\n",
    "plt.xlabel('Genes')\n",
    "plt.title('Dendrogram using Ward Method')\n",
    "plt.show()"
   ]
  },
  {
   "cell_type": "code",
   "execution_count": null,
   "metadata": {},
   "outputs": [],
   "source": [
    "silhouette_scores = []\n",
    "\n",
    "for k in range(2, 11):\n",
    "    labels = fcluster(linkage_matrix, t=k, criterion='maxclust')\n",
    "    silhouette_scores.append(silhouette_score(data, labels, metric='precomputed'))\n",
    "\n",
    "fig, ax1 = plt.subplots(figsize=(8, 6))\n",
    "\n",
    "ax1.plot(range(2, 11), silhouette_scores, marker='o', color='green')\n",
    "ax1.set_title('Silhouette Score for Optimal K using Ward Method')\n",
    "ax1.set_xlabel('Number of Clusters (K)')\n",
    "ax1.set_ylabel('Silhouette Score')\n",
    "\n",
    "plt.tight_layout()\n",
    "plt.show()"
   ]
  },
  {
   "cell_type": "code",
   "execution_count": 20,
   "metadata": {},
   "outputs": [],
   "source": [
    "labels = fcluster(linkage_matrix, t=8, criterion='maxclust')\n",
    "df = pd.DataFrame()\n",
    "df['Gene'] = data.columns\n",
    "df['Cluster'] = labels\n",
    "df.to_csv('ward_labels.csv', index=False)"
   ]
  },
  {
   "cell_type": "markdown",
   "metadata": {},
   "source": [
    "使用Elbow method計算K-means最佳分群數 (outdated)"
   ]
  },
  {
   "cell_type": "code",
   "execution_count": 4,
   "metadata": {},
   "outputs": [],
   "source": [
    "from sklearn.metrics import silhouette_score\n",
    "from ipywidgets import interact"
   ]
  },
  {
   "cell_type": "code",
   "execution_count": 5,
   "metadata": {},
   "outputs": [],
   "source": [
    "data=pd.read_csv(\"../result/all_beta_normalized_train_0.35.csv\")\n",
    "data=data.iloc[:,1:]"
   ]
  },
  {
   "cell_type": "code",
   "execution_count": null,
   "metadata": {},
   "outputs": [],
   "source": [
    "from sklearn.manifold import TSNE\n",
    "from sklearn.cluster import KMeans\n",
    "import matplotlib.pyplot as plt\n",
    "\n",
    "tsne = TSNE(n_components=3)\n",
    "reduced_data_tsne = tsne.fit_transform(data)\n",
    "\n",
    "kmeans = KMeans(n_clusters=4)  \n",
    "clusters = kmeans.fit_predict(reduced_data_tsne)\n",
    "\n",
    "elev_init, azim_init = 20, 30\n",
    "\n",
    "@interact(elev=(0, 90, 5), azim=(0, 360, 5))\n",
    "def visualize_3d_scatter(elev, azim):\n",
    "    fig = plt.figure(figsize=(8, 6))\n",
    "    ax = fig.add_subplot(111, projection='3d')\n",
    "    ax.set_xlabel('t-SNE Component 1')\n",
    "    ax.set_ylabel('t-SNE Component 2')\n",
    "    ax.set_zlabel('t-SNE Component 3')\n",
    "    ax.set_title('t-SNE 3D Visualization with KMeans Clustering')\n",
    "    ax.view_init(elev=elev, azim=azim)\n",
    "    plt.show()\n"
   ]
  },
  {
   "cell_type": "code",
   "execution_count": null,
   "metadata": {},
   "outputs": [],
   "source": [
    "inertia = []\n",
    "silhouette_scores = []\n",
    "\n",
    "for k in range(2, 11):  \n",
    "    kmeans = KMeans(n_clusters=k, random_state=42)\n",
    "    kmeans.fit(data)\n",
    "    inertia.append(kmeans.inertia_) # intertia 每個樣本到其分配的集群中心平方距離和，表示集群內的緊密度。\n",
    "    labels = kmeans.labels_\n",
    "    silhouette_avg = silhouette_score(data, labels)\n",
    "    silhouette_scores.append(silhouette_avg)\n",
    "\n",
    "plt.figure(figsize=(12, 5))\n",
    "\n",
    "plt.subplot(1, 2, 1)\n",
    "plt.plot(range(2, 11), inertia, marker='o')\n",
    "plt.title('Elbow Method for Optimal K (Inertia)')\n",
    "plt.xlabel('Number of Clusters (K)')\n",
    "plt.ylabel('Inertia')\n",
    "\n",
    "plt.subplot(1, 2, 2)\n",
    "plt.plot(range(2, 11), silhouette_scores, marker='o', color='green')\n",
    "plt.title('Silhouette Score for Optimal K')\n",
    "plt.xlabel('Number of Clusters (K)')\n",
    "plt.ylabel('Silhouette Score')\n",
    "\n",
    "plt.tight_layout()\n",
    "plt.show()\n"
   ]
  }
 ],
 "metadata": {
  "kernelspec": {
   "display_name": "base",
   "language": "python",
   "name": "python3"
  },
  "language_info": {
   "codemirror_mode": {
    "name": "ipython",
    "version": 3
   },
   "file_extension": ".py",
   "mimetype": "text/x-python",
   "name": "python",
   "nbconvert_exporter": "python",
   "pygments_lexer": "ipython3",
   "version": "3.10.11"
  }
 },
 "nbformat": 4,
 "nbformat_minor": 2
}
