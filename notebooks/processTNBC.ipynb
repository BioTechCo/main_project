{
 "cells": [
  {
   "cell_type": "code",
   "execution_count": 1,
   "metadata": {},
   "outputs": [],
   "source": [
    "import os\n",
    "import gzip\n",
    "import re\n",
    "import polars as pl\n",
    "import tarfile as tf\n",
    "import shutil"
   ]
  },
  {
   "cell_type": "code",
   "execution_count": 3,
   "metadata": {},
   "outputs": [],
   "source": [
    "def unzip(file_path, target_path, type='gz'):\n",
    "    if type == 'gz':\n",
    "        with gzip.open(file_path, 'rb') as gz_file, open(file_path[:-3], 'wb') as uncompressed_file:\n",
    "            uncompressed_file.write(gz_file.read())\n",
    "    elif type == 'tar':\n",
    "        with tf.open(file_path, 'r') as tar_file:\n",
    "            tar_file.extractall(file_path[:-4])\n",
    "    else:\n",
    "        raise ValueError(f'Unknown type: {type}')"
   ]
  },
  {
   "cell_type": "code",
   "execution_count": 8,
   "metadata": {},
   "outputs": [],
   "source": [
    "def unzip_gz_files(directory_path):\n",
    "    for filename in os.listdir(directory_path):\n",
    "        file_path = os.path.join(directory_path, filename)\n",
    "        if filename.endswith('.gz'):\n",
    "            unzip(file_path)\n",
    "            print(f\"Unzipped: {filename}\")"
   ]
  },
  {
   "cell_type": "code",
   "execution_count": 13,
   "metadata": {},
   "outputs": [
    {
     "name": "stdout",
     "output_type": "stream",
     "text": [
      "abc\n"
     ]
    }
   ],
   "source": [
    "def retrieve_characters_before_pattern(input_string):\n",
    "    \n",
    "    pattern = re.compile(r'^(.*?)(?=_)')\n",
    "\n",
    "    match = re.search(pattern, input_string)\n",
    "\n",
    "    if match:\n",
    "        result = match.group(1)\n",
    "        return result\n",
    "    else:\n",
    "        return None\n",
    "print(retrieve_characters_before_pattern('abc_123'))"
   ]
  },
  {
   "cell_type": "code",
   "execution_count": 18,
   "metadata": {},
   "outputs": [
    {
     "name": "stdout",
     "output_type": "stream",
     "text": [
      "123\n"
     ]
    }
   ],
   "source": [
    "def remove_characters_before_underscore(input_string):\n",
    "    pattern = re.compile(r'^.*?_')\n",
    "    result = re.sub(pattern, '', input_string)\n",
    "    return result\n",
    "print(remove_characters_before_underscore('abc_123'))"
   ]
  },
  {
   "cell_type": "markdown",
   "metadata": {},
   "source": [
    "```\n",
    "Sample_Name\tSample_Plate\tSample_Group\tPool_ID\tSentrix_ID\tSentrix_Position\n",
    "1\t\t                        Normal\t\t        6026818108\tR03C02\n",
    "2\t\t                        Normal\t\t        6026818108\tR03C02\n",
    "3\t\t                        Normal\t\t        6026818135\tR04C02\n",
    "4\t\t                        Normal\t\t        6026818135\tR04C02\n",
    "5\t\t                        Normal\t\t        6026818144\tR05C02\n",
    "6\t\t                        Normal\t\t        6026818144\tR05C02\n",
    "7\t\t                        Normal\t\t        6026818135\tR05C02\n",
    "8\t\t                        Normal\t\t        6026818135\tR05C02\n",
    "9\t\t                        Normal\t\t        6026818139\tR01C02\n",
    "10\t\t                        Normal\t\t        6026818139\tR01C02\n",
    "```"
   ]
  },
  {
   "cell_type": "code",
   "execution_count": 69,
   "metadata": {},
   "outputs": [],
   "source": [
    "normal_train = pl.read_csv(\"../data/train/sample_sheet.csv\", skip_rows=7).filter(pl.col(\"Sample_Group\") == \"Normal\")\n",
    "normal_test = pl.read_csv(\"../data/test/sample_sheet.csv\", skip_rows=7).filter(pl.col(\"Sample_Group\") == \"Normal\")\n",
    "series450 = pl.read_csv('../external_result/450k_series.csv', has_header=False).transpose().to_series()\n",
    "series850 = pl.read_csv('../external_result/850k_series.csv', has_header=False).transpose().to_series()"
   ]
  },
  {
   "cell_type": "code",
   "execution_count": 34,
   "metadata": {},
   "outputs": [
    {
     "name": "stdout",
     "output_type": "stream",
     "text": [
      "52\n",
      "71\n"
     ]
    }
   ],
   "source": [
    "# count of 450k series and 850k series\n",
    "print(len(series450))\n",
    "print(len(series850))"
   ]
  },
  {
   "cell_type": "code",
   "execution_count": 57,
   "metadata": {},
   "outputs": [
    {
     "data": {
      "text/html": [
       "<div><style>\n",
       ".dataframe > thead > tr,\n",
       ".dataframe > tbody > tr {\n",
       "  text-align: right;\n",
       "  white-space: pre-wrap;\n",
       "}\n",
       "</style>\n",
       "<small>shape: (6, 94)</small><table border=\"1\" class=\"dataframe\"><thead><tr><th>column_0</th><th>column_1</th><th>column_2</th><th>column_3</th><th>column_4</th><th>column_5</th><th>column_6</th><th>column_7</th><th>column_8</th><th>column_9</th><th>column_10</th><th>column_11</th><th>column_12</th><th>column_13</th><th>column_14</th><th>column_15</th><th>column_16</th><th>column_17</th><th>column_18</th><th>column_19</th><th>column_20</th><th>column_21</th><th>column_22</th><th>column_23</th><th>column_24</th><th>column_25</th><th>column_26</th><th>column_27</th><th>column_28</th><th>column_29</th><th>column_30</th><th>column_31</th><th>column_32</th><th>column_33</th><th>column_34</th><th>column_35</th><th>column_36</th><th>&hellip;</th><th>column_57</th><th>column_58</th><th>column_59</th><th>column_60</th><th>column_61</th><th>column_62</th><th>column_63</th><th>column_64</th><th>column_65</th><th>column_66</th><th>column_67</th><th>column_68</th><th>column_69</th><th>column_70</th><th>column_71</th><th>column_72</th><th>column_73</th><th>column_74</th><th>column_75</th><th>column_76</th><th>column_77</th><th>column_78</th><th>column_79</th><th>column_80</th><th>column_81</th><th>column_82</th><th>column_83</th><th>column_84</th><th>column_85</th><th>column_86</th><th>column_87</th><th>column_88</th><th>column_89</th><th>column_90</th><th>column_91</th><th>column_92</th><th>column_93</th></tr><tr><td>str</td><td>str</td><td>str</td><td>str</td><td>str</td><td>str</td><td>str</td><td>str</td><td>str</td><td>str</td><td>str</td><td>str</td><td>str</td><td>str</td><td>str</td><td>str</td><td>str</td><td>str</td><td>str</td><td>str</td><td>str</td><td>str</td><td>str</td><td>str</td><td>str</td><td>str</td><td>str</td><td>str</td><td>str</td><td>str</td><td>str</td><td>str</td><td>str</td><td>str</td><td>str</td><td>str</td><td>str</td><td>&hellip;</td><td>str</td><td>str</td><td>str</td><td>str</td><td>str</td><td>str</td><td>str</td><td>str</td><td>str</td><td>str</td><td>str</td><td>str</td><td>str</td><td>str</td><td>str</td><td>str</td><td>str</td><td>str</td><td>str</td><td>str</td><td>str</td><td>str</td><td>str</td><td>str</td><td>str</td><td>str</td><td>str</td><td>str</td><td>str</td><td>str</td><td>str</td><td>str</td><td>str</td><td>str</td><td>str</td><td>str</td><td>str</td></tr></thead><tbody><tr><td>&quot;1&quot;</td><td>&quot;2&quot;</td><td>&quot;3&quot;</td><td>&quot;4&quot;</td><td>&quot;5&quot;</td><td>&quot;6&quot;</td><td>&quot;7&quot;</td><td>&quot;8&quot;</td><td>&quot;9&quot;</td><td>&quot;10&quot;</td><td>&quot;11&quot;</td><td>&quot;12&quot;</td><td>&quot;13&quot;</td><td>&quot;14&quot;</td><td>&quot;15&quot;</td><td>&quot;16&quot;</td><td>&quot;17&quot;</td><td>&quot;18&quot;</td><td>&quot;19&quot;</td><td>&quot;20&quot;</td><td>&quot;21&quot;</td><td>&quot;22&quot;</td><td>&quot;23&quot;</td><td>&quot;24&quot;</td><td>&quot;25&quot;</td><td>&quot;26&quot;</td><td>&quot;27&quot;</td><td>&quot;28&quot;</td><td>&quot;29&quot;</td><td>&quot;30&quot;</td><td>&quot;31&quot;</td><td>&quot;32&quot;</td><td>&quot;33&quot;</td><td>&quot;34&quot;</td><td>&quot;35&quot;</td><td>&quot;36&quot;</td><td>&quot;37&quot;</td><td>&hellip;</td><td>&quot;58&quot;</td><td>&quot;59&quot;</td><td>&quot;60&quot;</td><td>&quot;61&quot;</td><td>&quot;62&quot;</td><td>&quot;63&quot;</td><td>&quot;64&quot;</td><td>&quot;65&quot;</td><td>&quot;66&quot;</td><td>&quot;67&quot;</td><td>&quot;68&quot;</td><td>&quot;69&quot;</td><td>&quot;70&quot;</td><td>&quot;71&quot;</td><td>&quot;72&quot;</td><td>&quot;73&quot;</td><td>&quot;74&quot;</td><td>&quot;75&quot;</td><td>&quot;76&quot;</td><td>&quot;77&quot;</td><td>&quot;78&quot;</td><td>&quot;79&quot;</td><td>&quot;80&quot;</td><td>&quot;81&quot;</td><td>&quot;82&quot;</td><td>&quot;83&quot;</td><td>&quot;84&quot;</td><td>&quot;85&quot;</td><td>&quot;86&quot;</td><td>&quot;87&quot;</td><td>&quot;88&quot;</td><td>&quot;89&quot;</td><td>&quot;90&quot;</td><td>&quot;91&quot;</td><td>&quot;92&quot;</td><td>&quot;93&quot;</td><td>&quot;94&quot;</td></tr><tr><td>null</td><td>null</td><td>null</td><td>null</td><td>null</td><td>null</td><td>null</td><td>null</td><td>null</td><td>null</td><td>null</td><td>null</td><td>null</td><td>null</td><td>null</td><td>null</td><td>null</td><td>null</td><td>null</td><td>null</td><td>null</td><td>null</td><td>null</td><td>null</td><td>null</td><td>null</td><td>null</td><td>null</td><td>null</td><td>null</td><td>null</td><td>null</td><td>null</td><td>null</td><td>null</td><td>null</td><td>null</td><td>&hellip;</td><td>null</td><td>null</td><td>null</td><td>null</td><td>null</td><td>null</td><td>null</td><td>null</td><td>null</td><td>null</td><td>null</td><td>null</td><td>null</td><td>null</td><td>null</td><td>null</td><td>null</td><td>null</td><td>null</td><td>null</td><td>null</td><td>null</td><td>null</td><td>null</td><td>null</td><td>null</td><td>null</td><td>null</td><td>null</td><td>null</td><td>null</td><td>null</td><td>null</td><td>null</td><td>null</td><td>null</td><td>null</td></tr><tr><td>&quot;Normal&quot;</td><td>&quot;Normal&quot;</td><td>&quot;Normal&quot;</td><td>&quot;Normal&quot;</td><td>&quot;Normal&quot;</td><td>&quot;Normal&quot;</td><td>&quot;Normal&quot;</td><td>&quot;Normal&quot;</td><td>&quot;Normal&quot;</td><td>&quot;Normal&quot;</td><td>&quot;Normal&quot;</td><td>&quot;Normal&quot;</td><td>&quot;Normal&quot;</td><td>&quot;Normal&quot;</td><td>&quot;Normal&quot;</td><td>&quot;Normal&quot;</td><td>&quot;Normal&quot;</td><td>&quot;Normal&quot;</td><td>&quot;Normal&quot;</td><td>&quot;Normal&quot;</td><td>&quot;Normal&quot;</td><td>&quot;Normal&quot;</td><td>&quot;Normal&quot;</td><td>&quot;Normal&quot;</td><td>&quot;Normal&quot;</td><td>&quot;Normal&quot;</td><td>&quot;Normal&quot;</td><td>&quot;Normal&quot;</td><td>&quot;Normal&quot;</td><td>&quot;Normal&quot;</td><td>&quot;Normal&quot;</td><td>&quot;Normal&quot;</td><td>&quot;Normal&quot;</td><td>&quot;Normal&quot;</td><td>&quot;Normal&quot;</td><td>&quot;Normal&quot;</td><td>&quot;Normal&quot;</td><td>&hellip;</td><td>&quot;Normal&quot;</td><td>&quot;Normal&quot;</td><td>&quot;Normal&quot;</td><td>&quot;Normal&quot;</td><td>&quot;Normal&quot;</td><td>&quot;Normal&quot;</td><td>&quot;Normal&quot;</td><td>&quot;Normal&quot;</td><td>&quot;Normal&quot;</td><td>&quot;Normal&quot;</td><td>&quot;Normal&quot;</td><td>&quot;Normal&quot;</td><td>&quot;Normal&quot;</td><td>&quot;Normal&quot;</td><td>&quot;Normal&quot;</td><td>&quot;Normal&quot;</td><td>&quot;Normal&quot;</td><td>&quot;Normal&quot;</td><td>&quot;Normal&quot;</td><td>&quot;Normal&quot;</td><td>&quot;Normal&quot;</td><td>&quot;Normal&quot;</td><td>&quot;Normal&quot;</td><td>&quot;Normal&quot;</td><td>&quot;Normal&quot;</td><td>&quot;Normal&quot;</td><td>&quot;Normal&quot;</td><td>&quot;Normal&quot;</td><td>&quot;Normal&quot;</td><td>&quot;Normal&quot;</td><td>&quot;Normal&quot;</td><td>&quot;Normal&quot;</td><td>&quot;Normal&quot;</td><td>&quot;Normal&quot;</td><td>&quot;Normal&quot;</td><td>&quot;Normal&quot;</td><td>&quot;Normal&quot;</td></tr><tr><td>null</td><td>null</td><td>null</td><td>null</td><td>null</td><td>null</td><td>null</td><td>null</td><td>null</td><td>null</td><td>null</td><td>null</td><td>null</td><td>null</td><td>null</td><td>null</td><td>null</td><td>null</td><td>null</td><td>null</td><td>null</td><td>null</td><td>null</td><td>null</td><td>null</td><td>null</td><td>null</td><td>null</td><td>null</td><td>null</td><td>null</td><td>null</td><td>null</td><td>null</td><td>null</td><td>null</td><td>null</td><td>&hellip;</td><td>null</td><td>null</td><td>null</td><td>null</td><td>null</td><td>null</td><td>null</td><td>null</td><td>null</td><td>null</td><td>null</td><td>null</td><td>null</td><td>null</td><td>null</td><td>null</td><td>null</td><td>null</td><td>null</td><td>null</td><td>null</td><td>null</td><td>null</td><td>null</td><td>null</td><td>null</td><td>null</td><td>null</td><td>null</td><td>null</td><td>null</td><td>null</td><td>null</td><td>null</td><td>null</td><td>null</td><td>null</td></tr><tr><td>&quot;6026818108&quot;</td><td>&quot;6026818108&quot;</td><td>&quot;6026818135&quot;</td><td>&quot;6026818135&quot;</td><td>&quot;6026818144&quot;</td><td>&quot;6026818144&quot;</td><td>&quot;6026818135&quot;</td><td>&quot;6026818135&quot;</td><td>&quot;6026818139&quot;</td><td>&quot;6026818139&quot;</td><td>&quot;6026818144&quot;</td><td>&quot;6026818144&quot;</td><td>&quot;6026818129&quot;</td><td>&quot;6026818129&quot;</td><td>&quot;6026818129&quot;</td><td>&quot;6026818129&quot;</td><td>&quot;6026818135&quot;</td><td>&quot;6026818135&quot;</td><td>&quot;6026818128&quot;</td><td>&quot;6026818128&quot;</td><td>&quot;6026818132&quot;</td><td>&quot;6026818132&quot;</td><td>&quot;6026818144&quot;</td><td>&quot;6026818144&quot;</td><td>&quot;6026818144&quot;</td><td>&quot;6026818144&quot;</td><td>&quot;6026818145&quot;</td><td>&quot;6026818145&quot;</td><td>&quot;6026818129&quot;</td><td>&quot;6026818129&quot;</td><td>&quot;6026818055&quot;</td><td>&quot;6026818055&quot;</td><td>&quot;6026818102&quot;</td><td>&quot;6026818102&quot;</td><td>&quot;6026818122&quot;</td><td>&quot;6026818122&quot;</td><td>&quot;6026818122&quot;</td><td>&hellip;</td><td>&quot;6042316130&quot;</td><td>&quot;6042316130&quot;</td><td>&quot;6042316130&quot;</td><td>&quot;6042316157&quot;</td><td>&quot;6042316157&quot;</td><td>&quot;6042316157&quot;</td><td>&quot;6042316157&quot;</td><td>&quot;6042316157&quot;</td><td>&quot;6042316157&quot;</td><td>&quot;6042316157&quot;</td><td>&quot;6042316157&quot;</td><td>&quot;6042316157&quot;</td><td>&quot;6042316157&quot;</td><td>&quot;6042324005&quot;</td><td>&quot;6042324005&quot;</td><td>&quot;6042324005&quot;</td><td>&quot;6042324005&quot;</td><td>&quot;6042324006&quot;</td><td>&quot;6042324006&quot;</td><td>&quot;6042324006&quot;</td><td>&quot;6042324006&quot;</td><td>&quot;6042324006&quot;</td><td>&quot;6042324006&quot;</td><td>&quot;6057833134&quot;</td><td>&quot;6057833134&quot;</td><td>&quot;6057833134&quot;</td><td>&quot;6057833134&quot;</td><td>&quot;6057833155&quot;</td><td>&quot;6057833155&quot;</td><td>&quot;6057833159&quot;</td><td>&quot;6057833159&quot;</td><td>&quot;6057833166&quot;</td><td>&quot;6057833166&quot;</td><td>&quot;6057833166&quot;</td><td>&quot;6057833166&quot;</td><td>&quot;6285633051&quot;</td><td>&quot;6285633051&quot;</td></tr><tr><td>&quot;R03C02&quot;</td><td>&quot;R03C02&quot;</td><td>&quot;R04C02&quot;</td><td>&quot;R04C02&quot;</td><td>&quot;R05C02&quot;</td><td>&quot;R05C02&quot;</td><td>&quot;R05C02&quot;</td><td>&quot;R05C02&quot;</td><td>&quot;R01C02&quot;</td><td>&quot;R01C02&quot;</td><td>&quot;R06C02&quot;</td><td>&quot;R06C02&quot;</td><td>&quot;R01C01&quot;</td><td>&quot;R01C01&quot;</td><td>&quot;R03C02&quot;</td><td>&quot;R03C02&quot;</td><td>&quot;R05C01&quot;</td><td>&quot;R05C01&quot;</td><td>&quot;R06C01&quot;</td><td>&quot;R06C01&quot;</td><td>&quot;R02C01&quot;</td><td>&quot;R02C01&quot;</td><td>&quot;R06C01&quot;</td><td>&quot;R06C01&quot;</td><td>&quot;R01C02&quot;</td><td>&quot;R01C02&quot;</td><td>&quot;R03C01&quot;</td><td>&quot;R03C01&quot;</td><td>&quot;R04C01&quot;</td><td>&quot;R04C01&quot;</td><td>&quot;R02C01&quot;</td><td>&quot;R02C01&quot;</td><td>&quot;R03C02&quot;</td><td>&quot;R03C02&quot;</td><td>&quot;R01C02&quot;</td><td>&quot;R01C02&quot;</td><td>&quot;R05C02&quot;</td><td>&hellip;</td><td>&quot;R04C02&quot;</td><td>&quot;R06C02&quot;</td><td>&quot;R06C02&quot;</td><td>&quot;R02C01&quot;</td><td>&quot;R02C01&quot;</td><td>&quot;R04C01&quot;</td><td>&quot;R04C01&quot;</td><td>&quot;R06C01&quot;</td><td>&quot;R06C01&quot;</td><td>&quot;R04C02&quot;</td><td>&quot;R04C02&quot;</td><td>&quot;R06C02&quot;</td><td>&quot;R06C02&quot;</td><td>&quot;R03C01&quot;</td><td>&quot;R03C01&quot;</td><td>&quot;R04C02&quot;</td><td>&quot;R04C02&quot;</td><td>&quot;R03C01&quot;</td><td>&quot;R03C01&quot;</td><td>&quot;R04C01&quot;</td><td>&quot;R04C01&quot;</td><td>&quot;R05C02&quot;</td><td>&quot;R05C02&quot;</td><td>&quot;R03C02&quot;</td><td>&quot;R03C02&quot;</td><td>&quot;R04C02&quot;</td><td>&quot;R04C02&quot;</td><td>&quot;R06C02&quot;</td><td>&quot;R06C02&quot;</td><td>&quot;R05C02&quot;</td><td>&quot;R05C02&quot;</td><td>&quot;R01C01&quot;</td><td>&quot;R01C01&quot;</td><td>&quot;R03C01&quot;</td><td>&quot;R03C01&quot;</td><td>&quot;R02C01&quot;</td><td>&quot;R02C01&quot;</td></tr></tbody></table></div>"
      ],
      "text/plain": [
       "shape: (6, 94)\n",
       "┌───────────┬───────────┬───────────┬───────────┬───┬───────────┬───────────┬───────────┬──────────┐\n",
       "│ column_0  ┆ column_1  ┆ column_2  ┆ column_3  ┆ … ┆ column_90 ┆ column_91 ┆ column_92 ┆ column_9 │\n",
       "│ ---       ┆ ---       ┆ ---       ┆ ---       ┆   ┆ ---       ┆ ---       ┆ ---       ┆ 3        │\n",
       "│ str       ┆ str       ┆ str       ┆ str       ┆   ┆ str       ┆ str       ┆ str       ┆ ---      │\n",
       "│           ┆           ┆           ┆           ┆   ┆           ┆           ┆           ┆ str      │\n",
       "╞═══════════╪═══════════╪═══════════╪═══════════╪═══╪═══════════╪═══════════╪═══════════╪══════════╡\n",
       "│ 1         ┆ 2         ┆ 3         ┆ 4         ┆ … ┆ 91        ┆ 92        ┆ 93        ┆ 94       │\n",
       "│ null      ┆ null      ┆ null      ┆ null      ┆ … ┆ null      ┆ null      ┆ null      ┆ null     │\n",
       "│ Normal    ┆ Normal    ┆ Normal    ┆ Normal    ┆ … ┆ Normal    ┆ Normal    ┆ Normal    ┆ Normal   │\n",
       "│ null      ┆ null      ┆ null      ┆ null      ┆ … ┆ null      ┆ null      ┆ null      ┆ null     │\n",
       "│ 602681810 ┆ 602681810 ┆ 602681813 ┆ 602681813 ┆ … ┆ 605783316 ┆ 605783316 ┆ 628563305 ┆ 62856330 │\n",
       "│ 8         ┆ 8         ┆ 5         ┆ 5         ┆   ┆ 6         ┆ 6         ┆ 1         ┆ 51       │\n",
       "│ R03C02    ┆ R03C02    ┆ R04C02    ┆ R04C02    ┆ … ┆ R03C01    ┆ R03C01    ┆ R02C01    ┆ R02C01   │\n",
       "└───────────┴───────────┴───────────┴───────────┴───┴───────────┴───────────┴───────────┴──────────┘"
      ]
     },
     "execution_count": 57,
     "metadata": {},
     "output_type": "execute_result"
    }
   ],
   "source": [
    "normal_train = normal_train.transpose()\n",
    "normal_train"
   ]
  },
  {
   "cell_type": "code",
   "execution_count": 59,
   "metadata": {},
   "outputs": [],
   "source": [
    "directory_path = '../data_TNBC/mixed/'\n",
    "# df450k = pl.DataFrame({'Sample_Name': [], 'Sample_Plate': [], 'Sample_Group': [], 'Pool_ID': [], 'Sentrix_ID': [], 'Sentrix_Position': []})\n",
    "# df850k = pl.DataFrame({'Sample_Name': [], 'Sample_Plate': [], 'Sample_Group': [], 'Pool_ID': [], 'Sentrix_ID': [], 'Sentrix_Position': []})\n",
    "\n",
    "# df450k = pl.DataFrame({\"\": [0,\"\",\"\",\"\",\"\",\"\"]})\n",
    "# df450k = pl.DataFrame(\n",
    "# df850k = pl.DataFrame({\"\": [0,\"\",\"\",\"\",\"\",\"\"]})\n",
    "i450k = 94\n",
    "i850k = 0\n",
    "for filename in os.listdir(directory_path):\n",
    "    gsm_id, Sentrix_ID, Sentrix_Position, endstr = filename.split('_')\n",
    "    # print(gsm_id, Sentrix_ID, Sentrix_Position, endstr)\n",
    "    if gsm_id in series450:\n",
    "        # shutil.copyfile(os.path.join(directory_path, filename), f'../data_TNBC/450k/{Sentrix_ID}_{Sentrix_Position}_{endstr}')\n",
    "        # create series of 450k of one sample\n",
    "        tmp = pl.Series(str(i450k),[str(i450k+1), \"\", \"tumor_TNBC\", \"\", Sentrix_ID, Sentrix_Position])\n",
    "        normal_train.insert_column(i450k, tmp)\n",
    "        i450k += 1\n",
    "    elif gsm_id in series850:\n",
    "        # shutil.copyfile(os.path.join(directory_path, filename), f'../data_TNBC/850k/{Sentrix_ID}_{Sentrix_Position}_{endstr}')\n",
    "        # tmp = pl.Series(str(i850k),[i850k+1, \"\", \"tumor_TNBC\", \"\", Sentrix_ID, Sentrix_Position])\n",
    "        # df850k.insert_column(i850k, tmp)\n",
    "        i850k += 1\n",
    "    else:\n",
    "        print(\"unexpected error\")\n",
    "        break\n",
    "# df450k.to_csv('../data_TNBC/450k/sample_sheet.csv')\n",
    "# df850k.to_csv('../data_TNBC/850k/sample_sheet.csv')"
   ]
  },
  {
   "cell_type": "code",
   "execution_count": 47,
   "metadata": {},
   "outputs": [],
   "source": [
    "# df450k.transpose().fill_null(0).write_csv('../data_TNBC/450k/sample_sheet.csv')"
   ]
  },
  {
   "cell_type": "code",
   "execution_count": 49,
   "metadata": {},
   "outputs": [],
   "source": [
    "# df850k.transpose().fill_null(0).write_csv('../data_TNBC/850k/sample_sheet.csv')"
   ]
  },
  {
   "cell_type": "code",
   "execution_count": 73,
   "metadata": {},
   "outputs": [],
   "source": [
    "normal_train = normal_train.transpose()"
   ]
  },
  {
   "cell_type": "code",
   "execution_count": 66,
   "metadata": {},
   "outputs": [
    {
     "data": {
      "text/html": [
       "<div><style>\n",
       ".dataframe > thead > tr,\n",
       ".dataframe > tbody > tr {\n",
       "  text-align: right;\n",
       "  white-space: pre-wrap;\n",
       "}\n",
       "</style>\n",
       "<small>shape: (198, 6)</small><table border=\"1\" class=\"dataframe\"><thead><tr><th>Sample_Name</th><th>Sample_Plate</th><th>Sample_Group</th><th>Pool_ID</th><th>Sentrix_ID</th><th>Sentrix_Position</th></tr><tr><td>str</td><td>str</td><td>str</td><td>str</td><td>str</td><td>str</td></tr></thead><tbody><tr><td>&quot;1&quot;</td><td>null</td><td>&quot;Normal&quot;</td><td>null</td><td>&quot;6026818108&quot;</td><td>&quot;R03C02&quot;</td></tr><tr><td>&quot;2&quot;</td><td>null</td><td>&quot;Normal&quot;</td><td>null</td><td>&quot;6026818108&quot;</td><td>&quot;R03C02&quot;</td></tr><tr><td>&quot;3&quot;</td><td>null</td><td>&quot;Normal&quot;</td><td>null</td><td>&quot;6026818135&quot;</td><td>&quot;R04C02&quot;</td></tr><tr><td>&quot;4&quot;</td><td>null</td><td>&quot;Normal&quot;</td><td>null</td><td>&quot;6026818135&quot;</td><td>&quot;R04C02&quot;</td></tr><tr><td>&quot;5&quot;</td><td>null</td><td>&quot;Normal&quot;</td><td>null</td><td>&quot;6026818144&quot;</td><td>&quot;R05C02&quot;</td></tr><tr><td>&quot;6&quot;</td><td>null</td><td>&quot;Normal&quot;</td><td>null</td><td>&quot;6026818144&quot;</td><td>&quot;R05C02&quot;</td></tr><tr><td>&quot;7&quot;</td><td>null</td><td>&quot;Normal&quot;</td><td>null</td><td>&quot;6026818135&quot;</td><td>&quot;R05C02&quot;</td></tr><tr><td>&quot;8&quot;</td><td>null</td><td>&quot;Normal&quot;</td><td>null</td><td>&quot;6026818135&quot;</td><td>&quot;R05C02&quot;</td></tr><tr><td>&quot;9&quot;</td><td>null</td><td>&quot;Normal&quot;</td><td>null</td><td>&quot;6026818139&quot;</td><td>&quot;R01C02&quot;</td></tr><tr><td>&quot;10&quot;</td><td>null</td><td>&quot;Normal&quot;</td><td>null</td><td>&quot;6026818139&quot;</td><td>&quot;R01C02&quot;</td></tr><tr><td>&quot;11&quot;</td><td>null</td><td>&quot;Normal&quot;</td><td>null</td><td>&quot;6026818144&quot;</td><td>&quot;R06C02&quot;</td></tr><tr><td>&quot;12&quot;</td><td>null</td><td>&quot;Normal&quot;</td><td>null</td><td>&quot;6026818144&quot;</td><td>&quot;R06C02&quot;</td></tr><tr><td>&hellip;</td><td>&hellip;</td><td>&hellip;</td><td>&hellip;</td><td>&hellip;</td><td>&hellip;</td></tr><tr><td>&quot;187&quot;</td><td>&quot;&quot;</td><td>&quot;tumor_TNBC&quot;</td><td>&quot;&quot;</td><td>&quot;200514090095&quot;</td><td>&quot;R06C02&quot;</td></tr><tr><td>&quot;188&quot;</td><td>&quot;&quot;</td><td>&quot;tumor_TNBC&quot;</td><td>&quot;&quot;</td><td>&quot;200514090095&quot;</td><td>&quot;R06C02&quot;</td></tr><tr><td>&quot;189&quot;</td><td>&quot;&quot;</td><td>&quot;tumor_TNBC&quot;</td><td>&quot;&quot;</td><td>&quot;200514090094&quot;</td><td>&quot;R05C02&quot;</td></tr><tr><td>&quot;190&quot;</td><td>&quot;&quot;</td><td>&quot;tumor_TNBC&quot;</td><td>&quot;&quot;</td><td>&quot;200514090094&quot;</td><td>&quot;R05C02&quot;</td></tr><tr><td>&quot;191&quot;</td><td>&quot;&quot;</td><td>&quot;tumor_TNBC&quot;</td><td>&quot;&quot;</td><td>&quot;200514090095&quot;</td><td>&quot;R06C01&quot;</td></tr><tr><td>&quot;192&quot;</td><td>&quot;&quot;</td><td>&quot;tumor_TNBC&quot;</td><td>&quot;&quot;</td><td>&quot;200514090095&quot;</td><td>&quot;R06C01&quot;</td></tr><tr><td>&quot;193&quot;</td><td>&quot;&quot;</td><td>&quot;tumor_TNBC&quot;</td><td>&quot;&quot;</td><td>&quot;200514090095&quot;</td><td>&quot;R05C02&quot;</td></tr><tr><td>&quot;194&quot;</td><td>&quot;&quot;</td><td>&quot;tumor_TNBC&quot;</td><td>&quot;&quot;</td><td>&quot;200514090095&quot;</td><td>&quot;R05C02&quot;</td></tr><tr><td>&quot;195&quot;</td><td>&quot;&quot;</td><td>&quot;tumor_TNBC&quot;</td><td>&quot;&quot;</td><td>&quot;200514090096&quot;</td><td>&quot;R06C02&quot;</td></tr><tr><td>&quot;196&quot;</td><td>&quot;&quot;</td><td>&quot;tumor_TNBC&quot;</td><td>&quot;&quot;</td><td>&quot;200514090096&quot;</td><td>&quot;R06C02&quot;</td></tr><tr><td>&quot;197&quot;</td><td>&quot;&quot;</td><td>&quot;tumor_TNBC&quot;</td><td>&quot;&quot;</td><td>&quot;200514090100&quot;</td><td>&quot;R04C01&quot;</td></tr><tr><td>&quot;198&quot;</td><td>&quot;&quot;</td><td>&quot;tumor_TNBC&quot;</td><td>&quot;&quot;</td><td>&quot;200514090100&quot;</td><td>&quot;R04C01&quot;</td></tr></tbody></table></div>"
      ],
      "text/plain": [
       "shape: (198, 6)\n",
       "┌─────────────┬──────────────┬──────────────┬─────────┬──────────────┬──────────────────┐\n",
       "│ Sample_Name ┆ Sample_Plate ┆ Sample_Group ┆ Pool_ID ┆ Sentrix_ID   ┆ Sentrix_Position │\n",
       "│ ---         ┆ ---          ┆ ---          ┆ ---     ┆ ---          ┆ ---              │\n",
       "│ str         ┆ str          ┆ str          ┆ str     ┆ str          ┆ str              │\n",
       "╞═════════════╪══════════════╪══════════════╪═════════╪══════════════╪══════════════════╡\n",
       "│ 1           ┆ null         ┆ Normal       ┆ null    ┆ 6026818108   ┆ R03C02           │\n",
       "│ 2           ┆ null         ┆ Normal       ┆ null    ┆ 6026818108   ┆ R03C02           │\n",
       "│ 3           ┆ null         ┆ Normal       ┆ null    ┆ 6026818135   ┆ R04C02           │\n",
       "│ 4           ┆ null         ┆ Normal       ┆ null    ┆ 6026818135   ┆ R04C02           │\n",
       "│ …           ┆ …            ┆ …            ┆ …       ┆ …            ┆ …                │\n",
       "│ 195         ┆              ┆ tumor_TNBC   ┆         ┆ 200514090096 ┆ R06C02           │\n",
       "│ 196         ┆              ┆ tumor_TNBC   ┆         ┆ 200514090096 ┆ R06C02           │\n",
       "│ 197         ┆              ┆ tumor_TNBC   ┆         ┆ 200514090100 ┆ R04C01           │\n",
       "│ 198         ┆              ┆ tumor_TNBC   ┆         ┆ 200514090100 ┆ R04C01           │\n",
       "└─────────────┴──────────────┴──────────────┴─────────┴──────────────┴──────────────────┘"
      ]
     },
     "execution_count": 66,
     "metadata": {},
     "output_type": "execute_result"
    }
   ],
   "source": [
    "normal_train.columns = ['Sample_Name', 'Sample_Plate', 'Sample_Group', 'Pool_ID', 'Sentrix_ID', 'Sentrix_Position']\n",
    "normal_train"
   ]
  },
  {
   "cell_type": "code",
   "execution_count": 68,
   "metadata": {},
   "outputs": [],
   "source": [
    "normal_train.write_csv('../data_TNBC/450k/sample_sheet.csv')"
   ]
  },
  {
   "cell_type": "code",
   "execution_count": 79,
   "metadata": {},
   "outputs": [
    {
     "data": {
      "text/html": [
       "<div><style>\n",
       ".dataframe > thead > tr,\n",
       ".dataframe > tbody > tr {\n",
       "  text-align: right;\n",
       "  white-space: pre-wrap;\n",
       "}\n",
       "</style>\n",
       "<small>shape: (6, 94)</small><table border=\"1\" class=\"dataframe\"><thead><tr><th>column_0</th><th>column_1</th><th>column_2</th><th>column_3</th><th>column_4</th><th>column_5</th><th>column_6</th><th>column_7</th><th>column_8</th><th>column_9</th><th>column_10</th><th>column_11</th><th>column_12</th><th>column_13</th><th>column_14</th><th>column_15</th><th>column_16</th><th>column_17</th><th>column_18</th><th>column_19</th><th>column_20</th><th>column_21</th><th>column_22</th><th>column_23</th><th>column_24</th><th>column_25</th><th>column_26</th><th>column_27</th><th>column_28</th><th>column_29</th><th>column_30</th><th>column_31</th><th>column_32</th><th>column_33</th><th>column_34</th><th>column_35</th><th>column_36</th><th>&hellip;</th><th>column_57</th><th>column_58</th><th>column_59</th><th>column_60</th><th>column_61</th><th>column_62</th><th>column_63</th><th>column_64</th><th>column_65</th><th>column_66</th><th>column_67</th><th>column_68</th><th>column_69</th><th>column_70</th><th>column_71</th><th>column_72</th><th>column_73</th><th>column_74</th><th>column_75</th><th>column_76</th><th>column_77</th><th>column_78</th><th>column_79</th><th>column_80</th><th>column_81</th><th>column_82</th><th>column_83</th><th>column_84</th><th>column_85</th><th>column_86</th><th>column_87</th><th>column_88</th><th>column_89</th><th>column_90</th><th>column_91</th><th>column_92</th><th>column_93</th></tr><tr><td>str</td><td>str</td><td>str</td><td>str</td><td>str</td><td>str</td><td>str</td><td>str</td><td>str</td><td>str</td><td>str</td><td>str</td><td>str</td><td>str</td><td>str</td><td>str</td><td>str</td><td>str</td><td>str</td><td>str</td><td>str</td><td>str</td><td>str</td><td>str</td><td>str</td><td>str</td><td>str</td><td>str</td><td>str</td><td>str</td><td>str</td><td>str</td><td>str</td><td>str</td><td>str</td><td>str</td><td>str</td><td>&hellip;</td><td>str</td><td>str</td><td>str</td><td>str</td><td>str</td><td>str</td><td>str</td><td>str</td><td>str</td><td>str</td><td>str</td><td>str</td><td>str</td><td>str</td><td>str</td><td>str</td><td>str</td><td>str</td><td>str</td><td>str</td><td>str</td><td>str</td><td>str</td><td>str</td><td>str</td><td>str</td><td>str</td><td>str</td><td>str</td><td>str</td><td>str</td><td>str</td><td>str</td><td>str</td><td>str</td><td>str</td><td>str</td></tr></thead><tbody><tr><td>&quot;1&quot;</td><td>&quot;2&quot;</td><td>&quot;3&quot;</td><td>&quot;4&quot;</td><td>&quot;5&quot;</td><td>&quot;6&quot;</td><td>&quot;7&quot;</td><td>&quot;8&quot;</td><td>&quot;9&quot;</td><td>&quot;10&quot;</td><td>&quot;11&quot;</td><td>&quot;12&quot;</td><td>&quot;13&quot;</td><td>&quot;14&quot;</td><td>&quot;15&quot;</td><td>&quot;16&quot;</td><td>&quot;17&quot;</td><td>&quot;18&quot;</td><td>&quot;19&quot;</td><td>&quot;20&quot;</td><td>&quot;21&quot;</td><td>&quot;22&quot;</td><td>&quot;23&quot;</td><td>&quot;24&quot;</td><td>&quot;25&quot;</td><td>&quot;26&quot;</td><td>&quot;27&quot;</td><td>&quot;28&quot;</td><td>&quot;29&quot;</td><td>&quot;30&quot;</td><td>&quot;31&quot;</td><td>&quot;32&quot;</td><td>&quot;33&quot;</td><td>&quot;34&quot;</td><td>&quot;35&quot;</td><td>&quot;36&quot;</td><td>&quot;37&quot;</td><td>&hellip;</td><td>&quot;58&quot;</td><td>&quot;59&quot;</td><td>&quot;60&quot;</td><td>&quot;61&quot;</td><td>&quot;62&quot;</td><td>&quot;63&quot;</td><td>&quot;64&quot;</td><td>&quot;65&quot;</td><td>&quot;66&quot;</td><td>&quot;67&quot;</td><td>&quot;68&quot;</td><td>&quot;69&quot;</td><td>&quot;70&quot;</td><td>&quot;71&quot;</td><td>&quot;72&quot;</td><td>&quot;73&quot;</td><td>&quot;74&quot;</td><td>&quot;75&quot;</td><td>&quot;76&quot;</td><td>&quot;77&quot;</td><td>&quot;78&quot;</td><td>&quot;79&quot;</td><td>&quot;80&quot;</td><td>&quot;81&quot;</td><td>&quot;82&quot;</td><td>&quot;83&quot;</td><td>&quot;84&quot;</td><td>&quot;85&quot;</td><td>&quot;86&quot;</td><td>&quot;87&quot;</td><td>&quot;88&quot;</td><td>&quot;89&quot;</td><td>&quot;90&quot;</td><td>&quot;91&quot;</td><td>&quot;92&quot;</td><td>&quot;93&quot;</td><td>&quot;94&quot;</td></tr><tr><td>null</td><td>null</td><td>null</td><td>null</td><td>null</td><td>null</td><td>null</td><td>null</td><td>null</td><td>null</td><td>null</td><td>null</td><td>null</td><td>null</td><td>null</td><td>null</td><td>null</td><td>null</td><td>null</td><td>null</td><td>null</td><td>null</td><td>null</td><td>null</td><td>null</td><td>null</td><td>null</td><td>null</td><td>null</td><td>null</td><td>null</td><td>null</td><td>null</td><td>null</td><td>null</td><td>null</td><td>null</td><td>&hellip;</td><td>null</td><td>null</td><td>null</td><td>null</td><td>null</td><td>null</td><td>null</td><td>null</td><td>null</td><td>null</td><td>null</td><td>null</td><td>null</td><td>null</td><td>null</td><td>null</td><td>null</td><td>null</td><td>null</td><td>null</td><td>null</td><td>null</td><td>null</td><td>null</td><td>null</td><td>null</td><td>null</td><td>null</td><td>null</td><td>null</td><td>null</td><td>null</td><td>null</td><td>null</td><td>null</td><td>null</td><td>null</td></tr><tr><td>&quot;Normal&quot;</td><td>&quot;Normal&quot;</td><td>&quot;Normal&quot;</td><td>&quot;Normal&quot;</td><td>&quot;Normal&quot;</td><td>&quot;Normal&quot;</td><td>&quot;Normal&quot;</td><td>&quot;Normal&quot;</td><td>&quot;Normal&quot;</td><td>&quot;Normal&quot;</td><td>&quot;Normal&quot;</td><td>&quot;Normal&quot;</td><td>&quot;Normal&quot;</td><td>&quot;Normal&quot;</td><td>&quot;Normal&quot;</td><td>&quot;Normal&quot;</td><td>&quot;Normal&quot;</td><td>&quot;Normal&quot;</td><td>&quot;Normal&quot;</td><td>&quot;Normal&quot;</td><td>&quot;Normal&quot;</td><td>&quot;Normal&quot;</td><td>&quot;Normal&quot;</td><td>&quot;Normal&quot;</td><td>&quot;Normal&quot;</td><td>&quot;Normal&quot;</td><td>&quot;Normal&quot;</td><td>&quot;Normal&quot;</td><td>&quot;Normal&quot;</td><td>&quot;Normal&quot;</td><td>&quot;Normal&quot;</td><td>&quot;Normal&quot;</td><td>&quot;Normal&quot;</td><td>&quot;Normal&quot;</td><td>&quot;Normal&quot;</td><td>&quot;Normal&quot;</td><td>&quot;Normal&quot;</td><td>&hellip;</td><td>&quot;Normal&quot;</td><td>&quot;Normal&quot;</td><td>&quot;Normal&quot;</td><td>&quot;Normal&quot;</td><td>&quot;Normal&quot;</td><td>&quot;Normal&quot;</td><td>&quot;Normal&quot;</td><td>&quot;Normal&quot;</td><td>&quot;Normal&quot;</td><td>&quot;Normal&quot;</td><td>&quot;Normal&quot;</td><td>&quot;Normal&quot;</td><td>&quot;Normal&quot;</td><td>&quot;Normal&quot;</td><td>&quot;Normal&quot;</td><td>&quot;Normal&quot;</td><td>&quot;Normal&quot;</td><td>&quot;Normal&quot;</td><td>&quot;Normal&quot;</td><td>&quot;Normal&quot;</td><td>&quot;Normal&quot;</td><td>&quot;Normal&quot;</td><td>&quot;Normal&quot;</td><td>&quot;Normal&quot;</td><td>&quot;Normal&quot;</td><td>&quot;Normal&quot;</td><td>&quot;Normal&quot;</td><td>&quot;Normal&quot;</td><td>&quot;Normal&quot;</td><td>&quot;Normal&quot;</td><td>&quot;Normal&quot;</td><td>&quot;Normal&quot;</td><td>&quot;Normal&quot;</td><td>&quot;Normal&quot;</td><td>&quot;Normal&quot;</td><td>&quot;Normal&quot;</td><td>&quot;Normal&quot;</td></tr><tr><td>null</td><td>null</td><td>null</td><td>null</td><td>null</td><td>null</td><td>null</td><td>null</td><td>null</td><td>null</td><td>null</td><td>null</td><td>null</td><td>null</td><td>null</td><td>null</td><td>null</td><td>null</td><td>null</td><td>null</td><td>null</td><td>null</td><td>null</td><td>null</td><td>null</td><td>null</td><td>null</td><td>null</td><td>null</td><td>null</td><td>null</td><td>null</td><td>null</td><td>null</td><td>null</td><td>null</td><td>null</td><td>&hellip;</td><td>null</td><td>null</td><td>null</td><td>null</td><td>null</td><td>null</td><td>null</td><td>null</td><td>null</td><td>null</td><td>null</td><td>null</td><td>null</td><td>null</td><td>null</td><td>null</td><td>null</td><td>null</td><td>null</td><td>null</td><td>null</td><td>null</td><td>null</td><td>null</td><td>null</td><td>null</td><td>null</td><td>null</td><td>null</td><td>null</td><td>null</td><td>null</td><td>null</td><td>null</td><td>null</td><td>null</td><td>null</td></tr><tr><td>&quot;6026818108&quot;</td><td>&quot;6026818108&quot;</td><td>&quot;6026818135&quot;</td><td>&quot;6026818135&quot;</td><td>&quot;6026818144&quot;</td><td>&quot;6026818144&quot;</td><td>&quot;6026818135&quot;</td><td>&quot;6026818135&quot;</td><td>&quot;6026818139&quot;</td><td>&quot;6026818139&quot;</td><td>&quot;6026818144&quot;</td><td>&quot;6026818144&quot;</td><td>&quot;6026818129&quot;</td><td>&quot;6026818129&quot;</td><td>&quot;6026818129&quot;</td><td>&quot;6026818129&quot;</td><td>&quot;6026818135&quot;</td><td>&quot;6026818135&quot;</td><td>&quot;6026818128&quot;</td><td>&quot;6026818128&quot;</td><td>&quot;6026818132&quot;</td><td>&quot;6026818132&quot;</td><td>&quot;6026818144&quot;</td><td>&quot;6026818144&quot;</td><td>&quot;6026818144&quot;</td><td>&quot;6026818144&quot;</td><td>&quot;6026818145&quot;</td><td>&quot;6026818145&quot;</td><td>&quot;6026818129&quot;</td><td>&quot;6026818129&quot;</td><td>&quot;6026818055&quot;</td><td>&quot;6026818055&quot;</td><td>&quot;6026818102&quot;</td><td>&quot;6026818102&quot;</td><td>&quot;6026818122&quot;</td><td>&quot;6026818122&quot;</td><td>&quot;6026818122&quot;</td><td>&hellip;</td><td>&quot;6042316130&quot;</td><td>&quot;6042316130&quot;</td><td>&quot;6042316130&quot;</td><td>&quot;6042316157&quot;</td><td>&quot;6042316157&quot;</td><td>&quot;6042316157&quot;</td><td>&quot;6042316157&quot;</td><td>&quot;6042316157&quot;</td><td>&quot;6042316157&quot;</td><td>&quot;6042316157&quot;</td><td>&quot;6042316157&quot;</td><td>&quot;6042316157&quot;</td><td>&quot;6042316157&quot;</td><td>&quot;6042324005&quot;</td><td>&quot;6042324005&quot;</td><td>&quot;6042324005&quot;</td><td>&quot;6042324005&quot;</td><td>&quot;6042324006&quot;</td><td>&quot;6042324006&quot;</td><td>&quot;6042324006&quot;</td><td>&quot;6042324006&quot;</td><td>&quot;6042324006&quot;</td><td>&quot;6042324006&quot;</td><td>&quot;6057833134&quot;</td><td>&quot;6057833134&quot;</td><td>&quot;6057833134&quot;</td><td>&quot;6057833134&quot;</td><td>&quot;6057833155&quot;</td><td>&quot;6057833155&quot;</td><td>&quot;6057833159&quot;</td><td>&quot;6057833159&quot;</td><td>&quot;6057833166&quot;</td><td>&quot;6057833166&quot;</td><td>&quot;6057833166&quot;</td><td>&quot;6057833166&quot;</td><td>&quot;6285633051&quot;</td><td>&quot;6285633051&quot;</td></tr><tr><td>&quot;R03C02&quot;</td><td>&quot;R03C02&quot;</td><td>&quot;R04C02&quot;</td><td>&quot;R04C02&quot;</td><td>&quot;R05C02&quot;</td><td>&quot;R05C02&quot;</td><td>&quot;R05C02&quot;</td><td>&quot;R05C02&quot;</td><td>&quot;R01C02&quot;</td><td>&quot;R01C02&quot;</td><td>&quot;R06C02&quot;</td><td>&quot;R06C02&quot;</td><td>&quot;R01C01&quot;</td><td>&quot;R01C01&quot;</td><td>&quot;R03C02&quot;</td><td>&quot;R03C02&quot;</td><td>&quot;R05C01&quot;</td><td>&quot;R05C01&quot;</td><td>&quot;R06C01&quot;</td><td>&quot;R06C01&quot;</td><td>&quot;R02C01&quot;</td><td>&quot;R02C01&quot;</td><td>&quot;R06C01&quot;</td><td>&quot;R06C01&quot;</td><td>&quot;R01C02&quot;</td><td>&quot;R01C02&quot;</td><td>&quot;R03C01&quot;</td><td>&quot;R03C01&quot;</td><td>&quot;R04C01&quot;</td><td>&quot;R04C01&quot;</td><td>&quot;R02C01&quot;</td><td>&quot;R02C01&quot;</td><td>&quot;R03C02&quot;</td><td>&quot;R03C02&quot;</td><td>&quot;R01C02&quot;</td><td>&quot;R01C02&quot;</td><td>&quot;R05C02&quot;</td><td>&hellip;</td><td>&quot;R04C02&quot;</td><td>&quot;R06C02&quot;</td><td>&quot;R06C02&quot;</td><td>&quot;R02C01&quot;</td><td>&quot;R02C01&quot;</td><td>&quot;R04C01&quot;</td><td>&quot;R04C01&quot;</td><td>&quot;R06C01&quot;</td><td>&quot;R06C01&quot;</td><td>&quot;R04C02&quot;</td><td>&quot;R04C02&quot;</td><td>&quot;R06C02&quot;</td><td>&quot;R06C02&quot;</td><td>&quot;R03C01&quot;</td><td>&quot;R03C01&quot;</td><td>&quot;R04C02&quot;</td><td>&quot;R04C02&quot;</td><td>&quot;R03C01&quot;</td><td>&quot;R03C01&quot;</td><td>&quot;R04C01&quot;</td><td>&quot;R04C01&quot;</td><td>&quot;R05C02&quot;</td><td>&quot;R05C02&quot;</td><td>&quot;R03C02&quot;</td><td>&quot;R03C02&quot;</td><td>&quot;R04C02&quot;</td><td>&quot;R04C02&quot;</td><td>&quot;R06C02&quot;</td><td>&quot;R06C02&quot;</td><td>&quot;R05C02&quot;</td><td>&quot;R05C02&quot;</td><td>&quot;R01C01&quot;</td><td>&quot;R01C01&quot;</td><td>&quot;R03C01&quot;</td><td>&quot;R03C01&quot;</td><td>&quot;R02C01&quot;</td><td>&quot;R02C01&quot;</td></tr></tbody></table></div>"
      ],
      "text/plain": [
       "shape: (6, 94)\n",
       "┌───────────┬───────────┬───────────┬───────────┬───┬───────────┬───────────┬───────────┬──────────┐\n",
       "│ column_0  ┆ column_1  ┆ column_2  ┆ column_3  ┆ … ┆ column_90 ┆ column_91 ┆ column_92 ┆ column_9 │\n",
       "│ ---       ┆ ---       ┆ ---       ┆ ---       ┆   ┆ ---       ┆ ---       ┆ ---       ┆ 3        │\n",
       "│ str       ┆ str       ┆ str       ┆ str       ┆   ┆ str       ┆ str       ┆ str       ┆ ---      │\n",
       "│           ┆           ┆           ┆           ┆   ┆           ┆           ┆           ┆ str      │\n",
       "╞═══════════╪═══════════╪═══════════╪═══════════╪═══╪═══════════╪═══════════╪═══════════╪══════════╡\n",
       "│ 1         ┆ 2         ┆ 3         ┆ 4         ┆ … ┆ 91        ┆ 92        ┆ 93        ┆ 94       │\n",
       "│ null      ┆ null      ┆ null      ┆ null      ┆ … ┆ null      ┆ null      ┆ null      ┆ null     │\n",
       "│ Normal    ┆ Normal    ┆ Normal    ┆ Normal    ┆ … ┆ Normal    ┆ Normal    ┆ Normal    ┆ Normal   │\n",
       "│ null      ┆ null      ┆ null      ┆ null      ┆ … ┆ null      ┆ null      ┆ null      ┆ null     │\n",
       "│ 602681810 ┆ 602681810 ┆ 602681813 ┆ 602681813 ┆ … ┆ 605783316 ┆ 605783316 ┆ 628563305 ┆ 62856330 │\n",
       "│ 8         ┆ 8         ┆ 5         ┆ 5         ┆   ┆ 6         ┆ 6         ┆ 1         ┆ 51       │\n",
       "│ R03C02    ┆ R03C02    ┆ R04C02    ┆ R04C02    ┆ … ┆ R03C01    ┆ R03C01    ┆ R02C01    ┆ R02C01   │\n",
       "└───────────┴───────────┴───────────┴───────────┴───┴───────────┴───────────┴───────────┴──────────┘"
      ]
     },
     "execution_count": 79,
     "metadata": {},
     "output_type": "execute_result"
    }
   ],
   "source": [
    "normal_train"
   ]
  },
  {
   "cell_type": "code",
   "execution_count": 80,
   "metadata": {},
   "outputs": [],
   "source": [
    "normal_list = [f\"{col[4]}_{col[5]}\" for col in normal_train.iter_columns()]\n"
   ]
  },
  {
   "cell_type": "code",
   "execution_count": 81,
   "metadata": {},
   "outputs": [
    {
     "data": {
      "text/plain": [
       "['6026818108_R03C02',\n",
       " '6026818108_R03C02',\n",
       " '6026818135_R04C02',\n",
       " '6026818135_R04C02',\n",
       " '6026818144_R05C02',\n",
       " '6026818144_R05C02',\n",
       " '6026818135_R05C02',\n",
       " '6026818135_R05C02',\n",
       " '6026818139_R01C02',\n",
       " '6026818139_R01C02',\n",
       " '6026818144_R06C02',\n",
       " '6026818144_R06C02',\n",
       " '6026818129_R01C01',\n",
       " '6026818129_R01C01',\n",
       " '6026818129_R03C02',\n",
       " '6026818129_R03C02',\n",
       " '6026818135_R05C01',\n",
       " '6026818135_R05C01',\n",
       " '6026818128_R06C01',\n",
       " '6026818128_R06C01',\n",
       " '6026818132_R02C01',\n",
       " '6026818132_R02C01',\n",
       " '6026818144_R06C01',\n",
       " '6026818144_R06C01',\n",
       " '6026818144_R01C02',\n",
       " '6026818144_R01C02',\n",
       " '6026818145_R03C01',\n",
       " '6026818145_R03C01',\n",
       " '6026818129_R04C01',\n",
       " '6026818129_R04C01',\n",
       " '6026818055_R02C01',\n",
       " '6026818055_R02C01',\n",
       " '6026818102_R03C02',\n",
       " '6026818102_R03C02',\n",
       " '6026818122_R01C02',\n",
       " '6026818122_R01C02',\n",
       " '6026818122_R05C02',\n",
       " '6026818122_R05C02',\n",
       " '6026818111_R01C01',\n",
       " '6026818111_R01C01',\n",
       " '6026818111_R06C01',\n",
       " '6026818111_R06C01',\n",
       " '6026818111_R04C02',\n",
       " '6026818111_R04C02',\n",
       " '6026818111_R05C02',\n",
       " '6026818111_R05C02',\n",
       " '6026818070_R01C01',\n",
       " '6026818070_R01C01',\n",
       " '6057833101_R02C01',\n",
       " '6057833101_R02C01',\n",
       " '6057833101_R06C02',\n",
       " '6057833101_R06C02',\n",
       " '6042316130_R04C01',\n",
       " '6042316130_R04C01',\n",
       " '6042316130_R02C02',\n",
       " '6042316130_R02C02',\n",
       " '6042316130_R04C02',\n",
       " '6042316130_R04C02',\n",
       " '6042316130_R06C02',\n",
       " '6042316130_R06C02',\n",
       " '6042316157_R02C01',\n",
       " '6042316157_R02C01',\n",
       " '6042316157_R04C01',\n",
       " '6042316157_R04C01',\n",
       " '6042316157_R06C01',\n",
       " '6042316157_R06C01',\n",
       " '6042316157_R04C02',\n",
       " '6042316157_R04C02',\n",
       " '6042316157_R06C02',\n",
       " '6042316157_R06C02',\n",
       " '6042324005_R03C01',\n",
       " '6042324005_R03C01',\n",
       " '6042324005_R04C02',\n",
       " '6042324005_R04C02',\n",
       " '6042324006_R03C01',\n",
       " '6042324006_R03C01',\n",
       " '6042324006_R04C01',\n",
       " '6042324006_R04C01',\n",
       " '6042324006_R05C02',\n",
       " '6042324006_R05C02',\n",
       " '6057833134_R03C02',\n",
       " '6057833134_R03C02',\n",
       " '6057833134_R04C02',\n",
       " '6057833134_R04C02',\n",
       " '6057833155_R06C02',\n",
       " '6057833155_R06C02',\n",
       " '6057833159_R05C02',\n",
       " '6057833159_R05C02',\n",
       " '6057833166_R01C01',\n",
       " '6057833166_R01C01',\n",
       " '6057833166_R03C01',\n",
       " '6057833166_R03C01',\n",
       " '6285633051_R02C01',\n",
       " '6285633051_R02C01']"
      ]
     },
     "execution_count": 81,
     "metadata": {},
     "output_type": "execute_result"
    }
   ],
   "source": [
    "normal_list"
   ]
  },
  {
   "cell_type": "code",
   "execution_count": 87,
   "metadata": {},
   "outputs": [
    {
     "name": "stdout",
     "output_type": "stream",
     "text": [
      "copied: 6026818055_R02C01_Grn.idat\n",
      "copied: 6026818055_R02C01_Red.idat\n",
      "copied: 6026818070_R01C01_Grn.idat\n",
      "copied: 6026818070_R01C01_Red.idat\n",
      "copied: 6026818102_R03C02_Grn.idat\n",
      "copied: 6026818102_R03C02_Red.idat\n",
      "copied: 6026818108_R03C02_Grn.idat\n",
      "copied: 6026818108_R03C02_Red.idat\n",
      "copied: 6026818111_R01C01_Grn.idat\n",
      "copied: 6026818111_R01C01_Red.idat\n",
      "copied: 6026818111_R04C02_Grn.idat\n",
      "copied: 6026818111_R04C02_Red.idat\n",
      "copied: 6026818111_R05C02_Grn.idat\n",
      "copied: 6026818111_R05C02_Red.idat\n",
      "copied: 6026818111_R06C01_Grn.idat\n",
      "copied: 6026818111_R06C01_Red.idat\n",
      "copied: 6026818122_R01C02_Grn.idat\n",
      "copied: 6026818122_R01C02_Red.idat\n",
      "copied: 6026818122_R05C02_Grn.idat\n",
      "copied: 6026818122_R05C02_Red.idat\n",
      "copied: 6026818128_R06C01_Grn.idat\n",
      "copied: 6026818128_R06C01_Red.idat\n",
      "copied: 6026818129_R01C01_Grn.idat\n",
      "copied: 6026818129_R01C01_Red.idat\n",
      "copied: 6026818129_R03C02_Grn.idat\n",
      "copied: 6026818129_R03C02_Red.idat\n",
      "copied: 6026818129_R04C01_Grn.idat\n",
      "copied: 6026818129_R04C01_Red.idat\n",
      "copied: 6026818132_R02C01_Grn.idat\n",
      "copied: 6026818132_R02C01_Red.idat\n",
      "copied: 6026818135_R04C02_Grn.idat\n",
      "copied: 6026818135_R04C02_Red.idat\n",
      "copied: 6026818135_R05C01_Grn.idat\n",
      "copied: 6026818135_R05C01_Red.idat\n",
      "copied: 6026818135_R05C02_Grn.idat\n",
      "copied: 6026818135_R05C02_Red.idat\n",
      "copied: 6026818139_R01C02_Grn.idat\n",
      "copied: 6026818139_R01C02_Red.idat\n",
      "copied: 6026818144_R01C02_Grn.idat\n",
      "copied: 6026818144_R01C02_Red.idat\n",
      "copied: 6026818144_R05C02_Grn.idat\n",
      "copied: 6026818144_R05C02_Red.idat\n",
      "copied: 6026818144_R06C01_Grn.idat\n",
      "copied: 6026818144_R06C01_Red.idat\n",
      "copied: 6026818144_R06C02_Grn.idat\n",
      "copied: 6026818144_R06C02_Red.idat\n",
      "copied: 6026818145_R03C01_Grn.idat\n",
      "copied: 6026818145_R03C01_Red.idat\n",
      "copied: 6042316130_R02C02_Grn.idat\n",
      "copied: 6042316130_R02C02_Red.idat\n",
      "copied: 6042316130_R04C01_Grn.idat\n",
      "copied: 6042316130_R04C01_Red.idat\n",
      "copied: 6042316130_R04C02_Grn.idat\n",
      "copied: 6042316130_R04C02_Red.idat\n",
      "copied: 6042316130_R06C02_Grn.idat\n",
      "copied: 6042316130_R06C02_Red.idat\n",
      "copied: 6042316157_R02C01_Grn.idat\n",
      "copied: 6042316157_R02C01_Red.idat\n",
      "copied: 6042316157_R04C01_Grn.idat\n",
      "copied: 6042316157_R04C01_Red.idat\n",
      "copied: 6042316157_R04C02_Grn.idat\n",
      "copied: 6042316157_R04C02_Red.idat\n",
      "copied: 6042316157_R06C01_Grn.idat\n",
      "copied: 6042316157_R06C01_Red.idat\n",
      "copied: 6042316157_R06C02_Grn.idat\n",
      "copied: 6042316157_R06C02_Red.idat\n",
      "copied: 6042324005_R03C01_Grn.idat\n",
      "copied: 6042324005_R03C01_Red.idat\n",
      "copied: 6042324005_R04C02_Grn.idat\n",
      "copied: 6042324005_R04C02_Red.idat\n",
      "copied: 6042324006_R03C01_Grn.idat\n",
      "copied: 6042324006_R03C01_Red.idat\n",
      "copied: 6042324006_R04C01_Grn.idat\n",
      "copied: 6042324006_R04C01_Red.idat\n",
      "copied: 6042324006_R05C02_Grn.idat\n",
      "copied: 6042324006_R05C02_Red.idat\n",
      "copied: 6057833101_R02C01_Grn.idat\n",
      "copied: 6057833101_R02C01_Red.idat\n",
      "copied: 6057833101_R06C02_Grn.idat\n",
      "copied: 6057833101_R06C02_Red.idat\n",
      "copied: 6057833134_R03C02_Grn.idat\n",
      "copied: 6057833134_R03C02_Red.idat\n",
      "copied: 6057833134_R04C02_Grn.idat\n",
      "copied: 6057833134_R04C02_Red.idat\n",
      "copied: 6057833155_R06C02_Grn.idat\n",
      "copied: 6057833155_R06C02_Red.idat\n",
      "copied: 6057833159_R05C02_Grn.idat\n",
      "copied: 6057833159_R05C02_Red.idat\n",
      "copied: 6057833166_R01C01_Grn.idat\n",
      "copied: 6057833166_R01C01_Red.idat\n",
      "copied: 6057833166_R03C01_Grn.idat\n",
      "copied: 6057833166_R03C01_Red.idat\n",
      "copied: 6285633051_R02C01_Grn.idat\n",
      "copied: 6285633051_R02C01_Red.idat\n"
     ]
    }
   ],
   "source": [
    "for filename in os.listdir(\"../data/train/\") :\n",
    "    if filename.endswith('.idat'):\n",
    "        Sentrix_ID, Sentrix_Position, endstr = filename.split('_')\n",
    "        if f\"{Sentrix_ID}_{Sentrix_Position}\" in normal_list :\n",
    "            shutil.copyfile(os.path.join(\"../data/train/\", filename), f'../data_TNBC/normal/{filename}')\n",
    "            print(f\"copied: {filename}\")"
   ]
  },
  {
   "cell_type": "code",
   "execution_count": null,
   "metadata": {},
   "outputs": [],
   "source": []
  }
 ],
 "metadata": {
  "kernelspec": {
   "display_name": "Python 3",
   "language": "python",
   "name": "python3"
  },
  "language_info": {
   "codemirror_mode": {
    "name": "ipython",
    "version": 3
   },
   "file_extension": ".py",
   "mimetype": "text/x-python",
   "name": "python",
   "nbconvert_exporter": "python",
   "pygments_lexer": "ipython3",
   "version": "3.10.11"
  }
 },
 "nbformat": 4,
 "nbformat_minor": 2
}
