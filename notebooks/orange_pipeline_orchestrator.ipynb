{
 "cells": [
  {
   "cell_type": "code",
   "execution_count": 1,
   "metadata": {},
   "outputs": [],
   "source": [
    "import os\n",
    "import toml\n",
    "import pandas as pd\n",
    "from utils.config_helper import update_nested_toml, load_config"
   ]
  },
  {
   "cell_type": "markdown",
   "metadata": {},
   "source": [
    "breast\n",
    "lung\n",
    "prostate\n",
    "stomach\n",
    "rectal"
   ]
  },
  {
   "cell_type": "code",
   "execution_count": 2,
   "metadata": {},
   "outputs": [],
   "source": [
    "TYPE = input(\"Enter the type of the config file: \")\n",
    "CONFIG_PATH = f\"../config/{TYPE}.toml\"\n",
    "config = load_config(CONFIG_PATH)"
   ]
  },
  {
   "cell_type": "code",
   "execution_count": 3,
   "metadata": {},
   "outputs": [],
   "source": [
    "def inspect_nan(df, name):\n",
    "    print(df[pd.isna(df[name])])"
   ]
  },
  {
   "cell_type": "code",
   "execution_count": 4,
   "metadata": {},
   "outputs": [],
   "source": [
    "beta_file_number = config[\"init\"][\"hyper\"][\"beta_file_number\"]\n",
    "test_ratio = config[\"init\"][\"hyper\"][\"test_ratio\"]\n",
    "seed = config[\"init\"][\"hyper\"][\"splitting_seed\"]\n",
    "normal_number_0 = config[\"init\"][\"hyper\"][\"normal_number_0\"]\n",
    "if beta_file_number == 2:\n",
    "    normal_number_1 = config[\"init\"][\"hyper\"][\"normal_number_1\"]\n",
    "data_source = config[\"init\"][\"hyper\"][\"data_source\"]\n",
    "is_columns_duplicated = config[\"init\"][\"hyper\"][\"is_columns_duplicated\"]\n",
    "if data_source == \"GDC_stomach_GSE99553\":  # god forgive me\n",
    "    is_columns_duplicated_1 = config[\"init\"][\"hyper\"][\"is_columns_duplicated_1\"]"
   ]
  },
  {
   "cell_type": "code",
   "execution_count": 5,
   "metadata": {},
   "outputs": [],
   "source": [
    "trainOutPath = f\"../{TYPE}/result/{data_source}/train{int(100-test_ratio*100)}\"\n",
    "testOutPath = f\"../{TYPE}/result/{data_source}/test{int(test_ratio*100)}\""
   ]
  },
  {
   "cell_type": "markdown",
   "metadata": {},
   "source": [
    "### Section. 0 Merge and Split Champ Data \n",
    "(if there are more than one normalized beta data)\n",
    "\n",
    "#### Summary\n",
    "- beta data is split into train and test\n",
    "- all beta data will the following format\n",
    "  - column 0 is the id of the sample\n",
    "  - column 1 to n is the beta value of each CpG site\n",
    "  - normal samples come first, then tumor samples"
   ]
  },
  {
   "cell_type": "code",
   "execution_count": 6,
   "metadata": {},
   "outputs": [],
   "source": [
    "df0 = pd.read_csv(f\"../{TYPE}/champ_result/{data_source}/all_beta_normalized_0.csv\")"
   ]
  },
  {
   "cell_type": "code",
   "execution_count": 7,
   "metadata": {},
   "outputs": [],
   "source": [
    "if beta_file_number == 2:\n",
    "    df1 = pd.read_csv(f\"../{TYPE}/champ_result/{data_source}/all_beta_normalized_1.csv\")"
   ]
  },
  {
   "cell_type": "code",
   "execution_count": 8,
   "metadata": {},
   "outputs": [
    {
     "data": {
      "text/html": [
       "<div>\n",
       "<style scoped>\n",
       "    .dataframe tbody tr th:only-of-type {\n",
       "        vertical-align: middle;\n",
       "    }\n",
       "\n",
       "    .dataframe tbody tr th {\n",
       "        vertical-align: top;\n",
       "    }\n",
       "\n",
       "    .dataframe thead th {\n",
       "        text-align: right;\n",
       "    }\n",
       "</style>\n",
       "<table border=\"1\" class=\"dataframe\">\n",
       "  <thead>\n",
       "    <tr style=\"text-align: right;\">\n",
       "      <th></th>\n",
       "      <th>Unnamed: 0</th>\n",
       "      <th>1</th>\n",
       "      <th>2</th>\n",
       "      <th>3</th>\n",
       "      <th>4</th>\n",
       "      <th>5</th>\n",
       "      <th>6</th>\n",
       "      <th>7</th>\n",
       "      <th>8</th>\n",
       "      <th>9</th>\n",
       "      <th>...</th>\n",
       "      <th>785</th>\n",
       "      <th>786</th>\n",
       "      <th>787</th>\n",
       "      <th>788</th>\n",
       "      <th>789</th>\n",
       "      <th>790</th>\n",
       "      <th>791</th>\n",
       "      <th>792</th>\n",
       "      <th>793</th>\n",
       "      <th>794</th>\n",
       "    </tr>\n",
       "  </thead>\n",
       "  <tbody>\n",
       "    <tr>\n",
       "      <th>0</th>\n",
       "      <td>cg00000957</td>\n",
       "      <td>0.882586</td>\n",
       "      <td>0.882586</td>\n",
       "      <td>0.888966</td>\n",
       "      <td>0.888966</td>\n",
       "      <td>0.855526</td>\n",
       "      <td>0.855526</td>\n",
       "      <td>0.832959</td>\n",
       "      <td>0.832959</td>\n",
       "      <td>0.856065</td>\n",
       "      <td>...</td>\n",
       "      <td>0.923578</td>\n",
       "      <td>0.923578</td>\n",
       "      <td>0.881459</td>\n",
       "      <td>0.881459</td>\n",
       "      <td>0.736260</td>\n",
       "      <td>0.736260</td>\n",
       "      <td>0.874344</td>\n",
       "      <td>0.874344</td>\n",
       "      <td>0.842226</td>\n",
       "      <td>0.842226</td>\n",
       "    </tr>\n",
       "    <tr>\n",
       "      <th>1</th>\n",
       "      <td>cg00001349</td>\n",
       "      <td>0.785839</td>\n",
       "      <td>0.785839</td>\n",
       "      <td>0.797948</td>\n",
       "      <td>0.797948</td>\n",
       "      <td>0.504743</td>\n",
       "      <td>0.504743</td>\n",
       "      <td>0.819827</td>\n",
       "      <td>0.819827</td>\n",
       "      <td>0.664534</td>\n",
       "      <td>...</td>\n",
       "      <td>0.928798</td>\n",
       "      <td>0.928798</td>\n",
       "      <td>0.869638</td>\n",
       "      <td>0.869638</td>\n",
       "      <td>0.771485</td>\n",
       "      <td>0.771485</td>\n",
       "      <td>0.841111</td>\n",
       "      <td>0.841111</td>\n",
       "      <td>0.860493</td>\n",
       "      <td>0.860493</td>\n",
       "    </tr>\n",
       "    <tr>\n",
       "      <th>2</th>\n",
       "      <td>cg00001583</td>\n",
       "      <td>0.132020</td>\n",
       "      <td>0.132020</td>\n",
       "      <td>0.389871</td>\n",
       "      <td>0.389871</td>\n",
       "      <td>0.039702</td>\n",
       "      <td>0.039702</td>\n",
       "      <td>0.051382</td>\n",
       "      <td>0.051382</td>\n",
       "      <td>0.029278</td>\n",
       "      <td>...</td>\n",
       "      <td>0.094878</td>\n",
       "      <td>0.094878</td>\n",
       "      <td>0.085176</td>\n",
       "      <td>0.085176</td>\n",
       "      <td>0.052560</td>\n",
       "      <td>0.052560</td>\n",
       "      <td>0.767299</td>\n",
       "      <td>0.767299</td>\n",
       "      <td>0.021839</td>\n",
       "      <td>0.021839</td>\n",
       "    </tr>\n",
       "    <tr>\n",
       "      <th>3</th>\n",
       "      <td>cg00002028</td>\n",
       "      <td>0.044290</td>\n",
       "      <td>0.044290</td>\n",
       "      <td>0.036263</td>\n",
       "      <td>0.036263</td>\n",
       "      <td>0.031440</td>\n",
       "      <td>0.031440</td>\n",
       "      <td>0.052714</td>\n",
       "      <td>0.052714</td>\n",
       "      <td>0.031140</td>\n",
       "      <td>...</td>\n",
       "      <td>0.034089</td>\n",
       "      <td>0.034089</td>\n",
       "      <td>0.025052</td>\n",
       "      <td>0.025052</td>\n",
       "      <td>0.047492</td>\n",
       "      <td>0.047492</td>\n",
       "      <td>0.064969</td>\n",
       "      <td>0.064969</td>\n",
       "      <td>0.033071</td>\n",
       "      <td>0.033071</td>\n",
       "    </tr>\n",
       "    <tr>\n",
       "      <th>4</th>\n",
       "      <td>cg00002719</td>\n",
       "      <td>0.078922</td>\n",
       "      <td>0.078922</td>\n",
       "      <td>0.151968</td>\n",
       "      <td>0.151968</td>\n",
       "      <td>0.309160</td>\n",
       "      <td>0.309160</td>\n",
       "      <td>0.224937</td>\n",
       "      <td>0.224937</td>\n",
       "      <td>0.016472</td>\n",
       "      <td>...</td>\n",
       "      <td>0.077611</td>\n",
       "      <td>0.077611</td>\n",
       "      <td>0.621762</td>\n",
       "      <td>0.621762</td>\n",
       "      <td>0.376571</td>\n",
       "      <td>0.376571</td>\n",
       "      <td>0.812937</td>\n",
       "      <td>0.812937</td>\n",
       "      <td>0.599716</td>\n",
       "      <td>0.599716</td>\n",
       "    </tr>\n",
       "    <tr>\n",
       "      <th>...</th>\n",
       "      <td>...</td>\n",
       "      <td>...</td>\n",
       "      <td>...</td>\n",
       "      <td>...</td>\n",
       "      <td>...</td>\n",
       "      <td>...</td>\n",
       "      <td>...</td>\n",
       "      <td>...</td>\n",
       "      <td>...</td>\n",
       "      <td>...</td>\n",
       "      <td>...</td>\n",
       "      <td>...</td>\n",
       "      <td>...</td>\n",
       "      <td>...</td>\n",
       "      <td>...</td>\n",
       "      <td>...</td>\n",
       "      <td>...</td>\n",
       "      <td>...</td>\n",
       "      <td>...</td>\n",
       "      <td>...</td>\n",
       "      <td>...</td>\n",
       "    </tr>\n",
       "    <tr>\n",
       "      <th>375932</th>\n",
       "      <td>cg27634744</td>\n",
       "      <td>0.964502</td>\n",
       "      <td>0.964502</td>\n",
       "      <td>0.959192</td>\n",
       "      <td>0.959192</td>\n",
       "      <td>0.959986</td>\n",
       "      <td>0.959986</td>\n",
       "      <td>0.908966</td>\n",
       "      <td>0.908966</td>\n",
       "      <td>0.950377</td>\n",
       "      <td>...</td>\n",
       "      <td>0.959669</td>\n",
       "      <td>0.959669</td>\n",
       "      <td>0.975149</td>\n",
       "      <td>0.975149</td>\n",
       "      <td>0.964513</td>\n",
       "      <td>0.964513</td>\n",
       "      <td>0.957571</td>\n",
       "      <td>0.957571</td>\n",
       "      <td>0.972283</td>\n",
       "      <td>0.972283</td>\n",
       "    </tr>\n",
       "    <tr>\n",
       "      <th>375933</th>\n",
       "      <td>cg27648216</td>\n",
       "      <td>0.613667</td>\n",
       "      <td>0.613667</td>\n",
       "      <td>0.773861</td>\n",
       "      <td>0.773861</td>\n",
       "      <td>0.467030</td>\n",
       "      <td>0.467030</td>\n",
       "      <td>0.520283</td>\n",
       "      <td>0.520283</td>\n",
       "      <td>0.449169</td>\n",
       "      <td>...</td>\n",
       "      <td>0.595399</td>\n",
       "      <td>0.595399</td>\n",
       "      <td>0.477862</td>\n",
       "      <td>0.477862</td>\n",
       "      <td>0.652910</td>\n",
       "      <td>0.652910</td>\n",
       "      <td>0.138486</td>\n",
       "      <td>0.138486</td>\n",
       "      <td>0.968375</td>\n",
       "      <td>0.968375</td>\n",
       "    </tr>\n",
       "    <tr>\n",
       "      <th>375934</th>\n",
       "      <td>cg27657537</td>\n",
       "      <td>0.095200</td>\n",
       "      <td>0.095200</td>\n",
       "      <td>0.111093</td>\n",
       "      <td>0.111093</td>\n",
       "      <td>0.089802</td>\n",
       "      <td>0.089802</td>\n",
       "      <td>0.070704</td>\n",
       "      <td>0.070704</td>\n",
       "      <td>0.050406</td>\n",
       "      <td>...</td>\n",
       "      <td>0.054031</td>\n",
       "      <td>0.054031</td>\n",
       "      <td>0.051604</td>\n",
       "      <td>0.051604</td>\n",
       "      <td>0.106537</td>\n",
       "      <td>0.106537</td>\n",
       "      <td>0.026094</td>\n",
       "      <td>0.026094</td>\n",
       "      <td>0.057825</td>\n",
       "      <td>0.057825</td>\n",
       "    </tr>\n",
       "    <tr>\n",
       "      <th>375935</th>\n",
       "      <td>cg27662611</td>\n",
       "      <td>0.035588</td>\n",
       "      <td>0.035588</td>\n",
       "      <td>0.058057</td>\n",
       "      <td>0.058057</td>\n",
       "      <td>0.051713</td>\n",
       "      <td>0.051713</td>\n",
       "      <td>0.131603</td>\n",
       "      <td>0.131603</td>\n",
       "      <td>0.032566</td>\n",
       "      <td>...</td>\n",
       "      <td>0.109315</td>\n",
       "      <td>0.109315</td>\n",
       "      <td>0.054413</td>\n",
       "      <td>0.054413</td>\n",
       "      <td>0.058714</td>\n",
       "      <td>0.058714</td>\n",
       "      <td>0.030267</td>\n",
       "      <td>0.030267</td>\n",
       "      <td>0.045827</td>\n",
       "      <td>0.045827</td>\n",
       "    </tr>\n",
       "    <tr>\n",
       "      <th>375936</th>\n",
       "      <td>cg27665648</td>\n",
       "      <td>0.851922</td>\n",
       "      <td>0.851922</td>\n",
       "      <td>0.802420</td>\n",
       "      <td>0.802420</td>\n",
       "      <td>0.533191</td>\n",
       "      <td>0.533191</td>\n",
       "      <td>0.652187</td>\n",
       "      <td>0.652187</td>\n",
       "      <td>0.508568</td>\n",
       "      <td>...</td>\n",
       "      <td>0.629888</td>\n",
       "      <td>0.629888</td>\n",
       "      <td>0.894335</td>\n",
       "      <td>0.894335</td>\n",
       "      <td>0.835972</td>\n",
       "      <td>0.835972</td>\n",
       "      <td>0.288257</td>\n",
       "      <td>0.288257</td>\n",
       "      <td>0.633773</td>\n",
       "      <td>0.633773</td>\n",
       "    </tr>\n",
       "  </tbody>\n",
       "</table>\n",
       "<p>375937 rows × 795 columns</p>\n",
       "</div>"
      ],
      "text/plain": [
       "        Unnamed: 0         1         2         3         4         5  \\\n",
       "0       cg00000957  0.882586  0.882586  0.888966  0.888966  0.855526   \n",
       "1       cg00001349  0.785839  0.785839  0.797948  0.797948  0.504743   \n",
       "2       cg00001583  0.132020  0.132020  0.389871  0.389871  0.039702   \n",
       "3       cg00002028  0.044290  0.044290  0.036263  0.036263  0.031440   \n",
       "4       cg00002719  0.078922  0.078922  0.151968  0.151968  0.309160   \n",
       "...            ...       ...       ...       ...       ...       ...   \n",
       "375932  cg27634744  0.964502  0.964502  0.959192  0.959192  0.959986   \n",
       "375933  cg27648216  0.613667  0.613667  0.773861  0.773861  0.467030   \n",
       "375934  cg27657537  0.095200  0.095200  0.111093  0.111093  0.089802   \n",
       "375935  cg27662611  0.035588  0.035588  0.058057  0.058057  0.051713   \n",
       "375936  cg27665648  0.851922  0.851922  0.802420  0.802420  0.533191   \n",
       "\n",
       "               6         7         8         9  ...       785       786  \\\n",
       "0       0.855526  0.832959  0.832959  0.856065  ...  0.923578  0.923578   \n",
       "1       0.504743  0.819827  0.819827  0.664534  ...  0.928798  0.928798   \n",
       "2       0.039702  0.051382  0.051382  0.029278  ...  0.094878  0.094878   \n",
       "3       0.031440  0.052714  0.052714  0.031140  ...  0.034089  0.034089   \n",
       "4       0.309160  0.224937  0.224937  0.016472  ...  0.077611  0.077611   \n",
       "...          ...       ...       ...       ...  ...       ...       ...   \n",
       "375932  0.959986  0.908966  0.908966  0.950377  ...  0.959669  0.959669   \n",
       "375933  0.467030  0.520283  0.520283  0.449169  ...  0.595399  0.595399   \n",
       "375934  0.089802  0.070704  0.070704  0.050406  ...  0.054031  0.054031   \n",
       "375935  0.051713  0.131603  0.131603  0.032566  ...  0.109315  0.109315   \n",
       "375936  0.533191  0.652187  0.652187  0.508568  ...  0.629888  0.629888   \n",
       "\n",
       "             787       788       789       790       791       792       793  \\\n",
       "0       0.881459  0.881459  0.736260  0.736260  0.874344  0.874344  0.842226   \n",
       "1       0.869638  0.869638  0.771485  0.771485  0.841111  0.841111  0.860493   \n",
       "2       0.085176  0.085176  0.052560  0.052560  0.767299  0.767299  0.021839   \n",
       "3       0.025052  0.025052  0.047492  0.047492  0.064969  0.064969  0.033071   \n",
       "4       0.621762  0.621762  0.376571  0.376571  0.812937  0.812937  0.599716   \n",
       "...          ...       ...       ...       ...       ...       ...       ...   \n",
       "375932  0.975149  0.975149  0.964513  0.964513  0.957571  0.957571  0.972283   \n",
       "375933  0.477862  0.477862  0.652910  0.652910  0.138486  0.138486  0.968375   \n",
       "375934  0.051604  0.051604  0.106537  0.106537  0.026094  0.026094  0.057825   \n",
       "375935  0.054413  0.054413  0.058714  0.058714  0.030267  0.030267  0.045827   \n",
       "375936  0.894335  0.894335  0.835972  0.835972  0.288257  0.288257  0.633773   \n",
       "\n",
       "             794  \n",
       "0       0.842226  \n",
       "1       0.860493  \n",
       "2       0.021839  \n",
       "3       0.033071  \n",
       "4       0.599716  \n",
       "...          ...  \n",
       "375932  0.972283  \n",
       "375933  0.968375  \n",
       "375934  0.057825  \n",
       "375935  0.045827  \n",
       "375936  0.633773  \n",
       "\n",
       "[375937 rows x 795 columns]"
      ]
     },
     "execution_count": 8,
     "metadata": {},
     "output_type": "execute_result"
    }
   ],
   "source": [
    "# DEBUG\n",
    "df0\n",
    "# END"
   ]
  },
  {
   "cell_type": "code",
   "execution_count": 9,
   "metadata": {},
   "outputs": [
    {
     "data": {
      "text/html": [
       "<div>\n",
       "<style scoped>\n",
       "    .dataframe tbody tr th:only-of-type {\n",
       "        vertical-align: middle;\n",
       "    }\n",
       "\n",
       "    .dataframe tbody tr th {\n",
       "        vertical-align: top;\n",
       "    }\n",
       "\n",
       "    .dataframe thead th {\n",
       "        text-align: right;\n",
       "    }\n",
       "</style>\n",
       "<table border=\"1\" class=\"dataframe\">\n",
       "  <thead>\n",
       "    <tr style=\"text-align: right;\">\n",
       "      <th></th>\n",
       "      <th>Unnamed: 0</th>\n",
       "      <th>1</th>\n",
       "      <th>2</th>\n",
       "      <th>3</th>\n",
       "      <th>4</th>\n",
       "      <th>5</th>\n",
       "      <th>6</th>\n",
       "      <th>7</th>\n",
       "      <th>8</th>\n",
       "      <th>9</th>\n",
       "      <th>...</th>\n",
       "      <th>75</th>\n",
       "      <th>76</th>\n",
       "      <th>77</th>\n",
       "      <th>78</th>\n",
       "      <th>79</th>\n",
       "      <th>80</th>\n",
       "      <th>81</th>\n",
       "      <th>82</th>\n",
       "      <th>83</th>\n",
       "      <th>84</th>\n",
       "    </tr>\n",
       "  </thead>\n",
       "  <tbody>\n",
       "    <tr>\n",
       "      <th>0</th>\n",
       "      <td>cg00000957</td>\n",
       "      <td>0.858035</td>\n",
       "      <td>0.857628</td>\n",
       "      <td>0.867186</td>\n",
       "      <td>0.863948</td>\n",
       "      <td>0.876811</td>\n",
       "      <td>0.891727</td>\n",
       "      <td>0.857704</td>\n",
       "      <td>0.839934</td>\n",
       "      <td>0.875310</td>\n",
       "      <td>...</td>\n",
       "      <td>0.853386</td>\n",
       "      <td>0.874006</td>\n",
       "      <td>0.870364</td>\n",
       "      <td>0.898049</td>\n",
       "      <td>0.843260</td>\n",
       "      <td>0.856604</td>\n",
       "      <td>0.865932</td>\n",
       "      <td>0.858620</td>\n",
       "      <td>0.897222</td>\n",
       "      <td>0.869239</td>\n",
       "    </tr>\n",
       "    <tr>\n",
       "      <th>1</th>\n",
       "      <td>cg00001349</td>\n",
       "      <td>0.818526</td>\n",
       "      <td>0.815122</td>\n",
       "      <td>0.820965</td>\n",
       "      <td>0.798571</td>\n",
       "      <td>0.837677</td>\n",
       "      <td>0.865194</td>\n",
       "      <td>0.809122</td>\n",
       "      <td>0.758602</td>\n",
       "      <td>0.747747</td>\n",
       "      <td>...</td>\n",
       "      <td>0.805034</td>\n",
       "      <td>0.844716</td>\n",
       "      <td>0.777586</td>\n",
       "      <td>0.791153</td>\n",
       "      <td>0.784364</td>\n",
       "      <td>0.807629</td>\n",
       "      <td>0.820862</td>\n",
       "      <td>0.803123</td>\n",
       "      <td>0.857963</td>\n",
       "      <td>0.733382</td>\n",
       "    </tr>\n",
       "    <tr>\n",
       "      <th>2</th>\n",
       "      <td>cg00001583</td>\n",
       "      <td>0.069695</td>\n",
       "      <td>0.101148</td>\n",
       "      <td>0.251718</td>\n",
       "      <td>0.167441</td>\n",
       "      <td>0.320355</td>\n",
       "      <td>0.066808</td>\n",
       "      <td>0.070955</td>\n",
       "      <td>0.074023</td>\n",
       "      <td>0.089597</td>\n",
       "      <td>...</td>\n",
       "      <td>0.343598</td>\n",
       "      <td>0.219374</td>\n",
       "      <td>0.123079</td>\n",
       "      <td>0.091969</td>\n",
       "      <td>0.092934</td>\n",
       "      <td>0.152514</td>\n",
       "      <td>0.182412</td>\n",
       "      <td>0.086743</td>\n",
       "      <td>0.243569</td>\n",
       "      <td>0.147689</td>\n",
       "    </tr>\n",
       "    <tr>\n",
       "      <th>3</th>\n",
       "      <td>cg00002028</td>\n",
       "      <td>0.050951</td>\n",
       "      <td>0.039571</td>\n",
       "      <td>0.049801</td>\n",
       "      <td>0.038430</td>\n",
       "      <td>0.044819</td>\n",
       "      <td>0.030731</td>\n",
       "      <td>0.053750</td>\n",
       "      <td>0.063628</td>\n",
       "      <td>0.044394</td>\n",
       "      <td>...</td>\n",
       "      <td>0.048357</td>\n",
       "      <td>0.049542</td>\n",
       "      <td>0.038441</td>\n",
       "      <td>0.045066</td>\n",
       "      <td>0.053866</td>\n",
       "      <td>0.059476</td>\n",
       "      <td>0.065169</td>\n",
       "      <td>0.054855</td>\n",
       "      <td>0.055633</td>\n",
       "      <td>0.047655</td>\n",
       "    </tr>\n",
       "    <tr>\n",
       "      <th>4</th>\n",
       "      <td>cg00002719</td>\n",
       "      <td>0.030276</td>\n",
       "      <td>0.034636</td>\n",
       "      <td>0.120129</td>\n",
       "      <td>0.063254</td>\n",
       "      <td>0.165408</td>\n",
       "      <td>0.031822</td>\n",
       "      <td>0.025926</td>\n",
       "      <td>0.031782</td>\n",
       "      <td>0.046754</td>\n",
       "      <td>...</td>\n",
       "      <td>0.201393</td>\n",
       "      <td>0.129438</td>\n",
       "      <td>0.038857</td>\n",
       "      <td>0.032211</td>\n",
       "      <td>0.046372</td>\n",
       "      <td>0.090776</td>\n",
       "      <td>0.067066</td>\n",
       "      <td>0.058569</td>\n",
       "      <td>0.113084</td>\n",
       "      <td>0.079253</td>\n",
       "    </tr>\n",
       "    <tr>\n",
       "      <th>...</th>\n",
       "      <td>...</td>\n",
       "      <td>...</td>\n",
       "      <td>...</td>\n",
       "      <td>...</td>\n",
       "      <td>...</td>\n",
       "      <td>...</td>\n",
       "      <td>...</td>\n",
       "      <td>...</td>\n",
       "      <td>...</td>\n",
       "      <td>...</td>\n",
       "      <td>...</td>\n",
       "      <td>...</td>\n",
       "      <td>...</td>\n",
       "      <td>...</td>\n",
       "      <td>...</td>\n",
       "      <td>...</td>\n",
       "      <td>...</td>\n",
       "      <td>...</td>\n",
       "      <td>...</td>\n",
       "      <td>...</td>\n",
       "      <td>...</td>\n",
       "    </tr>\n",
       "    <tr>\n",
       "      <th>411031</th>\n",
       "      <td>cg27656573</td>\n",
       "      <td>0.963091</td>\n",
       "      <td>0.958470</td>\n",
       "      <td>0.963696</td>\n",
       "      <td>0.959347</td>\n",
       "      <td>0.954072</td>\n",
       "      <td>0.968240</td>\n",
       "      <td>0.942136</td>\n",
       "      <td>0.952305</td>\n",
       "      <td>0.964950</td>\n",
       "      <td>...</td>\n",
       "      <td>0.941491</td>\n",
       "      <td>0.946809</td>\n",
       "      <td>0.934101</td>\n",
       "      <td>0.962496</td>\n",
       "      <td>0.949366</td>\n",
       "      <td>0.963563</td>\n",
       "      <td>0.965538</td>\n",
       "      <td>0.962758</td>\n",
       "      <td>0.966208</td>\n",
       "      <td>0.955197</td>\n",
       "    </tr>\n",
       "    <tr>\n",
       "      <th>411032</th>\n",
       "      <td>cg27657363</td>\n",
       "      <td>0.934041</td>\n",
       "      <td>0.935863</td>\n",
       "      <td>0.921512</td>\n",
       "      <td>0.932295</td>\n",
       "      <td>0.933304</td>\n",
       "      <td>0.943195</td>\n",
       "      <td>0.918545</td>\n",
       "      <td>0.913295</td>\n",
       "      <td>0.938081</td>\n",
       "      <td>...</td>\n",
       "      <td>0.910818</td>\n",
       "      <td>0.923547</td>\n",
       "      <td>0.915725</td>\n",
       "      <td>0.929228</td>\n",
       "      <td>0.910335</td>\n",
       "      <td>0.925806</td>\n",
       "      <td>0.927480</td>\n",
       "      <td>0.911182</td>\n",
       "      <td>0.931382</td>\n",
       "      <td>0.928196</td>\n",
       "    </tr>\n",
       "    <tr>\n",
       "      <th>411033</th>\n",
       "      <td>cg27657537</td>\n",
       "      <td>0.075093</td>\n",
       "      <td>0.052161</td>\n",
       "      <td>0.096838</td>\n",
       "      <td>0.102040</td>\n",
       "      <td>0.105938</td>\n",
       "      <td>0.073159</td>\n",
       "      <td>0.066998</td>\n",
       "      <td>0.085528</td>\n",
       "      <td>0.092740</td>\n",
       "      <td>...</td>\n",
       "      <td>0.130149</td>\n",
       "      <td>0.094656</td>\n",
       "      <td>0.079995</td>\n",
       "      <td>0.056742</td>\n",
       "      <td>0.071605</td>\n",
       "      <td>0.083873</td>\n",
       "      <td>0.077076</td>\n",
       "      <td>0.080459</td>\n",
       "      <td>0.078748</td>\n",
       "      <td>0.101048</td>\n",
       "    </tr>\n",
       "    <tr>\n",
       "      <th>411034</th>\n",
       "      <td>cg27662611</td>\n",
       "      <td>0.023245</td>\n",
       "      <td>0.029685</td>\n",
       "      <td>0.034149</td>\n",
       "      <td>0.019497</td>\n",
       "      <td>0.033785</td>\n",
       "      <td>0.037193</td>\n",
       "      <td>0.030691</td>\n",
       "      <td>0.023716</td>\n",
       "      <td>0.043504</td>\n",
       "      <td>...</td>\n",
       "      <td>0.026529</td>\n",
       "      <td>0.026026</td>\n",
       "      <td>0.038393</td>\n",
       "      <td>0.027462</td>\n",
       "      <td>0.036888</td>\n",
       "      <td>0.032922</td>\n",
       "      <td>0.024665</td>\n",
       "      <td>0.046806</td>\n",
       "      <td>0.035739</td>\n",
       "      <td>0.035194</td>\n",
       "    </tr>\n",
       "    <tr>\n",
       "      <th>411035</th>\n",
       "      <td>cg27665648</td>\n",
       "      <td>0.832204</td>\n",
       "      <td>0.780789</td>\n",
       "      <td>0.814076</td>\n",
       "      <td>0.846846</td>\n",
       "      <td>0.805542</td>\n",
       "      <td>0.889889</td>\n",
       "      <td>0.883227</td>\n",
       "      <td>0.881801</td>\n",
       "      <td>0.905559</td>\n",
       "      <td>...</td>\n",
       "      <td>0.841373</td>\n",
       "      <td>0.798658</td>\n",
       "      <td>0.836524</td>\n",
       "      <td>0.830783</td>\n",
       "      <td>0.858290</td>\n",
       "      <td>0.805838</td>\n",
       "      <td>0.814658</td>\n",
       "      <td>0.913915</td>\n",
       "      <td>0.847541</td>\n",
       "      <td>0.842225</td>\n",
       "    </tr>\n",
       "  </tbody>\n",
       "</table>\n",
       "<p>411036 rows × 85 columns</p>\n",
       "</div>"
      ],
      "text/plain": [
       "        Unnamed: 0         1         2         3         4         5  \\\n",
       "0       cg00000957  0.858035  0.857628  0.867186  0.863948  0.876811   \n",
       "1       cg00001349  0.818526  0.815122  0.820965  0.798571  0.837677   \n",
       "2       cg00001583  0.069695  0.101148  0.251718  0.167441  0.320355   \n",
       "3       cg00002028  0.050951  0.039571  0.049801  0.038430  0.044819   \n",
       "4       cg00002719  0.030276  0.034636  0.120129  0.063254  0.165408   \n",
       "...            ...       ...       ...       ...       ...       ...   \n",
       "411031  cg27656573  0.963091  0.958470  0.963696  0.959347  0.954072   \n",
       "411032  cg27657363  0.934041  0.935863  0.921512  0.932295  0.933304   \n",
       "411033  cg27657537  0.075093  0.052161  0.096838  0.102040  0.105938   \n",
       "411034  cg27662611  0.023245  0.029685  0.034149  0.019497  0.033785   \n",
       "411035  cg27665648  0.832204  0.780789  0.814076  0.846846  0.805542   \n",
       "\n",
       "               6         7         8         9  ...        75        76  \\\n",
       "0       0.891727  0.857704  0.839934  0.875310  ...  0.853386  0.874006   \n",
       "1       0.865194  0.809122  0.758602  0.747747  ...  0.805034  0.844716   \n",
       "2       0.066808  0.070955  0.074023  0.089597  ...  0.343598  0.219374   \n",
       "3       0.030731  0.053750  0.063628  0.044394  ...  0.048357  0.049542   \n",
       "4       0.031822  0.025926  0.031782  0.046754  ...  0.201393  0.129438   \n",
       "...          ...       ...       ...       ...  ...       ...       ...   \n",
       "411031  0.968240  0.942136  0.952305  0.964950  ...  0.941491  0.946809   \n",
       "411032  0.943195  0.918545  0.913295  0.938081  ...  0.910818  0.923547   \n",
       "411033  0.073159  0.066998  0.085528  0.092740  ...  0.130149  0.094656   \n",
       "411034  0.037193  0.030691  0.023716  0.043504  ...  0.026529  0.026026   \n",
       "411035  0.889889  0.883227  0.881801  0.905559  ...  0.841373  0.798658   \n",
       "\n",
       "              77        78        79        80        81        82        83  \\\n",
       "0       0.870364  0.898049  0.843260  0.856604  0.865932  0.858620  0.897222   \n",
       "1       0.777586  0.791153  0.784364  0.807629  0.820862  0.803123  0.857963   \n",
       "2       0.123079  0.091969  0.092934  0.152514  0.182412  0.086743  0.243569   \n",
       "3       0.038441  0.045066  0.053866  0.059476  0.065169  0.054855  0.055633   \n",
       "4       0.038857  0.032211  0.046372  0.090776  0.067066  0.058569  0.113084   \n",
       "...          ...       ...       ...       ...       ...       ...       ...   \n",
       "411031  0.934101  0.962496  0.949366  0.963563  0.965538  0.962758  0.966208   \n",
       "411032  0.915725  0.929228  0.910335  0.925806  0.927480  0.911182  0.931382   \n",
       "411033  0.079995  0.056742  0.071605  0.083873  0.077076  0.080459  0.078748   \n",
       "411034  0.038393  0.027462  0.036888  0.032922  0.024665  0.046806  0.035739   \n",
       "411035  0.836524  0.830783  0.858290  0.805838  0.814658  0.913915  0.847541   \n",
       "\n",
       "              84  \n",
       "0       0.869239  \n",
       "1       0.733382  \n",
       "2       0.147689  \n",
       "3       0.047655  \n",
       "4       0.079253  \n",
       "...          ...  \n",
       "411031  0.955197  \n",
       "411032  0.928196  \n",
       "411033  0.101048  \n",
       "411034  0.035194  \n",
       "411035  0.842225  \n",
       "\n",
       "[411036 rows x 85 columns]"
      ]
     },
     "execution_count": 9,
     "metadata": {},
     "output_type": "execute_result"
    }
   ],
   "source": [
    "# DEBUG\n",
    "df1\n",
    "# END"
   ]
  },
  {
   "cell_type": "code",
   "execution_count": 10,
   "metadata": {},
   "outputs": [],
   "source": [
    "# potential feature loss\n",
    "if beta_file_number == 2:\n",
    "    feature_name_0 = df0.iloc[:, 0].tolist()\n",
    "    feature_name_1 = df1.iloc[:, 0].tolist()\n",
    "\n",
    "    feature_name = list(set(feature_name_0).intersection(feature_name_1))\n",
    "    update_nested_toml(\n",
    "        \"preprocess.merge_and_split\", \"feature_size_0\", len(feature_name_0)\n",
    "    )\n",
    "    update_nested_toml(\n",
    "        \"preprocess.merge_and_split\", \"feature_size_1\", len(feature_name_1)\n",
    "    )\n",
    "    update_nested_toml(\n",
    "        \"preprocess.merge_and_split\", \"feature_size_intersection\", len(feature_name)\n",
    "    )\n",
    "elif beta_file_number == 1:\n",
    "    feature_name = df0.iloc[:, 0].tolist()\n",
    "    update_nested_toml(\n",
    "        \"preprocess.merge_and_split\", \"feature_size_0\", len(feature_name)\n",
    "    )"
   ]
  },
  {
   "cell_type": "code",
   "execution_count": 11,
   "metadata": {},
   "outputs": [],
   "source": [
    "if beta_file_number == 2:\n",
    "    df0_join = df0[df0.iloc[:, 0].isin(feature_name)]\n",
    "    df1_join = df1[df1.iloc[:, 0].isin(feature_name)]"
   ]
  },
  {
   "cell_type": "code",
   "execution_count": 12,
   "metadata": {},
   "outputs": [],
   "source": [
    "if beta_file_number == 2:\n",
    "    df0_join = df0_join.iloc[:, 1::is_columns_duplicated]\n",
    "    if data_source == \"GDC_stomach_GSE99553\":  # god forgive me\n",
    "        df1_join = df1_join.iloc[:, 1::is_columns_duplicated_1]\n",
    "    else:\n",
    "        df1_join = df1_join.iloc[:, 1::is_columns_duplicated]\n",
    "    df0_join.reset_index(drop=True, inplace=True)\n",
    "    df1_join.reset_index(drop=True, inplace=True)\n",
    "    df0_join_normal = df0_join.iloc[:, :normal_number_0]\n",
    "    df0_join_tumor = df0_join.iloc[:, normal_number_0:]\n",
    "    df1_join_normal = df1_join.iloc[:, :normal_number_1]\n",
    "    df1_join_tumor = df1_join.iloc[:, normal_number_1:]\n",
    "elif beta_file_number == 1:\n",
    "    df0_join = df0.iloc[:, 1::is_columns_duplicated]"
   ]
  },
  {
   "cell_type": "code",
   "execution_count": 13,
   "metadata": {},
   "outputs": [],
   "source": [
    "if beta_file_number == 2:\n",
    "    df_normal = pd.concat([df0_join_normal, df1_join_normal], axis=1)\n",
    "    df_tumor = pd.concat([df0_join_tumor, df1_join_tumor], axis=1)"
   ]
  },
  {
   "cell_type": "code",
   "execution_count": 14,
   "metadata": {},
   "outputs": [],
   "source": [
    "# drop those samples with missing value\n",
    "# note: could use padding or other methods to fill the missing value\n",
    "\n",
    "if beta_file_number == 2:\n",
    "    update_nested_toml(\n",
    "        \"preprocess.merge_and_split\", \"Before_dropna_dfn_shape\", df_normal.shape\n",
    "    )\n",
    "    update_nested_toml(\n",
    "        \"preprocess.merge_and_split\", \"Before_dropna_dfc_shape\", df_tumor.shape\n",
    "    )\n",
    "    df_normal.dropna(inplace=True, axis=1)\n",
    "    df_tumor.dropna(inplace=True, axis=1)\n",
    "    update_nested_toml(\n",
    "        \"preprocess.merge_and_split\", \"After_dropna_dfn_shape\", df_normal.shape\n",
    "    )\n",
    "    update_nested_toml(\n",
    "        \"preprocess.merge_and_split\", \"After_dropna_dfc_shape\", df_tumor.shape\n",
    "    )\n",
    "elif beta_file_number == 1:\n",
    "    update_nested_toml(\n",
    "        \"preprocess.merge_and_split\", \"Before_dropna_df_shape\", df0_join.shape\n",
    "    )\n",
    "    df0_join.dropna(inplace=True, axis=1)\n",
    "    update_nested_toml(\n",
    "        \"preprocess.merge_and_split\", \"After_dropna_df_shape\", df0_join.shape\n",
    "    )"
   ]
  },
  {
   "cell_type": "code",
   "execution_count": 15,
   "metadata": {},
   "outputs": [],
   "source": [
    "from imblearn.over_sampling import SMOTE\n",
    "\n",
    "# Combine the normal and tumor data\n",
    "if beta_file_number == 2:\n",
    "    X = pd.concat([df_normal, df_tumor], axis=1).T\n",
    "    y = [0] * df_normal.shape[1] + [1] * df_tumor.shape[1]\n",
    "elif beta_file_number == 1:\n",
    "    X = df0_join.T\n",
    "    y = [0] * normal_number_0 + [1] * (df0_join.shape[1] - normal_number_0)\n",
    "update_nested_toml(\n",
    "    \"preprocess.merge_and_split\", \"Before_SMOTE_X_shape\", X.shape\n",
    ")\n",
    "update_nested_toml(\n",
    "    \"preprocess.merge_and_split\", \"Before_SMOTE_y_shape\", len(y)\n",
    ")\n"
   ]
  },
  {
   "cell_type": "code",
   "execution_count": 16,
   "metadata": {},
   "outputs": [],
   "source": [
    "smote = SMOTE(random_state=seed)\n",
    "X_resampled, y_resampled = smote.fit_resample(X, y)\n",
    "update_nested_toml(\n",
    "    \"preprocess.merge_and_split\", \"After_SMOTE_X_shape\", X_resampled.shape\n",
    ")\n",
    "update_nested_toml(\n",
    "    \"preprocess.merge_and_split\", \"After_SMOTE_y_shape\", len(y_resampled)\n",
    ")"
   ]
  },
  {
   "cell_type": "code",
   "execution_count": 17,
   "metadata": {},
   "outputs": [
    {
     "data": {
      "text/html": [
       "<div>\n",
       "<style scoped>\n",
       "    .dataframe tbody tr th:only-of-type {\n",
       "        vertical-align: middle;\n",
       "    }\n",
       "\n",
       "    .dataframe tbody tr th {\n",
       "        vertical-align: top;\n",
       "    }\n",
       "\n",
       "    .dataframe thead th {\n",
       "        text-align: right;\n",
       "    }\n",
       "</style>\n",
       "<table border=\"1\" class=\"dataframe\">\n",
       "  <thead>\n",
       "    <tr style=\"text-align: right;\">\n",
       "      <th></th>\n",
       "      <th>0</th>\n",
       "      <th>1</th>\n",
       "      <th>2</th>\n",
       "      <th>3</th>\n",
       "      <th>4</th>\n",
       "      <th>5</th>\n",
       "      <th>6</th>\n",
       "      <th>7</th>\n",
       "      <th>8</th>\n",
       "      <th>9</th>\n",
       "      <th>...</th>\n",
       "      <th>375372</th>\n",
       "      <th>375373</th>\n",
       "      <th>375374</th>\n",
       "      <th>375375</th>\n",
       "      <th>375376</th>\n",
       "      <th>375377</th>\n",
       "      <th>375378</th>\n",
       "      <th>375379</th>\n",
       "      <th>375380</th>\n",
       "      <th>375381</th>\n",
       "    </tr>\n",
       "  </thead>\n",
       "  <tbody>\n",
       "    <tr>\n",
       "      <th>0</th>\n",
       "      <td>0.882586</td>\n",
       "      <td>0.785839</td>\n",
       "      <td>0.132020</td>\n",
       "      <td>0.044290</td>\n",
       "      <td>0.078922</td>\n",
       "      <td>0.305587</td>\n",
       "      <td>0.009150</td>\n",
       "      <td>0.159651</td>\n",
       "      <td>0.940844</td>\n",
       "      <td>0.013428</td>\n",
       "      <td>...</td>\n",
       "      <td>0.811774</td>\n",
       "      <td>0.130897</td>\n",
       "      <td>0.870209</td>\n",
       "      <td>0.014249</td>\n",
       "      <td>0.224858</td>\n",
       "      <td>0.964502</td>\n",
       "      <td>0.613667</td>\n",
       "      <td>0.095200</td>\n",
       "      <td>0.035588</td>\n",
       "      <td>0.851922</td>\n",
       "    </tr>\n",
       "    <tr>\n",
       "      <th>1</th>\n",
       "      <td>0.888966</td>\n",
       "      <td>0.797948</td>\n",
       "      <td>0.389871</td>\n",
       "      <td>0.036263</td>\n",
       "      <td>0.151968</td>\n",
       "      <td>0.362442</td>\n",
       "      <td>0.010007</td>\n",
       "      <td>0.260364</td>\n",
       "      <td>0.960472</td>\n",
       "      <td>0.020536</td>\n",
       "      <td>...</td>\n",
       "      <td>0.869211</td>\n",
       "      <td>0.061715</td>\n",
       "      <td>0.894518</td>\n",
       "      <td>0.013156</td>\n",
       "      <td>0.201473</td>\n",
       "      <td>0.959192</td>\n",
       "      <td>0.773861</td>\n",
       "      <td>0.111093</td>\n",
       "      <td>0.058057</td>\n",
       "      <td>0.802420</td>\n",
       "    </tr>\n",
       "    <tr>\n",
       "      <th>2</th>\n",
       "      <td>0.858035</td>\n",
       "      <td>0.818526</td>\n",
       "      <td>0.069695</td>\n",
       "      <td>0.050951</td>\n",
       "      <td>0.030276</td>\n",
       "      <td>0.439639</td>\n",
       "      <td>0.017651</td>\n",
       "      <td>0.165369</td>\n",
       "      <td>0.944982</td>\n",
       "      <td>0.029455</td>\n",
       "      <td>...</td>\n",
       "      <td>0.739420</td>\n",
       "      <td>0.075303</td>\n",
       "      <td>0.704384</td>\n",
       "      <td>0.026629</td>\n",
       "      <td>0.112338</td>\n",
       "      <td>0.949519</td>\n",
       "      <td>0.388190</td>\n",
       "      <td>0.075093</td>\n",
       "      <td>0.023245</td>\n",
       "      <td>0.832204</td>\n",
       "    </tr>\n",
       "    <tr>\n",
       "      <th>3</th>\n",
       "      <td>0.857628</td>\n",
       "      <td>0.815122</td>\n",
       "      <td>0.101148</td>\n",
       "      <td>0.039571</td>\n",
       "      <td>0.034636</td>\n",
       "      <td>0.306618</td>\n",
       "      <td>0.014986</td>\n",
       "      <td>0.157741</td>\n",
       "      <td>0.946624</td>\n",
       "      <td>0.015107</td>\n",
       "      <td>...</td>\n",
       "      <td>0.622299</td>\n",
       "      <td>0.067601</td>\n",
       "      <td>0.778526</td>\n",
       "      <td>0.020871</td>\n",
       "      <td>0.048750</td>\n",
       "      <td>0.978058</td>\n",
       "      <td>0.299649</td>\n",
       "      <td>0.052161</td>\n",
       "      <td>0.029685</td>\n",
       "      <td>0.780789</td>\n",
       "    </tr>\n",
       "    <tr>\n",
       "      <th>4</th>\n",
       "      <td>0.867186</td>\n",
       "      <td>0.820965</td>\n",
       "      <td>0.251718</td>\n",
       "      <td>0.049801</td>\n",
       "      <td>0.120129</td>\n",
       "      <td>0.386672</td>\n",
       "      <td>0.013293</td>\n",
       "      <td>0.221143</td>\n",
       "      <td>0.937167</td>\n",
       "      <td>0.031028</td>\n",
       "      <td>...</td>\n",
       "      <td>0.769739</td>\n",
       "      <td>0.072415</td>\n",
       "      <td>0.782371</td>\n",
       "      <td>0.030878</td>\n",
       "      <td>0.291471</td>\n",
       "      <td>0.950844</td>\n",
       "      <td>0.672361</td>\n",
       "      <td>0.096838</td>\n",
       "      <td>0.034149</td>\n",
       "      <td>0.814076</td>\n",
       "    </tr>\n",
       "    <tr>\n",
       "      <th>...</th>\n",
       "      <td>...</td>\n",
       "      <td>...</td>\n",
       "      <td>...</td>\n",
       "      <td>...</td>\n",
       "      <td>...</td>\n",
       "      <td>...</td>\n",
       "      <td>...</td>\n",
       "      <td>...</td>\n",
       "      <td>...</td>\n",
       "      <td>...</td>\n",
       "      <td>...</td>\n",
       "      <td>...</td>\n",
       "      <td>...</td>\n",
       "      <td>...</td>\n",
       "      <td>...</td>\n",
       "      <td>...</td>\n",
       "      <td>...</td>\n",
       "      <td>...</td>\n",
       "      <td>...</td>\n",
       "      <td>...</td>\n",
       "      <td>...</td>\n",
       "    </tr>\n",
       "    <tr>\n",
       "      <th>785</th>\n",
       "      <td>0.904989</td>\n",
       "      <td>0.875588</td>\n",
       "      <td>0.182052</td>\n",
       "      <td>0.048328</td>\n",
       "      <td>0.085871</td>\n",
       "      <td>0.321603</td>\n",
       "      <td>0.011674</td>\n",
       "      <td>0.202204</td>\n",
       "      <td>0.959965</td>\n",
       "      <td>0.034006</td>\n",
       "      <td>...</td>\n",
       "      <td>0.784302</td>\n",
       "      <td>0.076807</td>\n",
       "      <td>0.830119</td>\n",
       "      <td>0.031548</td>\n",
       "      <td>0.220733</td>\n",
       "      <td>0.963007</td>\n",
       "      <td>0.552476</td>\n",
       "      <td>0.070538</td>\n",
       "      <td>0.042786</td>\n",
       "      <td>0.856046</td>\n",
       "    </tr>\n",
       "    <tr>\n",
       "      <th>786</th>\n",
       "      <td>0.871992</td>\n",
       "      <td>0.799793</td>\n",
       "      <td>0.168759</td>\n",
       "      <td>0.060355</td>\n",
       "      <td>0.098747</td>\n",
       "      <td>0.341540</td>\n",
       "      <td>0.013164</td>\n",
       "      <td>0.198616</td>\n",
       "      <td>0.951975</td>\n",
       "      <td>0.021868</td>\n",
       "      <td>...</td>\n",
       "      <td>0.779914</td>\n",
       "      <td>0.105440</td>\n",
       "      <td>0.865041</td>\n",
       "      <td>0.020436</td>\n",
       "      <td>0.254468</td>\n",
       "      <td>0.954288</td>\n",
       "      <td>0.561132</td>\n",
       "      <td>0.098692</td>\n",
       "      <td>0.039243</td>\n",
       "      <td>0.827468</td>\n",
       "    </tr>\n",
       "    <tr>\n",
       "      <th>787</th>\n",
       "      <td>0.854138</td>\n",
       "      <td>0.804452</td>\n",
       "      <td>0.338828</td>\n",
       "      <td>0.048796</td>\n",
       "      <td>0.198682</td>\n",
       "      <td>0.363103</td>\n",
       "      <td>0.013056</td>\n",
       "      <td>0.250402</td>\n",
       "      <td>0.941074</td>\n",
       "      <td>0.009111</td>\n",
       "      <td>...</td>\n",
       "      <td>0.758298</td>\n",
       "      <td>0.126634</td>\n",
       "      <td>0.828418</td>\n",
       "      <td>0.015914</td>\n",
       "      <td>0.224901</td>\n",
       "      <td>0.927456</td>\n",
       "      <td>0.616830</td>\n",
       "      <td>0.130683</td>\n",
       "      <td>0.028236</td>\n",
       "      <td>0.840169</td>\n",
       "    </tr>\n",
       "    <tr>\n",
       "      <th>788</th>\n",
       "      <td>0.869980</td>\n",
       "      <td>0.783315</td>\n",
       "      <td>0.132474</td>\n",
       "      <td>0.062800</td>\n",
       "      <td>0.063207</td>\n",
       "      <td>0.324641</td>\n",
       "      <td>0.014218</td>\n",
       "      <td>0.193350</td>\n",
       "      <td>0.944816</td>\n",
       "      <td>0.027760</td>\n",
       "      <td>...</td>\n",
       "      <td>0.744604</td>\n",
       "      <td>0.056669</td>\n",
       "      <td>0.804585</td>\n",
       "      <td>0.027533</td>\n",
       "      <td>0.173360</td>\n",
       "      <td>0.943346</td>\n",
       "      <td>0.553163</td>\n",
       "      <td>0.079034</td>\n",
       "      <td>0.027349</td>\n",
       "      <td>0.898433</td>\n",
       "    </tr>\n",
       "    <tr>\n",
       "      <th>789</th>\n",
       "      <td>0.848612</td>\n",
       "      <td>0.734933</td>\n",
       "      <td>0.123627</td>\n",
       "      <td>0.049834</td>\n",
       "      <td>0.060725</td>\n",
       "      <td>0.292735</td>\n",
       "      <td>0.017961</td>\n",
       "      <td>0.174732</td>\n",
       "      <td>0.939810</td>\n",
       "      <td>0.020248</td>\n",
       "      <td>...</td>\n",
       "      <td>0.716110</td>\n",
       "      <td>0.070625</td>\n",
       "      <td>0.796404</td>\n",
       "      <td>0.026654</td>\n",
       "      <td>0.049568</td>\n",
       "      <td>0.954470</td>\n",
       "      <td>0.464549</td>\n",
       "      <td>0.079928</td>\n",
       "      <td>0.014428</td>\n",
       "      <td>0.826642</td>\n",
       "    </tr>\n",
       "  </tbody>\n",
       "</table>\n",
       "<p>790 rows × 375382 columns</p>\n",
       "</div>"
      ],
      "text/plain": [
       "       0         1         2         3         4         5         6       \\\n",
       "0    0.882586  0.785839  0.132020  0.044290  0.078922  0.305587  0.009150   \n",
       "1    0.888966  0.797948  0.389871  0.036263  0.151968  0.362442  0.010007   \n",
       "2    0.858035  0.818526  0.069695  0.050951  0.030276  0.439639  0.017651   \n",
       "3    0.857628  0.815122  0.101148  0.039571  0.034636  0.306618  0.014986   \n",
       "4    0.867186  0.820965  0.251718  0.049801  0.120129  0.386672  0.013293   \n",
       "..        ...       ...       ...       ...       ...       ...       ...   \n",
       "785  0.904989  0.875588  0.182052  0.048328  0.085871  0.321603  0.011674   \n",
       "786  0.871992  0.799793  0.168759  0.060355  0.098747  0.341540  0.013164   \n",
       "787  0.854138  0.804452  0.338828  0.048796  0.198682  0.363103  0.013056   \n",
       "788  0.869980  0.783315  0.132474  0.062800  0.063207  0.324641  0.014218   \n",
       "789  0.848612  0.734933  0.123627  0.049834  0.060725  0.292735  0.017961   \n",
       "\n",
       "       7         8         9       ...    375372    375373    375374  \\\n",
       "0    0.159651  0.940844  0.013428  ...  0.811774  0.130897  0.870209   \n",
       "1    0.260364  0.960472  0.020536  ...  0.869211  0.061715  0.894518   \n",
       "2    0.165369  0.944982  0.029455  ...  0.739420  0.075303  0.704384   \n",
       "3    0.157741  0.946624  0.015107  ...  0.622299  0.067601  0.778526   \n",
       "4    0.221143  0.937167  0.031028  ...  0.769739  0.072415  0.782371   \n",
       "..        ...       ...       ...  ...       ...       ...       ...   \n",
       "785  0.202204  0.959965  0.034006  ...  0.784302  0.076807  0.830119   \n",
       "786  0.198616  0.951975  0.021868  ...  0.779914  0.105440  0.865041   \n",
       "787  0.250402  0.941074  0.009111  ...  0.758298  0.126634  0.828418   \n",
       "788  0.193350  0.944816  0.027760  ...  0.744604  0.056669  0.804585   \n",
       "789  0.174732  0.939810  0.020248  ...  0.716110  0.070625  0.796404   \n",
       "\n",
       "       375375    375376    375377    375378    375379    375380    375381  \n",
       "0    0.014249  0.224858  0.964502  0.613667  0.095200  0.035588  0.851922  \n",
       "1    0.013156  0.201473  0.959192  0.773861  0.111093  0.058057  0.802420  \n",
       "2    0.026629  0.112338  0.949519  0.388190  0.075093  0.023245  0.832204  \n",
       "3    0.020871  0.048750  0.978058  0.299649  0.052161  0.029685  0.780789  \n",
       "4    0.030878  0.291471  0.950844  0.672361  0.096838  0.034149  0.814076  \n",
       "..        ...       ...       ...       ...       ...       ...       ...  \n",
       "785  0.031548  0.220733  0.963007  0.552476  0.070538  0.042786  0.856046  \n",
       "786  0.020436  0.254468  0.954288  0.561132  0.098692  0.039243  0.827468  \n",
       "787  0.015914  0.224901  0.927456  0.616830  0.130683  0.028236  0.840169  \n",
       "788  0.027533  0.173360  0.943346  0.553163  0.079034  0.027349  0.898433  \n",
       "789  0.026654  0.049568  0.954470  0.464549  0.079928  0.014428  0.826642  \n",
       "\n",
       "[790 rows x 375382 columns]"
      ]
     },
     "execution_count": 17,
     "metadata": {},
     "output_type": "execute_result"
    }
   ],
   "source": [
    "# DEBUG\n",
    "X_resampled\n",
    "# END"
   ]
  },
  {
   "cell_type": "code",
   "execution_count": null,
   "metadata": {},
   "outputs": [],
   "source": [
    "# config = load_config(CONFIG_PATH)\n",
    "# if beta_file_number == 1:\n",
    "#     normal_count = config[\"init\"][\"hyper\"][\"normal_number_0\"]\n",
    "# elif beta_file_number == 2:\n",
    "#     normal_count = config[\"init\"][\"hyper\"][\"normal_number_0\"] + config[\"init\"][\"hyper\"][\"normal_number_1\"]\n",
    "# X = df.T\n",
    "# y = [(0 if i < normal_count else 1) for i in range((df.shape[1]))]"
   ]
  },
  {
   "cell_type": "code",
   "execution_count": 28,
   "metadata": {},
   "outputs": [],
   "source": [
    "from collections import Counter\n",
    "from sklearn.model_selection import train_test_split\n",
    "\n",
    "X_train, X_test, y_train, y_test = train_test_split(\n",
    "    X_resampled, y_resampled, test_size=test_ratio, random_state=seed\n",
    ")\n",
    "\n",
    "train_class_distribution = Counter(y_train)\n",
    "testing_class_distribution = Counter(y_test)\n",
    "\n",
    "update_nested_toml(\"preprocess.merge_and_split\", \"training_set_samples\", len(X_train))\n",
    "update_nested_toml(\"preprocess.merge_and_split\", \"testing_set_samples\", len(X_test))\n",
    "update_nested_toml(\n",
    "    \"preprocess.merge_and_split\",\n",
    "    \"training_class_distribution\",\n",
    "    [train_class_distribution[0], train_class_distribution[1]],\n",
    ")\n",
    "update_nested_toml(\n",
    "    \"preprocess.merge_and_split\",\n",
    "    \"testing_class_distribution\",\n",
    "    [testing_class_distribution[0], testing_class_distribution[1]],\n",
    ")"
   ]
  },
  {
   "cell_type": "code",
   "execution_count": 29,
   "metadata": {},
   "outputs": [
    {
     "data": {
      "text/html": [
       "<div>\n",
       "<style scoped>\n",
       "    .dataframe tbody tr th:only-of-type {\n",
       "        vertical-align: middle;\n",
       "    }\n",
       "\n",
       "    .dataframe tbody tr th {\n",
       "        vertical-align: top;\n",
       "    }\n",
       "\n",
       "    .dataframe thead th {\n",
       "        text-align: right;\n",
       "    }\n",
       "</style>\n",
       "<table border=\"1\" class=\"dataframe\">\n",
       "  <thead>\n",
       "    <tr style=\"text-align: right;\">\n",
       "      <th></th>\n",
       "      <th>0</th>\n",
       "      <th>1</th>\n",
       "      <th>2</th>\n",
       "      <th>3</th>\n",
       "      <th>4</th>\n",
       "      <th>5</th>\n",
       "      <th>6</th>\n",
       "      <th>7</th>\n",
       "      <th>8</th>\n",
       "      <th>9</th>\n",
       "      <th>...</th>\n",
       "      <th>375372</th>\n",
       "      <th>375373</th>\n",
       "      <th>375374</th>\n",
       "      <th>375375</th>\n",
       "      <th>375376</th>\n",
       "      <th>375377</th>\n",
       "      <th>375378</th>\n",
       "      <th>375379</th>\n",
       "      <th>375380</th>\n",
       "      <th>375381</th>\n",
       "    </tr>\n",
       "  </thead>\n",
       "  <tbody>\n",
       "    <tr>\n",
       "      <th>210</th>\n",
       "      <td>0.782682</td>\n",
       "      <td>0.787995</td>\n",
       "      <td>0.051028</td>\n",
       "      <td>0.048141</td>\n",
       "      <td>0.251292</td>\n",
       "      <td>0.303493</td>\n",
       "      <td>0.013071</td>\n",
       "      <td>0.184458</td>\n",
       "      <td>0.947209</td>\n",
       "      <td>0.031148</td>\n",
       "      <td>...</td>\n",
       "      <td>0.660994</td>\n",
       "      <td>0.045860</td>\n",
       "      <td>0.656078</td>\n",
       "      <td>0.032173</td>\n",
       "      <td>0.068789</td>\n",
       "      <td>0.976736</td>\n",
       "      <td>0.567656</td>\n",
       "      <td>0.058103</td>\n",
       "      <td>0.061629</td>\n",
       "      <td>0.722139</td>\n",
       "    </tr>\n",
       "    <tr>\n",
       "      <th>133</th>\n",
       "      <td>0.871723</td>\n",
       "      <td>0.869020</td>\n",
       "      <td>0.055993</td>\n",
       "      <td>0.031761</td>\n",
       "      <td>0.192108</td>\n",
       "      <td>0.264592</td>\n",
       "      <td>0.013148</td>\n",
       "      <td>0.194343</td>\n",
       "      <td>0.968845</td>\n",
       "      <td>0.020351</td>\n",
       "      <td>...</td>\n",
       "      <td>0.810782</td>\n",
       "      <td>0.050436</td>\n",
       "      <td>0.850604</td>\n",
       "      <td>0.010108</td>\n",
       "      <td>0.402215</td>\n",
       "      <td>0.971319</td>\n",
       "      <td>0.625282</td>\n",
       "      <td>0.102724</td>\n",
       "      <td>0.012510</td>\n",
       "      <td>0.806969</td>\n",
       "    </tr>\n",
       "    <tr>\n",
       "      <th>745</th>\n",
       "      <td>0.878139</td>\n",
       "      <td>0.739156</td>\n",
       "      <td>0.108619</td>\n",
       "      <td>0.047026</td>\n",
       "      <td>0.066724</td>\n",
       "      <td>0.331163</td>\n",
       "      <td>0.018286</td>\n",
       "      <td>0.170793</td>\n",
       "      <td>0.954718</td>\n",
       "      <td>0.037861</td>\n",
       "      <td>...</td>\n",
       "      <td>0.747065</td>\n",
       "      <td>0.090614</td>\n",
       "      <td>0.671220</td>\n",
       "      <td>0.035511</td>\n",
       "      <td>0.129368</td>\n",
       "      <td>0.952254</td>\n",
       "      <td>0.602020</td>\n",
       "      <td>0.086631</td>\n",
       "      <td>0.033981</td>\n",
       "      <td>0.842413</td>\n",
       "    </tr>\n",
       "    <tr>\n",
       "      <th>537</th>\n",
       "      <td>0.866853</td>\n",
       "      <td>0.741438</td>\n",
       "      <td>0.138124</td>\n",
       "      <td>0.052243</td>\n",
       "      <td>0.077809</td>\n",
       "      <td>0.347029</td>\n",
       "      <td>0.017369</td>\n",
       "      <td>0.189786</td>\n",
       "      <td>0.955829</td>\n",
       "      <td>0.047527</td>\n",
       "      <td>...</td>\n",
       "      <td>0.728460</td>\n",
       "      <td>0.111086</td>\n",
       "      <td>0.658441</td>\n",
       "      <td>0.033693</td>\n",
       "      <td>0.144207</td>\n",
       "      <td>0.953455</td>\n",
       "      <td>0.562870</td>\n",
       "      <td>0.088925</td>\n",
       "      <td>0.024705</td>\n",
       "      <td>0.855879</td>\n",
       "    </tr>\n",
       "    <tr>\n",
       "      <th>55</th>\n",
       "      <td>0.898812</td>\n",
       "      <td>0.845820</td>\n",
       "      <td>0.290884</td>\n",
       "      <td>0.055695</td>\n",
       "      <td>0.117762</td>\n",
       "      <td>0.387595</td>\n",
       "      <td>0.017378</td>\n",
       "      <td>0.241247</td>\n",
       "      <td>0.956743</td>\n",
       "      <td>0.026653</td>\n",
       "      <td>...</td>\n",
       "      <td>0.798766</td>\n",
       "      <td>0.066690</td>\n",
       "      <td>0.874881</td>\n",
       "      <td>0.033016</td>\n",
       "      <td>0.085557</td>\n",
       "      <td>0.945427</td>\n",
       "      <td>0.688564</td>\n",
       "      <td>0.093748</td>\n",
       "      <td>0.051394</td>\n",
       "      <td>0.830033</td>\n",
       "    </tr>\n",
       "    <tr>\n",
       "      <th>...</th>\n",
       "      <td>...</td>\n",
       "      <td>...</td>\n",
       "      <td>...</td>\n",
       "      <td>...</td>\n",
       "      <td>...</td>\n",
       "      <td>...</td>\n",
       "      <td>...</td>\n",
       "      <td>...</td>\n",
       "      <td>...</td>\n",
       "      <td>...</td>\n",
       "      <td>...</td>\n",
       "      <td>...</td>\n",
       "      <td>...</td>\n",
       "      <td>...</td>\n",
       "      <td>...</td>\n",
       "      <td>...</td>\n",
       "      <td>...</td>\n",
       "      <td>...</td>\n",
       "      <td>...</td>\n",
       "      <td>...</td>\n",
       "      <td>...</td>\n",
       "    </tr>\n",
       "    <tr>\n",
       "      <th>71</th>\n",
       "      <td>0.870594</td>\n",
       "      <td>0.825320</td>\n",
       "      <td>0.121566</td>\n",
       "      <td>0.036038</td>\n",
       "      <td>0.026383</td>\n",
       "      <td>0.268673</td>\n",
       "      <td>0.014334</td>\n",
       "      <td>0.131210</td>\n",
       "      <td>0.957819</td>\n",
       "      <td>0.022252</td>\n",
       "      <td>...</td>\n",
       "      <td>0.664319</td>\n",
       "      <td>0.093655</td>\n",
       "      <td>0.883106</td>\n",
       "      <td>0.029266</td>\n",
       "      <td>0.099994</td>\n",
       "      <td>0.971751</td>\n",
       "      <td>0.345947</td>\n",
       "      <td>0.054004</td>\n",
       "      <td>0.038591</td>\n",
       "      <td>0.790330</td>\n",
       "    </tr>\n",
       "    <tr>\n",
       "      <th>106</th>\n",
       "      <td>0.923935</td>\n",
       "      <td>0.939161</td>\n",
       "      <td>0.493697</td>\n",
       "      <td>0.052971</td>\n",
       "      <td>0.408458</td>\n",
       "      <td>0.493885</td>\n",
       "      <td>0.018324</td>\n",
       "      <td>0.410547</td>\n",
       "      <td>0.970426</td>\n",
       "      <td>0.027725</td>\n",
       "      <td>...</td>\n",
       "      <td>0.901531</td>\n",
       "      <td>0.086046</td>\n",
       "      <td>0.842796</td>\n",
       "      <td>0.176985</td>\n",
       "      <td>0.738798</td>\n",
       "      <td>0.982212</td>\n",
       "      <td>0.936410</td>\n",
       "      <td>0.042581</td>\n",
       "      <td>0.074983</td>\n",
       "      <td>0.922764</td>\n",
       "    </tr>\n",
       "    <tr>\n",
       "      <th>270</th>\n",
       "      <td>0.858288</td>\n",
       "      <td>0.844919</td>\n",
       "      <td>0.059723</td>\n",
       "      <td>0.045727</td>\n",
       "      <td>0.075383</td>\n",
       "      <td>0.455583</td>\n",
       "      <td>0.027380</td>\n",
       "      <td>0.152862</td>\n",
       "      <td>0.946657</td>\n",
       "      <td>0.055538</td>\n",
       "      <td>...</td>\n",
       "      <td>0.817026</td>\n",
       "      <td>0.050371</td>\n",
       "      <td>0.907914</td>\n",
       "      <td>0.033700</td>\n",
       "      <td>0.095385</td>\n",
       "      <td>0.949306</td>\n",
       "      <td>0.643586</td>\n",
       "      <td>0.149585</td>\n",
       "      <td>0.055593</td>\n",
       "      <td>0.704731</td>\n",
       "    </tr>\n",
       "    <tr>\n",
       "      <th>435</th>\n",
       "      <td>0.886065</td>\n",
       "      <td>0.796239</td>\n",
       "      <td>0.045557</td>\n",
       "      <td>0.038013</td>\n",
       "      <td>0.147829</td>\n",
       "      <td>0.179327</td>\n",
       "      <td>0.004848</td>\n",
       "      <td>0.110893</td>\n",
       "      <td>0.959269</td>\n",
       "      <td>0.017420</td>\n",
       "      <td>...</td>\n",
       "      <td>0.799900</td>\n",
       "      <td>0.061386</td>\n",
       "      <td>0.847262</td>\n",
       "      <td>0.024480</td>\n",
       "      <td>0.036542</td>\n",
       "      <td>0.957346</td>\n",
       "      <td>0.411421</td>\n",
       "      <td>0.055983</td>\n",
       "      <td>0.043809</td>\n",
       "      <td>0.885688</td>\n",
       "    </tr>\n",
       "    <tr>\n",
       "      <th>102</th>\n",
       "      <td>0.848407</td>\n",
       "      <td>0.838998</td>\n",
       "      <td>0.049935</td>\n",
       "      <td>0.054382</td>\n",
       "      <td>0.032507</td>\n",
       "      <td>0.208712</td>\n",
       "      <td>0.014112</td>\n",
       "      <td>0.102691</td>\n",
       "      <td>0.966271</td>\n",
       "      <td>0.017535</td>\n",
       "      <td>...</td>\n",
       "      <td>0.810602</td>\n",
       "      <td>0.048442</td>\n",
       "      <td>0.782464</td>\n",
       "      <td>0.020674</td>\n",
       "      <td>0.072521</td>\n",
       "      <td>0.967325</td>\n",
       "      <td>0.957246</td>\n",
       "      <td>0.066287</td>\n",
       "      <td>0.025791</td>\n",
       "      <td>0.834188</td>\n",
       "    </tr>\n",
       "  </tbody>\n",
       "</table>\n",
       "<p>632 rows × 375382 columns</p>\n",
       "</div>"
      ],
      "text/plain": [
       "       0         1         2         3         4         5         6       \\\n",
       "210  0.782682  0.787995  0.051028  0.048141  0.251292  0.303493  0.013071   \n",
       "133  0.871723  0.869020  0.055993  0.031761  0.192108  0.264592  0.013148   \n",
       "745  0.878139  0.739156  0.108619  0.047026  0.066724  0.331163  0.018286   \n",
       "537  0.866853  0.741438  0.138124  0.052243  0.077809  0.347029  0.017369   \n",
       "55   0.898812  0.845820  0.290884  0.055695  0.117762  0.387595  0.017378   \n",
       "..        ...       ...       ...       ...       ...       ...       ...   \n",
       "71   0.870594  0.825320  0.121566  0.036038  0.026383  0.268673  0.014334   \n",
       "106  0.923935  0.939161  0.493697  0.052971  0.408458  0.493885  0.018324   \n",
       "270  0.858288  0.844919  0.059723  0.045727  0.075383  0.455583  0.027380   \n",
       "435  0.886065  0.796239  0.045557  0.038013  0.147829  0.179327  0.004848   \n",
       "102  0.848407  0.838998  0.049935  0.054382  0.032507  0.208712  0.014112   \n",
       "\n",
       "       7         8         9       ...    375372    375373    375374  \\\n",
       "210  0.184458  0.947209  0.031148  ...  0.660994  0.045860  0.656078   \n",
       "133  0.194343  0.968845  0.020351  ...  0.810782  0.050436  0.850604   \n",
       "745  0.170793  0.954718  0.037861  ...  0.747065  0.090614  0.671220   \n",
       "537  0.189786  0.955829  0.047527  ...  0.728460  0.111086  0.658441   \n",
       "55   0.241247  0.956743  0.026653  ...  0.798766  0.066690  0.874881   \n",
       "..        ...       ...       ...  ...       ...       ...       ...   \n",
       "71   0.131210  0.957819  0.022252  ...  0.664319  0.093655  0.883106   \n",
       "106  0.410547  0.970426  0.027725  ...  0.901531  0.086046  0.842796   \n",
       "270  0.152862  0.946657  0.055538  ...  0.817026  0.050371  0.907914   \n",
       "435  0.110893  0.959269  0.017420  ...  0.799900  0.061386  0.847262   \n",
       "102  0.102691  0.966271  0.017535  ...  0.810602  0.048442  0.782464   \n",
       "\n",
       "       375375    375376    375377    375378    375379    375380    375381  \n",
       "210  0.032173  0.068789  0.976736  0.567656  0.058103  0.061629  0.722139  \n",
       "133  0.010108  0.402215  0.971319  0.625282  0.102724  0.012510  0.806969  \n",
       "745  0.035511  0.129368  0.952254  0.602020  0.086631  0.033981  0.842413  \n",
       "537  0.033693  0.144207  0.953455  0.562870  0.088925  0.024705  0.855879  \n",
       "55   0.033016  0.085557  0.945427  0.688564  0.093748  0.051394  0.830033  \n",
       "..        ...       ...       ...       ...       ...       ...       ...  \n",
       "71   0.029266  0.099994  0.971751  0.345947  0.054004  0.038591  0.790330  \n",
       "106  0.176985  0.738798  0.982212  0.936410  0.042581  0.074983  0.922764  \n",
       "270  0.033700  0.095385  0.949306  0.643586  0.149585  0.055593  0.704731  \n",
       "435  0.024480  0.036542  0.957346  0.411421  0.055983  0.043809  0.885688  \n",
       "102  0.020674  0.072521  0.967325  0.957246  0.066287  0.025791  0.834188  \n",
       "\n",
       "[632 rows x 375382 columns]"
      ]
     },
     "execution_count": 29,
     "metadata": {},
     "output_type": "execute_result"
    }
   ],
   "source": [
    "X_train"
   ]
  },
  {
   "cell_type": "code",
   "execution_count": 30,
   "metadata": {},
   "outputs": [
    {
     "name": "stderr",
     "output_type": "stream",
     "text": [
      "C:\\Users\\USER\\AppData\\Local\\Temp\\ipykernel_8588\\2887518300.py:2: PerformanceWarning: DataFrame is highly fragmented.  This is usually the result of calling `frame.insert` many times, which has poor performance.  Consider joining all columns at once using pd.concat(axis=1) instead. To get a de-fragmented frame, use `newframe = frame.copy()`\n",
      "  X_train[\"label\"] = y_train\n",
      "C:\\Users\\USER\\AppData\\Local\\Temp\\ipykernel_8588\\2887518300.py:8: PerformanceWarning: DataFrame is highly fragmented.  This is usually the result of calling `frame.insert` many times, which has poor performance.  Consider joining all columns at once using pd.concat(axis=1) instead. To get a de-fragmented frame, use `newframe = frame.copy()`\n",
      "  X_test[\"label\"] = y_test\n"
     ]
    }
   ],
   "source": [
    "X_train.columns = feature_name\n",
    "X_train[\"label\"] = y_train\n",
    "X_train.sort_values(by=[\"label\"], inplace=True)\n",
    "train_df = X_train.T\n",
    "train_df.columns = range(train_df.shape[1])\n",
    "\n",
    "X_test.columns = feature_name\n",
    "X_test[\"label\"] = y_test\n",
    "X_test.sort_values(by=[\"label\"], inplace=True)\n",
    "test_df = X_test.T\n",
    "test_df.columns = range(test_df.shape[1])\n",
    "\n",
    "train_df.insert(0, \"Unnamed: 0\", train_df.index)\n",
    "train_df.reset_index(drop=True, inplace=True)\n",
    "test_df.insert(0, \"Unnamed: 0\", test_df.index)\n",
    "test_df.reset_index(drop=True, inplace=True)"
   ]
  },
  {
   "cell_type": "code",
   "execution_count": 31,
   "metadata": {},
   "outputs": [
    {
     "data": {
      "text/html": [
       "<div>\n",
       "<style scoped>\n",
       "    .dataframe tbody tr th:only-of-type {\n",
       "        vertical-align: middle;\n",
       "    }\n",
       "\n",
       "    .dataframe tbody tr th {\n",
       "        vertical-align: top;\n",
       "    }\n",
       "\n",
       "    .dataframe thead th {\n",
       "        text-align: right;\n",
       "    }\n",
       "</style>\n",
       "<table border=\"1\" class=\"dataframe\">\n",
       "  <thead>\n",
       "    <tr style=\"text-align: right;\">\n",
       "      <th></th>\n",
       "      <th>Unnamed: 0</th>\n",
       "      <th>0</th>\n",
       "      <th>1</th>\n",
       "      <th>2</th>\n",
       "      <th>3</th>\n",
       "      <th>4</th>\n",
       "      <th>5</th>\n",
       "      <th>6</th>\n",
       "      <th>7</th>\n",
       "      <th>8</th>\n",
       "      <th>...</th>\n",
       "      <th>622</th>\n",
       "      <th>623</th>\n",
       "      <th>624</th>\n",
       "      <th>625</th>\n",
       "      <th>626</th>\n",
       "      <th>627</th>\n",
       "      <th>628</th>\n",
       "      <th>629</th>\n",
       "      <th>630</th>\n",
       "      <th>631</th>\n",
       "    </tr>\n",
       "  </thead>\n",
       "  <tbody>\n",
       "    <tr>\n",
       "      <th>0</th>\n",
       "      <td>cg18023943</td>\n",
       "      <td>0.874528</td>\n",
       "      <td>0.865194</td>\n",
       "      <td>0.867086</td>\n",
       "      <td>0.865491</td>\n",
       "      <td>0.893122</td>\n",
       "      <td>0.861654</td>\n",
       "      <td>0.876736</td>\n",
       "      <td>0.853361</td>\n",
       "      <td>0.853382</td>\n",
       "      <td>...</td>\n",
       "      <td>0.843037</td>\n",
       "      <td>0.902681</td>\n",
       "      <td>0.898044</td>\n",
       "      <td>0.858088</td>\n",
       "      <td>0.863826</td>\n",
       "      <td>0.895780</td>\n",
       "      <td>0.940094</td>\n",
       "      <td>0.853151</td>\n",
       "      <td>0.863658</td>\n",
       "      <td>0.848407</td>\n",
       "    </tr>\n",
       "    <tr>\n",
       "      <th>1</th>\n",
       "      <td>cg05848389</td>\n",
       "      <td>0.814761</td>\n",
       "      <td>0.775596</td>\n",
       "      <td>0.820288</td>\n",
       "      <td>0.778049</td>\n",
       "      <td>0.769975</td>\n",
       "      <td>0.866011</td>\n",
       "      <td>0.834181</td>\n",
       "      <td>0.749192</td>\n",
       "      <td>0.812049</td>\n",
       "      <td>...</td>\n",
       "      <td>0.834784</td>\n",
       "      <td>0.882939</td>\n",
       "      <td>0.932707</td>\n",
       "      <td>0.692958</td>\n",
       "      <td>0.835435</td>\n",
       "      <td>0.871345</td>\n",
       "      <td>0.930512</td>\n",
       "      <td>0.832651</td>\n",
       "      <td>0.850762</td>\n",
       "      <td>0.838998</td>\n",
       "    </tr>\n",
       "    <tr>\n",
       "      <th>2</th>\n",
       "      <td>cg16197925</td>\n",
       "      <td>0.334911</td>\n",
       "      <td>0.156307</td>\n",
       "      <td>0.179787</td>\n",
       "      <td>0.139211</td>\n",
       "      <td>0.075050</td>\n",
       "      <td>0.087044</td>\n",
       "      <td>0.316528</td>\n",
       "      <td>0.071477</td>\n",
       "      <td>0.317478</td>\n",
       "      <td>...</td>\n",
       "      <td>0.113146</td>\n",
       "      <td>0.600093</td>\n",
       "      <td>0.252241</td>\n",
       "      <td>0.392140</td>\n",
       "      <td>0.211147</td>\n",
       "      <td>0.458216</td>\n",
       "      <td>0.074836</td>\n",
       "      <td>0.767070</td>\n",
       "      <td>0.017330</td>\n",
       "      <td>0.049935</td>\n",
       "    </tr>\n",
       "    <tr>\n",
       "      <th>3</th>\n",
       "      <td>cg20534884</td>\n",
       "      <td>0.043472</td>\n",
       "      <td>0.043961</td>\n",
       "      <td>0.037286</td>\n",
       "      <td>0.043178</td>\n",
       "      <td>0.040862</td>\n",
       "      <td>0.055454</td>\n",
       "      <td>0.048034</td>\n",
       "      <td>0.051384</td>\n",
       "      <td>0.049390</td>\n",
       "      <td>...</td>\n",
       "      <td>0.031828</td>\n",
       "      <td>0.020279</td>\n",
       "      <td>0.031124</td>\n",
       "      <td>0.066482</td>\n",
       "      <td>0.028662</td>\n",
       "      <td>0.559689</td>\n",
       "      <td>0.048872</td>\n",
       "      <td>0.035983</td>\n",
       "      <td>0.045449</td>\n",
       "      <td>0.054382</td>\n",
       "    </tr>\n",
       "    <tr>\n",
       "      <th>4</th>\n",
       "      <td>cg17900047</td>\n",
       "      <td>0.166032</td>\n",
       "      <td>0.069510</td>\n",
       "      <td>0.071616</td>\n",
       "      <td>0.042222</td>\n",
       "      <td>0.056772</td>\n",
       "      <td>0.005920</td>\n",
       "      <td>0.162969</td>\n",
       "      <td>0.031658</td>\n",
       "      <td>0.165507</td>\n",
       "      <td>...</td>\n",
       "      <td>0.384216</td>\n",
       "      <td>0.750104</td>\n",
       "      <td>0.268382</td>\n",
       "      <td>0.236890</td>\n",
       "      <td>0.153147</td>\n",
       "      <td>0.176965</td>\n",
       "      <td>0.366124</td>\n",
       "      <td>0.838983</td>\n",
       "      <td>0.030944</td>\n",
       "      <td>0.032507</td>\n",
       "    </tr>\n",
       "    <tr>\n",
       "      <th>...</th>\n",
       "      <td>...</td>\n",
       "      <td>...</td>\n",
       "      <td>...</td>\n",
       "      <td>...</td>\n",
       "      <td>...</td>\n",
       "      <td>...</td>\n",
       "      <td>...</td>\n",
       "      <td>...</td>\n",
       "      <td>...</td>\n",
       "      <td>...</td>\n",
       "      <td>...</td>\n",
       "      <td>...</td>\n",
       "      <td>...</td>\n",
       "      <td>...</td>\n",
       "      <td>...</td>\n",
       "      <td>...</td>\n",
       "      <td>...</td>\n",
       "      <td>...</td>\n",
       "      <td>...</td>\n",
       "      <td>...</td>\n",
       "      <td>...</td>\n",
       "    </tr>\n",
       "    <tr>\n",
       "      <th>375378</th>\n",
       "      <td>cg08722586</td>\n",
       "      <td>0.693845</td>\n",
       "      <td>0.528569</td>\n",
       "      <td>0.428201</td>\n",
       "      <td>0.595784</td>\n",
       "      <td>0.607432</td>\n",
       "      <td>0.372335</td>\n",
       "      <td>0.561008</td>\n",
       "      <td>0.431675</td>\n",
       "      <td>0.643915</td>\n",
       "      <td>...</td>\n",
       "      <td>0.351064</td>\n",
       "      <td>0.973346</td>\n",
       "      <td>0.857725</td>\n",
       "      <td>0.958972</td>\n",
       "      <td>0.862763</td>\n",
       "      <td>0.959727</td>\n",
       "      <td>0.836036</td>\n",
       "      <td>0.599529</td>\n",
       "      <td>0.930021</td>\n",
       "      <td>0.957246</td>\n",
       "    </tr>\n",
       "    <tr>\n",
       "      <th>375379</th>\n",
       "      <td>cg15191781</td>\n",
       "      <td>0.103310</td>\n",
       "      <td>0.097259</td>\n",
       "      <td>0.081294</td>\n",
       "      <td>0.068208</td>\n",
       "      <td>0.078265</td>\n",
       "      <td>0.072324</td>\n",
       "      <td>0.107263</td>\n",
       "      <td>0.090813</td>\n",
       "      <td>0.095657</td>\n",
       "      <td>...</td>\n",
       "      <td>0.034340</td>\n",
       "      <td>0.052795</td>\n",
       "      <td>0.128874</td>\n",
       "      <td>0.079199</td>\n",
       "      <td>0.069726</td>\n",
       "      <td>0.103194</td>\n",
       "      <td>0.078727</td>\n",
       "      <td>0.056621</td>\n",
       "      <td>0.063340</td>\n",
       "      <td>0.066287</td>\n",
       "    </tr>\n",
       "    <tr>\n",
       "      <th>375380</th>\n",
       "      <td>cg20713639</td>\n",
       "      <td>0.041710</td>\n",
       "      <td>0.021417</td>\n",
       "      <td>0.033085</td>\n",
       "      <td>0.033960</td>\n",
       "      <td>0.048019</td>\n",
       "      <td>0.022621</td>\n",
       "      <td>0.034446</td>\n",
       "      <td>0.025643</td>\n",
       "      <td>0.036159</td>\n",
       "      <td>...</td>\n",
       "      <td>0.080650</td>\n",
       "      <td>0.044526</td>\n",
       "      <td>0.067680</td>\n",
       "      <td>0.042027</td>\n",
       "      <td>0.018214</td>\n",
       "      <td>0.027126</td>\n",
       "      <td>0.108515</td>\n",
       "      <td>0.057044</td>\n",
       "      <td>0.049154</td>\n",
       "      <td>0.025791</td>\n",
       "    </tr>\n",
       "    <tr>\n",
       "      <th>375381</th>\n",
       "      <td>cg06486088</td>\n",
       "      <td>0.820133</td>\n",
       "      <td>0.849842</td>\n",
       "      <td>0.841131</td>\n",
       "      <td>0.891902</td>\n",
       "      <td>0.842167</td>\n",
       "      <td>0.805914</td>\n",
       "      <td>0.805166</td>\n",
       "      <td>0.764419</td>\n",
       "      <td>0.811351</td>\n",
       "      <td>...</td>\n",
       "      <td>0.815872</td>\n",
       "      <td>0.743854</td>\n",
       "      <td>0.772763</td>\n",
       "      <td>0.750685</td>\n",
       "      <td>0.803148</td>\n",
       "      <td>0.810915</td>\n",
       "      <td>0.939846</td>\n",
       "      <td>0.528865</td>\n",
       "      <td>0.874228</td>\n",
       "      <td>0.834188</td>\n",
       "    </tr>\n",
       "    <tr>\n",
       "      <th>375382</th>\n",
       "      <td>label</td>\n",
       "      <td>0.000000</td>\n",
       "      <td>0.000000</td>\n",
       "      <td>0.000000</td>\n",
       "      <td>0.000000</td>\n",
       "      <td>0.000000</td>\n",
       "      <td>0.000000</td>\n",
       "      <td>0.000000</td>\n",
       "      <td>0.000000</td>\n",
       "      <td>0.000000</td>\n",
       "      <td>...</td>\n",
       "      <td>1.000000</td>\n",
       "      <td>1.000000</td>\n",
       "      <td>1.000000</td>\n",
       "      <td>1.000000</td>\n",
       "      <td>1.000000</td>\n",
       "      <td>1.000000</td>\n",
       "      <td>1.000000</td>\n",
       "      <td>1.000000</td>\n",
       "      <td>1.000000</td>\n",
       "      <td>1.000000</td>\n",
       "    </tr>\n",
       "  </tbody>\n",
       "</table>\n",
       "<p>375383 rows × 633 columns</p>\n",
       "</div>"
      ],
      "text/plain": [
       "        Unnamed: 0         0         1         2         3         4  \\\n",
       "0       cg18023943  0.874528  0.865194  0.867086  0.865491  0.893122   \n",
       "1       cg05848389  0.814761  0.775596  0.820288  0.778049  0.769975   \n",
       "2       cg16197925  0.334911  0.156307  0.179787  0.139211  0.075050   \n",
       "3       cg20534884  0.043472  0.043961  0.037286  0.043178  0.040862   \n",
       "4       cg17900047  0.166032  0.069510  0.071616  0.042222  0.056772   \n",
       "...            ...       ...       ...       ...       ...       ...   \n",
       "375378  cg08722586  0.693845  0.528569  0.428201  0.595784  0.607432   \n",
       "375379  cg15191781  0.103310  0.097259  0.081294  0.068208  0.078265   \n",
       "375380  cg20713639  0.041710  0.021417  0.033085  0.033960  0.048019   \n",
       "375381  cg06486088  0.820133  0.849842  0.841131  0.891902  0.842167   \n",
       "375382       label  0.000000  0.000000  0.000000  0.000000  0.000000   \n",
       "\n",
       "               5         6         7         8  ...       622       623  \\\n",
       "0       0.861654  0.876736  0.853361  0.853382  ...  0.843037  0.902681   \n",
       "1       0.866011  0.834181  0.749192  0.812049  ...  0.834784  0.882939   \n",
       "2       0.087044  0.316528  0.071477  0.317478  ...  0.113146  0.600093   \n",
       "3       0.055454  0.048034  0.051384  0.049390  ...  0.031828  0.020279   \n",
       "4       0.005920  0.162969  0.031658  0.165507  ...  0.384216  0.750104   \n",
       "...          ...       ...       ...       ...  ...       ...       ...   \n",
       "375378  0.372335  0.561008  0.431675  0.643915  ...  0.351064  0.973346   \n",
       "375379  0.072324  0.107263  0.090813  0.095657  ...  0.034340  0.052795   \n",
       "375380  0.022621  0.034446  0.025643  0.036159  ...  0.080650  0.044526   \n",
       "375381  0.805914  0.805166  0.764419  0.811351  ...  0.815872  0.743854   \n",
       "375382  0.000000  0.000000  0.000000  0.000000  ...  1.000000  1.000000   \n",
       "\n",
       "             624       625       626       627       628       629       630  \\\n",
       "0       0.898044  0.858088  0.863826  0.895780  0.940094  0.853151  0.863658   \n",
       "1       0.932707  0.692958  0.835435  0.871345  0.930512  0.832651  0.850762   \n",
       "2       0.252241  0.392140  0.211147  0.458216  0.074836  0.767070  0.017330   \n",
       "3       0.031124  0.066482  0.028662  0.559689  0.048872  0.035983  0.045449   \n",
       "4       0.268382  0.236890  0.153147  0.176965  0.366124  0.838983  0.030944   \n",
       "...          ...       ...       ...       ...       ...       ...       ...   \n",
       "375378  0.857725  0.958972  0.862763  0.959727  0.836036  0.599529  0.930021   \n",
       "375379  0.128874  0.079199  0.069726  0.103194  0.078727  0.056621  0.063340   \n",
       "375380  0.067680  0.042027  0.018214  0.027126  0.108515  0.057044  0.049154   \n",
       "375381  0.772763  0.750685  0.803148  0.810915  0.939846  0.528865  0.874228   \n",
       "375382  1.000000  1.000000  1.000000  1.000000  1.000000  1.000000  1.000000   \n",
       "\n",
       "             631  \n",
       "0       0.848407  \n",
       "1       0.838998  \n",
       "2       0.049935  \n",
       "3       0.054382  \n",
       "4       0.032507  \n",
       "...          ...  \n",
       "375378  0.957246  \n",
       "375379  0.066287  \n",
       "375380  0.025791  \n",
       "375381  0.834188  \n",
       "375382  1.000000  \n",
       "\n",
       "[375383 rows x 633 columns]"
      ]
     },
     "execution_count": 31,
     "metadata": {},
     "output_type": "execute_result"
    }
   ],
   "source": [
    "# DEBUG\n",
    "train_df\n",
    "# END"
   ]
  },
  {
   "cell_type": "code",
   "execution_count": 32,
   "metadata": {},
   "outputs": [
    {
     "data": {
      "text/html": [
       "<div>\n",
       "<style scoped>\n",
       "    .dataframe tbody tr th:only-of-type {\n",
       "        vertical-align: middle;\n",
       "    }\n",
       "\n",
       "    .dataframe tbody tr th {\n",
       "        vertical-align: top;\n",
       "    }\n",
       "\n",
       "    .dataframe thead th {\n",
       "        text-align: right;\n",
       "    }\n",
       "</style>\n",
       "<table border=\"1\" class=\"dataframe\">\n",
       "  <thead>\n",
       "    <tr style=\"text-align: right;\">\n",
       "      <th></th>\n",
       "      <th>Unnamed: 0</th>\n",
       "      <th>0</th>\n",
       "      <th>1</th>\n",
       "      <th>2</th>\n",
       "      <th>3</th>\n",
       "      <th>4</th>\n",
       "      <th>5</th>\n",
       "      <th>6</th>\n",
       "      <th>7</th>\n",
       "      <th>8</th>\n",
       "      <th>...</th>\n",
       "      <th>148</th>\n",
       "      <th>149</th>\n",
       "      <th>150</th>\n",
       "      <th>151</th>\n",
       "      <th>152</th>\n",
       "      <th>153</th>\n",
       "      <th>154</th>\n",
       "      <th>155</th>\n",
       "      <th>156</th>\n",
       "      <th>157</th>\n",
       "    </tr>\n",
       "  </thead>\n",
       "  <tbody>\n",
       "    <tr>\n",
       "      <th>0</th>\n",
       "      <td>cg18023943</td>\n",
       "      <td>0.870160</td>\n",
       "      <td>0.868576</td>\n",
       "      <td>0.859033</td>\n",
       "      <td>0.868010</td>\n",
       "      <td>0.887755</td>\n",
       "      <td>0.868933</td>\n",
       "      <td>0.870503</td>\n",
       "      <td>0.855558</td>\n",
       "      <td>0.890728</td>\n",
       "      <td>...</td>\n",
       "      <td>0.854115</td>\n",
       "      <td>0.881459</td>\n",
       "      <td>0.865569</td>\n",
       "      <td>0.836551</td>\n",
       "      <td>0.866008</td>\n",
       "      <td>0.729081</td>\n",
       "      <td>0.821985</td>\n",
       "      <td>0.855526</td>\n",
       "      <td>0.837620</td>\n",
       "      <td>0.888979</td>\n",
       "    </tr>\n",
       "    <tr>\n",
       "      <th>1</th>\n",
       "      <td>cg05848389</td>\n",
       "      <td>0.816831</td>\n",
       "      <td>0.819280</td>\n",
       "      <td>0.828265</td>\n",
       "      <td>0.781209</td>\n",
       "      <td>0.744192</td>\n",
       "      <td>0.727332</td>\n",
       "      <td>0.763293</td>\n",
       "      <td>0.842258</td>\n",
       "      <td>0.831488</td>\n",
       "      <td>...</td>\n",
       "      <td>0.737244</td>\n",
       "      <td>0.869638</td>\n",
       "      <td>0.841817</td>\n",
       "      <td>0.857540</td>\n",
       "      <td>0.798873</td>\n",
       "      <td>0.486825</td>\n",
       "      <td>0.706389</td>\n",
       "      <td>0.504743</td>\n",
       "      <td>0.822882</td>\n",
       "      <td>0.883160</td>\n",
       "    </tr>\n",
       "    <tr>\n",
       "      <th>2</th>\n",
       "      <td>cg16197925</td>\n",
       "      <td>0.287742</td>\n",
       "      <td>0.287836</td>\n",
       "      <td>0.076369</td>\n",
       "      <td>0.127949</td>\n",
       "      <td>0.084938</td>\n",
       "      <td>0.161644</td>\n",
       "      <td>0.198644</td>\n",
       "      <td>0.201505</td>\n",
       "      <td>0.048944</td>\n",
       "      <td>...</td>\n",
       "      <td>0.077604</td>\n",
       "      <td>0.085176</td>\n",
       "      <td>0.511593</td>\n",
       "      <td>0.374874</td>\n",
       "      <td>0.374871</td>\n",
       "      <td>0.075571</td>\n",
       "      <td>0.099595</td>\n",
       "      <td>0.039702</td>\n",
       "      <td>0.076269</td>\n",
       "      <td>0.422658</td>\n",
       "    </tr>\n",
       "    <tr>\n",
       "      <th>3</th>\n",
       "      <td>cg20534884</td>\n",
       "      <td>0.062621</td>\n",
       "      <td>0.060010</td>\n",
       "      <td>0.054324</td>\n",
       "      <td>0.060439</td>\n",
       "      <td>0.043157</td>\n",
       "      <td>0.047173</td>\n",
       "      <td>0.065130</td>\n",
       "      <td>0.076261</td>\n",
       "      <td>0.040832</td>\n",
       "      <td>...</td>\n",
       "      <td>0.037490</td>\n",
       "      <td>0.025052</td>\n",
       "      <td>0.042299</td>\n",
       "      <td>0.030740</td>\n",
       "      <td>0.036557</td>\n",
       "      <td>0.057688</td>\n",
       "      <td>0.042778</td>\n",
       "      <td>0.031440</td>\n",
       "      <td>0.054236</td>\n",
       "      <td>0.030785</td>\n",
       "    </tr>\n",
       "    <tr>\n",
       "      <th>4</th>\n",
       "      <td>cg17900047</td>\n",
       "      <td>0.158895</td>\n",
       "      <td>0.162721</td>\n",
       "      <td>0.019194</td>\n",
       "      <td>0.059399</td>\n",
       "      <td>0.054896</td>\n",
       "      <td>0.064712</td>\n",
       "      <td>0.064431</td>\n",
       "      <td>0.084625</td>\n",
       "      <td>0.039526</td>\n",
       "      <td>...</td>\n",
       "      <td>0.415066</td>\n",
       "      <td>0.621762</td>\n",
       "      <td>0.569449</td>\n",
       "      <td>0.405817</td>\n",
       "      <td>0.549004</td>\n",
       "      <td>0.086867</td>\n",
       "      <td>0.086303</td>\n",
       "      <td>0.309160</td>\n",
       "      <td>0.138307</td>\n",
       "      <td>0.331443</td>\n",
       "    </tr>\n",
       "    <tr>\n",
       "      <th>...</th>\n",
       "      <td>...</td>\n",
       "      <td>...</td>\n",
       "      <td>...</td>\n",
       "      <td>...</td>\n",
       "      <td>...</td>\n",
       "      <td>...</td>\n",
       "      <td>...</td>\n",
       "      <td>...</td>\n",
       "      <td>...</td>\n",
       "      <td>...</td>\n",
       "      <td>...</td>\n",
       "      <td>...</td>\n",
       "      <td>...</td>\n",
       "      <td>...</td>\n",
       "      <td>...</td>\n",
       "      <td>...</td>\n",
       "      <td>...</td>\n",
       "      <td>...</td>\n",
       "      <td>...</td>\n",
       "      <td>...</td>\n",
       "      <td>...</td>\n",
       "    </tr>\n",
       "    <tr>\n",
       "      <th>375378</th>\n",
       "      <td>cg08722586</td>\n",
       "      <td>0.674142</td>\n",
       "      <td>0.664462</td>\n",
       "      <td>0.344060</td>\n",
       "      <td>0.549963</td>\n",
       "      <td>0.631823</td>\n",
       "      <td>0.454319</td>\n",
       "      <td>0.524542</td>\n",
       "      <td>0.497825</td>\n",
       "      <td>0.390987</td>\n",
       "      <td>...</td>\n",
       "      <td>0.937087</td>\n",
       "      <td>0.477862</td>\n",
       "      <td>0.429936</td>\n",
       "      <td>0.741503</td>\n",
       "      <td>0.939110</td>\n",
       "      <td>0.917104</td>\n",
       "      <td>0.627387</td>\n",
       "      <td>0.467030</td>\n",
       "      <td>0.799956</td>\n",
       "      <td>0.507773</td>\n",
       "    </tr>\n",
       "    <tr>\n",
       "      <th>375379</th>\n",
       "      <td>cg15191781</td>\n",
       "      <td>0.108439</td>\n",
       "      <td>0.106085</td>\n",
       "      <td>0.068790</td>\n",
       "      <td>0.076401</td>\n",
       "      <td>0.082816</td>\n",
       "      <td>0.073689</td>\n",
       "      <td>0.080990</td>\n",
       "      <td>0.080169</td>\n",
       "      <td>0.077552</td>\n",
       "      <td>...</td>\n",
       "      <td>0.191381</td>\n",
       "      <td>0.051604</td>\n",
       "      <td>0.060400</td>\n",
       "      <td>0.067737</td>\n",
       "      <td>0.109895</td>\n",
       "      <td>0.063005</td>\n",
       "      <td>0.057763</td>\n",
       "      <td>0.089802</td>\n",
       "      <td>0.064156</td>\n",
       "      <td>0.065948</td>\n",
       "    </tr>\n",
       "    <tr>\n",
       "      <th>375380</th>\n",
       "      <td>cg20713639</td>\n",
       "      <td>0.034447</td>\n",
       "      <td>0.033119</td>\n",
       "      <td>0.027976</td>\n",
       "      <td>0.028224</td>\n",
       "      <td>0.042457</td>\n",
       "      <td>0.025929</td>\n",
       "      <td>0.042331</td>\n",
       "      <td>0.024509</td>\n",
       "      <td>0.055138</td>\n",
       "      <td>...</td>\n",
       "      <td>0.052980</td>\n",
       "      <td>0.054413</td>\n",
       "      <td>0.101950</td>\n",
       "      <td>0.054464</td>\n",
       "      <td>0.032439</td>\n",
       "      <td>0.053105</td>\n",
       "      <td>0.032074</td>\n",
       "      <td>0.051713</td>\n",
       "      <td>0.044719</td>\n",
       "      <td>0.030085</td>\n",
       "    </tr>\n",
       "    <tr>\n",
       "      <th>375381</th>\n",
       "      <td>cg06486088</td>\n",
       "      <td>0.816495</td>\n",
       "      <td>0.820241</td>\n",
       "      <td>0.857211</td>\n",
       "      <td>0.899444</td>\n",
       "      <td>0.828873</td>\n",
       "      <td>0.860328</td>\n",
       "      <td>0.816682</td>\n",
       "      <td>0.830915</td>\n",
       "      <td>0.892792</td>\n",
       "      <td>...</td>\n",
       "      <td>0.898944</td>\n",
       "      <td>0.894335</td>\n",
       "      <td>0.846491</td>\n",
       "      <td>0.875923</td>\n",
       "      <td>0.509446</td>\n",
       "      <td>0.819796</td>\n",
       "      <td>0.835736</td>\n",
       "      <td>0.533191</td>\n",
       "      <td>0.851902</td>\n",
       "      <td>0.748240</td>\n",
       "    </tr>\n",
       "    <tr>\n",
       "      <th>375382</th>\n",
       "      <td>label</td>\n",
       "      <td>0.000000</td>\n",
       "      <td>0.000000</td>\n",
       "      <td>0.000000</td>\n",
       "      <td>0.000000</td>\n",
       "      <td>0.000000</td>\n",
       "      <td>0.000000</td>\n",
       "      <td>0.000000</td>\n",
       "      <td>0.000000</td>\n",
       "      <td>0.000000</td>\n",
       "      <td>...</td>\n",
       "      <td>1.000000</td>\n",
       "      <td>1.000000</td>\n",
       "      <td>1.000000</td>\n",
       "      <td>1.000000</td>\n",
       "      <td>1.000000</td>\n",
       "      <td>1.000000</td>\n",
       "      <td>1.000000</td>\n",
       "      <td>1.000000</td>\n",
       "      <td>1.000000</td>\n",
       "      <td>1.000000</td>\n",
       "    </tr>\n",
       "  </tbody>\n",
       "</table>\n",
       "<p>375383 rows × 159 columns</p>\n",
       "</div>"
      ],
      "text/plain": [
       "        Unnamed: 0         0         1         2         3         4  \\\n",
       "0       cg18023943  0.870160  0.868576  0.859033  0.868010  0.887755   \n",
       "1       cg05848389  0.816831  0.819280  0.828265  0.781209  0.744192   \n",
       "2       cg16197925  0.287742  0.287836  0.076369  0.127949  0.084938   \n",
       "3       cg20534884  0.062621  0.060010  0.054324  0.060439  0.043157   \n",
       "4       cg17900047  0.158895  0.162721  0.019194  0.059399  0.054896   \n",
       "...            ...       ...       ...       ...       ...       ...   \n",
       "375378  cg08722586  0.674142  0.664462  0.344060  0.549963  0.631823   \n",
       "375379  cg15191781  0.108439  0.106085  0.068790  0.076401  0.082816   \n",
       "375380  cg20713639  0.034447  0.033119  0.027976  0.028224  0.042457   \n",
       "375381  cg06486088  0.816495  0.820241  0.857211  0.899444  0.828873   \n",
       "375382       label  0.000000  0.000000  0.000000  0.000000  0.000000   \n",
       "\n",
       "               5         6         7         8  ...       148       149  \\\n",
       "0       0.868933  0.870503  0.855558  0.890728  ...  0.854115  0.881459   \n",
       "1       0.727332  0.763293  0.842258  0.831488  ...  0.737244  0.869638   \n",
       "2       0.161644  0.198644  0.201505  0.048944  ...  0.077604  0.085176   \n",
       "3       0.047173  0.065130  0.076261  0.040832  ...  0.037490  0.025052   \n",
       "4       0.064712  0.064431  0.084625  0.039526  ...  0.415066  0.621762   \n",
       "...          ...       ...       ...       ...  ...       ...       ...   \n",
       "375378  0.454319  0.524542  0.497825  0.390987  ...  0.937087  0.477862   \n",
       "375379  0.073689  0.080990  0.080169  0.077552  ...  0.191381  0.051604   \n",
       "375380  0.025929  0.042331  0.024509  0.055138  ...  0.052980  0.054413   \n",
       "375381  0.860328  0.816682  0.830915  0.892792  ...  0.898944  0.894335   \n",
       "375382  0.000000  0.000000  0.000000  0.000000  ...  1.000000  1.000000   \n",
       "\n",
       "             150       151       152       153       154       155       156  \\\n",
       "0       0.865569  0.836551  0.866008  0.729081  0.821985  0.855526  0.837620   \n",
       "1       0.841817  0.857540  0.798873  0.486825  0.706389  0.504743  0.822882   \n",
       "2       0.511593  0.374874  0.374871  0.075571  0.099595  0.039702  0.076269   \n",
       "3       0.042299  0.030740  0.036557  0.057688  0.042778  0.031440  0.054236   \n",
       "4       0.569449  0.405817  0.549004  0.086867  0.086303  0.309160  0.138307   \n",
       "...          ...       ...       ...       ...       ...       ...       ...   \n",
       "375378  0.429936  0.741503  0.939110  0.917104  0.627387  0.467030  0.799956   \n",
       "375379  0.060400  0.067737  0.109895  0.063005  0.057763  0.089802  0.064156   \n",
       "375380  0.101950  0.054464  0.032439  0.053105  0.032074  0.051713  0.044719   \n",
       "375381  0.846491  0.875923  0.509446  0.819796  0.835736  0.533191  0.851902   \n",
       "375382  1.000000  1.000000  1.000000  1.000000  1.000000  1.000000  1.000000   \n",
       "\n",
       "             157  \n",
       "0       0.888979  \n",
       "1       0.883160  \n",
       "2       0.422658  \n",
       "3       0.030785  \n",
       "4       0.331443  \n",
       "...          ...  \n",
       "375378  0.507773  \n",
       "375379  0.065948  \n",
       "375380  0.030085  \n",
       "375381  0.748240  \n",
       "375382  1.000000  \n",
       "\n",
       "[375383 rows x 159 columns]"
      ]
     },
     "execution_count": 32,
     "metadata": {},
     "output_type": "execute_result"
    }
   ],
   "source": [
    "# DEBUG\n",
    "test_df\n",
    "# END"
   ]
  },
  {
   "cell_type": "code",
   "execution_count": 33,
   "metadata": {},
   "outputs": [],
   "source": [
    "os.makedirs(f\"{trainOutPath}\", exist_ok=True)\n",
    "os.makedirs(\n",
    "    f\"{testOutPath}\",\n",
    "    exist_ok=True,\n",
    ")\n",
    "\n",
    "train_df.to_csv(f\"{trainOutPath}/all_beta_normalized_0.csv\", index=False)\n",
    "test_df.to_csv(f\"{testOutPath}/all_beta_normalized_1.csv\", index=False)"
   ]
  },
  {
   "cell_type": "code",
   "execution_count": 34,
   "metadata": {},
   "outputs": [],
   "source": [
    "del train_df, test_df"
   ]
  },
  {
   "cell_type": "code",
   "execution_count": 35,
   "metadata": {},
   "outputs": [],
   "source": [
    "zip_filename = f\"{TYPE}_beta_files.zip\""
   ]
  },
  {
   "cell_type": "code",
   "execution_count": 36,
   "metadata": {},
   "outputs": [],
   "source": [
    "import zipfile\n",
    "\n",
    "with zipfile.ZipFile(zip_filename, \"w\") as zipf:\n",
    "    zipf.write(\n",
    "        f\"{trainOutPath}/all_beta_normalized_0.csv\", arcname=\"all_beta_normalized_0.csv\"\n",
    "    )\n",
    "    zipf.write(\n",
    "        f\"{testOutPath}/all_beta_normalized_1.csv\", arcname=\"all_beta_normalized_1.csv\"\n",
    "    )"
   ]
  },
  {
   "cell_type": "code",
   "execution_count": 37,
   "metadata": {},
   "outputs": [
    {
     "name": "stdout",
     "output_type": "stream",
     "text": [
      "Please visit this URL to authorize this application: https://accounts.google.com/o/oauth2/auth?response_type=code&client_id=260407430533-mtnvh98d2pv3eo7mgb14h6en5827k7b5.apps.googleusercontent.com&redirect_uri=http%3A%2F%2Flocalhost%3A10560%2F&scope=https%3A%2F%2Fwww.googleapis.com%2Fauth%2Fdrive.file&state=fRfCt1VpWyqRdI7WXYhG8TpfRIzBGG&access_type=offline\n"
     ]
    },
    {
     "name": "stderr",
     "output_type": "stream",
     "text": [
      "INFO:google_auth_oauthlib.flow:\"GET /?state=fRfCt1VpWyqRdI7WXYhG8TpfRIzBGG&code=4/0AanRRruvMn7ppFjFwwfucniDVGcJA4f0IiohESID1gs1IiuQwao4kO_TVIO6v-8j5PU-1g&scope=https://www.googleapis.com/auth/drive.file HTTP/1.1\" 200 65\n",
      "INFO:api.utils:New credentials obtained.\n",
      "INFO:api.utils:Credentials saved to token.pickle.\n",
      "INFO:googleapiclient.discovery_cache:file_cache is only supported with oauth2client<4.0.0\n"
     ]
    }
   ],
   "source": [
    "from api import utils\n",
    "service = utils.authenticate_drive()"
   ]
  },
  {
   "cell_type": "code",
   "execution_count": 38,
   "metadata": {},
   "outputs": [
    {
     "name": "stdout",
     "output_type": "stream",
     "text": [
      "Folder 'stomach' already exists with ID: 1SWP3wue2Oyt8ygC48wcodylK2F3ILulz\n"
     ]
    }
   ],
   "source": [
    "directory = utils.create_folder(service, TYPE)"
   ]
  },
  {
   "cell_type": "code",
   "execution_count": 40,
   "metadata": {},
   "outputs": [
    {
     "name": "stderr",
     "output_type": "stream",
     "text": [
      "INFO:api.utils:Upload 0% complete for stomach_beta_files.zip\n",
      "INFO:api.utils:Upload 0% complete for stomach_beta_files.zip\n",
      "INFO:api.utils:Upload 0% complete for stomach_beta_files.zip\n",
      "INFO:api.utils:Upload 0% complete for stomach_beta_files.zip\n",
      "INFO:api.utils:Upload 0% complete for stomach_beta_files.zip\n",
      "INFO:api.utils:Upload 0% complete for stomach_beta_files.zip\n",
      "INFO:api.utils:Upload 0% complete for stomach_beta_files.zip\n",
      "INFO:api.utils:Upload 0% complete for stomach_beta_files.zip\n",
      "INFO:api.utils:Upload 0% complete for stomach_beta_files.zip\n",
      "INFO:api.utils:Upload 0% complete for stomach_beta_files.zip\n",
      "INFO:api.utils:Upload 1% complete for stomach_beta_files.zip\n",
      "INFO:api.utils:Upload 1% complete for stomach_beta_files.zip\n",
      "INFO:api.utils:Upload 1% complete for stomach_beta_files.zip\n",
      "INFO:api.utils:Upload 1% complete for stomach_beta_files.zip\n",
      "INFO:api.utils:Upload 1% complete for stomach_beta_files.zip\n",
      "INFO:api.utils:Upload 1% complete for stomach_beta_files.zip\n",
      "INFO:api.utils:Upload 1% complete for stomach_beta_files.zip\n",
      "INFO:api.utils:Upload 1% complete for stomach_beta_files.zip\n",
      "INFO:api.utils:Upload 1% complete for stomach_beta_files.zip\n",
      "INFO:api.utils:Upload 1% complete for stomach_beta_files.zip\n",
      "INFO:api.utils:Upload 1% complete for stomach_beta_files.zip\n",
      "INFO:api.utils:Upload 2% complete for stomach_beta_files.zip\n",
      "INFO:api.utils:Upload 2% complete for stomach_beta_files.zip\n",
      "INFO:api.utils:Upload 2% complete for stomach_beta_files.zip\n",
      "INFO:api.utils:Upload 2% complete for stomach_beta_files.zip\n",
      "INFO:api.utils:Upload 2% complete for stomach_beta_files.zip\n",
      "INFO:api.utils:Upload 2% complete for stomach_beta_files.zip\n",
      "INFO:api.utils:Upload 2% complete for stomach_beta_files.zip\n",
      "INFO:api.utils:Upload 2% complete for stomach_beta_files.zip\n",
      "INFO:api.utils:Upload 2% complete for stomach_beta_files.zip\n",
      "INFO:api.utils:Upload 2% complete for stomach_beta_files.zip\n",
      "INFO:api.utils:Upload 3% complete for stomach_beta_files.zip\n",
      "INFO:api.utils:Upload 3% complete for stomach_beta_files.zip\n",
      "INFO:api.utils:Upload 3% complete for stomach_beta_files.zip\n",
      "INFO:api.utils:Upload 3% complete for stomach_beta_files.zip\n",
      "INFO:api.utils:Upload 3% complete for stomach_beta_files.zip\n",
      "INFO:api.utils:Upload 3% complete for stomach_beta_files.zip\n",
      "INFO:api.utils:Upload 3% complete for stomach_beta_files.zip\n",
      "INFO:api.utils:Upload 3% complete for stomach_beta_files.zip\n",
      "INFO:api.utils:Upload 3% complete for stomach_beta_files.zip\n",
      "INFO:api.utils:Upload 3% complete for stomach_beta_files.zip\n",
      "INFO:api.utils:Upload 3% complete for stomach_beta_files.zip\n",
      "INFO:api.utils:Upload 4% complete for stomach_beta_files.zip\n",
      "INFO:api.utils:Upload 4% complete for stomach_beta_files.zip\n",
      "INFO:api.utils:Upload 4% complete for stomach_beta_files.zip\n",
      "INFO:api.utils:Upload 4% complete for stomach_beta_files.zip\n",
      "INFO:api.utils:Upload 4% complete for stomach_beta_files.zip\n",
      "INFO:api.utils:Upload 4% complete for stomach_beta_files.zip\n",
      "INFO:api.utils:Upload 4% complete for stomach_beta_files.zip\n",
      "INFO:api.utils:Upload 4% complete for stomach_beta_files.zip\n",
      "INFO:api.utils:Upload 4% complete for stomach_beta_files.zip\n",
      "INFO:api.utils:Upload 4% complete for stomach_beta_files.zip\n",
      "INFO:api.utils:Upload 5% complete for stomach_beta_files.zip\n",
      "INFO:api.utils:Upload 5% complete for stomach_beta_files.zip\n",
      "INFO:api.utils:Upload 5% complete for stomach_beta_files.zip\n",
      "INFO:api.utils:Upload 5% complete for stomach_beta_files.zip\n",
      "INFO:api.utils:Upload 5% complete for stomach_beta_files.zip\n",
      "INFO:api.utils:Upload 5% complete for stomach_beta_files.zip\n",
      "INFO:api.utils:Upload 5% complete for stomach_beta_files.zip\n",
      "INFO:api.utils:Upload 5% complete for stomach_beta_files.zip\n",
      "INFO:api.utils:Upload 5% complete for stomach_beta_files.zip\n",
      "INFO:api.utils:Upload 5% complete for stomach_beta_files.zip\n",
      "INFO:api.utils:Upload 5% complete for stomach_beta_files.zip\n",
      "INFO:api.utils:Upload 6% complete for stomach_beta_files.zip\n",
      "INFO:api.utils:Upload 6% complete for stomach_beta_files.zip\n",
      "INFO:api.utils:Upload 6% complete for stomach_beta_files.zip\n",
      "INFO:api.utils:Upload 6% complete for stomach_beta_files.zip\n",
      "INFO:api.utils:Upload 6% complete for stomach_beta_files.zip\n",
      "INFO:api.utils:Upload 6% complete for stomach_beta_files.zip\n",
      "INFO:api.utils:Upload 6% complete for stomach_beta_files.zip\n",
      "INFO:api.utils:Upload 6% complete for stomach_beta_files.zip\n",
      "INFO:api.utils:Upload 6% complete for stomach_beta_files.zip\n",
      "INFO:api.utils:Upload 6% complete for stomach_beta_files.zip\n",
      "INFO:api.utils:Upload 7% complete for stomach_beta_files.zip\n",
      "INFO:api.utils:Upload 7% complete for stomach_beta_files.zip\n",
      "INFO:api.utils:Upload 7% complete for stomach_beta_files.zip\n",
      "INFO:api.utils:Upload 7% complete for stomach_beta_files.zip\n",
      "INFO:api.utils:Upload 7% complete for stomach_beta_files.zip\n",
      "INFO:api.utils:Upload 7% complete for stomach_beta_files.zip\n",
      "INFO:api.utils:Upload 7% complete for stomach_beta_files.zip\n",
      "INFO:api.utils:Upload 7% complete for stomach_beta_files.zip\n",
      "INFO:api.utils:Upload 7% complete for stomach_beta_files.zip\n",
      "INFO:api.utils:Upload 7% complete for stomach_beta_files.zip\n",
      "INFO:api.utils:Upload 7% complete for stomach_beta_files.zip\n",
      "INFO:api.utils:Upload 8% complete for stomach_beta_files.zip\n",
      "INFO:api.utils:Upload 8% complete for stomach_beta_files.zip\n",
      "INFO:api.utils:Upload 8% complete for stomach_beta_files.zip\n",
      "INFO:api.utils:Upload 8% complete for stomach_beta_files.zip\n",
      "INFO:api.utils:Upload 8% complete for stomach_beta_files.zip\n"
     ]
    }
   ],
   "source": [
    "utils.run_upload_with_separate_thread(service, directory, zip_filename)"
   ]
  },
  {
   "cell_type": "markdown",
   "metadata": {},
   "source": [
    "### Sec. 1 dbeta calculation\n",
    "#### Summary\n",
    "- calculate the difference of beta value between tumor and normal samples\n",
    "- the output file will have the following format\n",
    "  - column 0 is the id of the sample\n",
    "  - column 1 is the gene name\n",
    "  - column 2 is the difference of beta value between tumor and normal samples\n",
    "\n",
    "### Implementation\n",
    "1. split normal and tumor samples\n",
    "2. remove outliers in normal and tumor samples\n",
    "3. calculate the mean of normal sammples\n",
    "4. tumor - avg(normal)\n",
    "5. calculate the mean of tumor samples\n",
    "6. merge with DMP file\n",
    "7. exclude the genes not in single comorbidity list"
   ]
  },
  {
   "cell_type": "code",
   "execution_count": 11,
   "metadata": {},
   "outputs": [],
   "source": [
    "import gdown"
   ]
  },
  {
   "cell_type": "markdown",
   "metadata": {},
   "source": [
    "##### Lung\n",
    "https://drive.google.com/file/d/1cuKmDUgch4A0ULnj6XfTHuk6u0Xtz_3H/view?usp=sharing\n",
    "##### Rectal\n",
    "https://drive.google.com/file/d/11DZAwbtqVriSN8EhUNhQEEwVyntiycRa/view?usp=sharing\n",
    "##### Stomach\n",
    "https://drive.google.com/file/d/1QBklKEO61ZYqxo-gfjBsWg3mcREsTRc7/view?usp=sharing\n",
    "##### Prostate\n",
    "tbd\n",
    "##### Breast\n",
    "tbd"
   ]
  },
  {
   "cell_type": "code",
   "execution_count": null,
   "metadata": {},
   "outputs": [],
   "source": [
    "url = input()\n",
    "\n",
    "output = 'download.zip'"
   ]
  },
  {
   "cell_type": "code",
   "execution_count": null,
   "metadata": {},
   "outputs": [],
   "source": [
    "gdown.download(url, output, quiet=False)"
   ]
  },
  {
   "cell_type": "code",
   "execution_count": 13,
   "metadata": {},
   "outputs": [],
   "source": [
    "import zipfile\n",
    "import shutil\n",
    "\n",
    "with zipfile.ZipFile(\"download.zip\", \"r\") as zip_ref:\n",
    "    zip_ref.extractall(\"download\")\n",
    "\n",
    "shutil.move(\"download/all_beta_normalized_0.csv\", f\"all_beta_normalized_0.csv\")\n",
    "shutil.move(\"download/all_beta_normalized_1.csv\", f\"all_beta_normalized_1.csv\")\n",
    "\n",
    "os.remove(\"download.zip\")\n",
    "shutil.rmtree(\"download\")"
   ]
  },
  {
   "cell_type": "code",
   "execution_count": 6,
   "metadata": {},
   "outputs": [],
   "source": [
    "train_df = pd.read_csv(f\"{trainOutPath}/all_beta_normalized_0.csv\")"
   ]
  },
  {
   "cell_type": "code",
   "execution_count": 8,
   "metadata": {},
   "outputs": [],
   "source": [
    "def IQR(df):\n",
    "    Q1 = df.quantile(0.25)\n",
    "    Q3 = df.quantile(0.75)\n",
    "    IQR = Q3 - Q1\n",
    "    upper_fence = Q3 + IQR * 1.5\n",
    "    lower_fence = Q1 - IQR * 1.5\n",
    "    return upper_fence, lower_fence\n",
    "\n",
    "\n",
    "def no_outlier(df):\n",
    "    upper_fence, lower_fence = IQR(df)\n",
    "    ddf = df[(df > lower_fence) & (df < upper_fence)]\n",
    "    return ddf"
   ]
  },
  {
   "cell_type": "code",
   "execution_count": 10,
   "metadata": {},
   "outputs": [],
   "source": [
    "config = load_config(CONFIG_PATH)\n",
    "normal_count = config[\"preprocess\"][\"merge_and_split\"][\"training_class_distribution\"][0]\n",
    "all_beta_normalized_normal = train_df.iloc[:-1, 1 : normal_count + 1 :]\n",
    "\n",
    "\n",
    "all_beta_normalized_tumor = train_df.iloc[:-1, normal_count + 1 : :]"
   ]
  },
  {
   "cell_type": "code",
   "execution_count": 11,
   "metadata": {},
   "outputs": [],
   "source": [
    "all_beta_normalized_normal = no_outlier(all_beta_normalized_normal)\n",
    "all_beta_normalized_tumor = no_outlier(all_beta_normalized_tumor)"
   ]
  },
  {
   "cell_type": "code",
   "execution_count": 12,
   "metadata": {},
   "outputs": [],
   "source": [
    "train_normal_avg = all_beta_normalized_normal.mean(skipna=True, axis=1)"
   ]
  },
  {
   "cell_type": "code",
   "execution_count": 13,
   "metadata": {},
   "outputs": [],
   "source": [
    "all_beta_normalized_tumor = (all_beta_normalized_tumor).subtract(\n",
    "    train_normal_avg, axis=0\n",
    ")"
   ]
  },
  {
   "cell_type": "code",
   "execution_count": 14,
   "metadata": {},
   "outputs": [],
   "source": [
    "all_beta_normalized_tumor = no_outlier(all_beta_normalized_tumor)"
   ]
  },
  {
   "cell_type": "code",
   "execution_count": 15,
   "metadata": {},
   "outputs": [],
   "source": [
    "train_tumor_mean = all_beta_normalized_tumor.mean(skipna=True, axis=1)"
   ]
  },
  {
   "cell_type": "code",
   "execution_count": 16,
   "metadata": {},
   "outputs": [],
   "source": [
    "delta_beta = pd.merge(\n",
    "    train_df.iloc[:-1, :1],\n",
    "    pd.DataFrame(train_tumor_mean, columns=[\"dbeta\"]),\n",
    "    left_index=True,\n",
    "    right_index=True,\n",
    ")\n",
    "update_nested_toml(\"preprocess.dbeta\", \"delta_beta_avg\", delta_beta.shape[0])"
   ]
  },
  {
   "cell_type": "code",
   "execution_count": 17,
   "metadata": {},
   "outputs": [],
   "source": [
    "# print(delta_beta[pd.isna(delta_beta[\"dbeta\"])])\n",
    "# record the list of feature with dbeta being NaN\n",
    "update_nested_toml(\n",
    "    \"preprocess.dbeta\",\n",
    "    \"NaN_dbeta_feature\",\n",
    "    delta_beta.loc[pd.isna(delta_beta[\"dbeta\"]), \"Unnamed: 0\"].tolist(),\n",
    ")\n",
    "delta_beta.dropna(inplace=True, axis=0)\n",
    "update_nested_toml(\"preprocess.dbeta\", \"delta_beta_avg_remove_NaN\", delta_beta.shape[0])"
   ]
  },
  {
   "cell_type": "code",
   "execution_count": 19,
   "metadata": {},
   "outputs": [],
   "source": [
    "dmp = pd.read_csv(f\"../{TYPE}/champ_result/{data_source}/DMP_result_0.csv\")\n",
    "dmp = dmp[[\"Unnamed: 0\", \"gene\", \"feature\"]]\n",
    "update_nested_toml(\"preprocess.dbeta\", \"dmp_before_dropna_shape_feature\", dmp.shape[0])\n",
    "dmp.dropna(inplace=True)\n",
    "update_nested_toml(\"preprocess.dbeta\", \"dmp_after_dropna_shape_feature\", dmp.shape[0])"
   ]
  },
  {
   "cell_type": "code",
   "execution_count": 20,
   "metadata": {},
   "outputs": [],
   "source": [
    "result = pd.merge(delta_beta, dmp, on=\"Unnamed: 0\", how=\"left\")\n",
    "update_nested_toml(\n",
    "    \"preprocess.dbeta\", \"delta_beta_avg_remove_NaN_with_gene_name\", result.shape[0]\n",
    ")"
   ]
  },
  {
   "cell_type": "code",
   "execution_count": 21,
   "metadata": {},
   "outputs": [],
   "source": [
    "def find_max_dBeta_grouped(group):\n",
    "    idx_max = group[\"dbeta\"].abs().idxmax()\n",
    "    return group.loc[idx_max]\n",
    "\n",
    "\n",
    "dbeta = result.groupby(\"gene\", as_index=False).apply(\n",
    "    find_max_dBeta_grouped, include_groups=False\n",
    ")"
   ]
  },
  {
   "cell_type": "code",
   "execution_count": 22,
   "metadata": {},
   "outputs": [
    {
     "data": {
      "text/html": [
       "<div>\n",
       "<style scoped>\n",
       "    .dataframe tbody tr th:only-of-type {\n",
       "        vertical-align: middle;\n",
       "    }\n",
       "\n",
       "    .dataframe tbody tr th {\n",
       "        vertical-align: top;\n",
       "    }\n",
       "\n",
       "    .dataframe thead th {\n",
       "        text-align: right;\n",
       "    }\n",
       "</style>\n",
       "<table border=\"1\" class=\"dataframe\">\n",
       "  <thead>\n",
       "    <tr style=\"text-align: right;\">\n",
       "      <th></th>\n",
       "      <th>ID</th>\n",
       "      <th>gene</th>\n",
       "      <th>dbeta</th>\n",
       "      <th>feature</th>\n",
       "    </tr>\n",
       "  </thead>\n",
       "  <tbody>\n",
       "    <tr>\n",
       "      <th>0</th>\n",
       "      <td>cg03630821</td>\n",
       "      <td>A1BG</td>\n",
       "      <td>0.029581</td>\n",
       "      <td>Body</td>\n",
       "    </tr>\n",
       "    <tr>\n",
       "      <th>1</th>\n",
       "      <td>cg27199384</td>\n",
       "      <td>A2BP1</td>\n",
       "      <td>0.031936</td>\n",
       "      <td>Body</td>\n",
       "    </tr>\n",
       "    <tr>\n",
       "      <th>2</th>\n",
       "      <td>cg14888445</td>\n",
       "      <td>A2LD1</td>\n",
       "      <td>0.005293</td>\n",
       "      <td>Body</td>\n",
       "    </tr>\n",
       "    <tr>\n",
       "      <th>3</th>\n",
       "      <td>cg08300930</td>\n",
       "      <td>A2M</td>\n",
       "      <td>0.016542</td>\n",
       "      <td>Body</td>\n",
       "    </tr>\n",
       "    <tr>\n",
       "      <th>4</th>\n",
       "      <td>cg15384867</td>\n",
       "      <td>A2ML1</td>\n",
       "      <td>0.009407</td>\n",
       "      <td>Body</td>\n",
       "    </tr>\n",
       "    <tr>\n",
       "      <th>...</th>\n",
       "      <td>...</td>\n",
       "      <td>...</td>\n",
       "      <td>...</td>\n",
       "      <td>...</td>\n",
       "    </tr>\n",
       "    <tr>\n",
       "      <th>14414</th>\n",
       "      <td>cg04830147</td>\n",
       "      <td>ZYG11A</td>\n",
       "      <td>0.017931</td>\n",
       "      <td>TSS1500</td>\n",
       "    </tr>\n",
       "    <tr>\n",
       "      <th>14415</th>\n",
       "      <td>cg03935117</td>\n",
       "      <td>ZYG11B</td>\n",
       "      <td>0.019302</td>\n",
       "      <td>TSS1500</td>\n",
       "    </tr>\n",
       "    <tr>\n",
       "      <th>14416</th>\n",
       "      <td>cg05102190</td>\n",
       "      <td>ZYX</td>\n",
       "      <td>0.015232</td>\n",
       "      <td>TSS200</td>\n",
       "    </tr>\n",
       "    <tr>\n",
       "      <th>14417</th>\n",
       "      <td>cg18943946</td>\n",
       "      <td>ZZEF1</td>\n",
       "      <td>0.031702</td>\n",
       "      <td>Body</td>\n",
       "    </tr>\n",
       "    <tr>\n",
       "      <th>14418</th>\n",
       "      <td>cg17224732</td>\n",
       "      <td>ZZZ3</td>\n",
       "      <td>0.015822</td>\n",
       "      <td>TSS200</td>\n",
       "    </tr>\n",
       "  </tbody>\n",
       "</table>\n",
       "<p>14419 rows × 4 columns</p>\n",
       "</div>"
      ],
      "text/plain": [
       "               ID    gene     dbeta  feature\n",
       "0      cg03630821    A1BG  0.029581     Body\n",
       "1      cg27199384   A2BP1  0.031936     Body\n",
       "2      cg14888445   A2LD1  0.005293     Body\n",
       "3      cg08300930     A2M  0.016542     Body\n",
       "4      cg15384867   A2ML1  0.009407     Body\n",
       "...           ...     ...       ...      ...\n",
       "14414  cg04830147  ZYG11A  0.017931  TSS1500\n",
       "14415  cg03935117  ZYG11B  0.019302  TSS1500\n",
       "14416  cg05102190     ZYX  0.015232   TSS200\n",
       "14417  cg18943946   ZZEF1  0.031702     Body\n",
       "14418  cg17224732    ZZZ3  0.015822   TSS200\n",
       "\n",
       "[14419 rows x 4 columns]"
      ]
     },
     "execution_count": 22,
     "metadata": {},
     "output_type": "execute_result"
    }
   ],
   "source": [
    "dbeta.columns = [\"gene\", \"ID\", \"dbeta\", \"feature\"]\n",
    "dbeta = dbeta[[\"ID\", \"gene\", \"dbeta\", \"feature\"]]\n",
    "# DEBUG\n",
    "dbeta\n",
    "# END"
   ]
  },
  {
   "cell_type": "code",
   "execution_count": null,
   "metadata": {},
   "outputs": [],
   "source": [
    "# comorbidity = pd.read_csv(\n",
    "#     \"../external_result/matchgene174_single_3Y10__OR2.txt\", sep=\"\\t\", header=None\n",
    "# )\n",
    "# dbeta = dbeta[\n",
    "#     dbeta[\"gene\"].isin(comorbidity[0])\n",
    "# ]\n",
    "\n",
    "# result_max_per_gene_single"
   ]
  },
  {
   "cell_type": "code",
   "execution_count": 23,
   "metadata": {},
   "outputs": [],
   "source": [
    "dbeta.to_csv(f\"{trainOutPath}/dbeta.csv\", index=False)"
   ]
  },
  {
   "cell_type": "markdown",
   "metadata": {},
   "source": [
    "### Sec. 2 Filter genes by dbeta values\n",
    "1. filter genes by dbeta values\n",
    "3. filter genes by TSS position\n",
    "4. plot distribution of dbeta values\n",
    "5. plot PCA for normal and tumor\n"
   ]
  },
  {
   "cell_type": "code",
   "execution_count": null,
   "metadata": {},
   "outputs": [],
   "source": [
    "# dbeta = pd.read_csv(f\"{trainOutPath}/dbeta.csv\")"
   ]
  },
  {
   "cell_type": "markdown",
   "metadata": {},
   "source": [
    "#### Filtering TSS"
   ]
  },
  {
   "cell_type": "code",
   "execution_count": 24,
   "metadata": {},
   "outputs": [],
   "source": [
    "TSS = dbeta[dbeta[\"feature\"].str.contains(\"TSS\")]"
   ]
  },
  {
   "cell_type": "code",
   "execution_count": 25,
   "metadata": {},
   "outputs": [],
   "source": [
    "TSS.to_csv(f\"{trainOutPath}/dbeta_TSS.csv\", index=False)"
   ]
  },
  {
   "cell_type": "markdown",
   "metadata": {},
   "source": [
    "#### Thresholding"
   ]
  },
  {
   "cell_type": "code",
   "execution_count": 26,
   "metadata": {},
   "outputs": [],
   "source": [
    "threshold = 0.5\n",
    "TSS_threshold = TSS[abs(TSS[\"dbeta\"]) > threshold]\n",
    "while True:\n",
    "    TSS_threshold = TSS[abs(TSS[\"dbeta\"]) > threshold]\n",
    "    count = TSS_threshold.shape[0]\n",
    "    if (\n",
    "        config[\"preprocess\"][\"filtering\"][\"hyper\"][\"avg_dbeta_lower_bound\"]\n",
    "        <= count\n",
    "        <= config[\"preprocess\"][\"filtering\"][\"hyper\"][\"avg_dbeta_upper_bound\"]\n",
    "    ):\n",
    "        break\n",
    "    threshold -= 0.01\n",
    "threshold = round(threshold, 2)\n",
    "update_nested_toml(\"preprocess.filtering\", \"threshold\", threshold)"
   ]
  },
  {
   "cell_type": "code",
   "execution_count": 27,
   "metadata": {},
   "outputs": [],
   "source": [
    "TSS_threshold.to_csv(f\"{trainOutPath}/dbeta_TSS_{threshold}.csv\", index=False)"
   ]
  },
  {
   "cell_type": "markdown",
   "metadata": {},
   "source": [
    "#### Visualization"
   ]
  },
  {
   "cell_type": "code",
   "execution_count": 28,
   "metadata": {},
   "outputs": [
    {
     "data": {
      "text/plain": [
       "Text(0.5, 1.0, 'Density plot of delta Beta value')"
      ]
     },
     "execution_count": 28,
     "metadata": {},
     "output_type": "execute_result"
    },
    {
     "data": {
      "image/png": "[encoded data removed]",
      "text/plain": [
       "<Figure size 640x480 with 1 Axes>"
      ]
     },
     "metadata": {},
     "output_type": "display_data"
    }
   ],
   "source": [
    "# DEBUG\n",
    "import seaborn as sns\n",
    "import matplotlib.pyplot as plt\n",
    "\n",
    "sns.kdeplot(TSS_threshold[\"dbeta\"])\n",
    "plt.xlabel(\"delta Beta value\")\n",
    "plt.title(\"Density plot of delta Beta value\")\n",
    "# END"
   ]
  },
  {
   "cell_type": "code",
   "execution_count": null,
   "metadata": {},
   "outputs": [],
   "source": [
    "# train_df = pd.read_csv(f\"{trainOutPath}/all_beta_normalized_0.csv\")"
   ]
  },
  {
   "cell_type": "code",
   "execution_count": 29,
   "metadata": {},
   "outputs": [
    {
     "name": "stdout",
     "output_type": "stream",
     "text": [
      "X shape: (1083, 14419)\n",
      "y shape: 1083\n"
     ]
    }
   ],
   "source": [
    "normal_count = (train_df.iloc[-1, 1:] == 0).sum()\n",
    "df_gene = train_df.iloc[:-1, :]\n",
    "df_gene = df_gene[df_gene[df_gene.columns[0]].isin(dbeta[\"ID\"])]\n",
    "X = df_gene.iloc[:, 1:].reset_index(drop=True).T\n",
    "y = [0 if i < normal_count else 1 for i in range(X.shape[0])]\n",
    "# DEBUG\n",
    "print(f\"X shape: {X.shape}\")\n",
    "print(f\"y shape: {len(y)}\")\n",
    "# END"
   ]
  },
  {
   "cell_type": "code",
   "execution_count": 30,
   "metadata": {},
   "outputs": [
    {
     "name": "stdout",
     "output_type": "stream",
     "text": [
      "(1083, 4)\n"
     ]
    }
   ],
   "source": [
    "import plotly.express as px\n",
    "import pandas as pd\n",
    "from sklearn.decomposition import PCA\n",
    "\n",
    "pca = PCA(n_components=3)\n",
    "X_pca = pca.fit_transform(X)\n",
    "\n",
    "df = pd.DataFrame(\n",
    "    {\n",
    "        \"Principal Component 1\": X_pca[:, 0],\n",
    "        \"Principal Component 2\": X_pca[:, 1],\n",
    "        \"Principal Component 3\": X_pca[:, 2],\n",
    "        \"Class\": y,\n",
    "    }\n",
    ")\n",
    "print(df.shape)\n",
    "fig = px.scatter_3d(\n",
    "    df,\n",
    "    x=\"Principal Component 1\",\n",
    "    y=\"Principal Component 2\",\n",
    "    z=\"Principal Component 3\",\n",
    "    color=\"Class\",\n",
    "    title=\"PCA of Dataset\",\n",
    "    color_continuous_scale=\"Viridis\",\n",
    ")\n",
    "\n",
    "fig.update_layout(\n",
    "    scene=dict(\n",
    "        xaxis_title=\"Principal Component 1\",\n",
    "        yaxis_title=\"Principal Component 2\",\n",
    "        zaxis_title=\"Principal Component 3\",\n",
    "    )\n",
    ")\n",
    "\n",
    "# fig.show()\n",
    "\n",
    "fig.write_html(f\"{trainOutPath}/preprocess_filtering_pca.html\")\n",
    "# open in browser"
   ]
  },
  {
   "cell_type": "markdown",
   "metadata": {},
   "source": [
    "### Sec. 3 Machine Learning\n",
    "1. remove hypo-methylated genes\n",
    "2. RFE\n",
    "3. RFECV (tbd)"
   ]
  },
  {
   "cell_type": "code",
   "execution_count": 31,
   "metadata": {},
   "outputs": [],
   "source": [
    "config = load_config(CONFIG_PATH)\n",
    "threshold = config[\"preprocess\"][\"filtering\"][\"threshold\"]\n",
    "TSS_threshold = pd.read_csv(f\"{trainOutPath}/dbeta_TSS_{threshold}.csv\")"
   ]
  },
  {
   "cell_type": "code",
   "execution_count": 32,
   "metadata": {},
   "outputs": [
    {
     "data": {
      "text/html": [
       "<div>\n",
       "<style scoped>\n",
       "    .dataframe tbody tr th:only-of-type {\n",
       "        vertical-align: middle;\n",
       "    }\n",
       "\n",
       "    .dataframe tbody tr th {\n",
       "        vertical-align: top;\n",
       "    }\n",
       "\n",
       "    .dataframe thead th {\n",
       "        text-align: right;\n",
       "    }\n",
       "</style>\n",
       "<table border=\"1\" class=\"dataframe\">\n",
       "  <thead>\n",
       "    <tr style=\"text-align: right;\">\n",
       "      <th></th>\n",
       "      <th>ID</th>\n",
       "      <th>gene</th>\n",
       "      <th>dbeta</th>\n",
       "      <th>feature</th>\n",
       "    </tr>\n",
       "  </thead>\n",
       "  <tbody>\n",
       "    <tr>\n",
       "      <th>0</th>\n",
       "      <td>cg04911280</td>\n",
       "      <td>AARS2</td>\n",
       "      <td>0.069674</td>\n",
       "      <td>TSS200</td>\n",
       "    </tr>\n",
       "    <tr>\n",
       "      <th>2</th>\n",
       "      <td>cg19529696</td>\n",
       "      <td>ABCF2</td>\n",
       "      <td>0.055435</td>\n",
       "      <td>TSS200</td>\n",
       "    </tr>\n",
       "    <tr>\n",
       "      <th>3</th>\n",
       "      <td>cg24006936</td>\n",
       "      <td>ABT1</td>\n",
       "      <td>0.060007</td>\n",
       "      <td>TSS200</td>\n",
       "    </tr>\n",
       "    <tr>\n",
       "      <th>4</th>\n",
       "      <td>cg03401580</td>\n",
       "      <td>ACP6</td>\n",
       "      <td>0.063028</td>\n",
       "      <td>TSS200</td>\n",
       "    </tr>\n",
       "    <tr>\n",
       "      <th>6</th>\n",
       "      <td>cg02089380</td>\n",
       "      <td>ACVR1</td>\n",
       "      <td>0.066394</td>\n",
       "      <td>TSS1500</td>\n",
       "    </tr>\n",
       "    <tr>\n",
       "      <th>...</th>\n",
       "      <td>...</td>\n",
       "      <td>...</td>\n",
       "      <td>...</td>\n",
       "      <td>...</td>\n",
       "    </tr>\n",
       "    <tr>\n",
       "      <th>438</th>\n",
       "      <td>cg25404339</td>\n",
       "      <td>ZNF677</td>\n",
       "      <td>0.051339</td>\n",
       "      <td>TSS200</td>\n",
       "    </tr>\n",
       "    <tr>\n",
       "      <th>439</th>\n",
       "      <td>cg04910638</td>\n",
       "      <td>ZNF684</td>\n",
       "      <td>0.058628</td>\n",
       "      <td>TSS200</td>\n",
       "    </tr>\n",
       "    <tr>\n",
       "      <th>440</th>\n",
       "      <td>cg12440566</td>\n",
       "      <td>ZNF703</td>\n",
       "      <td>0.055607</td>\n",
       "      <td>TSS200</td>\n",
       "    </tr>\n",
       "    <tr>\n",
       "      <th>441</th>\n",
       "      <td>cg17010941</td>\n",
       "      <td>ZNF706</td>\n",
       "      <td>0.063776</td>\n",
       "      <td>TSS1500</td>\n",
       "    </tr>\n",
       "    <tr>\n",
       "      <th>443</th>\n",
       "      <td>cg02446080</td>\n",
       "      <td>ZNHIT1</td>\n",
       "      <td>0.053150</td>\n",
       "      <td>TSS1500</td>\n",
       "    </tr>\n",
       "  </tbody>\n",
       "</table>\n",
       "<p>391 rows × 4 columns</p>\n",
       "</div>"
      ],
      "text/plain": [
       "             ID    gene     dbeta  feature\n",
       "0    cg04911280   AARS2  0.069674   TSS200\n",
       "2    cg19529696   ABCF2  0.055435   TSS200\n",
       "3    cg24006936    ABT1  0.060007   TSS200\n",
       "4    cg03401580    ACP6  0.063028   TSS200\n",
       "6    cg02089380   ACVR1  0.066394  TSS1500\n",
       "..          ...     ...       ...      ...\n",
       "438  cg25404339  ZNF677  0.051339   TSS200\n",
       "439  cg04910638  ZNF684  0.058628   TSS200\n",
       "440  cg12440566  ZNF703  0.055607   TSS200\n",
       "441  cg17010941  ZNF706  0.063776  TSS1500\n",
       "443  cg02446080  ZNHIT1  0.053150  TSS1500\n",
       "\n",
       "[391 rows x 4 columns]"
      ]
     },
     "execution_count": 32,
     "metadata": {},
     "output_type": "execute_result"
    }
   ],
   "source": [
    "TSS_threshold_hyper = TSS_threshold[TSS_threshold[\"dbeta\"] > 0]\n",
    "# DEBUG\n",
    "TSS_threshold_hyper\n",
    "# END"
   ]
  },
  {
   "cell_type": "code",
   "execution_count": 33,
   "metadata": {},
   "outputs": [],
   "source": [
    "train_df = pd.read_csv(f\"{trainOutPath}/all_beta_normalized_0.csv\")\n",
    "test_df = pd.read_csv(f\"{testOutPath}/all_beta_normalized_1.csv\")"
   ]
  },
  {
   "cell_type": "code",
   "execution_count": 34,
   "metadata": {},
   "outputs": [],
   "source": [
    "X_train = train_df[train_df[\"Unnamed: 0\"].isin(TSS_threshold_hyper[\"ID\"])]\n",
    "X_test = test_df[test_df[\"Unnamed: 0\"].isin(TSS_threshold_hyper[\"ID\"])]"
   ]
  },
  {
   "cell_type": "code",
   "execution_count": 35,
   "metadata": {},
   "outputs": [],
   "source": [
    "X_train = X_train.iloc[:, 1:].T.values.tolist()\n",
    "X_test = X_test.iloc[:, 1:].T.values.tolist()"
   ]
  },
  {
   "cell_type": "code",
   "execution_count": 37,
   "metadata": {},
   "outputs": [],
   "source": [
    "config = load_config(CONFIG_PATH)\n",
    "normal_count_train = config[\"preprocess\"][\"merge_and_split\"][\n",
    "    \"training_class_distribution\"\n",
    "][0]\n",
    "normal_count_test = config[\"preprocess\"][\"merge_and_split\"][\n",
    "    \"testing_class_distribution\"\n",
    "][0]\n",
    "y_train = [0 if i < normal_count_train else 1 for i in range(len(X_train))]\n",
    "y_test = [0 if i < normal_count_test else 1 for i in range(len(X_test))]"
   ]
  },
  {
   "cell_type": "code",
   "execution_count": 38,
   "metadata": {},
   "outputs": [],
   "source": [
    "import pandas as pd\n",
    "from sklearn.model_selection import cross_val_score\n",
    "from sklearn.feature_selection import RFE\n",
    "from sklearn.svm import SVC\n",
    "from sklearn.linear_model import LogisticRegression\n",
    "from sklearn.tree import DecisionTreeClassifier\n",
    "from sklearn.ensemble import RandomForestClassifier\n",
    "from xgboost import XGBClassifier\n",
    "from sklearn.metrics import (\n",
    "    accuracy_score,\n",
    "    recall_score,\n",
    "    precision_score,\n",
    "    f1_score,\n",
    "    matthews_corrcoef,\n",
    "    roc_auc_score,\n",
    "    auc,\n",
    "    roc_curve,\n",
    "    confusion_matrix,\n",
    ")\n",
    "from sklearn.model_selection import GridSearchCV"
   ]
  },
  {
   "cell_type": "code",
   "execution_count": 40,
   "metadata": {},
   "outputs": [],
   "source": [
    "selection_models = {\n",
    "    \"XGBoost\": XGBClassifier(random_state=42),\n",
    "    \"Random Forest\": RandomForestClassifier(random_state=42),\n",
    "    \"Decision Tree\": DecisionTreeClassifier(random_state=42),\n",
    "    \"SVM\": SVC(kernel=\"linear\", random_state=42),\n",
    "}\n",
    "\n",
    "param_xgb = {\n",
    "    \"learning_rate\": [0.001, 0.01, 0.1],\n",
    "    \"n_estimators\": [50, 100, 200],\n",
    "    \"max_depth\": [2, 3, 4],\n",
    "    \"subsample\": [0.6, 0.7, 0.8],\n",
    "    \"colsample_bytree\": [0.6, 0.7, 0.8],\n",
    "    \"min_child_weight\": [40, 50, 60],\n",
    "}\n",
    "\n",
    "param_rf = {\n",
    "    \"n_estimators\": [50, 100, 150, 200],\n",
    "    \"min_samples_split\": [80, 90],\n",
    "    \"min_samples_leaf\": [80, 90],\n",
    "    \"max_features\": [5, 10, 20],\n",
    "}\n",
    "\n",
    "param_svm = {\"kernel\": [\"rbf\", \"poly\", \"sigmoid\"], \"C\": [50, 100, 200]}\n",
    "\n",
    "param_dt = {\n",
    "    \"min_samples_split\": [70, 80, 90],\n",
    "    \"min_samples_leaf\": [70, 80, 90],\n",
    "    \"max_features\": [5, 10, 20],\n",
    "}\n",
    "\n",
    "def set_parameters(model: object, param_grid: dict) -> object:\n",
    "    grid_search = GridSearchCV(\n",
    "        estimator=model, param_grid=param_grid, cv=5, n_jobs=-1, verbose=2\n",
    "    )\n",
    "    return grid_search\n",
    "\n",
    "xgb_model = set_parameters(XGBClassifier(random_state=42), param_xgb)\n",
    "rf_model = set_parameters(RandomForestClassifier(random_state=42), param_rf)\n",
    "svm_model = set_parameters(SVC(random_state=42), param_svm)\n",
    "dt_model = set_parameters(DecisionTreeClassifier(random_state=42), param_dt)\n",
    "\n",
    "train_models = {\n",
    "    \"XGBoost\": xgb_model,\n",
    "    \"Random Forest\": rf_model,\n",
    "    \"Decision Tree\": dt_model,\n",
    "    \"SVM\": svm_model,\n",
    "}\n"
   ]
  },
  {
   "cell_type": "code",
   "execution_count": 43,
   "metadata": {},
   "outputs": [],
   "source": [
    "def append_to_file(file_name: str, data: pd.DataFrame) -> None:\n",
    "        if not os.path.isfile(file_name):\n",
    "            data.to_csv(file_name, index=False)\n",
    "        else:\n",
    "            data.to_csv(file_name, index=False, mode=\"a\", header=False)\n",
    "\n",
    "def record(\n",
    "    best_estimator: object,\n",
    "    X: pd.DataFrame,\n",
    "    y: pd.Series,\n",
    "    selection_model_name: str,\n",
    "    train_model_name: str,\n",
    "    feature_count: int,\n",
    "    best_score: float,\n",
    "    best_params: dict,\n",
    "    filepath: str,\n",
    ") -> None:\n",
    "    \n",
    "    y_pred_on_X = best_estimator.predict(X)\n",
    "\n",
    "    tn, fp, _, _ = confusion_matrix(y, y_pred_on_X).ravel()\n",
    "    accuracy = accuracy_score(y, y_pred_on_X)\n",
    "    recall = recall_score(y, y_pred_on_X)\n",
    "    specificity = tn / (tn + fp)\n",
    "    precision = precision_score(y, y_pred_on_X)\n",
    "\n",
    "    fpr, tpr, _ = roc_curve(y, y_pred_on_X)\n",
    "    roc_auc = auc(fpr, tpr)\n",
    "    fpr = fpr.tolist()\n",
    "    tpr = tpr.tolist()\n",
    "\n",
    "    append_to_file(\n",
    "        f\"{filepath}/rfe.csv\",\n",
    "        pd.DataFrame(\n",
    "            [\n",
    "                {\n",
    "                    \"selection_model\": selection_model_name,\n",
    "                    \"train_model\": train_model_name,\n",
    "                    \"features\": feature_count,\n",
    "                    \"accuracy\": accuracy,\n",
    "                    \"recall\": recall,\n",
    "                    \"speficity\": specificity,\n",
    "                    \"precision\": precision,\n",
    "                    \"f1_score\": f1_score(y, y_pred_on_X),\n",
    "                    \"J-index\": recall + specificity - 1,\n",
    "                    \"AUC\": roc_auc,\n",
    "                    \"MCC\": matthews_corrcoef(y, y_pred_on_X),\n",
    "                    \"Mean cross-validated score\": best_score,\n",
    "                    \"Best parameters\": best_params,\n",
    "                }\n",
    "            ]\n",
    "        ),\n",
    "    )\n",
    "    append_to_file(\n",
    "        f\"{filepath}/fpr_tpr.csv\",\n",
    "        pd.DataFrame(\n",
    "            [\n",
    "                {\n",
    "                    \"selection_model\": selection_model_name,\n",
    "                    \"train_model\": train_model_name,\n",
    "                    \"features\": feature_count,\n",
    "                    \"fpr\": fpr,\n",
    "                    \"tpr\": tpr,\n",
    "                    \"AUC\": roc_auc,\n",
    "                }\n",
    "            ]\n",
    "        ),\n",
    "    )\n"
   ]
  },
  {
   "cell_type": "code",
   "execution_count": 45,
   "metadata": {},
   "outputs": [
    {
     "name": "stdout",
     "output_type": "stream",
     "text": [
      "Fitting 5 folds for each of 729 candidates, totalling 3645 fits\n",
      "Fitting 5 folds for each of 48 candidates, totalling 240 fits\n"
     ]
    },
    {
     "name": "stderr",
     "output_type": "stream",
     "text": [
      "f:\\Repo\\btc\\.venv\\lib\\site-packages\\numpy\\ma\\core.py:2846: RuntimeWarning:\n",
      "\n",
      "invalid value encountered in cast\n",
      "\n"
     ]
    },
    {
     "name": "stdout",
     "output_type": "stream",
     "text": [
      "Fitting 5 folds for each of 27 candidates, totalling 135 fits\n",
      "Fitting 5 folds for each of 9 candidates, totalling 45 fits\n",
      "Fitting 5 folds for each of 729 candidates, totalling 3645 fits\n",
      "Fitting 5 folds for each of 48 candidates, totalling 240 fits\n",
      "Fitting 5 folds for each of 27 candidates, totalling 135 fits\n",
      "Fitting 5 folds for each of 9 candidates, totalling 45 fits\n",
      "Fitting 5 folds for each of 729 candidates, totalling 3645 fits\n",
      "Fitting 5 folds for each of 48 candidates, totalling 240 fits\n",
      "Fitting 5 folds for each of 27 candidates, totalling 135 fits\n",
      "Fitting 5 folds for each of 9 candidates, totalling 45 fits\n",
      "Fitting 5 folds for each of 729 candidates, totalling 3645 fits\n",
      "Fitting 5 folds for each of 48 candidates, totalling 240 fits\n",
      "Fitting 5 folds for each of 27 candidates, totalling 135 fits\n",
      "Fitting 5 folds for each of 9 candidates, totalling 45 fits\n",
      "Fitting 5 folds for each of 729 candidates, totalling 3645 fits\n",
      "Fitting 5 folds for each of 48 candidates, totalling 240 fits\n",
      "Fitting 5 folds for each of 27 candidates, totalling 135 fits\n",
      "Fitting 5 folds for each of 9 candidates, totalling 45 fits\n",
      "Fitting 5 folds for each of 729 candidates, totalling 3645 fits\n",
      "Fitting 5 folds for each of 48 candidates, totalling 240 fits\n",
      "Fitting 5 folds for each of 27 candidates, totalling 135 fits\n",
      "Fitting 5 folds for each of 9 candidates, totalling 45 fits\n",
      "Fitting 5 folds for each of 729 candidates, totalling 3645 fits\n",
      "Fitting 5 folds for each of 48 candidates, totalling 240 fits\n",
      "Fitting 5 folds for each of 27 candidates, totalling 135 fits\n",
      "Fitting 5 folds for each of 9 candidates, totalling 45 fits\n",
      "Fitting 5 folds for each of 729 candidates, totalling 3645 fits\n",
      "Fitting 5 folds for each of 48 candidates, totalling 240 fits\n",
      "Fitting 5 folds for each of 27 candidates, totalling 135 fits\n",
      "Fitting 5 folds for each of 9 candidates, totalling 45 fits\n",
      "Fitting 5 folds for each of 729 candidates, totalling 3645 fits\n",
      "Fitting 5 folds for each of 48 candidates, totalling 240 fits\n",
      "Fitting 5 folds for each of 27 candidates, totalling 135 fits\n",
      "Fitting 5 folds for each of 9 candidates, totalling 45 fits\n",
      "Fitting 5 folds for each of 729 candidates, totalling 3645 fits\n",
      "Fitting 5 folds for each of 48 candidates, totalling 240 fits\n",
      "Fitting 5 folds for each of 27 candidates, totalling 135 fits\n",
      "Fitting 5 folds for each of 9 candidates, totalling 45 fits\n",
      "Fitting 5 folds for each of 729 candidates, totalling 3645 fits\n",
      "Fitting 5 folds for each of 48 candidates, totalling 240 fits\n",
      "Fitting 5 folds for each of 27 candidates, totalling 135 fits\n",
      "Fitting 5 folds for each of 9 candidates, totalling 45 fits\n",
      "Fitting 5 folds for each of 729 candidates, totalling 3645 fits\n",
      "Fitting 5 folds for each of 48 candidates, totalling 240 fits\n",
      "Fitting 5 folds for each of 27 candidates, totalling 135 fits\n",
      "Fitting 5 folds for each of 9 candidates, totalling 45 fits\n"
     ]
    }
   ],
   "source": [
    "for selection_model_name, selection_model in selection_models.items():\n",
    "    for feature_count in range(25, 36, 5):\n",
    "        rfe = RFE(estimator=selection_model, n_features_to_select=feature_count)\n",
    "        X_train_rfe = rfe.fit_transform(X_train, y_train)\n",
    "        X_test_rfe = rfe.transform(X_test)\n",
    "        selected_feature_names = (\n",
    "            pd.DataFrame(TSS_threshold_hyper.iloc[rfe.support_, 1])\n",
    "            .reset_index(drop=True)\n",
    "            .T\n",
    "        )\n",
    "\n",
    "        label = f\"{selection_model_name}_{feature_count}\"\n",
    "\n",
    "        selected_feature_names.insert(0, \"selection_model_name\", label)\n",
    "\n",
    "        append_to_file(\n",
    "            f\"{trainOutPath}/selected_feature_names.csv\", selected_feature_names\n",
    "        )\n",
    "\n",
    "        for train_model_name, train_model in train_models.items():\n",
    "            train_model.fit(X_train_rfe, y_train)\n",
    "            best_params = train_model.best_params_\n",
    "\n",
    "            best_score = train_model.best_score_\n",
    "\n",
    "            record(\n",
    "                train_model.best_estimator_,\n",
    "                X_train_rfe,\n",
    "                y_train,\n",
    "                selection_model_name,\n",
    "                train_model_name,\n",
    "                feature_count,\n",
    "                best_score,\n",
    "                best_params,\n",
    "                f\"{trainOutPath}\",\n",
    "            )\n",
    "            record(\n",
    "                train_model.best_estimator_,\n",
    "                X_test_rfe,\n",
    "                y_test,\n",
    "                selection_model_name,\n",
    "                train_model_name,\n",
    "                feature_count,\n",
    "                best_score,\n",
    "                best_params,\n",
    "                f\"{testOutPath}\",\n",
    "            )"
   ]
  },
  {
   "cell_type": "code",
   "execution_count": 46,
   "metadata": {},
   "outputs": [],
   "source": [
    "fpr_tpr_tr = pd.read_csv(f\"{trainOutPath}/fpr_tpr.csv\")\n",
    "fpr_tpr_te = pd.read_csv(f\"{testOutPath}/fpr_tpr.csv\")"
   ]
  },
  {
   "cell_type": "code",
   "execution_count": 47,
   "metadata": {},
   "outputs": [],
   "source": [
    "rfe_tr = pd.read_csv(f\"{trainOutPath}/rfe.csv\")\n",
    "rfe_te = pd.read_csv(f\"{testOutPath}/rfe.csv\")"
   ]
  },
  {
   "cell_type": "code",
   "execution_count": 48,
   "metadata": {},
   "outputs": [],
   "source": [
    "rfe_j = pd.merge(rfe_tr, rfe_te, on=[\"selection_model\", \"train_model\", \"features\"], suffixes=('_train', '_test'))\n",
    "fpr_tpr_j = pd.merge(fpr_tpr_tr, fpr_tpr_te, on=[\"selection_model\", \"train_model\", \"features\"], suffixes=('_train', '_test'))\n",
    "J = pd.merge(rfe_j, fpr_tpr_j, on=[\"selection_model\", \"train_model\", \"features\", \"AUC_train\", \"AUC_test\"])"
   ]
  },
  {
   "cell_type": "code",
   "execution_count": 49,
   "metadata": {},
   "outputs": [],
   "source": [
    "import ast\n",
    "\n",
    "J[\"fpr_train\"] = J[\"fpr_train\"].apply(ast.literal_eval)\n",
    "J[\"tpr_train\"] = J[\"tpr_train\"].apply(ast.literal_eval)\n",
    "J[\"fpr_test\"] = J[\"fpr_test\"].apply(ast.literal_eval)\n",
    "J[\"tpr_test\"] = J[\"tpr_test\"].apply(ast.literal_eval)"
   ]
  },
  {
   "cell_type": "code",
   "execution_count": 53,
   "metadata": {},
   "outputs": [
    {
     "data": {
      "application/vnd.plotly.v1+json": {
       "config": {
        "plotlyServerURL": "https://plot.ly"
       },
       "data": [
        {
         "mode": "lines",
         "name": "XGBoost XGBoost (AUC = 0.996)",
         "type": "scatter",
         "x": [
          0,
          0,
          1
         ],
         "y": [
          0,
          0.9926062846580407,
          1
         ]
        },
        {
         "mode": "lines",
         "name": "XGBoost Random Forest (AUC = 0.997)",
         "type": "scatter",
         "x": [
          0,
          0,
          1
         ],
         "y": [
          0,
          0.9944547134935305,
          1
         ]
        },
        {
         "mode": "lines",
         "name": "XGBoost Decision Tree (AUC = 0.993)",
         "type": "scatter",
         "x": [
          0,
          0,
          1
         ],
         "y": [
          0,
          0.9852125693160814,
          1
         ]
        },
        {
         "mode": "lines",
         "name": "XGBoost SVM (AUC = 1.000)",
         "type": "scatter",
         "x": [
          0,
          0,
          1
         ],
         "y": [
          0,
          1,
          1
         ]
        },
        {
         "mode": "lines",
         "name": "XGBoost XGBoost (AUC = 0.997)",
         "type": "scatter",
         "x": [
          0,
          0,
          1
         ],
         "y": [
          0,
          0.9944547134935305,
          1
         ]
        },
        {
         "mode": "lines",
         "name": "XGBoost Random Forest (AUC = 0.997)",
         "type": "scatter",
         "x": [
          0,
          0,
          1
         ],
         "y": [
          0,
          0.9944547134935305,
          1
         ]
        },
        {
         "mode": "lines",
         "name": "XGBoost Decision Tree (AUC = 0.989)",
         "type": "scatter",
         "x": [
          0,
          0,
          1
         ],
         "y": [
          0,
          0.977818853974122,
          1
         ]
        },
        {
         "mode": "lines",
         "name": "XGBoost SVM (AUC = 1.000)",
         "type": "scatter",
         "x": [
          0,
          0,
          1
         ],
         "y": [
          0,
          1,
          1
         ]
        },
        {
         "mode": "lines",
         "name": "XGBoost XGBoost (AUC = 0.996)",
         "type": "scatter",
         "x": [
          0,
          0,
          1
         ],
         "y": [
          0,
          0.9926062846580407,
          1
         ]
        },
        {
         "mode": "lines",
         "name": "XGBoost Random Forest (AUC = 0.995)",
         "type": "scatter",
         "x": [
          0,
          0,
          1
         ],
         "y": [
          0,
          0.9907578558225508,
          1
         ]
        },
        {
         "mode": "lines",
         "name": "XGBoost Decision Tree (AUC = 0.993)",
         "type": "scatter",
         "x": [
          0,
          0,
          1
         ],
         "y": [
          0,
          0.9852125693160814,
          1
         ]
        },
        {
         "mode": "lines",
         "name": "XGBoost SVM (AUC = 1.000)",
         "type": "scatter",
         "x": [
          0,
          0,
          1
         ],
         "y": [
          0,
          1,
          1
         ]
        },
        {
         "mode": "lines",
         "name": "Random Forest XGBoost (AUC = 0.996)",
         "type": "scatter",
         "x": [
          0,
          0,
          1
         ],
         "y": [
          0,
          0.9926062846580407,
          1
         ]
        },
        {
         "mode": "lines",
         "name": "Random Forest Random Forest (AUC = 0.994)",
         "type": "scatter",
         "x": [
          0,
          0,
          1
         ],
         "y": [
          0,
          0.9870609981515711,
          1
         ]
        },
        {
         "mode": "lines",
         "name": "Random Forest Decision Tree (AUC = 0.989)",
         "type": "scatter",
         "x": [
          0,
          0,
          1
         ],
         "y": [
          0,
          0.977818853974122,
          1
         ]
        },
        {
         "mode": "lines",
         "name": "Random Forest SVM (AUC = 1.000)",
         "type": "scatter",
         "x": [
          0,
          0,
          1
         ],
         "y": [
          0,
          1,
          1
         ]
        },
        {
         "mode": "lines",
         "name": "Random Forest XGBoost (AUC = 0.995)",
         "type": "scatter",
         "x": [
          0,
          0,
          1
         ],
         "y": [
          0,
          0.9907578558225508,
          1
         ]
        },
        {
         "mode": "lines",
         "name": "Random Forest Random Forest (AUC = 0.996)",
         "type": "scatter",
         "x": [
          0,
          0,
          1
         ],
         "y": [
          0,
          0.9926062846580407,
          1
         ]
        },
        {
         "mode": "lines",
         "name": "Random Forest Decision Tree (AUC = 0.993)",
         "type": "scatter",
         "x": [
          0,
          0,
          1
         ],
         "y": [
          0,
          0.9852125693160814,
          1
         ]
        },
        {
         "mode": "lines",
         "name": "Random Forest SVM (AUC = 1.000)",
         "type": "scatter",
         "x": [
          0,
          0,
          1
         ],
         "y": [
          0,
          1,
          1
         ]
        },
        {
         "mode": "lines",
         "name": "Random Forest XGBoost (AUC = 0.997)",
         "type": "scatter",
         "x": [
          0,
          0,
          1
         ],
         "y": [
          0,
          0.9944547134935305,
          1
         ]
        },
        {
         "mode": "lines",
         "name": "Random Forest Random Forest (AUC = 0.995)",
         "type": "scatter",
         "x": [
          0,
          0,
          1
         ],
         "y": [
          0,
          0.9907578558225508,
          1
         ]
        },
        {
         "mode": "lines",
         "name": "Random Forest Decision Tree (AUC = 0.989)",
         "type": "scatter",
         "x": [
          0,
          0,
          1
         ],
         "y": [
          0,
          0.977818853974122,
          1
         ]
        },
        {
         "mode": "lines",
         "name": "Random Forest SVM (AUC = 1.000)",
         "type": "scatter",
         "x": [
          0,
          0,
          1
         ],
         "y": [
          0,
          1,
          1
         ]
        },
        {
         "mode": "lines",
         "name": "Decision Tree XGBoost (AUC = 0.993)",
         "type": "scatter",
         "x": [
          0,
          0,
          1
         ],
         "y": [
          0,
          0.9852125693160814,
          1
         ]
        },
        {
         "mode": "lines",
         "name": "Decision Tree Random Forest (AUC = 0.994)",
         "type": "scatter",
         "x": [
          0,
          0,
          1
         ],
         "y": [
          0,
          0.9870609981515711,
          1
         ]
        },
        {
         "mode": "lines",
         "name": "Decision Tree Decision Tree (AUC = 0.993)",
         "type": "scatter",
         "x": [
          0,
          0,
          1
         ],
         "y": [
          0,
          0.9852125693160814,
          1
         ]
        },
        {
         "mode": "lines",
         "name": "Decision Tree SVM (AUC = 0.998)",
         "type": "scatter",
         "x": [
          0,
          0,
          1
         ],
         "y": [
          0,
          0.9963031423290203,
          1
         ]
        },
        {
         "mode": "lines",
         "name": "Decision Tree XGBoost (AUC = 0.993)",
         "type": "scatter",
         "x": [
          0,
          0.0018450184501845018,
          1
         ],
         "y": [
          0,
          0.9870609981515711,
          1
         ]
        },
        {
         "mode": "lines",
         "name": "Decision Tree Random Forest (AUC = 0.994)",
         "type": "scatter",
         "x": [
          0,
          0,
          1
         ],
         "y": [
          0,
          0.9870609981515711,
          1
         ]
        },
        {
         "mode": "lines",
         "name": "Decision Tree Decision Tree (AUC = 0.993)",
         "type": "scatter",
         "x": [
          0,
          0,
          1
         ],
         "y": [
          0,
          0.9852125693160814,
          1
         ]
        },
        {
         "mode": "lines",
         "name": "Decision Tree SVM (AUC = 0.998)",
         "type": "scatter",
         "x": [
          0,
          0,
          1
         ],
         "y": [
          0,
          0.9963031423290203,
          1
         ]
        },
        {
         "mode": "lines",
         "name": "Decision Tree XGBoost (AUC = 0.992)",
         "type": "scatter",
         "x": [
          0,
          0.0018450184501845018,
          1
         ],
         "y": [
          0,
          0.9852125693160814,
          1
         ]
        },
        {
         "mode": "lines",
         "name": "Decision Tree Random Forest (AUC = 0.994)",
         "type": "scatter",
         "x": [
          0,
          0,
          1
         ],
         "y": [
          0,
          0.9870609981515711,
          1
         ]
        },
        {
         "mode": "lines",
         "name": "Decision Tree Decision Tree (AUC = 0.979)",
         "type": "scatter",
         "x": [
          0,
          0.012915129151291513,
          1
         ],
         "y": [
          0,
          0.9704251386321626,
          1
         ]
        },
        {
         "mode": "lines",
         "name": "Decision Tree SVM (AUC = 0.999)",
         "type": "scatter",
         "x": [
          0,
          0,
          1
         ],
         "y": [
          0,
          0.9981515711645101,
          1
         ]
        },
        {
         "mode": "lines",
         "name": "SVM XGBoost (AUC = 0.996)",
         "type": "scatter",
         "x": [
          0,
          0,
          1
         ],
         "y": [
          0,
          0.9926062846580407,
          1
         ]
        },
        {
         "mode": "lines",
         "name": "SVM Random Forest (AUC = 0.997)",
         "type": "scatter",
         "x": [
          0,
          0,
          1
         ],
         "y": [
          0,
          0.9944547134935305,
          1
         ]
        },
        {
         "mode": "lines",
         "name": "SVM Decision Tree (AUC = 0.993)",
         "type": "scatter",
         "x": [
          0,
          0,
          1
         ],
         "y": [
          0,
          0.9852125693160814,
          1
         ]
        },
        {
         "mode": "lines",
         "name": "SVM SVM (AUC = 1.000)",
         "type": "scatter",
         "x": [
          0,
          0,
          1
         ],
         "y": [
          0,
          1,
          1
         ]
        },
        {
         "mode": "lines",
         "name": "SVM XGBoost (AUC = 0.996)",
         "type": "scatter",
         "x": [
          0,
          0,
          1
         ],
         "y": [
          0,
          0.9926062846580407,
          1
         ]
        },
        {
         "mode": "lines",
         "name": "SVM Random Forest (AUC = 0.997)",
         "type": "scatter",
         "x": [
          0,
          0,
          1
         ],
         "y": [
          0,
          0.9944547134935305,
          1
         ]
        },
        {
         "mode": "lines",
         "name": "SVM Decision Tree (AUC = 0.993)",
         "type": "scatter",
         "x": [
          0,
          0,
          1
         ],
         "y": [
          0,
          0.9852125693160814,
          1
         ]
        },
        {
         "mode": "lines",
         "name": "SVM SVM (AUC = 1.000)",
         "type": "scatter",
         "x": [
          0,
          0,
          1
         ],
         "y": [
          0,
          1,
          1
         ]
        },
        {
         "mode": "lines",
         "name": "SVM XGBoost (AUC = 0.996)",
         "type": "scatter",
         "x": [
          0,
          0,
          1
         ],
         "y": [
          0,
          0.9926062846580407,
          1
         ]
        },
        {
         "mode": "lines",
         "name": "SVM Random Forest (AUC = 0.996)",
         "type": "scatter",
         "x": [
          0,
          0,
          1
         ],
         "y": [
          0,
          0.9926062846580407,
          1
         ]
        },
        {
         "mode": "lines",
         "name": "SVM Decision Tree (AUC = 0.993)",
         "type": "scatter",
         "x": [
          0,
          0,
          1
         ],
         "y": [
          0,
          0.9852125693160814,
          1
         ]
        },
        {
         "mode": "lines",
         "name": "SVM SVM (AUC = 1.000)",
         "type": "scatter",
         "x": [
          0,
          0,
          1
         ],
         "y": [
          0,
          1,
          1
         ]
        },
        {
         "line": {
          "color": "grey",
          "dash": "dash"
         },
         "mode": "lines",
         "name": "Random Guess",
         "type": "scatter",
         "x": [
          0,
          1
         ],
         "y": [
          0,
          1
         ]
        }
       ],
       "layout": {
        "height": 1200,
        "legend": {
         "title": {
          "text": "Model"
         }
        },
        "template": {
         "data": {
          "bar": [
           {
            "error_x": {
             "color": "#2a3f5f"
            },
            "error_y": {
             "color": "#2a3f5f"
            },
            "marker": {
             "line": {
              "color": "white",
              "width": 0.5
             },
             "pattern": {
              "fillmode": "overlay",
              "size": 10,
              "solidity": 0.2
             }
            },
            "type": "bar"
           }
          ],
          "barpolar": [
           {
            "marker": {
             "line": {
              "color": "white",
              "width": 0.5
             },
             "pattern": {
              "fillmode": "overlay",
              "size": 10,
              "solidity": 0.2
             }
            },
            "type": "barpolar"
           }
          ],
          "carpet": [
           {
            "aaxis": {
             "endlinecolor": "#2a3f5f",
             "gridcolor": "#C8D4E3",
             "linecolor": "#C8D4E3",
             "minorgridcolor": "#C8D4E3",
             "startlinecolor": "#2a3f5f"
            },
            "baxis": {
             "endlinecolor": "#2a3f5f",
             "gridcolor": "#C8D4E3",
             "linecolor": "#C8D4E3",
             "minorgridcolor": "#C8D4E3",
             "startlinecolor": "#2a3f5f"
            },
            "type": "carpet"
           }
          ],
          "choropleth": [
           {
            "colorbar": {
             "outlinewidth": 0,
             "ticks": ""
            },
            "type": "choropleth"
           }
          ],
          "contour": [
           {
            "colorbar": {
             "outlinewidth": 0,
             "ticks": ""
            },
            "colorscale": [
             [
              0,
              "#0d0887"
             ],
             [
              0.1111111111111111,
              "#46039f"
             ],
             [
              0.2222222222222222,
              "#7201a8"
             ],
             [
              0.3333333333333333,
              "#9c179e"
             ],
             [
              0.4444444444444444,
              "#bd3786"
             ],
             [
              0.5555555555555556,
              "#d8576b"
             ],
             [
              0.6666666666666666,
              "#ed7953"
             ],
             [
              0.7777777777777778,
              "#fb9f3a"
             ],
             [
              0.8888888888888888,
              "#fdca26"
             ],
             [
              1,
              "#f0f921"
             ]
            ],
            "type": "contour"
           }
          ],
          "contourcarpet": [
           {
            "colorbar": {
             "outlinewidth": 0,
             "ticks": ""
            },
            "type": "contourcarpet"
           }
          ],
          "heatmap": [
           {
            "colorbar": {
             "outlinewidth": 0,
             "ticks": ""
            },
            "colorscale": [
             [
              0,
              "#0d0887"
             ],
             [
              0.1111111111111111,
              "#46039f"
             ],
             [
              0.2222222222222222,
              "#7201a8"
             ],
             [
              0.3333333333333333,
              "#9c179e"
             ],
             [
              0.4444444444444444,
              "#bd3786"
             ],
             [
              0.5555555555555556,
              "#d8576b"
             ],
             [
              0.6666666666666666,
              "#ed7953"
             ],
             [
              0.7777777777777778,
              "#fb9f3a"
             ],
             [
              0.8888888888888888,
              "#fdca26"
             ],
             [
              1,
              "#f0f921"
             ]
            ],
            "type": "heatmap"
           }
          ],
          "heatmapgl": [
           {
            "colorbar": {
             "outlinewidth": 0,
             "ticks": ""
            },
            "colorscale": [
             [
              0,
              "#0d0887"
             ],
             [
              0.1111111111111111,
              "#46039f"
             ],
             [
              0.2222222222222222,
              "#7201a8"
             ],
             [
              0.3333333333333333,
              "#9c179e"
             ],
             [
              0.4444444444444444,
              "#bd3786"
             ],
             [
              0.5555555555555556,
              "#d8576b"
             ],
             [
              0.6666666666666666,
              "#ed7953"
             ],
             [
              0.7777777777777778,
              "#fb9f3a"
             ],
             [
              0.8888888888888888,
              "#fdca26"
             ],
             [
              1,
              "#f0f921"
             ]
            ],
            "type": "heatmapgl"
           }
          ],
          "histogram": [
           {
            "marker": {
             "pattern": {
              "fillmode": "overlay",
              "size": 10,
              "solidity": 0.2
             }
            },
            "type": "histogram"
           }
          ],
          "histogram2d": [
           {
            "colorbar": {
             "outlinewidth": 0,
             "ticks": ""
            },
            "colorscale": [
             [
              0,
              "#0d0887"
             ],
             [
              0.1111111111111111,
              "#46039f"
             ],
             [
              0.2222222222222222,
              "#7201a8"
             ],
             [
              0.3333333333333333,
              "#9c179e"
             ],
             [
              0.4444444444444444,
              "#bd3786"
             ],
             [
              0.5555555555555556,
              "#d8576b"
             ],
             [
              0.6666666666666666,
              "#ed7953"
             ],
             [
              0.7777777777777778,
              "#fb9f3a"
             ],
             [
              0.8888888888888888,
              "#fdca26"
             ],
             [
              1,
              "#f0f921"
             ]
            ],
            "type": "histogram2d"
           }
          ],
          "histogram2dcontour": [
           {
            "colorbar": {
             "outlinewidth": 0,
             "ticks": ""
            },
            "colorscale": [
             [
              0,
              "#0d0887"
             ],
             [
              0.1111111111111111,
              "#46039f"
             ],
             [
              0.2222222222222222,
              "#7201a8"
             ],
             [
              0.3333333333333333,
              "#9c179e"
             ],
             [
              0.4444444444444444,
              "#bd3786"
             ],
             [
              0.5555555555555556,
              "#d8576b"
             ],
             [
              0.6666666666666666,
              "#ed7953"
             ],
             [
              0.7777777777777778,
              "#fb9f3a"
             ],
             [
              0.8888888888888888,
              "#fdca26"
             ],
             [
              1,
              "#f0f921"
             ]
            ],
            "type": "histogram2dcontour"
           }
          ],
          "mesh3d": [
           {
            "colorbar": {
             "outlinewidth": 0,
             "ticks": ""
            },
            "type": "mesh3d"
           }
          ],
          "parcoords": [
           {
            "line": {
             "colorbar": {
              "outlinewidth": 0,
              "ticks": ""
             }
            },
            "type": "parcoords"
           }
          ],
          "pie": [
           {
            "automargin": true,
            "type": "pie"
           }
          ],
          "scatter": [
           {
            "fillpattern": {
             "fillmode": "overlay",
             "size": 10,
             "solidity": 0.2
            },
            "type": "scatter"
           }
          ],
          "scatter3d": [
           {
            "line": {
             "colorbar": {
              "outlinewidth": 0,
              "ticks": ""
             }
            },
            "marker": {
             "colorbar": {
              "outlinewidth": 0,
              "ticks": ""
             }
            },
            "type": "scatter3d"
           }
          ],
          "scattercarpet": [
           {
            "marker": {
             "colorbar": {
              "outlinewidth": 0,
              "ticks": ""
             }
            },
            "type": "scattercarpet"
           }
          ],
          "scattergeo": [
           {
            "marker": {
             "colorbar": {
              "outlinewidth": 0,
              "ticks": ""
             }
            },
            "type": "scattergeo"
           }
          ],
          "scattergl": [
           {
            "marker": {
             "colorbar": {
              "outlinewidth": 0,
              "ticks": ""
             }
            },
            "type": "scattergl"
           }
          ],
          "scattermapbox": [
           {
            "marker": {
             "colorbar": {
              "outlinewidth": 0,
              "ticks": ""
             }
            },
            "type": "scattermapbox"
           }
          ],
          "scatterpolar": [
           {
            "marker": {
             "colorbar": {
              "outlinewidth": 0,
              "ticks": ""
             }
            },
            "type": "scatterpolar"
           }
          ],
          "scatterpolargl": [
           {
            "marker": {
             "colorbar": {
              "outlinewidth": 0,
              "ticks": ""
             }
            },
            "type": "scatterpolargl"
           }
          ],
          "scatterternary": [
           {
            "marker": {
             "colorbar": {
              "outlinewidth": 0,
              "ticks": ""
             }
            },
            "type": "scatterternary"
           }
          ],
          "surface": [
           {
            "colorbar": {
             "outlinewidth": 0,
             "ticks": ""
            },
            "colorscale": [
             [
              0,
              "#0d0887"
             ],
             [
              0.1111111111111111,
              "#46039f"
             ],
             [
              0.2222222222222222,
              "#7201a8"
             ],
             [
              0.3333333333333333,
              "#9c179e"
             ],
             [
              0.4444444444444444,
              "#bd3786"
             ],
             [
              0.5555555555555556,
              "#d8576b"
             ],
             [
              0.6666666666666666,
              "#ed7953"
             ],
             [
              0.7777777777777778,
              "#fb9f3a"
             ],
             [
              0.8888888888888888,
              "#fdca26"
             ],
             [
              1,
              "#f0f921"
             ]
            ],
            "type": "surface"
           }
          ],
          "table": [
           {
            "cells": {
             "fill": {
              "color": "#EBF0F8"
             },
             "line": {
              "color": "white"
             }
            },
            "header": {
             "fill": {
              "color": "#C8D4E3"
             },
             "line": {
              "color": "white"
             }
            },
            "type": "table"
           }
          ]
         },
         "layout": {
          "annotationdefaults": {
           "arrowcolor": "#2a3f5f",
           "arrowhead": 0,
           "arrowwidth": 1
          },
          "autotypenumbers": "strict",
          "coloraxis": {
           "colorbar": {
            "outlinewidth": 0,
            "ticks": ""
           }
          },
          "colorscale": {
           "diverging": [
            [
             0,
             "#8e0152"
            ],
            [
             0.1,
             "#c51b7d"
            ],
            [
             0.2,
             "#de77ae"
            ],
            [
             0.3,
             "#f1b6da"
            ],
            [
             0.4,
             "#fde0ef"
            ],
            [
             0.5,
             "#f7f7f7"
            ],
            [
             0.6,
             "#e6f5d0"
            ],
            [
             0.7,
             "#b8e186"
            ],
            [
             0.8,
             "#7fbc41"
            ],
            [
             0.9,
             "#4d9221"
            ],
            [
             1,
             "#276419"
            ]
           ],
           "sequential": [
            [
             0,
             "#0d0887"
            ],
            [
             0.1111111111111111,
             "#46039f"
            ],
            [
             0.2222222222222222,
             "#7201a8"
            ],
            [
             0.3333333333333333,
             "#9c179e"
            ],
            [
             0.4444444444444444,
             "#bd3786"
            ],
            [
             0.5555555555555556,
             "#d8576b"
            ],
            [
             0.6666666666666666,
             "#ed7953"
            ],
            [
             0.7777777777777778,
             "#fb9f3a"
            ],
            [
             0.8888888888888888,
             "#fdca26"
            ],
            [
             1,
             "#f0f921"
            ]
           ],
           "sequentialminus": [
            [
             0,
             "#0d0887"
            ],
            [
             0.1111111111111111,
             "#46039f"
            ],
            [
             0.2222222222222222,
             "#7201a8"
            ],
            [
             0.3333333333333333,
             "#9c179e"
            ],
            [
             0.4444444444444444,
             "#bd3786"
            ],
            [
             0.5555555555555556,
             "#d8576b"
            ],
            [
             0.6666666666666666,
             "#ed7953"
            ],
            [
             0.7777777777777778,
             "#fb9f3a"
            ],
            [
             0.8888888888888888,
             "#fdca26"
            ],
            [
             1,
             "#f0f921"
            ]
           ]
          },
          "colorway": [
           "#636efa",
           "#EF553B",
           "#00cc96",
           "#ab63fa",
           "#FFA15A",
           "#19d3f3",
           "#FF6692",
           "#B6E880",
           "#FF97FF",
           "#FECB52"
          ],
          "font": {
           "color": "#2a3f5f"
          },
          "geo": {
           "bgcolor": "white",
           "lakecolor": "white",
           "landcolor": "white",
           "showlakes": true,
           "showland": true,
           "subunitcolor": "#C8D4E3"
          },
          "hoverlabel": {
           "align": "left"
          },
          "hovermode": "closest",
          "mapbox": {
           "style": "light"
          },
          "paper_bgcolor": "white",
          "plot_bgcolor": "white",
          "polar": {
           "angularaxis": {
            "gridcolor": "#EBF0F8",
            "linecolor": "#EBF0F8",
            "ticks": ""
           },
           "bgcolor": "white",
           "radialaxis": {
            "gridcolor": "#EBF0F8",
            "linecolor": "#EBF0F8",
            "ticks": ""
           }
          },
          "scene": {
           "xaxis": {
            "backgroundcolor": "white",
            "gridcolor": "#DFE8F3",
            "gridwidth": 2,
            "linecolor": "#EBF0F8",
            "showbackground": true,
            "ticks": "",
            "zerolinecolor": "#EBF0F8"
           },
           "yaxis": {
            "backgroundcolor": "white",
            "gridcolor": "#DFE8F3",
            "gridwidth": 2,
            "linecolor": "#EBF0F8",
            "showbackground": true,
            "ticks": "",
            "zerolinecolor": "#EBF0F8"
           },
           "zaxis": {
            "backgroundcolor": "white",
            "gridcolor": "#DFE8F3",
            "gridwidth": 2,
            "linecolor": "#EBF0F8",
            "showbackground": true,
            "ticks": "",
            "zerolinecolor": "#EBF0F8"
           }
          },
          "shapedefaults": {
           "line": {
            "color": "#2a3f5f"
           }
          },
          "ternary": {
           "aaxis": {
            "gridcolor": "#DFE8F3",
            "linecolor": "#A2B1C6",
            "ticks": ""
           },
           "baxis": {
            "gridcolor": "#DFE8F3",
            "linecolor": "#A2B1C6",
            "ticks": ""
           },
           "bgcolor": "white",
           "caxis": {
            "gridcolor": "#DFE8F3",
            "linecolor": "#A2B1C6",
            "ticks": ""
           }
          },
          "title": {
           "x": 0.05
          },
          "xaxis": {
           "automargin": true,
           "gridcolor": "#EBF0F8",
           "linecolor": "#EBF0F8",
           "ticks": "",
           "title": {
            "standoff": 15
           },
           "zerolinecolor": "#EBF0F8",
           "zerolinewidth": 2
          },
          "yaxis": {
           "automargin": true,
           "gridcolor": "#EBF0F8",
           "linecolor": "#EBF0F8",
           "ticks": "",
           "title": {
            "standoff": 15
           },
           "zerolinecolor": "#EBF0F8",
           "zerolinewidth": 2
          }
         }
        },
        "title": {
         "text": "ROC Curves for Different Models"
        },
        "width": 1600,
        "xaxis": {
         "title": {
          "text": "False Positive Rate (FPR)"
         }
        },
        "yaxis": {
         "title": {
          "text": "True Positive Rate (TPR)"
         }
        }
       }
      }
     },
     "metadata": {},
     "output_type": "display_data"
    }
   ],
   "source": [
    "import plotly.graph_objects as go\n",
    "\n",
    "fig = go.Figure()\n",
    "\n",
    "for index, row in J.iterrows():\n",
    "    if row['AUC_train'] > 0.5:\n",
    "        fig.add_trace(go.Scatter(\n",
    "            x=row['fpr_train'],\n",
    "            y=row['tpr_train'],\n",
    "            mode='lines',\n",
    "            name=f\"{row['selection_model']} {row['train_model']} (AUC = {row['AUC_train']:.3f})\"\n",
    "        ))\n",
    "\n",
    "# Add the random guess line\n",
    "fig.add_trace(go.Scatter(\n",
    "    x=[0, 1],\n",
    "    y=[0, 1],\n",
    "    mode='lines',\n",
    "    line=dict(dash='dash', color='grey'),\n",
    "    name='Random Guess'\n",
    "))\n",
    "\n",
    "# Update layout\n",
    "fig.update_layout(\n",
    "    title='ROC Curves for Different Models',\n",
    "    xaxis_title='False Positive Rate (FPR)',\n",
    "    yaxis_title='True Positive Rate (TPR)',\n",
    "    legend_title='Model',\n",
    "    template='plotly_white',\n",
    "    width=1600,  # Set the width of the canvas\n",
    "    height=1200   # Set the height of the canvas\n",
    ")\n",
    "\n",
    "fig.show()\n"
   ]
  },
  {
   "cell_type": "code",
   "execution_count": 58,
   "metadata": {},
   "outputs": [
    {
     "data": {
      "application/vnd.plotly.v1+json": {
       "config": {
        "plotlyServerURL": "https://plot.ly"
       },
       "data": [
        {
         "marker": {
          "color": [
           "blue",
           "orange",
           "green",
           "red"
          ]
         },
         "type": "bar",
         "x": [
          "AUC_train > 0.5 & AUC_test > 0.5",
          "AUC_train > 0.5 & AUC_test = 0.5",
          "AUC_train = 0.5 & AUC_test > 0.5",
          "AUC_train = 0.5 & AUC_test = 0.5"
         ],
         "y": [
          48,
          0,
          0,
          0
         ]
        }
       ],
       "layout": {
        "template": {
         "data": {
          "bar": [
           {
            "error_x": {
             "color": "#2a3f5f"
            },
            "error_y": {
             "color": "#2a3f5f"
            },
            "marker": {
             "line": {
              "color": "#E5ECF6",
              "width": 0.5
             },
             "pattern": {
              "fillmode": "overlay",
              "size": 10,
              "solidity": 0.2
             }
            },
            "type": "bar"
           }
          ],
          "barpolar": [
           {
            "marker": {
             "line": {
              "color": "#E5ECF6",
              "width": 0.5
             },
             "pattern": {
              "fillmode": "overlay",
              "size": 10,
              "solidity": 0.2
             }
            },
            "type": "barpolar"
           }
          ],
          "carpet": [
           {
            "aaxis": {
             "endlinecolor": "#2a3f5f",
             "gridcolor": "white",
             "linecolor": "white",
             "minorgridcolor": "white",
             "startlinecolor": "#2a3f5f"
            },
            "baxis": {
             "endlinecolor": "#2a3f5f",
             "gridcolor": "white",
             "linecolor": "white",
             "minorgridcolor": "white",
             "startlinecolor": "#2a3f5f"
            },
            "type": "carpet"
           }
          ],
          "choropleth": [
           {
            "colorbar": {
             "outlinewidth": 0,
             "ticks": ""
            },
            "type": "choropleth"
           }
          ],
          "contour": [
           {
            "colorbar": {
             "outlinewidth": 0,
             "ticks": ""
            },
            "colorscale": [
             [
              0,
              "#0d0887"
             ],
             [
              0.1111111111111111,
              "#46039f"
             ],
             [
              0.2222222222222222,
              "#7201a8"
             ],
             [
              0.3333333333333333,
              "#9c179e"
             ],
             [
              0.4444444444444444,
              "#bd3786"
             ],
             [
              0.5555555555555556,
              "#d8576b"
             ],
             [
              0.6666666666666666,
              "#ed7953"
             ],
             [
              0.7777777777777778,
              "#fb9f3a"
             ],
             [
              0.8888888888888888,
              "#fdca26"
             ],
             [
              1,
              "#f0f921"
             ]
            ],
            "type": "contour"
           }
          ],
          "contourcarpet": [
           {
            "colorbar": {
             "outlinewidth": 0,
             "ticks": ""
            },
            "type": "contourcarpet"
           }
          ],
          "heatmap": [
           {
            "colorbar": {
             "outlinewidth": 0,
             "ticks": ""
            },
            "colorscale": [
             [
              0,
              "#0d0887"
             ],
             [
              0.1111111111111111,
              "#46039f"
             ],
             [
              0.2222222222222222,
              "#7201a8"
             ],
             [
              0.3333333333333333,
              "#9c179e"
             ],
             [
              0.4444444444444444,
              "#bd3786"
             ],
             [
              0.5555555555555556,
              "#d8576b"
             ],
             [
              0.6666666666666666,
              "#ed7953"
             ],
             [
              0.7777777777777778,
              "#fb9f3a"
             ],
             [
              0.8888888888888888,
              "#fdca26"
             ],
             [
              1,
              "#f0f921"
             ]
            ],
            "type": "heatmap"
           }
          ],
          "heatmapgl": [
           {
            "colorbar": {
             "outlinewidth": 0,
             "ticks": ""
            },
            "colorscale": [
             [
              0,
              "#0d0887"
             ],
             [
              0.1111111111111111,
              "#46039f"
             ],
             [
              0.2222222222222222,
              "#7201a8"
             ],
             [
              0.3333333333333333,
              "#9c179e"
             ],
             [
              0.4444444444444444,
              "#bd3786"
             ],
             [
              0.5555555555555556,
              "#d8576b"
             ],
             [
              0.6666666666666666,
              "#ed7953"
             ],
             [
              0.7777777777777778,
              "#fb9f3a"
             ],
             [
              0.8888888888888888,
              "#fdca26"
             ],
             [
              1,
              "#f0f921"
             ]
            ],
            "type": "heatmapgl"
           }
          ],
          "histogram": [
           {
            "marker": {
             "pattern": {
              "fillmode": "overlay",
              "size": 10,
              "solidity": 0.2
             }
            },
            "type": "histogram"
           }
          ],
          "histogram2d": [
           {
            "colorbar": {
             "outlinewidth": 0,
             "ticks": ""
            },
            "colorscale": [
             [
              0,
              "#0d0887"
             ],
             [
              0.1111111111111111,
              "#46039f"
             ],
             [
              0.2222222222222222,
              "#7201a8"
             ],
             [
              0.3333333333333333,
              "#9c179e"
             ],
             [
              0.4444444444444444,
              "#bd3786"
             ],
             [
              0.5555555555555556,
              "#d8576b"
             ],
             [
              0.6666666666666666,
              "#ed7953"
             ],
             [
              0.7777777777777778,
              "#fb9f3a"
             ],
             [
              0.8888888888888888,
              "#fdca26"
             ],
             [
              1,
              "#f0f921"
             ]
            ],
            "type": "histogram2d"
           }
          ],
          "histogram2dcontour": [
           {
            "colorbar": {
             "outlinewidth": 0,
             "ticks": ""
            },
            "colorscale": [
             [
              0,
              "#0d0887"
             ],
             [
              0.1111111111111111,
              "#46039f"
             ],
             [
              0.2222222222222222,
              "#7201a8"
             ],
             [
              0.3333333333333333,
              "#9c179e"
             ],
             [
              0.4444444444444444,
              "#bd3786"
             ],
             [
              0.5555555555555556,
              "#d8576b"
             ],
             [
              0.6666666666666666,
              "#ed7953"
             ],
             [
              0.7777777777777778,
              "#fb9f3a"
             ],
             [
              0.8888888888888888,
              "#fdca26"
             ],
             [
              1,
              "#f0f921"
             ]
            ],
            "type": "histogram2dcontour"
           }
          ],
          "mesh3d": [
           {
            "colorbar": {
             "outlinewidth": 0,
             "ticks": ""
            },
            "type": "mesh3d"
           }
          ],
          "parcoords": [
           {
            "line": {
             "colorbar": {
              "outlinewidth": 0,
              "ticks": ""
             }
            },
            "type": "parcoords"
           }
          ],
          "pie": [
           {
            "automargin": true,
            "type": "pie"
           }
          ],
          "scatter": [
           {
            "fillpattern": {
             "fillmode": "overlay",
             "size": 10,
             "solidity": 0.2
            },
            "type": "scatter"
           }
          ],
          "scatter3d": [
           {
            "line": {
             "colorbar": {
              "outlinewidth": 0,
              "ticks": ""
             }
            },
            "marker": {
             "colorbar": {
              "outlinewidth": 0,
              "ticks": ""
             }
            },
            "type": "scatter3d"
           }
          ],
          "scattercarpet": [
           {
            "marker": {
             "colorbar": {
              "outlinewidth": 0,
              "ticks": ""
             }
            },
            "type": "scattercarpet"
           }
          ],
          "scattergeo": [
           {
            "marker": {
             "colorbar": {
              "outlinewidth": 0,
              "ticks": ""
             }
            },
            "type": "scattergeo"
           }
          ],
          "scattergl": [
           {
            "marker": {
             "colorbar": {
              "outlinewidth": 0,
              "ticks": ""
             }
            },
            "type": "scattergl"
           }
          ],
          "scattermapbox": [
           {
            "marker": {
             "colorbar": {
              "outlinewidth": 0,
              "ticks": ""
             }
            },
            "type": "scattermapbox"
           }
          ],
          "scatterpolar": [
           {
            "marker": {
             "colorbar": {
              "outlinewidth": 0,
              "ticks": ""
             }
            },
            "type": "scatterpolar"
           }
          ],
          "scatterpolargl": [
           {
            "marker": {
             "colorbar": {
              "outlinewidth": 0,
              "ticks": ""
             }
            },
            "type": "scatterpolargl"
           }
          ],
          "scatterternary": [
           {
            "marker": {
             "colorbar": {
              "outlinewidth": 0,
              "ticks": ""
             }
            },
            "type": "scatterternary"
           }
          ],
          "surface": [
           {
            "colorbar": {
             "outlinewidth": 0,
             "ticks": ""
            },
            "colorscale": [
             [
              0,
              "#0d0887"
             ],
             [
              0.1111111111111111,
              "#46039f"
             ],
             [
              0.2222222222222222,
              "#7201a8"
             ],
             [
              0.3333333333333333,
              "#9c179e"
             ],
             [
              0.4444444444444444,
              "#bd3786"
             ],
             [
              0.5555555555555556,
              "#d8576b"
             ],
             [
              0.6666666666666666,
              "#ed7953"
             ],
             [
              0.7777777777777778,
              "#fb9f3a"
             ],
             [
              0.8888888888888888,
              "#fdca26"
             ],
             [
              1,
              "#f0f921"
             ]
            ],
            "type": "surface"
           }
          ],
          "table": [
           {
            "cells": {
             "fill": {
              "color": "#EBF0F8"
             },
             "line": {
              "color": "white"
             }
            },
            "header": {
             "fill": {
              "color": "#C8D4E3"
             },
             "line": {
              "color": "white"
             }
            },
            "type": "table"
           }
          ]
         },
         "layout": {
          "annotationdefaults": {
           "arrowcolor": "#2a3f5f",
           "arrowhead": 0,
           "arrowwidth": 1
          },
          "autotypenumbers": "strict",
          "coloraxis": {
           "colorbar": {
            "outlinewidth": 0,
            "ticks": ""
           }
          },
          "colorscale": {
           "diverging": [
            [
             0,
             "#8e0152"
            ],
            [
             0.1,
             "#c51b7d"
            ],
            [
             0.2,
             "#de77ae"
            ],
            [
             0.3,
             "#f1b6da"
            ],
            [
             0.4,
             "#fde0ef"
            ],
            [
             0.5,
             "#f7f7f7"
            ],
            [
             0.6,
             "#e6f5d0"
            ],
            [
             0.7,
             "#b8e186"
            ],
            [
             0.8,
             "#7fbc41"
            ],
            [
             0.9,
             "#4d9221"
            ],
            [
             1,
             "#276419"
            ]
           ],
           "sequential": [
            [
             0,
             "#0d0887"
            ],
            [
             0.1111111111111111,
             "#46039f"
            ],
            [
             0.2222222222222222,
             "#7201a8"
            ],
            [
             0.3333333333333333,
             "#9c179e"
            ],
            [
             0.4444444444444444,
             "#bd3786"
            ],
            [
             0.5555555555555556,
             "#d8576b"
            ],
            [
             0.6666666666666666,
             "#ed7953"
            ],
            [
             0.7777777777777778,
             "#fb9f3a"
            ],
            [
             0.8888888888888888,
             "#fdca26"
            ],
            [
             1,
             "#f0f921"
            ]
           ],
           "sequentialminus": [
            [
             0,
             "#0d0887"
            ],
            [
             0.1111111111111111,
             "#46039f"
            ],
            [
             0.2222222222222222,
             "#7201a8"
            ],
            [
             0.3333333333333333,
             "#9c179e"
            ],
            [
             0.4444444444444444,
             "#bd3786"
            ],
            [
             0.5555555555555556,
             "#d8576b"
            ],
            [
             0.6666666666666666,
             "#ed7953"
            ],
            [
             0.7777777777777778,
             "#fb9f3a"
            ],
            [
             0.8888888888888888,
             "#fdca26"
            ],
            [
             1,
             "#f0f921"
            ]
           ]
          },
          "colorway": [
           "#636efa",
           "#EF553B",
           "#00cc96",
           "#ab63fa",
           "#FFA15A",
           "#19d3f3",
           "#FF6692",
           "#B6E880",
           "#FF97FF",
           "#FECB52"
          ],
          "font": {
           "color": "#2a3f5f"
          },
          "geo": {
           "bgcolor": "white",
           "lakecolor": "white",
           "landcolor": "#E5ECF6",
           "showlakes": true,
           "showland": true,
           "subunitcolor": "white"
          },
          "hoverlabel": {
           "align": "left"
          },
          "hovermode": "closest",
          "mapbox": {
           "style": "light"
          },
          "paper_bgcolor": "white",
          "plot_bgcolor": "#E5ECF6",
          "polar": {
           "angularaxis": {
            "gridcolor": "white",
            "linecolor": "white",
            "ticks": ""
           },
           "bgcolor": "#E5ECF6",
           "radialaxis": {
            "gridcolor": "white",
            "linecolor": "white",
            "ticks": ""
           }
          },
          "scene": {
           "xaxis": {
            "backgroundcolor": "#E5ECF6",
            "gridcolor": "white",
            "gridwidth": 2,
            "linecolor": "white",
            "showbackground": true,
            "ticks": "",
            "zerolinecolor": "white"
           },
           "yaxis": {
            "backgroundcolor": "#E5ECF6",
            "gridcolor": "white",
            "gridwidth": 2,
            "linecolor": "white",
            "showbackground": true,
            "ticks": "",
            "zerolinecolor": "white"
           },
           "zaxis": {
            "backgroundcolor": "#E5ECF6",
            "gridcolor": "white",
            "gridwidth": 2,
            "linecolor": "white",
            "showbackground": true,
            "ticks": "",
            "zerolinecolor": "white"
           }
          },
          "shapedefaults": {
           "line": {
            "color": "#2a3f5f"
           }
          },
          "ternary": {
           "aaxis": {
            "gridcolor": "white",
            "linecolor": "white",
            "ticks": ""
           },
           "baxis": {
            "gridcolor": "white",
            "linecolor": "white",
            "ticks": ""
           },
           "bgcolor": "#E5ECF6",
           "caxis": {
            "gridcolor": "white",
            "linecolor": "white",
            "ticks": ""
           }
          },
          "title": {
           "x": 0.05
          },
          "xaxis": {
           "automargin": true,
           "gridcolor": "white",
           "linecolor": "white",
           "ticks": "",
           "title": {
            "standoff": 15
           },
           "zerolinecolor": "white",
           "zerolinewidth": 2
          },
          "yaxis": {
           "automargin": true,
           "gridcolor": "white",
           "linecolor": "white",
           "ticks": "",
           "title": {
            "standoff": 15
           },
           "zerolinecolor": "white",
           "zerolinewidth": 2
          }
         }
        },
        "title": {
         "text": "Count of AUC_train and AUC_test Values"
        },
        "xaxis": {
         "title": {
          "text": "AUC Value Combination"
         }
        },
        "yaxis": {
         "title": {
          "text": "Count"
         }
        }
       }
      }
     },
     "metadata": {},
     "output_type": "display_data"
    }
   ],
   "source": [
    "import plotly.graph_objects as go\n",
    "\n",
    "# Count the occurrences for AUC_train > 0.5\n",
    "auc_train_greater_than_0_5 = J[J['AUC_train'] > 0.5]\n",
    "auc_test_greater_than_0_5_for_train_greater_than_0_5 = (auc_train_greater_than_0_5['AUC_test'] > 0.5).sum()\n",
    "auc_test_equal_to_0_5_for_train_greater_than_0_5 = (auc_train_greater_than_0_5['AUC_test'] == 0.5).sum()\n",
    "\n",
    "# Count the occurrences for AUC_train = 0.5\n",
    "auc_train_equal_to_0_5 = J[J['AUC_train'] == 0.5]\n",
    "auc_test_greater_than_0_5_for_train_equal_to_0_5 = (auc_train_equal_to_0_5['AUC_test'] > 0.5).sum()\n",
    "auc_test_equal_to_0_5_for_train_equal_to_0_5 = (auc_train_equal_to_0_5['AUC_test'] == 0.5).sum()\n",
    "\n",
    "# Create a bar chart\n",
    "labels = [\n",
    "    'AUC_train > 0.5 & AUC_test > 0.5',\n",
    "    'AUC_train > 0.5 & AUC_test = 0.5',\n",
    "    'AUC_train = 0.5 & AUC_test > 0.5',\n",
    "    'AUC_train = 0.5 & AUC_test = 0.5'\n",
    "]\n",
    "counts = [\n",
    "    auc_test_greater_than_0_5_for_train_greater_than_0_5,\n",
    "    auc_test_equal_to_0_5_for_train_greater_than_0_5,\n",
    "    auc_test_greater_than_0_5_for_train_equal_to_0_5,\n",
    "    auc_test_equal_to_0_5_for_train_equal_to_0_5\n",
    "]\n",
    "\n",
    "fig = go.Figure(data=[go.Bar(x=labels, y=counts, marker_color=['blue', 'orange', 'green', 'red'])])\n",
    "fig.update_layout(\n",
    "    title='Count of AUC_train and AUC_test Values',\n",
    "    xaxis_title='AUC Value Combination',\n",
    "    yaxis_title='Count'\n",
    ")\n",
    "fig.show()"
   ]
  },
  {
   "cell_type": "code",
   "execution_count": null,
   "metadata": {},
   "outputs": [],
   "source": []
  }
 ],
 "metadata": {
  "kernelspec": {
   "display_name": ".venv",
   "language": "python",
   "name": "python3"
  },
  "language_info": {
   "codemirror_mode": {
    "name": "ipython",
    "version": 3
   },
   "file_extension": ".py",
   "mimetype": "text/x-python",
   "name": "python",
   "nbconvert_exporter": "python",
   "pygments_lexer": "ipython3",
   "version": "3.10.11"
  }
 },
 "nbformat": 4,
 "nbformat_minor": 2
}
