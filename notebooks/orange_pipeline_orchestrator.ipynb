{
 "cells": [
  {
   "cell_type": "code",
   "execution_count": 1,
   "metadata": {},
   "outputs": [],
   "source": [
    "import os\n",
    "import toml\n",
    "import pandas as pd\n",
    "from utils.config_helper import update_nested_toml, load_config"
   ]
  },
  {
   "cell_type": "markdown",
   "metadata": {},
   "source": [
    "breast\n",
    "lung\n",
    "prostate\n",
    "stomach\n",
    "rectal"
   ]
  },
  {
   "cell_type": "code",
   "execution_count": 2,
   "metadata": {},
   "outputs": [],
   "source": [
    "TYPE = input(\"Enter the type of the config file: \")\n",
    "CONFIG_PATH = f\"../config/{TYPE}.toml\"\n",
    "config = load_config(CONFIG_PATH)"
   ]
  },
  {
   "cell_type": "code",
   "execution_count": 3,
   "metadata": {},
   "outputs": [],
   "source": [
    "def inspect_nan(df, name):\n",
    "    print(df[pd.isna(df[name])])"
   ]
  },
  {
   "cell_type": "code",
   "execution_count": 4,
   "metadata": {},
   "outputs": [],
   "source": [
    "beta_file_number = config[\"init\"][\"hyper\"][\"beta_file_number\"]\n",
    "test_ratio = config[\"init\"][\"hyper\"][\"test_ratio\"]\n",
    "seed = config[\"init\"][\"hyper\"][\"splitting_seed\"]\n",
    "normal_number_0 = config[\"init\"][\"hyper\"][\"normal_number_0\"]\n",
    "if beta_file_number == 2:\n",
    "    normal_number_1 = config[\"init\"][\"hyper\"][\"normal_number_1\"]\n",
    "data_source = config[\"init\"][\"hyper\"][\"data_source\"]\n",
    "is_columns_duplicated = config[\"init\"][\"hyper\"][\"is_columns_duplicated\"]\n",
    "if data_source == \"GDC_stomach_GSE99553\":  # god forgive me\n",
    "    is_columns_duplicated_1 = config[\"init\"][\"hyper\"][\"is_columns_duplicated_1\"]"
   ]
  },
  {
   "cell_type": "code",
   "execution_count": 5,
   "metadata": {},
   "outputs": [],
   "source": [
    "trainOutPath = f\"../{TYPE}/result/{data_source}/train{int(100-test_ratio*100)}\"\n",
    "testOutPath = f\"../{TYPE}/result/{data_source}/test{int(test_ratio*100)}\""
   ]
  },
  {
   "cell_type": "markdown",
   "metadata": {},
   "source": [
    "### Section. 0 Merge and Split Champ Data \n",
    "(if there are more than one normalized beta data)\n",
    "\n",
    "#### Summary\n",
    "- beta data is split into train and test\n",
    "- all beta data will the following format\n",
    "  - column 0 is the id of the sample\n",
    "  - column 1 to n is the beta value of each CpG site\n",
    "  - normal samples come first, then tumor samples"
   ]
  },
  {
   "cell_type": "code",
   "execution_count": 6,
   "metadata": {},
   "outputs": [],
   "source": [
    "df0 = pd.read_csv(f\"../{TYPE}/champ_result/{data_source}/all_beta_normalized_0.csv\")"
   ]
  },
  {
   "cell_type": "code",
   "execution_count": 7,
   "metadata": {},
   "outputs": [],
   "source": [
    "if beta_file_number == 2:\n",
    "    df1 = pd.read_csv(f\"../{TYPE}/champ_result/{data_source}/all_beta_normalized_1.csv\")"
   ]
  },
  {
   "cell_type": "code",
   "execution_count": 8,
   "metadata": {},
   "outputs": [
    {
     "data": {
      "text/html": [
       "<div>\n",
       "<style scoped>\n",
       "    .dataframe tbody tr th:only-of-type {\n",
       "        vertical-align: middle;\n",
       "    }\n",
       "\n",
       "    .dataframe tbody tr th {\n",
       "        vertical-align: top;\n",
       "    }\n",
       "\n",
       "    .dataframe thead th {\n",
       "        text-align: right;\n",
       "    }\n",
       "</style>\n",
       "<table border=\"1\" class=\"dataframe\">\n",
       "  <thead>\n",
       "    <tr style=\"text-align: right;\">\n",
       "      <th></th>\n",
       "      <th>Unnamed: 0</th>\n",
       "      <th>1</th>\n",
       "      <th>2</th>\n",
       "      <th>3</th>\n",
       "      <th>4</th>\n",
       "      <th>5</th>\n",
       "      <th>6</th>\n",
       "      <th>7</th>\n",
       "      <th>8</th>\n",
       "      <th>9</th>\n",
       "      <th>...</th>\n",
       "      <th>909</th>\n",
       "      <th>910</th>\n",
       "      <th>911</th>\n",
       "      <th>912</th>\n",
       "      <th>913</th>\n",
       "      <th>914</th>\n",
       "      <th>915</th>\n",
       "      <th>916</th>\n",
       "      <th>917</th>\n",
       "      <th>918</th>\n",
       "    </tr>\n",
       "  </thead>\n",
       "  <tbody>\n",
       "    <tr>\n",
       "      <th>0</th>\n",
       "      <td>cg00000957</td>\n",
       "      <td>0.870131</td>\n",
       "      <td>0.870131</td>\n",
       "      <td>0.855272</td>\n",
       "      <td>0.855272</td>\n",
       "      <td>0.837964</td>\n",
       "      <td>0.837964</td>\n",
       "      <td>0.881787</td>\n",
       "      <td>0.881787</td>\n",
       "      <td>0.840490</td>\n",
       "      <td>...</td>\n",
       "      <td>0.847760</td>\n",
       "      <td>0.847760</td>\n",
       "      <td>0.828761</td>\n",
       "      <td>0.828761</td>\n",
       "      <td>0.854923</td>\n",
       "      <td>0.854923</td>\n",
       "      <td>0.845223</td>\n",
       "      <td>0.845223</td>\n",
       "      <td>0.868674</td>\n",
       "      <td>0.868674</td>\n",
       "    </tr>\n",
       "    <tr>\n",
       "      <th>1</th>\n",
       "      <td>cg00001349</td>\n",
       "      <td>0.805265</td>\n",
       "      <td>0.805265</td>\n",
       "      <td>0.786301</td>\n",
       "      <td>0.786301</td>\n",
       "      <td>0.812133</td>\n",
       "      <td>0.812133</td>\n",
       "      <td>0.702542</td>\n",
       "      <td>0.702542</td>\n",
       "      <td>0.794556</td>\n",
       "      <td>...</td>\n",
       "      <td>0.827351</td>\n",
       "      <td>0.827351</td>\n",
       "      <td>0.795160</td>\n",
       "      <td>0.795160</td>\n",
       "      <td>0.783938</td>\n",
       "      <td>0.783938</td>\n",
       "      <td>0.740427</td>\n",
       "      <td>0.740427</td>\n",
       "      <td>0.517052</td>\n",
       "      <td>0.517052</td>\n",
       "    </tr>\n",
       "    <tr>\n",
       "      <th>2</th>\n",
       "      <td>cg00001583</td>\n",
       "      <td>0.130379</td>\n",
       "      <td>0.130379</td>\n",
       "      <td>0.105195</td>\n",
       "      <td>0.105195</td>\n",
       "      <td>0.069474</td>\n",
       "      <td>0.069474</td>\n",
       "      <td>0.065219</td>\n",
       "      <td>0.065219</td>\n",
       "      <td>0.083583</td>\n",
       "      <td>...</td>\n",
       "      <td>0.241279</td>\n",
       "      <td>0.241279</td>\n",
       "      <td>0.413970</td>\n",
       "      <td>0.413970</td>\n",
       "      <td>0.272795</td>\n",
       "      <td>0.272795</td>\n",
       "      <td>0.443902</td>\n",
       "      <td>0.443902</td>\n",
       "      <td>0.051824</td>\n",
       "      <td>0.051824</td>\n",
       "    </tr>\n",
       "    <tr>\n",
       "      <th>3</th>\n",
       "      <td>cg00002028</td>\n",
       "      <td>0.027859</td>\n",
       "      <td>0.027859</td>\n",
       "      <td>0.028367</td>\n",
       "      <td>0.028367</td>\n",
       "      <td>0.035275</td>\n",
       "      <td>0.035275</td>\n",
       "      <td>0.009818</td>\n",
       "      <td>0.009818</td>\n",
       "      <td>0.040193</td>\n",
       "      <td>...</td>\n",
       "      <td>0.031782</td>\n",
       "      <td>0.031782</td>\n",
       "      <td>0.030371</td>\n",
       "      <td>0.030371</td>\n",
       "      <td>0.043669</td>\n",
       "      <td>0.043669</td>\n",
       "      <td>0.052163</td>\n",
       "      <td>0.052163</td>\n",
       "      <td>0.032497</td>\n",
       "      <td>0.032497</td>\n",
       "    </tr>\n",
       "    <tr>\n",
       "      <th>4</th>\n",
       "      <td>cg00002719</td>\n",
       "      <td>0.024905</td>\n",
       "      <td>0.024905</td>\n",
       "      <td>0.028116</td>\n",
       "      <td>0.028116</td>\n",
       "      <td>0.026357</td>\n",
       "      <td>0.026357</td>\n",
       "      <td>0.031588</td>\n",
       "      <td>0.031588</td>\n",
       "      <td>0.049386</td>\n",
       "      <td>...</td>\n",
       "      <td>0.523305</td>\n",
       "      <td>0.523305</td>\n",
       "      <td>0.032755</td>\n",
       "      <td>0.032755</td>\n",
       "      <td>0.463249</td>\n",
       "      <td>0.463249</td>\n",
       "      <td>0.254924</td>\n",
       "      <td>0.254924</td>\n",
       "      <td>0.715903</td>\n",
       "      <td>0.715903</td>\n",
       "    </tr>\n",
       "    <tr>\n",
       "      <th>...</th>\n",
       "      <td>...</td>\n",
       "      <td>...</td>\n",
       "      <td>...</td>\n",
       "      <td>...</td>\n",
       "      <td>...</td>\n",
       "      <td>...</td>\n",
       "      <td>...</td>\n",
       "      <td>...</td>\n",
       "      <td>...</td>\n",
       "      <td>...</td>\n",
       "      <td>...</td>\n",
       "      <td>...</td>\n",
       "      <td>...</td>\n",
       "      <td>...</td>\n",
       "      <td>...</td>\n",
       "      <td>...</td>\n",
       "      <td>...</td>\n",
       "      <td>...</td>\n",
       "      <td>...</td>\n",
       "      <td>...</td>\n",
       "      <td>...</td>\n",
       "    </tr>\n",
       "    <tr>\n",
       "      <th>120672</th>\n",
       "      <td>cg15728744</td>\n",
       "      <td>0.989299</td>\n",
       "      <td>0.989299</td>\n",
       "      <td>0.984082</td>\n",
       "      <td>0.984082</td>\n",
       "      <td>0.975333</td>\n",
       "      <td>0.975333</td>\n",
       "      <td>0.992034</td>\n",
       "      <td>0.992034</td>\n",
       "      <td>0.959184</td>\n",
       "      <td>...</td>\n",
       "      <td>0.970321</td>\n",
       "      <td>0.970321</td>\n",
       "      <td>0.885888</td>\n",
       "      <td>0.885888</td>\n",
       "      <td>0.892856</td>\n",
       "      <td>0.892856</td>\n",
       "      <td>0.989962</td>\n",
       "      <td>0.989962</td>\n",
       "      <td>0.959804</td>\n",
       "      <td>0.959804</td>\n",
       "    </tr>\n",
       "    <tr>\n",
       "      <th>120673</th>\n",
       "      <td>cg15728779</td>\n",
       "      <td>0.455539</td>\n",
       "      <td>0.455539</td>\n",
       "      <td>0.461929</td>\n",
       "      <td>0.461929</td>\n",
       "      <td>0.397068</td>\n",
       "      <td>0.397068</td>\n",
       "      <td>0.394965</td>\n",
       "      <td>0.394965</td>\n",
       "      <td>0.405328</td>\n",
       "      <td>...</td>\n",
       "      <td>0.350407</td>\n",
       "      <td>0.350407</td>\n",
       "      <td>0.295748</td>\n",
       "      <td>0.295748</td>\n",
       "      <td>0.320699</td>\n",
       "      <td>0.320699</td>\n",
       "      <td>0.223251</td>\n",
       "      <td>0.223251</td>\n",
       "      <td>0.235275</td>\n",
       "      <td>0.235275</td>\n",
       "    </tr>\n",
       "    <tr>\n",
       "      <th>120674</th>\n",
       "      <td>cg15729771</td>\n",
       "      <td>0.057365</td>\n",
       "      <td>0.057365</td>\n",
       "      <td>0.049908</td>\n",
       "      <td>0.049908</td>\n",
       "      <td>0.061390</td>\n",
       "      <td>0.061390</td>\n",
       "      <td>0.045488</td>\n",
       "      <td>0.045488</td>\n",
       "      <td>0.048277</td>\n",
       "      <td>...</td>\n",
       "      <td>0.065144</td>\n",
       "      <td>0.065144</td>\n",
       "      <td>0.072834</td>\n",
       "      <td>0.072834</td>\n",
       "      <td>0.053064</td>\n",
       "      <td>0.053064</td>\n",
       "      <td>0.046125</td>\n",
       "      <td>0.046125</td>\n",
       "      <td>0.077101</td>\n",
       "      <td>0.077101</td>\n",
       "    </tr>\n",
       "    <tr>\n",
       "      <th>120675</th>\n",
       "      <td>cg15730248</td>\n",
       "      <td>0.958313</td>\n",
       "      <td>0.958313</td>\n",
       "      <td>0.954312</td>\n",
       "      <td>0.954312</td>\n",
       "      <td>0.953241</td>\n",
       "      <td>0.953241</td>\n",
       "      <td>0.962748</td>\n",
       "      <td>0.962748</td>\n",
       "      <td>0.928654</td>\n",
       "      <td>...</td>\n",
       "      <td>0.843446</td>\n",
       "      <td>0.843446</td>\n",
       "      <td>0.926867</td>\n",
       "      <td>0.926867</td>\n",
       "      <td>0.895288</td>\n",
       "      <td>0.895288</td>\n",
       "      <td>0.968495</td>\n",
       "      <td>0.968495</td>\n",
       "      <td>0.951945</td>\n",
       "      <td>0.951945</td>\n",
       "    </tr>\n",
       "    <tr>\n",
       "      <th>120676</th>\n",
       "      <td>cg15730879</td>\n",
       "      <td>0.976683</td>\n",
       "      <td>0.976683</td>\n",
       "      <td>0.965252</td>\n",
       "      <td>0.965252</td>\n",
       "      <td>0.950154</td>\n",
       "      <td>0.950154</td>\n",
       "      <td>0.940101</td>\n",
       "      <td>0.940101</td>\n",
       "      <td>0.943863</td>\n",
       "      <td>...</td>\n",
       "      <td>NaN</td>\n",
       "      <td>NaN</td>\n",
       "      <td>NaN</td>\n",
       "      <td>NaN</td>\n",
       "      <td>NaN</td>\n",
       "      <td>NaN</td>\n",
       "      <td>NaN</td>\n",
       "      <td>NaN</td>\n",
       "      <td>NaN</td>\n",
       "      <td>NaN</td>\n",
       "    </tr>\n",
       "  </tbody>\n",
       "</table>\n",
       "<p>120677 rows × 919 columns</p>\n",
       "</div>"
      ],
      "text/plain": [
       "        Unnamed: 0         1         2         3         4         5  \\\n",
       "0       cg00000957  0.870131  0.870131  0.855272  0.855272  0.837964   \n",
       "1       cg00001349  0.805265  0.805265  0.786301  0.786301  0.812133   \n",
       "2       cg00001583  0.130379  0.130379  0.105195  0.105195  0.069474   \n",
       "3       cg00002028  0.027859  0.027859  0.028367  0.028367  0.035275   \n",
       "4       cg00002719  0.024905  0.024905  0.028116  0.028116  0.026357   \n",
       "...            ...       ...       ...       ...       ...       ...   \n",
       "120672  cg15728744  0.989299  0.989299  0.984082  0.984082  0.975333   \n",
       "120673  cg15728779  0.455539  0.455539  0.461929  0.461929  0.397068   \n",
       "120674  cg15729771  0.057365  0.057365  0.049908  0.049908  0.061390   \n",
       "120675  cg15730248  0.958313  0.958313  0.954312  0.954312  0.953241   \n",
       "120676  cg15730879  0.976683  0.976683  0.965252  0.965252  0.950154   \n",
       "\n",
       "               6         7         8         9  ...       909       910  \\\n",
       "0       0.837964  0.881787  0.881787  0.840490  ...  0.847760  0.847760   \n",
       "1       0.812133  0.702542  0.702542  0.794556  ...  0.827351  0.827351   \n",
       "2       0.069474  0.065219  0.065219  0.083583  ...  0.241279  0.241279   \n",
       "3       0.035275  0.009818  0.009818  0.040193  ...  0.031782  0.031782   \n",
       "4       0.026357  0.031588  0.031588  0.049386  ...  0.523305  0.523305   \n",
       "...          ...       ...       ...       ...  ...       ...       ...   \n",
       "120672  0.975333  0.992034  0.992034  0.959184  ...  0.970321  0.970321   \n",
       "120673  0.397068  0.394965  0.394965  0.405328  ...  0.350407  0.350407   \n",
       "120674  0.061390  0.045488  0.045488  0.048277  ...  0.065144  0.065144   \n",
       "120675  0.953241  0.962748  0.962748  0.928654  ...  0.843446  0.843446   \n",
       "120676  0.950154  0.940101  0.940101  0.943863  ...       NaN       NaN   \n",
       "\n",
       "             911       912       913       914       915       916       917  \\\n",
       "0       0.828761  0.828761  0.854923  0.854923  0.845223  0.845223  0.868674   \n",
       "1       0.795160  0.795160  0.783938  0.783938  0.740427  0.740427  0.517052   \n",
       "2       0.413970  0.413970  0.272795  0.272795  0.443902  0.443902  0.051824   \n",
       "3       0.030371  0.030371  0.043669  0.043669  0.052163  0.052163  0.032497   \n",
       "4       0.032755  0.032755  0.463249  0.463249  0.254924  0.254924  0.715903   \n",
       "...          ...       ...       ...       ...       ...       ...       ...   \n",
       "120672  0.885888  0.885888  0.892856  0.892856  0.989962  0.989962  0.959804   \n",
       "120673  0.295748  0.295748  0.320699  0.320699  0.223251  0.223251  0.235275   \n",
       "120674  0.072834  0.072834  0.053064  0.053064  0.046125  0.046125  0.077101   \n",
       "120675  0.926867  0.926867  0.895288  0.895288  0.968495  0.968495  0.951945   \n",
       "120676       NaN       NaN       NaN       NaN       NaN       NaN       NaN   \n",
       "\n",
       "             918  \n",
       "0       0.868674  \n",
       "1       0.517052  \n",
       "2       0.051824  \n",
       "3       0.032497  \n",
       "4       0.715903  \n",
       "...          ...  \n",
       "120672  0.959804  \n",
       "120673  0.235275  \n",
       "120674  0.077101  \n",
       "120675  0.951945  \n",
       "120676       NaN  \n",
       "\n",
       "[120677 rows x 919 columns]"
      ]
     },
     "execution_count": 8,
     "metadata": {},
     "output_type": "execute_result"
    }
   ],
   "source": [
    "# DEBUG\n",
    "df0\n",
    "# END"
   ]
  },
  {
   "cell_type": "code",
   "execution_count": 9,
   "metadata": {},
   "outputs": [
    {
     "data": {
      "text/html": [
       "<div>\n",
       "<style scoped>\n",
       "    .dataframe tbody tr th:only-of-type {\n",
       "        vertical-align: middle;\n",
       "    }\n",
       "\n",
       "    .dataframe tbody tr th {\n",
       "        vertical-align: top;\n",
       "    }\n",
       "\n",
       "    .dataframe thead th {\n",
       "        text-align: right;\n",
       "    }\n",
       "</style>\n",
       "<table border=\"1\" class=\"dataframe\">\n",
       "  <thead>\n",
       "    <tr style=\"text-align: right;\">\n",
       "      <th></th>\n",
       "      <th>Unnamed: 0</th>\n",
       "      <th>1</th>\n",
       "      <th>2</th>\n",
       "      <th>3</th>\n",
       "      <th>4</th>\n",
       "      <th>5</th>\n",
       "      <th>6</th>\n",
       "      <th>7</th>\n",
       "      <th>8</th>\n",
       "      <th>9</th>\n",
       "      <th>...</th>\n",
       "      <th>909</th>\n",
       "      <th>910</th>\n",
       "      <th>911</th>\n",
       "      <th>912</th>\n",
       "      <th>913</th>\n",
       "      <th>914</th>\n",
       "      <th>915</th>\n",
       "      <th>916</th>\n",
       "      <th>917</th>\n",
       "      <th>918</th>\n",
       "    </tr>\n",
       "  </thead>\n",
       "  <tbody>\n",
       "    <tr>\n",
       "      <th>0</th>\n",
       "      <td>cg00000957</td>\n",
       "      <td>0.873237</td>\n",
       "      <td>0.873237</td>\n",
       "      <td>0.870941</td>\n",
       "      <td>0.870941</td>\n",
       "      <td>0.859828</td>\n",
       "      <td>0.859828</td>\n",
       "      <td>0.883027</td>\n",
       "      <td>0.883027</td>\n",
       "      <td>0.878071</td>\n",
       "      <td>...</td>\n",
       "      <td>0.799261</td>\n",
       "      <td>0.799261</td>\n",
       "      <td>0.330985</td>\n",
       "      <td>0.330985</td>\n",
       "      <td>0.860865</td>\n",
       "      <td>0.860865</td>\n",
       "      <td>0.869139</td>\n",
       "      <td>0.869139</td>\n",
       "      <td>0.865573</td>\n",
       "      <td>0.865573</td>\n",
       "    </tr>\n",
       "    <tr>\n",
       "      <th>1</th>\n",
       "      <td>cg00001349</td>\n",
       "      <td>0.813589</td>\n",
       "      <td>0.813589</td>\n",
       "      <td>0.779412</td>\n",
       "      <td>0.779412</td>\n",
       "      <td>0.881907</td>\n",
       "      <td>0.881907</td>\n",
       "      <td>0.740944</td>\n",
       "      <td>0.740944</td>\n",
       "      <td>0.848596</td>\n",
       "      <td>...</td>\n",
       "      <td>0.835029</td>\n",
       "      <td>0.835029</td>\n",
       "      <td>0.780882</td>\n",
       "      <td>0.780882</td>\n",
       "      <td>0.716940</td>\n",
       "      <td>0.716940</td>\n",
       "      <td>0.752071</td>\n",
       "      <td>0.752071</td>\n",
       "      <td>0.859589</td>\n",
       "      <td>0.859589</td>\n",
       "    </tr>\n",
       "    <tr>\n",
       "      <th>2</th>\n",
       "      <td>cg00001583</td>\n",
       "      <td>0.060897</td>\n",
       "      <td>0.060897</td>\n",
       "      <td>0.071685</td>\n",
       "      <td>0.071685</td>\n",
       "      <td>0.073219</td>\n",
       "      <td>0.073219</td>\n",
       "      <td>0.079168</td>\n",
       "      <td>0.079168</td>\n",
       "      <td>0.055963</td>\n",
       "      <td>...</td>\n",
       "      <td>0.547632</td>\n",
       "      <td>0.547632</td>\n",
       "      <td>0.658158</td>\n",
       "      <td>0.658158</td>\n",
       "      <td>0.196573</td>\n",
       "      <td>0.196573</td>\n",
       "      <td>0.238353</td>\n",
       "      <td>0.238353</td>\n",
       "      <td>0.687156</td>\n",
       "      <td>0.687156</td>\n",
       "    </tr>\n",
       "    <tr>\n",
       "      <th>3</th>\n",
       "      <td>cg00002028</td>\n",
       "      <td>0.020690</td>\n",
       "      <td>0.020690</td>\n",
       "      <td>0.025741</td>\n",
       "      <td>0.025741</td>\n",
       "      <td>0.011456</td>\n",
       "      <td>0.011456</td>\n",
       "      <td>0.014352</td>\n",
       "      <td>0.014352</td>\n",
       "      <td>0.032681</td>\n",
       "      <td>...</td>\n",
       "      <td>0.031653</td>\n",
       "      <td>0.031653</td>\n",
       "      <td>0.056207</td>\n",
       "      <td>0.056207</td>\n",
       "      <td>0.044863</td>\n",
       "      <td>0.044863</td>\n",
       "      <td>0.038549</td>\n",
       "      <td>0.038549</td>\n",
       "      <td>0.023179</td>\n",
       "      <td>0.023179</td>\n",
       "    </tr>\n",
       "    <tr>\n",
       "      <th>4</th>\n",
       "      <td>cg00002719</td>\n",
       "      <td>0.031898</td>\n",
       "      <td>0.031898</td>\n",
       "      <td>0.023960</td>\n",
       "      <td>0.023960</td>\n",
       "      <td>0.047802</td>\n",
       "      <td>0.047802</td>\n",
       "      <td>0.025617</td>\n",
       "      <td>0.025617</td>\n",
       "      <td>0.039806</td>\n",
       "      <td>...</td>\n",
       "      <td>0.657312</td>\n",
       "      <td>0.657312</td>\n",
       "      <td>0.687780</td>\n",
       "      <td>0.687780</td>\n",
       "      <td>0.063309</td>\n",
       "      <td>0.063309</td>\n",
       "      <td>0.076774</td>\n",
       "      <td>0.076774</td>\n",
       "      <td>0.673089</td>\n",
       "      <td>0.673089</td>\n",
       "    </tr>\n",
       "    <tr>\n",
       "      <th>...</th>\n",
       "      <td>...</td>\n",
       "      <td>...</td>\n",
       "      <td>...</td>\n",
       "      <td>...</td>\n",
       "      <td>...</td>\n",
       "      <td>...</td>\n",
       "      <td>...</td>\n",
       "      <td>...</td>\n",
       "      <td>...</td>\n",
       "      <td>...</td>\n",
       "      <td>...</td>\n",
       "      <td>...</td>\n",
       "      <td>...</td>\n",
       "      <td>...</td>\n",
       "      <td>...</td>\n",
       "      <td>...</td>\n",
       "      <td>...</td>\n",
       "      <td>...</td>\n",
       "      <td>...</td>\n",
       "      <td>...</td>\n",
       "      <td>...</td>\n",
       "    </tr>\n",
       "    <tr>\n",
       "      <th>360237</th>\n",
       "      <td>cg27656573</td>\n",
       "      <td>0.958146</td>\n",
       "      <td>0.958146</td>\n",
       "      <td>0.956567</td>\n",
       "      <td>0.956567</td>\n",
       "      <td>0.960663</td>\n",
       "      <td>0.960663</td>\n",
       "      <td>0.952006</td>\n",
       "      <td>0.952006</td>\n",
       "      <td>0.961032</td>\n",
       "      <td>...</td>\n",
       "      <td>0.941653</td>\n",
       "      <td>0.941653</td>\n",
       "      <td>0.878673</td>\n",
       "      <td>0.878673</td>\n",
       "      <td>0.955497</td>\n",
       "      <td>0.955497</td>\n",
       "      <td>0.947089</td>\n",
       "      <td>0.947089</td>\n",
       "      <td>0.963040</td>\n",
       "      <td>0.963040</td>\n",
       "    </tr>\n",
       "    <tr>\n",
       "      <th>360238</th>\n",
       "      <td>cg27657363</td>\n",
       "      <td>0.949939</td>\n",
       "      <td>0.949939</td>\n",
       "      <td>0.955772</td>\n",
       "      <td>0.955772</td>\n",
       "      <td>0.945914</td>\n",
       "      <td>0.945914</td>\n",
       "      <td>0.958400</td>\n",
       "      <td>0.958400</td>\n",
       "      <td>0.967471</td>\n",
       "      <td>...</td>\n",
       "      <td>0.660955</td>\n",
       "      <td>0.660955</td>\n",
       "      <td>NaN</td>\n",
       "      <td>NaN</td>\n",
       "      <td>0.925782</td>\n",
       "      <td>0.925782</td>\n",
       "      <td>0.925081</td>\n",
       "      <td>0.925081</td>\n",
       "      <td>0.804342</td>\n",
       "      <td>0.804342</td>\n",
       "    </tr>\n",
       "    <tr>\n",
       "      <th>360239</th>\n",
       "      <td>cg27657537</td>\n",
       "      <td>0.069554</td>\n",
       "      <td>0.069554</td>\n",
       "      <td>0.055817</td>\n",
       "      <td>0.055817</td>\n",
       "      <td>0.045695</td>\n",
       "      <td>0.045695</td>\n",
       "      <td>0.049810</td>\n",
       "      <td>0.049810</td>\n",
       "      <td>0.053926</td>\n",
       "      <td>...</td>\n",
       "      <td>0.032993</td>\n",
       "      <td>0.032993</td>\n",
       "      <td>NaN</td>\n",
       "      <td>NaN</td>\n",
       "      <td>0.088574</td>\n",
       "      <td>0.088574</td>\n",
       "      <td>0.111038</td>\n",
       "      <td>0.111038</td>\n",
       "      <td>0.087881</td>\n",
       "      <td>0.087881</td>\n",
       "    </tr>\n",
       "    <tr>\n",
       "      <th>360240</th>\n",
       "      <td>cg27662611</td>\n",
       "      <td>0.027544</td>\n",
       "      <td>0.027544</td>\n",
       "      <td>0.027796</td>\n",
       "      <td>0.027796</td>\n",
       "      <td>0.044085</td>\n",
       "      <td>0.044085</td>\n",
       "      <td>0.022501</td>\n",
       "      <td>0.022501</td>\n",
       "      <td>0.058010</td>\n",
       "      <td>...</td>\n",
       "      <td>0.038424</td>\n",
       "      <td>0.038424</td>\n",
       "      <td>NaN</td>\n",
       "      <td>NaN</td>\n",
       "      <td>0.029692</td>\n",
       "      <td>0.029692</td>\n",
       "      <td>0.048457</td>\n",
       "      <td>0.048457</td>\n",
       "      <td>0.053156</td>\n",
       "      <td>0.053156</td>\n",
       "    </tr>\n",
       "    <tr>\n",
       "      <th>360241</th>\n",
       "      <td>cg27665648</td>\n",
       "      <td>0.823971</td>\n",
       "      <td>0.823971</td>\n",
       "      <td>0.851600</td>\n",
       "      <td>0.851600</td>\n",
       "      <td>0.844997</td>\n",
       "      <td>0.844997</td>\n",
       "      <td>0.822418</td>\n",
       "      <td>0.822418</td>\n",
       "      <td>0.845267</td>\n",
       "      <td>...</td>\n",
       "      <td>0.417128</td>\n",
       "      <td>0.417128</td>\n",
       "      <td>NaN</td>\n",
       "      <td>NaN</td>\n",
       "      <td>0.763183</td>\n",
       "      <td>0.763183</td>\n",
       "      <td>0.749752</td>\n",
       "      <td>0.749752</td>\n",
       "      <td>0.803075</td>\n",
       "      <td>0.803075</td>\n",
       "    </tr>\n",
       "  </tbody>\n",
       "</table>\n",
       "<p>360242 rows × 919 columns</p>\n",
       "</div>"
      ],
      "text/plain": [
       "        Unnamed: 0         1         2         3         4         5  \\\n",
       "0       cg00000957  0.873237  0.873237  0.870941  0.870941  0.859828   \n",
       "1       cg00001349  0.813589  0.813589  0.779412  0.779412  0.881907   \n",
       "2       cg00001583  0.060897  0.060897  0.071685  0.071685  0.073219   \n",
       "3       cg00002028  0.020690  0.020690  0.025741  0.025741  0.011456   \n",
       "4       cg00002719  0.031898  0.031898  0.023960  0.023960  0.047802   \n",
       "...            ...       ...       ...       ...       ...       ...   \n",
       "360237  cg27656573  0.958146  0.958146  0.956567  0.956567  0.960663   \n",
       "360238  cg27657363  0.949939  0.949939  0.955772  0.955772  0.945914   \n",
       "360239  cg27657537  0.069554  0.069554  0.055817  0.055817  0.045695   \n",
       "360240  cg27662611  0.027544  0.027544  0.027796  0.027796  0.044085   \n",
       "360241  cg27665648  0.823971  0.823971  0.851600  0.851600  0.844997   \n",
       "\n",
       "               6         7         8         9  ...       909       910  \\\n",
       "0       0.859828  0.883027  0.883027  0.878071  ...  0.799261  0.799261   \n",
       "1       0.881907  0.740944  0.740944  0.848596  ...  0.835029  0.835029   \n",
       "2       0.073219  0.079168  0.079168  0.055963  ...  0.547632  0.547632   \n",
       "3       0.011456  0.014352  0.014352  0.032681  ...  0.031653  0.031653   \n",
       "4       0.047802  0.025617  0.025617  0.039806  ...  0.657312  0.657312   \n",
       "...          ...       ...       ...       ...  ...       ...       ...   \n",
       "360237  0.960663  0.952006  0.952006  0.961032  ...  0.941653  0.941653   \n",
       "360238  0.945914  0.958400  0.958400  0.967471  ...  0.660955  0.660955   \n",
       "360239  0.045695  0.049810  0.049810  0.053926  ...  0.032993  0.032993   \n",
       "360240  0.044085  0.022501  0.022501  0.058010  ...  0.038424  0.038424   \n",
       "360241  0.844997  0.822418  0.822418  0.845267  ...  0.417128  0.417128   \n",
       "\n",
       "             911       912       913       914       915       916       917  \\\n",
       "0       0.330985  0.330985  0.860865  0.860865  0.869139  0.869139  0.865573   \n",
       "1       0.780882  0.780882  0.716940  0.716940  0.752071  0.752071  0.859589   \n",
       "2       0.658158  0.658158  0.196573  0.196573  0.238353  0.238353  0.687156   \n",
       "3       0.056207  0.056207  0.044863  0.044863  0.038549  0.038549  0.023179   \n",
       "4       0.687780  0.687780  0.063309  0.063309  0.076774  0.076774  0.673089   \n",
       "...          ...       ...       ...       ...       ...       ...       ...   \n",
       "360237  0.878673  0.878673  0.955497  0.955497  0.947089  0.947089  0.963040   \n",
       "360238       NaN       NaN  0.925782  0.925782  0.925081  0.925081  0.804342   \n",
       "360239       NaN       NaN  0.088574  0.088574  0.111038  0.111038  0.087881   \n",
       "360240       NaN       NaN  0.029692  0.029692  0.048457  0.048457  0.053156   \n",
       "360241       NaN       NaN  0.763183  0.763183  0.749752  0.749752  0.803075   \n",
       "\n",
       "             918  \n",
       "0       0.865573  \n",
       "1       0.859589  \n",
       "2       0.687156  \n",
       "3       0.023179  \n",
       "4       0.673089  \n",
       "...          ...  \n",
       "360237  0.963040  \n",
       "360238  0.804342  \n",
       "360239  0.087881  \n",
       "360240  0.053156  \n",
       "360241  0.803075  \n",
       "\n",
       "[360242 rows x 919 columns]"
      ]
     },
     "execution_count": 9,
     "metadata": {},
     "output_type": "execute_result"
    }
   ],
   "source": [
    "# DEBUG\n",
    "df1\n",
    "# END"
   ]
  },
  {
   "cell_type": "code",
   "execution_count": 10,
   "metadata": {},
   "outputs": [],
   "source": [
    "# potential feature loss\n",
    "if beta_file_number == 2:\n",
    "    feature_name_0 = df0.iloc[:, 0].tolist()\n",
    "    feature_name_1 = df1.iloc[:, 0].tolist()\n",
    "\n",
    "    feature_name = list(set(feature_name_0).intersection(feature_name_1))\n",
    "    update_nested_toml(\n",
    "        \"preprocess.merge_and_split\", \"feature_size_0\", len(feature_name_0)\n",
    "    )\n",
    "    update_nested_toml(\n",
    "        \"preprocess.merge_and_split\", \"feature_size_1\", len(feature_name_1)\n",
    "    )\n",
    "    update_nested_toml(\n",
    "        \"preprocess.merge_and_split\", \"feature_size_intersection\", len(feature_name)\n",
    "    )\n",
    "elif beta_file_number == 1:\n",
    "    feature_name = df0.iloc[:, 0].tolist()\n",
    "    update_nested_toml(\n",
    "        \"preprocess.merge_and_split\", \"feature_size_0\", len(feature_name)\n",
    "    )"
   ]
  },
  {
   "cell_type": "code",
   "execution_count": 11,
   "metadata": {},
   "outputs": [],
   "source": [
    "if beta_file_number == 2:\n",
    "    df0_join = df0[df0.iloc[:, 0].isin(feature_name)]\n",
    "    df1_join = df1[df1.iloc[:, 0].isin(feature_name)]"
   ]
  },
  {
   "cell_type": "code",
   "execution_count": 12,
   "metadata": {},
   "outputs": [],
   "source": [
    "if beta_file_number == 2:\n",
    "    df0_join = df0_join.iloc[:, 1::is_columns_duplicated]\n",
    "    if data_source == \"GDC_stomach_GSE99553\":  # god forgive me\n",
    "        df1_join = df1_join.iloc[:, 1::is_columns_duplicated_1]\n",
    "    else:\n",
    "        df1_join = df1_join.iloc[:, 1::is_columns_duplicated]\n",
    "    df0_join.reset_index(drop=True, inplace=True)\n",
    "    df1_join.reset_index(drop=True, inplace=True)\n",
    "    df0_join_normal = df0_join.iloc[:, :normal_number_0]\n",
    "    df0_join_tumor = df0_join.iloc[:, normal_number_0:]\n",
    "    df1_join_normal = df1_join.iloc[:, :normal_number_1]\n",
    "    df1_join_tumor = df1_join.iloc[:, normal_number_1:]\n",
    "elif beta_file_number == 1:\n",
    "    df0_join = df0.iloc[:, 1::is_columns_duplicated]"
   ]
  },
  {
   "cell_type": "code",
   "execution_count": 13,
   "metadata": {},
   "outputs": [],
   "source": [
    "if beta_file_number == 2:\n",
    "    df_normal = pd.concat([df0_join_normal, df1_join_normal], axis=1)\n",
    "    df_tumor = pd.concat([df0_join_tumor, df1_join_tumor], axis=1)"
   ]
  },
  {
   "cell_type": "code",
   "execution_count": 14,
   "metadata": {},
   "outputs": [],
   "source": [
    "# drop those samples with missing value\n",
    "# note: could use padding or other methods to fill the missing value\n",
    "\n",
    "if beta_file_number == 2:\n",
    "    update_nested_toml(\n",
    "        \"preprocess.merge_and_split\", \"Before_dropna_dfn_shape\", df_normal.shape\n",
    "    )\n",
    "    update_nested_toml(\n",
    "        \"preprocess.merge_and_split\", \"Before_dropna_dfc_shape\", df_tumor.shape\n",
    "    )\n",
    "    df_normal.dropna(inplace=True, axis=1)\n",
    "    df_tumor.dropna(inplace=True, axis=1)\n",
    "    update_nested_toml(\n",
    "        \"preprocess.merge_and_split\", \"After_dropna_dfn_shape\", df_normal.shape\n",
    "    )\n",
    "    update_nested_toml(\n",
    "        \"preprocess.merge_and_split\", \"After_dropna_dfc_shape\", df_tumor.shape\n",
    "    )\n",
    "elif beta_file_number == 1:\n",
    "    update_nested_toml(\n",
    "        \"preprocess.merge_and_split\", \"Before_dropna_df_shape\", df0_join.shape\n",
    "    )\n",
    "    df0_join.dropna(inplace=True, axis=1)\n",
    "    update_nested_toml(\n",
    "        \"preprocess.merge_and_split\", \"After_dropna_df_shape\", df0_join.shape\n",
    "    )"
   ]
  },
  {
   "cell_type": "code",
   "execution_count": 15,
   "metadata": {},
   "outputs": [],
   "source": [
    "# Combine the normal and tumor data\n",
    "if beta_file_number == 2:\n",
    "    X = pd.concat([df_normal, df_tumor], axis=1).T\n",
    "    y = [0] * df_normal.shape[1] + [1] * df_tumor.shape[1]\n",
    "elif beta_file_number == 1:\n",
    "    X = df0_join.T\n",
    "    y = [0] * normal_number_0 + [1] * (df0_join.shape[1] - normal_number_0)\n"
   ]
  },
  {
   "cell_type": "code",
   "execution_count": 32,
   "metadata": {},
   "outputs": [],
   "source": [
    "from collections import Counter\n",
    "from sklearn.model_selection import train_test_split\n",
    "\n",
    "X_train, X_test, y_train, y_test = train_test_split(\n",
    "    X, y, test_size=test_ratio, random_state=seed\n",
    ")"
   ]
  },
  {
   "cell_type": "code",
   "execution_count": 33,
   "metadata": {},
   "outputs": [],
   "source": [
    "update_nested_toml(\n",
    "    \"preprocess.merge_and_split\", \"Before_SMOTE_X_train_shape\", X_train.shape\n",
    ")\n",
    "update_nested_toml(\n",
    "    \"preprocess.merge_and_split\", \"Before_SMOTE_y_train_shape\", len(y_train)\n",
    ")\n",
    "\n",
    "from imblearn.over_sampling import SMOTE\n",
    "\n",
    "smote = SMOTE(random_state=seed)\n",
    "X_resampled, y_resampled = smote.fit_resample(X_train, y_train)\n",
    "update_nested_toml(\n",
    "    \"preprocess.merge_and_split\", \"After_SMOTE_X_train_shape\", X_resampled.shape\n",
    ")\n",
    "update_nested_toml(\n",
    "    \"preprocess.merge_and_split\", \"After_SMOTE_y_train_shape\", len(y_resampled)\n",
    ")\n"
   ]
  },
  {
   "cell_type": "code",
   "execution_count": 34,
   "metadata": {},
   "outputs": [
    {
     "data": {
      "text/html": [
       "<div>\n",
       "<style scoped>\n",
       "    .dataframe tbody tr th:only-of-type {\n",
       "        vertical-align: middle;\n",
       "    }\n",
       "\n",
       "    .dataframe tbody tr th {\n",
       "        vertical-align: top;\n",
       "    }\n",
       "\n",
       "    .dataframe thead th {\n",
       "        text-align: right;\n",
       "    }\n",
       "</style>\n",
       "<table border=\"1\" class=\"dataframe\">\n",
       "  <thead>\n",
       "    <tr style=\"text-align: right;\">\n",
       "      <th></th>\n",
       "      <th>0</th>\n",
       "      <th>1</th>\n",
       "      <th>2</th>\n",
       "      <th>3</th>\n",
       "      <th>4</th>\n",
       "      <th>5</th>\n",
       "      <th>6</th>\n",
       "      <th>7</th>\n",
       "      <th>8</th>\n",
       "      <th>9</th>\n",
       "      <th>...</th>\n",
       "      <th>115109</th>\n",
       "      <th>115110</th>\n",
       "      <th>115111</th>\n",
       "      <th>115112</th>\n",
       "      <th>115113</th>\n",
       "      <th>115114</th>\n",
       "      <th>115115</th>\n",
       "      <th>115116</th>\n",
       "      <th>115117</th>\n",
       "      <th>115118</th>\n",
       "    </tr>\n",
       "  </thead>\n",
       "  <tbody>\n",
       "    <tr>\n",
       "      <th>0</th>\n",
       "      <td>0.841756</td>\n",
       "      <td>0.703298</td>\n",
       "      <td>0.431084</td>\n",
       "      <td>0.027505</td>\n",
       "      <td>0.397063</td>\n",
       "      <td>0.465172</td>\n",
       "      <td>0.249965</td>\n",
       "      <td>0.949241</td>\n",
       "      <td>0.012780</td>\n",
       "      <td>0.262894</td>\n",
       "      <td>...</td>\n",
       "      <td>0.027010</td>\n",
       "      <td>0.920087</td>\n",
       "      <td>0.850160</td>\n",
       "      <td>0.930655</td>\n",
       "      <td>0.791388</td>\n",
       "      <td>0.989132</td>\n",
       "      <td>0.384792</td>\n",
       "      <td>0.038485</td>\n",
       "      <td>0.973749</td>\n",
       "      <td>0.679401</td>\n",
       "    </tr>\n",
       "    <tr>\n",
       "      <th>1</th>\n",
       "      <td>0.878719</td>\n",
       "      <td>0.857571</td>\n",
       "      <td>0.079447</td>\n",
       "      <td>0.032354</td>\n",
       "      <td>0.046182</td>\n",
       "      <td>0.241271</td>\n",
       "      <td>0.315196</td>\n",
       "      <td>0.968882</td>\n",
       "      <td>0.026012</td>\n",
       "      <td>0.132082</td>\n",
       "      <td>...</td>\n",
       "      <td>0.022753</td>\n",
       "      <td>0.970901</td>\n",
       "      <td>0.661749</td>\n",
       "      <td>0.928384</td>\n",
       "      <td>0.682931</td>\n",
       "      <td>0.984485</td>\n",
       "      <td>0.495349</td>\n",
       "      <td>0.067969</td>\n",
       "      <td>0.942289</td>\n",
       "      <td>0.958157</td>\n",
       "    </tr>\n",
       "    <tr>\n",
       "      <th>2</th>\n",
       "      <td>0.802070</td>\n",
       "      <td>0.797716</td>\n",
       "      <td>0.096851</td>\n",
       "      <td>0.027988</td>\n",
       "      <td>0.017034</td>\n",
       "      <td>0.310766</td>\n",
       "      <td>0.233277</td>\n",
       "      <td>0.955857</td>\n",
       "      <td>0.015123</td>\n",
       "      <td>0.117587</td>\n",
       "      <td>...</td>\n",
       "      <td>0.040264</td>\n",
       "      <td>0.977996</td>\n",
       "      <td>0.726119</td>\n",
       "      <td>0.917069</td>\n",
       "      <td>0.759037</td>\n",
       "      <td>0.984149</td>\n",
       "      <td>0.420042</td>\n",
       "      <td>0.049243</td>\n",
       "      <td>0.947436</td>\n",
       "      <td>0.960082</td>\n",
       "    </tr>\n",
       "    <tr>\n",
       "      <th>3</th>\n",
       "      <td>0.862710</td>\n",
       "      <td>0.833682</td>\n",
       "      <td>0.316148</td>\n",
       "      <td>0.049158</td>\n",
       "      <td>0.329400</td>\n",
       "      <td>0.414738</td>\n",
       "      <td>0.204136</td>\n",
       "      <td>0.967899</td>\n",
       "      <td>0.014163</td>\n",
       "      <td>0.181442</td>\n",
       "      <td>...</td>\n",
       "      <td>0.024757</td>\n",
       "      <td>0.966543</td>\n",
       "      <td>0.646962</td>\n",
       "      <td>0.801688</td>\n",
       "      <td>0.803312</td>\n",
       "      <td>0.990239</td>\n",
       "      <td>0.416372</td>\n",
       "      <td>0.066303</td>\n",
       "      <td>0.980574</td>\n",
       "      <td>0.963004</td>\n",
       "    </tr>\n",
       "    <tr>\n",
       "      <th>4</th>\n",
       "      <td>0.892635</td>\n",
       "      <td>0.871973</td>\n",
       "      <td>0.510363</td>\n",
       "      <td>0.017838</td>\n",
       "      <td>0.430559</td>\n",
       "      <td>0.181806</td>\n",
       "      <td>0.155549</td>\n",
       "      <td>0.973625</td>\n",
       "      <td>0.022387</td>\n",
       "      <td>0.045736</td>\n",
       "      <td>...</td>\n",
       "      <td>0.029056</td>\n",
       "      <td>0.739023</td>\n",
       "      <td>0.643690</td>\n",
       "      <td>0.951082</td>\n",
       "      <td>0.654773</td>\n",
       "      <td>0.977833</td>\n",
       "      <td>0.497420</td>\n",
       "      <td>0.067781</td>\n",
       "      <td>0.979291</td>\n",
       "      <td>0.956772</td>\n",
       "    </tr>\n",
       "    <tr>\n",
       "      <th>...</th>\n",
       "      <td>...</td>\n",
       "      <td>...</td>\n",
       "      <td>...</td>\n",
       "      <td>...</td>\n",
       "      <td>...</td>\n",
       "      <td>...</td>\n",
       "      <td>...</td>\n",
       "      <td>...</td>\n",
       "      <td>...</td>\n",
       "      <td>...</td>\n",
       "      <td>...</td>\n",
       "      <td>...</td>\n",
       "      <td>...</td>\n",
       "      <td>...</td>\n",
       "      <td>...</td>\n",
       "      <td>...</td>\n",
       "      <td>...</td>\n",
       "      <td>...</td>\n",
       "      <td>...</td>\n",
       "      <td>...</td>\n",
       "      <td>...</td>\n",
       "    </tr>\n",
       "    <tr>\n",
       "      <th>1081</th>\n",
       "      <td>0.878729</td>\n",
       "      <td>0.865951</td>\n",
       "      <td>0.089815</td>\n",
       "      <td>0.021578</td>\n",
       "      <td>0.023333</td>\n",
       "      <td>0.289873</td>\n",
       "      <td>0.295743</td>\n",
       "      <td>0.967093</td>\n",
       "      <td>0.015089</td>\n",
       "      <td>0.120200</td>\n",
       "      <td>...</td>\n",
       "      <td>0.036278</td>\n",
       "      <td>0.982500</td>\n",
       "      <td>0.759131</td>\n",
       "      <td>0.931467</td>\n",
       "      <td>0.737107</td>\n",
       "      <td>0.984409</td>\n",
       "      <td>0.463074</td>\n",
       "      <td>0.061237</td>\n",
       "      <td>0.962958</td>\n",
       "      <td>0.972720</td>\n",
       "    </tr>\n",
       "    <tr>\n",
       "      <th>1082</th>\n",
       "      <td>0.814309</td>\n",
       "      <td>0.765022</td>\n",
       "      <td>0.093404</td>\n",
       "      <td>0.026295</td>\n",
       "      <td>0.019902</td>\n",
       "      <td>0.322114</td>\n",
       "      <td>0.232296</td>\n",
       "      <td>0.955015</td>\n",
       "      <td>0.012538</td>\n",
       "      <td>0.112805</td>\n",
       "      <td>...</td>\n",
       "      <td>0.039917</td>\n",
       "      <td>0.975547</td>\n",
       "      <td>0.716257</td>\n",
       "      <td>0.917594</td>\n",
       "      <td>0.744179</td>\n",
       "      <td>0.983871</td>\n",
       "      <td>0.435207</td>\n",
       "      <td>0.047847</td>\n",
       "      <td>0.939098</td>\n",
       "      <td>0.957803</td>\n",
       "    </tr>\n",
       "    <tr>\n",
       "      <th>1083</th>\n",
       "      <td>0.849890</td>\n",
       "      <td>0.897346</td>\n",
       "      <td>0.067199</td>\n",
       "      <td>0.011073</td>\n",
       "      <td>0.031814</td>\n",
       "      <td>0.308065</td>\n",
       "      <td>0.240790</td>\n",
       "      <td>0.975927</td>\n",
       "      <td>0.016051</td>\n",
       "      <td>0.064191</td>\n",
       "      <td>...</td>\n",
       "      <td>0.044021</td>\n",
       "      <td>0.975818</td>\n",
       "      <td>0.638132</td>\n",
       "      <td>0.951337</td>\n",
       "      <td>0.741305</td>\n",
       "      <td>0.987540</td>\n",
       "      <td>0.402084</td>\n",
       "      <td>0.056576</td>\n",
       "      <td>0.958052</td>\n",
       "      <td>0.967637</td>\n",
       "    </tr>\n",
       "    <tr>\n",
       "      <th>1084</th>\n",
       "      <td>0.864610</td>\n",
       "      <td>0.707271</td>\n",
       "      <td>0.100759</td>\n",
       "      <td>0.023600</td>\n",
       "      <td>0.029610</td>\n",
       "      <td>0.336432</td>\n",
       "      <td>0.252440</td>\n",
       "      <td>0.954921</td>\n",
       "      <td>0.022920</td>\n",
       "      <td>0.120200</td>\n",
       "      <td>...</td>\n",
       "      <td>0.033460</td>\n",
       "      <td>0.973117</td>\n",
       "      <td>0.647463</td>\n",
       "      <td>0.915533</td>\n",
       "      <td>0.692098</td>\n",
       "      <td>0.981847</td>\n",
       "      <td>0.324761</td>\n",
       "      <td>0.047862</td>\n",
       "      <td>0.916655</td>\n",
       "      <td>0.956687</td>\n",
       "    </tr>\n",
       "    <tr>\n",
       "      <th>1085</th>\n",
       "      <td>0.863162</td>\n",
       "      <td>0.793271</td>\n",
       "      <td>0.114687</td>\n",
       "      <td>0.034696</td>\n",
       "      <td>0.039718</td>\n",
       "      <td>0.283416</td>\n",
       "      <td>0.312893</td>\n",
       "      <td>0.949394</td>\n",
       "      <td>0.020741</td>\n",
       "      <td>0.076314</td>\n",
       "      <td>...</td>\n",
       "      <td>0.044109</td>\n",
       "      <td>0.968906</td>\n",
       "      <td>0.656541</td>\n",
       "      <td>0.933769</td>\n",
       "      <td>0.713460</td>\n",
       "      <td>0.984870</td>\n",
       "      <td>0.442904</td>\n",
       "      <td>0.052698</td>\n",
       "      <td>0.939081</td>\n",
       "      <td>0.941956</td>\n",
       "    </tr>\n",
       "  </tbody>\n",
       "</table>\n",
       "<p>1086 rows × 115119 columns</p>\n",
       "</div>"
      ],
      "text/plain": [
       "        0         1         2         3         4         5         6       \\\n",
       "0     0.841756  0.703298  0.431084  0.027505  0.397063  0.465172  0.249965   \n",
       "1     0.878719  0.857571  0.079447  0.032354  0.046182  0.241271  0.315196   \n",
       "2     0.802070  0.797716  0.096851  0.027988  0.017034  0.310766  0.233277   \n",
       "3     0.862710  0.833682  0.316148  0.049158  0.329400  0.414738  0.204136   \n",
       "4     0.892635  0.871973  0.510363  0.017838  0.430559  0.181806  0.155549   \n",
       "...        ...       ...       ...       ...       ...       ...       ...   \n",
       "1081  0.878729  0.865951  0.089815  0.021578  0.023333  0.289873  0.295743   \n",
       "1082  0.814309  0.765022  0.093404  0.026295  0.019902  0.322114  0.232296   \n",
       "1083  0.849890  0.897346  0.067199  0.011073  0.031814  0.308065  0.240790   \n",
       "1084  0.864610  0.707271  0.100759  0.023600  0.029610  0.336432  0.252440   \n",
       "1085  0.863162  0.793271  0.114687  0.034696  0.039718  0.283416  0.312893   \n",
       "\n",
       "        7         8         9       ...    115109    115110    115111  \\\n",
       "0     0.949241  0.012780  0.262894  ...  0.027010  0.920087  0.850160   \n",
       "1     0.968882  0.026012  0.132082  ...  0.022753  0.970901  0.661749   \n",
       "2     0.955857  0.015123  0.117587  ...  0.040264  0.977996  0.726119   \n",
       "3     0.967899  0.014163  0.181442  ...  0.024757  0.966543  0.646962   \n",
       "4     0.973625  0.022387  0.045736  ...  0.029056  0.739023  0.643690   \n",
       "...        ...       ...       ...  ...       ...       ...       ...   \n",
       "1081  0.967093  0.015089  0.120200  ...  0.036278  0.982500  0.759131   \n",
       "1082  0.955015  0.012538  0.112805  ...  0.039917  0.975547  0.716257   \n",
       "1083  0.975927  0.016051  0.064191  ...  0.044021  0.975818  0.638132   \n",
       "1084  0.954921  0.022920  0.120200  ...  0.033460  0.973117  0.647463   \n",
       "1085  0.949394  0.020741  0.076314  ...  0.044109  0.968906  0.656541   \n",
       "\n",
       "        115112    115113    115114    115115    115116    115117    115118  \n",
       "0     0.930655  0.791388  0.989132  0.384792  0.038485  0.973749  0.679401  \n",
       "1     0.928384  0.682931  0.984485  0.495349  0.067969  0.942289  0.958157  \n",
       "2     0.917069  0.759037  0.984149  0.420042  0.049243  0.947436  0.960082  \n",
       "3     0.801688  0.803312  0.990239  0.416372  0.066303  0.980574  0.963004  \n",
       "4     0.951082  0.654773  0.977833  0.497420  0.067781  0.979291  0.956772  \n",
       "...        ...       ...       ...       ...       ...       ...       ...  \n",
       "1081  0.931467  0.737107  0.984409  0.463074  0.061237  0.962958  0.972720  \n",
       "1082  0.917594  0.744179  0.983871  0.435207  0.047847  0.939098  0.957803  \n",
       "1083  0.951337  0.741305  0.987540  0.402084  0.056576  0.958052  0.967637  \n",
       "1084  0.915533  0.692098  0.981847  0.324761  0.047862  0.916655  0.956687  \n",
       "1085  0.933769  0.713460  0.984870  0.442904  0.052698  0.939081  0.941956  \n",
       "\n",
       "[1086 rows x 115119 columns]"
      ]
     },
     "execution_count": 34,
     "metadata": {},
     "output_type": "execute_result"
    }
   ],
   "source": [
    "X_resampled"
   ]
  },
  {
   "cell_type": "code",
   "execution_count": 35,
   "metadata": {},
   "outputs": [],
   "source": [
    "train_class_distribution = Counter(y_resampled)\n",
    "testing_class_distribution = Counter(y_test)\n",
    "\n",
    "update_nested_toml(\"preprocess.merge_and_split\", \"training_set_samples\", len(X_resampled))\n",
    "update_nested_toml(\"preprocess.merge_and_split\", \"testing_set_samples\", len(X_test))\n",
    "update_nested_toml(\n",
    "    \"preprocess.merge_and_split\",\n",
    "    \"training_class_distribution\",\n",
    "    [train_class_distribution[0], train_class_distribution[1]],\n",
    ")\n",
    "update_nested_toml(\n",
    "    \"preprocess.merge_and_split\",\n",
    "    \"testing_class_distribution\",\n",
    "    [testing_class_distribution[0], testing_class_distribution[1]],\n",
    ")"
   ]
  },
  {
   "cell_type": "code",
   "execution_count": 36,
   "metadata": {},
   "outputs": [
    {
     "name": "stderr",
     "output_type": "stream",
     "text": [
      "C:\\Users\\USER\\AppData\\Local\\Temp\\ipykernel_1312\\1430446889.py:2: PerformanceWarning: DataFrame is highly fragmented.  This is usually the result of calling `frame.insert` many times, which has poor performance.  Consider joining all columns at once using pd.concat(axis=1) instead. To get a de-fragmented frame, use `newframe = frame.copy()`\n",
      "  X_resampled[\"label\"] = y_resampled\n"
     ]
    }
   ],
   "source": [
    "X_resampled.columns = feature_name\n",
    "X_resampled[\"label\"] = y_resampled\n",
    "X_resampled.sort_values(by=[\"label\"], inplace=True)\n",
    "train_df = X_resampled.T\n",
    "train_df.columns = range(train_df.shape[1])\n",
    "\n",
    "X_test.columns = feature_name\n",
    "X_test[\"label\"] = y_test\n",
    "X_test.sort_values(by=[\"label\"], inplace=True)\n",
    "test_df = X_test.T\n",
    "test_df.columns = range(test_df.shape[1])\n",
    "\n",
    "train_df.insert(0, \"Unnamed: 0\", train_df.index)\n",
    "train_df.reset_index(drop=True, inplace=True)\n",
    "test_df.insert(0, \"Unnamed: 0\", test_df.index)\n",
    "test_df.reset_index(drop=True, inplace=True)"
   ]
  },
  {
   "cell_type": "code",
   "execution_count": 37,
   "metadata": {},
   "outputs": [
    {
     "data": {
      "text/html": [
       "<div>\n",
       "<style scoped>\n",
       "    .dataframe tbody tr th:only-of-type {\n",
       "        vertical-align: middle;\n",
       "    }\n",
       "\n",
       "    .dataframe tbody tr th {\n",
       "        vertical-align: top;\n",
       "    }\n",
       "\n",
       "    .dataframe thead th {\n",
       "        text-align: right;\n",
       "    }\n",
       "</style>\n",
       "<table border=\"1\" class=\"dataframe\">\n",
       "  <thead>\n",
       "    <tr style=\"text-align: right;\">\n",
       "      <th></th>\n",
       "      <th>Unnamed: 0</th>\n",
       "      <th>0</th>\n",
       "      <th>1</th>\n",
       "      <th>2</th>\n",
       "      <th>3</th>\n",
       "      <th>4</th>\n",
       "      <th>5</th>\n",
       "      <th>6</th>\n",
       "      <th>7</th>\n",
       "      <th>8</th>\n",
       "      <th>...</th>\n",
       "      <th>1076</th>\n",
       "      <th>1077</th>\n",
       "      <th>1078</th>\n",
       "      <th>1079</th>\n",
       "      <th>1080</th>\n",
       "      <th>1081</th>\n",
       "      <th>1082</th>\n",
       "      <th>1083</th>\n",
       "      <th>1084</th>\n",
       "      <th>1085</th>\n",
       "    </tr>\n",
       "  </thead>\n",
       "  <tbody>\n",
       "    <tr>\n",
       "      <th>0</th>\n",
       "      <td>cg11829380</td>\n",
       "      <td>0.863162</td>\n",
       "      <td>0.872752</td>\n",
       "      <td>0.842748</td>\n",
       "      <td>0.870104</td>\n",
       "      <td>0.865133</td>\n",
       "      <td>0.861854</td>\n",
       "      <td>0.853502</td>\n",
       "      <td>0.831978</td>\n",
       "      <td>0.828043</td>\n",
       "      <td>...</td>\n",
       "      <td>0.814367</td>\n",
       "      <td>0.840298</td>\n",
       "      <td>0.891623</td>\n",
       "      <td>0.889749</td>\n",
       "      <td>0.912506</td>\n",
       "      <td>0.881394</td>\n",
       "      <td>0.866206</td>\n",
       "      <td>0.833391</td>\n",
       "      <td>0.866083</td>\n",
       "      <td>0.870663</td>\n",
       "    </tr>\n",
       "    <tr>\n",
       "      <th>1</th>\n",
       "      <td>cg19345671</td>\n",
       "      <td>0.793271</td>\n",
       "      <td>0.809230</td>\n",
       "      <td>0.691481</td>\n",
       "      <td>0.824447</td>\n",
       "      <td>0.662419</td>\n",
       "      <td>0.887864</td>\n",
       "      <td>0.776712</td>\n",
       "      <td>0.749857</td>\n",
       "      <td>0.741992</td>\n",
       "      <td>...</td>\n",
       "      <td>0.779721</td>\n",
       "      <td>0.836410</td>\n",
       "      <td>0.916526</td>\n",
       "      <td>0.788692</td>\n",
       "      <td>0.917036</td>\n",
       "      <td>0.825727</td>\n",
       "      <td>0.795392</td>\n",
       "      <td>0.765461</td>\n",
       "      <td>0.830673</td>\n",
       "      <td>0.759323</td>\n",
       "    </tr>\n",
       "    <tr>\n",
       "      <th>2</th>\n",
       "      <td>cg13769834</td>\n",
       "      <td>0.114687</td>\n",
       "      <td>0.120948</td>\n",
       "      <td>0.086329</td>\n",
       "      <td>0.061610</td>\n",
       "      <td>0.082506</td>\n",
       "      <td>0.064574</td>\n",
       "      <td>0.139889</td>\n",
       "      <td>0.100763</td>\n",
       "      <td>0.090943</td>\n",
       "      <td>...</td>\n",
       "      <td>0.212315</td>\n",
       "      <td>0.562893</td>\n",
       "      <td>0.628250</td>\n",
       "      <td>0.405984</td>\n",
       "      <td>0.640967</td>\n",
       "      <td>0.606170</td>\n",
       "      <td>0.639977</td>\n",
       "      <td>0.433561</td>\n",
       "      <td>0.373610</td>\n",
       "      <td>0.164935</td>\n",
       "    </tr>\n",
       "    <tr>\n",
       "      <th>3</th>\n",
       "      <td>cg25795456</td>\n",
       "      <td>0.034696</td>\n",
       "      <td>0.025562</td>\n",
       "      <td>0.022618</td>\n",
       "      <td>0.019339</td>\n",
       "      <td>0.024973</td>\n",
       "      <td>0.025742</td>\n",
       "      <td>0.035390</td>\n",
       "      <td>0.027250</td>\n",
       "      <td>0.026746</td>\n",
       "      <td>...</td>\n",
       "      <td>0.008614</td>\n",
       "      <td>0.029170</td>\n",
       "      <td>0.027695</td>\n",
       "      <td>0.044917</td>\n",
       "      <td>0.009303</td>\n",
       "      <td>0.033762</td>\n",
       "      <td>0.047799</td>\n",
       "      <td>0.024714</td>\n",
       "      <td>0.044599</td>\n",
       "      <td>0.041490</td>\n",
       "    </tr>\n",
       "    <tr>\n",
       "      <th>4</th>\n",
       "      <td>cg25702335</td>\n",
       "      <td>0.039718</td>\n",
       "      <td>0.023963</td>\n",
       "      <td>0.027325</td>\n",
       "      <td>0.031946</td>\n",
       "      <td>0.043130</td>\n",
       "      <td>0.046582</td>\n",
       "      <td>0.035457</td>\n",
       "      <td>0.034015</td>\n",
       "      <td>0.027782</td>\n",
       "      <td>...</td>\n",
       "      <td>0.073684</td>\n",
       "      <td>0.237586</td>\n",
       "      <td>0.751319</td>\n",
       "      <td>0.111242</td>\n",
       "      <td>0.727385</td>\n",
       "      <td>0.391101</td>\n",
       "      <td>0.580766</td>\n",
       "      <td>0.046143</td>\n",
       "      <td>0.400281</td>\n",
       "      <td>0.035732</td>\n",
       "    </tr>\n",
       "    <tr>\n",
       "      <th>...</th>\n",
       "      <td>...</td>\n",
       "      <td>...</td>\n",
       "      <td>...</td>\n",
       "      <td>...</td>\n",
       "      <td>...</td>\n",
       "      <td>...</td>\n",
       "      <td>...</td>\n",
       "      <td>...</td>\n",
       "      <td>...</td>\n",
       "      <td>...</td>\n",
       "      <td>...</td>\n",
       "      <td>...</td>\n",
       "      <td>...</td>\n",
       "      <td>...</td>\n",
       "      <td>...</td>\n",
       "      <td>...</td>\n",
       "      <td>...</td>\n",
       "      <td>...</td>\n",
       "      <td>...</td>\n",
       "      <td>...</td>\n",
       "      <td>...</td>\n",
       "    </tr>\n",
       "    <tr>\n",
       "      <th>115115</th>\n",
       "      <td>cg15600987</td>\n",
       "      <td>0.442904</td>\n",
       "      <td>0.443174</td>\n",
       "      <td>0.471574</td>\n",
       "      <td>0.411660</td>\n",
       "      <td>0.442324</td>\n",
       "      <td>0.359102</td>\n",
       "      <td>0.374901</td>\n",
       "      <td>0.471972</td>\n",
       "      <td>0.429219</td>\n",
       "      <td>...</td>\n",
       "      <td>0.319562</td>\n",
       "      <td>0.402289</td>\n",
       "      <td>0.445595</td>\n",
       "      <td>0.339822</td>\n",
       "      <td>0.448358</td>\n",
       "      <td>0.448878</td>\n",
       "      <td>0.442842</td>\n",
       "      <td>0.319368</td>\n",
       "      <td>0.342104</td>\n",
       "      <td>0.216977</td>\n",
       "    </tr>\n",
       "    <tr>\n",
       "      <th>115116</th>\n",
       "      <td>cg10056854</td>\n",
       "      <td>0.052698</td>\n",
       "      <td>0.055184</td>\n",
       "      <td>0.045917</td>\n",
       "      <td>0.039327</td>\n",
       "      <td>0.053807</td>\n",
       "      <td>0.062856</td>\n",
       "      <td>0.061548</td>\n",
       "      <td>0.063179</td>\n",
       "      <td>0.051123</td>\n",
       "      <td>...</td>\n",
       "      <td>0.030377</td>\n",
       "      <td>0.052215</td>\n",
       "      <td>0.030419</td>\n",
       "      <td>0.066501</td>\n",
       "      <td>0.059183</td>\n",
       "      <td>0.059660</td>\n",
       "      <td>0.056958</td>\n",
       "      <td>0.056765</td>\n",
       "      <td>0.068061</td>\n",
       "      <td>0.049953</td>\n",
       "    </tr>\n",
       "    <tr>\n",
       "      <th>115117</th>\n",
       "      <td>cg03203197</td>\n",
       "      <td>0.939081</td>\n",
       "      <td>0.960303</td>\n",
       "      <td>0.919834</td>\n",
       "      <td>0.938879</td>\n",
       "      <td>0.936677</td>\n",
       "      <td>0.933900</td>\n",
       "      <td>0.945433</td>\n",
       "      <td>0.928534</td>\n",
       "      <td>0.943005</td>\n",
       "      <td>...</td>\n",
       "      <td>0.966007</td>\n",
       "      <td>0.959278</td>\n",
       "      <td>0.886782</td>\n",
       "      <td>0.933373</td>\n",
       "      <td>0.965012</td>\n",
       "      <td>0.972311</td>\n",
       "      <td>0.952748</td>\n",
       "      <td>0.947105</td>\n",
       "      <td>0.948618</td>\n",
       "      <td>0.952202</td>\n",
       "    </tr>\n",
       "    <tr>\n",
       "      <th>115118</th>\n",
       "      <td>cg03892838</td>\n",
       "      <td>0.941956</td>\n",
       "      <td>0.974191</td>\n",
       "      <td>0.952373</td>\n",
       "      <td>0.956868</td>\n",
       "      <td>0.933276</td>\n",
       "      <td>0.946977</td>\n",
       "      <td>0.944806</td>\n",
       "      <td>0.952743</td>\n",
       "      <td>0.949042</td>\n",
       "      <td>...</td>\n",
       "      <td>0.721367</td>\n",
       "      <td>0.976652</td>\n",
       "      <td>0.829595</td>\n",
       "      <td>0.689539</td>\n",
       "      <td>0.972567</td>\n",
       "      <td>0.956279</td>\n",
       "      <td>0.965551</td>\n",
       "      <td>0.930111</td>\n",
       "      <td>0.968978</td>\n",
       "      <td>0.955484</td>\n",
       "    </tr>\n",
       "    <tr>\n",
       "      <th>115119</th>\n",
       "      <td>label</td>\n",
       "      <td>0.000000</td>\n",
       "      <td>0.000000</td>\n",
       "      <td>0.000000</td>\n",
       "      <td>0.000000</td>\n",
       "      <td>0.000000</td>\n",
       "      <td>0.000000</td>\n",
       "      <td>0.000000</td>\n",
       "      <td>0.000000</td>\n",
       "      <td>0.000000</td>\n",
       "      <td>...</td>\n",
       "      <td>1.000000</td>\n",
       "      <td>1.000000</td>\n",
       "      <td>1.000000</td>\n",
       "      <td>1.000000</td>\n",
       "      <td>1.000000</td>\n",
       "      <td>1.000000</td>\n",
       "      <td>1.000000</td>\n",
       "      <td>1.000000</td>\n",
       "      <td>1.000000</td>\n",
       "      <td>1.000000</td>\n",
       "    </tr>\n",
       "  </tbody>\n",
       "</table>\n",
       "<p>115120 rows × 1087 columns</p>\n",
       "</div>"
      ],
      "text/plain": [
       "        Unnamed: 0         0         1         2         3         4  \\\n",
       "0       cg11829380  0.863162  0.872752  0.842748  0.870104  0.865133   \n",
       "1       cg19345671  0.793271  0.809230  0.691481  0.824447  0.662419   \n",
       "2       cg13769834  0.114687  0.120948  0.086329  0.061610  0.082506   \n",
       "3       cg25795456  0.034696  0.025562  0.022618  0.019339  0.024973   \n",
       "4       cg25702335  0.039718  0.023963  0.027325  0.031946  0.043130   \n",
       "...            ...       ...       ...       ...       ...       ...   \n",
       "115115  cg15600987  0.442904  0.443174  0.471574  0.411660  0.442324   \n",
       "115116  cg10056854  0.052698  0.055184  0.045917  0.039327  0.053807   \n",
       "115117  cg03203197  0.939081  0.960303  0.919834  0.938879  0.936677   \n",
       "115118  cg03892838  0.941956  0.974191  0.952373  0.956868  0.933276   \n",
       "115119       label  0.000000  0.000000  0.000000  0.000000  0.000000   \n",
       "\n",
       "               5         6         7         8  ...      1076      1077  \\\n",
       "0       0.861854  0.853502  0.831978  0.828043  ...  0.814367  0.840298   \n",
       "1       0.887864  0.776712  0.749857  0.741992  ...  0.779721  0.836410   \n",
       "2       0.064574  0.139889  0.100763  0.090943  ...  0.212315  0.562893   \n",
       "3       0.025742  0.035390  0.027250  0.026746  ...  0.008614  0.029170   \n",
       "4       0.046582  0.035457  0.034015  0.027782  ...  0.073684  0.237586   \n",
       "...          ...       ...       ...       ...  ...       ...       ...   \n",
       "115115  0.359102  0.374901  0.471972  0.429219  ...  0.319562  0.402289   \n",
       "115116  0.062856  0.061548  0.063179  0.051123  ...  0.030377  0.052215   \n",
       "115117  0.933900  0.945433  0.928534  0.943005  ...  0.966007  0.959278   \n",
       "115118  0.946977  0.944806  0.952743  0.949042  ...  0.721367  0.976652   \n",
       "115119  0.000000  0.000000  0.000000  0.000000  ...  1.000000  1.000000   \n",
       "\n",
       "            1078      1079      1080      1081      1082      1083      1084  \\\n",
       "0       0.891623  0.889749  0.912506  0.881394  0.866206  0.833391  0.866083   \n",
       "1       0.916526  0.788692  0.917036  0.825727  0.795392  0.765461  0.830673   \n",
       "2       0.628250  0.405984  0.640967  0.606170  0.639977  0.433561  0.373610   \n",
       "3       0.027695  0.044917  0.009303  0.033762  0.047799  0.024714  0.044599   \n",
       "4       0.751319  0.111242  0.727385  0.391101  0.580766  0.046143  0.400281   \n",
       "...          ...       ...       ...       ...       ...       ...       ...   \n",
       "115115  0.445595  0.339822  0.448358  0.448878  0.442842  0.319368  0.342104   \n",
       "115116  0.030419  0.066501  0.059183  0.059660  0.056958  0.056765  0.068061   \n",
       "115117  0.886782  0.933373  0.965012  0.972311  0.952748  0.947105  0.948618   \n",
       "115118  0.829595  0.689539  0.972567  0.956279  0.965551  0.930111  0.968978   \n",
       "115119  1.000000  1.000000  1.000000  1.000000  1.000000  1.000000  1.000000   \n",
       "\n",
       "            1085  \n",
       "0       0.870663  \n",
       "1       0.759323  \n",
       "2       0.164935  \n",
       "3       0.041490  \n",
       "4       0.035732  \n",
       "...          ...  \n",
       "115115  0.216977  \n",
       "115116  0.049953  \n",
       "115117  0.952202  \n",
       "115118  0.955484  \n",
       "115119  1.000000  \n",
       "\n",
       "[115120 rows x 1087 columns]"
      ]
     },
     "execution_count": 37,
     "metadata": {},
     "output_type": "execute_result"
    }
   ],
   "source": [
    "# DEBUG\n",
    "train_df\n",
    "# END"
   ]
  },
  {
   "cell_type": "code",
   "execution_count": 38,
   "metadata": {},
   "outputs": [
    {
     "data": {
      "text/html": [
       "<div>\n",
       "<style scoped>\n",
       "    .dataframe tbody tr th:only-of-type {\n",
       "        vertical-align: middle;\n",
       "    }\n",
       "\n",
       "    .dataframe tbody tr th {\n",
       "        vertical-align: top;\n",
       "    }\n",
       "\n",
       "    .dataframe thead th {\n",
       "        text-align: right;\n",
       "    }\n",
       "</style>\n",
       "<table border=\"1\" class=\"dataframe\">\n",
       "  <thead>\n",
       "    <tr style=\"text-align: right;\">\n",
       "      <th></th>\n",
       "      <th>Unnamed: 0</th>\n",
       "      <th>0</th>\n",
       "      <th>1</th>\n",
       "      <th>2</th>\n",
       "      <th>3</th>\n",
       "      <th>4</th>\n",
       "      <th>5</th>\n",
       "      <th>6</th>\n",
       "      <th>7</th>\n",
       "      <th>8</th>\n",
       "      <th>...</th>\n",
       "      <th>141</th>\n",
       "      <th>142</th>\n",
       "      <th>143</th>\n",
       "      <th>144</th>\n",
       "      <th>145</th>\n",
       "      <th>146</th>\n",
       "      <th>147</th>\n",
       "      <th>148</th>\n",
       "      <th>149</th>\n",
       "      <th>150</th>\n",
       "    </tr>\n",
       "  </thead>\n",
       "  <tbody>\n",
       "    <tr>\n",
       "      <th>0</th>\n",
       "      <td>cg11829380</td>\n",
       "      <td>0.882055</td>\n",
       "      <td>0.844243</td>\n",
       "      <td>0.874959</td>\n",
       "      <td>0.837964</td>\n",
       "      <td>0.859828</td>\n",
       "      <td>0.867264</td>\n",
       "      <td>0.883532</td>\n",
       "      <td>0.866782</td>\n",
       "      <td>0.874302</td>\n",
       "      <td>...</td>\n",
       "      <td>0.874250</td>\n",
       "      <td>0.889290</td>\n",
       "      <td>0.899768</td>\n",
       "      <td>0.894932</td>\n",
       "      <td>0.858987</td>\n",
       "      <td>0.865169</td>\n",
       "      <td>0.836599</td>\n",
       "      <td>0.843830</td>\n",
       "      <td>0.886915</td>\n",
       "      <td>0.863374</td>\n",
       "    </tr>\n",
       "    <tr>\n",
       "      <th>1</th>\n",
       "      <td>cg19345671</td>\n",
       "      <td>0.848587</td>\n",
       "      <td>0.793554</td>\n",
       "      <td>0.814811</td>\n",
       "      <td>0.812133</td>\n",
       "      <td>0.881907</td>\n",
       "      <td>0.793186</td>\n",
       "      <td>0.847782</td>\n",
       "      <td>0.925544</td>\n",
       "      <td>0.786932</td>\n",
       "      <td>...</td>\n",
       "      <td>0.813906</td>\n",
       "      <td>0.779295</td>\n",
       "      <td>0.884628</td>\n",
       "      <td>0.843706</td>\n",
       "      <td>0.876446</td>\n",
       "      <td>0.860537</td>\n",
       "      <td>0.808591</td>\n",
       "      <td>0.696881</td>\n",
       "      <td>0.857415</td>\n",
       "      <td>0.871801</td>\n",
       "    </tr>\n",
       "    <tr>\n",
       "      <th>2</th>\n",
       "      <td>cg13769834</td>\n",
       "      <td>0.123222</td>\n",
       "      <td>0.099305</td>\n",
       "      <td>0.096527</td>\n",
       "      <td>0.069474</td>\n",
       "      <td>0.073219</td>\n",
       "      <td>0.146764</td>\n",
       "      <td>0.108394</td>\n",
       "      <td>0.070445</td>\n",
       "      <td>0.102171</td>\n",
       "      <td>...</td>\n",
       "      <td>0.642706</td>\n",
       "      <td>0.051394</td>\n",
       "      <td>0.683070</td>\n",
       "      <td>0.341776</td>\n",
       "      <td>0.027865</td>\n",
       "      <td>0.362868</td>\n",
       "      <td>0.023059</td>\n",
       "      <td>0.152538</td>\n",
       "      <td>0.347627</td>\n",
       "      <td>0.651526</td>\n",
       "    </tr>\n",
       "    <tr>\n",
       "      <th>3</th>\n",
       "      <td>cg25795456</td>\n",
       "      <td>0.085896</td>\n",
       "      <td>0.028458</td>\n",
       "      <td>0.021660</td>\n",
       "      <td>0.035275</td>\n",
       "      <td>0.011456</td>\n",
       "      <td>0.026836</td>\n",
       "      <td>0.029587</td>\n",
       "      <td>0.034231</td>\n",
       "      <td>0.025665</td>\n",
       "      <td>...</td>\n",
       "      <td>0.047845</td>\n",
       "      <td>0.022555</td>\n",
       "      <td>0.070825</td>\n",
       "      <td>0.030787</td>\n",
       "      <td>0.023187</td>\n",
       "      <td>0.045941</td>\n",
       "      <td>0.030418</td>\n",
       "      <td>0.028216</td>\n",
       "      <td>0.026659</td>\n",
       "      <td>0.053677</td>\n",
       "    </tr>\n",
       "    <tr>\n",
       "      <th>4</th>\n",
       "      <td>cg25702335</td>\n",
       "      <td>0.063606</td>\n",
       "      <td>0.025645</td>\n",
       "      <td>0.023367</td>\n",
       "      <td>0.026357</td>\n",
       "      <td>0.047802</td>\n",
       "      <td>0.027035</td>\n",
       "      <td>0.044525</td>\n",
       "      <td>0.049881</td>\n",
       "      <td>0.026789</td>\n",
       "      <td>...</td>\n",
       "      <td>0.412761</td>\n",
       "      <td>0.042028</td>\n",
       "      <td>0.370334</td>\n",
       "      <td>0.046550</td>\n",
       "      <td>0.354420</td>\n",
       "      <td>0.035670</td>\n",
       "      <td>0.025877</td>\n",
       "      <td>0.171156</td>\n",
       "      <td>0.625426</td>\n",
       "      <td>0.760026</td>\n",
       "    </tr>\n",
       "    <tr>\n",
       "      <th>...</th>\n",
       "      <td>...</td>\n",
       "      <td>...</td>\n",
       "      <td>...</td>\n",
       "      <td>...</td>\n",
       "      <td>...</td>\n",
       "      <td>...</td>\n",
       "      <td>...</td>\n",
       "      <td>...</td>\n",
       "      <td>...</td>\n",
       "      <td>...</td>\n",
       "      <td>...</td>\n",
       "      <td>...</td>\n",
       "      <td>...</td>\n",
       "      <td>...</td>\n",
       "      <td>...</td>\n",
       "      <td>...</td>\n",
       "      <td>...</td>\n",
       "      <td>...</td>\n",
       "      <td>...</td>\n",
       "      <td>...</td>\n",
       "      <td>...</td>\n",
       "    </tr>\n",
       "    <tr>\n",
       "      <th>115115</th>\n",
       "      <td>cg15600987</td>\n",
       "      <td>0.380426</td>\n",
       "      <td>0.440188</td>\n",
       "      <td>0.438925</td>\n",
       "      <td>0.397068</td>\n",
       "      <td>0.438248</td>\n",
       "      <td>0.482187</td>\n",
       "      <td>0.430714</td>\n",
       "      <td>0.421014</td>\n",
       "      <td>0.441116</td>\n",
       "      <td>...</td>\n",
       "      <td>0.518984</td>\n",
       "      <td>0.470090</td>\n",
       "      <td>0.406311</td>\n",
       "      <td>0.289743</td>\n",
       "      <td>0.260730</td>\n",
       "      <td>0.879570</td>\n",
       "      <td>0.194502</td>\n",
       "      <td>0.456111</td>\n",
       "      <td>0.463608</td>\n",
       "      <td>0.793403</td>\n",
       "    </tr>\n",
       "    <tr>\n",
       "      <th>115116</th>\n",
       "      <td>cg10056854</td>\n",
       "      <td>0.077322</td>\n",
       "      <td>0.071702</td>\n",
       "      <td>0.041557</td>\n",
       "      <td>0.061390</td>\n",
       "      <td>0.039365</td>\n",
       "      <td>0.046658</td>\n",
       "      <td>0.053691</td>\n",
       "      <td>0.075484</td>\n",
       "      <td>0.056167</td>\n",
       "      <td>...</td>\n",
       "      <td>0.072899</td>\n",
       "      <td>0.051264</td>\n",
       "      <td>0.102891</td>\n",
       "      <td>0.054960</td>\n",
       "      <td>0.040415</td>\n",
       "      <td>0.079437</td>\n",
       "      <td>0.052878</td>\n",
       "      <td>0.103272</td>\n",
       "      <td>0.066247</td>\n",
       "      <td>0.071990</td>\n",
       "    </tr>\n",
       "    <tr>\n",
       "      <th>115117</th>\n",
       "      <td>cg03203197</td>\n",
       "      <td>0.946231</td>\n",
       "      <td>0.943473</td>\n",
       "      <td>0.970245</td>\n",
       "      <td>0.953241</td>\n",
       "      <td>0.962961</td>\n",
       "      <td>0.947608</td>\n",
       "      <td>0.937107</td>\n",
       "      <td>0.969262</td>\n",
       "      <td>0.972769</td>\n",
       "      <td>...</td>\n",
       "      <td>0.956788</td>\n",
       "      <td>0.963590</td>\n",
       "      <td>0.960122</td>\n",
       "      <td>0.935863</td>\n",
       "      <td>0.802307</td>\n",
       "      <td>0.955470</td>\n",
       "      <td>0.928665</td>\n",
       "      <td>0.955653</td>\n",
       "      <td>0.963785</td>\n",
       "      <td>0.962310</td>\n",
       "    </tr>\n",
       "    <tr>\n",
       "      <th>115118</th>\n",
       "      <td>cg03892838</td>\n",
       "      <td>0.955418</td>\n",
       "      <td>0.969292</td>\n",
       "      <td>0.958887</td>\n",
       "      <td>0.950154</td>\n",
       "      <td>0.949991</td>\n",
       "      <td>0.960743</td>\n",
       "      <td>0.947887</td>\n",
       "      <td>0.971930</td>\n",
       "      <td>0.957371</td>\n",
       "      <td>...</td>\n",
       "      <td>0.954225</td>\n",
       "      <td>0.923363</td>\n",
       "      <td>0.899872</td>\n",
       "      <td>0.682922</td>\n",
       "      <td>0.835915</td>\n",
       "      <td>0.861241</td>\n",
       "      <td>0.955836</td>\n",
       "      <td>0.858045</td>\n",
       "      <td>0.971855</td>\n",
       "      <td>0.957601</td>\n",
       "    </tr>\n",
       "    <tr>\n",
       "      <th>115119</th>\n",
       "      <td>label</td>\n",
       "      <td>0.000000</td>\n",
       "      <td>0.000000</td>\n",
       "      <td>0.000000</td>\n",
       "      <td>0.000000</td>\n",
       "      <td>0.000000</td>\n",
       "      <td>0.000000</td>\n",
       "      <td>0.000000</td>\n",
       "      <td>0.000000</td>\n",
       "      <td>0.000000</td>\n",
       "      <td>...</td>\n",
       "      <td>1.000000</td>\n",
       "      <td>1.000000</td>\n",
       "      <td>1.000000</td>\n",
       "      <td>1.000000</td>\n",
       "      <td>1.000000</td>\n",
       "      <td>1.000000</td>\n",
       "      <td>1.000000</td>\n",
       "      <td>1.000000</td>\n",
       "      <td>1.000000</td>\n",
       "      <td>1.000000</td>\n",
       "    </tr>\n",
       "  </tbody>\n",
       "</table>\n",
       "<p>115120 rows × 152 columns</p>\n",
       "</div>"
      ],
      "text/plain": [
       "        Unnamed: 0         0         1         2         3         4  \\\n",
       "0       cg11829380  0.882055  0.844243  0.874959  0.837964  0.859828   \n",
       "1       cg19345671  0.848587  0.793554  0.814811  0.812133  0.881907   \n",
       "2       cg13769834  0.123222  0.099305  0.096527  0.069474  0.073219   \n",
       "3       cg25795456  0.085896  0.028458  0.021660  0.035275  0.011456   \n",
       "4       cg25702335  0.063606  0.025645  0.023367  0.026357  0.047802   \n",
       "...            ...       ...       ...       ...       ...       ...   \n",
       "115115  cg15600987  0.380426  0.440188  0.438925  0.397068  0.438248   \n",
       "115116  cg10056854  0.077322  0.071702  0.041557  0.061390  0.039365   \n",
       "115117  cg03203197  0.946231  0.943473  0.970245  0.953241  0.962961   \n",
       "115118  cg03892838  0.955418  0.969292  0.958887  0.950154  0.949991   \n",
       "115119       label  0.000000  0.000000  0.000000  0.000000  0.000000   \n",
       "\n",
       "               5         6         7         8  ...       141       142  \\\n",
       "0       0.867264  0.883532  0.866782  0.874302  ...  0.874250  0.889290   \n",
       "1       0.793186  0.847782  0.925544  0.786932  ...  0.813906  0.779295   \n",
       "2       0.146764  0.108394  0.070445  0.102171  ...  0.642706  0.051394   \n",
       "3       0.026836  0.029587  0.034231  0.025665  ...  0.047845  0.022555   \n",
       "4       0.027035  0.044525  0.049881  0.026789  ...  0.412761  0.042028   \n",
       "...          ...       ...       ...       ...  ...       ...       ...   \n",
       "115115  0.482187  0.430714  0.421014  0.441116  ...  0.518984  0.470090   \n",
       "115116  0.046658  0.053691  0.075484  0.056167  ...  0.072899  0.051264   \n",
       "115117  0.947608  0.937107  0.969262  0.972769  ...  0.956788  0.963590   \n",
       "115118  0.960743  0.947887  0.971930  0.957371  ...  0.954225  0.923363   \n",
       "115119  0.000000  0.000000  0.000000  0.000000  ...  1.000000  1.000000   \n",
       "\n",
       "             143       144       145       146       147       148       149  \\\n",
       "0       0.899768  0.894932  0.858987  0.865169  0.836599  0.843830  0.886915   \n",
       "1       0.884628  0.843706  0.876446  0.860537  0.808591  0.696881  0.857415   \n",
       "2       0.683070  0.341776  0.027865  0.362868  0.023059  0.152538  0.347627   \n",
       "3       0.070825  0.030787  0.023187  0.045941  0.030418  0.028216  0.026659   \n",
       "4       0.370334  0.046550  0.354420  0.035670  0.025877  0.171156  0.625426   \n",
       "...          ...       ...       ...       ...       ...       ...       ...   \n",
       "115115  0.406311  0.289743  0.260730  0.879570  0.194502  0.456111  0.463608   \n",
       "115116  0.102891  0.054960  0.040415  0.079437  0.052878  0.103272  0.066247   \n",
       "115117  0.960122  0.935863  0.802307  0.955470  0.928665  0.955653  0.963785   \n",
       "115118  0.899872  0.682922  0.835915  0.861241  0.955836  0.858045  0.971855   \n",
       "115119  1.000000  1.000000  1.000000  1.000000  1.000000  1.000000  1.000000   \n",
       "\n",
       "             150  \n",
       "0       0.863374  \n",
       "1       0.871801  \n",
       "2       0.651526  \n",
       "3       0.053677  \n",
       "4       0.760026  \n",
       "...          ...  \n",
       "115115  0.793403  \n",
       "115116  0.071990  \n",
       "115117  0.962310  \n",
       "115118  0.957601  \n",
       "115119  1.000000  \n",
       "\n",
       "[115120 rows x 152 columns]"
      ]
     },
     "execution_count": 38,
     "metadata": {},
     "output_type": "execute_result"
    }
   ],
   "source": [
    "# DEBUG\n",
    "test_df\n",
    "# END"
   ]
  },
  {
   "cell_type": "code",
   "execution_count": 39,
   "metadata": {},
   "outputs": [],
   "source": [
    "os.makedirs(f\"{trainOutPath}\", exist_ok=True)\n",
    "os.makedirs(\n",
    "    f\"{testOutPath}\",\n",
    "    exist_ok=True,\n",
    ")\n",
    "\n",
    "train_df.to_csv(f\"{trainOutPath}/all_beta_normalized_0.csv\", index=False)\n",
    "test_df.to_csv(f\"{testOutPath}/all_beta_normalized_1.csv\", index=False)"
   ]
  },
  {
   "cell_type": "code",
   "execution_count": 40,
   "metadata": {},
   "outputs": [],
   "source": [
    "del train_df, test_df"
   ]
  },
  {
   "cell_type": "code",
   "execution_count": 41,
   "metadata": {},
   "outputs": [],
   "source": [
    "zip_filename = f\"{TYPE}_beta_files.zip\""
   ]
  },
  {
   "cell_type": "code",
   "execution_count": 42,
   "metadata": {},
   "outputs": [],
   "source": [
    "import zipfile\n",
    "\n",
    "with zipfile.ZipFile(zip_filename, \"w\") as zipf:\n",
    "    zipf.write(\n",
    "        f\"{trainOutPath}/all_beta_normalized_0.csv\", arcname=\"all_beta_normalized_0.csv\"\n",
    "    )\n",
    "    zipf.write(\n",
    "        f\"{testOutPath}/all_beta_normalized_1.csv\", arcname=\"all_beta_normalized_1.csv\"\n",
    "    )"
   ]
  },
  {
   "cell_type": "code",
   "execution_count": 43,
   "metadata": {},
   "outputs": [
    {
     "name": "stdout",
     "output_type": "stream",
     "text": [
      "Please visit this URL to authorize this application: https://accounts.google.com/o/oauth2/auth?response_type=code&client_id=260407430533-mtnvh98d2pv3eo7mgb14h6en5827k7b5.apps.googleusercontent.com&redirect_uri=http%3A%2F%2Flocalhost%3A14728%2F&scope=https%3A%2F%2Fwww.googleapis.com%2Fauth%2Fdrive.file&state=zkRitlI3rK9xVLPC7hIwofYz2hRV69&access_type=offline\n"
     ]
    },
    {
     "name": "stderr",
     "output_type": "stream",
     "text": [
      "INFO:google_auth_oauthlib.flow:\"GET /?state=zkRitlI3rK9xVLPC7hIwofYz2hRV69&code=4/0AanRRrsAlCFZqdvSdq6thRCYlOzYqD9I8K-a_1YLt2RqCmkF8VMAsxo8pBEnxU8rhn6-WQ&scope=https://www.googleapis.com/auth/drive.file HTTP/1.1\" 200 65\n",
      "INFO:api.utils:New credentials obtained.\n",
      "INFO:api.utils:Credentials saved to token.pickle.\n",
      "INFO:googleapiclient.discovery_cache:file_cache is only supported with oauth2client<4.0.0\n"
     ]
    }
   ],
   "source": [
    "from api import utils\n",
    "service = utils.authenticate_drive()"
   ]
  },
  {
   "cell_type": "code",
   "execution_count": 44,
   "metadata": {},
   "outputs": [
    {
     "name": "stdout",
     "output_type": "stream",
     "text": [
      "Created folder 'lung' with ID: 1jyrsvxFbTjgrf4Pjf9S5eKfgOVycNQGo\n"
     ]
    }
   ],
   "source": [
    "directory = utils.create_folder(service, TYPE)"
   ]
  },
  {
   "cell_type": "code",
   "execution_count": 45,
   "metadata": {},
   "outputs": [
    {
     "name": "stderr",
     "output_type": "stream",
     "text": [
      "INFO:api.utils:Upload 0% complete for lung_beta_files.zip\n",
      "INFO:api.utils:Upload 0% complete for lung_beta_files.zip\n",
      "INFO:api.utils:Upload 0% complete for lung_beta_files.zip\n",
      "INFO:api.utils:Upload 0% complete for lung_beta_files.zip\n",
      "INFO:api.utils:Upload 0% complete for lung_beta_files.zip\n",
      "INFO:api.utils:Upload 1% complete for lung_beta_files.zip\n",
      "INFO:api.utils:Upload 1% complete for lung_beta_files.zip\n",
      "INFO:api.utils:Upload 1% complete for lung_beta_files.zip\n",
      "INFO:api.utils:Upload 1% complete for lung_beta_files.zip\n",
      "INFO:api.utils:Upload 1% complete for lung_beta_files.zip\n",
      "INFO:api.utils:Upload 2% complete for lung_beta_files.zip\n",
      "INFO:api.utils:Upload 2% complete for lung_beta_files.zip\n",
      "INFO:api.utils:Upload 2% complete for lung_beta_files.zip\n",
      "INFO:api.utils:Upload 2% complete for lung_beta_files.zip\n",
      "INFO:api.utils:Upload 2% complete for lung_beta_files.zip\n",
      "INFO:api.utils:Upload 3% complete for lung_beta_files.zip\n",
      "INFO:api.utils:Upload 3% complete for lung_beta_files.zip\n",
      "INFO:api.utils:Upload 3% complete for lung_beta_files.zip\n",
      "INFO:api.utils:Upload 3% complete for lung_beta_files.zip\n",
      "INFO:api.utils:Upload 3% complete for lung_beta_files.zip\n",
      "INFO:api.utils:Upload 4% complete for lung_beta_files.zip\n",
      "INFO:api.utils:Upload 4% complete for lung_beta_files.zip\n",
      "INFO:api.utils:Upload 4% complete for lung_beta_files.zip\n",
      "INFO:api.utils:Upload 4% complete for lung_beta_files.zip\n",
      "INFO:api.utils:Upload 4% complete for lung_beta_files.zip\n",
      "INFO:api.utils:Upload 5% complete for lung_beta_files.zip\n",
      "INFO:api.utils:Upload 5% complete for lung_beta_files.zip\n",
      "INFO:api.utils:Upload 5% complete for lung_beta_files.zip\n",
      "INFO:api.utils:Upload 5% complete for lung_beta_files.zip\n",
      "INFO:api.utils:Upload 5% complete for lung_beta_files.zip\n",
      "INFO:api.utils:Upload 6% complete for lung_beta_files.zip\n",
      "INFO:api.utils:Upload 6% complete for lung_beta_files.zip\n",
      "INFO:api.utils:Upload 6% complete for lung_beta_files.zip\n",
      "INFO:api.utils:Upload 6% complete for lung_beta_files.zip\n",
      "INFO:api.utils:Upload 6% complete for lung_beta_files.zip\n",
      "INFO:api.utils:Upload 7% complete for lung_beta_files.zip\n",
      "INFO:api.utils:Upload 7% complete for lung_beta_files.zip\n",
      "INFO:api.utils:Upload 7% complete for lung_beta_files.zip\n",
      "INFO:api.utils:Upload 7% complete for lung_beta_files.zip\n",
      "INFO:api.utils:Upload 7% complete for lung_beta_files.zip\n",
      "INFO:api.utils:Upload 7% complete for lung_beta_files.zip\n",
      "INFO:api.utils:Upload 8% complete for lung_beta_files.zip\n",
      "INFO:api.utils:Upload 8% complete for lung_beta_files.zip\n",
      "INFO:api.utils:Upload 8% complete for lung_beta_files.zip\n",
      "INFO:api.utils:Upload 8% complete for lung_beta_files.zip\n",
      "INFO:api.utils:Upload 8% complete for lung_beta_files.zip\n",
      "INFO:api.utils:Upload 9% complete for lung_beta_files.zip\n",
      "INFO:api.utils:Upload 9% complete for lung_beta_files.zip\n",
      "INFO:api.utils:Upload 9% complete for lung_beta_files.zip\n",
      "INFO:api.utils:Upload 9% complete for lung_beta_files.zip\n",
      "INFO:api.utils:Upload 9% complete for lung_beta_files.zip\n",
      "INFO:api.utils:Upload 10% complete for lung_beta_files.zip\n",
      "INFO:api.utils:Upload 10% complete for lung_beta_files.zip\n",
      "INFO:api.utils:Upload 10% complete for lung_beta_files.zip\n",
      "INFO:api.utils:Upload 10% complete for lung_beta_files.zip\n",
      "INFO:api.utils:Upload 10% complete for lung_beta_files.zip\n",
      "INFO:api.utils:Upload 11% complete for lung_beta_files.zip\n",
      "INFO:api.utils:Upload 11% complete for lung_beta_files.zip\n",
      "INFO:api.utils:Upload 11% complete for lung_beta_files.zip\n",
      "INFO:api.utils:Upload 11% complete for lung_beta_files.zip\n",
      "INFO:api.utils:Upload 11% complete for lung_beta_files.zip\n",
      "INFO:api.utils:Upload 12% complete for lung_beta_files.zip\n",
      "INFO:api.utils:Upload 12% complete for lung_beta_files.zip\n",
      "INFO:api.utils:Upload 12% complete for lung_beta_files.zip\n",
      "INFO:api.utils:Upload 12% complete for lung_beta_files.zip\n",
      "INFO:api.utils:Upload 12% complete for lung_beta_files.zip\n",
      "INFO:api.utils:Upload 13% complete for lung_beta_files.zip\n",
      "INFO:api.utils:Upload 13% complete for lung_beta_files.zip\n",
      "INFO:api.utils:Upload 13% complete for lung_beta_files.zip\n",
      "INFO:api.utils:Upload 13% complete for lung_beta_files.zip\n",
      "INFO:api.utils:Upload 13% complete for lung_beta_files.zip\n",
      "INFO:api.utils:Upload 14% complete for lung_beta_files.zip\n",
      "INFO:api.utils:Upload 14% complete for lung_beta_files.zip\n",
      "INFO:api.utils:Upload 14% complete for lung_beta_files.zip\n",
      "INFO:api.utils:Upload 14% complete for lung_beta_files.zip\n",
      "INFO:api.utils:Upload 14% complete for lung_beta_files.zip\n",
      "INFO:api.utils:Upload 14% complete for lung_beta_files.zip\n",
      "INFO:api.utils:Upload 15% complete for lung_beta_files.zip\n",
      "INFO:api.utils:Upload 15% complete for lung_beta_files.zip\n",
      "INFO:api.utils:Upload 15% complete for lung_beta_files.zip\n",
      "INFO:api.utils:Upload 15% complete for lung_beta_files.zip\n",
      "INFO:api.utils:Upload 15% complete for lung_beta_files.zip\n",
      "INFO:api.utils:Upload 16% complete for lung_beta_files.zip\n",
      "INFO:api.utils:Upload 16% complete for lung_beta_files.zip\n",
      "INFO:api.utils:Upload 16% complete for lung_beta_files.zip\n",
      "INFO:api.utils:Upload 16% complete for lung_beta_files.zip\n",
      "INFO:api.utils:Upload 16% complete for lung_beta_files.zip\n",
      "INFO:api.utils:Upload 17% complete for lung_beta_files.zip\n",
      "INFO:api.utils:Upload 17% complete for lung_beta_files.zip\n",
      "INFO:api.utils:Upload 17% complete for lung_beta_files.zip\n",
      "INFO:api.utils:Upload 17% complete for lung_beta_files.zip\n",
      "INFO:api.utils:Upload 17% complete for lung_beta_files.zip\n",
      "INFO:api.utils:Upload 18% complete for lung_beta_files.zip\n",
      "INFO:api.utils:Upload 18% complete for lung_beta_files.zip\n",
      "INFO:api.utils:Upload 18% complete for lung_beta_files.zip\n",
      "INFO:api.utils:Upload 18% complete for lung_beta_files.zip\n",
      "INFO:api.utils:Upload 18% complete for lung_beta_files.zip\n",
      "INFO:api.utils:Upload 19% complete for lung_beta_files.zip\n",
      "INFO:api.utils:Upload 19% complete for lung_beta_files.zip\n",
      "INFO:api.utils:Upload 19% complete for lung_beta_files.zip\n",
      "INFO:api.utils:Upload 19% complete for lung_beta_files.zip\n",
      "INFO:api.utils:Upload 19% complete for lung_beta_files.zip\n",
      "INFO:api.utils:Upload 20% complete for lung_beta_files.zip\n",
      "INFO:api.utils:Upload 20% complete for lung_beta_files.zip\n",
      "INFO:api.utils:Upload 20% complete for lung_beta_files.zip\n",
      "INFO:api.utils:Upload 20% complete for lung_beta_files.zip\n",
      "INFO:api.utils:Upload 20% complete for lung_beta_files.zip\n",
      "INFO:api.utils:Upload 21% complete for lung_beta_files.zip\n",
      "INFO:api.utils:Upload 21% complete for lung_beta_files.zip\n",
      "INFO:api.utils:Upload 21% complete for lung_beta_files.zip\n",
      "INFO:api.utils:Upload 21% complete for lung_beta_files.zip\n",
      "INFO:api.utils:Upload 21% complete for lung_beta_files.zip\n",
      "INFO:api.utils:Upload 21% complete for lung_beta_files.zip\n",
      "INFO:api.utils:Upload 22% complete for lung_beta_files.zip\n",
      "INFO:api.utils:Upload 22% complete for lung_beta_files.zip\n",
      "INFO:api.utils:Upload 22% complete for lung_beta_files.zip\n",
      "INFO:api.utils:Upload 22% complete for lung_beta_files.zip\n",
      "INFO:api.utils:Upload 22% complete for lung_beta_files.zip\n",
      "INFO:api.utils:Upload 23% complete for lung_beta_files.zip\n",
      "INFO:api.utils:Upload 23% complete for lung_beta_files.zip\n",
      "INFO:api.utils:Upload 23% complete for lung_beta_files.zip\n",
      "INFO:api.utils:Upload 23% complete for lung_beta_files.zip\n",
      "INFO:api.utils:Upload 23% complete for lung_beta_files.zip\n",
      "INFO:api.utils:Upload 24% complete for lung_beta_files.zip\n",
      "INFO:api.utils:Upload 24% complete for lung_beta_files.zip\n",
      "INFO:api.utils:Upload 24% complete for lung_beta_files.zip\n",
      "INFO:api.utils:Upload 24% complete for lung_beta_files.zip\n",
      "INFO:api.utils:Upload 24% complete for lung_beta_files.zip\n",
      "INFO:api.utils:Upload 25% complete for lung_beta_files.zip\n",
      "INFO:api.utils:Upload 25% complete for lung_beta_files.zip\n",
      "INFO:api.utils:Upload 25% complete for lung_beta_files.zip\n",
      "INFO:api.utils:Upload 25% complete for lung_beta_files.zip\n",
      "INFO:api.utils:Upload 25% complete for lung_beta_files.zip\n",
      "INFO:api.utils:Upload 26% complete for lung_beta_files.zip\n",
      "INFO:api.utils:Upload 26% complete for lung_beta_files.zip\n",
      "INFO:api.utils:Upload 26% complete for lung_beta_files.zip\n",
      "INFO:api.utils:Upload 26% complete for lung_beta_files.zip\n",
      "INFO:api.utils:Upload 26% complete for lung_beta_files.zip\n",
      "INFO:api.utils:Upload 27% complete for lung_beta_files.zip\n",
      "INFO:api.utils:Upload 27% complete for lung_beta_files.zip\n",
      "INFO:api.utils:Upload 27% complete for lung_beta_files.zip\n",
      "INFO:api.utils:Upload 27% complete for lung_beta_files.zip\n",
      "INFO:api.utils:Upload 27% complete for lung_beta_files.zip\n",
      "INFO:api.utils:Upload 28% complete for lung_beta_files.zip\n",
      "INFO:api.utils:Upload 28% complete for lung_beta_files.zip\n",
      "INFO:api.utils:Upload 28% complete for lung_beta_files.zip\n",
      "INFO:api.utils:Upload 28% complete for lung_beta_files.zip\n",
      "INFO:api.utils:Upload 28% complete for lung_beta_files.zip\n",
      "INFO:api.utils:Upload 29% complete for lung_beta_files.zip\n",
      "INFO:api.utils:Upload 29% complete for lung_beta_files.zip\n",
      "INFO:api.utils:Upload 29% complete for lung_beta_files.zip\n",
      "INFO:api.utils:Upload 29% complete for lung_beta_files.zip\n",
      "INFO:api.utils:Upload 29% complete for lung_beta_files.zip\n",
      "INFO:api.utils:Upload 29% complete for lung_beta_files.zip\n",
      "INFO:api.utils:Upload 30% complete for lung_beta_files.zip\n",
      "INFO:api.utils:Upload 30% complete for lung_beta_files.zip\n",
      "INFO:api.utils:Upload 30% complete for lung_beta_files.zip\n",
      "INFO:api.utils:Upload 30% complete for lung_beta_files.zip\n",
      "INFO:api.utils:Upload 30% complete for lung_beta_files.zip\n",
      "INFO:api.utils:Upload 31% complete for lung_beta_files.zip\n",
      "INFO:api.utils:Upload 31% complete for lung_beta_files.zip\n",
      "INFO:api.utils:Upload 31% complete for lung_beta_files.zip\n",
      "INFO:api.utils:Upload 31% complete for lung_beta_files.zip\n",
      "INFO:api.utils:Upload 31% complete for lung_beta_files.zip\n",
      "INFO:api.utils:Upload 32% complete for lung_beta_files.zip\n",
      "INFO:api.utils:Upload 32% complete for lung_beta_files.zip\n",
      "INFO:api.utils:Upload 32% complete for lung_beta_files.zip\n",
      "INFO:api.utils:Upload 32% complete for lung_beta_files.zip\n",
      "INFO:api.utils:Upload 32% complete for lung_beta_files.zip\n",
      "INFO:api.utils:Upload 33% complete for lung_beta_files.zip\n",
      "INFO:api.utils:Upload 33% complete for lung_beta_files.zip\n",
      "INFO:api.utils:Upload 33% complete for lung_beta_files.zip\n",
      "INFO:api.utils:Upload 33% complete for lung_beta_files.zip\n",
      "INFO:api.utils:Upload 33% complete for lung_beta_files.zip\n",
      "INFO:api.utils:Upload 34% complete for lung_beta_files.zip\n",
      "INFO:api.utils:Upload 34% complete for lung_beta_files.zip\n",
      "INFO:api.utils:Upload 34% complete for lung_beta_files.zip\n",
      "INFO:api.utils:Upload 34% complete for lung_beta_files.zip\n",
      "INFO:api.utils:Upload 34% complete for lung_beta_files.zip\n",
      "INFO:api.utils:Upload 35% complete for lung_beta_files.zip\n",
      "INFO:api.utils:Upload 35% complete for lung_beta_files.zip\n",
      "INFO:api.utils:Upload 35% complete for lung_beta_files.zip\n",
      "INFO:api.utils:Upload 35% complete for lung_beta_files.zip\n",
      "INFO:api.utils:Upload 35% complete for lung_beta_files.zip\n",
      "INFO:api.utils:Upload 36% complete for lung_beta_files.zip\n",
      "INFO:api.utils:Upload 36% complete for lung_beta_files.zip\n",
      "INFO:api.utils:Upload 36% complete for lung_beta_files.zip\n",
      "INFO:api.utils:Upload 36% complete for lung_beta_files.zip\n",
      "INFO:api.utils:Upload 36% complete for lung_beta_files.zip\n",
      "INFO:api.utils:Upload 36% complete for lung_beta_files.zip\n",
      "INFO:api.utils:Upload 37% complete for lung_beta_files.zip\n",
      "INFO:api.utils:Upload 37% complete for lung_beta_files.zip\n",
      "INFO:api.utils:Upload 37% complete for lung_beta_files.zip\n",
      "INFO:api.utils:Upload 37% complete for lung_beta_files.zip\n",
      "INFO:api.utils:Upload 37% complete for lung_beta_files.zip\n",
      "INFO:api.utils:Upload 38% complete for lung_beta_files.zip\n",
      "INFO:api.utils:Upload 38% complete for lung_beta_files.zip\n",
      "INFO:api.utils:Upload 38% complete for lung_beta_files.zip\n",
      "INFO:api.utils:Upload 38% complete for lung_beta_files.zip\n",
      "INFO:api.utils:Upload 38% complete for lung_beta_files.zip\n",
      "INFO:api.utils:Upload 39% complete for lung_beta_files.zip\n",
      "INFO:api.utils:Upload 39% complete for lung_beta_files.zip\n",
      "INFO:api.utils:Upload 39% complete for lung_beta_files.zip\n",
      "INFO:api.utils:Upload 39% complete for lung_beta_files.zip\n",
      "INFO:api.utils:Upload 39% complete for lung_beta_files.zip\n",
      "INFO:api.utils:Upload 40% complete for lung_beta_files.zip\n",
      "INFO:api.utils:Upload 40% complete for lung_beta_files.zip\n",
      "INFO:api.utils:Upload 40% complete for lung_beta_files.zip\n",
      "INFO:api.utils:Upload 40% complete for lung_beta_files.zip\n",
      "INFO:api.utils:Upload 40% complete for lung_beta_files.zip\n",
      "INFO:api.utils:Upload 41% complete for lung_beta_files.zip\n",
      "INFO:api.utils:Upload 41% complete for lung_beta_files.zip\n",
      "INFO:api.utils:Upload 41% complete for lung_beta_files.zip\n",
      "INFO:api.utils:Upload 41% complete for lung_beta_files.zip\n",
      "INFO:api.utils:Upload 41% complete for lung_beta_files.zip\n",
      "INFO:api.utils:Upload 42% complete for lung_beta_files.zip\n",
      "INFO:api.utils:Upload 42% complete for lung_beta_files.zip\n",
      "INFO:api.utils:Upload 42% complete for lung_beta_files.zip\n",
      "INFO:api.utils:Upload 42% complete for lung_beta_files.zip\n",
      "INFO:api.utils:Upload 42% complete for lung_beta_files.zip\n",
      "INFO:api.utils:Upload 43% complete for lung_beta_files.zip\n",
      "INFO:api.utils:Upload 43% complete for lung_beta_files.zip\n",
      "INFO:api.utils:Upload 43% complete for lung_beta_files.zip\n",
      "INFO:api.utils:Upload 43% complete for lung_beta_files.zip\n",
      "INFO:api.utils:Upload 43% complete for lung_beta_files.zip\n",
      "INFO:api.utils:Upload 43% complete for lung_beta_files.zip\n",
      "INFO:api.utils:Upload 44% complete for lung_beta_files.zip\n",
      "INFO:api.utils:Upload 44% complete for lung_beta_files.zip\n",
      "INFO:api.utils:Upload 44% complete for lung_beta_files.zip\n",
      "INFO:api.utils:Upload 44% complete for lung_beta_files.zip\n",
      "INFO:api.utils:Upload 44% complete for lung_beta_files.zip\n",
      "INFO:api.utils:Upload 45% complete for lung_beta_files.zip\n",
      "INFO:api.utils:Upload 45% complete for lung_beta_files.zip\n",
      "INFO:api.utils:Upload 45% complete for lung_beta_files.zip\n",
      "INFO:api.utils:Upload 45% complete for lung_beta_files.zip\n",
      "INFO:api.utils:Upload 45% complete for lung_beta_files.zip\n",
      "INFO:api.utils:Upload 46% complete for lung_beta_files.zip\n",
      "INFO:api.utils:Upload 46% complete for lung_beta_files.zip\n",
      "INFO:api.utils:Upload 46% complete for lung_beta_files.zip\n",
      "INFO:api.utils:Upload 46% complete for lung_beta_files.zip\n",
      "INFO:api.utils:Upload 46% complete for lung_beta_files.zip\n",
      "INFO:api.utils:Upload 47% complete for lung_beta_files.zip\n",
      "INFO:api.utils:Upload 47% complete for lung_beta_files.zip\n",
      "INFO:api.utils:Upload 47% complete for lung_beta_files.zip\n",
      "INFO:api.utils:Upload 47% complete for lung_beta_files.zip\n",
      "INFO:api.utils:Upload 47% complete for lung_beta_files.zip\n",
      "INFO:api.utils:Upload 48% complete for lung_beta_files.zip\n",
      "INFO:api.utils:Upload 48% complete for lung_beta_files.zip\n",
      "INFO:api.utils:Upload 48% complete for lung_beta_files.zip\n",
      "INFO:api.utils:Upload 48% complete for lung_beta_files.zip\n",
      "INFO:api.utils:Upload 48% complete for lung_beta_files.zip\n",
      "INFO:api.utils:Upload 49% complete for lung_beta_files.zip\n",
      "INFO:api.utils:Upload 49% complete for lung_beta_files.zip\n",
      "INFO:api.utils:Upload 49% complete for lung_beta_files.zip\n",
      "INFO:api.utils:Upload 49% complete for lung_beta_files.zip\n",
      "INFO:api.utils:Upload 49% complete for lung_beta_files.zip\n",
      "INFO:api.utils:Upload 50% complete for lung_beta_files.zip\n",
      "INFO:api.utils:Upload 50% complete for lung_beta_files.zip\n",
      "INFO:api.utils:Upload 50% complete for lung_beta_files.zip\n",
      "INFO:api.utils:Upload 50% complete for lung_beta_files.zip\n",
      "INFO:api.utils:Upload 50% complete for lung_beta_files.zip\n",
      "INFO:api.utils:Upload 50% complete for lung_beta_files.zip\n",
      "INFO:api.utils:Upload 51% complete for lung_beta_files.zip\n",
      "INFO:api.utils:Upload 51% complete for lung_beta_files.zip\n",
      "INFO:api.utils:Upload 51% complete for lung_beta_files.zip\n",
      "INFO:api.utils:Upload 51% complete for lung_beta_files.zip\n",
      "INFO:api.utils:Upload 51% complete for lung_beta_files.zip\n",
      "INFO:api.utils:Upload 52% complete for lung_beta_files.zip\n",
      "INFO:api.utils:Upload 52% complete for lung_beta_files.zip\n",
      "INFO:api.utils:Upload 52% complete for lung_beta_files.zip\n",
      "INFO:api.utils:Upload 52% complete for lung_beta_files.zip\n",
      "INFO:api.utils:Upload 52% complete for lung_beta_files.zip\n",
      "INFO:api.utils:Upload 53% complete for lung_beta_files.zip\n",
      "INFO:api.utils:Upload 53% complete for lung_beta_files.zip\n",
      "INFO:api.utils:Upload 53% complete for lung_beta_files.zip\n",
      "INFO:api.utils:Upload 53% complete for lung_beta_files.zip\n",
      "INFO:api.utils:Upload 53% complete for lung_beta_files.zip\n",
      "INFO:api.utils:Upload 54% complete for lung_beta_files.zip\n",
      "INFO:api.utils:Upload 54% complete for lung_beta_files.zip\n",
      "INFO:api.utils:Upload 54% complete for lung_beta_files.zip\n",
      "INFO:api.utils:Upload 54% complete for lung_beta_files.zip\n",
      "INFO:api.utils:Upload 54% complete for lung_beta_files.zip\n",
      "INFO:api.utils:Upload 55% complete for lung_beta_files.zip\n",
      "INFO:api.utils:Upload 55% complete for lung_beta_files.zip\n",
      "INFO:api.utils:Upload 55% complete for lung_beta_files.zip\n",
      "INFO:api.utils:Upload 55% complete for lung_beta_files.zip\n",
      "INFO:api.utils:Upload 55% complete for lung_beta_files.zip\n",
      "INFO:api.utils:Upload 56% complete for lung_beta_files.zip\n",
      "INFO:api.utils:Upload 56% complete for lung_beta_files.zip\n",
      "INFO:api.utils:Upload 56% complete for lung_beta_files.zip\n",
      "INFO:api.utils:Upload 56% complete for lung_beta_files.zip\n",
      "INFO:api.utils:Upload 56% complete for lung_beta_files.zip\n",
      "INFO:api.utils:Upload 57% complete for lung_beta_files.zip\n",
      "INFO:api.utils:Upload 57% complete for lung_beta_files.zip\n",
      "INFO:api.utils:Upload 57% complete for lung_beta_files.zip\n",
      "INFO:api.utils:Upload 57% complete for lung_beta_files.zip\n",
      "INFO:api.utils:Upload 57% complete for lung_beta_files.zip\n",
      "INFO:api.utils:Upload 58% complete for lung_beta_files.zip\n",
      "INFO:api.utils:Upload 58% complete for lung_beta_files.zip\n",
      "INFO:api.utils:Upload 58% complete for lung_beta_files.zip\n",
      "INFO:api.utils:Upload 58% complete for lung_beta_files.zip\n",
      "INFO:api.utils:Upload 58% complete for lung_beta_files.zip\n",
      "INFO:api.utils:Upload 58% complete for lung_beta_files.zip\n",
      "INFO:api.utils:Upload 59% complete for lung_beta_files.zip\n",
      "INFO:api.utils:Upload 59% complete for lung_beta_files.zip\n",
      "INFO:api.utils:Upload 59% complete for lung_beta_files.zip\n",
      "INFO:api.utils:Upload 59% complete for lung_beta_files.zip\n",
      "INFO:api.utils:Upload 59% complete for lung_beta_files.zip\n",
      "INFO:api.utils:Upload 60% complete for lung_beta_files.zip\n",
      "INFO:api.utils:Upload 60% complete for lung_beta_files.zip\n",
      "INFO:api.utils:Upload 60% complete for lung_beta_files.zip\n",
      "INFO:api.utils:Upload 60% complete for lung_beta_files.zip\n",
      "INFO:api.utils:Upload 60% complete for lung_beta_files.zip\n",
      "INFO:api.utils:Upload 61% complete for lung_beta_files.zip\n",
      "INFO:api.utils:Upload 61% complete for lung_beta_files.zip\n",
      "INFO:api.utils:Upload 61% complete for lung_beta_files.zip\n",
      "INFO:api.utils:Upload 61% complete for lung_beta_files.zip\n",
      "INFO:api.utils:Upload 61% complete for lung_beta_files.zip\n",
      "INFO:api.utils:Upload 62% complete for lung_beta_files.zip\n",
      "INFO:api.utils:Upload 62% complete for lung_beta_files.zip\n",
      "INFO:api.utils:Upload 62% complete for lung_beta_files.zip\n",
      "INFO:api.utils:Upload 62% complete for lung_beta_files.zip\n",
      "INFO:api.utils:Upload 62% complete for lung_beta_files.zip\n",
      "INFO:api.utils:Upload 63% complete for lung_beta_files.zip\n",
      "INFO:api.utils:Upload 63% complete for lung_beta_files.zip\n",
      "INFO:api.utils:Upload 63% complete for lung_beta_files.zip\n",
      "INFO:api.utils:Upload 63% complete for lung_beta_files.zip\n",
      "INFO:api.utils:Upload 63% complete for lung_beta_files.zip\n",
      "INFO:api.utils:Upload 64% complete for lung_beta_files.zip\n",
      "INFO:api.utils:Upload 64% complete for lung_beta_files.zip\n",
      "INFO:api.utils:Upload 64% complete for lung_beta_files.zip\n",
      "INFO:api.utils:Upload 64% complete for lung_beta_files.zip\n",
      "INFO:api.utils:Upload 64% complete for lung_beta_files.zip\n",
      "INFO:api.utils:Upload 65% complete for lung_beta_files.zip\n",
      "INFO:api.utils:Upload 65% complete for lung_beta_files.zip\n",
      "INFO:api.utils:Upload 65% complete for lung_beta_files.zip\n",
      "INFO:api.utils:Upload 65% complete for lung_beta_files.zip\n",
      "INFO:api.utils:Upload 65% complete for lung_beta_files.zip\n",
      "INFO:api.utils:Upload 65% complete for lung_beta_files.zip\n",
      "INFO:api.utils:Upload 66% complete for lung_beta_files.zip\n",
      "INFO:api.utils:Upload 66% complete for lung_beta_files.zip\n",
      "INFO:api.utils:Upload 66% complete for lung_beta_files.zip\n",
      "INFO:api.utils:Upload 66% complete for lung_beta_files.zip\n",
      "INFO:api.utils:Upload 66% complete for lung_beta_files.zip\n",
      "INFO:api.utils:Upload 67% complete for lung_beta_files.zip\n",
      "INFO:api.utils:Upload 67% complete for lung_beta_files.zip\n",
      "INFO:api.utils:Upload 67% complete for lung_beta_files.zip\n",
      "INFO:api.utils:Upload 67% complete for lung_beta_files.zip\n",
      "INFO:api.utils:Upload 67% complete for lung_beta_files.zip\n",
      "INFO:api.utils:Upload 68% complete for lung_beta_files.zip\n",
      "INFO:api.utils:Upload 68% complete for lung_beta_files.zip\n",
      "INFO:api.utils:Upload 68% complete for lung_beta_files.zip\n",
      "INFO:api.utils:Upload 68% complete for lung_beta_files.zip\n",
      "INFO:api.utils:Upload 68% complete for lung_beta_files.zip\n",
      "INFO:api.utils:Upload 69% complete for lung_beta_files.zip\n",
      "INFO:api.utils:Upload 69% complete for lung_beta_files.zip\n",
      "INFO:api.utils:Upload 69% complete for lung_beta_files.zip\n",
      "INFO:api.utils:Upload 69% complete for lung_beta_files.zip\n",
      "INFO:api.utils:Upload 69% complete for lung_beta_files.zip\n",
      "INFO:api.utils:Upload 70% complete for lung_beta_files.zip\n",
      "INFO:api.utils:Upload 70% complete for lung_beta_files.zip\n",
      "INFO:api.utils:Upload 70% complete for lung_beta_files.zip\n",
      "INFO:api.utils:Upload 70% complete for lung_beta_files.zip\n",
      "INFO:api.utils:Upload 70% complete for lung_beta_files.zip\n",
      "INFO:api.utils:Upload 71% complete for lung_beta_files.zip\n",
      "INFO:api.utils:Upload 71% complete for lung_beta_files.zip\n",
      "INFO:api.utils:Upload 71% complete for lung_beta_files.zip\n",
      "INFO:api.utils:Upload 71% complete for lung_beta_files.zip\n",
      "INFO:api.utils:Upload 71% complete for lung_beta_files.zip\n",
      "INFO:api.utils:Upload 72% complete for lung_beta_files.zip\n",
      "INFO:api.utils:Upload 72% complete for lung_beta_files.zip\n",
      "INFO:api.utils:Upload 72% complete for lung_beta_files.zip\n",
      "INFO:api.utils:Upload 72% complete for lung_beta_files.zip\n",
      "INFO:api.utils:Upload 72% complete for lung_beta_files.zip\n",
      "INFO:api.utils:Upload 72% complete for lung_beta_files.zip\n",
      "INFO:api.utils:Upload 73% complete for lung_beta_files.zip\n",
      "INFO:api.utils:Upload 73% complete for lung_beta_files.zip\n",
      "INFO:api.utils:Upload 73% complete for lung_beta_files.zip\n",
      "INFO:api.utils:Upload 73% complete for lung_beta_files.zip\n",
      "INFO:api.utils:Upload 73% complete for lung_beta_files.zip\n",
      "INFO:api.utils:Upload 74% complete for lung_beta_files.zip\n",
      "INFO:api.utils:Upload 74% complete for lung_beta_files.zip\n",
      "INFO:api.utils:Upload 74% complete for lung_beta_files.zip\n",
      "INFO:api.utils:Upload 74% complete for lung_beta_files.zip\n",
      "INFO:api.utils:Upload 74% complete for lung_beta_files.zip\n",
      "INFO:api.utils:Upload 75% complete for lung_beta_files.zip\n",
      "INFO:api.utils:Upload 75% complete for lung_beta_files.zip\n",
      "INFO:api.utils:Upload 75% complete for lung_beta_files.zip\n",
      "INFO:api.utils:Upload 75% complete for lung_beta_files.zip\n",
      "INFO:api.utils:Upload 75% complete for lung_beta_files.zip\n",
      "INFO:api.utils:Upload 76% complete for lung_beta_files.zip\n",
      "INFO:api.utils:Upload 76% complete for lung_beta_files.zip\n",
      "INFO:api.utils:Upload 76% complete for lung_beta_files.zip\n",
      "INFO:api.utils:Upload 76% complete for lung_beta_files.zip\n",
      "INFO:api.utils:Upload 76% complete for lung_beta_files.zip\n",
      "INFO:api.utils:Upload 77% complete for lung_beta_files.zip\n",
      "INFO:api.utils:Upload 77% complete for lung_beta_files.zip\n",
      "INFO:api.utils:Upload 77% complete for lung_beta_files.zip\n",
      "INFO:api.utils:Upload 77% complete for lung_beta_files.zip\n",
      "INFO:api.utils:Upload 77% complete for lung_beta_files.zip\n",
      "INFO:api.utils:Upload 78% complete for lung_beta_files.zip\n",
      "INFO:api.utils:Upload 78% complete for lung_beta_files.zip\n",
      "INFO:api.utils:Upload 78% complete for lung_beta_files.zip\n",
      "INFO:api.utils:Upload 78% complete for lung_beta_files.zip\n",
      "INFO:api.utils:Upload 78% complete for lung_beta_files.zip\n",
      "INFO:api.utils:Upload 79% complete for lung_beta_files.zip\n",
      "INFO:api.utils:Upload 79% complete for lung_beta_files.zip\n",
      "INFO:api.utils:Upload 79% complete for lung_beta_files.zip\n",
      "INFO:api.utils:Upload 79% complete for lung_beta_files.zip\n",
      "INFO:api.utils:Upload 79% complete for lung_beta_files.zip\n",
      "INFO:api.utils:Upload 79% complete for lung_beta_files.zip\n",
      "INFO:api.utils:Upload 80% complete for lung_beta_files.zip\n",
      "INFO:api.utils:Upload 80% complete for lung_beta_files.zip\n",
      "INFO:api.utils:Upload 80% complete for lung_beta_files.zip\n",
      "INFO:api.utils:Upload 80% complete for lung_beta_files.zip\n",
      "INFO:api.utils:Upload 80% complete for lung_beta_files.zip\n",
      "INFO:api.utils:Upload 81% complete for lung_beta_files.zip\n",
      "INFO:api.utils:Upload 81% complete for lung_beta_files.zip\n",
      "INFO:api.utils:Upload 81% complete for lung_beta_files.zip\n",
      "INFO:api.utils:Upload 81% complete for lung_beta_files.zip\n",
      "INFO:api.utils:Upload 81% complete for lung_beta_files.zip\n",
      "INFO:api.utils:Upload 82% complete for lung_beta_files.zip\n",
      "INFO:api.utils:Upload 82% complete for lung_beta_files.zip\n",
      "INFO:api.utils:Upload 82% complete for lung_beta_files.zip\n",
      "INFO:api.utils:Upload 82% complete for lung_beta_files.zip\n",
      "INFO:api.utils:Upload 82% complete for lung_beta_files.zip\n",
      "INFO:api.utils:Upload 83% complete for lung_beta_files.zip\n",
      "INFO:api.utils:Upload 83% complete for lung_beta_files.zip\n",
      "INFO:api.utils:Upload 83% complete for lung_beta_files.zip\n",
      "INFO:api.utils:Upload 83% complete for lung_beta_files.zip\n",
      "INFO:api.utils:Upload 83% complete for lung_beta_files.zip\n",
      "INFO:api.utils:Upload 84% complete for lung_beta_files.zip\n",
      "INFO:api.utils:Upload 84% complete for lung_beta_files.zip\n",
      "INFO:api.utils:Upload 84% complete for lung_beta_files.zip\n",
      "INFO:api.utils:Upload 84% complete for lung_beta_files.zip\n",
      "INFO:api.utils:Upload 84% complete for lung_beta_files.zip\n",
      "INFO:api.utils:Upload 85% complete for lung_beta_files.zip\n",
      "INFO:api.utils:Upload 85% complete for lung_beta_files.zip\n",
      "INFO:api.utils:Upload 85% complete for lung_beta_files.zip\n",
      "INFO:api.utils:Upload 85% complete for lung_beta_files.zip\n",
      "INFO:api.utils:Upload 85% complete for lung_beta_files.zip\n",
      "INFO:api.utils:Upload 86% complete for lung_beta_files.zip\n",
      "INFO:api.utils:Upload 86% complete for lung_beta_files.zip\n",
      "INFO:api.utils:Upload 86% complete for lung_beta_files.zip\n",
      "INFO:api.utils:Upload 86% complete for lung_beta_files.zip\n",
      "INFO:api.utils:Upload 86% complete for lung_beta_files.zip\n",
      "INFO:api.utils:Upload 87% complete for lung_beta_files.zip\n",
      "INFO:api.utils:Upload 87% complete for lung_beta_files.zip\n",
      "INFO:api.utils:Upload 87% complete for lung_beta_files.zip\n",
      "INFO:api.utils:Upload 87% complete for lung_beta_files.zip\n",
      "INFO:api.utils:Upload 87% complete for lung_beta_files.zip\n",
      "INFO:api.utils:Upload 87% complete for lung_beta_files.zip\n",
      "INFO:api.utils:Upload 88% complete for lung_beta_files.zip\n",
      "INFO:api.utils:Upload 88% complete for lung_beta_files.zip\n",
      "INFO:api.utils:Upload 88% complete for lung_beta_files.zip\n",
      "INFO:api.utils:Upload 88% complete for lung_beta_files.zip\n",
      "INFO:api.utils:Upload 88% complete for lung_beta_files.zip\n",
      "INFO:api.utils:Upload 89% complete for lung_beta_files.zip\n",
      "INFO:api.utils:Upload 89% complete for lung_beta_files.zip\n",
      "INFO:api.utils:Upload 89% complete for lung_beta_files.zip\n",
      "INFO:api.utils:Upload 89% complete for lung_beta_files.zip\n",
      "INFO:api.utils:Upload 89% complete for lung_beta_files.zip\n",
      "INFO:api.utils:Upload 90% complete for lung_beta_files.zip\n",
      "INFO:api.utils:Upload 90% complete for lung_beta_files.zip\n",
      "INFO:api.utils:Upload 90% complete for lung_beta_files.zip\n",
      "INFO:api.utils:Upload 90% complete for lung_beta_files.zip\n",
      "INFO:api.utils:Upload 90% complete for lung_beta_files.zip\n",
      "INFO:api.utils:Upload 91% complete for lung_beta_files.zip\n",
      "INFO:api.utils:Upload 91% complete for lung_beta_files.zip\n",
      "INFO:api.utils:Upload 91% complete for lung_beta_files.zip\n",
      "INFO:api.utils:Upload 91% complete for lung_beta_files.zip\n",
      "INFO:api.utils:Upload 91% complete for lung_beta_files.zip\n",
      "INFO:api.utils:Upload 92% complete for lung_beta_files.zip\n",
      "INFO:api.utils:Upload 92% complete for lung_beta_files.zip\n",
      "INFO:api.utils:Upload 92% complete for lung_beta_files.zip\n",
      "INFO:api.utils:Upload 92% complete for lung_beta_files.zip\n",
      "INFO:api.utils:Upload 92% complete for lung_beta_files.zip\n",
      "INFO:api.utils:Upload 93% complete for lung_beta_files.zip\n",
      "INFO:api.utils:Upload 93% complete for lung_beta_files.zip\n",
      "INFO:api.utils:Upload 93% complete for lung_beta_files.zip\n",
      "INFO:api.utils:Upload 93% complete for lung_beta_files.zip\n",
      "INFO:api.utils:Upload 93% complete for lung_beta_files.zip\n",
      "INFO:api.utils:Upload 94% complete for lung_beta_files.zip\n",
      "INFO:api.utils:Upload 94% complete for lung_beta_files.zip\n",
      "INFO:api.utils:Upload 94% complete for lung_beta_files.zip\n",
      "INFO:api.utils:Upload 94% complete for lung_beta_files.zip\n",
      "INFO:api.utils:Upload 94% complete for lung_beta_files.zip\n",
      "INFO:api.utils:Upload 94% complete for lung_beta_files.zip\n",
      "INFO:api.utils:Upload 95% complete for lung_beta_files.zip\n",
      "INFO:api.utils:Upload 95% complete for lung_beta_files.zip\n",
      "INFO:api.utils:Upload 95% complete for lung_beta_files.zip\n",
      "INFO:api.utils:Upload 95% complete for lung_beta_files.zip\n",
      "INFO:api.utils:Upload 95% complete for lung_beta_files.zip\n",
      "INFO:api.utils:Upload 96% complete for lung_beta_files.zip\n",
      "INFO:api.utils:Upload 96% complete for lung_beta_files.zip\n",
      "INFO:api.utils:Upload 96% complete for lung_beta_files.zip\n",
      "INFO:api.utils:Upload 96% complete for lung_beta_files.zip\n",
      "INFO:api.utils:Upload 96% complete for lung_beta_files.zip\n",
      "INFO:api.utils:Upload 97% complete for lung_beta_files.zip\n",
      "INFO:api.utils:Upload 97% complete for lung_beta_files.zip\n",
      "INFO:api.utils:Upload 97% complete for lung_beta_files.zip\n",
      "INFO:api.utils:Upload 97% complete for lung_beta_files.zip\n",
      "INFO:api.utils:Upload 97% complete for lung_beta_files.zip\n",
      "INFO:api.utils:Upload 98% complete for lung_beta_files.zip\n",
      "INFO:api.utils:Upload 98% complete for lung_beta_files.zip\n",
      "INFO:api.utils:Upload 98% complete for lung_beta_files.zip\n",
      "INFO:api.utils:Upload 98% complete for lung_beta_files.zip\n",
      "INFO:api.utils:Upload 98% complete for lung_beta_files.zip\n",
      "INFO:api.utils:Upload 99% complete for lung_beta_files.zip\n",
      "INFO:api.utils:Upload 99% complete for lung_beta_files.zip\n",
      "INFO:api.utils:Upload 99% complete for lung_beta_files.zip\n",
      "INFO:api.utils:Upload 99% complete for lung_beta_files.zip\n",
      "INFO:api.utils:Upload 99% complete for lung_beta_files.zip\n",
      "INFO:api.utils:Uploaded lung_beta_files.zip with File ID: 1DWiM0z-rCbEp5odeTjhLxKiAMEfGSDz9\n",
      "INFO:api.utils:Upload completed successfully. File ID: 1DWiM0z-rCbEp5odeTjhLxKiAMEfGSDz9\n"
     ]
    }
   ],
   "source": [
    "utils.run_upload_with_separate_thread(service, directory, zip_filename)"
   ]
  },
  {
   "cell_type": "markdown",
   "metadata": {},
   "source": [
    "### Sec. 1 dbeta calculation\n",
    "#### Summary\n",
    "- calculate the difference of beta value between tumor and normal samples\n",
    "- the output file will have the following format\n",
    "  - column 0 is the id of the sample\n",
    "  - column 1 is the gene name\n",
    "  - column 2 is the difference of beta value between tumor and normal samples\n",
    "\n",
    "### Implementation\n",
    "1. split normal and tumor samples\n",
    "2. remove outliers in normal and tumor samples\n",
    "3. calculate the mean of normal sammples\n",
    "4. tumor - avg(normal)\n",
    "5. calculate the mean of tumor samples\n",
    "6. merge with DMP file\n",
    "7. exclude the genes not in single comorbidity list"
   ]
  },
  {
   "cell_type": "code",
   "execution_count": 11,
   "metadata": {},
   "outputs": [],
   "source": [
    "import gdown"
   ]
  },
  {
   "cell_type": "markdown",
   "metadata": {},
   "source": [
    "##### Lung\n",
    "https://drive.google.com/file/d/1cuKmDUgch4A0ULnj6XfTHuk6u0Xtz_3H/view?usp=sharing\n",
    "##### Rectal\n",
    "https://drive.google.com/file/d/11DZAwbtqVriSN8EhUNhQEEwVyntiycRa/view?usp=sharing\n",
    "##### Stomach\n",
    "https://drive.google.com/file/d/1QBklKEO61ZYqxo-gfjBsWg3mcREsTRc7/view?usp=sharing\n",
    "##### Prostate\n",
    "tbd\n",
    "##### Breast\n",
    "tbd"
   ]
  },
  {
   "cell_type": "code",
   "execution_count": null,
   "metadata": {},
   "outputs": [],
   "source": [
    "url = input()\n",
    "\n",
    "output = 'download.zip'"
   ]
  },
  {
   "cell_type": "code",
   "execution_count": null,
   "metadata": {},
   "outputs": [],
   "source": [
    "gdown.download(url, output, quiet=False)"
   ]
  },
  {
   "cell_type": "code",
   "execution_count": 13,
   "metadata": {},
   "outputs": [],
   "source": [
    "import zipfile\n",
    "import shutil\n",
    "\n",
    "with zipfile.ZipFile(\"download.zip\", \"r\") as zip_ref:\n",
    "    zip_ref.extractall(\"download\")\n",
    "\n",
    "shutil.move(\"download/all_beta_normalized_0.csv\", f\"all_beta_normalized_0.csv\")\n",
    "shutil.move(\"download/all_beta_normalized_1.csv\", f\"all_beta_normalized_1.csv\")\n",
    "\n",
    "os.remove(\"download.zip\")\n",
    "shutil.rmtree(\"download\")"
   ]
  },
  {
   "cell_type": "code",
   "execution_count": 46,
   "metadata": {},
   "outputs": [],
   "source": [
    "train_df = pd.read_csv(f\"{trainOutPath}/all_beta_normalized_0.csv\")"
   ]
  },
  {
   "cell_type": "code",
   "execution_count": 72,
   "metadata": {},
   "outputs": [],
   "source": [
    "# remove outlier in terms of every column\n",
    "def IQR(df):\n",
    "    Q1 = df.quantile(0.25)\n",
    "    Q3 = df.quantile(0.75)\n",
    "    IQR = Q3 - Q1\n",
    "    upper_fence = Q3 + IQR * 1.5\n",
    "    lower_fence = Q1 - IQR * 1.5\n",
    "    return upper_fence, lower_fence\n",
    "\n",
    "\n",
    "def no_outlier(df):\n",
    "    upper_fence, lower_fence = IQR(df)\n",
    "    ddf = df[(df > lower_fence) & (df < upper_fence)]\n",
    "    return ddf"
   ]
  },
  {
   "cell_type": "code",
   "execution_count": 85,
   "metadata": {},
   "outputs": [],
   "source": [
    "config = load_config(CONFIG_PATH)\n",
    "normal_count = config[\"preprocess\"][\"merge_and_split\"][\"training_class_distribution\"][0]\n",
    "all_beta_normalized_normal = train_df.iloc[:-1, 1 : normal_count + 1 :].T\n",
    "\n",
    "\n",
    "all_beta_normalized_tumor = train_df.iloc[:-1, normal_count + 1 : :].T"
   ]
  },
  {
   "cell_type": "code",
   "execution_count": 87,
   "metadata": {},
   "outputs": [],
   "source": [
    "all_beta_normalized_normal = no_outlier(all_beta_normalized_normal)\n",
    "all_beta_normalized_tumor = no_outlier(all_beta_normalized_tumor)"
   ]
  },
  {
   "cell_type": "code",
   "execution_count": 89,
   "metadata": {},
   "outputs": [],
   "source": [
    "train_normal_avg = all_beta_normalized_normal.mean(skipna=True, axis=0)"
   ]
  },
  {
   "cell_type": "code",
   "execution_count": 90,
   "metadata": {},
   "outputs": [
    {
     "data": {
      "text/plain": [
       "0         0.864598\n",
       "1         0.782460\n",
       "2         0.089582\n",
       "3         0.026921\n",
       "4         0.030749\n",
       "            ...   \n",
       "115114    0.985161\n",
       "115115    0.422429\n",
       "115116    0.049074\n",
       "115117    0.947136\n",
       "115118    0.956873\n",
       "Length: 115119, dtype: float64"
      ]
     },
     "execution_count": 90,
     "metadata": {},
     "output_type": "execute_result"
    }
   ],
   "source": [
    "train_normal_avg"
   ]
  },
  {
   "cell_type": "code",
   "execution_count": 91,
   "metadata": {},
   "outputs": [
    {
     "data": {
      "text/html": [
       "<div>\n",
       "<style scoped>\n",
       "    .dataframe tbody tr th:only-of-type {\n",
       "        vertical-align: middle;\n",
       "    }\n",
       "\n",
       "    .dataframe tbody tr th {\n",
       "        vertical-align: top;\n",
       "    }\n",
       "\n",
       "    .dataframe thead th {\n",
       "        text-align: right;\n",
       "    }\n",
       "</style>\n",
       "<table border=\"1\" class=\"dataframe\">\n",
       "  <thead>\n",
       "    <tr style=\"text-align: right;\">\n",
       "      <th></th>\n",
       "      <th>0</th>\n",
       "      <th>1</th>\n",
       "      <th>2</th>\n",
       "      <th>3</th>\n",
       "      <th>4</th>\n",
       "      <th>5</th>\n",
       "      <th>6</th>\n",
       "      <th>7</th>\n",
       "      <th>8</th>\n",
       "      <th>9</th>\n",
       "      <th>...</th>\n",
       "      <th>115109</th>\n",
       "      <th>115110</th>\n",
       "      <th>115111</th>\n",
       "      <th>115112</th>\n",
       "      <th>115113</th>\n",
       "      <th>115114</th>\n",
       "      <th>115115</th>\n",
       "      <th>115116</th>\n",
       "      <th>115117</th>\n",
       "      <th>115118</th>\n",
       "    </tr>\n",
       "  </thead>\n",
       "  <tbody>\n",
       "    <tr>\n",
       "      <th>543</th>\n",
       "      <td>0.853339</td>\n",
       "      <td>NaN</td>\n",
       "      <td>0.118074</td>\n",
       "      <td>0.034664</td>\n",
       "      <td>0.036709</td>\n",
       "      <td>0.250773</td>\n",
       "      <td>0.224773</td>\n",
       "      <td>0.956517</td>\n",
       "      <td>0.026332</td>\n",
       "      <td>0.098335</td>\n",
       "      <td>...</td>\n",
       "      <td>0.018415</td>\n",
       "      <td>0.951655</td>\n",
       "      <td>0.632206</td>\n",
       "      <td>0.876530</td>\n",
       "      <td>0.673161</td>\n",
       "      <td>0.953716</td>\n",
       "      <td>0.330981</td>\n",
       "      <td>0.043584</td>\n",
       "      <td>0.949944</td>\n",
       "      <td>0.960375</td>\n",
       "    </tr>\n",
       "    <tr>\n",
       "      <th>544</th>\n",
       "      <td>0.844026</td>\n",
       "      <td>0.884216</td>\n",
       "      <td>0.385424</td>\n",
       "      <td>NaN</td>\n",
       "      <td>0.376543</td>\n",
       "      <td>0.431229</td>\n",
       "      <td>0.320777</td>\n",
       "      <td>NaN</td>\n",
       "      <td>NaN</td>\n",
       "      <td>0.195107</td>\n",
       "      <td>...</td>\n",
       "      <td>NaN</td>\n",
       "      <td>0.739070</td>\n",
       "      <td>0.556335</td>\n",
       "      <td>NaN</td>\n",
       "      <td>0.785880</td>\n",
       "      <td>0.960342</td>\n",
       "      <td>0.290438</td>\n",
       "      <td>0.066668</td>\n",
       "      <td>NaN</td>\n",
       "      <td>0.895443</td>\n",
       "    </tr>\n",
       "    <tr>\n",
       "      <th>545</th>\n",
       "      <td>0.902389</td>\n",
       "      <td>0.876054</td>\n",
       "      <td>0.370775</td>\n",
       "      <td>0.067830</td>\n",
       "      <td>0.458284</td>\n",
       "      <td>0.213849</td>\n",
       "      <td>0.403698</td>\n",
       "      <td>0.938332</td>\n",
       "      <td>0.025832</td>\n",
       "      <td>0.108883</td>\n",
       "      <td>...</td>\n",
       "      <td>NaN</td>\n",
       "      <td>0.953580</td>\n",
       "      <td>0.643357</td>\n",
       "      <td>0.924728</td>\n",
       "      <td>NaN</td>\n",
       "      <td>0.960076</td>\n",
       "      <td>0.222298</td>\n",
       "      <td>0.069440</td>\n",
       "      <td>0.973611</td>\n",
       "      <td>0.941399</td>\n",
       "    </tr>\n",
       "    <tr>\n",
       "      <th>546</th>\n",
       "      <td>0.803830</td>\n",
       "      <td>0.791995</td>\n",
       "      <td>0.760513</td>\n",
       "      <td>0.025544</td>\n",
       "      <td>0.780873</td>\n",
       "      <td>0.644424</td>\n",
       "      <td>0.374312</td>\n",
       "      <td>0.960263</td>\n",
       "      <td>0.018593</td>\n",
       "      <td>0.089806</td>\n",
       "      <td>...</td>\n",
       "      <td>0.011820</td>\n",
       "      <td>0.710512</td>\n",
       "      <td>0.605637</td>\n",
       "      <td>0.830048</td>\n",
       "      <td>0.789999</td>\n",
       "      <td>0.957599</td>\n",
       "      <td>0.216402</td>\n",
       "      <td>0.083536</td>\n",
       "      <td>0.964172</td>\n",
       "      <td>0.760604</td>\n",
       "    </tr>\n",
       "    <tr>\n",
       "      <th>547</th>\n",
       "      <td>0.867401</td>\n",
       "      <td>0.797268</td>\n",
       "      <td>0.064659</td>\n",
       "      <td>0.058768</td>\n",
       "      <td>0.032740</td>\n",
       "      <td>0.500739</td>\n",
       "      <td>NaN</td>\n",
       "      <td>0.945554</td>\n",
       "      <td>0.027649</td>\n",
       "      <td>0.094192</td>\n",
       "      <td>...</td>\n",
       "      <td>NaN</td>\n",
       "      <td>NaN</td>\n",
       "      <td>0.574497</td>\n",
       "      <td>0.929329</td>\n",
       "      <td>0.868870</td>\n",
       "      <td>0.983064</td>\n",
       "      <td>0.209679</td>\n",
       "      <td>0.048327</td>\n",
       "      <td>0.962515</td>\n",
       "      <td>0.792598</td>\n",
       "    </tr>\n",
       "    <tr>\n",
       "      <th>...</th>\n",
       "      <td>...</td>\n",
       "      <td>...</td>\n",
       "      <td>...</td>\n",
       "      <td>...</td>\n",
       "      <td>...</td>\n",
       "      <td>...</td>\n",
       "      <td>...</td>\n",
       "      <td>...</td>\n",
       "      <td>...</td>\n",
       "      <td>...</td>\n",
       "      <td>...</td>\n",
       "      <td>...</td>\n",
       "      <td>...</td>\n",
       "      <td>...</td>\n",
       "      <td>...</td>\n",
       "      <td>...</td>\n",
       "      <td>...</td>\n",
       "      <td>...</td>\n",
       "      <td>...</td>\n",
       "      <td>...</td>\n",
       "      <td>...</td>\n",
       "    </tr>\n",
       "    <tr>\n",
       "      <th>1081</th>\n",
       "      <td>0.881394</td>\n",
       "      <td>0.825727</td>\n",
       "      <td>0.606170</td>\n",
       "      <td>0.033762</td>\n",
       "      <td>0.391101</td>\n",
       "      <td>0.464139</td>\n",
       "      <td>0.166891</td>\n",
       "      <td>0.957865</td>\n",
       "      <td>0.020903</td>\n",
       "      <td>0.060602</td>\n",
       "      <td>...</td>\n",
       "      <td>0.040930</td>\n",
       "      <td>0.579463</td>\n",
       "      <td>0.700173</td>\n",
       "      <td>0.911623</td>\n",
       "      <td>0.652566</td>\n",
       "      <td>0.976797</td>\n",
       "      <td>0.448878</td>\n",
       "      <td>0.059660</td>\n",
       "      <td>0.972311</td>\n",
       "      <td>0.956279</td>\n",
       "    </tr>\n",
       "    <tr>\n",
       "      <th>1082</th>\n",
       "      <td>0.866206</td>\n",
       "      <td>0.795392</td>\n",
       "      <td>0.639977</td>\n",
       "      <td>0.047799</td>\n",
       "      <td>0.580766</td>\n",
       "      <td>0.451593</td>\n",
       "      <td>0.169040</td>\n",
       "      <td>0.954365</td>\n",
       "      <td>0.019336</td>\n",
       "      <td>0.151217</td>\n",
       "      <td>...</td>\n",
       "      <td>0.045497</td>\n",
       "      <td>0.774799</td>\n",
       "      <td>0.801416</td>\n",
       "      <td>0.933809</td>\n",
       "      <td>0.752900</td>\n",
       "      <td>0.990161</td>\n",
       "      <td>0.442842</td>\n",
       "      <td>0.056958</td>\n",
       "      <td>0.952748</td>\n",
       "      <td>0.965551</td>\n",
       "    </tr>\n",
       "    <tr>\n",
       "      <th>1083</th>\n",
       "      <td>0.833391</td>\n",
       "      <td>0.765461</td>\n",
       "      <td>0.433561</td>\n",
       "      <td>0.024714</td>\n",
       "      <td>0.046143</td>\n",
       "      <td>0.486399</td>\n",
       "      <td>0.349209</td>\n",
       "      <td>0.940228</td>\n",
       "      <td>0.028312</td>\n",
       "      <td>0.393061</td>\n",
       "      <td>...</td>\n",
       "      <td>0.026659</td>\n",
       "      <td>0.930853</td>\n",
       "      <td>0.761877</td>\n",
       "      <td>0.788330</td>\n",
       "      <td>0.747153</td>\n",
       "      <td>0.976232</td>\n",
       "      <td>0.319368</td>\n",
       "      <td>0.056765</td>\n",
       "      <td>0.947105</td>\n",
       "      <td>0.930111</td>\n",
       "    </tr>\n",
       "    <tr>\n",
       "      <th>1084</th>\n",
       "      <td>0.866083</td>\n",
       "      <td>0.830673</td>\n",
       "      <td>0.373610</td>\n",
       "      <td>0.044599</td>\n",
       "      <td>0.400281</td>\n",
       "      <td>0.579988</td>\n",
       "      <td>0.322467</td>\n",
       "      <td>0.948948</td>\n",
       "      <td>0.012574</td>\n",
       "      <td>0.283542</td>\n",
       "      <td>...</td>\n",
       "      <td>0.036494</td>\n",
       "      <td>0.888059</td>\n",
       "      <td>0.832014</td>\n",
       "      <td>0.918855</td>\n",
       "      <td>0.802885</td>\n",
       "      <td>0.987945</td>\n",
       "      <td>0.342104</td>\n",
       "      <td>0.068061</td>\n",
       "      <td>0.948618</td>\n",
       "      <td>0.968978</td>\n",
       "    </tr>\n",
       "    <tr>\n",
       "      <th>1085</th>\n",
       "      <td>0.870663</td>\n",
       "      <td>0.759323</td>\n",
       "      <td>0.164935</td>\n",
       "      <td>0.041490</td>\n",
       "      <td>0.035732</td>\n",
       "      <td>0.212021</td>\n",
       "      <td>0.144562</td>\n",
       "      <td>0.947539</td>\n",
       "      <td>0.023262</td>\n",
       "      <td>0.074308</td>\n",
       "      <td>...</td>\n",
       "      <td>0.026018</td>\n",
       "      <td>0.450964</td>\n",
       "      <td>0.522670</td>\n",
       "      <td>0.900122</td>\n",
       "      <td>0.467153</td>\n",
       "      <td>0.979985</td>\n",
       "      <td>0.216977</td>\n",
       "      <td>0.049953</td>\n",
       "      <td>0.952202</td>\n",
       "      <td>0.955484</td>\n",
       "    </tr>\n",
       "  </tbody>\n",
       "</table>\n",
       "<p>543 rows × 115119 columns</p>\n",
       "</div>"
      ],
      "text/plain": [
       "        0         1         2         3         4         5         6       \\\n",
       "543   0.853339       NaN  0.118074  0.034664  0.036709  0.250773  0.224773   \n",
       "544   0.844026  0.884216  0.385424       NaN  0.376543  0.431229  0.320777   \n",
       "545   0.902389  0.876054  0.370775  0.067830  0.458284  0.213849  0.403698   \n",
       "546   0.803830  0.791995  0.760513  0.025544  0.780873  0.644424  0.374312   \n",
       "547   0.867401  0.797268  0.064659  0.058768  0.032740  0.500739       NaN   \n",
       "...        ...       ...       ...       ...       ...       ...       ...   \n",
       "1081  0.881394  0.825727  0.606170  0.033762  0.391101  0.464139  0.166891   \n",
       "1082  0.866206  0.795392  0.639977  0.047799  0.580766  0.451593  0.169040   \n",
       "1083  0.833391  0.765461  0.433561  0.024714  0.046143  0.486399  0.349209   \n",
       "1084  0.866083  0.830673  0.373610  0.044599  0.400281  0.579988  0.322467   \n",
       "1085  0.870663  0.759323  0.164935  0.041490  0.035732  0.212021  0.144562   \n",
       "\n",
       "        7         8         9       ...    115109    115110    115111  \\\n",
       "543   0.956517  0.026332  0.098335  ...  0.018415  0.951655  0.632206   \n",
       "544        NaN       NaN  0.195107  ...       NaN  0.739070  0.556335   \n",
       "545   0.938332  0.025832  0.108883  ...       NaN  0.953580  0.643357   \n",
       "546   0.960263  0.018593  0.089806  ...  0.011820  0.710512  0.605637   \n",
       "547   0.945554  0.027649  0.094192  ...       NaN       NaN  0.574497   \n",
       "...        ...       ...       ...  ...       ...       ...       ...   \n",
       "1081  0.957865  0.020903  0.060602  ...  0.040930  0.579463  0.700173   \n",
       "1082  0.954365  0.019336  0.151217  ...  0.045497  0.774799  0.801416   \n",
       "1083  0.940228  0.028312  0.393061  ...  0.026659  0.930853  0.761877   \n",
       "1084  0.948948  0.012574  0.283542  ...  0.036494  0.888059  0.832014   \n",
       "1085  0.947539  0.023262  0.074308  ...  0.026018  0.450964  0.522670   \n",
       "\n",
       "        115112    115113    115114    115115    115116    115117    115118  \n",
       "543   0.876530  0.673161  0.953716  0.330981  0.043584  0.949944  0.960375  \n",
       "544        NaN  0.785880  0.960342  0.290438  0.066668       NaN  0.895443  \n",
       "545   0.924728       NaN  0.960076  0.222298  0.069440  0.973611  0.941399  \n",
       "546   0.830048  0.789999  0.957599  0.216402  0.083536  0.964172  0.760604  \n",
       "547   0.929329  0.868870  0.983064  0.209679  0.048327  0.962515  0.792598  \n",
       "...        ...       ...       ...       ...       ...       ...       ...  \n",
       "1081  0.911623  0.652566  0.976797  0.448878  0.059660  0.972311  0.956279  \n",
       "1082  0.933809  0.752900  0.990161  0.442842  0.056958  0.952748  0.965551  \n",
       "1083  0.788330  0.747153  0.976232  0.319368  0.056765  0.947105  0.930111  \n",
       "1084  0.918855  0.802885  0.987945  0.342104  0.068061  0.948618  0.968978  \n",
       "1085  0.900122  0.467153  0.979985  0.216977  0.049953  0.952202  0.955484  \n",
       "\n",
       "[543 rows x 115119 columns]"
      ]
     },
     "execution_count": 91,
     "metadata": {},
     "output_type": "execute_result"
    }
   ],
   "source": [
    "all_beta_normalized_tumor"
   ]
  },
  {
   "cell_type": "code",
   "execution_count": 93,
   "metadata": {},
   "outputs": [],
   "source": [
    "all_beta_normalized_tumor = all_beta_normalized_tumor.subtract(\n",
    "    train_normal_avg, axis=1\n",
    ")"
   ]
  },
  {
   "cell_type": "code",
   "execution_count": 52,
   "metadata": {},
   "outputs": [],
   "source": [
    "all_beta_normalized_tumor = no_outlier(all_beta_normalized_tumor)"
   ]
  },
  {
   "cell_type": "code",
   "execution_count": 97,
   "metadata": {},
   "outputs": [
    {
     "data": {
      "text/html": [
       "<div>\n",
       "<style scoped>\n",
       "    .dataframe tbody tr th:only-of-type {\n",
       "        vertical-align: middle;\n",
       "    }\n",
       "\n",
       "    .dataframe tbody tr th {\n",
       "        vertical-align: top;\n",
       "    }\n",
       "\n",
       "    .dataframe thead th {\n",
       "        text-align: right;\n",
       "    }\n",
       "</style>\n",
       "<table border=\"1\" class=\"dataframe\">\n",
       "  <thead>\n",
       "    <tr style=\"text-align: right;\">\n",
       "      <th></th>\n",
       "      <th>0</th>\n",
       "      <th>1</th>\n",
       "      <th>2</th>\n",
       "      <th>3</th>\n",
       "      <th>4</th>\n",
       "      <th>5</th>\n",
       "      <th>6</th>\n",
       "      <th>7</th>\n",
       "      <th>8</th>\n",
       "      <th>9</th>\n",
       "      <th>...</th>\n",
       "      <th>115109</th>\n",
       "      <th>115110</th>\n",
       "      <th>115111</th>\n",
       "      <th>115112</th>\n",
       "      <th>115113</th>\n",
       "      <th>115114</th>\n",
       "      <th>115115</th>\n",
       "      <th>115116</th>\n",
       "      <th>115117</th>\n",
       "      <th>115118</th>\n",
       "    </tr>\n",
       "  </thead>\n",
       "  <tbody>\n",
       "    <tr>\n",
       "      <th>543</th>\n",
       "      <td>-0.011259</td>\n",
       "      <td>NaN</td>\n",
       "      <td>0.028493</td>\n",
       "      <td>0.007743</td>\n",
       "      <td>0.005960</td>\n",
       "      <td>-0.032328</td>\n",
       "      <td>-0.053194</td>\n",
       "      <td>-0.005928</td>\n",
       "      <td>0.007033</td>\n",
       "      <td>-0.001660</td>\n",
       "      <td>...</td>\n",
       "      <td>-0.019171</td>\n",
       "      <td>-0.024027</td>\n",
       "      <td>-0.022850</td>\n",
       "      <td>-0.046415</td>\n",
       "      <td>-0.031426</td>\n",
       "      <td>-0.031445</td>\n",
       "      <td>-0.091448</td>\n",
       "      <td>-0.005489</td>\n",
       "      <td>0.002807</td>\n",
       "      <td>0.003501</td>\n",
       "    </tr>\n",
       "    <tr>\n",
       "      <th>544</th>\n",
       "      <td>-0.020572</td>\n",
       "      <td>0.101756</td>\n",
       "      <td>0.295842</td>\n",
       "      <td>NaN</td>\n",
       "      <td>0.345794</td>\n",
       "      <td>0.148129</td>\n",
       "      <td>0.042810</td>\n",
       "      <td>NaN</td>\n",
       "      <td>NaN</td>\n",
       "      <td>0.095112</td>\n",
       "      <td>...</td>\n",
       "      <td>NaN</td>\n",
       "      <td>-0.236612</td>\n",
       "      <td>-0.098720</td>\n",
       "      <td>NaN</td>\n",
       "      <td>0.081293</td>\n",
       "      <td>-0.024819</td>\n",
       "      <td>-0.131991</td>\n",
       "      <td>0.017594</td>\n",
       "      <td>NaN</td>\n",
       "      <td>-0.061431</td>\n",
       "    </tr>\n",
       "    <tr>\n",
       "      <th>545</th>\n",
       "      <td>0.037791</td>\n",
       "      <td>0.093594</td>\n",
       "      <td>0.281193</td>\n",
       "      <td>0.040909</td>\n",
       "      <td>0.427535</td>\n",
       "      <td>-0.069251</td>\n",
       "      <td>0.125731</td>\n",
       "      <td>-0.024113</td>\n",
       "      <td>0.006533</td>\n",
       "      <td>0.008888</td>\n",
       "      <td>...</td>\n",
       "      <td>NaN</td>\n",
       "      <td>-0.022101</td>\n",
       "      <td>-0.011699</td>\n",
       "      <td>0.001782</td>\n",
       "      <td>NaN</td>\n",
       "      <td>-0.025085</td>\n",
       "      <td>-0.200131</td>\n",
       "      <td>0.020366</td>\n",
       "      <td>0.026475</td>\n",
       "      <td>-0.015474</td>\n",
       "    </tr>\n",
       "    <tr>\n",
       "      <th>546</th>\n",
       "      <td>-0.060768</td>\n",
       "      <td>0.009535</td>\n",
       "      <td>0.670932</td>\n",
       "      <td>-0.001377</td>\n",
       "      <td>0.750124</td>\n",
       "      <td>0.361323</td>\n",
       "      <td>0.096345</td>\n",
       "      <td>-0.002182</td>\n",
       "      <td>-0.000706</td>\n",
       "      <td>-0.010189</td>\n",
       "      <td>...</td>\n",
       "      <td>-0.025766</td>\n",
       "      <td>-0.265170</td>\n",
       "      <td>-0.049418</td>\n",
       "      <td>-0.092898</td>\n",
       "      <td>0.085412</td>\n",
       "      <td>-0.027563</td>\n",
       "      <td>-0.206027</td>\n",
       "      <td>0.034462</td>\n",
       "      <td>0.017035</td>\n",
       "      <td>-0.196269</td>\n",
       "    </tr>\n",
       "    <tr>\n",
       "      <th>547</th>\n",
       "      <td>0.002803</td>\n",
       "      <td>0.014807</td>\n",
       "      <td>-0.024923</td>\n",
       "      <td>0.031847</td>\n",
       "      <td>0.001991</td>\n",
       "      <td>0.217638</td>\n",
       "      <td>NaN</td>\n",
       "      <td>-0.016891</td>\n",
       "      <td>0.008350</td>\n",
       "      <td>-0.005803</td>\n",
       "      <td>...</td>\n",
       "      <td>NaN</td>\n",
       "      <td>NaN</td>\n",
       "      <td>-0.080558</td>\n",
       "      <td>0.006383</td>\n",
       "      <td>0.164283</td>\n",
       "      <td>-0.002097</td>\n",
       "      <td>-0.212750</td>\n",
       "      <td>-0.000746</td>\n",
       "      <td>0.015379</td>\n",
       "      <td>-0.164275</td>\n",
       "    </tr>\n",
       "    <tr>\n",
       "      <th>...</th>\n",
       "      <td>...</td>\n",
       "      <td>...</td>\n",
       "      <td>...</td>\n",
       "      <td>...</td>\n",
       "      <td>...</td>\n",
       "      <td>...</td>\n",
       "      <td>...</td>\n",
       "      <td>...</td>\n",
       "      <td>...</td>\n",
       "      <td>...</td>\n",
       "      <td>...</td>\n",
       "      <td>...</td>\n",
       "      <td>...</td>\n",
       "      <td>...</td>\n",
       "      <td>...</td>\n",
       "      <td>...</td>\n",
       "      <td>...</td>\n",
       "      <td>...</td>\n",
       "      <td>...</td>\n",
       "      <td>...</td>\n",
       "      <td>...</td>\n",
       "    </tr>\n",
       "    <tr>\n",
       "      <th>1081</th>\n",
       "      <td>0.016796</td>\n",
       "      <td>0.043267</td>\n",
       "      <td>0.516588</td>\n",
       "      <td>0.006841</td>\n",
       "      <td>0.360352</td>\n",
       "      <td>0.181039</td>\n",
       "      <td>-0.111076</td>\n",
       "      <td>-0.004580</td>\n",
       "      <td>0.001605</td>\n",
       "      <td>-0.039393</td>\n",
       "      <td>...</td>\n",
       "      <td>0.003343</td>\n",
       "      <td>-0.396218</td>\n",
       "      <td>0.045117</td>\n",
       "      <td>-0.011323</td>\n",
       "      <td>-0.052021</td>\n",
       "      <td>-0.008364</td>\n",
       "      <td>0.026449</td>\n",
       "      <td>0.010586</td>\n",
       "      <td>0.025175</td>\n",
       "      <td>-0.000595</td>\n",
       "    </tr>\n",
       "    <tr>\n",
       "      <th>1082</th>\n",
       "      <td>0.001608</td>\n",
       "      <td>0.012931</td>\n",
       "      <td>0.550395</td>\n",
       "      <td>0.020878</td>\n",
       "      <td>0.550017</td>\n",
       "      <td>0.168493</td>\n",
       "      <td>-0.108926</td>\n",
       "      <td>-0.008080</td>\n",
       "      <td>0.000038</td>\n",
       "      <td>0.051222</td>\n",
       "      <td>...</td>\n",
       "      <td>0.007910</td>\n",
       "      <td>-0.200882</td>\n",
       "      <td>0.146361</td>\n",
       "      <td>0.010863</td>\n",
       "      <td>0.048313</td>\n",
       "      <td>0.005000</td>\n",
       "      <td>0.020413</td>\n",
       "      <td>0.007885</td>\n",
       "      <td>0.005611</td>\n",
       "      <td>0.008678</td>\n",
       "    </tr>\n",
       "    <tr>\n",
       "      <th>1083</th>\n",
       "      <td>-0.031207</td>\n",
       "      <td>-0.016999</td>\n",
       "      <td>0.343979</td>\n",
       "      <td>-0.002207</td>\n",
       "      <td>0.015394</td>\n",
       "      <td>0.203299</td>\n",
       "      <td>0.071243</td>\n",
       "      <td>-0.022217</td>\n",
       "      <td>0.009013</td>\n",
       "      <td>0.293066</td>\n",
       "      <td>...</td>\n",
       "      <td>-0.010928</td>\n",
       "      <td>-0.044828</td>\n",
       "      <td>0.106821</td>\n",
       "      <td>-0.134616</td>\n",
       "      <td>0.042566</td>\n",
       "      <td>-0.008929</td>\n",
       "      <td>-0.103062</td>\n",
       "      <td>0.007691</td>\n",
       "      <td>-0.000031</td>\n",
       "      <td>-0.026762</td>\n",
       "    </tr>\n",
       "    <tr>\n",
       "      <th>1084</th>\n",
       "      <td>0.001485</td>\n",
       "      <td>0.048213</td>\n",
       "      <td>0.284028</td>\n",
       "      <td>0.017678</td>\n",
       "      <td>0.369532</td>\n",
       "      <td>0.296887</td>\n",
       "      <td>0.044501</td>\n",
       "      <td>-0.013497</td>\n",
       "      <td>-0.006725</td>\n",
       "      <td>0.183547</td>\n",
       "      <td>...</td>\n",
       "      <td>-0.001092</td>\n",
       "      <td>-0.087622</td>\n",
       "      <td>0.176958</td>\n",
       "      <td>-0.004091</td>\n",
       "      <td>0.098298</td>\n",
       "      <td>0.002784</td>\n",
       "      <td>-0.080326</td>\n",
       "      <td>0.018987</td>\n",
       "      <td>0.001482</td>\n",
       "      <td>0.012104</td>\n",
       "    </tr>\n",
       "    <tr>\n",
       "      <th>1085</th>\n",
       "      <td>0.006065</td>\n",
       "      <td>-0.023137</td>\n",
       "      <td>0.075353</td>\n",
       "      <td>0.014569</td>\n",
       "      <td>0.004983</td>\n",
       "      <td>-0.071079</td>\n",
       "      <td>-0.133404</td>\n",
       "      <td>-0.014906</td>\n",
       "      <td>0.003963</td>\n",
       "      <td>-0.025687</td>\n",
       "      <td>...</td>\n",
       "      <td>-0.011568</td>\n",
       "      <td>-0.524717</td>\n",
       "      <td>-0.132386</td>\n",
       "      <td>-0.022824</td>\n",
       "      <td>-0.237434</td>\n",
       "      <td>-0.005176</td>\n",
       "      <td>-0.205453</td>\n",
       "      <td>0.000879</td>\n",
       "      <td>0.005065</td>\n",
       "      <td>-0.001390</td>\n",
       "    </tr>\n",
       "  </tbody>\n",
       "</table>\n",
       "<p>543 rows × 115119 columns</p>\n",
       "</div>"
      ],
      "text/plain": [
       "        0         1         2         3         4         5         6       \\\n",
       "543  -0.011259       NaN  0.028493  0.007743  0.005960 -0.032328 -0.053194   \n",
       "544  -0.020572  0.101756  0.295842       NaN  0.345794  0.148129  0.042810   \n",
       "545   0.037791  0.093594  0.281193  0.040909  0.427535 -0.069251  0.125731   \n",
       "546  -0.060768  0.009535  0.670932 -0.001377  0.750124  0.361323  0.096345   \n",
       "547   0.002803  0.014807 -0.024923  0.031847  0.001991  0.217638       NaN   \n",
       "...        ...       ...       ...       ...       ...       ...       ...   \n",
       "1081  0.016796  0.043267  0.516588  0.006841  0.360352  0.181039 -0.111076   \n",
       "1082  0.001608  0.012931  0.550395  0.020878  0.550017  0.168493 -0.108926   \n",
       "1083 -0.031207 -0.016999  0.343979 -0.002207  0.015394  0.203299  0.071243   \n",
       "1084  0.001485  0.048213  0.284028  0.017678  0.369532  0.296887  0.044501   \n",
       "1085  0.006065 -0.023137  0.075353  0.014569  0.004983 -0.071079 -0.133404   \n",
       "\n",
       "        7         8         9       ...    115109    115110    115111  \\\n",
       "543  -0.005928  0.007033 -0.001660  ... -0.019171 -0.024027 -0.022850   \n",
       "544        NaN       NaN  0.095112  ...       NaN -0.236612 -0.098720   \n",
       "545  -0.024113  0.006533  0.008888  ...       NaN -0.022101 -0.011699   \n",
       "546  -0.002182 -0.000706 -0.010189  ... -0.025766 -0.265170 -0.049418   \n",
       "547  -0.016891  0.008350 -0.005803  ...       NaN       NaN -0.080558   \n",
       "...        ...       ...       ...  ...       ...       ...       ...   \n",
       "1081 -0.004580  0.001605 -0.039393  ...  0.003343 -0.396218  0.045117   \n",
       "1082 -0.008080  0.000038  0.051222  ...  0.007910 -0.200882  0.146361   \n",
       "1083 -0.022217  0.009013  0.293066  ... -0.010928 -0.044828  0.106821   \n",
       "1084 -0.013497 -0.006725  0.183547  ... -0.001092 -0.087622  0.176958   \n",
       "1085 -0.014906  0.003963 -0.025687  ... -0.011568 -0.524717 -0.132386   \n",
       "\n",
       "        115112    115113    115114    115115    115116    115117    115118  \n",
       "543  -0.046415 -0.031426 -0.031445 -0.091448 -0.005489  0.002807  0.003501  \n",
       "544        NaN  0.081293 -0.024819 -0.131991  0.017594       NaN -0.061431  \n",
       "545   0.001782       NaN -0.025085 -0.200131  0.020366  0.026475 -0.015474  \n",
       "546  -0.092898  0.085412 -0.027563 -0.206027  0.034462  0.017035 -0.196269  \n",
       "547   0.006383  0.164283 -0.002097 -0.212750 -0.000746  0.015379 -0.164275  \n",
       "...        ...       ...       ...       ...       ...       ...       ...  \n",
       "1081 -0.011323 -0.052021 -0.008364  0.026449  0.010586  0.025175 -0.000595  \n",
       "1082  0.010863  0.048313  0.005000  0.020413  0.007885  0.005611  0.008678  \n",
       "1083 -0.134616  0.042566 -0.008929 -0.103062  0.007691 -0.000031 -0.026762  \n",
       "1084 -0.004091  0.098298  0.002784 -0.080326  0.018987  0.001482  0.012104  \n",
       "1085 -0.022824 -0.237434 -0.005176 -0.205453  0.000879  0.005065 -0.001390  \n",
       "\n",
       "[543 rows x 115119 columns]"
      ]
     },
     "execution_count": 97,
     "metadata": {},
     "output_type": "execute_result"
    }
   ],
   "source": [
    "all_beta_normalized_tumor"
   ]
  },
  {
   "cell_type": "code",
   "execution_count": 98,
   "metadata": {},
   "outputs": [],
   "source": [
    "train_tumor_mean = all_beta_normalized_tumor.mean(skipna=True, axis=0)"
   ]
  },
  {
   "cell_type": "code",
   "execution_count": 99,
   "metadata": {},
   "outputs": [],
   "source": [
    "delta_beta = pd.merge(\n",
    "    train_df.iloc[:-1, :1],\n",
    "    pd.DataFrame(train_tumor_mean, columns=[\"dbeta\"]),\n",
    "    left_index=True,\n",
    "    right_index=True,\n",
    ")\n",
    "update_nested_toml(\"preprocess.dbeta\", \"delta_beta_avg\", delta_beta.shape[0])"
   ]
  },
  {
   "cell_type": "code",
   "execution_count": 100,
   "metadata": {},
   "outputs": [],
   "source": [
    "# print(delta_beta[pd.isna(delta_beta[\"dbeta\"])])\n",
    "# record the list of feature with dbeta being NaN\n",
    "update_nested_toml(\n",
    "    \"preprocess.dbeta\",\n",
    "    \"NaN_dbeta_feature\",\n",
    "    delta_beta.loc[pd.isna(delta_beta[\"dbeta\"]), \"Unnamed: 0\"].tolist(),\n",
    ")\n",
    "delta_beta.dropna(inplace=True, axis=0)\n",
    "update_nested_toml(\"preprocess.dbeta\", \"delta_beta_avg_remove_NaN\", delta_beta.shape[0])"
   ]
  },
  {
   "cell_type": "code",
   "execution_count": 101,
   "metadata": {},
   "outputs": [],
   "source": [
    "dmp = pd.read_csv(f\"../{TYPE}/champ_result/{data_source}/DMP_result_0.csv\")\n",
    "dmp = dmp[[\"Unnamed: 0\", \"gene\", \"feature\"]]\n",
    "update_nested_toml(\"preprocess.dbeta\", \"dmp_before_dropna_shape_feature\", dmp.shape[0])\n",
    "dmp.dropna(inplace=True)\n",
    "update_nested_toml(\"preprocess.dbeta\", \"dmp_after_dropna_shape_feature\", dmp.shape[0])"
   ]
  },
  {
   "cell_type": "code",
   "execution_count": 102,
   "metadata": {},
   "outputs": [],
   "source": [
    "result = pd.merge(delta_beta, dmp, on=\"Unnamed: 0\", how=\"left\")\n",
    "update_nested_toml(\n",
    "    \"preprocess.dbeta\", \"delta_beta_avg_remove_NaN_with_gene_name\", result.shape[0]\n",
    ")"
   ]
  },
  {
   "cell_type": "code",
   "execution_count": 103,
   "metadata": {},
   "outputs": [],
   "source": [
    "def find_max_dBeta_grouped(group):\n",
    "    idx_max = group[\"dbeta\"].abs().idxmax()\n",
    "    return group.loc[idx_max]\n",
    "\n",
    "\n",
    "dbeta = result.groupby(\"gene\", as_index=False).apply(\n",
    "    find_max_dBeta_grouped, include_groups=False\n",
    ")"
   ]
  },
  {
   "cell_type": "code",
   "execution_count": 104,
   "metadata": {},
   "outputs": [
    {
     "data": {
      "text/html": [
       "<div>\n",
       "<style scoped>\n",
       "    .dataframe tbody tr th:only-of-type {\n",
       "        vertical-align: middle;\n",
       "    }\n",
       "\n",
       "    .dataframe tbody tr th {\n",
       "        vertical-align: top;\n",
       "    }\n",
       "\n",
       "    .dataframe thead th {\n",
       "        text-align: right;\n",
       "    }\n",
       "</style>\n",
       "<table border=\"1\" class=\"dataframe\">\n",
       "  <thead>\n",
       "    <tr style=\"text-align: right;\">\n",
       "      <th></th>\n",
       "      <th>ID</th>\n",
       "      <th>gene</th>\n",
       "      <th>dbeta</th>\n",
       "      <th>feature</th>\n",
       "    </tr>\n",
       "  </thead>\n",
       "  <tbody>\n",
       "    <tr>\n",
       "      <th>0</th>\n",
       "      <td>cg10734734</td>\n",
       "      <td>A1BG</td>\n",
       "      <td>0.006736</td>\n",
       "      <td>Body</td>\n",
       "    </tr>\n",
       "    <tr>\n",
       "      <th>1</th>\n",
       "      <td>cg04671611</td>\n",
       "      <td>A2BP1</td>\n",
       "      <td>-0.210805</td>\n",
       "      <td>5'UTR</td>\n",
       "    </tr>\n",
       "    <tr>\n",
       "      <th>2</th>\n",
       "      <td>cg14888445</td>\n",
       "      <td>A2LD1</td>\n",
       "      <td>0.130660</td>\n",
       "      <td>Body</td>\n",
       "    </tr>\n",
       "    <tr>\n",
       "      <th>3</th>\n",
       "      <td>cg08300930</td>\n",
       "      <td>A2M</td>\n",
       "      <td>0.030011</td>\n",
       "      <td>Body</td>\n",
       "    </tr>\n",
       "    <tr>\n",
       "      <th>4</th>\n",
       "      <td>cg15384867</td>\n",
       "      <td>A2ML1</td>\n",
       "      <td>0.012122</td>\n",
       "      <td>Body</td>\n",
       "    </tr>\n",
       "    <tr>\n",
       "      <th>...</th>\n",
       "      <td>...</td>\n",
       "      <td>...</td>\n",
       "      <td>...</td>\n",
       "      <td>...</td>\n",
       "    </tr>\n",
       "    <tr>\n",
       "      <th>14414</th>\n",
       "      <td>cg04830147</td>\n",
       "      <td>ZYG11A</td>\n",
       "      <td>0.262573</td>\n",
       "      <td>TSS1500</td>\n",
       "    </tr>\n",
       "    <tr>\n",
       "      <th>14415</th>\n",
       "      <td>cg24675658</td>\n",
       "      <td>ZYG11B</td>\n",
       "      <td>0.009436</td>\n",
       "      <td>TSS200</td>\n",
       "    </tr>\n",
       "    <tr>\n",
       "      <th>14416</th>\n",
       "      <td>cg05102190</td>\n",
       "      <td>ZYX</td>\n",
       "      <td>0.183085</td>\n",
       "      <td>TSS200</td>\n",
       "    </tr>\n",
       "    <tr>\n",
       "      <th>14417</th>\n",
       "      <td>cg21517865</td>\n",
       "      <td>ZZEF1</td>\n",
       "      <td>0.295140</td>\n",
       "      <td>TSS1500</td>\n",
       "    </tr>\n",
       "    <tr>\n",
       "      <th>14418</th>\n",
       "      <td>cg05029193</td>\n",
       "      <td>ZZZ3</td>\n",
       "      <td>-0.164316</td>\n",
       "      <td>TSS1500</td>\n",
       "    </tr>\n",
       "  </tbody>\n",
       "</table>\n",
       "<p>14419 rows × 4 columns</p>\n",
       "</div>"
      ],
      "text/plain": [
       "               ID    gene     dbeta  feature\n",
       "0      cg10734734    A1BG  0.006736     Body\n",
       "1      cg04671611   A2BP1 -0.210805    5'UTR\n",
       "2      cg14888445   A2LD1  0.130660     Body\n",
       "3      cg08300930     A2M  0.030011     Body\n",
       "4      cg15384867   A2ML1  0.012122     Body\n",
       "...           ...     ...       ...      ...\n",
       "14414  cg04830147  ZYG11A  0.262573  TSS1500\n",
       "14415  cg24675658  ZYG11B  0.009436   TSS200\n",
       "14416  cg05102190     ZYX  0.183085   TSS200\n",
       "14417  cg21517865   ZZEF1  0.295140  TSS1500\n",
       "14418  cg05029193    ZZZ3 -0.164316  TSS1500\n",
       "\n",
       "[14419 rows x 4 columns]"
      ]
     },
     "execution_count": 104,
     "metadata": {},
     "output_type": "execute_result"
    }
   ],
   "source": [
    "dbeta.columns = [\"gene\", \"ID\", \"dbeta\", \"feature\"]\n",
    "dbeta = dbeta[[\"ID\", \"gene\", \"dbeta\", \"feature\"]]\n",
    "# DEBUG\n",
    "dbeta\n",
    "# END"
   ]
  },
  {
   "cell_type": "code",
   "execution_count": null,
   "metadata": {},
   "outputs": [],
   "source": [
    "# comorbidity = pd.read_csv(\n",
    "#     \"../external_result/matchgene174_single_3Y10__OR2.txt\", sep=\"\\t\", header=None\n",
    "# )\n",
    "# dbeta = dbeta[\n",
    "#     dbeta[\"gene\"].isin(comorbidity[0])\n",
    "# ]\n",
    "\n",
    "# result_max_per_gene_single"
   ]
  },
  {
   "cell_type": "code",
   "execution_count": 105,
   "metadata": {},
   "outputs": [],
   "source": [
    "dbeta.to_csv(f\"{trainOutPath}/dbeta.csv\", index=False)"
   ]
  },
  {
   "cell_type": "markdown",
   "metadata": {},
   "source": [
    "### Sec. 2 Filter genes by dbeta values\n",
    "1. filter genes by dbeta values\n",
    "3. filter genes by TSS position\n",
    "4. plot distribution of dbeta values\n",
    "5. plot PCA for normal and tumor\n"
   ]
  },
  {
   "cell_type": "code",
   "execution_count": null,
   "metadata": {},
   "outputs": [],
   "source": [
    "# dbeta = pd.read_csv(f\"{trainOutPath}/dbeta.csv\")"
   ]
  },
  {
   "cell_type": "markdown",
   "metadata": {},
   "source": [
    "#### Filtering TSS"
   ]
  },
  {
   "cell_type": "code",
   "execution_count": 106,
   "metadata": {},
   "outputs": [],
   "source": [
    "TSS = dbeta[dbeta[\"feature\"].str.contains(\"TSS\")]"
   ]
  },
  {
   "cell_type": "code",
   "execution_count": 107,
   "metadata": {},
   "outputs": [],
   "source": [
    "TSS.to_csv(f\"{trainOutPath}/dbeta_TSS.csv\", index=False)"
   ]
  },
  {
   "cell_type": "markdown",
   "metadata": {},
   "source": [
    "#### Thresholding"
   ]
  },
  {
   "cell_type": "code",
   "execution_count": 108,
   "metadata": {},
   "outputs": [],
   "source": [
    "threshold = 0.5\n",
    "TSS_threshold = TSS[abs(TSS[\"dbeta\"]) > threshold]\n",
    "while True:\n",
    "    TSS_threshold = TSS[abs(TSS[\"dbeta\"]) > threshold]\n",
    "    count = TSS_threshold.shape[0]\n",
    "    if (\n",
    "        config[\"preprocess\"][\"filtering\"][\"hyper\"][\"avg_dbeta_lower_bound\"]\n",
    "        <= count\n",
    "        <= config[\"preprocess\"][\"filtering\"][\"hyper\"][\"avg_dbeta_upper_bound\"]\n",
    "    ):\n",
    "        break\n",
    "    threshold -= 0.01\n",
    "threshold = round(threshold, 2)\n",
    "update_nested_toml(\"preprocess.filtering\", \"threshold\", threshold)"
   ]
  },
  {
   "cell_type": "code",
   "execution_count": 109,
   "metadata": {},
   "outputs": [],
   "source": [
    "TSS_threshold.to_csv(f\"{trainOutPath}/dbeta_TSS_{threshold}.csv\", index=False)"
   ]
  },
  {
   "cell_type": "markdown",
   "metadata": {},
   "source": [
    "#### Visualization"
   ]
  },
  {
   "cell_type": "code",
   "execution_count": 110,
   "metadata": {},
   "outputs": [
    {
     "data": {
      "text/plain": [
       "Text(0.5, 1.0, 'Density plot of delta Beta value')"
      ]
     },
     "execution_count": 110,
     "metadata": {},
     "output_type": "execute_result"
    },
    {
     "data": {
      "image/png": "[encoded data removed]",
      "text/plain": [
       "<Figure size 640x480 with 1 Axes>"
      ]
     },
     "metadata": {},
     "output_type": "display_data"
    }
   ],
   "source": [
    "# DEBUG\n",
    "import seaborn as sns\n",
    "import matplotlib.pyplot as plt\n",
    "\n",
    "sns.kdeplot(TSS_threshold[\"dbeta\"])\n",
    "plt.xlabel(\"delta Beta value\")\n",
    "plt.title(\"Density plot of delta Beta value\")\n",
    "# END"
   ]
  },
  {
   "cell_type": "code",
   "execution_count": null,
   "metadata": {},
   "outputs": [],
   "source": [
    "# train_df = pd.read_csv(f\"{trainOutPath}/all_beta_normalized_0.csv\")"
   ]
  },
  {
   "cell_type": "code",
   "execution_count": 111,
   "metadata": {},
   "outputs": [
    {
     "name": "stdout",
     "output_type": "stream",
     "text": [
      "X shape: (1086, 14419)\n",
      "y shape: 1086\n"
     ]
    }
   ],
   "source": [
    "normal_count = (train_df.iloc[-1, 1:] == 0).sum()\n",
    "df_gene = train_df.iloc[:-1, :]\n",
    "df_gene = df_gene[df_gene[df_gene.columns[0]].isin(dbeta[\"ID\"])]\n",
    "X = df_gene.iloc[:, 1:].reset_index(drop=True).T\n",
    "y = [0 if i < normal_count else 1 for i in range(X.shape[0])]\n",
    "# DEBUG\n",
    "print(f\"X shape: {X.shape}\")\n",
    "print(f\"y shape: {len(y)}\")\n",
    "# END"
   ]
  },
  {
   "cell_type": "code",
   "execution_count": 112,
   "metadata": {},
   "outputs": [
    {
     "name": "stdout",
     "output_type": "stream",
     "text": [
      "(1086, 4)\n"
     ]
    }
   ],
   "source": [
    "import plotly.express as px\n",
    "import pandas as pd\n",
    "from sklearn.decomposition import PCA\n",
    "\n",
    "pca = PCA(n_components=3)\n",
    "X_pca = pca.fit_transform(X)\n",
    "\n",
    "df = pd.DataFrame(\n",
    "    {\n",
    "        \"Principal Component 1\": X_pca[:, 0],\n",
    "        \"Principal Component 2\": X_pca[:, 1],\n",
    "        \"Principal Component 3\": X_pca[:, 2],\n",
    "        \"Class\": y,\n",
    "    }\n",
    ")\n",
    "print(df.shape)\n",
    "fig = px.scatter_3d(\n",
    "    df,\n",
    "    x=\"Principal Component 1\",\n",
    "    y=\"Principal Component 2\",\n",
    "    z=\"Principal Component 3\",\n",
    "    color=\"Class\",\n",
    "    title=\"PCA of Dataset\",\n",
    "    color_continuous_scale=\"Viridis\",\n",
    ")\n",
    "\n",
    "fig.update_layout(\n",
    "    scene=dict(\n",
    "        xaxis_title=\"Principal Component 1\",\n",
    "        yaxis_title=\"Principal Component 2\",\n",
    "        zaxis_title=\"Principal Component 3\",\n",
    "    )\n",
    ")\n",
    "\n",
    "# fig.show()\n",
    "\n",
    "fig.write_html(f\"{trainOutPath}/preprocess_filtering_pca.html\")\n",
    "# open in browser"
   ]
  },
  {
   "cell_type": "markdown",
   "metadata": {},
   "source": [
    "### Sec. 3 Machine Learning\n",
    "1. remove hypo-methylated genes\n",
    "2. RFE\n",
    "3. RFECV (tbd)"
   ]
  },
  {
   "cell_type": "code",
   "execution_count": 31,
   "metadata": {},
   "outputs": [],
   "source": [
    "config = load_config(CONFIG_PATH)\n",
    "threshold = config[\"preprocess\"][\"filtering\"][\"threshold\"]\n",
    "TSS_threshold = pd.read_csv(f\"{trainOutPath}/dbeta_TSS_{threshold}.csv\")"
   ]
  },
  {
   "cell_type": "code",
   "execution_count": 32,
   "metadata": {},
   "outputs": [
    {
     "data": {
      "text/html": [
       "<div>\n",
       "<style scoped>\n",
       "    .dataframe tbody tr th:only-of-type {\n",
       "        vertical-align: middle;\n",
       "    }\n",
       "\n",
       "    .dataframe tbody tr th {\n",
       "        vertical-align: top;\n",
       "    }\n",
       "\n",
       "    .dataframe thead th {\n",
       "        text-align: right;\n",
       "    }\n",
       "</style>\n",
       "<table border=\"1\" class=\"dataframe\">\n",
       "  <thead>\n",
       "    <tr style=\"text-align: right;\">\n",
       "      <th></th>\n",
       "      <th>ID</th>\n",
       "      <th>gene</th>\n",
       "      <th>dbeta</th>\n",
       "      <th>feature</th>\n",
       "    </tr>\n",
       "  </thead>\n",
       "  <tbody>\n",
       "    <tr>\n",
       "      <th>0</th>\n",
       "      <td>cg04911280</td>\n",
       "      <td>AARS2</td>\n",
       "      <td>0.069674</td>\n",
       "      <td>TSS200</td>\n",
       "    </tr>\n",
       "    <tr>\n",
       "      <th>2</th>\n",
       "      <td>cg19529696</td>\n",
       "      <td>ABCF2</td>\n",
       "      <td>0.055435</td>\n",
       "      <td>TSS200</td>\n",
       "    </tr>\n",
       "    <tr>\n",
       "      <th>3</th>\n",
       "      <td>cg24006936</td>\n",
       "      <td>ABT1</td>\n",
       "      <td>0.060007</td>\n",
       "      <td>TSS200</td>\n",
       "    </tr>\n",
       "    <tr>\n",
       "      <th>4</th>\n",
       "      <td>cg03401580</td>\n",
       "      <td>ACP6</td>\n",
       "      <td>0.063028</td>\n",
       "      <td>TSS200</td>\n",
       "    </tr>\n",
       "    <tr>\n",
       "      <th>6</th>\n",
       "      <td>cg02089380</td>\n",
       "      <td>ACVR1</td>\n",
       "      <td>0.066394</td>\n",
       "      <td>TSS1500</td>\n",
       "    </tr>\n",
       "    <tr>\n",
       "      <th>...</th>\n",
       "      <td>...</td>\n",
       "      <td>...</td>\n",
       "      <td>...</td>\n",
       "      <td>...</td>\n",
       "    </tr>\n",
       "    <tr>\n",
       "      <th>438</th>\n",
       "      <td>cg25404339</td>\n",
       "      <td>ZNF677</td>\n",
       "      <td>0.051339</td>\n",
       "      <td>TSS200</td>\n",
       "    </tr>\n",
       "    <tr>\n",
       "      <th>439</th>\n",
       "      <td>cg04910638</td>\n",
       "      <td>ZNF684</td>\n",
       "      <td>0.058628</td>\n",
       "      <td>TSS200</td>\n",
       "    </tr>\n",
       "    <tr>\n",
       "      <th>440</th>\n",
       "      <td>cg12440566</td>\n",
       "      <td>ZNF703</td>\n",
       "      <td>0.055607</td>\n",
       "      <td>TSS200</td>\n",
       "    </tr>\n",
       "    <tr>\n",
       "      <th>441</th>\n",
       "      <td>cg17010941</td>\n",
       "      <td>ZNF706</td>\n",
       "      <td>0.063776</td>\n",
       "      <td>TSS1500</td>\n",
       "    </tr>\n",
       "    <tr>\n",
       "      <th>443</th>\n",
       "      <td>cg02446080</td>\n",
       "      <td>ZNHIT1</td>\n",
       "      <td>0.053150</td>\n",
       "      <td>TSS1500</td>\n",
       "    </tr>\n",
       "  </tbody>\n",
       "</table>\n",
       "<p>391 rows × 4 columns</p>\n",
       "</div>"
      ],
      "text/plain": [
       "             ID    gene     dbeta  feature\n",
       "0    cg04911280   AARS2  0.069674   TSS200\n",
       "2    cg19529696   ABCF2  0.055435   TSS200\n",
       "3    cg24006936    ABT1  0.060007   TSS200\n",
       "4    cg03401580    ACP6  0.063028   TSS200\n",
       "6    cg02089380   ACVR1  0.066394  TSS1500\n",
       "..          ...     ...       ...      ...\n",
       "438  cg25404339  ZNF677  0.051339   TSS200\n",
       "439  cg04910638  ZNF684  0.058628   TSS200\n",
       "440  cg12440566  ZNF703  0.055607   TSS200\n",
       "441  cg17010941  ZNF706  0.063776  TSS1500\n",
       "443  cg02446080  ZNHIT1  0.053150  TSS1500\n",
       "\n",
       "[391 rows x 4 columns]"
      ]
     },
     "execution_count": 32,
     "metadata": {},
     "output_type": "execute_result"
    }
   ],
   "source": [
    "TSS_threshold_hyper = TSS_threshold[TSS_threshold[\"dbeta\"] > 0]\n",
    "# DEBUG\n",
    "TSS_threshold_hyper\n",
    "# END"
   ]
  },
  {
   "cell_type": "code",
   "execution_count": 33,
   "metadata": {},
   "outputs": [],
   "source": [
    "train_df = pd.read_csv(f\"{trainOutPath}/all_beta_normalized_0.csv\")\n",
    "test_df = pd.read_csv(f\"{testOutPath}/all_beta_normalized_1.csv\")"
   ]
  },
  {
   "cell_type": "code",
   "execution_count": 34,
   "metadata": {},
   "outputs": [],
   "source": [
    "X_train = train_df[train_df[\"Unnamed: 0\"].isin(TSS_threshold_hyper[\"ID\"])]\n",
    "X_test = test_df[test_df[\"Unnamed: 0\"].isin(TSS_threshold_hyper[\"ID\"])]"
   ]
  },
  {
   "cell_type": "code",
   "execution_count": 35,
   "metadata": {},
   "outputs": [],
   "source": [
    "X_train = X_train.iloc[:, 1:].T.values.tolist()\n",
    "X_test = X_test.iloc[:, 1:].T.values.tolist()"
   ]
  },
  {
   "cell_type": "code",
   "execution_count": 37,
   "metadata": {},
   "outputs": [],
   "source": [
    "config = load_config(CONFIG_PATH)\n",
    "normal_count_train = config[\"preprocess\"][\"merge_and_split\"][\n",
    "    \"training_class_distribution\"\n",
    "][0]\n",
    "normal_count_test = config[\"preprocess\"][\"merge_and_split\"][\n",
    "    \"testing_class_distribution\"\n",
    "][0]\n",
    "y_train = [0 if i < normal_count_train else 1 for i in range(len(X_train))]\n",
    "y_test = [0 if i < normal_count_test else 1 for i in range(len(X_test))]"
   ]
  },
  {
   "cell_type": "code",
   "execution_count": 38,
   "metadata": {},
   "outputs": [],
   "source": [
    "import pandas as pd\n",
    "from sklearn.model_selection import cross_val_score\n",
    "from sklearn.feature_selection import RFE\n",
    "from sklearn.svm import SVC\n",
    "from sklearn.linear_model import LogisticRegression\n",
    "from sklearn.tree import DecisionTreeClassifier\n",
    "from sklearn.ensemble import RandomForestClassifier\n",
    "from xgboost import XGBClassifier\n",
    "from sklearn.metrics import (\n",
    "    accuracy_score,\n",
    "    recall_score,\n",
    "    precision_score,\n",
    "    f1_score,\n",
    "    matthews_corrcoef,\n",
    "    roc_auc_score,\n",
    "    auc,\n",
    "    roc_curve,\n",
    "    confusion_matrix,\n",
    ")\n",
    "from sklearn.model_selection import GridSearchCV"
   ]
  },
  {
   "cell_type": "code",
   "execution_count": 40,
   "metadata": {},
   "outputs": [],
   "source": [
    "selection_models = {\n",
    "    \"XGBoost\": XGBClassifier(random_state=42),\n",
    "    \"Random Forest\": RandomForestClassifier(random_state=42),\n",
    "    \"Decision Tree\": DecisionTreeClassifier(random_state=42),\n",
    "    \"SVM\": SVC(kernel=\"linear\", random_state=42),\n",
    "}\n",
    "\n",
    "param_xgb = {\n",
    "    \"learning_rate\": [0.001, 0.01, 0.1],\n",
    "    \"n_estimators\": [50, 100, 200],\n",
    "    \"max_depth\": [2, 3, 4],\n",
    "    \"subsample\": [0.6, 0.7, 0.8],\n",
    "    \"colsample_bytree\": [0.6, 0.7, 0.8],\n",
    "    \"min_child_weight\": [40, 50, 60],\n",
    "}\n",
    "\n",
    "param_rf = {\n",
    "    \"n_estimators\": [50, 100, 150, 200],\n",
    "    \"min_samples_split\": [80, 90],\n",
    "    \"min_samples_leaf\": [80, 90],\n",
    "    \"max_features\": [5, 10, 20],\n",
    "}\n",
    "\n",
    "param_svm = {\"kernel\": [\"rbf\", \"poly\", \"sigmoid\"], \"C\": [50, 100, 200]}\n",
    "\n",
    "param_dt = {\n",
    "    \"min_samples_split\": [70, 80, 90],\n",
    "    \"min_samples_leaf\": [70, 80, 90],\n",
    "    \"max_features\": [5, 10, 20],\n",
    "}\n",
    "\n",
    "def set_parameters(model: object, param_grid: dict) -> object:\n",
    "    grid_search = GridSearchCV(\n",
    "        estimator=model, param_grid=param_grid, cv=5, n_jobs=-1, verbose=2\n",
    "    )\n",
    "    return grid_search\n",
    "\n",
    "xgb_model = set_parameters(XGBClassifier(random_state=42), param_xgb)\n",
    "rf_model = set_parameters(RandomForestClassifier(random_state=42), param_rf)\n",
    "svm_model = set_parameters(SVC(random_state=42), param_svm)\n",
    "dt_model = set_parameters(DecisionTreeClassifier(random_state=42), param_dt)\n",
    "\n",
    "train_models = {\n",
    "    \"XGBoost\": xgb_model,\n",
    "    \"Random Forest\": rf_model,\n",
    "    \"Decision Tree\": dt_model,\n",
    "    \"SVM\": svm_model,\n",
    "}\n"
   ]
  },
  {
   "cell_type": "code",
   "execution_count": 43,
   "metadata": {},
   "outputs": [],
   "source": [
    "def append_to_file(file_name: str, data: pd.DataFrame) -> None:\n",
    "        if not os.path.isfile(file_name):\n",
    "            data.to_csv(file_name, index=False)\n",
    "        else:\n",
    "            data.to_csv(file_name, index=False, mode=\"a\", header=False)\n",
    "\n",
    "def record(\n",
    "    best_estimator: object,\n",
    "    X: pd.DataFrame,\n",
    "    y: pd.Series,\n",
    "    selection_model_name: str,\n",
    "    train_model_name: str,\n",
    "    feature_count: int,\n",
    "    best_score: float,\n",
    "    best_params: dict,\n",
    "    filepath: str,\n",
    ") -> None:\n",
    "    \n",
    "    y_pred_on_X = best_estimator.predict(X)\n",
    "\n",
    "    tn, fp, _, _ = confusion_matrix(y, y_pred_on_X).ravel()\n",
    "    accuracy = accuracy_score(y, y_pred_on_X)\n",
    "    recall = recall_score(y, y_pred_on_X)\n",
    "    specificity = tn / (tn + fp)\n",
    "    precision = precision_score(y, y_pred_on_X)\n",
    "\n",
    "    fpr, tpr, _ = roc_curve(y, y_pred_on_X)\n",
    "    roc_auc = auc(fpr, tpr)\n",
    "    fpr = fpr.tolist()\n",
    "    tpr = tpr.tolist()\n",
    "\n",
    "    append_to_file(\n",
    "        f\"{filepath}/rfe.csv\",\n",
    "        pd.DataFrame(\n",
    "            [\n",
    "                {\n",
    "                    \"selection_model\": selection_model_name,\n",
    "                    \"train_model\": train_model_name,\n",
    "                    \"features\": feature_count,\n",
    "                    \"accuracy\": accuracy,\n",
    "                    \"recall\": recall,\n",
    "                    \"speficity\": specificity,\n",
    "                    \"precision\": precision,\n",
    "                    \"f1_score\": f1_score(y, y_pred_on_X),\n",
    "                    \"J-index\": recall + specificity - 1,\n",
    "                    \"AUC\": roc_auc,\n",
    "                    \"MCC\": matthews_corrcoef(y, y_pred_on_X),\n",
    "                    \"Mean cross-validated score\": best_score,\n",
    "                    \"Best parameters\": best_params,\n",
    "                }\n",
    "            ]\n",
    "        ),\n",
    "    )\n",
    "    append_to_file(\n",
    "        f\"{filepath}/fpr_tpr.csv\",\n",
    "        pd.DataFrame(\n",
    "            [\n",
    "                {\n",
    "                    \"selection_model\": selection_model_name,\n",
    "                    \"train_model\": train_model_name,\n",
    "                    \"features\": feature_count,\n",
    "                    \"fpr\": fpr,\n",
    "                    \"tpr\": tpr,\n",
    "                    \"AUC\": roc_auc,\n",
    "                }\n",
    "            ]\n",
    "        ),\n",
    "    )\n"
   ]
  },
  {
   "cell_type": "code",
   "execution_count": 45,
   "metadata": {},
   "outputs": [
    {
     "name": "stdout",
     "output_type": "stream",
     "text": [
      "Fitting 5 folds for each of 729 candidates, totalling 3645 fits\n",
      "Fitting 5 folds for each of 48 candidates, totalling 240 fits\n"
     ]
    },
    {
     "name": "stderr",
     "output_type": "stream",
     "text": [
      "f:\\Repo\\btc\\.venv\\lib\\site-packages\\numpy\\ma\\core.py:2846: RuntimeWarning:\n",
      "\n",
      "invalid value encountered in cast\n",
      "\n"
     ]
    },
    {
     "name": "stdout",
     "output_type": "stream",
     "text": [
      "Fitting 5 folds for each of 27 candidates, totalling 135 fits\n",
      "Fitting 5 folds for each of 9 candidates, totalling 45 fits\n",
      "Fitting 5 folds for each of 729 candidates, totalling 3645 fits\n",
      "Fitting 5 folds for each of 48 candidates, totalling 240 fits\n",
      "Fitting 5 folds for each of 27 candidates, totalling 135 fits\n",
      "Fitting 5 folds for each of 9 candidates, totalling 45 fits\n",
      "Fitting 5 folds for each of 729 candidates, totalling 3645 fits\n",
      "Fitting 5 folds for each of 48 candidates, totalling 240 fits\n",
      "Fitting 5 folds for each of 27 candidates, totalling 135 fits\n",
      "Fitting 5 folds for each of 9 candidates, totalling 45 fits\n",
      "Fitting 5 folds for each of 729 candidates, totalling 3645 fits\n",
      "Fitting 5 folds for each of 48 candidates, totalling 240 fits\n",
      "Fitting 5 folds for each of 27 candidates, totalling 135 fits\n",
      "Fitting 5 folds for each of 9 candidates, totalling 45 fits\n",
      "Fitting 5 folds for each of 729 candidates, totalling 3645 fits\n",
      "Fitting 5 folds for each of 48 candidates, totalling 240 fits\n",
      "Fitting 5 folds for each of 27 candidates, totalling 135 fits\n",
      "Fitting 5 folds for each of 9 candidates, totalling 45 fits\n",
      "Fitting 5 folds for each of 729 candidates, totalling 3645 fits\n",
      "Fitting 5 folds for each of 48 candidates, totalling 240 fits\n",
      "Fitting 5 folds for each of 27 candidates, totalling 135 fits\n",
      "Fitting 5 folds for each of 9 candidates, totalling 45 fits\n",
      "Fitting 5 folds for each of 729 candidates, totalling 3645 fits\n",
      "Fitting 5 folds for each of 48 candidates, totalling 240 fits\n",
      "Fitting 5 folds for each of 27 candidates, totalling 135 fits\n",
      "Fitting 5 folds for each of 9 candidates, totalling 45 fits\n",
      "Fitting 5 folds for each of 729 candidates, totalling 3645 fits\n",
      "Fitting 5 folds for each of 48 candidates, totalling 240 fits\n",
      "Fitting 5 folds for each of 27 candidates, totalling 135 fits\n",
      "Fitting 5 folds for each of 9 candidates, totalling 45 fits\n",
      "Fitting 5 folds for each of 729 candidates, totalling 3645 fits\n",
      "Fitting 5 folds for each of 48 candidates, totalling 240 fits\n",
      "Fitting 5 folds for each of 27 candidates, totalling 135 fits\n",
      "Fitting 5 folds for each of 9 candidates, totalling 45 fits\n",
      "Fitting 5 folds for each of 729 candidates, totalling 3645 fits\n",
      "Fitting 5 folds for each of 48 candidates, totalling 240 fits\n",
      "Fitting 5 folds for each of 27 candidates, totalling 135 fits\n",
      "Fitting 5 folds for each of 9 candidates, totalling 45 fits\n",
      "Fitting 5 folds for each of 729 candidates, totalling 3645 fits\n",
      "Fitting 5 folds for each of 48 candidates, totalling 240 fits\n",
      "Fitting 5 folds for each of 27 candidates, totalling 135 fits\n",
      "Fitting 5 folds for each of 9 candidates, totalling 45 fits\n",
      "Fitting 5 folds for each of 729 candidates, totalling 3645 fits\n",
      "Fitting 5 folds for each of 48 candidates, totalling 240 fits\n",
      "Fitting 5 folds for each of 27 candidates, totalling 135 fits\n",
      "Fitting 5 folds for each of 9 candidates, totalling 45 fits\n"
     ]
    }
   ],
   "source": [
    "for selection_model_name, selection_model in selection_models.items():\n",
    "    for feature_count in range(25, 36, 5):\n",
    "        rfe = RFE(estimator=selection_model, n_features_to_select=feature_count)\n",
    "        X_train_rfe = rfe.fit_transform(X_train, y_train)\n",
    "        X_test_rfe = rfe.transform(X_test)\n",
    "        selected_feature_names = (\n",
    "            pd.DataFrame(TSS_threshold_hyper.iloc[rfe.support_, 1])\n",
    "            .reset_index(drop=True)\n",
    "            .T\n",
    "        )\n",
    "\n",
    "        label = f\"{selection_model_name}_{feature_count}\"\n",
    "\n",
    "        selected_feature_names.insert(0, \"selection_model_name\", label)\n",
    "\n",
    "        append_to_file(\n",
    "            f\"{trainOutPath}/selected_feature_names.csv\", selected_feature_names\n",
    "        )\n",
    "\n",
    "        for train_model_name, train_model in train_models.items():\n",
    "            train_model.fit(X_train_rfe, y_train)\n",
    "            best_params = train_model.best_params_\n",
    "\n",
    "            best_score = train_model.best_score_\n",
    "\n",
    "            record(\n",
    "                train_model.best_estimator_,\n",
    "                X_train_rfe,\n",
    "                y_train,\n",
    "                selection_model_name,\n",
    "                train_model_name,\n",
    "                feature_count,\n",
    "                best_score,\n",
    "                best_params,\n",
    "                f\"{trainOutPath}\",\n",
    "            )\n",
    "            record(\n",
    "                train_model.best_estimator_,\n",
    "                X_test_rfe,\n",
    "                y_test,\n",
    "                selection_model_name,\n",
    "                train_model_name,\n",
    "                feature_count,\n",
    "                best_score,\n",
    "                best_params,\n",
    "                f\"{testOutPath}\",\n",
    "            )"
   ]
  },
  {
   "cell_type": "code",
   "execution_count": 46,
   "metadata": {},
   "outputs": [],
   "source": [
    "fpr_tpr_tr = pd.read_csv(f\"{trainOutPath}/fpr_tpr.csv\")\n",
    "fpr_tpr_te = pd.read_csv(f\"{testOutPath}/fpr_tpr.csv\")"
   ]
  },
  {
   "cell_type": "code",
   "execution_count": 47,
   "metadata": {},
   "outputs": [],
   "source": [
    "rfe_tr = pd.read_csv(f\"{trainOutPath}/rfe.csv\")\n",
    "rfe_te = pd.read_csv(f\"{testOutPath}/rfe.csv\")"
   ]
  },
  {
   "cell_type": "code",
   "execution_count": 48,
   "metadata": {},
   "outputs": [],
   "source": [
    "rfe_j = pd.merge(rfe_tr, rfe_te, on=[\"selection_model\", \"train_model\", \"features\"], suffixes=('_train', '_test'))\n",
    "fpr_tpr_j = pd.merge(fpr_tpr_tr, fpr_tpr_te, on=[\"selection_model\", \"train_model\", \"features\"], suffixes=('_train', '_test'))\n",
    "J = pd.merge(rfe_j, fpr_tpr_j, on=[\"selection_model\", \"train_model\", \"features\", \"AUC_train\", \"AUC_test\"])"
   ]
  },
  {
   "cell_type": "code",
   "execution_count": 49,
   "metadata": {},
   "outputs": [],
   "source": [
    "import ast\n",
    "\n",
    "J[\"fpr_train\"] = J[\"fpr_train\"].apply(ast.literal_eval)\n",
    "J[\"tpr_train\"] = J[\"tpr_train\"].apply(ast.literal_eval)\n",
    "J[\"fpr_test\"] = J[\"fpr_test\"].apply(ast.literal_eval)\n",
    "J[\"tpr_test\"] = J[\"tpr_test\"].apply(ast.literal_eval)"
   ]
  },
  {
   "cell_type": "code",
   "execution_count": 53,
   "metadata": {},
   "outputs": [
    {
     "data": {
      "application/vnd.plotly.v1+json": {
       "config": {
        "plotlyServerURL": "https://plot.ly"
       },
       "data": [
        {
         "mode": "lines",
         "name": "XGBoost XGBoost (AUC = 0.996)",
         "type": "scatter",
         "x": [
          0,
          0,
          1
         ],
         "y": [
          0,
          0.9926062846580407,
          1
         ]
        },
        {
         "mode": "lines",
         "name": "XGBoost Random Forest (AUC = 0.997)",
         "type": "scatter",
         "x": [
          0,
          0,
          1
         ],
         "y": [
          0,
          0.9944547134935305,
          1
         ]
        },
        {
         "mode": "lines",
         "name": "XGBoost Decision Tree (AUC = 0.993)",
         "type": "scatter",
         "x": [
          0,
          0,
          1
         ],
         "y": [
          0,
          0.9852125693160814,
          1
         ]
        },
        {
         "mode": "lines",
         "name": "XGBoost SVM (AUC = 1.000)",
         "type": "scatter",
         "x": [
          0,
          0,
          1
         ],
         "y": [
          0,
          1,
          1
         ]
        },
        {
         "mode": "lines",
         "name": "XGBoost XGBoost (AUC = 0.997)",
         "type": "scatter",
         "x": [
          0,
          0,
          1
         ],
         "y": [
          0,
          0.9944547134935305,
          1
         ]
        },
        {
         "mode": "lines",
         "name": "XGBoost Random Forest (AUC = 0.997)",
         "type": "scatter",
         "x": [
          0,
          0,
          1
         ],
         "y": [
          0,
          0.9944547134935305,
          1
         ]
        },
        {
         "mode": "lines",
         "name": "XGBoost Decision Tree (AUC = 0.989)",
         "type": "scatter",
         "x": [
          0,
          0,
          1
         ],
         "y": [
          0,
          0.977818853974122,
          1
         ]
        },
        {
         "mode": "lines",
         "name": "XGBoost SVM (AUC = 1.000)",
         "type": "scatter",
         "x": [
          0,
          0,
          1
         ],
         "y": [
          0,
          1,
          1
         ]
        },
        {
         "mode": "lines",
         "name": "XGBoost XGBoost (AUC = 0.996)",
         "type": "scatter",
         "x": [
          0,
          0,
          1
         ],
         "y": [
          0,
          0.9926062846580407,
          1
         ]
        },
        {
         "mode": "lines",
         "name": "XGBoost Random Forest (AUC = 0.995)",
         "type": "scatter",
         "x": [
          0,
          0,
          1
         ],
         "y": [
          0,
          0.9907578558225508,
          1
         ]
        },
        {
         "mode": "lines",
         "name": "XGBoost Decision Tree (AUC = 0.993)",
         "type": "scatter",
         "x": [
          0,
          0,
          1
         ],
         "y": [
          0,
          0.9852125693160814,
          1
         ]
        },
        {
         "mode": "lines",
         "name": "XGBoost SVM (AUC = 1.000)",
         "type": "scatter",
         "x": [
          0,
          0,
          1
         ],
         "y": [
          0,
          1,
          1
         ]
        },
        {
         "mode": "lines",
         "name": "Random Forest XGBoost (AUC = 0.996)",
         "type": "scatter",
         "x": [
          0,
          0,
          1
         ],
         "y": [
          0,
          0.9926062846580407,
          1
         ]
        },
        {
         "mode": "lines",
         "name": "Random Forest Random Forest (AUC = 0.994)",
         "type": "scatter",
         "x": [
          0,
          0,
          1
         ],
         "y": [
          0,
          0.9870609981515711,
          1
         ]
        },
        {
         "mode": "lines",
         "name": "Random Forest Decision Tree (AUC = 0.989)",
         "type": "scatter",
         "x": [
          0,
          0,
          1
         ],
         "y": [
          0,
          0.977818853974122,
          1
         ]
        },
        {
         "mode": "lines",
         "name": "Random Forest SVM (AUC = 1.000)",
         "type": "scatter",
         "x": [
          0,
          0,
          1
         ],
         "y": [
          0,
          1,
          1
         ]
        },
        {
         "mode": "lines",
         "name": "Random Forest XGBoost (AUC = 0.995)",
         "type": "scatter",
         "x": [
          0,
          0,
          1
         ],
         "y": [
          0,
          0.9907578558225508,
          1
         ]
        },
        {
         "mode": "lines",
         "name": "Random Forest Random Forest (AUC = 0.996)",
         "type": "scatter",
         "x": [
          0,
          0,
          1
         ],
         "y": [
          0,
          0.9926062846580407,
          1
         ]
        },
        {
         "mode": "lines",
         "name": "Random Forest Decision Tree (AUC = 0.993)",
         "type": "scatter",
         "x": [
          0,
          0,
          1
         ],
         "y": [
          0,
          0.9852125693160814,
          1
         ]
        },
        {
         "mode": "lines",
         "name": "Random Forest SVM (AUC = 1.000)",
         "type": "scatter",
         "x": [
          0,
          0,
          1
         ],
         "y": [
          0,
          1,
          1
         ]
        },
        {
         "mode": "lines",
         "name": "Random Forest XGBoost (AUC = 0.997)",
         "type": "scatter",
         "x": [
          0,
          0,
          1
         ],
         "y": [
          0,
          0.9944547134935305,
          1
         ]
        },
        {
         "mode": "lines",
         "name": "Random Forest Random Forest (AUC = 0.995)",
         "type": "scatter",
         "x": [
          0,
          0,
          1
         ],
         "y": [
          0,
          0.9907578558225508,
          1
         ]
        },
        {
         "mode": "lines",
         "name": "Random Forest Decision Tree (AUC = 0.989)",
         "type": "scatter",
         "x": [
          0,
          0,
          1
         ],
         "y": [
          0,
          0.977818853974122,
          1
         ]
        },
        {
         "mode": "lines",
         "name": "Random Forest SVM (AUC = 1.000)",
         "type": "scatter",
         "x": [
          0,
          0,
          1
         ],
         "y": [
          0,
          1,
          1
         ]
        },
        {
         "mode": "lines",
         "name": "Decision Tree XGBoost (AUC = 0.993)",
         "type": "scatter",
         "x": [
          0,
          0,
          1
         ],
         "y": [
          0,
          0.9852125693160814,
          1
         ]
        },
        {
         "mode": "lines",
         "name": "Decision Tree Random Forest (AUC = 0.994)",
         "type": "scatter",
         "x": [
          0,
          0,
          1
         ],
         "y": [
          0,
          0.9870609981515711,
          1
         ]
        },
        {
         "mode": "lines",
         "name": "Decision Tree Decision Tree (AUC = 0.993)",
         "type": "scatter",
         "x": [
          0,
          0,
          1
         ],
         "y": [
          0,
          0.9852125693160814,
          1
         ]
        },
        {
         "mode": "lines",
         "name": "Decision Tree SVM (AUC = 0.998)",
         "type": "scatter",
         "x": [
          0,
          0,
          1
         ],
         "y": [
          0,
          0.9963031423290203,
          1
         ]
        },
        {
         "mode": "lines",
         "name": "Decision Tree XGBoost (AUC = 0.993)",
         "type": "scatter",
         "x": [
          0,
          0.0018450184501845018,
          1
         ],
         "y": [
          0,
          0.9870609981515711,
          1
         ]
        },
        {
         "mode": "lines",
         "name": "Decision Tree Random Forest (AUC = 0.994)",
         "type": "scatter",
         "x": [
          0,
          0,
          1
         ],
         "y": [
          0,
          0.9870609981515711,
          1
         ]
        },
        {
         "mode": "lines",
         "name": "Decision Tree Decision Tree (AUC = 0.993)",
         "type": "scatter",
         "x": [
          0,
          0,
          1
         ],
         "y": [
          0,
          0.9852125693160814,
          1
         ]
        },
        {
         "mode": "lines",
         "name": "Decision Tree SVM (AUC = 0.998)",
         "type": "scatter",
         "x": [
          0,
          0,
          1
         ],
         "y": [
          0,
          0.9963031423290203,
          1
         ]
        },
        {
         "mode": "lines",
         "name": "Decision Tree XGBoost (AUC = 0.992)",
         "type": "scatter",
         "x": [
          0,
          0.0018450184501845018,
          1
         ],
         "y": [
          0,
          0.9852125693160814,
          1
         ]
        },
        {
         "mode": "lines",
         "name": "Decision Tree Random Forest (AUC = 0.994)",
         "type": "scatter",
         "x": [
          0,
          0,
          1
         ],
         "y": [
          0,
          0.9870609981515711,
          1
         ]
        },
        {
         "mode": "lines",
         "name": "Decision Tree Decision Tree (AUC = 0.979)",
         "type": "scatter",
         "x": [
          0,
          0.012915129151291513,
          1
         ],
         "y": [
          0,
          0.9704251386321626,
          1
         ]
        },
        {
         "mode": "lines",
         "name": "Decision Tree SVM (AUC = 0.999)",
         "type": "scatter",
         "x": [
          0,
          0,
          1
         ],
         "y": [
          0,
          0.9981515711645101,
          1
         ]
        },
        {
         "mode": "lines",
         "name": "SVM XGBoost (AUC = 0.996)",
         "type": "scatter",
         "x": [
          0,
          0,
          1
         ],
         "y": [
          0,
          0.9926062846580407,
          1
         ]
        },
        {
         "mode": "lines",
         "name": "SVM Random Forest (AUC = 0.997)",
         "type": "scatter",
         "x": [
          0,
          0,
          1
         ],
         "y": [
          0,
          0.9944547134935305,
          1
         ]
        },
        {
         "mode": "lines",
         "name": "SVM Decision Tree (AUC = 0.993)",
         "type": "scatter",
         "x": [
          0,
          0,
          1
         ],
         "y": [
          0,
          0.9852125693160814,
          1
         ]
        },
        {
         "mode": "lines",
         "name": "SVM SVM (AUC = 1.000)",
         "type": "scatter",
         "x": [
          0,
          0,
          1
         ],
         "y": [
          0,
          1,
          1
         ]
        },
        {
         "mode": "lines",
         "name": "SVM XGBoost (AUC = 0.996)",
         "type": "scatter",
         "x": [
          0,
          0,
          1
         ],
         "y": [
          0,
          0.9926062846580407,
          1
         ]
        },
        {
         "mode": "lines",
         "name": "SVM Random Forest (AUC = 0.997)",
         "type": "scatter",
         "x": [
          0,
          0,
          1
         ],
         "y": [
          0,
          0.9944547134935305,
          1
         ]
        },
        {
         "mode": "lines",
         "name": "SVM Decision Tree (AUC = 0.993)",
         "type": "scatter",
         "x": [
          0,
          0,
          1
         ],
         "y": [
          0,
          0.9852125693160814,
          1
         ]
        },
        {
         "mode": "lines",
         "name": "SVM SVM (AUC = 1.000)",
         "type": "scatter",
         "x": [
          0,
          0,
          1
         ],
         "y": [
          0,
          1,
          1
         ]
        },
        {
         "mode": "lines",
         "name": "SVM XGBoost (AUC = 0.996)",
         "type": "scatter",
         "x": [
          0,
          0,
          1
         ],
         "y": [
          0,
          0.9926062846580407,
          1
         ]
        },
        {
         "mode": "lines",
         "name": "SVM Random Forest (AUC = 0.996)",
         "type": "scatter",
         "x": [
          0,
          0,
          1
         ],
         "y": [
          0,
          0.9926062846580407,
          1
         ]
        },
        {
         "mode": "lines",
         "name": "SVM Decision Tree (AUC = 0.993)",
         "type": "scatter",
         "x": [
          0,
          0,
          1
         ],
         "y": [
          0,
          0.9852125693160814,
          1
         ]
        },
        {
         "mode": "lines",
         "name": "SVM SVM (AUC = 1.000)",
         "type": "scatter",
         "x": [
          0,
          0,
          1
         ],
         "y": [
          0,
          1,
          1
         ]
        },
        {
         "line": {
          "color": "grey",
          "dash": "dash"
         },
         "mode": "lines",
         "name": "Random Guess",
         "type": "scatter",
         "x": [
          0,
          1
         ],
         "y": [
          0,
          1
         ]
        }
       ],
       "layout": {
        "height": 1200,
        "legend": {
         "title": {
          "text": "Model"
         }
        },
        "template": {
         "data": {
          "bar": [
           {
            "error_x": {
             "color": "#2a3f5f"
            },
            "error_y": {
             "color": "#2a3f5f"
            },
            "marker": {
             "line": {
              "color": "white",
              "width": 0.5
             },
             "pattern": {
              "fillmode": "overlay",
              "size": 10,
              "solidity": 0.2
             }
            },
            "type": "bar"
           }
          ],
          "barpolar": [
           {
            "marker": {
             "line": {
              "color": "white",
              "width": 0.5
             },
             "pattern": {
              "fillmode": "overlay",
              "size": 10,
              "solidity": 0.2
             }
            },
            "type": "barpolar"
           }
          ],
          "carpet": [
           {
            "aaxis": {
             "endlinecolor": "#2a3f5f",
             "gridcolor": "#C8D4E3",
             "linecolor": "#C8D4E3",
             "minorgridcolor": "#C8D4E3",
             "startlinecolor": "#2a3f5f"
            },
            "baxis": {
             "endlinecolor": "#2a3f5f",
             "gridcolor": "#C8D4E3",
             "linecolor": "#C8D4E3",
             "minorgridcolor": "#C8D4E3",
             "startlinecolor": "#2a3f5f"
            },
            "type": "carpet"
           }
          ],
          "choropleth": [
           {
            "colorbar": {
             "outlinewidth": 0,
             "ticks": ""
            },
            "type": "choropleth"
           }
          ],
          "contour": [
           {
            "colorbar": {
             "outlinewidth": 0,
             "ticks": ""
            },
            "colorscale": [
             [
              0,
              "#0d0887"
             ],
             [
              0.1111111111111111,
              "#46039f"
             ],
             [
              0.2222222222222222,
              "#7201a8"
             ],
             [
              0.3333333333333333,
              "#9c179e"
             ],
             [
              0.4444444444444444,
              "#bd3786"
             ],
             [
              0.5555555555555556,
              "#d8576b"
             ],
             [
              0.6666666666666666,
              "#ed7953"
             ],
             [
              0.7777777777777778,
              "#fb9f3a"
             ],
             [
              0.8888888888888888,
              "#fdca26"
             ],
             [
              1,
              "#f0f921"
             ]
            ],
            "type": "contour"
           }
          ],
          "contourcarpet": [
           {
            "colorbar": {
             "outlinewidth": 0,
             "ticks": ""
            },
            "type": "contourcarpet"
           }
          ],
          "heatmap": [
           {
            "colorbar": {
             "outlinewidth": 0,
             "ticks": ""
            },
            "colorscale": [
             [
              0,
              "#0d0887"
             ],
             [
              0.1111111111111111,
              "#46039f"
             ],
             [
              0.2222222222222222,
              "#7201a8"
             ],
             [
              0.3333333333333333,
              "#9c179e"
             ],
             [
              0.4444444444444444,
              "#bd3786"
             ],
             [
              0.5555555555555556,
              "#d8576b"
             ],
             [
              0.6666666666666666,
              "#ed7953"
             ],
             [
              0.7777777777777778,
              "#fb9f3a"
             ],
             [
              0.8888888888888888,
              "#fdca26"
             ],
             [
              1,
              "#f0f921"
             ]
            ],
            "type": "heatmap"
           }
          ],
          "heatmapgl": [
           {
            "colorbar": {
             "outlinewidth": 0,
             "ticks": ""
            },
            "colorscale": [
             [
              0,
              "#0d0887"
             ],
             [
              0.1111111111111111,
              "#46039f"
             ],
             [
              0.2222222222222222,
              "#7201a8"
             ],
             [
              0.3333333333333333,
              "#9c179e"
             ],
             [
              0.4444444444444444,
              "#bd3786"
             ],
             [
              0.5555555555555556,
              "#d8576b"
             ],
             [
              0.6666666666666666,
              "#ed7953"
             ],
             [
              0.7777777777777778,
              "#fb9f3a"
             ],
             [
              0.8888888888888888,
              "#fdca26"
             ],
             [
              1,
              "#f0f921"
             ]
            ],
            "type": "heatmapgl"
           }
          ],
          "histogram": [
           {
            "marker": {
             "pattern": {
              "fillmode": "overlay",
              "size": 10,
              "solidity": 0.2
             }
            },
            "type": "histogram"
           }
          ],
          "histogram2d": [
           {
            "colorbar": {
             "outlinewidth": 0,
             "ticks": ""
            },
            "colorscale": [
             [
              0,
              "#0d0887"
             ],
             [
              0.1111111111111111,
              "#46039f"
             ],
             [
              0.2222222222222222,
              "#7201a8"
             ],
             [
              0.3333333333333333,
              "#9c179e"
             ],
             [
              0.4444444444444444,
              "#bd3786"
             ],
             [
              0.5555555555555556,
              "#d8576b"
             ],
             [
              0.6666666666666666,
              "#ed7953"
             ],
             [
              0.7777777777777778,
              "#fb9f3a"
             ],
             [
              0.8888888888888888,
              "#fdca26"
             ],
             [
              1,
              "#f0f921"
             ]
            ],
            "type": "histogram2d"
           }
          ],
          "histogram2dcontour": [
           {
            "colorbar": {
             "outlinewidth": 0,
             "ticks": ""
            },
            "colorscale": [
             [
              0,
              "#0d0887"
             ],
             [
              0.1111111111111111,
              "#46039f"
             ],
             [
              0.2222222222222222,
              "#7201a8"
             ],
             [
              0.3333333333333333,
              "#9c179e"
             ],
             [
              0.4444444444444444,
              "#bd3786"
             ],
             [
              0.5555555555555556,
              "#d8576b"
             ],
             [
              0.6666666666666666,
              "#ed7953"
             ],
             [
              0.7777777777777778,
              "#fb9f3a"
             ],
             [
              0.8888888888888888,
              "#fdca26"
             ],
             [
              1,
              "#f0f921"
             ]
            ],
            "type": "histogram2dcontour"
           }
          ],
          "mesh3d": [
           {
            "colorbar": {
             "outlinewidth": 0,
             "ticks": ""
            },
            "type": "mesh3d"
           }
          ],
          "parcoords": [
           {
            "line": {
             "colorbar": {
              "outlinewidth": 0,
              "ticks": ""
             }
            },
            "type": "parcoords"
           }
          ],
          "pie": [
           {
            "automargin": true,
            "type": "pie"
           }
          ],
          "scatter": [
           {
            "fillpattern": {
             "fillmode": "overlay",
             "size": 10,
             "solidity": 0.2
            },
            "type": "scatter"
           }
          ],
          "scatter3d": [
           {
            "line": {
             "colorbar": {
              "outlinewidth": 0,
              "ticks": ""
             }
            },
            "marker": {
             "colorbar": {
              "outlinewidth": 0,
              "ticks": ""
             }
            },
            "type": "scatter3d"
           }
          ],
          "scattercarpet": [
           {
            "marker": {
             "colorbar": {
              "outlinewidth": 0,
              "ticks": ""
             }
            },
            "type": "scattercarpet"
           }
          ],
          "scattergeo": [
           {
            "marker": {
             "colorbar": {
              "outlinewidth": 0,
              "ticks": ""
             }
            },
            "type": "scattergeo"
           }
          ],
          "scattergl": [
           {
            "marker": {
             "colorbar": {
              "outlinewidth": 0,
              "ticks": ""
             }
            },
            "type": "scattergl"
           }
          ],
          "scattermapbox": [
           {
            "marker": {
             "colorbar": {
              "outlinewidth": 0,
              "ticks": ""
             }
            },
            "type": "scattermapbox"
           }
          ],
          "scatterpolar": [
           {
            "marker": {
             "colorbar": {
              "outlinewidth": 0,
              "ticks": ""
             }
            },
            "type": "scatterpolar"
           }
          ],
          "scatterpolargl": [
           {
            "marker": {
             "colorbar": {
              "outlinewidth": 0,
              "ticks": ""
             }
            },
            "type": "scatterpolargl"
           }
          ],
          "scatterternary": [
           {
            "marker": {
             "colorbar": {
              "outlinewidth": 0,
              "ticks": ""
             }
            },
            "type": "scatterternary"
           }
          ],
          "surface": [
           {
            "colorbar": {
             "outlinewidth": 0,
             "ticks": ""
            },
            "colorscale": [
             [
              0,
              "#0d0887"
             ],
             [
              0.1111111111111111,
              "#46039f"
             ],
             [
              0.2222222222222222,
              "#7201a8"
             ],
             [
              0.3333333333333333,
              "#9c179e"
             ],
             [
              0.4444444444444444,
              "#bd3786"
             ],
             [
              0.5555555555555556,
              "#d8576b"
             ],
             [
              0.6666666666666666,
              "#ed7953"
             ],
             [
              0.7777777777777778,
              "#fb9f3a"
             ],
             [
              0.8888888888888888,
              "#fdca26"
             ],
             [
              1,
              "#f0f921"
             ]
            ],
            "type": "surface"
           }
          ],
          "table": [
           {
            "cells": {
             "fill": {
              "color": "#EBF0F8"
             },
             "line": {
              "color": "white"
             }
            },
            "header": {
             "fill": {
              "color": "#C8D4E3"
             },
             "line": {
              "color": "white"
             }
            },
            "type": "table"
           }
          ]
         },
         "layout": {
          "annotationdefaults": {
           "arrowcolor": "#2a3f5f",
           "arrowhead": 0,
           "arrowwidth": 1
          },
          "autotypenumbers": "strict",
          "coloraxis": {
           "colorbar": {
            "outlinewidth": 0,
            "ticks": ""
           }
          },
          "colorscale": {
           "diverging": [
            [
             0,
             "#8e0152"
            ],
            [
             0.1,
             "#c51b7d"
            ],
            [
             0.2,
             "#de77ae"
            ],
            [
             0.3,
             "#f1b6da"
            ],
            [
             0.4,
             "#fde0ef"
            ],
            [
             0.5,
             "#f7f7f7"
            ],
            [
             0.6,
             "#e6f5d0"
            ],
            [
             0.7,
             "#b8e186"
            ],
            [
             0.8,
             "#7fbc41"
            ],
            [
             0.9,
             "#4d9221"
            ],
            [
             1,
             "#276419"
            ]
           ],
           "sequential": [
            [
             0,
             "#0d0887"
            ],
            [
             0.1111111111111111,
             "#46039f"
            ],
            [
             0.2222222222222222,
             "#7201a8"
            ],
            [
             0.3333333333333333,
             "#9c179e"
            ],
            [
             0.4444444444444444,
             "#bd3786"
            ],
            [
             0.5555555555555556,
             "#d8576b"
            ],
            [
             0.6666666666666666,
             "#ed7953"
            ],
            [
             0.7777777777777778,
             "#fb9f3a"
            ],
            [
             0.8888888888888888,
             "#fdca26"
            ],
            [
             1,
             "#f0f921"
            ]
           ],
           "sequentialminus": [
            [
             0,
             "#0d0887"
            ],
            [
             0.1111111111111111,
             "#46039f"
            ],
            [
             0.2222222222222222,
             "#7201a8"
            ],
            [
             0.3333333333333333,
             "#9c179e"
            ],
            [
             0.4444444444444444,
             "#bd3786"
            ],
            [
             0.5555555555555556,
             "#d8576b"
            ],
            [
             0.6666666666666666,
             "#ed7953"
            ],
            [
             0.7777777777777778,
             "#fb9f3a"
            ],
            [
             0.8888888888888888,
             "#fdca26"
            ],
            [
             1,
             "#f0f921"
            ]
           ]
          },
          "colorway": [
           "#636efa",
           "#EF553B",
           "#00cc96",
           "#ab63fa",
           "#FFA15A",
           "#19d3f3",
           "#FF6692",
           "#B6E880",
           "#FF97FF",
           "#FECB52"
          ],
          "font": {
           "color": "#2a3f5f"
          },
          "geo": {
           "bgcolor": "white",
           "lakecolor": "white",
           "landcolor": "white",
           "showlakes": true,
           "showland": true,
           "subunitcolor": "#C8D4E3"
          },
          "hoverlabel": {
           "align": "left"
          },
          "hovermode": "closest",
          "mapbox": {
           "style": "light"
          },
          "paper_bgcolor": "white",
          "plot_bgcolor": "white",
          "polar": {
           "angularaxis": {
            "gridcolor": "#EBF0F8",
            "linecolor": "#EBF0F8",
            "ticks": ""
           },
           "bgcolor": "white",
           "radialaxis": {
            "gridcolor": "#EBF0F8",
            "linecolor": "#EBF0F8",
            "ticks": ""
           }
          },
          "scene": {
           "xaxis": {
            "backgroundcolor": "white",
            "gridcolor": "#DFE8F3",
            "gridwidth": 2,
            "linecolor": "#EBF0F8",
            "showbackground": true,
            "ticks": "",
            "zerolinecolor": "#EBF0F8"
           },
           "yaxis": {
            "backgroundcolor": "white",
            "gridcolor": "#DFE8F3",
            "gridwidth": 2,
            "linecolor": "#EBF0F8",
            "showbackground": true,
            "ticks": "",
            "zerolinecolor": "#EBF0F8"
           },
           "zaxis": {
            "backgroundcolor": "white",
            "gridcolor": "#DFE8F3",
            "gridwidth": 2,
            "linecolor": "#EBF0F8",
            "showbackground": true,
            "ticks": "",
            "zerolinecolor": "#EBF0F8"
           }
          },
          "shapedefaults": {
           "line": {
            "color": "#2a3f5f"
           }
          },
          "ternary": {
           "aaxis": {
            "gridcolor": "#DFE8F3",
            "linecolor": "#A2B1C6",
            "ticks": ""
           },
           "baxis": {
            "gridcolor": "#DFE8F3",
            "linecolor": "#A2B1C6",
            "ticks": ""
           },
           "bgcolor": "white",
           "caxis": {
            "gridcolor": "#DFE8F3",
            "linecolor": "#A2B1C6",
            "ticks": ""
           }
          },
          "title": {
           "x": 0.05
          },
          "xaxis": {
           "automargin": true,
           "gridcolor": "#EBF0F8",
           "linecolor": "#EBF0F8",
           "ticks": "",
           "title": {
            "standoff": 15
           },
           "zerolinecolor": "#EBF0F8",
           "zerolinewidth": 2
          },
          "yaxis": {
           "automargin": true,
           "gridcolor": "#EBF0F8",
           "linecolor": "#EBF0F8",
           "ticks": "",
           "title": {
            "standoff": 15
           },
           "zerolinecolor": "#EBF0F8",
           "zerolinewidth": 2
          }
         }
        },
        "title": {
         "text": "ROC Curves for Different Models"
        },
        "width": 1600,
        "xaxis": {
         "title": {
          "text": "False Positive Rate (FPR)"
         }
        },
        "yaxis": {
         "title": {
          "text": "True Positive Rate (TPR)"
         }
        }
       }
      }
     },
     "metadata": {},
     "output_type": "display_data"
    }
   ],
   "source": [
    "import plotly.graph_objects as go\n",
    "\n",
    "fig = go.Figure()\n",
    "\n",
    "for index, row in J.iterrows():\n",
    "    if row['AUC_train'] > 0.5:\n",
    "        fig.add_trace(go.Scatter(\n",
    "            x=row['fpr_train'],\n",
    "            y=row['tpr_train'],\n",
    "            mode='lines',\n",
    "            name=f\"{row['selection_model']} {row['train_model']} (AUC = {row['AUC_train']:.3f})\"\n",
    "        ))\n",
    "\n",
    "# Add the random guess line\n",
    "fig.add_trace(go.Scatter(\n",
    "    x=[0, 1],\n",
    "    y=[0, 1],\n",
    "    mode='lines',\n",
    "    line=dict(dash='dash', color='grey'),\n",
    "    name='Random Guess'\n",
    "))\n",
    "\n",
    "# Update layout\n",
    "fig.update_layout(\n",
    "    title='ROC Curves for Different Models',\n",
    "    xaxis_title='False Positive Rate (FPR)',\n",
    "    yaxis_title='True Positive Rate (TPR)',\n",
    "    legend_title='Model',\n",
    "    template='plotly_white',\n",
    "    width=1600,  # Set the width of the canvas\n",
    "    height=1200   # Set the height of the canvas\n",
    ")\n",
    "\n",
    "fig.show()\n"
   ]
  },
  {
   "cell_type": "code",
   "execution_count": 58,
   "metadata": {},
   "outputs": [
    {
     "data": {
      "application/vnd.plotly.v1+json": {
       "config": {
        "plotlyServerURL": "https://plot.ly"
       },
       "data": [
        {
         "marker": {
          "color": [
           "blue",
           "orange",
           "green",
           "red"
          ]
         },
         "type": "bar",
         "x": [
          "AUC_train > 0.5 & AUC_test > 0.5",
          "AUC_train > 0.5 & AUC_test = 0.5",
          "AUC_train = 0.5 & AUC_test > 0.5",
          "AUC_train = 0.5 & AUC_test = 0.5"
         ],
         "y": [
          48,
          0,
          0,
          0
         ]
        }
       ],
       "layout": {
        "template": {
         "data": {
          "bar": [
           {
            "error_x": {
             "color": "#2a3f5f"
            },
            "error_y": {
             "color": "#2a3f5f"
            },
            "marker": {
             "line": {
              "color": "#E5ECF6",
              "width": 0.5
             },
             "pattern": {
              "fillmode": "overlay",
              "size": 10,
              "solidity": 0.2
             }
            },
            "type": "bar"
           }
          ],
          "barpolar": [
           {
            "marker": {
             "line": {
              "color": "#E5ECF6",
              "width": 0.5
             },
             "pattern": {
              "fillmode": "overlay",
              "size": 10,
              "solidity": 0.2
             }
            },
            "type": "barpolar"
           }
          ],
          "carpet": [
           {
            "aaxis": {
             "endlinecolor": "#2a3f5f",
             "gridcolor": "white",
             "linecolor": "white",
             "minorgridcolor": "white",
             "startlinecolor": "#2a3f5f"
            },
            "baxis": {
             "endlinecolor": "#2a3f5f",
             "gridcolor": "white",
             "linecolor": "white",
             "minorgridcolor": "white",
             "startlinecolor": "#2a3f5f"
            },
            "type": "carpet"
           }
          ],
          "choropleth": [
           {
            "colorbar": {
             "outlinewidth": 0,
             "ticks": ""
            },
            "type": "choropleth"
           }
          ],
          "contour": [
           {
            "colorbar": {
             "outlinewidth": 0,
             "ticks": ""
            },
            "colorscale": [
             [
              0,
              "#0d0887"
             ],
             [
              0.1111111111111111,
              "#46039f"
             ],
             [
              0.2222222222222222,
              "#7201a8"
             ],
             [
              0.3333333333333333,
              "#9c179e"
             ],
             [
              0.4444444444444444,
              "#bd3786"
             ],
             [
              0.5555555555555556,
              "#d8576b"
             ],
             [
              0.6666666666666666,
              "#ed7953"
             ],
             [
              0.7777777777777778,
              "#fb9f3a"
             ],
             [
              0.8888888888888888,
              "#fdca26"
             ],
             [
              1,
              "#f0f921"
             ]
            ],
            "type": "contour"
           }
          ],
          "contourcarpet": [
           {
            "colorbar": {
             "outlinewidth": 0,
             "ticks": ""
            },
            "type": "contourcarpet"
           }
          ],
          "heatmap": [
           {
            "colorbar": {
             "outlinewidth": 0,
             "ticks": ""
            },
            "colorscale": [
             [
              0,
              "#0d0887"
             ],
             [
              0.1111111111111111,
              "#46039f"
             ],
             [
              0.2222222222222222,
              "#7201a8"
             ],
             [
              0.3333333333333333,
              "#9c179e"
             ],
             [
              0.4444444444444444,
              "#bd3786"
             ],
             [
              0.5555555555555556,
              "#d8576b"
             ],
             [
              0.6666666666666666,
              "#ed7953"
             ],
             [
              0.7777777777777778,
              "#fb9f3a"
             ],
             [
              0.8888888888888888,
              "#fdca26"
             ],
             [
              1,
              "#f0f921"
             ]
            ],
            "type": "heatmap"
           }
          ],
          "heatmapgl": [
           {
            "colorbar": {
             "outlinewidth": 0,
             "ticks": ""
            },
            "colorscale": [
             [
              0,
              "#0d0887"
             ],
             [
              0.1111111111111111,
              "#46039f"
             ],
             [
              0.2222222222222222,
              "#7201a8"
             ],
             [
              0.3333333333333333,
              "#9c179e"
             ],
             [
              0.4444444444444444,
              "#bd3786"
             ],
             [
              0.5555555555555556,
              "#d8576b"
             ],
             [
              0.6666666666666666,
              "#ed7953"
             ],
             [
              0.7777777777777778,
              "#fb9f3a"
             ],
             [
              0.8888888888888888,
              "#fdca26"
             ],
             [
              1,
              "#f0f921"
             ]
            ],
            "type": "heatmapgl"
           }
          ],
          "histogram": [
           {
            "marker": {
             "pattern": {
              "fillmode": "overlay",
              "size": 10,
              "solidity": 0.2
             }
            },
            "type": "histogram"
           }
          ],
          "histogram2d": [
           {
            "colorbar": {
             "outlinewidth": 0,
             "ticks": ""
            },
            "colorscale": [
             [
              0,
              "#0d0887"
             ],
             [
              0.1111111111111111,
              "#46039f"
             ],
             [
              0.2222222222222222,
              "#7201a8"
             ],
             [
              0.3333333333333333,
              "#9c179e"
             ],
             [
              0.4444444444444444,
              "#bd3786"
             ],
             [
              0.5555555555555556,
              "#d8576b"
             ],
             [
              0.6666666666666666,
              "#ed7953"
             ],
             [
              0.7777777777777778,
              "#fb9f3a"
             ],
             [
              0.8888888888888888,
              "#fdca26"
             ],
             [
              1,
              "#f0f921"
             ]
            ],
            "type": "histogram2d"
           }
          ],
          "histogram2dcontour": [
           {
            "colorbar": {
             "outlinewidth": 0,
             "ticks": ""
            },
            "colorscale": [
             [
              0,
              "#0d0887"
             ],
             [
              0.1111111111111111,
              "#46039f"
             ],
             [
              0.2222222222222222,
              "#7201a8"
             ],
             [
              0.3333333333333333,
              "#9c179e"
             ],
             [
              0.4444444444444444,
              "#bd3786"
             ],
             [
              0.5555555555555556,
              "#d8576b"
             ],
             [
              0.6666666666666666,
              "#ed7953"
             ],
             [
              0.7777777777777778,
              "#fb9f3a"
             ],
             [
              0.8888888888888888,
              "#fdca26"
             ],
             [
              1,
              "#f0f921"
             ]
            ],
            "type": "histogram2dcontour"
           }
          ],
          "mesh3d": [
           {
            "colorbar": {
             "outlinewidth": 0,
             "ticks": ""
            },
            "type": "mesh3d"
           }
          ],
          "parcoords": [
           {
            "line": {
             "colorbar": {
              "outlinewidth": 0,
              "ticks": ""
             }
            },
            "type": "parcoords"
           }
          ],
          "pie": [
           {
            "automargin": true,
            "type": "pie"
           }
          ],
          "scatter": [
           {
            "fillpattern": {
             "fillmode": "overlay",
             "size": 10,
             "solidity": 0.2
            },
            "type": "scatter"
           }
          ],
          "scatter3d": [
           {
            "line": {
             "colorbar": {
              "outlinewidth": 0,
              "ticks": ""
             }
            },
            "marker": {
             "colorbar": {
              "outlinewidth": 0,
              "ticks": ""
             }
            },
            "type": "scatter3d"
           }
          ],
          "scattercarpet": [
           {
            "marker": {
             "colorbar": {
              "outlinewidth": 0,
              "ticks": ""
             }
            },
            "type": "scattercarpet"
           }
          ],
          "scattergeo": [
           {
            "marker": {
             "colorbar": {
              "outlinewidth": 0,
              "ticks": ""
             }
            },
            "type": "scattergeo"
           }
          ],
          "scattergl": [
           {
            "marker": {
             "colorbar": {
              "outlinewidth": 0,
              "ticks": ""
             }
            },
            "type": "scattergl"
           }
          ],
          "scattermapbox": [
           {
            "marker": {
             "colorbar": {
              "outlinewidth": 0,
              "ticks": ""
             }
            },
            "type": "scattermapbox"
           }
          ],
          "scatterpolar": [
           {
            "marker": {
             "colorbar": {
              "outlinewidth": 0,
              "ticks": ""
             }
            },
            "type": "scatterpolar"
           }
          ],
          "scatterpolargl": [
           {
            "marker": {
             "colorbar": {
              "outlinewidth": 0,
              "ticks": ""
             }
            },
            "type": "scatterpolargl"
           }
          ],
          "scatterternary": [
           {
            "marker": {
             "colorbar": {
              "outlinewidth": 0,
              "ticks": ""
             }
            },
            "type": "scatterternary"
           }
          ],
          "surface": [
           {
            "colorbar": {
             "outlinewidth": 0,
             "ticks": ""
            },
            "colorscale": [
             [
              0,
              "#0d0887"
             ],
             [
              0.1111111111111111,
              "#46039f"
             ],
             [
              0.2222222222222222,
              "#7201a8"
             ],
             [
              0.3333333333333333,
              "#9c179e"
             ],
             [
              0.4444444444444444,
              "#bd3786"
             ],
             [
              0.5555555555555556,
              "#d8576b"
             ],
             [
              0.6666666666666666,
              "#ed7953"
             ],
             [
              0.7777777777777778,
              "#fb9f3a"
             ],
             [
              0.8888888888888888,
              "#fdca26"
             ],
             [
              1,
              "#f0f921"
             ]
            ],
            "type": "surface"
           }
          ],
          "table": [
           {
            "cells": {
             "fill": {
              "color": "#EBF0F8"
             },
             "line": {
              "color": "white"
             }
            },
            "header": {
             "fill": {
              "color": "#C8D4E3"
             },
             "line": {
              "color": "white"
             }
            },
            "type": "table"
           }
          ]
         },
         "layout": {
          "annotationdefaults": {
           "arrowcolor": "#2a3f5f",
           "arrowhead": 0,
           "arrowwidth": 1
          },
          "autotypenumbers": "strict",
          "coloraxis": {
           "colorbar": {
            "outlinewidth": 0,
            "ticks": ""
           }
          },
          "colorscale": {
           "diverging": [
            [
             0,
             "#8e0152"
            ],
            [
             0.1,
             "#c51b7d"
            ],
            [
             0.2,
             "#de77ae"
            ],
            [
             0.3,
             "#f1b6da"
            ],
            [
             0.4,
             "#fde0ef"
            ],
            [
             0.5,
             "#f7f7f7"
            ],
            [
             0.6,
             "#e6f5d0"
            ],
            [
             0.7,
             "#b8e186"
            ],
            [
             0.8,
             "#7fbc41"
            ],
            [
             0.9,
             "#4d9221"
            ],
            [
             1,
             "#276419"
            ]
           ],
           "sequential": [
            [
             0,
             "#0d0887"
            ],
            [
             0.1111111111111111,
             "#46039f"
            ],
            [
             0.2222222222222222,
             "#7201a8"
            ],
            [
             0.3333333333333333,
             "#9c179e"
            ],
            [
             0.4444444444444444,
             "#bd3786"
            ],
            [
             0.5555555555555556,
             "#d8576b"
            ],
            [
             0.6666666666666666,
             "#ed7953"
            ],
            [
             0.7777777777777778,
             "#fb9f3a"
            ],
            [
             0.8888888888888888,
             "#fdca26"
            ],
            [
             1,
             "#f0f921"
            ]
           ],
           "sequentialminus": [
            [
             0,
             "#0d0887"
            ],
            [
             0.1111111111111111,
             "#46039f"
            ],
            [
             0.2222222222222222,
             "#7201a8"
            ],
            [
             0.3333333333333333,
             "#9c179e"
            ],
            [
             0.4444444444444444,
             "#bd3786"
            ],
            [
             0.5555555555555556,
             "#d8576b"
            ],
            [
             0.6666666666666666,
             "#ed7953"
            ],
            [
             0.7777777777777778,
             "#fb9f3a"
            ],
            [
             0.8888888888888888,
             "#fdca26"
            ],
            [
             1,
             "#f0f921"
            ]
           ]
          },
          "colorway": [
           "#636efa",
           "#EF553B",
           "#00cc96",
           "#ab63fa",
           "#FFA15A",
           "#19d3f3",
           "#FF6692",
           "#B6E880",
           "#FF97FF",
           "#FECB52"
          ],
          "font": {
           "color": "#2a3f5f"
          },
          "geo": {
           "bgcolor": "white",
           "lakecolor": "white",
           "landcolor": "#E5ECF6",
           "showlakes": true,
           "showland": true,
           "subunitcolor": "white"
          },
          "hoverlabel": {
           "align": "left"
          },
          "hovermode": "closest",
          "mapbox": {
           "style": "light"
          },
          "paper_bgcolor": "white",
          "plot_bgcolor": "#E5ECF6",
          "polar": {
           "angularaxis": {
            "gridcolor": "white",
            "linecolor": "white",
            "ticks": ""
           },
           "bgcolor": "#E5ECF6",
           "radialaxis": {
            "gridcolor": "white",
            "linecolor": "white",
            "ticks": ""
           }
          },
          "scene": {
           "xaxis": {
            "backgroundcolor": "#E5ECF6",
            "gridcolor": "white",
            "gridwidth": 2,
            "linecolor": "white",
            "showbackground": true,
            "ticks": "",
            "zerolinecolor": "white"
           },
           "yaxis": {
            "backgroundcolor": "#E5ECF6",
            "gridcolor": "white",
            "gridwidth": 2,
            "linecolor": "white",
            "showbackground": true,
            "ticks": "",
            "zerolinecolor": "white"
           },
           "zaxis": {
            "backgroundcolor": "#E5ECF6",
            "gridcolor": "white",
            "gridwidth": 2,
            "linecolor": "white",
            "showbackground": true,
            "ticks": "",
            "zerolinecolor": "white"
           }
          },
          "shapedefaults": {
           "line": {
            "color": "#2a3f5f"
           }
          },
          "ternary": {
           "aaxis": {
            "gridcolor": "white",
            "linecolor": "white",
            "ticks": ""
           },
           "baxis": {
            "gridcolor": "white",
            "linecolor": "white",
            "ticks": ""
           },
           "bgcolor": "#E5ECF6",
           "caxis": {
            "gridcolor": "white",
            "linecolor": "white",
            "ticks": ""
           }
          },
          "title": {
           "x": 0.05
          },
          "xaxis": {
           "automargin": true,
           "gridcolor": "white",
           "linecolor": "white",
           "ticks": "",
           "title": {
            "standoff": 15
           },
           "zerolinecolor": "white",
           "zerolinewidth": 2
          },
          "yaxis": {
           "automargin": true,
           "gridcolor": "white",
           "linecolor": "white",
           "ticks": "",
           "title": {
            "standoff": 15
           },
           "zerolinecolor": "white",
           "zerolinewidth": 2
          }
         }
        },
        "title": {
         "text": "Count of AUC_train and AUC_test Values"
        },
        "xaxis": {
         "title": {
          "text": "AUC Value Combination"
         }
        },
        "yaxis": {
         "title": {
          "text": "Count"
         }
        }
       }
      }
     },
     "metadata": {},
     "output_type": "display_data"
    }
   ],
   "source": [
    "import plotly.graph_objects as go\n",
    "\n",
    "# Count the occurrences for AUC_train > 0.5\n",
    "auc_train_greater_than_0_5 = J[J['AUC_train'] > 0.5]\n",
    "auc_test_greater_than_0_5_for_train_greater_than_0_5 = (auc_train_greater_than_0_5['AUC_test'] > 0.5).sum()\n",
    "auc_test_equal_to_0_5_for_train_greater_than_0_5 = (auc_train_greater_than_0_5['AUC_test'] == 0.5).sum()\n",
    "\n",
    "# Count the occurrences for AUC_train = 0.5\n",
    "auc_train_equal_to_0_5 = J[J['AUC_train'] == 0.5]\n",
    "auc_test_greater_than_0_5_for_train_equal_to_0_5 = (auc_train_equal_to_0_5['AUC_test'] > 0.5).sum()\n",
    "auc_test_equal_to_0_5_for_train_equal_to_0_5 = (auc_train_equal_to_0_5['AUC_test'] == 0.5).sum()\n",
    "\n",
    "# Create a bar chart\n",
    "labels = [\n",
    "    'AUC_train > 0.5 & AUC_test > 0.5',\n",
    "    'AUC_train > 0.5 & AUC_test = 0.5',\n",
    "    'AUC_train = 0.5 & AUC_test > 0.5',\n",
    "    'AUC_train = 0.5 & AUC_test = 0.5'\n",
    "]\n",
    "counts = [\n",
    "    auc_test_greater_than_0_5_for_train_greater_than_0_5,\n",
    "    auc_test_equal_to_0_5_for_train_greater_than_0_5,\n",
    "    auc_test_greater_than_0_5_for_train_equal_to_0_5,\n",
    "    auc_test_equal_to_0_5_for_train_equal_to_0_5\n",
    "]\n",
    "\n",
    "fig = go.Figure(data=[go.Bar(x=labels, y=counts, marker_color=['blue', 'orange', 'green', 'red'])])\n",
    "fig.update_layout(\n",
    "    title='Count of AUC_train and AUC_test Values',\n",
    "    xaxis_title='AUC Value Combination',\n",
    "    yaxis_title='Count'\n",
    ")\n",
    "fig.show()"
   ]
  },
  {
   "cell_type": "code",
   "execution_count": null,
   "metadata": {},
   "outputs": [],
   "source": []
  }
 ],
 "metadata": {
  "kernelspec": {
   "display_name": ".venv",
   "language": "python",
   "name": "python3"
  },
  "language_info": {
   "codemirror_mode": {
    "name": "ipython",
    "version": 3
   },
   "file_extension": ".py",
   "mimetype": "text/x-python",
   "name": "python",
   "nbconvert_exporter": "python",
   "pygments_lexer": "ipython3",
   "version": "3.10.11"
  }
 },
 "nbformat": 4,
 "nbformat_minor": 2
}
