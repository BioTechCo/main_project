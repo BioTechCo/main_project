{
 "cells": [
  {
   "cell_type": "code",
   "execution_count": 2,
   "metadata": {},
   "outputs": [],
   "source": [
    "import os\n",
    "import toml\n",
    "import pandas as pd\n",
    "from utils.config_helper import update_nested_toml, load_config"
   ]
  },
  {
   "cell_type": "markdown",
   "metadata": {},
   "source": [
    "breast\n",
    "lung\n",
    "prostate\n",
    "stomach\n",
    "rectal"
   ]
  },
  {
   "cell_type": "code",
   "execution_count": 3,
   "metadata": {},
   "outputs": [],
   "source": [
    "TYPE = input(\"Enter the type of the config file: \")\n",
    "CONFIG_PATH = f\"../config/{TYPE}.toml\"\n",
    "config = load_config(CONFIG_PATH)"
   ]
  },
  {
   "cell_type": "code",
   "execution_count": 4,
   "metadata": {},
   "outputs": [],
   "source": [
    "def inspect_nan(df, name):\n",
    "    print(df[pd.isna(df[name])])"
   ]
  },
  {
   "cell_type": "code",
   "execution_count": 5,
   "metadata": {},
   "outputs": [],
   "source": [
    "beta_file_number = config[\"init\"][\"hyper\"][\"beta_file_number\"]\n",
    "test_ratio = config[\"init\"][\"hyper\"][\"test_ratio\"]\n",
    "seed = config[\"init\"][\"hyper\"][\"splitting_seed\"]\n",
    "normal_number_0 = config[\"init\"][\"hyper\"][\"normal_number_0\"]\n",
    "if beta_file_number == 2:\n",
    "    normal_number_1 = config[\"init\"][\"hyper\"][\"normal_number_1\"]\n",
    "data_source = config[\"init\"][\"hyper\"][\"data_source\"]\n",
    "is_columns_duplicated = config[\"init\"][\"hyper\"][\"is_columns_duplicated\"]\n",
    "if data_source == \"GDC_stomach_GSE99553\":  # god forgive me\n",
    "    is_columns_duplicated_1 = config[\"init\"][\"hyper\"][\"is_columns_duplicated_1\"]"
   ]
  },
  {
   "cell_type": "code",
   "execution_count": 6,
   "metadata": {},
   "outputs": [],
   "source": [
    "trainOutPath = f\"../{TYPE}/result/{data_source}/train{int(100-test_ratio*100)}\"\n",
    "testOutPath = f\"../{TYPE}/result/{data_source}/test{int(test_ratio*100)}\""
   ]
  },
  {
   "cell_type": "markdown",
   "metadata": {},
   "source": [
    "### Section. 0 Merge and Split Champ Data \n",
    "(if there are more than one normalized beta data)\n",
    "\n",
    "#### Summary\n",
    "- beta data is split into train and test\n",
    "- all beta data will the following format\n",
    "  - column 0 is the id of the sample\n",
    "  - column 1 to n is the beta value of each CpG site\n",
    "  - normal samples come first, then tumor samples"
   ]
  },
  {
   "cell_type": "code",
   "execution_count": 8,
   "metadata": {},
   "outputs": [],
   "source": [
    "df0 = pd.read_csv(f\"../{TYPE}/champ_result/{data_source}/all_beta_normalized_0.csv\")"
   ]
  },
  {
   "cell_type": "code",
   "execution_count": 9,
   "metadata": {},
   "outputs": [],
   "source": [
    "if beta_file_number == 2:\n",
    "    df1 = pd.read_csv(f\"../{TYPE}/champ_result/{data_source}/all_beta_normalized_1.csv\")"
   ]
  },
  {
   "cell_type": "code",
   "execution_count": 10,
   "metadata": {},
   "outputs": [
    {
     "data": {
      "text/html": [
       "<div>\n",
       "<style scoped>\n",
       "    .dataframe tbody tr th:only-of-type {\n",
       "        vertical-align: middle;\n",
       "    }\n",
       "\n",
       "    .dataframe tbody tr th {\n",
       "        vertical-align: top;\n",
       "    }\n",
       "\n",
       "    .dataframe thead th {\n",
       "        text-align: right;\n",
       "    }\n",
       "</style>\n",
       "<table border=\"1\" class=\"dataframe\">\n",
       "  <thead>\n",
       "    <tr style=\"text-align: right;\">\n",
       "      <th></th>\n",
       "      <th>Unnamed: 0</th>\n",
       "      <th>1</th>\n",
       "      <th>2</th>\n",
       "      <th>3</th>\n",
       "      <th>4</th>\n",
       "      <th>5</th>\n",
       "      <th>6</th>\n",
       "      <th>7</th>\n",
       "      <th>8</th>\n",
       "      <th>9</th>\n",
       "      <th>...</th>\n",
       "      <th>1095</th>\n",
       "      <th>1096</th>\n",
       "      <th>1097</th>\n",
       "      <th>1098</th>\n",
       "      <th>1099</th>\n",
       "      <th>1100</th>\n",
       "      <th>1101</th>\n",
       "      <th>1102</th>\n",
       "      <th>1103</th>\n",
       "      <th>1104</th>\n",
       "    </tr>\n",
       "  </thead>\n",
       "  <tbody>\n",
       "    <tr>\n",
       "      <th>0</th>\n",
       "      <td>cg00000957</td>\n",
       "      <td>0.840645</td>\n",
       "      <td>0.840645</td>\n",
       "      <td>0.838333</td>\n",
       "      <td>0.838333</td>\n",
       "      <td>0.841180</td>\n",
       "      <td>0.841180</td>\n",
       "      <td>0.854801</td>\n",
       "      <td>0.854801</td>\n",
       "      <td>0.826240</td>\n",
       "      <td>...</td>\n",
       "      <td>0.858369</td>\n",
       "      <td>0.858369</td>\n",
       "      <td>0.847875</td>\n",
       "      <td>0.847875</td>\n",
       "      <td>0.881325</td>\n",
       "      <td>0.881325</td>\n",
       "      <td>0.845785</td>\n",
       "      <td>0.845785</td>\n",
       "      <td>0.879158</td>\n",
       "      <td>0.879158</td>\n",
       "    </tr>\n",
       "    <tr>\n",
       "      <th>1</th>\n",
       "      <td>cg00001349</td>\n",
       "      <td>0.868204</td>\n",
       "      <td>0.868204</td>\n",
       "      <td>0.875523</td>\n",
       "      <td>0.875523</td>\n",
       "      <td>0.708645</td>\n",
       "      <td>0.708645</td>\n",
       "      <td>0.763812</td>\n",
       "      <td>0.763812</td>\n",
       "      <td>0.618374</td>\n",
       "      <td>...</td>\n",
       "      <td>0.879759</td>\n",
       "      <td>0.879759</td>\n",
       "      <td>0.759153</td>\n",
       "      <td>0.759153</td>\n",
       "      <td>0.835826</td>\n",
       "      <td>0.835826</td>\n",
       "      <td>0.842740</td>\n",
       "      <td>0.842740</td>\n",
       "      <td>0.862857</td>\n",
       "      <td>0.862857</td>\n",
       "    </tr>\n",
       "    <tr>\n",
       "      <th>2</th>\n",
       "      <td>cg00001583</td>\n",
       "      <td>0.106897</td>\n",
       "      <td>0.106897</td>\n",
       "      <td>0.520205</td>\n",
       "      <td>0.520205</td>\n",
       "      <td>0.113957</td>\n",
       "      <td>0.113957</td>\n",
       "      <td>0.213113</td>\n",
       "      <td>0.213113</td>\n",
       "      <td>0.063247</td>\n",
       "      <td>...</td>\n",
       "      <td>0.790970</td>\n",
       "      <td>0.790970</td>\n",
       "      <td>0.100963</td>\n",
       "      <td>0.100963</td>\n",
       "      <td>0.247293</td>\n",
       "      <td>0.247293</td>\n",
       "      <td>0.642551</td>\n",
       "      <td>0.642551</td>\n",
       "      <td>0.709084</td>\n",
       "      <td>0.709084</td>\n",
       "    </tr>\n",
       "    <tr>\n",
       "      <th>3</th>\n",
       "      <td>cg00002028</td>\n",
       "      <td>0.026257</td>\n",
       "      <td>0.026257</td>\n",
       "      <td>0.034299</td>\n",
       "      <td>0.034299</td>\n",
       "      <td>0.030409</td>\n",
       "      <td>0.030409</td>\n",
       "      <td>0.016650</td>\n",
       "      <td>0.016650</td>\n",
       "      <td>0.026056</td>\n",
       "      <td>...</td>\n",
       "      <td>0.021136</td>\n",
       "      <td>0.021136</td>\n",
       "      <td>0.032977</td>\n",
       "      <td>0.032977</td>\n",
       "      <td>0.025518</td>\n",
       "      <td>0.025518</td>\n",
       "      <td>0.045711</td>\n",
       "      <td>0.045711</td>\n",
       "      <td>0.035661</td>\n",
       "      <td>0.035661</td>\n",
       "    </tr>\n",
       "    <tr>\n",
       "      <th>4</th>\n",
       "      <td>cg00002719</td>\n",
       "      <td>0.029272</td>\n",
       "      <td>0.029272</td>\n",
       "      <td>0.490811</td>\n",
       "      <td>0.490811</td>\n",
       "      <td>0.052727</td>\n",
       "      <td>0.052727</td>\n",
       "      <td>0.045307</td>\n",
       "      <td>0.045307</td>\n",
       "      <td>0.035076</td>\n",
       "      <td>...</td>\n",
       "      <td>0.713871</td>\n",
       "      <td>0.713871</td>\n",
       "      <td>0.542124</td>\n",
       "      <td>0.542124</td>\n",
       "      <td>0.137699</td>\n",
       "      <td>0.137699</td>\n",
       "      <td>0.621165</td>\n",
       "      <td>0.621165</td>\n",
       "      <td>0.483589</td>\n",
       "      <td>0.483589</td>\n",
       "    </tr>\n",
       "    <tr>\n",
       "      <th>...</th>\n",
       "      <td>...</td>\n",
       "      <td>...</td>\n",
       "      <td>...</td>\n",
       "      <td>...</td>\n",
       "      <td>...</td>\n",
       "      <td>...</td>\n",
       "      <td>...</td>\n",
       "      <td>...</td>\n",
       "      <td>...</td>\n",
       "      <td>...</td>\n",
       "      <td>...</td>\n",
       "      <td>...</td>\n",
       "      <td>...</td>\n",
       "      <td>...</td>\n",
       "      <td>...</td>\n",
       "      <td>...</td>\n",
       "      <td>...</td>\n",
       "      <td>...</td>\n",
       "      <td>...</td>\n",
       "      <td>...</td>\n",
       "      <td>...</td>\n",
       "    </tr>\n",
       "    <tr>\n",
       "      <th>373335</th>\n",
       "      <td>cg27656573</td>\n",
       "      <td>0.972378</td>\n",
       "      <td>0.972378</td>\n",
       "      <td>0.952102</td>\n",
       "      <td>0.952102</td>\n",
       "      <td>0.956166</td>\n",
       "      <td>0.956166</td>\n",
       "      <td>0.971104</td>\n",
       "      <td>0.971104</td>\n",
       "      <td>0.961684</td>\n",
       "      <td>...</td>\n",
       "      <td>0.948461</td>\n",
       "      <td>0.948461</td>\n",
       "      <td>0.943028</td>\n",
       "      <td>0.943028</td>\n",
       "      <td>0.969645</td>\n",
       "      <td>0.969645</td>\n",
       "      <td>0.950949</td>\n",
       "      <td>0.950949</td>\n",
       "      <td>0.963958</td>\n",
       "      <td>0.963958</td>\n",
       "    </tr>\n",
       "    <tr>\n",
       "      <th>373336</th>\n",
       "      <td>cg27657363</td>\n",
       "      <td>0.969164</td>\n",
       "      <td>0.969164</td>\n",
       "      <td>0.931059</td>\n",
       "      <td>0.931059</td>\n",
       "      <td>0.949989</td>\n",
       "      <td>0.949989</td>\n",
       "      <td>0.952977</td>\n",
       "      <td>0.952977</td>\n",
       "      <td>0.942600</td>\n",
       "      <td>...</td>\n",
       "      <td>0.936938</td>\n",
       "      <td>0.936938</td>\n",
       "      <td>0.931106</td>\n",
       "      <td>0.931106</td>\n",
       "      <td>0.935278</td>\n",
       "      <td>0.935278</td>\n",
       "      <td>0.939360</td>\n",
       "      <td>0.939360</td>\n",
       "      <td>0.953841</td>\n",
       "      <td>0.953841</td>\n",
       "    </tr>\n",
       "    <tr>\n",
       "      <th>373337</th>\n",
       "      <td>cg27657537</td>\n",
       "      <td>0.131392</td>\n",
       "      <td>0.131392</td>\n",
       "      <td>0.282966</td>\n",
       "      <td>0.282966</td>\n",
       "      <td>0.080608</td>\n",
       "      <td>0.080608</td>\n",
       "      <td>0.259545</td>\n",
       "      <td>0.259545</td>\n",
       "      <td>0.103994</td>\n",
       "      <td>...</td>\n",
       "      <td>0.445348</td>\n",
       "      <td>0.445348</td>\n",
       "      <td>0.592364</td>\n",
       "      <td>0.592364</td>\n",
       "      <td>0.293623</td>\n",
       "      <td>0.293623</td>\n",
       "      <td>0.538090</td>\n",
       "      <td>0.538090</td>\n",
       "      <td>0.671126</td>\n",
       "      <td>0.671126</td>\n",
       "    </tr>\n",
       "    <tr>\n",
       "      <th>373338</th>\n",
       "      <td>cg27662611</td>\n",
       "      <td>0.033896</td>\n",
       "      <td>0.033896</td>\n",
       "      <td>0.033763</td>\n",
       "      <td>0.033763</td>\n",
       "      <td>0.050093</td>\n",
       "      <td>0.050093</td>\n",
       "      <td>0.041935</td>\n",
       "      <td>0.041935</td>\n",
       "      <td>0.040316</td>\n",
       "      <td>...</td>\n",
       "      <td>0.029657</td>\n",
       "      <td>0.029657</td>\n",
       "      <td>0.031203</td>\n",
       "      <td>0.031203</td>\n",
       "      <td>0.031619</td>\n",
       "      <td>0.031619</td>\n",
       "      <td>0.035420</td>\n",
       "      <td>0.035420</td>\n",
       "      <td>0.055974</td>\n",
       "      <td>0.055974</td>\n",
       "    </tr>\n",
       "    <tr>\n",
       "      <th>373339</th>\n",
       "      <td>cg27665648</td>\n",
       "      <td>0.875534</td>\n",
       "      <td>0.875534</td>\n",
       "      <td>0.824831</td>\n",
       "      <td>0.824831</td>\n",
       "      <td>0.869885</td>\n",
       "      <td>0.869885</td>\n",
       "      <td>0.883267</td>\n",
       "      <td>0.883267</td>\n",
       "      <td>0.887834</td>\n",
       "      <td>...</td>\n",
       "      <td>0.912657</td>\n",
       "      <td>0.912657</td>\n",
       "      <td>0.905385</td>\n",
       "      <td>0.905385</td>\n",
       "      <td>0.883924</td>\n",
       "      <td>0.883924</td>\n",
       "      <td>0.914253</td>\n",
       "      <td>0.914253</td>\n",
       "      <td>0.924396</td>\n",
       "      <td>0.924396</td>\n",
       "    </tr>\n",
       "  </tbody>\n",
       "</table>\n",
       "<p>373340 rows × 1105 columns</p>\n",
       "</div>"
      ],
      "text/plain": [
       "        Unnamed: 0         1         2         3         4         5  \\\n",
       "0       cg00000957  0.840645  0.840645  0.838333  0.838333  0.841180   \n",
       "1       cg00001349  0.868204  0.868204  0.875523  0.875523  0.708645   \n",
       "2       cg00001583  0.106897  0.106897  0.520205  0.520205  0.113957   \n",
       "3       cg00002028  0.026257  0.026257  0.034299  0.034299  0.030409   \n",
       "4       cg00002719  0.029272  0.029272  0.490811  0.490811  0.052727   \n",
       "...            ...       ...       ...       ...       ...       ...   \n",
       "373335  cg27656573  0.972378  0.972378  0.952102  0.952102  0.956166   \n",
       "373336  cg27657363  0.969164  0.969164  0.931059  0.931059  0.949989   \n",
       "373337  cg27657537  0.131392  0.131392  0.282966  0.282966  0.080608   \n",
       "373338  cg27662611  0.033896  0.033896  0.033763  0.033763  0.050093   \n",
       "373339  cg27665648  0.875534  0.875534  0.824831  0.824831  0.869885   \n",
       "\n",
       "               6         7         8         9  ...      1095      1096  \\\n",
       "0       0.841180  0.854801  0.854801  0.826240  ...  0.858369  0.858369   \n",
       "1       0.708645  0.763812  0.763812  0.618374  ...  0.879759  0.879759   \n",
       "2       0.113957  0.213113  0.213113  0.063247  ...  0.790970  0.790970   \n",
       "3       0.030409  0.016650  0.016650  0.026056  ...  0.021136  0.021136   \n",
       "4       0.052727  0.045307  0.045307  0.035076  ...  0.713871  0.713871   \n",
       "...          ...       ...       ...       ...  ...       ...       ...   \n",
       "373335  0.956166  0.971104  0.971104  0.961684  ...  0.948461  0.948461   \n",
       "373336  0.949989  0.952977  0.952977  0.942600  ...  0.936938  0.936938   \n",
       "373337  0.080608  0.259545  0.259545  0.103994  ...  0.445348  0.445348   \n",
       "373338  0.050093  0.041935  0.041935  0.040316  ...  0.029657  0.029657   \n",
       "373339  0.869885  0.883267  0.883267  0.887834  ...  0.912657  0.912657   \n",
       "\n",
       "            1097      1098      1099      1100      1101      1102      1103  \\\n",
       "0       0.847875  0.847875  0.881325  0.881325  0.845785  0.845785  0.879158   \n",
       "1       0.759153  0.759153  0.835826  0.835826  0.842740  0.842740  0.862857   \n",
       "2       0.100963  0.100963  0.247293  0.247293  0.642551  0.642551  0.709084   \n",
       "3       0.032977  0.032977  0.025518  0.025518  0.045711  0.045711  0.035661   \n",
       "4       0.542124  0.542124  0.137699  0.137699  0.621165  0.621165  0.483589   \n",
       "...          ...       ...       ...       ...       ...       ...       ...   \n",
       "373335  0.943028  0.943028  0.969645  0.969645  0.950949  0.950949  0.963958   \n",
       "373336  0.931106  0.931106  0.935278  0.935278  0.939360  0.939360  0.953841   \n",
       "373337  0.592364  0.592364  0.293623  0.293623  0.538090  0.538090  0.671126   \n",
       "373338  0.031203  0.031203  0.031619  0.031619  0.035420  0.035420  0.055974   \n",
       "373339  0.905385  0.905385  0.883924  0.883924  0.914253  0.914253  0.924396   \n",
       "\n",
       "            1104  \n",
       "0       0.879158  \n",
       "1       0.862857  \n",
       "2       0.709084  \n",
       "3       0.035661  \n",
       "4       0.483589  \n",
       "...          ...  \n",
       "373335  0.963958  \n",
       "373336  0.953841  \n",
       "373337  0.671126  \n",
       "373338  0.055974  \n",
       "373339  0.924396  \n",
       "\n",
       "[373340 rows x 1105 columns]"
      ]
     },
     "execution_count": 10,
     "metadata": {},
     "output_type": "execute_result"
    }
   ],
   "source": [
    "# DEBUG\n",
    "df0\n",
    "# END"
   ]
  },
  {
   "cell_type": "code",
   "execution_count": 11,
   "metadata": {},
   "outputs": [
    {
     "ename": "NameError",
     "evalue": "name 'df1' is not defined",
     "output_type": "error",
     "traceback": [
      "\u001b[1;31m---------------------------------------------------------------------------\u001b[0m",
      "\u001b[1;31mNameError\u001b[0m                                 Traceback (most recent call last)",
      "Cell \u001b[1;32mIn[11], line 2\u001b[0m\n\u001b[0;32m      1\u001b[0m \u001b[38;5;66;03m# DEBUG\u001b[39;00m\n\u001b[1;32m----> 2\u001b[0m \u001b[43mdf1\u001b[49m\n\u001b[0;32m      3\u001b[0m \u001b[38;5;66;03m# END\u001b[39;00m\n",
      "\u001b[1;31mNameError\u001b[0m: name 'df1' is not defined"
     ]
    }
   ],
   "source": [
    "# DEBUG\n",
    "df1\n",
    "# END"
   ]
  },
  {
   "cell_type": "code",
   "execution_count": 12,
   "metadata": {},
   "outputs": [],
   "source": [
    "# potential feature loss\n",
    "if beta_file_number == 2:\n",
    "    feature_name_0 = df0.iloc[:, 0].tolist()\n",
    "    feature_name_1 = df1.iloc[:, 0].tolist()\n",
    "\n",
    "    feature_name = list(set(feature_name_0).intersection(feature_name_1))\n",
    "    update_nested_toml(\n",
    "        \"preprocess.merge_and_split\", \"feature_size_0\", len(feature_name_0)\n",
    "    )\n",
    "    update_nested_toml(\n",
    "        \"preprocess.merge_and_split\", \"feature_size_1\", len(feature_name_1)\n",
    "    )\n",
    "    update_nested_toml(\n",
    "        \"preprocess.merge_and_split\", \"feature_size_intersection\", len(feature_name)\n",
    "    )\n",
    "elif beta_file_number == 1:\n",
    "    feature_name = df0.iloc[:, 0].tolist()\n",
    "    update_nested_toml(\n",
    "        \"preprocess.merge_and_split\", \"feature_size_0\", len(feature_name)\n",
    "    )"
   ]
  },
  {
   "cell_type": "code",
   "execution_count": 13,
   "metadata": {},
   "outputs": [],
   "source": [
    "if beta_file_number == 2:\n",
    "    df0_join = df0[df0.iloc[:, 0].isin(feature_name)]\n",
    "    df1_join = df1[df1.iloc[:, 0].isin(feature_name)]"
   ]
  },
  {
   "cell_type": "code",
   "execution_count": 14,
   "metadata": {},
   "outputs": [],
   "source": [
    "if beta_file_number == 2:\n",
    "    df0_join = df0_join.iloc[:, 1::is_columns_duplicated]\n",
    "    if data_source == \"GDC_stomach_GSE99553\":  # god forgive me\n",
    "        df1_join = df1_join.iloc[:, 1::is_columns_duplicated_1]\n",
    "    else:\n",
    "        df1_join = df1_join.iloc[:, 1::is_columns_duplicated]\n",
    "    df0_join.reset_index(drop=True, inplace=True)\n",
    "    df1_join.reset_index(drop=True, inplace=True)\n",
    "    df0_join_normal = df0_join.iloc[:, :normal_number_0]\n",
    "    df0_join_tumor = df0_join.iloc[:, normal_number_0:]\n",
    "    df1_join_normal = df1_join.iloc[:, :normal_number_1]\n",
    "    df1_join_tumor = df1_join.iloc[:, normal_number_1:]\n",
    "elif beta_file_number == 1:\n",
    "    df0_join = df0.iloc[:, 1::is_columns_duplicated]"
   ]
  },
  {
   "cell_type": "code",
   "execution_count": 15,
   "metadata": {},
   "outputs": [],
   "source": [
    "if beta_file_number == 2:\n",
    "    df_normal = pd.concat([df0_join_normal, df1_join_normal], axis=1)\n",
    "    df_tumor = pd.concat([df0_join_tumor, df1_join_tumor], axis=1)"
   ]
  },
  {
   "cell_type": "code",
   "execution_count": 16,
   "metadata": {},
   "outputs": [],
   "source": [
    "# drop those samples with missing value\n",
    "# note: could use padding or other methods to fill the missing value\n",
    "\n",
    "if beta_file_number == 2:\n",
    "    update_nested_toml(\n",
    "        \"preprocess.merge_and_split\", \"Before_dropna_dfn_shape\", df_normal.shape\n",
    "    )\n",
    "    update_nested_toml(\n",
    "        \"preprocess.merge_and_split\", \"Before_dropna_dfc_shape\", df_tumor.shape\n",
    "    )\n",
    "    df_normal.dropna(inplace=True, axis=1)\n",
    "    df_tumor.dropna(inplace=True, axis=1)\n",
    "    update_nested_toml(\n",
    "        \"preprocess.merge_and_split\", \"After_dropna_dfn_shape\", df_normal.shape\n",
    "    )\n",
    "    update_nested_toml(\n",
    "        \"preprocess.merge_and_split\", \"After_dropna_dfc_shape\", df_tumor.shape\n",
    "    )\n",
    "elif beta_file_number == 1:\n",
    "    update_nested_toml(\n",
    "        \"preprocess.merge_and_split\", \"Before_dropna_df_shape\", df0_join.shape\n",
    "    )\n",
    "    df0_join.dropna(inplace=True, axis=1)\n",
    "    update_nested_toml(\n",
    "        \"preprocess.merge_and_split\", \"After_dropna_df_shape\", df0_join.shape\n",
    "    )"
   ]
  },
  {
   "cell_type": "code",
   "execution_count": 17,
   "metadata": {},
   "outputs": [],
   "source": [
    "# Combine the normal and tumor data\n",
    "if beta_file_number == 2:\n",
    "    X = pd.concat([df_normal, df_tumor], axis=1).T\n",
    "    y = [0] * df_normal.shape[1] + [1] * df_tumor.shape[1]\n",
    "elif beta_file_number == 1:\n",
    "    X = df0_join.T\n",
    "    y = [0] * normal_number_0 + [1] * (df0_join.shape[1] - normal_number_0)\n"
   ]
  },
  {
   "cell_type": "code",
   "execution_count": 19,
   "metadata": {},
   "outputs": [],
   "source": [
    "from collections import Counter\n",
    "from sklearn.model_selection import train_test_split\n",
    "\n",
    "X_train, X_test, y_train, y_test = train_test_split(\n",
    "    X, y, test_size=test_ratio, random_state=seed\n",
    ")"
   ]
  },
  {
   "cell_type": "code",
   "execution_count": 21,
   "metadata": {},
   "outputs": [
    {
     "name": "stderr",
     "output_type": "stream",
     "text": [
      "D:\\Users\\005535\\AppData\\Local\\Packages\\PythonSoftwareFoundation.Python.3.11_qbz5n2kfra8p0\\LocalCache\\local-packages\\Python311\\site-packages\\joblib\\externals\\loky\\backend\\context.py:136: UserWarning: Could not find the number of physical cores for the following reason:\n",
      "found 0 physical cores < 1\n",
      "Returning the number of logical cores instead. You can silence this warning by setting LOKY_MAX_CPU_COUNT to the number of cores you want to use.\n",
      "  warnings.warn(\n",
      "  File \"D:\\Users\\005535\\AppData\\Local\\Packages\\PythonSoftwareFoundation.Python.3.11_qbz5n2kfra8p0\\LocalCache\\local-packages\\Python311\\site-packages\\joblib\\externals\\loky\\backend\\context.py\", line 282, in _count_physical_cores\n",
      "    raise ValueError(f\"found {cpu_count_physical} physical cores < 1\")\n"
     ]
    }
   ],
   "source": [
    "update_nested_toml(\n",
    "    \"preprocess.merge_and_split\", \"Before_SMOTE_X_train_shape\", X_train.shape\n",
    ")\n",
    "update_nested_toml(\n",
    "    \"preprocess.merge_and_split\", \"Before_SMOTE_y_train_shape\", len(y_train)\n",
    ")\n",
    "\n",
    "from imblearn.over_sampling import SMOTE\n",
    "\n",
    "smote = SMOTE(random_state=seed)\n",
    "X_resampled, y_resampled = smote.fit_resample(X_train, y_train)\n",
    "update_nested_toml(\n",
    "    \"preprocess.merge_and_split\", \"After_SMOTE_X_train_shape\", X_resampled.shape\n",
    ")\n",
    "update_nested_toml(\n",
    "    \"preprocess.merge_and_split\", \"After_SMOTE_y_train_shape\", len(y_resampled)\n",
    ")\n"
   ]
  },
  {
   "cell_type": "code",
   "execution_count": 22,
   "metadata": {},
   "outputs": [
    {
     "data": {
      "text/html": [
       "<div>\n",
       "<style scoped>\n",
       "    .dataframe tbody tr th:only-of-type {\n",
       "        vertical-align: middle;\n",
       "    }\n",
       "\n",
       "    .dataframe tbody tr th {\n",
       "        vertical-align: top;\n",
       "    }\n",
       "\n",
       "    .dataframe thead th {\n",
       "        text-align: right;\n",
       "    }\n",
       "</style>\n",
       "<table border=\"1\" class=\"dataframe\">\n",
       "  <thead>\n",
       "    <tr style=\"text-align: right;\">\n",
       "      <th></th>\n",
       "      <th>0</th>\n",
       "      <th>1</th>\n",
       "      <th>2</th>\n",
       "      <th>3</th>\n",
       "      <th>4</th>\n",
       "      <th>5</th>\n",
       "      <th>6</th>\n",
       "      <th>7</th>\n",
       "      <th>8</th>\n",
       "      <th>9</th>\n",
       "      <th>...</th>\n",
       "      <th>373330</th>\n",
       "      <th>373331</th>\n",
       "      <th>373332</th>\n",
       "      <th>373333</th>\n",
       "      <th>373334</th>\n",
       "      <th>373335</th>\n",
       "      <th>373336</th>\n",
       "      <th>373337</th>\n",
       "      <th>373338</th>\n",
       "      <th>373339</th>\n",
       "    </tr>\n",
       "  </thead>\n",
       "  <tbody>\n",
       "    <tr>\n",
       "      <th>0</th>\n",
       "      <td>0.874194</td>\n",
       "      <td>0.898549</td>\n",
       "      <td>0.398857</td>\n",
       "      <td>0.020607</td>\n",
       "      <td>0.050160</td>\n",
       "      <td>0.760982</td>\n",
       "      <td>0.011427</td>\n",
       "      <td>0.215980</td>\n",
       "      <td>0.946351</td>\n",
       "      <td>0.010709</td>\n",
       "      <td>...</td>\n",
       "      <td>0.859529</td>\n",
       "      <td>0.065364</td>\n",
       "      <td>0.068077</td>\n",
       "      <td>0.948688</td>\n",
       "      <td>0.394797</td>\n",
       "      <td>0.964447</td>\n",
       "      <td>0.956472</td>\n",
       "      <td>0.398151</td>\n",
       "      <td>0.054754</td>\n",
       "      <td>0.807358</td>\n",
       "    </tr>\n",
       "    <tr>\n",
       "      <th>1</th>\n",
       "      <td>0.854382</td>\n",
       "      <td>0.784828</td>\n",
       "      <td>0.218870</td>\n",
       "      <td>0.035629</td>\n",
       "      <td>0.248093</td>\n",
       "      <td>0.506881</td>\n",
       "      <td>0.029541</td>\n",
       "      <td>0.254958</td>\n",
       "      <td>0.952804</td>\n",
       "      <td>0.026908</td>\n",
       "      <td>...</td>\n",
       "      <td>0.537996</td>\n",
       "      <td>0.042060</td>\n",
       "      <td>0.060707</td>\n",
       "      <td>0.940770</td>\n",
       "      <td>0.402364</td>\n",
       "      <td>0.918125</td>\n",
       "      <td>0.900551</td>\n",
       "      <td>0.279611</td>\n",
       "      <td>0.050552</td>\n",
       "      <td>0.844948</td>\n",
       "    </tr>\n",
       "    <tr>\n",
       "      <th>2</th>\n",
       "      <td>0.847503</td>\n",
       "      <td>0.843355</td>\n",
       "      <td>0.352496</td>\n",
       "      <td>0.013120</td>\n",
       "      <td>0.164024</td>\n",
       "      <td>0.491313</td>\n",
       "      <td>0.004611</td>\n",
       "      <td>0.207065</td>\n",
       "      <td>0.964780</td>\n",
       "      <td>0.031033</td>\n",
       "      <td>...</td>\n",
       "      <td>0.617928</td>\n",
       "      <td>0.012982</td>\n",
       "      <td>0.047191</td>\n",
       "      <td>0.964919</td>\n",
       "      <td>0.723513</td>\n",
       "      <td>0.947560</td>\n",
       "      <td>0.947550</td>\n",
       "      <td>0.230759</td>\n",
       "      <td>0.031211</td>\n",
       "      <td>0.851652</td>\n",
       "    </tr>\n",
       "    <tr>\n",
       "      <th>3</th>\n",
       "      <td>0.868061</td>\n",
       "      <td>0.842552</td>\n",
       "      <td>0.233753</td>\n",
       "      <td>0.016112</td>\n",
       "      <td>0.035108</td>\n",
       "      <td>0.639848</td>\n",
       "      <td>0.013337</td>\n",
       "      <td>0.310042</td>\n",
       "      <td>0.969242</td>\n",
       "      <td>0.021605</td>\n",
       "      <td>...</td>\n",
       "      <td>0.873315</td>\n",
       "      <td>0.074766</td>\n",
       "      <td>0.029090</td>\n",
       "      <td>0.970258</td>\n",
       "      <td>0.536661</td>\n",
       "      <td>0.962072</td>\n",
       "      <td>0.955651</td>\n",
       "      <td>0.374348</td>\n",
       "      <td>0.037064</td>\n",
       "      <td>0.914446</td>\n",
       "    </tr>\n",
       "    <tr>\n",
       "      <th>4</th>\n",
       "      <td>0.796901</td>\n",
       "      <td>0.800717</td>\n",
       "      <td>0.172407</td>\n",
       "      <td>0.039093</td>\n",
       "      <td>0.127151</td>\n",
       "      <td>0.576311</td>\n",
       "      <td>0.017989</td>\n",
       "      <td>0.202631</td>\n",
       "      <td>0.928545</td>\n",
       "      <td>0.025082</td>\n",
       "      <td>...</td>\n",
       "      <td>0.432770</td>\n",
       "      <td>0.038629</td>\n",
       "      <td>0.082540</td>\n",
       "      <td>0.934918</td>\n",
       "      <td>0.390929</td>\n",
       "      <td>0.933991</td>\n",
       "      <td>0.936911</td>\n",
       "      <td>0.207405</td>\n",
       "      <td>0.036866</td>\n",
       "      <td>0.826680</td>\n",
       "    </tr>\n",
       "    <tr>\n",
       "      <th>...</th>\n",
       "      <td>...</td>\n",
       "      <td>...</td>\n",
       "      <td>...</td>\n",
       "      <td>...</td>\n",
       "      <td>...</td>\n",
       "      <td>...</td>\n",
       "      <td>...</td>\n",
       "      <td>...</td>\n",
       "      <td>...</td>\n",
       "      <td>...</td>\n",
       "      <td>...</td>\n",
       "      <td>...</td>\n",
       "      <td>...</td>\n",
       "      <td>...</td>\n",
       "      <td>...</td>\n",
       "      <td>...</td>\n",
       "      <td>...</td>\n",
       "      <td>...</td>\n",
       "      <td>...</td>\n",
       "      <td>...</td>\n",
       "      <td>...</td>\n",
       "    </tr>\n",
       "    <tr>\n",
       "      <th>797</th>\n",
       "      <td>0.840390</td>\n",
       "      <td>0.720603</td>\n",
       "      <td>0.076444</td>\n",
       "      <td>0.011180</td>\n",
       "      <td>0.043671</td>\n",
       "      <td>0.580141</td>\n",
       "      <td>0.017776</td>\n",
       "      <td>0.263465</td>\n",
       "      <td>0.951016</td>\n",
       "      <td>0.033463</td>\n",
       "      <td>...</td>\n",
       "      <td>0.455161</td>\n",
       "      <td>0.019977</td>\n",
       "      <td>0.041181</td>\n",
       "      <td>0.967453</td>\n",
       "      <td>0.541578</td>\n",
       "      <td>0.956751</td>\n",
       "      <td>0.960248</td>\n",
       "      <td>0.124819</td>\n",
       "      <td>0.034598</td>\n",
       "      <td>0.848497</td>\n",
       "    </tr>\n",
       "    <tr>\n",
       "      <th>798</th>\n",
       "      <td>0.869196</td>\n",
       "      <td>0.820729</td>\n",
       "      <td>0.236100</td>\n",
       "      <td>0.011574</td>\n",
       "      <td>0.053275</td>\n",
       "      <td>0.673788</td>\n",
       "      <td>0.011725</td>\n",
       "      <td>0.343092</td>\n",
       "      <td>0.959367</td>\n",
       "      <td>0.018597</td>\n",
       "      <td>...</td>\n",
       "      <td>0.776069</td>\n",
       "      <td>0.048339</td>\n",
       "      <td>0.046512</td>\n",
       "      <td>0.966285</td>\n",
       "      <td>0.465367</td>\n",
       "      <td>0.963411</td>\n",
       "      <td>0.959866</td>\n",
       "      <td>0.311721</td>\n",
       "      <td>0.030701</td>\n",
       "      <td>0.899471</td>\n",
       "    </tr>\n",
       "    <tr>\n",
       "      <th>799</th>\n",
       "      <td>0.839838</td>\n",
       "      <td>0.789607</td>\n",
       "      <td>0.116098</td>\n",
       "      <td>0.022432</td>\n",
       "      <td>0.043107</td>\n",
       "      <td>0.561677</td>\n",
       "      <td>0.011432</td>\n",
       "      <td>0.310945</td>\n",
       "      <td>0.961374</td>\n",
       "      <td>0.022983</td>\n",
       "      <td>...</td>\n",
       "      <td>0.574184</td>\n",
       "      <td>0.025060</td>\n",
       "      <td>0.055560</td>\n",
       "      <td>0.965306</td>\n",
       "      <td>0.599410</td>\n",
       "      <td>0.970749</td>\n",
       "      <td>0.956876</td>\n",
       "      <td>0.159116</td>\n",
       "      <td>0.062245</td>\n",
       "      <td>0.854138</td>\n",
       "    </tr>\n",
       "    <tr>\n",
       "      <th>800</th>\n",
       "      <td>0.831794</td>\n",
       "      <td>0.725962</td>\n",
       "      <td>0.099156</td>\n",
       "      <td>0.034603</td>\n",
       "      <td>0.040768</td>\n",
       "      <td>0.441947</td>\n",
       "      <td>0.012494</td>\n",
       "      <td>0.247307</td>\n",
       "      <td>0.960900</td>\n",
       "      <td>0.029152</td>\n",
       "      <td>...</td>\n",
       "      <td>0.487354</td>\n",
       "      <td>0.022187</td>\n",
       "      <td>0.044053</td>\n",
       "      <td>0.960560</td>\n",
       "      <td>0.846388</td>\n",
       "      <td>0.961602</td>\n",
       "      <td>0.945373</td>\n",
       "      <td>0.088927</td>\n",
       "      <td>0.025888</td>\n",
       "      <td>0.869941</td>\n",
       "    </tr>\n",
       "    <tr>\n",
       "      <th>801</th>\n",
       "      <td>0.862775</td>\n",
       "      <td>0.723706</td>\n",
       "      <td>0.098014</td>\n",
       "      <td>0.030602</td>\n",
       "      <td>0.035062</td>\n",
       "      <td>0.500145</td>\n",
       "      <td>0.017576</td>\n",
       "      <td>0.192294</td>\n",
       "      <td>0.941316</td>\n",
       "      <td>0.050209</td>\n",
       "      <td>...</td>\n",
       "      <td>0.600923</td>\n",
       "      <td>0.041591</td>\n",
       "      <td>0.058682</td>\n",
       "      <td>0.962771</td>\n",
       "      <td>0.675249</td>\n",
       "      <td>0.955545</td>\n",
       "      <td>0.930081</td>\n",
       "      <td>0.238151</td>\n",
       "      <td>0.061065</td>\n",
       "      <td>0.887007</td>\n",
       "    </tr>\n",
       "  </tbody>\n",
       "</table>\n",
       "<p>802 rows × 373340 columns</p>\n",
       "</div>"
      ],
      "text/plain": [
       "       0         1         2         3         4         5         6       \\\n",
       "0    0.874194  0.898549  0.398857  0.020607  0.050160  0.760982  0.011427   \n",
       "1    0.854382  0.784828  0.218870  0.035629  0.248093  0.506881  0.029541   \n",
       "2    0.847503  0.843355  0.352496  0.013120  0.164024  0.491313  0.004611   \n",
       "3    0.868061  0.842552  0.233753  0.016112  0.035108  0.639848  0.013337   \n",
       "4    0.796901  0.800717  0.172407  0.039093  0.127151  0.576311  0.017989   \n",
       "..        ...       ...       ...       ...       ...       ...       ...   \n",
       "797  0.840390  0.720603  0.076444  0.011180  0.043671  0.580141  0.017776   \n",
       "798  0.869196  0.820729  0.236100  0.011574  0.053275  0.673788  0.011725   \n",
       "799  0.839838  0.789607  0.116098  0.022432  0.043107  0.561677  0.011432   \n",
       "800  0.831794  0.725962  0.099156  0.034603  0.040768  0.441947  0.012494   \n",
       "801  0.862775  0.723706  0.098014  0.030602  0.035062  0.500145  0.017576   \n",
       "\n",
       "       7         8         9       ...    373330    373331    373332  \\\n",
       "0    0.215980  0.946351  0.010709  ...  0.859529  0.065364  0.068077   \n",
       "1    0.254958  0.952804  0.026908  ...  0.537996  0.042060  0.060707   \n",
       "2    0.207065  0.964780  0.031033  ...  0.617928  0.012982  0.047191   \n",
       "3    0.310042  0.969242  0.021605  ...  0.873315  0.074766  0.029090   \n",
       "4    0.202631  0.928545  0.025082  ...  0.432770  0.038629  0.082540   \n",
       "..        ...       ...       ...  ...       ...       ...       ...   \n",
       "797  0.263465  0.951016  0.033463  ...  0.455161  0.019977  0.041181   \n",
       "798  0.343092  0.959367  0.018597  ...  0.776069  0.048339  0.046512   \n",
       "799  0.310945  0.961374  0.022983  ...  0.574184  0.025060  0.055560   \n",
       "800  0.247307  0.960900  0.029152  ...  0.487354  0.022187  0.044053   \n",
       "801  0.192294  0.941316  0.050209  ...  0.600923  0.041591  0.058682   \n",
       "\n",
       "       373333    373334    373335    373336    373337    373338    373339  \n",
       "0    0.948688  0.394797  0.964447  0.956472  0.398151  0.054754  0.807358  \n",
       "1    0.940770  0.402364  0.918125  0.900551  0.279611  0.050552  0.844948  \n",
       "2    0.964919  0.723513  0.947560  0.947550  0.230759  0.031211  0.851652  \n",
       "3    0.970258  0.536661  0.962072  0.955651  0.374348  0.037064  0.914446  \n",
       "4    0.934918  0.390929  0.933991  0.936911  0.207405  0.036866  0.826680  \n",
       "..        ...       ...       ...       ...       ...       ...       ...  \n",
       "797  0.967453  0.541578  0.956751  0.960248  0.124819  0.034598  0.848497  \n",
       "798  0.966285  0.465367  0.963411  0.959866  0.311721  0.030701  0.899471  \n",
       "799  0.965306  0.599410  0.970749  0.956876  0.159116  0.062245  0.854138  \n",
       "800  0.960560  0.846388  0.961602  0.945373  0.088927  0.025888  0.869941  \n",
       "801  0.962771  0.675249  0.955545  0.930081  0.238151  0.061065  0.887007  \n",
       "\n",
       "[802 rows x 373340 columns]"
      ]
     },
     "execution_count": 22,
     "metadata": {},
     "output_type": "execute_result"
    }
   ],
   "source": [
    "X_resampled"
   ]
  },
  {
   "cell_type": "code",
   "execution_count": 23,
   "metadata": {},
   "outputs": [],
   "source": [
    "train_class_distribution = Counter(y_resampled)\n",
    "testing_class_distribution = Counter(y_test)\n",
    "\n",
    "update_nested_toml(\"preprocess.merge_and_split\", \"training_set_samples\", len(X_resampled))\n",
    "update_nested_toml(\"preprocess.merge_and_split\", \"testing_set_samples\", len(X_test))\n",
    "update_nested_toml(\n",
    "    \"preprocess.merge_and_split\",\n",
    "    \"training_class_distribution\",\n",
    "    [train_class_distribution[0], train_class_distribution[1]],\n",
    ")\n",
    "update_nested_toml(\n",
    "    \"preprocess.merge_and_split\",\n",
    "    \"testing_class_distribution\",\n",
    "    [testing_class_distribution[0], testing_class_distribution[1]],\n",
    ")"
   ]
  },
  {
   "cell_type": "code",
   "execution_count": 24,
   "metadata": {},
   "outputs": [
    {
     "name": "stderr",
     "output_type": "stream",
     "text": [
      "D:\\Users\\005535\\AppData\\Local\\Temp\\ipykernel_17796\\1430446889.py:2: PerformanceWarning: DataFrame is highly fragmented.  This is usually the result of calling `frame.insert` many times, which has poor performance.  Consider joining all columns at once using pd.concat(axis=1) instead. To get a de-fragmented frame, use `newframe = frame.copy()`\n",
      "  X_resampled[\"label\"] = y_resampled\n"
     ]
    }
   ],
   "source": [
    "X_resampled.columns = feature_name\n",
    "X_resampled[\"label\"] = y_resampled\n",
    "X_resampled.sort_values(by=[\"label\"], inplace=True)\n",
    "train_df = X_resampled.T\n",
    "train_df.columns = range(train_df.shape[1])\n",
    "\n",
    "X_test.columns = feature_name\n",
    "X_test[\"label\"] = y_test\n",
    "X_test.sort_values(by=[\"label\"], inplace=True)\n",
    "test_df = X_test.T\n",
    "test_df.columns = range(test_df.shape[1])\n",
    "\n",
    "train_df.insert(0, \"Unnamed: 0\", train_df.index)\n",
    "train_df.reset_index(drop=True, inplace=True)\n",
    "test_df.insert(0, \"Unnamed: 0\", test_df.index)\n",
    "test_df.reset_index(drop=True, inplace=True)"
   ]
  },
  {
   "cell_type": "code",
   "execution_count": 25,
   "metadata": {},
   "outputs": [
    {
     "data": {
      "text/html": [
       "<div>\n",
       "<style scoped>\n",
       "    .dataframe tbody tr th:only-of-type {\n",
       "        vertical-align: middle;\n",
       "    }\n",
       "\n",
       "    .dataframe tbody tr th {\n",
       "        vertical-align: top;\n",
       "    }\n",
       "\n",
       "    .dataframe thead th {\n",
       "        text-align: right;\n",
       "    }\n",
       "</style>\n",
       "<table border=\"1\" class=\"dataframe\">\n",
       "  <thead>\n",
       "    <tr style=\"text-align: right;\">\n",
       "      <th></th>\n",
       "      <th>Unnamed: 0</th>\n",
       "      <th>0</th>\n",
       "      <th>1</th>\n",
       "      <th>2</th>\n",
       "      <th>3</th>\n",
       "      <th>4</th>\n",
       "      <th>5</th>\n",
       "      <th>6</th>\n",
       "      <th>7</th>\n",
       "      <th>8</th>\n",
       "      <th>...</th>\n",
       "      <th>792</th>\n",
       "      <th>793</th>\n",
       "      <th>794</th>\n",
       "      <th>795</th>\n",
       "      <th>796</th>\n",
       "      <th>797</th>\n",
       "      <th>798</th>\n",
       "      <th>799</th>\n",
       "      <th>800</th>\n",
       "      <th>801</th>\n",
       "    </tr>\n",
       "  </thead>\n",
       "  <tbody>\n",
       "    <tr>\n",
       "      <th>0</th>\n",
       "      <td>cg00000957</td>\n",
       "      <td>0.839838</td>\n",
       "      <td>0.869196</td>\n",
       "      <td>0.840390</td>\n",
       "      <td>0.867300</td>\n",
       "      <td>0.841462</td>\n",
       "      <td>0.870928</td>\n",
       "      <td>0.831764</td>\n",
       "      <td>0.856623</td>\n",
       "      <td>0.848833</td>\n",
       "      <td>...</td>\n",
       "      <td>0.871531</td>\n",
       "      <td>0.894763</td>\n",
       "      <td>0.851060</td>\n",
       "      <td>0.843531</td>\n",
       "      <td>0.903909</td>\n",
       "      <td>0.867909</td>\n",
       "      <td>0.846249</td>\n",
       "      <td>0.906945</td>\n",
       "      <td>0.831055</td>\n",
       "      <td>0.874194</td>\n",
       "    </tr>\n",
       "    <tr>\n",
       "      <th>1</th>\n",
       "      <td>cg00001349</td>\n",
       "      <td>0.789607</td>\n",
       "      <td>0.820729</td>\n",
       "      <td>0.720603</td>\n",
       "      <td>0.706520</td>\n",
       "      <td>0.759784</td>\n",
       "      <td>0.796039</td>\n",
       "      <td>0.734736</td>\n",
       "      <td>0.855053</td>\n",
       "      <td>0.733856</td>\n",
       "      <td>...</td>\n",
       "      <td>0.852018</td>\n",
       "      <td>0.790230</td>\n",
       "      <td>0.639505</td>\n",
       "      <td>0.642323</td>\n",
       "      <td>0.792060</td>\n",
       "      <td>0.843404</td>\n",
       "      <td>0.712787</td>\n",
       "      <td>0.919743</td>\n",
       "      <td>0.823128</td>\n",
       "      <td>0.898549</td>\n",
       "    </tr>\n",
       "    <tr>\n",
       "      <th>2</th>\n",
       "      <td>cg00001583</td>\n",
       "      <td>0.116098</td>\n",
       "      <td>0.236100</td>\n",
       "      <td>0.076444</td>\n",
       "      <td>0.099039</td>\n",
       "      <td>0.092811</td>\n",
       "      <td>0.241996</td>\n",
       "      <td>0.097386</td>\n",
       "      <td>0.370248</td>\n",
       "      <td>0.097112</td>\n",
       "      <td>...</td>\n",
       "      <td>0.285456</td>\n",
       "      <td>0.590495</td>\n",
       "      <td>0.372846</td>\n",
       "      <td>0.285800</td>\n",
       "      <td>0.540008</td>\n",
       "      <td>0.333855</td>\n",
       "      <td>0.390848</td>\n",
       "      <td>0.625366</td>\n",
       "      <td>0.119337</td>\n",
       "      <td>0.398857</td>\n",
       "    </tr>\n",
       "    <tr>\n",
       "      <th>3</th>\n",
       "      <td>cg00002028</td>\n",
       "      <td>0.022432</td>\n",
       "      <td>0.011574</td>\n",
       "      <td>0.011180</td>\n",
       "      <td>0.022356</td>\n",
       "      <td>0.022604</td>\n",
       "      <td>0.010737</td>\n",
       "      <td>0.037448</td>\n",
       "      <td>0.014392</td>\n",
       "      <td>0.033028</td>\n",
       "      <td>...</td>\n",
       "      <td>0.046700</td>\n",
       "      <td>0.028303</td>\n",
       "      <td>0.044283</td>\n",
       "      <td>0.044121</td>\n",
       "      <td>0.018964</td>\n",
       "      <td>0.061649</td>\n",
       "      <td>0.031211</td>\n",
       "      <td>0.027937</td>\n",
       "      <td>0.028180</td>\n",
       "      <td>0.020607</td>\n",
       "    </tr>\n",
       "    <tr>\n",
       "      <th>4</th>\n",
       "      <td>cg00002719</td>\n",
       "      <td>0.043107</td>\n",
       "      <td>0.053275</td>\n",
       "      <td>0.043671</td>\n",
       "      <td>0.037571</td>\n",
       "      <td>0.037241</td>\n",
       "      <td>0.062696</td>\n",
       "      <td>0.039086</td>\n",
       "      <td>0.413051</td>\n",
       "      <td>0.038128</td>\n",
       "      <td>...</td>\n",
       "      <td>0.624151</td>\n",
       "      <td>0.667853</td>\n",
       "      <td>0.174575</td>\n",
       "      <td>0.211430</td>\n",
       "      <td>0.699954</td>\n",
       "      <td>0.259972</td>\n",
       "      <td>0.272155</td>\n",
       "      <td>0.366524</td>\n",
       "      <td>0.504806</td>\n",
       "      <td>0.050160</td>\n",
       "    </tr>\n",
       "    <tr>\n",
       "      <th>...</th>\n",
       "      <td>...</td>\n",
       "      <td>...</td>\n",
       "      <td>...</td>\n",
       "      <td>...</td>\n",
       "      <td>...</td>\n",
       "      <td>...</td>\n",
       "      <td>...</td>\n",
       "      <td>...</td>\n",
       "      <td>...</td>\n",
       "      <td>...</td>\n",
       "      <td>...</td>\n",
       "      <td>...</td>\n",
       "      <td>...</td>\n",
       "      <td>...</td>\n",
       "      <td>...</td>\n",
       "      <td>...</td>\n",
       "      <td>...</td>\n",
       "      <td>...</td>\n",
       "      <td>...</td>\n",
       "      <td>...</td>\n",
       "      <td>...</td>\n",
       "    </tr>\n",
       "    <tr>\n",
       "      <th>373336</th>\n",
       "      <td>cg27657363</td>\n",
       "      <td>0.956876</td>\n",
       "      <td>0.959866</td>\n",
       "      <td>0.960248</td>\n",
       "      <td>0.944398</td>\n",
       "      <td>0.960477</td>\n",
       "      <td>0.963603</td>\n",
       "      <td>0.945100</td>\n",
       "      <td>0.963328</td>\n",
       "      <td>0.954410</td>\n",
       "      <td>...</td>\n",
       "      <td>0.896874</td>\n",
       "      <td>0.933151</td>\n",
       "      <td>0.949773</td>\n",
       "      <td>0.925802</td>\n",
       "      <td>0.962224</td>\n",
       "      <td>0.954252</td>\n",
       "      <td>0.886726</td>\n",
       "      <td>0.952598</td>\n",
       "      <td>0.948711</td>\n",
       "      <td>0.956472</td>\n",
       "    </tr>\n",
       "    <tr>\n",
       "      <th>373337</th>\n",
       "      <td>cg27657537</td>\n",
       "      <td>0.159116</td>\n",
       "      <td>0.311721</td>\n",
       "      <td>0.124819</td>\n",
       "      <td>0.209004</td>\n",
       "      <td>0.210694</td>\n",
       "      <td>0.260614</td>\n",
       "      <td>0.091882</td>\n",
       "      <td>0.524706</td>\n",
       "      <td>0.122102</td>\n",
       "      <td>...</td>\n",
       "      <td>0.576389</td>\n",
       "      <td>0.507485</td>\n",
       "      <td>0.407807</td>\n",
       "      <td>0.339295</td>\n",
       "      <td>0.685281</td>\n",
       "      <td>0.473129</td>\n",
       "      <td>0.381828</td>\n",
       "      <td>0.624767</td>\n",
       "      <td>0.396211</td>\n",
       "      <td>0.398151</td>\n",
       "    </tr>\n",
       "    <tr>\n",
       "      <th>373338</th>\n",
       "      <td>cg27662611</td>\n",
       "      <td>0.062245</td>\n",
       "      <td>0.030701</td>\n",
       "      <td>0.034598</td>\n",
       "      <td>0.051944</td>\n",
       "      <td>0.071717</td>\n",
       "      <td>0.027277</td>\n",
       "      <td>0.027135</td>\n",
       "      <td>0.040091</td>\n",
       "      <td>0.031608</td>\n",
       "      <td>...</td>\n",
       "      <td>0.067101</td>\n",
       "      <td>0.354402</td>\n",
       "      <td>0.032201</td>\n",
       "      <td>0.023581</td>\n",
       "      <td>0.050569</td>\n",
       "      <td>0.085238</td>\n",
       "      <td>0.027678</td>\n",
       "      <td>0.026869</td>\n",
       "      <td>0.048471</td>\n",
       "      <td>0.054754</td>\n",
       "    </tr>\n",
       "    <tr>\n",
       "      <th>373339</th>\n",
       "      <td>cg27665648</td>\n",
       "      <td>0.854138</td>\n",
       "      <td>0.899471</td>\n",
       "      <td>0.848497</td>\n",
       "      <td>0.883312</td>\n",
       "      <td>0.887948</td>\n",
       "      <td>0.886936</td>\n",
       "      <td>0.868528</td>\n",
       "      <td>0.901669</td>\n",
       "      <td>0.865901</td>\n",
       "      <td>...</td>\n",
       "      <td>0.831698</td>\n",
       "      <td>0.912109</td>\n",
       "      <td>0.896388</td>\n",
       "      <td>0.869179</td>\n",
       "      <td>0.895742</td>\n",
       "      <td>0.911328</td>\n",
       "      <td>0.782291</td>\n",
       "      <td>0.907069</td>\n",
       "      <td>0.888137</td>\n",
       "      <td>0.807358</td>\n",
       "    </tr>\n",
       "    <tr>\n",
       "      <th>373340</th>\n",
       "      <td>label</td>\n",
       "      <td>0.000000</td>\n",
       "      <td>0.000000</td>\n",
       "      <td>0.000000</td>\n",
       "      <td>0.000000</td>\n",
       "      <td>0.000000</td>\n",
       "      <td>0.000000</td>\n",
       "      <td>0.000000</td>\n",
       "      <td>0.000000</td>\n",
       "      <td>0.000000</td>\n",
       "      <td>...</td>\n",
       "      <td>1.000000</td>\n",
       "      <td>1.000000</td>\n",
       "      <td>1.000000</td>\n",
       "      <td>1.000000</td>\n",
       "      <td>1.000000</td>\n",
       "      <td>1.000000</td>\n",
       "      <td>1.000000</td>\n",
       "      <td>1.000000</td>\n",
       "      <td>1.000000</td>\n",
       "      <td>1.000000</td>\n",
       "    </tr>\n",
       "  </tbody>\n",
       "</table>\n",
       "<p>373341 rows × 803 columns</p>\n",
       "</div>"
      ],
      "text/plain": [
       "        Unnamed: 0         0         1         2         3         4  \\\n",
       "0       cg00000957  0.839838  0.869196  0.840390  0.867300  0.841462   \n",
       "1       cg00001349  0.789607  0.820729  0.720603  0.706520  0.759784   \n",
       "2       cg00001583  0.116098  0.236100  0.076444  0.099039  0.092811   \n",
       "3       cg00002028  0.022432  0.011574  0.011180  0.022356  0.022604   \n",
       "4       cg00002719  0.043107  0.053275  0.043671  0.037571  0.037241   \n",
       "...            ...       ...       ...       ...       ...       ...   \n",
       "373336  cg27657363  0.956876  0.959866  0.960248  0.944398  0.960477   \n",
       "373337  cg27657537  0.159116  0.311721  0.124819  0.209004  0.210694   \n",
       "373338  cg27662611  0.062245  0.030701  0.034598  0.051944  0.071717   \n",
       "373339  cg27665648  0.854138  0.899471  0.848497  0.883312  0.887948   \n",
       "373340       label  0.000000  0.000000  0.000000  0.000000  0.000000   \n",
       "\n",
       "               5         6         7         8  ...       792       793  \\\n",
       "0       0.870928  0.831764  0.856623  0.848833  ...  0.871531  0.894763   \n",
       "1       0.796039  0.734736  0.855053  0.733856  ...  0.852018  0.790230   \n",
       "2       0.241996  0.097386  0.370248  0.097112  ...  0.285456  0.590495   \n",
       "3       0.010737  0.037448  0.014392  0.033028  ...  0.046700  0.028303   \n",
       "4       0.062696  0.039086  0.413051  0.038128  ...  0.624151  0.667853   \n",
       "...          ...       ...       ...       ...  ...       ...       ...   \n",
       "373336  0.963603  0.945100  0.963328  0.954410  ...  0.896874  0.933151   \n",
       "373337  0.260614  0.091882  0.524706  0.122102  ...  0.576389  0.507485   \n",
       "373338  0.027277  0.027135  0.040091  0.031608  ...  0.067101  0.354402   \n",
       "373339  0.886936  0.868528  0.901669  0.865901  ...  0.831698  0.912109   \n",
       "373340  0.000000  0.000000  0.000000  0.000000  ...  1.000000  1.000000   \n",
       "\n",
       "             794       795       796       797       798       799       800  \\\n",
       "0       0.851060  0.843531  0.903909  0.867909  0.846249  0.906945  0.831055   \n",
       "1       0.639505  0.642323  0.792060  0.843404  0.712787  0.919743  0.823128   \n",
       "2       0.372846  0.285800  0.540008  0.333855  0.390848  0.625366  0.119337   \n",
       "3       0.044283  0.044121  0.018964  0.061649  0.031211  0.027937  0.028180   \n",
       "4       0.174575  0.211430  0.699954  0.259972  0.272155  0.366524  0.504806   \n",
       "...          ...       ...       ...       ...       ...       ...       ...   \n",
       "373336  0.949773  0.925802  0.962224  0.954252  0.886726  0.952598  0.948711   \n",
       "373337  0.407807  0.339295  0.685281  0.473129  0.381828  0.624767  0.396211   \n",
       "373338  0.032201  0.023581  0.050569  0.085238  0.027678  0.026869  0.048471   \n",
       "373339  0.896388  0.869179  0.895742  0.911328  0.782291  0.907069  0.888137   \n",
       "373340  1.000000  1.000000  1.000000  1.000000  1.000000  1.000000  1.000000   \n",
       "\n",
       "             801  \n",
       "0       0.874194  \n",
       "1       0.898549  \n",
       "2       0.398857  \n",
       "3       0.020607  \n",
       "4       0.050160  \n",
       "...          ...  \n",
       "373336  0.956472  \n",
       "373337  0.398151  \n",
       "373338  0.054754  \n",
       "373339  0.807358  \n",
       "373340  1.000000  \n",
       "\n",
       "[373341 rows x 803 columns]"
      ]
     },
     "execution_count": 25,
     "metadata": {},
     "output_type": "execute_result"
    }
   ],
   "source": [
    "# DEBUG\n",
    "train_df\n",
    "# END"
   ]
  },
  {
   "cell_type": "code",
   "execution_count": 26,
   "metadata": {},
   "outputs": [
    {
     "data": {
      "text/html": [
       "<div>\n",
       "<style scoped>\n",
       "    .dataframe tbody tr th:only-of-type {\n",
       "        vertical-align: middle;\n",
       "    }\n",
       "\n",
       "    .dataframe tbody tr th {\n",
       "        vertical-align: top;\n",
       "    }\n",
       "\n",
       "    .dataframe thead th {\n",
       "        text-align: right;\n",
       "    }\n",
       "</style>\n",
       "<table border=\"1\" class=\"dataframe\">\n",
       "  <thead>\n",
       "    <tr style=\"text-align: right;\">\n",
       "      <th></th>\n",
       "      <th>Unnamed: 0</th>\n",
       "      <th>0</th>\n",
       "      <th>1</th>\n",
       "      <th>2</th>\n",
       "      <th>3</th>\n",
       "      <th>4</th>\n",
       "      <th>5</th>\n",
       "      <th>6</th>\n",
       "      <th>7</th>\n",
       "      <th>8</th>\n",
       "      <th>...</th>\n",
       "      <th>101</th>\n",
       "      <th>102</th>\n",
       "      <th>103</th>\n",
       "      <th>104</th>\n",
       "      <th>105</th>\n",
       "      <th>106</th>\n",
       "      <th>107</th>\n",
       "      <th>108</th>\n",
       "      <th>109</th>\n",
       "      <th>110</th>\n",
       "    </tr>\n",
       "  </thead>\n",
       "  <tbody>\n",
       "    <tr>\n",
       "      <th>0</th>\n",
       "      <td>cg00000957</td>\n",
       "      <td>0.845864</td>\n",
       "      <td>0.835681</td>\n",
       "      <td>0.853063</td>\n",
       "      <td>0.841180</td>\n",
       "      <td>0.840645</td>\n",
       "      <td>0.833973</td>\n",
       "      <td>0.854618</td>\n",
       "      <td>0.820812</td>\n",
       "      <td>0.862565</td>\n",
       "      <td>...</td>\n",
       "      <td>0.838264</td>\n",
       "      <td>0.844825</td>\n",
       "      <td>0.892887</td>\n",
       "      <td>0.867261</td>\n",
       "      <td>0.852356</td>\n",
       "      <td>0.823961</td>\n",
       "      <td>0.890865</td>\n",
       "      <td>0.830125</td>\n",
       "      <td>0.870176</td>\n",
       "      <td>0.857789</td>\n",
       "    </tr>\n",
       "    <tr>\n",
       "      <th>1</th>\n",
       "      <td>cg00001349</td>\n",
       "      <td>0.773967</td>\n",
       "      <td>0.898174</td>\n",
       "      <td>0.720905</td>\n",
       "      <td>0.708645</td>\n",
       "      <td>0.868204</td>\n",
       "      <td>0.782644</td>\n",
       "      <td>0.775534</td>\n",
       "      <td>0.824775</td>\n",
       "      <td>0.797306</td>\n",
       "      <td>...</td>\n",
       "      <td>0.797339</td>\n",
       "      <td>0.811410</td>\n",
       "      <td>0.836854</td>\n",
       "      <td>0.855619</td>\n",
       "      <td>0.853462</td>\n",
       "      <td>0.892725</td>\n",
       "      <td>0.854986</td>\n",
       "      <td>0.823448</td>\n",
       "      <td>0.897210</td>\n",
       "      <td>0.876160</td>\n",
       "    </tr>\n",
       "    <tr>\n",
       "      <th>2</th>\n",
       "      <td>cg00001583</td>\n",
       "      <td>0.144976</td>\n",
       "      <td>0.036853</td>\n",
       "      <td>0.279087</td>\n",
       "      <td>0.113957</td>\n",
       "      <td>0.106897</td>\n",
       "      <td>0.134871</td>\n",
       "      <td>0.329480</td>\n",
       "      <td>0.316795</td>\n",
       "      <td>0.046604</td>\n",
       "      <td>...</td>\n",
       "      <td>0.163597</td>\n",
       "      <td>0.292316</td>\n",
       "      <td>0.196342</td>\n",
       "      <td>0.640031</td>\n",
       "      <td>0.357947</td>\n",
       "      <td>0.534485</td>\n",
       "      <td>0.588813</td>\n",
       "      <td>0.147546</td>\n",
       "      <td>0.728655</td>\n",
       "      <td>0.276138</td>\n",
       "    </tr>\n",
       "    <tr>\n",
       "      <th>3</th>\n",
       "      <td>cg00002028</td>\n",
       "      <td>0.027506</td>\n",
       "      <td>0.032216</td>\n",
       "      <td>0.035949</td>\n",
       "      <td>0.030409</td>\n",
       "      <td>0.026257</td>\n",
       "      <td>0.033763</td>\n",
       "      <td>0.023366</td>\n",
       "      <td>0.026860</td>\n",
       "      <td>0.027793</td>\n",
       "      <td>...</td>\n",
       "      <td>0.061315</td>\n",
       "      <td>0.051471</td>\n",
       "      <td>0.038849</td>\n",
       "      <td>0.029779</td>\n",
       "      <td>0.038226</td>\n",
       "      <td>0.020759</td>\n",
       "      <td>0.035198</td>\n",
       "      <td>0.025986</td>\n",
       "      <td>0.030020</td>\n",
       "      <td>0.029392</td>\n",
       "    </tr>\n",
       "    <tr>\n",
       "      <th>4</th>\n",
       "      <td>cg00002719</td>\n",
       "      <td>0.058274</td>\n",
       "      <td>0.035748</td>\n",
       "      <td>0.045736</td>\n",
       "      <td>0.052727</td>\n",
       "      <td>0.029272</td>\n",
       "      <td>0.035318</td>\n",
       "      <td>0.047342</td>\n",
       "      <td>0.044884</td>\n",
       "      <td>0.042019</td>\n",
       "      <td>...</td>\n",
       "      <td>0.095846</td>\n",
       "      <td>0.657692</td>\n",
       "      <td>0.322644</td>\n",
       "      <td>0.612964</td>\n",
       "      <td>0.447518</td>\n",
       "      <td>0.849988</td>\n",
       "      <td>0.647744</td>\n",
       "      <td>0.147761</td>\n",
       "      <td>0.763429</td>\n",
       "      <td>0.128699</td>\n",
       "    </tr>\n",
       "    <tr>\n",
       "      <th>...</th>\n",
       "      <td>...</td>\n",
       "      <td>...</td>\n",
       "      <td>...</td>\n",
       "      <td>...</td>\n",
       "      <td>...</td>\n",
       "      <td>...</td>\n",
       "      <td>...</td>\n",
       "      <td>...</td>\n",
       "      <td>...</td>\n",
       "      <td>...</td>\n",
       "      <td>...</td>\n",
       "      <td>...</td>\n",
       "      <td>...</td>\n",
       "      <td>...</td>\n",
       "      <td>...</td>\n",
       "      <td>...</td>\n",
       "      <td>...</td>\n",
       "      <td>...</td>\n",
       "      <td>...</td>\n",
       "      <td>...</td>\n",
       "      <td>...</td>\n",
       "    </tr>\n",
       "    <tr>\n",
       "      <th>373336</th>\n",
       "      <td>cg27657363</td>\n",
       "      <td>0.948103</td>\n",
       "      <td>0.949634</td>\n",
       "      <td>0.948849</td>\n",
       "      <td>0.949989</td>\n",
       "      <td>0.969164</td>\n",
       "      <td>0.926727</td>\n",
       "      <td>0.944173</td>\n",
       "      <td>0.963408</td>\n",
       "      <td>0.951192</td>\n",
       "      <td>...</td>\n",
       "      <td>0.935086</td>\n",
       "      <td>0.923680</td>\n",
       "      <td>0.953148</td>\n",
       "      <td>0.949006</td>\n",
       "      <td>0.935257</td>\n",
       "      <td>0.945365</td>\n",
       "      <td>0.961405</td>\n",
       "      <td>0.979970</td>\n",
       "      <td>0.968018</td>\n",
       "      <td>0.954377</td>\n",
       "    </tr>\n",
       "    <tr>\n",
       "      <th>373337</th>\n",
       "      <td>cg27657537</td>\n",
       "      <td>0.204987</td>\n",
       "      <td>0.114482</td>\n",
       "      <td>0.277116</td>\n",
       "      <td>0.080608</td>\n",
       "      <td>0.131392</td>\n",
       "      <td>0.164756</td>\n",
       "      <td>0.144737</td>\n",
       "      <td>0.315726</td>\n",
       "      <td>0.101441</td>\n",
       "      <td>...</td>\n",
       "      <td>0.365117</td>\n",
       "      <td>0.469148</td>\n",
       "      <td>0.339899</td>\n",
       "      <td>0.490546</td>\n",
       "      <td>0.407895</td>\n",
       "      <td>0.604613</td>\n",
       "      <td>0.682518</td>\n",
       "      <td>0.154611</td>\n",
       "      <td>0.697369</td>\n",
       "      <td>0.213356</td>\n",
       "    </tr>\n",
       "    <tr>\n",
       "      <th>373338</th>\n",
       "      <td>cg27662611</td>\n",
       "      <td>0.047586</td>\n",
       "      <td>0.076038</td>\n",
       "      <td>0.042346</td>\n",
       "      <td>0.050093</td>\n",
       "      <td>0.033896</td>\n",
       "      <td>0.034158</td>\n",
       "      <td>0.032237</td>\n",
       "      <td>0.089901</td>\n",
       "      <td>0.065757</td>\n",
       "      <td>...</td>\n",
       "      <td>0.032431</td>\n",
       "      <td>0.061379</td>\n",
       "      <td>0.072765</td>\n",
       "      <td>0.056173</td>\n",
       "      <td>0.044317</td>\n",
       "      <td>0.018788</td>\n",
       "      <td>0.010555</td>\n",
       "      <td>0.027826</td>\n",
       "      <td>0.038915</td>\n",
       "      <td>0.039274</td>\n",
       "    </tr>\n",
       "    <tr>\n",
       "      <th>373339</th>\n",
       "      <td>cg27665648</td>\n",
       "      <td>0.908067</td>\n",
       "      <td>0.871213</td>\n",
       "      <td>0.879406</td>\n",
       "      <td>0.869885</td>\n",
       "      <td>0.875534</td>\n",
       "      <td>0.889955</td>\n",
       "      <td>0.901831</td>\n",
       "      <td>0.910694</td>\n",
       "      <td>0.931462</td>\n",
       "      <td>...</td>\n",
       "      <td>0.905337</td>\n",
       "      <td>0.870209</td>\n",
       "      <td>0.890811</td>\n",
       "      <td>0.935343</td>\n",
       "      <td>0.873291</td>\n",
       "      <td>0.923326</td>\n",
       "      <td>0.884342</td>\n",
       "      <td>0.888100</td>\n",
       "      <td>0.896972</td>\n",
       "      <td>0.926780</td>\n",
       "    </tr>\n",
       "    <tr>\n",
       "      <th>373340</th>\n",
       "      <td>label</td>\n",
       "      <td>0.000000</td>\n",
       "      <td>0.000000</td>\n",
       "      <td>0.000000</td>\n",
       "      <td>0.000000</td>\n",
       "      <td>0.000000</td>\n",
       "      <td>0.000000</td>\n",
       "      <td>0.000000</td>\n",
       "      <td>0.000000</td>\n",
       "      <td>0.000000</td>\n",
       "      <td>...</td>\n",
       "      <td>1.000000</td>\n",
       "      <td>1.000000</td>\n",
       "      <td>1.000000</td>\n",
       "      <td>1.000000</td>\n",
       "      <td>1.000000</td>\n",
       "      <td>1.000000</td>\n",
       "      <td>1.000000</td>\n",
       "      <td>1.000000</td>\n",
       "      <td>1.000000</td>\n",
       "      <td>1.000000</td>\n",
       "    </tr>\n",
       "  </tbody>\n",
       "</table>\n",
       "<p>373341 rows × 112 columns</p>\n",
       "</div>"
      ],
      "text/plain": [
       "        Unnamed: 0         0         1         2         3         4  \\\n",
       "0       cg00000957  0.845864  0.835681  0.853063  0.841180  0.840645   \n",
       "1       cg00001349  0.773967  0.898174  0.720905  0.708645  0.868204   \n",
       "2       cg00001583  0.144976  0.036853  0.279087  0.113957  0.106897   \n",
       "3       cg00002028  0.027506  0.032216  0.035949  0.030409  0.026257   \n",
       "4       cg00002719  0.058274  0.035748  0.045736  0.052727  0.029272   \n",
       "...            ...       ...       ...       ...       ...       ...   \n",
       "373336  cg27657363  0.948103  0.949634  0.948849  0.949989  0.969164   \n",
       "373337  cg27657537  0.204987  0.114482  0.277116  0.080608  0.131392   \n",
       "373338  cg27662611  0.047586  0.076038  0.042346  0.050093  0.033896   \n",
       "373339  cg27665648  0.908067  0.871213  0.879406  0.869885  0.875534   \n",
       "373340       label  0.000000  0.000000  0.000000  0.000000  0.000000   \n",
       "\n",
       "               5         6         7         8  ...       101       102  \\\n",
       "0       0.833973  0.854618  0.820812  0.862565  ...  0.838264  0.844825   \n",
       "1       0.782644  0.775534  0.824775  0.797306  ...  0.797339  0.811410   \n",
       "2       0.134871  0.329480  0.316795  0.046604  ...  0.163597  0.292316   \n",
       "3       0.033763  0.023366  0.026860  0.027793  ...  0.061315  0.051471   \n",
       "4       0.035318  0.047342  0.044884  0.042019  ...  0.095846  0.657692   \n",
       "...          ...       ...       ...       ...  ...       ...       ...   \n",
       "373336  0.926727  0.944173  0.963408  0.951192  ...  0.935086  0.923680   \n",
       "373337  0.164756  0.144737  0.315726  0.101441  ...  0.365117  0.469148   \n",
       "373338  0.034158  0.032237  0.089901  0.065757  ...  0.032431  0.061379   \n",
       "373339  0.889955  0.901831  0.910694  0.931462  ...  0.905337  0.870209   \n",
       "373340  0.000000  0.000000  0.000000  0.000000  ...  1.000000  1.000000   \n",
       "\n",
       "             103       104       105       106       107       108       109  \\\n",
       "0       0.892887  0.867261  0.852356  0.823961  0.890865  0.830125  0.870176   \n",
       "1       0.836854  0.855619  0.853462  0.892725  0.854986  0.823448  0.897210   \n",
       "2       0.196342  0.640031  0.357947  0.534485  0.588813  0.147546  0.728655   \n",
       "3       0.038849  0.029779  0.038226  0.020759  0.035198  0.025986  0.030020   \n",
       "4       0.322644  0.612964  0.447518  0.849988  0.647744  0.147761  0.763429   \n",
       "...          ...       ...       ...       ...       ...       ...       ...   \n",
       "373336  0.953148  0.949006  0.935257  0.945365  0.961405  0.979970  0.968018   \n",
       "373337  0.339899  0.490546  0.407895  0.604613  0.682518  0.154611  0.697369   \n",
       "373338  0.072765  0.056173  0.044317  0.018788  0.010555  0.027826  0.038915   \n",
       "373339  0.890811  0.935343  0.873291  0.923326  0.884342  0.888100  0.896972   \n",
       "373340  1.000000  1.000000  1.000000  1.000000  1.000000  1.000000  1.000000   \n",
       "\n",
       "             110  \n",
       "0       0.857789  \n",
       "1       0.876160  \n",
       "2       0.276138  \n",
       "3       0.029392  \n",
       "4       0.128699  \n",
       "...          ...  \n",
       "373336  0.954377  \n",
       "373337  0.213356  \n",
       "373338  0.039274  \n",
       "373339  0.926780  \n",
       "373340  1.000000  \n",
       "\n",
       "[373341 rows x 112 columns]"
      ]
     },
     "execution_count": 26,
     "metadata": {},
     "output_type": "execute_result"
    }
   ],
   "source": [
    "# DEBUG\n",
    "test_df\n",
    "# END"
   ]
  },
  {
   "cell_type": "code",
   "execution_count": 27,
   "metadata": {},
   "outputs": [],
   "source": [
    "os.makedirs(f\"{trainOutPath}\", exist_ok=True)\n",
    "os.makedirs(\n",
    "    f\"{testOutPath}\",\n",
    "    exist_ok=True,\n",
    ")\n",
    "\n",
    "train_df.to_csv(f\"{trainOutPath}/all_beta_normalized_0.csv\", index=False)\n",
    "test_df.to_csv(f\"{testOutPath}/all_beta_normalized_1.csv\", index=False)"
   ]
  },
  {
   "cell_type": "code",
   "execution_count": 28,
   "metadata": {},
   "outputs": [],
   "source": [
    "del train_df, test_df"
   ]
  },
  {
   "cell_type": "code",
   "execution_count": 29,
   "metadata": {},
   "outputs": [],
   "source": [
    "zip_filename = f\"{TYPE}_beta_files.zip\""
   ]
  },
  {
   "cell_type": "code",
   "execution_count": 30,
   "metadata": {},
   "outputs": [],
   "source": [
    "import zipfile\n",
    "\n",
    "with zipfile.ZipFile(zip_filename, \"w\") as zipf:\n",
    "    zipf.write(\n",
    "        f\"{trainOutPath}/all_beta_normalized_0.csv\", arcname=\"all_beta_normalized_0.csv\"\n",
    "    )\n",
    "    zipf.write(\n",
    "        f\"{testOutPath}/all_beta_normalized_1.csv\", arcname=\"all_beta_normalized_1.csv\"\n",
    "    )"
   ]
  },
  {
   "cell_type": "code",
   "execution_count": 39,
   "metadata": {},
   "outputs": [
    {
     "name": "stdout",
     "output_type": "stream",
     "text": [
      "Please visit this URL to authorize this application: https://accounts.google.com/o/oauth2/auth?response_type=code&client_id=260407430533-mtnvh98d2pv3eo7mgb14h6en5827k7b5.apps.googleusercontent.com&redirect_uri=http%3A%2F%2Flocalhost%3A49401%2F&scope=https%3A%2F%2Fwww.googleapis.com%2Fauth%2Fdrive.file&state=i2ufZMAiwW5jsqn3yvm9vSqwn3tdUd&access_type=offline\n"
     ]
    },
    {
     "name": "stderr",
     "output_type": "stream",
     "text": [
      "INFO:google_auth_oauthlib.flow:\"GET /?state=i2ufZMAiwW5jsqn3yvm9vSqwn3tdUd&code=4/0AanRRru4fNDSmbyNTXLZoV_EwDyUE7qDNTEiUt4ggsSxn8X_0ppvRkrxd9scFbUWqFRjBQ&scope=https://www.googleapis.com/auth/drive.file HTTP/1.1\" 200 65\n",
      "INFO:api.utils:New credentials obtained.\n",
      "INFO:api.utils:Credentials saved to token.pickle.\n",
      "INFO:googleapiclient.discovery_cache:file_cache is only supported with oauth2client<4.0.0\n"
     ]
    }
   ],
   "source": [
    "from api import utils\n",
    "service = utils.authenticate_drive()"
   ]
  },
  {
   "cell_type": "code",
   "execution_count": 40,
   "metadata": {},
   "outputs": [
    {
     "name": "stdout",
     "output_type": "stream",
     "text": [
      "Created folder 'prostate' with ID: 1ooD-jZy16tqW6uxolGhjlbMDwAAFHJgi\n"
     ]
    }
   ],
   "source": [
    "directory = utils.create_folder(service, TYPE)"
   ]
  },
  {
   "cell_type": "code",
   "execution_count": 41,
   "metadata": {},
   "outputs": [
    {
     "name": "stderr",
     "output_type": "stream",
     "text": [
      "INFO:api.utils:Upload 0% complete for prostate_beta_files.zip\n",
      "INFO:api.utils:Upload 0% complete for prostate_beta_files.zip\n",
      "INFO:api.utils:Upload 0% complete for prostate_beta_files.zip\n",
      "INFO:api.utils:Upload 0% complete for prostate_beta_files.zip\n",
      "INFO:api.utils:Upload 0% complete for prostate_beta_files.zip\n",
      "INFO:api.utils:Upload 0% complete for prostate_beta_files.zip\n",
      "INFO:api.utils:Upload 0% complete for prostate_beta_files.zip\n",
      "INFO:api.utils:Upload 0% complete for prostate_beta_files.zip\n",
      "INFO:api.utils:Upload 0% complete for prostate_beta_files.zip\n",
      "INFO:api.utils:Upload 0% complete for prostate_beta_files.zip\n",
      "INFO:api.utils:Upload 0% complete for prostate_beta_files.zip\n",
      "INFO:api.utils:Upload 0% complete for prostate_beta_files.zip\n",
      "INFO:api.utils:Upload 1% complete for prostate_beta_files.zip\n",
      "INFO:api.utils:Upload 1% complete for prostate_beta_files.zip\n",
      "INFO:api.utils:Upload 1% complete for prostate_beta_files.zip\n",
      "INFO:api.utils:Upload 1% complete for prostate_beta_files.zip\n",
      "INFO:api.utils:Upload 1% complete for prostate_beta_files.zip\n",
      "INFO:api.utils:Upload 1% complete for prostate_beta_files.zip\n",
      "INFO:api.utils:Upload 1% complete for prostate_beta_files.zip\n",
      "INFO:api.utils:Upload 1% complete for prostate_beta_files.zip\n",
      "INFO:api.utils:Upload 1% complete for prostate_beta_files.zip\n",
      "INFO:api.utils:Upload 1% complete for prostate_beta_files.zip\n",
      "INFO:api.utils:Upload 1% complete for prostate_beta_files.zip\n",
      "INFO:api.utils:Upload 1% complete for prostate_beta_files.zip\n",
      "INFO:api.utils:Upload 2% complete for prostate_beta_files.zip\n",
      "INFO:api.utils:Upload 2% complete for prostate_beta_files.zip\n",
      "INFO:api.utils:Upload 2% complete for prostate_beta_files.zip\n",
      "INFO:api.utils:Upload 2% complete for prostate_beta_files.zip\n",
      "INFO:api.utils:Upload 2% complete for prostate_beta_files.zip\n",
      "INFO:api.utils:Upload 2% complete for prostate_beta_files.zip\n",
      "INFO:api.utils:Upload 2% complete for prostate_beta_files.zip\n",
      "INFO:api.utils:Upload 2% complete for prostate_beta_files.zip\n",
      "INFO:api.utils:Upload 2% complete for prostate_beta_files.zip\n",
      "INFO:api.utils:Upload 2% complete for prostate_beta_files.zip\n",
      "INFO:api.utils:Upload 2% complete for prostate_beta_files.zip\n",
      "INFO:api.utils:Upload 2% complete for prostate_beta_files.zip\n",
      "INFO:api.utils:Upload 3% complete for prostate_beta_files.zip\n",
      "INFO:api.utils:Upload 3% complete for prostate_beta_files.zip\n",
      "INFO:api.utils:Upload 3% complete for prostate_beta_files.zip\n",
      "INFO:api.utils:Upload 3% complete for prostate_beta_files.zip\n",
      "INFO:api.utils:Upload 3% complete for prostate_beta_files.zip\n",
      "INFO:api.utils:Upload 3% complete for prostate_beta_files.zip\n",
      "INFO:api.utils:Upload 3% complete for prostate_beta_files.zip\n",
      "INFO:api.utils:Upload 3% complete for prostate_beta_files.zip\n",
      "INFO:api.utils:Upload 3% complete for prostate_beta_files.zip\n",
      "INFO:api.utils:Upload 3% complete for prostate_beta_files.zip\n",
      "INFO:api.utils:Upload 3% complete for prostate_beta_files.zip\n",
      "INFO:api.utils:Upload 3% complete for prostate_beta_files.zip\n",
      "INFO:api.utils:Upload 4% complete for prostate_beta_files.zip\n",
      "INFO:api.utils:Upload 4% complete for prostate_beta_files.zip\n",
      "INFO:api.utils:Upload 4% complete for prostate_beta_files.zip\n",
      "INFO:api.utils:Upload 4% complete for prostate_beta_files.zip\n",
      "INFO:api.utils:Upload 4% complete for prostate_beta_files.zip\n",
      "INFO:api.utils:Upload 4% complete for prostate_beta_files.zip\n",
      "INFO:api.utils:Upload 4% complete for prostate_beta_files.zip\n",
      "INFO:api.utils:Upload 4% complete for prostate_beta_files.zip\n",
      "INFO:api.utils:Upload 4% complete for prostate_beta_files.zip\n",
      "INFO:api.utils:Upload 4% complete for prostate_beta_files.zip\n",
      "INFO:api.utils:Upload 4% complete for prostate_beta_files.zip\n",
      "INFO:api.utils:Upload 4% complete for prostate_beta_files.zip\n",
      "INFO:api.utils:Upload 5% complete for prostate_beta_files.zip\n",
      "INFO:api.utils:Upload 5% complete for prostate_beta_files.zip\n",
      "INFO:api.utils:Upload 5% complete for prostate_beta_files.zip\n",
      "INFO:api.utils:Upload 5% complete for prostate_beta_files.zip\n",
      "INFO:api.utils:Upload 5% complete for prostate_beta_files.zip\n",
      "INFO:api.utils:Upload 5% complete for prostate_beta_files.zip\n",
      "INFO:api.utils:Upload 5% complete for prostate_beta_files.zip\n",
      "INFO:api.utils:Upload 5% complete for prostate_beta_files.zip\n",
      "INFO:api.utils:Upload 5% complete for prostate_beta_files.zip\n",
      "INFO:api.utils:Upload 5% complete for prostate_beta_files.zip\n",
      "INFO:api.utils:Upload 5% complete for prostate_beta_files.zip\n",
      "INFO:api.utils:Upload 5% complete for prostate_beta_files.zip\n",
      "INFO:api.utils:Upload 5% complete for prostate_beta_files.zip\n",
      "INFO:api.utils:Upload 6% complete for prostate_beta_files.zip\n",
      "INFO:api.utils:Upload 6% complete for prostate_beta_files.zip\n",
      "INFO:api.utils:Upload 6% complete for prostate_beta_files.zip\n",
      "INFO:api.utils:Upload 6% complete for prostate_beta_files.zip\n",
      "INFO:api.utils:Upload 6% complete for prostate_beta_files.zip\n",
      "INFO:api.utils:Upload 6% complete for prostate_beta_files.zip\n",
      "INFO:api.utils:Upload 6% complete for prostate_beta_files.zip\n",
      "INFO:api.utils:Upload 6% complete for prostate_beta_files.zip\n",
      "INFO:api.utils:Upload 6% complete for prostate_beta_files.zip\n",
      "INFO:api.utils:Upload 6% complete for prostate_beta_files.zip\n",
      "INFO:api.utils:Upload 6% complete for prostate_beta_files.zip\n",
      "INFO:api.utils:Upload 6% complete for prostate_beta_files.zip\n",
      "INFO:api.utils:Upload 7% complete for prostate_beta_files.zip\n",
      "INFO:api.utils:Upload 7% complete for prostate_beta_files.zip\n",
      "INFO:api.utils:Upload 7% complete for prostate_beta_files.zip\n",
      "INFO:api.utils:Upload 7% complete for prostate_beta_files.zip\n",
      "INFO:api.utils:Upload 7% complete for prostate_beta_files.zip\n",
      "INFO:api.utils:Upload 7% complete for prostate_beta_files.zip\n",
      "INFO:api.utils:Upload 7% complete for prostate_beta_files.zip\n",
      "INFO:api.utils:Upload 7% complete for prostate_beta_files.zip\n",
      "INFO:api.utils:Upload 7% complete for prostate_beta_files.zip\n",
      "INFO:api.utils:Upload 7% complete for prostate_beta_files.zip\n",
      "INFO:api.utils:Upload 7% complete for prostate_beta_files.zip\n",
      "INFO:api.utils:Upload 7% complete for prostate_beta_files.zip\n",
      "INFO:api.utils:Upload 8% complete for prostate_beta_files.zip\n",
      "INFO:api.utils:Upload 8% complete for prostate_beta_files.zip\n",
      "INFO:api.utils:Upload 8% complete for prostate_beta_files.zip\n",
      "INFO:api.utils:Upload 8% complete for prostate_beta_files.zip\n",
      "INFO:api.utils:Upload 8% complete for prostate_beta_files.zip\n",
      "INFO:api.utils:Upload 8% complete for prostate_beta_files.zip\n",
      "INFO:api.utils:Upload 8% complete for prostate_beta_files.zip\n",
      "INFO:api.utils:Upload 8% complete for prostate_beta_files.zip\n",
      "INFO:api.utils:Upload 8% complete for prostate_beta_files.zip\n",
      "INFO:api.utils:Upload 8% complete for prostate_beta_files.zip\n",
      "INFO:api.utils:Upload 8% complete for prostate_beta_files.zip\n",
      "INFO:api.utils:Upload 8% complete for prostate_beta_files.zip\n",
      "INFO:api.utils:Upload 9% complete for prostate_beta_files.zip\n",
      "INFO:api.utils:Upload 9% complete for prostate_beta_files.zip\n",
      "INFO:api.utils:Upload 9% complete for prostate_beta_files.zip\n",
      "INFO:api.utils:Upload 9% complete for prostate_beta_files.zip\n",
      "INFO:api.utils:Upload 9% complete for prostate_beta_files.zip\n",
      "INFO:api.utils:Upload 9% complete for prostate_beta_files.zip\n",
      "INFO:api.utils:Upload 9% complete for prostate_beta_files.zip\n",
      "INFO:api.utils:Upload 9% complete for prostate_beta_files.zip\n",
      "INFO:api.utils:Upload 9% complete for prostate_beta_files.zip\n",
      "INFO:api.utils:Upload 9% complete for prostate_beta_files.zip\n",
      "INFO:api.utils:Upload 9% complete for prostate_beta_files.zip\n",
      "INFO:api.utils:Upload 9% complete for prostate_beta_files.zip\n",
      "INFO:api.utils:Upload 10% complete for prostate_beta_files.zip\n",
      "INFO:api.utils:Upload 10% complete for prostate_beta_files.zip\n",
      "INFO:api.utils:Upload 10% complete for prostate_beta_files.zip\n",
      "INFO:api.utils:Upload 10% complete for prostate_beta_files.zip\n",
      "INFO:api.utils:Upload 10% complete for prostate_beta_files.zip\n",
      "INFO:api.utils:Upload 10% complete for prostate_beta_files.zip\n",
      "INFO:api.utils:Upload 10% complete for prostate_beta_files.zip\n",
      "INFO:api.utils:Upload 10% complete for prostate_beta_files.zip\n",
      "INFO:api.utils:Upload 10% complete for prostate_beta_files.zip\n",
      "INFO:api.utils:Upload 10% complete for prostate_beta_files.zip\n",
      "INFO:api.utils:Upload 10% complete for prostate_beta_files.zip\n",
      "INFO:api.utils:Upload 10% complete for prostate_beta_files.zip\n",
      "INFO:api.utils:Upload 11% complete for prostate_beta_files.zip\n",
      "INFO:api.utils:Upload 11% complete for prostate_beta_files.zip\n",
      "INFO:api.utils:Upload 11% complete for prostate_beta_files.zip\n",
      "INFO:api.utils:Upload 11% complete for prostate_beta_files.zip\n",
      "INFO:api.utils:Upload 11% complete for prostate_beta_files.zip\n",
      "INFO:api.utils:Upload 11% complete for prostate_beta_files.zip\n",
      "INFO:api.utils:Upload 11% complete for prostate_beta_files.zip\n",
      "INFO:api.utils:Upload 11% complete for prostate_beta_files.zip\n",
      "INFO:api.utils:Upload 11% complete for prostate_beta_files.zip\n",
      "INFO:api.utils:Upload 11% complete for prostate_beta_files.zip\n",
      "INFO:api.utils:Upload 11% complete for prostate_beta_files.zip\n",
      "INFO:api.utils:Upload 11% complete for prostate_beta_files.zip\n",
      "INFO:api.utils:Upload 11% complete for prostate_beta_files.zip\n",
      "INFO:api.utils:Upload 12% complete for prostate_beta_files.zip\n",
      "INFO:api.utils:Upload 12% complete for prostate_beta_files.zip\n",
      "INFO:api.utils:Upload 12% complete for prostate_beta_files.zip\n",
      "INFO:api.utils:Upload 12% complete for prostate_beta_files.zip\n",
      "INFO:api.utils:Upload 12% complete for prostate_beta_files.zip\n",
      "INFO:api.utils:Upload 12% complete for prostate_beta_files.zip\n",
      "INFO:api.utils:Upload 12% complete for prostate_beta_files.zip\n",
      "INFO:api.utils:Upload 12% complete for prostate_beta_files.zip\n",
      "INFO:api.utils:Upload 12% complete for prostate_beta_files.zip\n",
      "INFO:api.utils:Upload 12% complete for prostate_beta_files.zip\n",
      "INFO:api.utils:Upload 12% complete for prostate_beta_files.zip\n",
      "INFO:api.utils:Upload 12% complete for prostate_beta_files.zip\n",
      "INFO:api.utils:Upload 13% complete for prostate_beta_files.zip\n",
      "INFO:api.utils:Upload 13% complete for prostate_beta_files.zip\n",
      "INFO:api.utils:Upload 13% complete for prostate_beta_files.zip\n",
      "INFO:api.utils:Upload 13% complete for prostate_beta_files.zip\n",
      "INFO:api.utils:Upload 13% complete for prostate_beta_files.zip\n",
      "INFO:api.utils:Upload 13% complete for prostate_beta_files.zip\n",
      "INFO:api.utils:Upload 13% complete for prostate_beta_files.zip\n",
      "INFO:api.utils:Upload 13% complete for prostate_beta_files.zip\n",
      "INFO:api.utils:Upload 13% complete for prostate_beta_files.zip\n",
      "INFO:api.utils:Upload 13% complete for prostate_beta_files.zip\n",
      "INFO:api.utils:Upload 13% complete for prostate_beta_files.zip\n",
      "INFO:api.utils:Upload 13% complete for prostate_beta_files.zip\n",
      "INFO:api.utils:Upload 14% complete for prostate_beta_files.zip\n",
      "INFO:api.utils:Upload 14% complete for prostate_beta_files.zip\n",
      "INFO:api.utils:Upload 14% complete for prostate_beta_files.zip\n",
      "INFO:api.utils:Upload 14% complete for prostate_beta_files.zip\n",
      "INFO:api.utils:Upload 14% complete for prostate_beta_files.zip\n",
      "INFO:api.utils:Upload 14% complete for prostate_beta_files.zip\n",
      "INFO:api.utils:Upload 14% complete for prostate_beta_files.zip\n",
      "INFO:api.utils:Upload 14% complete for prostate_beta_files.zip\n",
      "INFO:api.utils:Upload 14% complete for prostate_beta_files.zip\n",
      "INFO:api.utils:Upload 14% complete for prostate_beta_files.zip\n",
      "INFO:api.utils:Upload 14% complete for prostate_beta_files.zip\n",
      "INFO:api.utils:Upload 14% complete for prostate_beta_files.zip\n",
      "INFO:api.utils:Upload 15% complete for prostate_beta_files.zip\n",
      "INFO:api.utils:Upload 15% complete for prostate_beta_files.zip\n",
      "INFO:api.utils:Upload 15% complete for prostate_beta_files.zip\n",
      "INFO:api.utils:Upload 15% complete for prostate_beta_files.zip\n",
      "INFO:api.utils:Upload 15% complete for prostate_beta_files.zip\n",
      "INFO:api.utils:Upload 15% complete for prostate_beta_files.zip\n",
      "INFO:api.utils:Upload 15% complete for prostate_beta_files.zip\n",
      "INFO:api.utils:Upload 15% complete for prostate_beta_files.zip\n",
      "INFO:api.utils:Upload 15% complete for prostate_beta_files.zip\n",
      "INFO:api.utils:Upload 15% complete for prostate_beta_files.zip\n",
      "INFO:api.utils:Upload 15% complete for prostate_beta_files.zip\n",
      "INFO:api.utils:Upload 15% complete for prostate_beta_files.zip\n",
      "INFO:api.utils:Upload 16% complete for prostate_beta_files.zip\n",
      "INFO:api.utils:Upload 16% complete for prostate_beta_files.zip\n",
      "INFO:api.utils:Upload 16% complete for prostate_beta_files.zip\n",
      "INFO:api.utils:Upload 16% complete for prostate_beta_files.zip\n",
      "INFO:api.utils:Upload 16% complete for prostate_beta_files.zip\n",
      "INFO:api.utils:Upload 16% complete for prostate_beta_files.zip\n",
      "INFO:api.utils:Upload 16% complete for prostate_beta_files.zip\n",
      "INFO:api.utils:Upload 16% complete for prostate_beta_files.zip\n",
      "INFO:api.utils:Upload 16% complete for prostate_beta_files.zip\n",
      "INFO:api.utils:Upload 16% complete for prostate_beta_files.zip\n",
      "INFO:api.utils:Upload 16% complete for prostate_beta_files.zip\n",
      "INFO:api.utils:Upload 16% complete for prostate_beta_files.zip\n",
      "INFO:api.utils:Upload 17% complete for prostate_beta_files.zip\n",
      "INFO:api.utils:Upload 17% complete for prostate_beta_files.zip\n",
      "INFO:api.utils:Upload 17% complete for prostate_beta_files.zip\n",
      "INFO:api.utils:Upload 17% complete for prostate_beta_files.zip\n",
      "INFO:api.utils:Upload 17% complete for prostate_beta_files.zip\n",
      "INFO:api.utils:Upload 17% complete for prostate_beta_files.zip\n",
      "INFO:api.utils:Upload 17% complete for prostate_beta_files.zip\n",
      "INFO:api.utils:Upload 17% complete for prostate_beta_files.zip\n",
      "INFO:api.utils:Upload 17% complete for prostate_beta_files.zip\n",
      "INFO:api.utils:Upload 17% complete for prostate_beta_files.zip\n",
      "INFO:api.utils:Upload 17% complete for prostate_beta_files.zip\n",
      "INFO:api.utils:Upload 17% complete for prostate_beta_files.zip\n",
      "INFO:api.utils:Upload 17% complete for prostate_beta_files.zip\n",
      "INFO:api.utils:Upload 18% complete for prostate_beta_files.zip\n",
      "INFO:api.utils:Upload 18% complete for prostate_beta_files.zip\n",
      "INFO:api.utils:Upload 18% complete for prostate_beta_files.zip\n",
      "INFO:api.utils:Upload 18% complete for prostate_beta_files.zip\n",
      "INFO:api.utils:Upload 18% complete for prostate_beta_files.zip\n",
      "INFO:api.utils:Upload 18% complete for prostate_beta_files.zip\n",
      "INFO:api.utils:Upload 18% complete for prostate_beta_files.zip\n",
      "INFO:api.utils:Upload 18% complete for prostate_beta_files.zip\n",
      "INFO:api.utils:Upload 18% complete for prostate_beta_files.zip\n",
      "INFO:api.utils:Upload 18% complete for prostate_beta_files.zip\n",
      "INFO:api.utils:Upload 18% complete for prostate_beta_files.zip\n",
      "INFO:api.utils:Upload 18% complete for prostate_beta_files.zip\n",
      "INFO:api.utils:Upload 19% complete for prostate_beta_files.zip\n",
      "INFO:api.utils:Upload 19% complete for prostate_beta_files.zip\n",
      "INFO:api.utils:Upload 19% complete for prostate_beta_files.zip\n",
      "INFO:api.utils:Upload 19% complete for prostate_beta_files.zip\n",
      "INFO:api.utils:Upload 19% complete for prostate_beta_files.zip\n",
      "INFO:api.utils:Upload 19% complete for prostate_beta_files.zip\n",
      "INFO:api.utils:Upload 19% complete for prostate_beta_files.zip\n",
      "INFO:api.utils:Upload 19% complete for prostate_beta_files.zip\n",
      "INFO:api.utils:Upload 19% complete for prostate_beta_files.zip\n",
      "INFO:api.utils:Upload 19% complete for prostate_beta_files.zip\n",
      "INFO:api.utils:Upload 19% complete for prostate_beta_files.zip\n",
      "INFO:api.utils:Upload 19% complete for prostate_beta_files.zip\n",
      "INFO:api.utils:Upload 20% complete for prostate_beta_files.zip\n",
      "INFO:api.utils:Upload 20% complete for prostate_beta_files.zip\n",
      "INFO:api.utils:Upload 20% complete for prostate_beta_files.zip\n",
      "INFO:api.utils:Upload 20% complete for prostate_beta_files.zip\n",
      "INFO:api.utils:Upload 20% complete for prostate_beta_files.zip\n",
      "INFO:api.utils:Upload 20% complete for prostate_beta_files.zip\n",
      "INFO:api.utils:Upload 20% complete for prostate_beta_files.zip\n",
      "INFO:api.utils:Upload 20% complete for prostate_beta_files.zip\n",
      "INFO:api.utils:Upload 20% complete for prostate_beta_files.zip\n",
      "INFO:api.utils:Upload 20% complete for prostate_beta_files.zip\n",
      "INFO:api.utils:Upload 20% complete for prostate_beta_files.zip\n",
      "INFO:api.utils:Upload 20% complete for prostate_beta_files.zip\n",
      "INFO:api.utils:Upload 21% complete for prostate_beta_files.zip\n",
      "INFO:api.utils:Upload 21% complete for prostate_beta_files.zip\n",
      "INFO:api.utils:Upload 21% complete for prostate_beta_files.zip\n",
      "INFO:api.utils:Upload 21% complete for prostate_beta_files.zip\n",
      "INFO:api.utils:Upload 21% complete for prostate_beta_files.zip\n",
      "INFO:api.utils:Upload 21% complete for prostate_beta_files.zip\n",
      "INFO:api.utils:Upload 21% complete for prostate_beta_files.zip\n",
      "INFO:api.utils:Upload 21% complete for prostate_beta_files.zip\n",
      "INFO:api.utils:Upload 21% complete for prostate_beta_files.zip\n",
      "INFO:api.utils:Upload 21% complete for prostate_beta_files.zip\n",
      "INFO:api.utils:Upload 21% complete for prostate_beta_files.zip\n",
      "INFO:api.utils:Upload 21% complete for prostate_beta_files.zip\n",
      "INFO:api.utils:Upload 22% complete for prostate_beta_files.zip\n",
      "INFO:api.utils:Upload 22% complete for prostate_beta_files.zip\n",
      "INFO:api.utils:Upload 22% complete for prostate_beta_files.zip\n",
      "INFO:api.utils:Upload 22% complete for prostate_beta_files.zip\n",
      "INFO:api.utils:Upload 22% complete for prostate_beta_files.zip\n",
      "INFO:api.utils:Upload 22% complete for prostate_beta_files.zip\n",
      "INFO:api.utils:Upload 22% complete for prostate_beta_files.zip\n",
      "INFO:api.utils:Upload 22% complete for prostate_beta_files.zip\n",
      "INFO:api.utils:Upload 22% complete for prostate_beta_files.zip\n",
      "INFO:api.utils:Upload 22% complete for prostate_beta_files.zip\n",
      "INFO:api.utils:Upload 22% complete for prostate_beta_files.zip\n",
      "INFO:api.utils:Upload 22% complete for prostate_beta_files.zip\n",
      "INFO:api.utils:Upload 23% complete for prostate_beta_files.zip\n",
      "INFO:api.utils:Upload 23% complete for prostate_beta_files.zip\n",
      "INFO:api.utils:Upload 23% complete for prostate_beta_files.zip\n",
      "INFO:api.utils:Upload 23% complete for prostate_beta_files.zip\n",
      "INFO:api.utils:Upload 23% complete for prostate_beta_files.zip\n",
      "INFO:api.utils:Upload 23% complete for prostate_beta_files.zip\n",
      "INFO:api.utils:Upload 23% complete for prostate_beta_files.zip\n",
      "INFO:api.utils:Upload 23% complete for prostate_beta_files.zip\n",
      "INFO:api.utils:Upload 23% complete for prostate_beta_files.zip\n",
      "INFO:api.utils:Upload 23% complete for prostate_beta_files.zip\n",
      "INFO:api.utils:Upload 23% complete for prostate_beta_files.zip\n",
      "INFO:api.utils:Upload 23% complete for prostate_beta_files.zip\n",
      "INFO:api.utils:Upload 23% complete for prostate_beta_files.zip\n",
      "INFO:api.utils:Upload 24% complete for prostate_beta_files.zip\n",
      "INFO:api.utils:Upload 24% complete for prostate_beta_files.zip\n",
      "INFO:api.utils:Upload 24% complete for prostate_beta_files.zip\n",
      "INFO:api.utils:Upload 24% complete for prostate_beta_files.zip\n",
      "INFO:api.utils:Upload 24% complete for prostate_beta_files.zip\n",
      "INFO:api.utils:Upload 24% complete for prostate_beta_files.zip\n",
      "INFO:api.utils:Upload 24% complete for prostate_beta_files.zip\n",
      "INFO:api.utils:Upload 24% complete for prostate_beta_files.zip\n",
      "INFO:api.utils:Upload 24% complete for prostate_beta_files.zip\n",
      "INFO:api.utils:Upload 24% complete for prostate_beta_files.zip\n",
      "INFO:api.utils:Upload 24% complete for prostate_beta_files.zip\n",
      "INFO:api.utils:Upload 24% complete for prostate_beta_files.zip\n",
      "INFO:api.utils:Upload 25% complete for prostate_beta_files.zip\n",
      "INFO:api.utils:Upload 25% complete for prostate_beta_files.zip\n",
      "INFO:api.utils:Upload 25% complete for prostate_beta_files.zip\n",
      "INFO:api.utils:Upload 25% complete for prostate_beta_files.zip\n",
      "INFO:api.utils:Upload 25% complete for prostate_beta_files.zip\n",
      "INFO:api.utils:Upload 25% complete for prostate_beta_files.zip\n",
      "INFO:api.utils:Upload 25% complete for prostate_beta_files.zip\n",
      "INFO:api.utils:Upload 25% complete for prostate_beta_files.zip\n",
      "INFO:api.utils:Upload 25% complete for prostate_beta_files.zip\n",
      "INFO:api.utils:Upload 25% complete for prostate_beta_files.zip\n",
      "INFO:api.utils:Upload 25% complete for prostate_beta_files.zip\n",
      "INFO:api.utils:Upload 25% complete for prostate_beta_files.zip\n",
      "INFO:api.utils:Upload 26% complete for prostate_beta_files.zip\n",
      "INFO:api.utils:Upload 26% complete for prostate_beta_files.zip\n",
      "INFO:api.utils:Upload 26% complete for prostate_beta_files.zip\n",
      "INFO:api.utils:Upload 26% complete for prostate_beta_files.zip\n",
      "INFO:api.utils:Upload 26% complete for prostate_beta_files.zip\n",
      "INFO:api.utils:Upload 26% complete for prostate_beta_files.zip\n",
      "INFO:api.utils:Upload 26% complete for prostate_beta_files.zip\n",
      "INFO:api.utils:Upload 26% complete for prostate_beta_files.zip\n",
      "INFO:api.utils:Upload 26% complete for prostate_beta_files.zip\n",
      "INFO:api.utils:Upload 26% complete for prostate_beta_files.zip\n",
      "INFO:api.utils:Upload 26% complete for prostate_beta_files.zip\n",
      "INFO:api.utils:Upload 26% complete for prostate_beta_files.zip\n",
      "INFO:api.utils:Upload 27% complete for prostate_beta_files.zip\n",
      "INFO:api.utils:Upload 27% complete for prostate_beta_files.zip\n",
      "INFO:api.utils:Upload 27% complete for prostate_beta_files.zip\n",
      "INFO:api.utils:Upload 27% complete for prostate_beta_files.zip\n",
      "INFO:api.utils:Upload 27% complete for prostate_beta_files.zip\n",
      "INFO:api.utils:Upload 27% complete for prostate_beta_files.zip\n",
      "INFO:api.utils:Upload 27% complete for prostate_beta_files.zip\n",
      "INFO:api.utils:Upload 27% complete for prostate_beta_files.zip\n",
      "INFO:api.utils:Upload 27% complete for prostate_beta_files.zip\n",
      "INFO:api.utils:Upload 27% complete for prostate_beta_files.zip\n",
      "INFO:api.utils:Upload 27% complete for prostate_beta_files.zip\n",
      "INFO:api.utils:Upload 27% complete for prostate_beta_files.zip\n",
      "INFO:api.utils:Upload 28% complete for prostate_beta_files.zip\n",
      "INFO:api.utils:Upload 28% complete for prostate_beta_files.zip\n",
      "INFO:api.utils:Upload 28% complete for prostate_beta_files.zip\n",
      "INFO:api.utils:Upload 28% complete for prostate_beta_files.zip\n",
      "INFO:api.utils:Upload 28% complete for prostate_beta_files.zip\n",
      "INFO:api.utils:Upload 28% complete for prostate_beta_files.zip\n",
      "INFO:api.utils:Upload 28% complete for prostate_beta_files.zip\n",
      "INFO:api.utils:Upload 28% complete for prostate_beta_files.zip\n",
      "INFO:api.utils:Upload 28% complete for prostate_beta_files.zip\n",
      "INFO:api.utils:Upload 28% complete for prostate_beta_files.zip\n",
      "INFO:api.utils:Upload 28% complete for prostate_beta_files.zip\n",
      "INFO:api.utils:Upload 28% complete for prostate_beta_files.zip\n",
      "INFO:api.utils:Upload 29% complete for prostate_beta_files.zip\n",
      "INFO:api.utils:Upload 29% complete for prostate_beta_files.zip\n",
      "INFO:api.utils:Upload 29% complete for prostate_beta_files.zip\n",
      "INFO:api.utils:Upload 29% complete for prostate_beta_files.zip\n",
      "INFO:api.utils:Upload 29% complete for prostate_beta_files.zip\n",
      "INFO:api.utils:Upload 29% complete for prostate_beta_files.zip\n",
      "INFO:api.utils:Upload 29% complete for prostate_beta_files.zip\n",
      "INFO:api.utils:Upload 29% complete for prostate_beta_files.zip\n",
      "INFO:api.utils:Upload 29% complete for prostate_beta_files.zip\n",
      "INFO:api.utils:Upload 29% complete for prostate_beta_files.zip\n",
      "INFO:api.utils:Upload 29% complete for prostate_beta_files.zip\n",
      "INFO:api.utils:Upload 29% complete for prostate_beta_files.zip\n",
      "INFO:api.utils:Upload 29% complete for prostate_beta_files.zip\n",
      "INFO:api.utils:Upload 30% complete for prostate_beta_files.zip\n",
      "INFO:api.utils:Upload 30% complete for prostate_beta_files.zip\n",
      "INFO:api.utils:Upload 30% complete for prostate_beta_files.zip\n",
      "INFO:api.utils:Upload 30% complete for prostate_beta_files.zip\n",
      "INFO:api.utils:Upload 30% complete for prostate_beta_files.zip\n",
      "INFO:api.utils:Upload 30% complete for prostate_beta_files.zip\n",
      "INFO:api.utils:Upload 30% complete for prostate_beta_files.zip\n",
      "INFO:api.utils:Upload 30% complete for prostate_beta_files.zip\n",
      "INFO:api.utils:Upload 30% complete for prostate_beta_files.zip\n",
      "INFO:api.utils:Upload 30% complete for prostate_beta_files.zip\n",
      "INFO:api.utils:Upload 30% complete for prostate_beta_files.zip\n",
      "INFO:api.utils:Upload 30% complete for prostate_beta_files.zip\n",
      "INFO:api.utils:Upload 31% complete for prostate_beta_files.zip\n",
      "INFO:api.utils:Upload 31% complete for prostate_beta_files.zip\n",
      "INFO:api.utils:Upload 31% complete for prostate_beta_files.zip\n",
      "INFO:api.utils:Upload 31% complete for prostate_beta_files.zip\n",
      "INFO:api.utils:Upload 31% complete for prostate_beta_files.zip\n",
      "INFO:api.utils:Upload 31% complete for prostate_beta_files.zip\n",
      "INFO:api.utils:Upload 31% complete for prostate_beta_files.zip\n",
      "INFO:api.utils:Upload 31% complete for prostate_beta_files.zip\n",
      "INFO:api.utils:Upload 31% complete for prostate_beta_files.zip\n",
      "INFO:api.utils:Upload 31% complete for prostate_beta_files.zip\n",
      "INFO:api.utils:Upload 31% complete for prostate_beta_files.zip\n",
      "INFO:api.utils:Upload 31% complete for prostate_beta_files.zip\n",
      "INFO:api.utils:Upload 32% complete for prostate_beta_files.zip\n",
      "INFO:api.utils:Upload 32% complete for prostate_beta_files.zip\n",
      "INFO:api.utils:Upload 32% complete for prostate_beta_files.zip\n",
      "INFO:api.utils:Upload 32% complete for prostate_beta_files.zip\n",
      "INFO:api.utils:Upload 32% complete for prostate_beta_files.zip\n",
      "INFO:api.utils:Upload 32% complete for prostate_beta_files.zip\n",
      "INFO:api.utils:Upload 32% complete for prostate_beta_files.zip\n",
      "INFO:api.utils:Upload 32% complete for prostate_beta_files.zip\n",
      "INFO:api.utils:Upload 32% complete for prostate_beta_files.zip\n",
      "INFO:api.utils:Upload 32% complete for prostate_beta_files.zip\n",
      "INFO:api.utils:Upload 32% complete for prostate_beta_files.zip\n",
      "INFO:api.utils:Upload 32% complete for prostate_beta_files.zip\n",
      "INFO:api.utils:Upload 33% complete for prostate_beta_files.zip\n",
      "INFO:api.utils:Upload 33% complete for prostate_beta_files.zip\n",
      "INFO:api.utils:Upload 33% complete for prostate_beta_files.zip\n",
      "INFO:api.utils:Upload 33% complete for prostate_beta_files.zip\n",
      "INFO:api.utils:Upload 33% complete for prostate_beta_files.zip\n",
      "INFO:api.utils:Upload 33% complete for prostate_beta_files.zip\n",
      "INFO:api.utils:Upload 33% complete for prostate_beta_files.zip\n",
      "INFO:api.utils:Upload 33% complete for prostate_beta_files.zip\n",
      "INFO:api.utils:Upload 33% complete for prostate_beta_files.zip\n",
      "INFO:api.utils:Upload 33% complete for prostate_beta_files.zip\n",
      "INFO:api.utils:Upload 33% complete for prostate_beta_files.zip\n",
      "INFO:api.utils:Upload 33% complete for prostate_beta_files.zip\n",
      "INFO:api.utils:Upload 34% complete for prostate_beta_files.zip\n",
      "INFO:api.utils:Upload 34% complete for prostate_beta_files.zip\n",
      "INFO:api.utils:Upload 34% complete for prostate_beta_files.zip\n",
      "INFO:api.utils:Upload 34% complete for prostate_beta_files.zip\n",
      "INFO:api.utils:Upload 34% complete for prostate_beta_files.zip\n",
      "INFO:api.utils:Upload 34% complete for prostate_beta_files.zip\n",
      "INFO:api.utils:Upload 34% complete for prostate_beta_files.zip\n",
      "INFO:api.utils:Upload 34% complete for prostate_beta_files.zip\n",
      "INFO:api.utils:Upload 34% complete for prostate_beta_files.zip\n",
      "INFO:api.utils:Upload 34% complete for prostate_beta_files.zip\n",
      "INFO:api.utils:Upload 34% complete for prostate_beta_files.zip\n",
      "INFO:api.utils:Upload 34% complete for prostate_beta_files.zip\n",
      "INFO:api.utils:Upload 34% complete for prostate_beta_files.zip\n",
      "INFO:api.utils:Upload 35% complete for prostate_beta_files.zip\n",
      "INFO:api.utils:Upload 35% complete for prostate_beta_files.zip\n",
      "INFO:api.utils:Upload 35% complete for prostate_beta_files.zip\n",
      "INFO:api.utils:Upload 35% complete for prostate_beta_files.zip\n",
      "INFO:api.utils:Upload 35% complete for prostate_beta_files.zip\n",
      "INFO:api.utils:Upload 35% complete for prostate_beta_files.zip\n",
      "INFO:api.utils:Upload 35% complete for prostate_beta_files.zip\n",
      "INFO:api.utils:Upload 35% complete for prostate_beta_files.zip\n",
      "INFO:api.utils:Upload 35% complete for prostate_beta_files.zip\n",
      "INFO:api.utils:Upload 35% complete for prostate_beta_files.zip\n",
      "INFO:api.utils:Upload 35% complete for prostate_beta_files.zip\n",
      "INFO:api.utils:Upload 35% complete for prostate_beta_files.zip\n",
      "INFO:api.utils:Upload 36% complete for prostate_beta_files.zip\n",
      "INFO:api.utils:Upload 36% complete for prostate_beta_files.zip\n",
      "INFO:api.utils:Upload 36% complete for prostate_beta_files.zip\n",
      "INFO:api.utils:Upload 36% complete for prostate_beta_files.zip\n",
      "INFO:api.utils:Upload 36% complete for prostate_beta_files.zip\n",
      "INFO:api.utils:Upload 36% complete for prostate_beta_files.zip\n",
      "INFO:api.utils:Upload 36% complete for prostate_beta_files.zip\n",
      "INFO:api.utils:Upload 36% complete for prostate_beta_files.zip\n",
      "INFO:api.utils:Upload 36% complete for prostate_beta_files.zip\n",
      "INFO:api.utils:Upload 36% complete for prostate_beta_files.zip\n",
      "INFO:api.utils:Upload 36% complete for prostate_beta_files.zip\n",
      "INFO:api.utils:Upload 36% complete for prostate_beta_files.zip\n",
      "INFO:api.utils:Upload 37% complete for prostate_beta_files.zip\n",
      "INFO:api.utils:Upload 37% complete for prostate_beta_files.zip\n",
      "INFO:api.utils:Upload 37% complete for prostate_beta_files.zip\n",
      "INFO:api.utils:Upload 37% complete for prostate_beta_files.zip\n",
      "INFO:api.utils:Upload 37% complete for prostate_beta_files.zip\n",
      "INFO:api.utils:Upload 37% complete for prostate_beta_files.zip\n",
      "INFO:api.utils:Upload 37% complete for prostate_beta_files.zip\n",
      "INFO:api.utils:Upload 37% complete for prostate_beta_files.zip\n",
      "INFO:api.utils:Upload 37% complete for prostate_beta_files.zip\n",
      "INFO:api.utils:Upload 37% complete for prostate_beta_files.zip\n",
      "INFO:api.utils:Upload 37% complete for prostate_beta_files.zip\n",
      "INFO:api.utils:Upload 37% complete for prostate_beta_files.zip\n",
      "INFO:api.utils:Upload 38% complete for prostate_beta_files.zip\n",
      "INFO:api.utils:Upload 38% complete for prostate_beta_files.zip\n",
      "INFO:api.utils:Upload 38% complete for prostate_beta_files.zip\n",
      "INFO:api.utils:Upload 38% complete for prostate_beta_files.zip\n",
      "INFO:api.utils:Upload 38% complete for prostate_beta_files.zip\n",
      "INFO:api.utils:Upload 38% complete for prostate_beta_files.zip\n",
      "INFO:api.utils:Upload 38% complete for prostate_beta_files.zip\n",
      "INFO:api.utils:Upload 38% complete for prostate_beta_files.zip\n",
      "INFO:api.utils:Upload 38% complete for prostate_beta_files.zip\n",
      "INFO:api.utils:Upload 38% complete for prostate_beta_files.zip\n",
      "INFO:api.utils:Upload 38% complete for prostate_beta_files.zip\n",
      "INFO:api.utils:Upload 38% complete for prostate_beta_files.zip\n",
      "INFO:api.utils:Upload 39% complete for prostate_beta_files.zip\n",
      "INFO:api.utils:Upload 39% complete for prostate_beta_files.zip\n",
      "INFO:api.utils:Upload 39% complete for prostate_beta_files.zip\n",
      "INFO:api.utils:Upload 39% complete for prostate_beta_files.zip\n",
      "INFO:api.utils:Upload 39% complete for prostate_beta_files.zip\n",
      "INFO:api.utils:Upload 39% complete for prostate_beta_files.zip\n",
      "INFO:api.utils:Upload 39% complete for prostate_beta_files.zip\n",
      "INFO:api.utils:Upload 39% complete for prostate_beta_files.zip\n",
      "INFO:api.utils:Upload 39% complete for prostate_beta_files.zip\n",
      "INFO:api.utils:Upload 39% complete for prostate_beta_files.zip\n",
      "INFO:api.utils:Upload 39% complete for prostate_beta_files.zip\n",
      "INFO:api.utils:Upload 39% complete for prostate_beta_files.zip\n",
      "INFO:api.utils:Upload 40% complete for prostate_beta_files.zip\n",
      "INFO:api.utils:Upload 40% complete for prostate_beta_files.zip\n",
      "INFO:api.utils:Upload 40% complete for prostate_beta_files.zip\n",
      "INFO:api.utils:Upload 40% complete for prostate_beta_files.zip\n",
      "INFO:api.utils:Upload 40% complete for prostate_beta_files.zip\n",
      "INFO:api.utils:Upload 40% complete for prostate_beta_files.zip\n",
      "INFO:api.utils:Upload 40% complete for prostate_beta_files.zip\n",
      "INFO:api.utils:Upload 40% complete for prostate_beta_files.zip\n",
      "INFO:api.utils:Upload 40% complete for prostate_beta_files.zip\n",
      "INFO:api.utils:Upload 40% complete for prostate_beta_files.zip\n",
      "INFO:api.utils:Upload 40% complete for prostate_beta_files.zip\n",
      "INFO:api.utils:Upload 40% complete for prostate_beta_files.zip\n",
      "INFO:api.utils:Upload 40% complete for prostate_beta_files.zip\n",
      "INFO:api.utils:Upload 41% complete for prostate_beta_files.zip\n",
      "INFO:api.utils:Upload 41% complete for prostate_beta_files.zip\n",
      "INFO:api.utils:Upload 41% complete for prostate_beta_files.zip\n",
      "INFO:api.utils:Upload 41% complete for prostate_beta_files.zip\n",
      "INFO:api.utils:Upload 41% complete for prostate_beta_files.zip\n",
      "INFO:api.utils:Upload 41% complete for prostate_beta_files.zip\n",
      "INFO:api.utils:Upload 41% complete for prostate_beta_files.zip\n",
      "INFO:api.utils:Upload 41% complete for prostate_beta_files.zip\n",
      "INFO:api.utils:Upload 41% complete for prostate_beta_files.zip\n",
      "INFO:api.utils:Upload 41% complete for prostate_beta_files.zip\n",
      "INFO:api.utils:Upload 41% complete for prostate_beta_files.zip\n",
      "INFO:api.utils:Upload 41% complete for prostate_beta_files.zip\n",
      "INFO:api.utils:Upload 42% complete for prostate_beta_files.zip\n",
      "INFO:api.utils:Upload 42% complete for prostate_beta_files.zip\n",
      "INFO:api.utils:Upload 42% complete for prostate_beta_files.zip\n",
      "INFO:api.utils:Upload 42% complete for prostate_beta_files.zip\n",
      "INFO:api.utils:Upload 42% complete for prostate_beta_files.zip\n",
      "INFO:api.utils:Upload 42% complete for prostate_beta_files.zip\n",
      "INFO:api.utils:Upload 42% complete for prostate_beta_files.zip\n",
      "INFO:api.utils:Upload 42% complete for prostate_beta_files.zip\n",
      "INFO:api.utils:Upload 42% complete for prostate_beta_files.zip\n",
      "INFO:api.utils:Upload 42% complete for prostate_beta_files.zip\n",
      "INFO:api.utils:Upload 42% complete for prostate_beta_files.zip\n",
      "INFO:api.utils:Upload 42% complete for prostate_beta_files.zip\n",
      "INFO:api.utils:Upload 43% complete for prostate_beta_files.zip\n",
      "INFO:api.utils:Upload 43% complete for prostate_beta_files.zip\n",
      "INFO:api.utils:Upload 43% complete for prostate_beta_files.zip\n",
      "INFO:api.utils:Upload 43% complete for prostate_beta_files.zip\n",
      "INFO:api.utils:Upload 43% complete for prostate_beta_files.zip\n",
      "INFO:api.utils:Upload 43% complete for prostate_beta_files.zip\n",
      "INFO:api.utils:Upload 43% complete for prostate_beta_files.zip\n",
      "INFO:api.utils:Upload 43% complete for prostate_beta_files.zip\n",
      "INFO:api.utils:Upload 43% complete for prostate_beta_files.zip\n",
      "INFO:api.utils:Upload 43% complete for prostate_beta_files.zip\n",
      "INFO:api.utils:Upload 43% complete for prostate_beta_files.zip\n",
      "INFO:api.utils:Upload 43% complete for prostate_beta_files.zip\n",
      "INFO:api.utils:Upload 44% complete for prostate_beta_files.zip\n",
      "INFO:api.utils:Upload 44% complete for prostate_beta_files.zip\n",
      "INFO:api.utils:Upload 44% complete for prostate_beta_files.zip\n",
      "INFO:api.utils:Upload 44% complete for prostate_beta_files.zip\n",
      "INFO:api.utils:Upload 44% complete for prostate_beta_files.zip\n",
      "INFO:api.utils:Upload 44% complete for prostate_beta_files.zip\n",
      "INFO:api.utils:Upload 44% complete for prostate_beta_files.zip\n",
      "INFO:api.utils:Upload 44% complete for prostate_beta_files.zip\n",
      "INFO:api.utils:Upload 44% complete for prostate_beta_files.zip\n",
      "INFO:api.utils:Upload 44% complete for prostate_beta_files.zip\n",
      "INFO:api.utils:Upload 44% complete for prostate_beta_files.zip\n",
      "INFO:api.utils:Upload 44% complete for prostate_beta_files.zip\n",
      "INFO:api.utils:Upload 45% complete for prostate_beta_files.zip\n",
      "INFO:api.utils:Upload 45% complete for prostate_beta_files.zip\n",
      "INFO:api.utils:Upload 45% complete for prostate_beta_files.zip\n",
      "INFO:api.utils:Upload 45% complete for prostate_beta_files.zip\n",
      "INFO:api.utils:Upload 45% complete for prostate_beta_files.zip\n",
      "INFO:api.utils:Upload 45% complete for prostate_beta_files.zip\n",
      "INFO:api.utils:Upload 45% complete for prostate_beta_files.zip\n",
      "INFO:api.utils:Upload 45% complete for prostate_beta_files.zip\n",
      "INFO:api.utils:Upload 45% complete for prostate_beta_files.zip\n",
      "INFO:api.utils:Upload 45% complete for prostate_beta_files.zip\n",
      "INFO:api.utils:Upload 45% complete for prostate_beta_files.zip\n",
      "INFO:api.utils:Upload 45% complete for prostate_beta_files.zip\n",
      "INFO:api.utils:Upload 46% complete for prostate_beta_files.zip\n",
      "INFO:api.utils:Upload 46% complete for prostate_beta_files.zip\n",
      "INFO:api.utils:Upload 46% complete for prostate_beta_files.zip\n",
      "INFO:api.utils:Upload 46% complete for prostate_beta_files.zip\n",
      "INFO:api.utils:Upload 46% complete for prostate_beta_files.zip\n",
      "INFO:api.utils:Upload 46% complete for prostate_beta_files.zip\n",
      "INFO:api.utils:Upload 46% complete for prostate_beta_files.zip\n",
      "INFO:api.utils:Upload 46% complete for prostate_beta_files.zip\n",
      "INFO:api.utils:Upload 46% complete for prostate_beta_files.zip\n",
      "INFO:api.utils:Upload 46% complete for prostate_beta_files.zip\n",
      "INFO:api.utils:Upload 46% complete for prostate_beta_files.zip\n",
      "INFO:api.utils:Upload 46% complete for prostate_beta_files.zip\n",
      "INFO:api.utils:Upload 46% complete for prostate_beta_files.zip\n",
      "INFO:api.utils:Upload 47% complete for prostate_beta_files.zip\n",
      "INFO:api.utils:Upload 47% complete for prostate_beta_files.zip\n",
      "INFO:api.utils:Upload 47% complete for prostate_beta_files.zip\n",
      "INFO:api.utils:Upload 47% complete for prostate_beta_files.zip\n",
      "INFO:api.utils:Upload 47% complete for prostate_beta_files.zip\n",
      "INFO:api.utils:Upload 47% complete for prostate_beta_files.zip\n",
      "INFO:api.utils:Upload 47% complete for prostate_beta_files.zip\n",
      "INFO:api.utils:Upload 47% complete for prostate_beta_files.zip\n",
      "INFO:api.utils:Upload 47% complete for prostate_beta_files.zip\n",
      "INFO:api.utils:Upload 47% complete for prostate_beta_files.zip\n",
      "INFO:api.utils:Upload 47% complete for prostate_beta_files.zip\n",
      "INFO:api.utils:Upload 47% complete for prostate_beta_files.zip\n",
      "INFO:api.utils:Upload 48% complete for prostate_beta_files.zip\n",
      "INFO:api.utils:Upload 48% complete for prostate_beta_files.zip\n",
      "INFO:api.utils:Upload 48% complete for prostate_beta_files.zip\n",
      "INFO:api.utils:Upload 48% complete for prostate_beta_files.zip\n",
      "INFO:api.utils:Upload 48% complete for prostate_beta_files.zip\n",
      "INFO:api.utils:Upload 48% complete for prostate_beta_files.zip\n",
      "INFO:api.utils:Upload 48% complete for prostate_beta_files.zip\n",
      "INFO:api.utils:Upload 48% complete for prostate_beta_files.zip\n",
      "INFO:api.utils:Upload 48% complete for prostate_beta_files.zip\n",
      "INFO:api.utils:Upload 48% complete for prostate_beta_files.zip\n",
      "INFO:api.utils:Upload 48% complete for prostate_beta_files.zip\n",
      "INFO:api.utils:Upload 48% complete for prostate_beta_files.zip\n",
      "INFO:api.utils:Upload 49% complete for prostate_beta_files.zip\n",
      "INFO:api.utils:Upload 49% complete for prostate_beta_files.zip\n",
      "INFO:api.utils:Upload 49% complete for prostate_beta_files.zip\n",
      "INFO:api.utils:Upload 49% complete for prostate_beta_files.zip\n",
      "INFO:api.utils:Upload 49% complete for prostate_beta_files.zip\n",
      "INFO:api.utils:Upload 49% complete for prostate_beta_files.zip\n",
      "INFO:api.utils:Upload 49% complete for prostate_beta_files.zip\n",
      "INFO:api.utils:Upload 49% complete for prostate_beta_files.zip\n",
      "INFO:api.utils:Upload 49% complete for prostate_beta_files.zip\n",
      "INFO:api.utils:Upload 49% complete for prostate_beta_files.zip\n",
      "INFO:api.utils:Upload 49% complete for prostate_beta_files.zip\n",
      "INFO:api.utils:Upload 49% complete for prostate_beta_files.zip\n",
      "INFO:api.utils:Upload 50% complete for prostate_beta_files.zip\n",
      "INFO:api.utils:Upload 50% complete for prostate_beta_files.zip\n",
      "INFO:api.utils:Upload 50% complete for prostate_beta_files.zip\n",
      "INFO:api.utils:Upload 50% complete for prostate_beta_files.zip\n",
      "INFO:api.utils:Upload 50% complete for prostate_beta_files.zip\n",
      "INFO:api.utils:Upload 50% complete for prostate_beta_files.zip\n",
      "INFO:api.utils:Upload 50% complete for prostate_beta_files.zip\n",
      "INFO:api.utils:Upload 50% complete for prostate_beta_files.zip\n",
      "INFO:api.utils:Upload 50% complete for prostate_beta_files.zip\n",
      "INFO:api.utils:Upload 50% complete for prostate_beta_files.zip\n",
      "INFO:api.utils:Upload 50% complete for prostate_beta_files.zip\n",
      "INFO:api.utils:Upload 50% complete for prostate_beta_files.zip\n",
      "INFO:api.utils:Upload 51% complete for prostate_beta_files.zip\n",
      "INFO:api.utils:Upload 51% complete for prostate_beta_files.zip\n",
      "INFO:api.utils:Upload 51% complete for prostate_beta_files.zip\n",
      "INFO:api.utils:Upload 51% complete for prostate_beta_files.zip\n",
      "INFO:api.utils:Upload 51% complete for prostate_beta_files.zip\n",
      "INFO:api.utils:Upload 51% complete for prostate_beta_files.zip\n",
      "INFO:api.utils:Upload 51% complete for prostate_beta_files.zip\n",
      "INFO:api.utils:Upload 51% complete for prostate_beta_files.zip\n",
      "INFO:api.utils:Upload 51% complete for prostate_beta_files.zip\n",
      "INFO:api.utils:Upload 51% complete for prostate_beta_files.zip\n",
      "INFO:api.utils:Upload 51% complete for prostate_beta_files.zip\n",
      "INFO:api.utils:Upload 51% complete for prostate_beta_files.zip\n",
      "INFO:api.utils:Upload 52% complete for prostate_beta_files.zip\n",
      "INFO:api.utils:Upload 52% complete for prostate_beta_files.zip\n",
      "INFO:api.utils:Upload 52% complete for prostate_beta_files.zip\n",
      "INFO:api.utils:Upload 52% complete for prostate_beta_files.zip\n",
      "INFO:api.utils:Upload 52% complete for prostate_beta_files.zip\n",
      "INFO:api.utils:Upload 52% complete for prostate_beta_files.zip\n",
      "INFO:api.utils:Upload 52% complete for prostate_beta_files.zip\n",
      "INFO:api.utils:Upload 52% complete for prostate_beta_files.zip\n",
      "INFO:api.utils:Upload 52% complete for prostate_beta_files.zip\n",
      "INFO:api.utils:Upload 52% complete for prostate_beta_files.zip\n",
      "INFO:api.utils:Upload 52% complete for prostate_beta_files.zip\n",
      "INFO:api.utils:Upload 52% complete for prostate_beta_files.zip\n",
      "INFO:api.utils:Upload 52% complete for prostate_beta_files.zip\n",
      "INFO:api.utils:Upload 53% complete for prostate_beta_files.zip\n",
      "INFO:api.utils:Upload 53% complete for prostate_beta_files.zip\n",
      "INFO:api.utils:Upload 53% complete for prostate_beta_files.zip\n",
      "INFO:api.utils:Upload 53% complete for prostate_beta_files.zip\n",
      "INFO:api.utils:Upload 53% complete for prostate_beta_files.zip\n",
      "INFO:api.utils:Upload 53% complete for prostate_beta_files.zip\n",
      "INFO:api.utils:Upload 53% complete for prostate_beta_files.zip\n",
      "INFO:api.utils:Upload 53% complete for prostate_beta_files.zip\n",
      "INFO:api.utils:Upload 53% complete for prostate_beta_files.zip\n",
      "INFO:api.utils:Upload 53% complete for prostate_beta_files.zip\n",
      "INFO:api.utils:Upload 53% complete for prostate_beta_files.zip\n",
      "INFO:api.utils:Upload 53% complete for prostate_beta_files.zip\n",
      "INFO:api.utils:Upload 54% complete for prostate_beta_files.zip\n",
      "INFO:api.utils:Upload 54% complete for prostate_beta_files.zip\n",
      "INFO:api.utils:Upload 54% complete for prostate_beta_files.zip\n",
      "INFO:api.utils:Upload 54% complete for prostate_beta_files.zip\n",
      "INFO:api.utils:Upload 54% complete for prostate_beta_files.zip\n",
      "INFO:api.utils:Upload 54% complete for prostate_beta_files.zip\n",
      "INFO:api.utils:Upload 54% complete for prostate_beta_files.zip\n",
      "INFO:api.utils:Upload 54% complete for prostate_beta_files.zip\n",
      "INFO:api.utils:Upload 54% complete for prostate_beta_files.zip\n",
      "INFO:api.utils:Upload 54% complete for prostate_beta_files.zip\n",
      "INFO:api.utils:Upload 54% complete for prostate_beta_files.zip\n",
      "INFO:api.utils:Upload 54% complete for prostate_beta_files.zip\n",
      "INFO:api.utils:Upload 55% complete for prostate_beta_files.zip\n",
      "INFO:api.utils:Upload 55% complete for prostate_beta_files.zip\n",
      "INFO:api.utils:Upload 55% complete for prostate_beta_files.zip\n",
      "INFO:api.utils:Upload 55% complete for prostate_beta_files.zip\n",
      "INFO:api.utils:Upload 55% complete for prostate_beta_files.zip\n",
      "INFO:api.utils:Upload 55% complete for prostate_beta_files.zip\n",
      "INFO:api.utils:Upload 55% complete for prostate_beta_files.zip\n",
      "INFO:api.utils:Upload 55% complete for prostate_beta_files.zip\n",
      "INFO:api.utils:Upload 55% complete for prostate_beta_files.zip\n",
      "INFO:api.utils:Upload 55% complete for prostate_beta_files.zip\n",
      "INFO:api.utils:Upload 55% complete for prostate_beta_files.zip\n",
      "INFO:api.utils:Upload 55% complete for prostate_beta_files.zip\n",
      "INFO:api.utils:Upload 56% complete for prostate_beta_files.zip\n",
      "INFO:api.utils:Upload 56% complete for prostate_beta_files.zip\n",
      "INFO:api.utils:Upload 56% complete for prostate_beta_files.zip\n",
      "INFO:api.utils:Upload 56% complete for prostate_beta_files.zip\n",
      "INFO:api.utils:Upload 56% complete for prostate_beta_files.zip\n",
      "INFO:api.utils:Upload 56% complete for prostate_beta_files.zip\n",
      "INFO:api.utils:Upload 56% complete for prostate_beta_files.zip\n",
      "INFO:api.utils:Upload 56% complete for prostate_beta_files.zip\n",
      "INFO:api.utils:Upload 56% complete for prostate_beta_files.zip\n",
      "INFO:api.utils:Upload 56% complete for prostate_beta_files.zip\n",
      "INFO:api.utils:Upload 56% complete for prostate_beta_files.zip\n",
      "INFO:api.utils:Upload 56% complete for prostate_beta_files.zip\n",
      "INFO:api.utils:Upload 57% complete for prostate_beta_files.zip\n",
      "INFO:api.utils:Upload 57% complete for prostate_beta_files.zip\n",
      "INFO:api.utils:Upload 57% complete for prostate_beta_files.zip\n",
      "INFO:api.utils:Upload 57% complete for prostate_beta_files.zip\n",
      "INFO:api.utils:Upload 57% complete for prostate_beta_files.zip\n",
      "INFO:api.utils:Upload 57% complete for prostate_beta_files.zip\n",
      "INFO:api.utils:Upload 57% complete for prostate_beta_files.zip\n",
      "INFO:api.utils:Upload 57% complete for prostate_beta_files.zip\n",
      "INFO:api.utils:Upload 57% complete for prostate_beta_files.zip\n",
      "INFO:api.utils:Upload 57% complete for prostate_beta_files.zip\n",
      "INFO:api.utils:Upload 57% complete for prostate_beta_files.zip\n",
      "INFO:api.utils:Upload 57% complete for prostate_beta_files.zip\n",
      "INFO:api.utils:Upload 58% complete for prostate_beta_files.zip\n",
      "INFO:api.utils:Upload 58% complete for prostate_beta_files.zip\n",
      "INFO:api.utils:Upload 58% complete for prostate_beta_files.zip\n",
      "INFO:api.utils:Upload 58% complete for prostate_beta_files.zip\n",
      "INFO:api.utils:Upload 58% complete for prostate_beta_files.zip\n",
      "INFO:api.utils:Upload 58% complete for prostate_beta_files.zip\n",
      "INFO:api.utils:Upload 58% complete for prostate_beta_files.zip\n",
      "INFO:api.utils:Upload 58% complete for prostate_beta_files.zip\n",
      "INFO:api.utils:Upload 58% complete for prostate_beta_files.zip\n",
      "INFO:api.utils:Upload 58% complete for prostate_beta_files.zip\n",
      "INFO:api.utils:Upload 58% complete for prostate_beta_files.zip\n",
      "INFO:api.utils:Upload 58% complete for prostate_beta_files.zip\n",
      "INFO:api.utils:Upload 58% complete for prostate_beta_files.zip\n",
      "INFO:api.utils:Upload 59% complete for prostate_beta_files.zip\n",
      "INFO:api.utils:Upload 59% complete for prostate_beta_files.zip\n",
      "INFO:api.utils:Upload 59% complete for prostate_beta_files.zip\n",
      "INFO:api.utils:Upload 59% complete for prostate_beta_files.zip\n",
      "INFO:api.utils:Upload 59% complete for prostate_beta_files.zip\n",
      "INFO:api.utils:Upload 59% complete for prostate_beta_files.zip\n",
      "INFO:api.utils:Upload 59% complete for prostate_beta_files.zip\n",
      "INFO:api.utils:Upload 59% complete for prostate_beta_files.zip\n",
      "INFO:api.utils:Upload 59% complete for prostate_beta_files.zip\n",
      "INFO:api.utils:Upload 59% complete for prostate_beta_files.zip\n",
      "INFO:api.utils:Upload 59% complete for prostate_beta_files.zip\n",
      "INFO:api.utils:Upload 59% complete for prostate_beta_files.zip\n",
      "INFO:api.utils:Upload 60% complete for prostate_beta_files.zip\n",
      "INFO:api.utils:Upload 60% complete for prostate_beta_files.zip\n",
      "INFO:api.utils:Upload 60% complete for prostate_beta_files.zip\n",
      "INFO:api.utils:Upload 60% complete for prostate_beta_files.zip\n",
      "INFO:api.utils:Upload 60% complete for prostate_beta_files.zip\n",
      "INFO:api.utils:Upload 60% complete for prostate_beta_files.zip\n",
      "INFO:api.utils:Upload 60% complete for prostate_beta_files.zip\n",
      "INFO:api.utils:Upload 60% complete for prostate_beta_files.zip\n",
      "INFO:api.utils:Upload 60% complete for prostate_beta_files.zip\n",
      "INFO:api.utils:Upload 60% complete for prostate_beta_files.zip\n",
      "INFO:api.utils:Upload 60% complete for prostate_beta_files.zip\n",
      "INFO:api.utils:Upload 60% complete for prostate_beta_files.zip\n",
      "INFO:api.utils:Upload 61% complete for prostate_beta_files.zip\n",
      "INFO:api.utils:Upload 61% complete for prostate_beta_files.zip\n",
      "INFO:api.utils:Upload 61% complete for prostate_beta_files.zip\n",
      "INFO:api.utils:Upload 61% complete for prostate_beta_files.zip\n",
      "INFO:api.utils:Upload 61% complete for prostate_beta_files.zip\n",
      "INFO:api.utils:Upload 61% complete for prostate_beta_files.zip\n",
      "INFO:api.utils:Upload 61% complete for prostate_beta_files.zip\n",
      "INFO:api.utils:Upload 61% complete for prostate_beta_files.zip\n",
      "INFO:api.utils:Upload 61% complete for prostate_beta_files.zip\n",
      "INFO:api.utils:Upload 61% complete for prostate_beta_files.zip\n",
      "INFO:api.utils:Upload 61% complete for prostate_beta_files.zip\n",
      "INFO:api.utils:Upload 61% complete for prostate_beta_files.zip\n",
      "INFO:api.utils:Upload 62% complete for prostate_beta_files.zip\n",
      "INFO:api.utils:Upload 62% complete for prostate_beta_files.zip\n",
      "INFO:api.utils:Upload 62% complete for prostate_beta_files.zip\n",
      "INFO:api.utils:Upload 62% complete for prostate_beta_files.zip\n",
      "INFO:api.utils:Upload 62% complete for prostate_beta_files.zip\n",
      "INFO:api.utils:Upload 62% complete for prostate_beta_files.zip\n",
      "INFO:api.utils:Upload 62% complete for prostate_beta_files.zip\n",
      "INFO:api.utils:Upload 62% complete for prostate_beta_files.zip\n",
      "INFO:api.utils:Upload 62% complete for prostate_beta_files.zip\n",
      "INFO:api.utils:Upload 62% complete for prostate_beta_files.zip\n",
      "INFO:api.utils:Upload 62% complete for prostate_beta_files.zip\n",
      "INFO:api.utils:Upload 62% complete for prostate_beta_files.zip\n",
      "INFO:api.utils:Upload 63% complete for prostate_beta_files.zip\n",
      "INFO:api.utils:Upload 63% complete for prostate_beta_files.zip\n",
      "INFO:api.utils:Upload 63% complete for prostate_beta_files.zip\n",
      "INFO:api.utils:Upload 63% complete for prostate_beta_files.zip\n",
      "INFO:api.utils:Upload 63% complete for prostate_beta_files.zip\n",
      "INFO:api.utils:Upload 63% complete for prostate_beta_files.zip\n",
      "INFO:api.utils:Upload 63% complete for prostate_beta_files.zip\n",
      "INFO:api.utils:Upload 63% complete for prostate_beta_files.zip\n",
      "INFO:api.utils:Upload 63% complete for prostate_beta_files.zip\n",
      "INFO:api.utils:Upload 63% complete for prostate_beta_files.zip\n",
      "INFO:api.utils:Upload 63% complete for prostate_beta_files.zip\n",
      "INFO:api.utils:Upload 63% complete for prostate_beta_files.zip\n",
      "INFO:api.utils:Upload 64% complete for prostate_beta_files.zip\n",
      "INFO:api.utils:Upload 64% complete for prostate_beta_files.zip\n",
      "INFO:api.utils:Upload 64% complete for prostate_beta_files.zip\n",
      "INFO:api.utils:Upload 64% complete for prostate_beta_files.zip\n",
      "INFO:api.utils:Upload 64% complete for prostate_beta_files.zip\n",
      "INFO:api.utils:Upload 64% complete for prostate_beta_files.zip\n",
      "INFO:api.utils:Upload 64% complete for prostate_beta_files.zip\n",
      "INFO:api.utils:Upload 64% complete for prostate_beta_files.zip\n",
      "INFO:api.utils:Upload 64% complete for prostate_beta_files.zip\n",
      "INFO:api.utils:Upload 64% complete for prostate_beta_files.zip\n",
      "INFO:api.utils:Upload 64% complete for prostate_beta_files.zip\n",
      "INFO:api.utils:Upload 64% complete for prostate_beta_files.zip\n",
      "INFO:api.utils:Upload 64% complete for prostate_beta_files.zip\n",
      "INFO:api.utils:Upload 65% complete for prostate_beta_files.zip\n",
      "INFO:api.utils:Upload 65% complete for prostate_beta_files.zip\n",
      "INFO:api.utils:Upload 65% complete for prostate_beta_files.zip\n",
      "INFO:api.utils:Upload 65% complete for prostate_beta_files.zip\n",
      "INFO:api.utils:Upload 65% complete for prostate_beta_files.zip\n",
      "INFO:api.utils:Upload 65% complete for prostate_beta_files.zip\n",
      "INFO:api.utils:Upload 65% complete for prostate_beta_files.zip\n",
      "INFO:api.utils:Upload 65% complete for prostate_beta_files.zip\n",
      "INFO:api.utils:Upload 65% complete for prostate_beta_files.zip\n",
      "INFO:api.utils:Upload 65% complete for prostate_beta_files.zip\n",
      "INFO:api.utils:Upload 65% complete for prostate_beta_files.zip\n",
      "INFO:api.utils:Upload 65% complete for prostate_beta_files.zip\n",
      "INFO:api.utils:Upload 66% complete for prostate_beta_files.zip\n",
      "INFO:api.utils:Upload 66% complete for prostate_beta_files.zip\n",
      "INFO:api.utils:Upload 66% complete for prostate_beta_files.zip\n",
      "INFO:api.utils:Upload 66% complete for prostate_beta_files.zip\n",
      "INFO:api.utils:Upload 66% complete for prostate_beta_files.zip\n",
      "INFO:api.utils:Upload 66% complete for prostate_beta_files.zip\n",
      "INFO:api.utils:Upload 66% complete for prostate_beta_files.zip\n",
      "INFO:api.utils:Upload 66% complete for prostate_beta_files.zip\n",
      "INFO:api.utils:Upload 66% complete for prostate_beta_files.zip\n",
      "INFO:api.utils:Upload 66% complete for prostate_beta_files.zip\n",
      "INFO:api.utils:Upload 66% complete for prostate_beta_files.zip\n",
      "INFO:api.utils:Upload 66% complete for prostate_beta_files.zip\n",
      "INFO:api.utils:Upload 67% complete for prostate_beta_files.zip\n",
      "INFO:api.utils:Upload 67% complete for prostate_beta_files.zip\n",
      "INFO:api.utils:Upload 67% complete for prostate_beta_files.zip\n",
      "INFO:api.utils:Upload 67% complete for prostate_beta_files.zip\n",
      "INFO:api.utils:Upload 67% complete for prostate_beta_files.zip\n",
      "INFO:api.utils:Upload 67% complete for prostate_beta_files.zip\n",
      "INFO:api.utils:Upload 67% complete for prostate_beta_files.zip\n",
      "INFO:api.utils:Upload 67% complete for prostate_beta_files.zip\n",
      "INFO:api.utils:Upload 67% complete for prostate_beta_files.zip\n",
      "INFO:api.utils:Upload 67% complete for prostate_beta_files.zip\n",
      "INFO:api.utils:Upload 67% complete for prostate_beta_files.zip\n",
      "INFO:api.utils:Upload 67% complete for prostate_beta_files.zip\n",
      "INFO:api.utils:Upload 68% complete for prostate_beta_files.zip\n",
      "INFO:api.utils:Upload 68% complete for prostate_beta_files.zip\n",
      "INFO:api.utils:Upload 68% complete for prostate_beta_files.zip\n",
      "INFO:api.utils:Upload 68% complete for prostate_beta_files.zip\n",
      "INFO:api.utils:Upload 68% complete for prostate_beta_files.zip\n",
      "INFO:api.utils:Upload 68% complete for prostate_beta_files.zip\n",
      "INFO:api.utils:Upload 68% complete for prostate_beta_files.zip\n",
      "INFO:api.utils:Upload 68% complete for prostate_beta_files.zip\n",
      "INFO:api.utils:Upload 68% complete for prostate_beta_files.zip\n",
      "INFO:api.utils:Upload 68% complete for prostate_beta_files.zip\n",
      "INFO:api.utils:Upload 68% complete for prostate_beta_files.zip\n",
      "INFO:api.utils:Upload 68% complete for prostate_beta_files.zip\n",
      "INFO:api.utils:Upload 69% complete for prostate_beta_files.zip\n",
      "INFO:api.utils:Upload 69% complete for prostate_beta_files.zip\n",
      "INFO:api.utils:Upload 69% complete for prostate_beta_files.zip\n",
      "INFO:api.utils:Upload 69% complete for prostate_beta_files.zip\n",
      "INFO:api.utils:Upload 69% complete for prostate_beta_files.zip\n",
      "INFO:api.utils:Upload 69% complete for prostate_beta_files.zip\n",
      "INFO:api.utils:Upload 69% complete for prostate_beta_files.zip\n",
      "INFO:api.utils:Upload 69% complete for prostate_beta_files.zip\n",
      "INFO:api.utils:Upload 69% complete for prostate_beta_files.zip\n",
      "INFO:api.utils:Upload 69% complete for prostate_beta_files.zip\n",
      "INFO:api.utils:Upload 69% complete for prostate_beta_files.zip\n",
      "INFO:api.utils:Upload 69% complete for prostate_beta_files.zip\n",
      "INFO:api.utils:Upload 69% complete for prostate_beta_files.zip\n",
      "INFO:api.utils:Upload 70% complete for prostate_beta_files.zip\n",
      "INFO:api.utils:Upload 70% complete for prostate_beta_files.zip\n",
      "INFO:api.utils:Upload 70% complete for prostate_beta_files.zip\n",
      "INFO:api.utils:Upload 70% complete for prostate_beta_files.zip\n",
      "INFO:api.utils:Upload 70% complete for prostate_beta_files.zip\n",
      "INFO:api.utils:Upload 70% complete for prostate_beta_files.zip\n",
      "INFO:api.utils:Upload 70% complete for prostate_beta_files.zip\n",
      "INFO:api.utils:Upload 70% complete for prostate_beta_files.zip\n",
      "INFO:api.utils:Upload 70% complete for prostate_beta_files.zip\n",
      "INFO:api.utils:Upload 70% complete for prostate_beta_files.zip\n",
      "INFO:api.utils:Upload 70% complete for prostate_beta_files.zip\n",
      "INFO:api.utils:Upload 70% complete for prostate_beta_files.zip\n",
      "INFO:api.utils:Upload 71% complete for prostate_beta_files.zip\n",
      "INFO:api.utils:Upload 71% complete for prostate_beta_files.zip\n",
      "INFO:api.utils:Upload 71% complete for prostate_beta_files.zip\n",
      "INFO:api.utils:Upload 71% complete for prostate_beta_files.zip\n",
      "INFO:api.utils:Upload 71% complete for prostate_beta_files.zip\n",
      "INFO:api.utils:Upload 71% complete for prostate_beta_files.zip\n",
      "INFO:api.utils:Upload 71% complete for prostate_beta_files.zip\n",
      "INFO:api.utils:Upload 71% complete for prostate_beta_files.zip\n",
      "INFO:api.utils:Upload 71% complete for prostate_beta_files.zip\n",
      "INFO:api.utils:Upload 71% complete for prostate_beta_files.zip\n",
      "INFO:api.utils:Upload 71% complete for prostate_beta_files.zip\n",
      "INFO:api.utils:Upload 71% complete for prostate_beta_files.zip\n",
      "INFO:api.utils:Upload 72% complete for prostate_beta_files.zip\n",
      "INFO:api.utils:Upload 72% complete for prostate_beta_files.zip\n",
      "INFO:api.utils:Upload 72% complete for prostate_beta_files.zip\n",
      "INFO:api.utils:Upload 72% complete for prostate_beta_files.zip\n",
      "INFO:api.utils:Upload 72% complete for prostate_beta_files.zip\n",
      "INFO:api.utils:Upload 72% complete for prostate_beta_files.zip\n",
      "INFO:api.utils:Upload 72% complete for prostate_beta_files.zip\n",
      "INFO:api.utils:Upload 72% complete for prostate_beta_files.zip\n",
      "INFO:api.utils:Upload 72% complete for prostate_beta_files.zip\n",
      "INFO:api.utils:Upload 72% complete for prostate_beta_files.zip\n",
      "INFO:api.utils:Upload 72% complete for prostate_beta_files.zip\n",
      "INFO:api.utils:Upload 72% complete for prostate_beta_files.zip\n",
      "INFO:api.utils:Upload 73% complete for prostate_beta_files.zip\n",
      "INFO:api.utils:Upload 73% complete for prostate_beta_files.zip\n",
      "INFO:api.utils:Upload 73% complete for prostate_beta_files.zip\n",
      "INFO:api.utils:Upload 73% complete for prostate_beta_files.zip\n",
      "INFO:api.utils:Upload 73% complete for prostate_beta_files.zip\n",
      "INFO:api.utils:Upload 73% complete for prostate_beta_files.zip\n",
      "INFO:api.utils:Upload 73% complete for prostate_beta_files.zip\n",
      "INFO:api.utils:Upload 73% complete for prostate_beta_files.zip\n",
      "INFO:api.utils:Upload 73% complete for prostate_beta_files.zip\n",
      "INFO:api.utils:Upload 73% complete for prostate_beta_files.zip\n",
      "INFO:api.utils:Upload 73% complete for prostate_beta_files.zip\n",
      "INFO:api.utils:Upload 73% complete for prostate_beta_files.zip\n",
      "INFO:api.utils:Upload 74% complete for prostate_beta_files.zip\n",
      "INFO:api.utils:Upload 74% complete for prostate_beta_files.zip\n",
      "INFO:api.utils:Upload 74% complete for prostate_beta_files.zip\n",
      "INFO:api.utils:Upload 74% complete for prostate_beta_files.zip\n",
      "INFO:api.utils:Upload 74% complete for prostate_beta_files.zip\n",
      "INFO:api.utils:Upload 74% complete for prostate_beta_files.zip\n",
      "INFO:api.utils:Upload 74% complete for prostate_beta_files.zip\n",
      "INFO:api.utils:Upload 74% complete for prostate_beta_files.zip\n",
      "INFO:api.utils:Upload 74% complete for prostate_beta_files.zip\n",
      "INFO:api.utils:Upload 74% complete for prostate_beta_files.zip\n",
      "INFO:api.utils:Upload 74% complete for prostate_beta_files.zip\n",
      "INFO:api.utils:Upload 74% complete for prostate_beta_files.zip\n",
      "INFO:api.utils:Upload 75% complete for prostate_beta_files.zip\n",
      "INFO:api.utils:Upload 75% complete for prostate_beta_files.zip\n",
      "INFO:api.utils:Upload 75% complete for prostate_beta_files.zip\n",
      "INFO:api.utils:Upload 75% complete for prostate_beta_files.zip\n",
      "INFO:api.utils:Upload 75% complete for prostate_beta_files.zip\n",
      "INFO:api.utils:Upload 75% complete for prostate_beta_files.zip\n",
      "INFO:api.utils:Upload 75% complete for prostate_beta_files.zip\n",
      "INFO:api.utils:Upload 75% complete for prostate_beta_files.zip\n",
      "INFO:api.utils:Upload 75% complete for prostate_beta_files.zip\n",
      "INFO:api.utils:Upload 75% complete for prostate_beta_files.zip\n",
      "INFO:api.utils:Upload 75% complete for prostate_beta_files.zip\n",
      "INFO:api.utils:Upload 75% complete for prostate_beta_files.zip\n",
      "INFO:api.utils:Upload 75% complete for prostate_beta_files.zip\n",
      "INFO:api.utils:Upload 76% complete for prostate_beta_files.zip\n",
      "INFO:api.utils:Upload 76% complete for prostate_beta_files.zip\n",
      "INFO:api.utils:Upload 76% complete for prostate_beta_files.zip\n",
      "INFO:api.utils:Upload 76% complete for prostate_beta_files.zip\n",
      "INFO:api.utils:Upload 76% complete for prostate_beta_files.zip\n",
      "INFO:api.utils:Upload 76% complete for prostate_beta_files.zip\n",
      "INFO:api.utils:Upload 76% complete for prostate_beta_files.zip\n",
      "INFO:api.utils:Upload 76% complete for prostate_beta_files.zip\n",
      "INFO:api.utils:Upload 76% complete for prostate_beta_files.zip\n",
      "INFO:api.utils:Upload 76% complete for prostate_beta_files.zip\n",
      "INFO:api.utils:Upload 76% complete for prostate_beta_files.zip\n",
      "INFO:api.utils:Upload 76% complete for prostate_beta_files.zip\n",
      "INFO:api.utils:Upload 77% complete for prostate_beta_files.zip\n",
      "INFO:api.utils:Upload 77% complete for prostate_beta_files.zip\n",
      "INFO:api.utils:Upload 77% complete for prostate_beta_files.zip\n",
      "INFO:api.utils:Upload 77% complete for prostate_beta_files.zip\n",
      "INFO:api.utils:Upload 77% complete for prostate_beta_files.zip\n",
      "INFO:api.utils:Upload 77% complete for prostate_beta_files.zip\n",
      "INFO:api.utils:Upload 77% complete for prostate_beta_files.zip\n",
      "INFO:api.utils:Upload 77% complete for prostate_beta_files.zip\n",
      "INFO:api.utils:Upload 77% complete for prostate_beta_files.zip\n",
      "INFO:api.utils:Upload 77% complete for prostate_beta_files.zip\n",
      "INFO:api.utils:Upload 77% complete for prostate_beta_files.zip\n",
      "INFO:api.utils:Upload 77% complete for prostate_beta_files.zip\n",
      "INFO:api.utils:Upload 78% complete for prostate_beta_files.zip\n",
      "INFO:api.utils:Upload 78% complete for prostate_beta_files.zip\n",
      "INFO:api.utils:Upload 78% complete for prostate_beta_files.zip\n",
      "INFO:api.utils:Upload 78% complete for prostate_beta_files.zip\n",
      "INFO:api.utils:Upload 78% complete for prostate_beta_files.zip\n",
      "INFO:api.utils:Upload 78% complete for prostate_beta_files.zip\n",
      "INFO:api.utils:Upload 78% complete for prostate_beta_files.zip\n",
      "INFO:api.utils:Upload 78% complete for prostate_beta_files.zip\n",
      "INFO:api.utils:Upload 78% complete for prostate_beta_files.zip\n",
      "INFO:api.utils:Upload 78% complete for prostate_beta_files.zip\n",
      "INFO:api.utils:Upload 78% complete for prostate_beta_files.zip\n",
      "INFO:api.utils:Upload 78% complete for prostate_beta_files.zip\n",
      "INFO:api.utils:Upload 79% complete for prostate_beta_files.zip\n",
      "INFO:api.utils:Upload 79% complete for prostate_beta_files.zip\n",
      "INFO:api.utils:Upload 79% complete for prostate_beta_files.zip\n",
      "INFO:api.utils:Upload 79% complete for prostate_beta_files.zip\n",
      "INFO:api.utils:Upload 79% complete for prostate_beta_files.zip\n",
      "INFO:api.utils:Upload 79% complete for prostate_beta_files.zip\n",
      "INFO:api.utils:Upload 79% complete for prostate_beta_files.zip\n",
      "INFO:api.utils:Upload 79% complete for prostate_beta_files.zip\n",
      "INFO:api.utils:Upload 79% complete for prostate_beta_files.zip\n",
      "INFO:api.utils:Upload 79% complete for prostate_beta_files.zip\n",
      "INFO:api.utils:Upload 79% complete for prostate_beta_files.zip\n",
      "INFO:api.utils:Upload 79% complete for prostate_beta_files.zip\n",
      "INFO:api.utils:Upload 80% complete for prostate_beta_files.zip\n",
      "INFO:api.utils:Upload 80% complete for prostate_beta_files.zip\n",
      "INFO:api.utils:Upload 80% complete for prostate_beta_files.zip\n",
      "INFO:api.utils:Upload 80% complete for prostate_beta_files.zip\n",
      "INFO:api.utils:Upload 80% complete for prostate_beta_files.zip\n",
      "INFO:api.utils:Upload 80% complete for prostate_beta_files.zip\n",
      "INFO:api.utils:Upload 80% complete for prostate_beta_files.zip\n",
      "INFO:api.utils:Upload 80% complete for prostate_beta_files.zip\n",
      "INFO:api.utils:Upload 80% complete for prostate_beta_files.zip\n",
      "INFO:api.utils:Upload 80% complete for prostate_beta_files.zip\n",
      "INFO:api.utils:Upload 80% complete for prostate_beta_files.zip\n",
      "INFO:api.utils:Upload 80% complete for prostate_beta_files.zip\n",
      "INFO:api.utils:Upload 81% complete for prostate_beta_files.zip\n",
      "INFO:api.utils:Upload 81% complete for prostate_beta_files.zip\n",
      "INFO:api.utils:Upload 81% complete for prostate_beta_files.zip\n",
      "INFO:api.utils:Upload 81% complete for prostate_beta_files.zip\n",
      "INFO:api.utils:Upload 81% complete for prostate_beta_files.zip\n",
      "INFO:api.utils:Upload 81% complete for prostate_beta_files.zip\n",
      "INFO:api.utils:Upload 81% complete for prostate_beta_files.zip\n",
      "INFO:api.utils:Upload 81% complete for prostate_beta_files.zip\n",
      "INFO:api.utils:Upload 81% complete for prostate_beta_files.zip\n",
      "INFO:api.utils:Upload 81% complete for prostate_beta_files.zip\n",
      "INFO:api.utils:Upload 81% complete for prostate_beta_files.zip\n",
      "INFO:api.utils:Upload 81% complete for prostate_beta_files.zip\n",
      "INFO:api.utils:Upload 81% complete for prostate_beta_files.zip\n",
      "INFO:api.utils:Upload 82% complete for prostate_beta_files.zip\n",
      "INFO:api.utils:Upload 82% complete for prostate_beta_files.zip\n",
      "INFO:api.utils:Upload 82% complete for prostate_beta_files.zip\n",
      "INFO:api.utils:Upload 82% complete for prostate_beta_files.zip\n",
      "INFO:api.utils:Upload 82% complete for prostate_beta_files.zip\n",
      "INFO:api.utils:Upload 82% complete for prostate_beta_files.zip\n",
      "INFO:api.utils:Upload 82% complete for prostate_beta_files.zip\n",
      "INFO:api.utils:Upload 82% complete for prostate_beta_files.zip\n",
      "INFO:api.utils:Upload 82% complete for prostate_beta_files.zip\n",
      "INFO:api.utils:Upload 82% complete for prostate_beta_files.zip\n",
      "INFO:api.utils:Upload 82% complete for prostate_beta_files.zip\n",
      "INFO:api.utils:Upload 82% complete for prostate_beta_files.zip\n",
      "INFO:api.utils:Upload 83% complete for prostate_beta_files.zip\n",
      "INFO:api.utils:Upload 83% complete for prostate_beta_files.zip\n",
      "INFO:api.utils:Upload 83% complete for prostate_beta_files.zip\n",
      "INFO:api.utils:Upload 83% complete for prostate_beta_files.zip\n",
      "INFO:api.utils:Upload 83% complete for prostate_beta_files.zip\n",
      "INFO:api.utils:Upload 83% complete for prostate_beta_files.zip\n",
      "INFO:api.utils:Upload 83% complete for prostate_beta_files.zip\n",
      "INFO:api.utils:Upload 83% complete for prostate_beta_files.zip\n",
      "INFO:api.utils:Upload 83% complete for prostate_beta_files.zip\n",
      "INFO:api.utils:Upload 83% complete for prostate_beta_files.zip\n",
      "INFO:api.utils:Upload 83% complete for prostate_beta_files.zip\n",
      "INFO:api.utils:Upload 83% complete for prostate_beta_files.zip\n",
      "INFO:api.utils:Upload 84% complete for prostate_beta_files.zip\n",
      "INFO:api.utils:Upload 84% complete for prostate_beta_files.zip\n",
      "INFO:api.utils:Upload 84% complete for prostate_beta_files.zip\n",
      "INFO:api.utils:Upload 84% complete for prostate_beta_files.zip\n",
      "INFO:api.utils:Upload 84% complete for prostate_beta_files.zip\n",
      "INFO:api.utils:Upload 84% complete for prostate_beta_files.zip\n",
      "INFO:api.utils:Upload 84% complete for prostate_beta_files.zip\n",
      "INFO:api.utils:Upload 84% complete for prostate_beta_files.zip\n",
      "INFO:api.utils:Upload 84% complete for prostate_beta_files.zip\n",
      "INFO:api.utils:Upload 84% complete for prostate_beta_files.zip\n",
      "INFO:api.utils:Upload 84% complete for prostate_beta_files.zip\n",
      "INFO:api.utils:Upload 84% complete for prostate_beta_files.zip\n",
      "INFO:api.utils:Upload 85% complete for prostate_beta_files.zip\n",
      "INFO:api.utils:Upload 85% complete for prostate_beta_files.zip\n",
      "INFO:api.utils:Upload 85% complete for prostate_beta_files.zip\n",
      "INFO:api.utils:Upload 85% complete for prostate_beta_files.zip\n",
      "INFO:api.utils:Upload 85% complete for prostate_beta_files.zip\n",
      "INFO:api.utils:Upload 85% complete for prostate_beta_files.zip\n",
      "INFO:api.utils:Upload 85% complete for prostate_beta_files.zip\n",
      "INFO:api.utils:Upload 85% complete for prostate_beta_files.zip\n",
      "INFO:api.utils:Upload 85% complete for prostate_beta_files.zip\n",
      "INFO:api.utils:Upload 85% complete for prostate_beta_files.zip\n",
      "INFO:api.utils:Upload 85% complete for prostate_beta_files.zip\n",
      "INFO:api.utils:Upload 85% complete for prostate_beta_files.zip\n",
      "INFO:api.utils:Upload 86% complete for prostate_beta_files.zip\n",
      "INFO:api.utils:Upload 86% complete for prostate_beta_files.zip\n",
      "INFO:api.utils:Upload 86% complete for prostate_beta_files.zip\n",
      "INFO:api.utils:Upload 86% complete for prostate_beta_files.zip\n",
      "INFO:api.utils:Upload 86% complete for prostate_beta_files.zip\n",
      "INFO:api.utils:Upload 86% complete for prostate_beta_files.zip\n",
      "INFO:api.utils:Upload 86% complete for prostate_beta_files.zip\n",
      "INFO:api.utils:Upload 86% complete for prostate_beta_files.zip\n",
      "INFO:api.utils:Upload 86% complete for prostate_beta_files.zip\n",
      "INFO:api.utils:Upload 86% complete for prostate_beta_files.zip\n",
      "INFO:api.utils:Upload 86% complete for prostate_beta_files.zip\n",
      "INFO:api.utils:Upload 86% complete for prostate_beta_files.zip\n",
      "INFO:api.utils:Upload 87% complete for prostate_beta_files.zip\n",
      "INFO:api.utils:Upload 87% complete for prostate_beta_files.zip\n",
      "INFO:api.utils:Upload 87% complete for prostate_beta_files.zip\n",
      "INFO:api.utils:Upload 87% complete for prostate_beta_files.zip\n",
      "INFO:api.utils:Upload 87% complete for prostate_beta_files.zip\n",
      "INFO:api.utils:Upload 87% complete for prostate_beta_files.zip\n",
      "INFO:api.utils:Upload 87% complete for prostate_beta_files.zip\n",
      "INFO:api.utils:Upload 87% complete for prostate_beta_files.zip\n",
      "INFO:api.utils:Upload 87% complete for prostate_beta_files.zip\n",
      "INFO:api.utils:Upload 87% complete for prostate_beta_files.zip\n",
      "INFO:api.utils:Upload 87% complete for prostate_beta_files.zip\n",
      "INFO:api.utils:Upload 87% complete for prostate_beta_files.zip\n",
      "INFO:api.utils:Upload 87% complete for prostate_beta_files.zip\n",
      "INFO:api.utils:Upload 88% complete for prostate_beta_files.zip\n",
      "INFO:api.utils:Upload 88% complete for prostate_beta_files.zip\n",
      "INFO:api.utils:Upload 88% complete for prostate_beta_files.zip\n",
      "INFO:api.utils:Upload 88% complete for prostate_beta_files.zip\n",
      "INFO:api.utils:Upload 88% complete for prostate_beta_files.zip\n",
      "INFO:api.utils:Upload 88% complete for prostate_beta_files.zip\n",
      "INFO:api.utils:Upload 88% complete for prostate_beta_files.zip\n",
      "INFO:api.utils:Upload 88% complete for prostate_beta_files.zip\n",
      "INFO:api.utils:Upload 88% complete for prostate_beta_files.zip\n",
      "INFO:api.utils:Upload 88% complete for prostate_beta_files.zip\n",
      "INFO:api.utils:Upload 88% complete for prostate_beta_files.zip\n",
      "INFO:api.utils:Upload 88% complete for prostate_beta_files.zip\n",
      "INFO:api.utils:Upload 89% complete for prostate_beta_files.zip\n",
      "INFO:api.utils:Upload 89% complete for prostate_beta_files.zip\n",
      "INFO:api.utils:Upload 89% complete for prostate_beta_files.zip\n",
      "INFO:api.utils:Upload 89% complete for prostate_beta_files.zip\n",
      "INFO:api.utils:Upload 89% complete for prostate_beta_files.zip\n",
      "INFO:api.utils:Upload 89% complete for prostate_beta_files.zip\n",
      "INFO:api.utils:Upload 89% complete for prostate_beta_files.zip\n",
      "INFO:api.utils:Upload 89% complete for prostate_beta_files.zip\n",
      "INFO:api.utils:Upload 89% complete for prostate_beta_files.zip\n",
      "INFO:api.utils:Upload 89% complete for prostate_beta_files.zip\n",
      "INFO:api.utils:Upload 89% complete for prostate_beta_files.zip\n",
      "INFO:api.utils:Upload 89% complete for prostate_beta_files.zip\n",
      "INFO:api.utils:Upload 90% complete for prostate_beta_files.zip\n",
      "INFO:api.utils:Upload 90% complete for prostate_beta_files.zip\n",
      "INFO:api.utils:Upload 90% complete for prostate_beta_files.zip\n",
      "INFO:api.utils:Upload 90% complete for prostate_beta_files.zip\n",
      "INFO:api.utils:Upload 90% complete for prostate_beta_files.zip\n",
      "INFO:api.utils:Upload 90% complete for prostate_beta_files.zip\n",
      "INFO:api.utils:Upload 90% complete for prostate_beta_files.zip\n",
      "INFO:api.utils:Upload 90% complete for prostate_beta_files.zip\n",
      "INFO:api.utils:Upload 90% complete for prostate_beta_files.zip\n",
      "INFO:api.utils:Upload 90% complete for prostate_beta_files.zip\n",
      "INFO:api.utils:Upload 90% complete for prostate_beta_files.zip\n",
      "INFO:api.utils:Upload 90% complete for prostate_beta_files.zip\n",
      "INFO:api.utils:Upload 91% complete for prostate_beta_files.zip\n",
      "INFO:api.utils:Upload 91% complete for prostate_beta_files.zip\n",
      "INFO:api.utils:Upload 91% complete for prostate_beta_files.zip\n",
      "INFO:api.utils:Upload 91% complete for prostate_beta_files.zip\n",
      "INFO:api.utils:Upload 91% complete for prostate_beta_files.zip\n",
      "INFO:api.utils:Upload 91% complete for prostate_beta_files.zip\n",
      "INFO:api.utils:Upload 91% complete for prostate_beta_files.zip\n",
      "INFO:api.utils:Upload 91% complete for prostate_beta_files.zip\n",
      "INFO:api.utils:Upload 91% complete for prostate_beta_files.zip\n",
      "INFO:api.utils:Upload 91% complete for prostate_beta_files.zip\n",
      "INFO:api.utils:Upload 91% complete for prostate_beta_files.zip\n",
      "INFO:api.utils:Upload 91% complete for prostate_beta_files.zip\n",
      "INFO:api.utils:Upload 92% complete for prostate_beta_files.zip\n",
      "INFO:api.utils:Upload 92% complete for prostate_beta_files.zip\n",
      "INFO:api.utils:Upload 92% complete for prostate_beta_files.zip\n",
      "INFO:api.utils:Upload 92% complete for prostate_beta_files.zip\n",
      "INFO:api.utils:Upload 92% complete for prostate_beta_files.zip\n",
      "INFO:api.utils:Upload 92% complete for prostate_beta_files.zip\n",
      "INFO:api.utils:Upload 92% complete for prostate_beta_files.zip\n",
      "INFO:api.utils:Upload 92% complete for prostate_beta_files.zip\n",
      "INFO:api.utils:Upload 92% complete for prostate_beta_files.zip\n",
      "INFO:api.utils:Upload 92% complete for prostate_beta_files.zip\n",
      "INFO:api.utils:Upload 92% complete for prostate_beta_files.zip\n",
      "INFO:api.utils:Upload 92% complete for prostate_beta_files.zip\n",
      "INFO:api.utils:Upload 93% complete for prostate_beta_files.zip\n",
      "INFO:api.utils:Upload 93% complete for prostate_beta_files.zip\n",
      "INFO:api.utils:Upload 93% complete for prostate_beta_files.zip\n",
      "INFO:api.utils:Upload 93% complete for prostate_beta_files.zip\n",
      "INFO:api.utils:Upload 93% complete for prostate_beta_files.zip\n",
      "INFO:api.utils:Upload 93% complete for prostate_beta_files.zip\n",
      "INFO:api.utils:Upload 93% complete for prostate_beta_files.zip\n",
      "INFO:api.utils:Upload 93% complete for prostate_beta_files.zip\n",
      "INFO:api.utils:Upload 93% complete for prostate_beta_files.zip\n",
      "INFO:api.utils:Upload 93% complete for prostate_beta_files.zip\n",
      "INFO:api.utils:Upload 93% complete for prostate_beta_files.zip\n",
      "INFO:api.utils:Upload 93% complete for prostate_beta_files.zip\n",
      "INFO:api.utils:Upload 93% complete for prostate_beta_files.zip\n",
      "INFO:api.utils:Upload 94% complete for prostate_beta_files.zip\n",
      "INFO:api.utils:Upload 94% complete for prostate_beta_files.zip\n",
      "INFO:api.utils:Upload 94% complete for prostate_beta_files.zip\n",
      "INFO:api.utils:Upload 94% complete for prostate_beta_files.zip\n",
      "INFO:api.utils:Upload 94% complete for prostate_beta_files.zip\n",
      "INFO:api.utils:Upload 94% complete for prostate_beta_files.zip\n",
      "INFO:api.utils:Upload 94% complete for prostate_beta_files.zip\n",
      "INFO:api.utils:Upload 94% complete for prostate_beta_files.zip\n",
      "INFO:api.utils:Upload 94% complete for prostate_beta_files.zip\n",
      "INFO:api.utils:Upload 94% complete for prostate_beta_files.zip\n",
      "INFO:api.utils:Upload 94% complete for prostate_beta_files.zip\n",
      "INFO:api.utils:Upload 94% complete for prostate_beta_files.zip\n",
      "INFO:api.utils:Upload 95% complete for prostate_beta_files.zip\n",
      "INFO:api.utils:Upload 95% complete for prostate_beta_files.zip\n",
      "INFO:api.utils:Upload 95% complete for prostate_beta_files.zip\n",
      "INFO:api.utils:Upload 95% complete for prostate_beta_files.zip\n",
      "INFO:api.utils:Upload 95% complete for prostate_beta_files.zip\n",
      "INFO:api.utils:Upload 95% complete for prostate_beta_files.zip\n",
      "INFO:api.utils:Upload 95% complete for prostate_beta_files.zip\n",
      "INFO:api.utils:Upload 95% complete for prostate_beta_files.zip\n",
      "INFO:api.utils:Upload 95% complete for prostate_beta_files.zip\n",
      "INFO:api.utils:Upload 95% complete for prostate_beta_files.zip\n",
      "INFO:api.utils:Upload 95% complete for prostate_beta_files.zip\n",
      "INFO:api.utils:Upload 95% complete for prostate_beta_files.zip\n",
      "INFO:api.utils:Upload 96% complete for prostate_beta_files.zip\n",
      "INFO:api.utils:Upload 96% complete for prostate_beta_files.zip\n",
      "INFO:api.utils:Upload 96% complete for prostate_beta_files.zip\n",
      "INFO:api.utils:Upload 96% complete for prostate_beta_files.zip\n",
      "INFO:api.utils:Upload 96% complete for prostate_beta_files.zip\n",
      "INFO:api.utils:Upload 96% complete for prostate_beta_files.zip\n",
      "INFO:api.utils:Upload 96% complete for prostate_beta_files.zip\n",
      "INFO:api.utils:Upload 96% complete for prostate_beta_files.zip\n",
      "INFO:api.utils:Upload 96% complete for prostate_beta_files.zip\n",
      "INFO:api.utils:Upload 96% complete for prostate_beta_files.zip\n",
      "INFO:api.utils:Upload 96% complete for prostate_beta_files.zip\n",
      "INFO:api.utils:Upload 96% complete for prostate_beta_files.zip\n",
      "INFO:api.utils:Upload 97% complete for prostate_beta_files.zip\n",
      "INFO:api.utils:Upload 97% complete for prostate_beta_files.zip\n",
      "INFO:api.utils:Upload 97% complete for prostate_beta_files.zip\n",
      "INFO:api.utils:Upload 97% complete for prostate_beta_files.zip\n",
      "INFO:api.utils:Upload 97% complete for prostate_beta_files.zip\n",
      "INFO:api.utils:Upload 97% complete for prostate_beta_files.zip\n",
      "INFO:api.utils:Upload 97% complete for prostate_beta_files.zip\n",
      "INFO:api.utils:Upload 97% complete for prostate_beta_files.zip\n",
      "INFO:api.utils:Upload 97% complete for prostate_beta_files.zip\n",
      "INFO:api.utils:Upload 97% complete for prostate_beta_files.zip\n",
      "INFO:api.utils:Upload 97% complete for prostate_beta_files.zip\n",
      "INFO:api.utils:Upload 97% complete for prostate_beta_files.zip\n",
      "INFO:api.utils:Upload 98% complete for prostate_beta_files.zip\n",
      "INFO:api.utils:Upload 98% complete for prostate_beta_files.zip\n",
      "INFO:api.utils:Upload 98% complete for prostate_beta_files.zip\n",
      "INFO:api.utils:Upload 98% complete for prostate_beta_files.zip\n",
      "INFO:api.utils:Upload 98% complete for prostate_beta_files.zip\n",
      "INFO:api.utils:Upload 98% complete for prostate_beta_files.zip\n",
      "INFO:api.utils:Upload 98% complete for prostate_beta_files.zip\n",
      "INFO:api.utils:Upload 98% complete for prostate_beta_files.zip\n",
      "INFO:api.utils:Upload 98% complete for prostate_beta_files.zip\n",
      "INFO:api.utils:Upload 98% complete for prostate_beta_files.zip\n",
      "INFO:api.utils:Upload 98% complete for prostate_beta_files.zip\n",
      "INFO:api.utils:Upload 98% complete for prostate_beta_files.zip\n",
      "INFO:api.utils:Upload 99% complete for prostate_beta_files.zip\n",
      "INFO:api.utils:Upload 99% complete for prostate_beta_files.zip\n",
      "INFO:api.utils:Upload 99% complete for prostate_beta_files.zip\n",
      "INFO:api.utils:Upload 99% complete for prostate_beta_files.zip\n",
      "INFO:api.utils:Upload 99% complete for prostate_beta_files.zip\n",
      "INFO:api.utils:Upload 99% complete for prostate_beta_files.zip\n",
      "INFO:api.utils:Upload 99% complete for prostate_beta_files.zip\n",
      "INFO:api.utils:Upload 99% complete for prostate_beta_files.zip\n",
      "INFO:api.utils:Upload 99% complete for prostate_beta_files.zip\n",
      "INFO:api.utils:Upload 99% complete for prostate_beta_files.zip\n",
      "INFO:api.utils:Upload 99% complete for prostate_beta_files.zip\n",
      "INFO:api.utils:Upload 99% complete for prostate_beta_files.zip\n",
      "INFO:api.utils:Upload 99% complete for prostate_beta_files.zip\n",
      "INFO:api.utils:Uploaded prostate_beta_files.zip with File ID: 1je1B4yopw7zJiSiXlzJmBx2xlcFtU1tk\n",
      "INFO:api.utils:Upload completed successfully. File ID: 1je1B4yopw7zJiSiXlzJmBx2xlcFtU1tk\n"
     ]
    }
   ],
   "source": [
    "utils.run_upload_with_separate_thread(service, directory, zip_filename)"
   ]
  },
  {
   "cell_type": "markdown",
   "metadata": {},
   "source": [
    "### Sec. 1 dbeta calculation\n",
    "#### Summary\n",
    "- calculate the difference of beta value between tumor and normal samples\n",
    "- the output file will have the following format\n",
    "  - column 0 is the id of the sample\n",
    "  - column 1 is the gene name\n",
    "  - column 2 is the difference of beta value between tumor and normal samples\n",
    "\n",
    "### Implementation\n",
    "1. split normal and tumor samples\n",
    "2. remove outliers in normal and tumor samples\n",
    "3. calculate the mean of normal sammples\n",
    "4. tumor - avg(normal)\n",
    "5. calculate the mean of tumor samples\n",
    "6. merge with DMP file\n",
    "7. exclude the genes not in single comorbidity list"
   ]
  },
  {
   "cell_type": "code",
   "execution_count": 43,
   "metadata": {},
   "outputs": [],
   "source": [
    "import gdown"
   ]
  },
  {
   "cell_type": "markdown",
   "metadata": {},
   "source": [
    "##### Lung\n",
    "https://drive.google.com/file/d/1cuKmDUgch4A0ULnj6XfTHuk6u0Xtz_3H/view?usp=sharing\n",
    "##### Rectal\n",
    "https://drive.google.com/file/d/11DZAwbtqVriSN8EhUNhQEEwVyntiycRa/view?usp=sharing\n",
    "##### Stomach\n",
    "https://drive.google.com/file/d/1QBklKEO61ZYqxo-gfjBsWg3mcREsTRc7/view?usp=sharing\n",
    "##### Prostate\n",
    "https://drive.google.com/file/d/1je1B4yopw7zJiSiXlzJmBx2xlcFtU1tk/view?usp=sharing\n",
    "##### Breast\n",
    "tbd"
   ]
  },
  {
   "cell_type": "code",
   "execution_count": 44,
   "metadata": {},
   "outputs": [],
   "source": [
    "url = input()\n",
    "\n",
    "output = 'download.zip'"
   ]
  },
  {
   "cell_type": "code",
   "execution_count": 45,
   "metadata": {},
   "outputs": [
    {
     "name": "stderr",
     "output_type": "stream",
     "text": [
      "D:\\Users\\005535\\AppData\\Local\\Packages\\PythonSoftwareFoundation.Python.3.11_qbz5n2kfra8p0\\LocalCache\\local-packages\\Python311\\site-packages\\gdown\\parse_url.py:48: UserWarning: You specified a Google Drive link that is not the correct link to download a file. You might want to try `--fuzzy` option or the following url: https://drive.google.com/uc?id=1je1B4yopw7zJiSiXlzJmBx2xlcFtU1tk\n",
      "  warnings.warn(\n",
      "Downloading...\n",
      "From: https://drive.google.com/file/d/1je1B4yopw7zJiSiXlzJmBx2xlcFtU1tk/view?usp=sharing\n",
      "To: d:\\pizza6inch\\main_project\\notebooks\\download.zip\n",
      "92.3kB [00:00, 3.83MB/s]\n"
     ]
    },
    {
     "data": {
      "text/plain": [
       "'download.zip'"
      ]
     },
     "execution_count": 45,
     "metadata": {},
     "output_type": "execute_result"
    }
   ],
   "source": [
    "gdown.download(url, output, quiet=False)"
   ]
  },
  {
   "cell_type": "code",
   "execution_count": 46,
   "metadata": {},
   "outputs": [
    {
     "ename": "BadZipFile",
     "evalue": "File is not a zip file",
     "output_type": "error",
     "traceback": [
      "\u001b[1;31m---------------------------------------------------------------------------\u001b[0m",
      "\u001b[1;31mBadZipFile\u001b[0m                                Traceback (most recent call last)",
      "Cell \u001b[1;32mIn[46], line 4\u001b[0m\n\u001b[0;32m      1\u001b[0m \u001b[38;5;28;01mimport\u001b[39;00m \u001b[38;5;21;01mzipfile\u001b[39;00m\n\u001b[0;32m      2\u001b[0m \u001b[38;5;28;01mimport\u001b[39;00m \u001b[38;5;21;01mshutil\u001b[39;00m\n\u001b[1;32m----> 4\u001b[0m \u001b[38;5;28;01mwith\u001b[39;00m \u001b[43mzipfile\u001b[49m\u001b[38;5;241;43m.\u001b[39;49m\u001b[43mZipFile\u001b[49m\u001b[43m(\u001b[49m\u001b[38;5;124;43m\"\u001b[39;49m\u001b[38;5;124;43mdownload.zip\u001b[39;49m\u001b[38;5;124;43m\"\u001b[39;49m\u001b[43m,\u001b[49m\u001b[43m \u001b[49m\u001b[38;5;124;43m\"\u001b[39;49m\u001b[38;5;124;43mr\u001b[39;49m\u001b[38;5;124;43m\"\u001b[39;49m\u001b[43m)\u001b[49m \u001b[38;5;28;01mas\u001b[39;00m zip_ref:\n\u001b[0;32m      5\u001b[0m     zip_ref\u001b[38;5;241m.\u001b[39mextractall(\u001b[38;5;124m\"\u001b[39m\u001b[38;5;124mdownload\u001b[39m\u001b[38;5;124m\"\u001b[39m)\n\u001b[0;32m      7\u001b[0m shutil\u001b[38;5;241m.\u001b[39mmove(\u001b[38;5;124m\"\u001b[39m\u001b[38;5;124mdownload/all_beta_normalized_0.csv\u001b[39m\u001b[38;5;124m\"\u001b[39m, \u001b[38;5;124mf\u001b[39m\u001b[38;5;124m\"\u001b[39m\u001b[38;5;124mall_beta_normalized_0.csv\u001b[39m\u001b[38;5;124m\"\u001b[39m)\n",
      "File \u001b[1;32mC:\\Program Files\\WindowsApps\\PythonSoftwareFoundation.Python.3.11_3.11.2544.0_x64__qbz5n2kfra8p0\\Lib\\zipfile.py:1312\u001b[0m, in \u001b[0;36mZipFile.__init__\u001b[1;34m(self, file, mode, compression, allowZip64, compresslevel, strict_timestamps, metadata_encoding)\u001b[0m\n\u001b[0;32m   1310\u001b[0m \u001b[38;5;28;01mtry\u001b[39;00m:\n\u001b[0;32m   1311\u001b[0m     \u001b[38;5;28;01mif\u001b[39;00m mode \u001b[38;5;241m==\u001b[39m \u001b[38;5;124m'\u001b[39m\u001b[38;5;124mr\u001b[39m\u001b[38;5;124m'\u001b[39m:\n\u001b[1;32m-> 1312\u001b[0m         \u001b[38;5;28;43mself\u001b[39;49m\u001b[38;5;241;43m.\u001b[39;49m\u001b[43m_RealGetContents\u001b[49m\u001b[43m(\u001b[49m\u001b[43m)\u001b[49m\n\u001b[0;32m   1313\u001b[0m     \u001b[38;5;28;01melif\u001b[39;00m mode \u001b[38;5;129;01min\u001b[39;00m (\u001b[38;5;124m'\u001b[39m\u001b[38;5;124mw\u001b[39m\u001b[38;5;124m'\u001b[39m, \u001b[38;5;124m'\u001b[39m\u001b[38;5;124mx\u001b[39m\u001b[38;5;124m'\u001b[39m):\n\u001b[0;32m   1314\u001b[0m         \u001b[38;5;66;03m# set the modified flag so central directory gets written\u001b[39;00m\n\u001b[0;32m   1315\u001b[0m         \u001b[38;5;66;03m# even if no files are added to the archive\u001b[39;00m\n\u001b[0;32m   1316\u001b[0m         \u001b[38;5;28mself\u001b[39m\u001b[38;5;241m.\u001b[39m_didModify \u001b[38;5;241m=\u001b[39m \u001b[38;5;28;01mTrue\u001b[39;00m\n",
      "File \u001b[1;32mC:\\Program Files\\WindowsApps\\PythonSoftwareFoundation.Python.3.11_3.11.2544.0_x64__qbz5n2kfra8p0\\Lib\\zipfile.py:1379\u001b[0m, in \u001b[0;36mZipFile._RealGetContents\u001b[1;34m(self)\u001b[0m\n\u001b[0;32m   1377\u001b[0m     \u001b[38;5;28;01mraise\u001b[39;00m BadZipFile(\u001b[38;5;124m\"\u001b[39m\u001b[38;5;124mFile is not a zip file\u001b[39m\u001b[38;5;124m\"\u001b[39m)\n\u001b[0;32m   1378\u001b[0m \u001b[38;5;28;01mif\u001b[39;00m \u001b[38;5;129;01mnot\u001b[39;00m endrec:\n\u001b[1;32m-> 1379\u001b[0m     \u001b[38;5;28;01mraise\u001b[39;00m BadZipFile(\u001b[38;5;124m\"\u001b[39m\u001b[38;5;124mFile is not a zip file\u001b[39m\u001b[38;5;124m\"\u001b[39m)\n\u001b[0;32m   1380\u001b[0m \u001b[38;5;28;01mif\u001b[39;00m \u001b[38;5;28mself\u001b[39m\u001b[38;5;241m.\u001b[39mdebug \u001b[38;5;241m>\u001b[39m \u001b[38;5;241m1\u001b[39m:\n\u001b[0;32m   1381\u001b[0m     \u001b[38;5;28mprint\u001b[39m(endrec)\n",
      "\u001b[1;31mBadZipFile\u001b[0m: File is not a zip file"
     ]
    }
   ],
   "source": [
    "import zipfile\n",
    "import shutil\n",
    "\n",
    "with zipfile.ZipFile(\"download.zip\", \"r\") as zip_ref:\n",
    "    zip_ref.extractall(\"download\")\n",
    "\n",
    "shutil.move(\"download/all_beta_normalized_0.csv\", f\"all_beta_normalized_0.csv\")\n",
    "shutil.move(\"download/all_beta_normalized_1.csv\", f\"all_beta_normalized_1.csv\")\n",
    "\n",
    "os.remove(\"download.zip\")\n",
    "shutil.rmtree(\"download\")"
   ]
  },
  {
   "cell_type": "code",
   "execution_count": 47,
   "metadata": {},
   "outputs": [],
   "source": [
    "train_df = pd.read_csv(f\"{trainOutPath}/all_beta_normalized_0.csv\")"
   ]
  },
  {
   "cell_type": "code",
   "execution_count": 48,
   "metadata": {},
   "outputs": [],
   "source": [
    "# remove outlier in terms of every column\n",
    "def IQR(df):\n",
    "    Q1 = df.quantile(0.25)\n",
    "    Q3 = df.quantile(0.75)\n",
    "    IQR = Q3 - Q1\n",
    "    upper_fence = Q3 + IQR * 1.5\n",
    "    lower_fence = Q1 - IQR * 1.5\n",
    "    return upper_fence, lower_fence\n",
    "\n",
    "\n",
    "def no_outlier(df):\n",
    "    upper_fence, lower_fence = IQR(df)\n",
    "    ddf = df[(df > lower_fence) & (df < upper_fence)]\n",
    "    return ddf"
   ]
  },
  {
   "cell_type": "code",
   "execution_count": 49,
   "metadata": {},
   "outputs": [],
   "source": [
    "config = load_config(CONFIG_PATH)\n",
    "normal_count = config[\"preprocess\"][\"merge_and_split\"][\"training_class_distribution\"][0]\n",
    "all_beta_normalized_normal = train_df.iloc[:-1, 1 : normal_count + 1 :].T\n",
    "\n",
    "\n",
    "all_beta_normalized_tumor = train_df.iloc[:-1, normal_count + 1 : :].T"
   ]
  },
  {
   "cell_type": "code",
   "execution_count": 50,
   "metadata": {},
   "outputs": [],
   "source": [
    "all_beta_normalized_normal = no_outlier(all_beta_normalized_normal)\n",
    "all_beta_normalized_tumor = no_outlier(all_beta_normalized_tumor)"
   ]
  },
  {
   "cell_type": "code",
   "execution_count": 51,
   "metadata": {},
   "outputs": [],
   "source": [
    "train_normal_avg = all_beta_normalized_normal.mean(skipna=True, axis=0)"
   ]
  },
  {
   "cell_type": "code",
   "execution_count": 52,
   "metadata": {},
   "outputs": [
    {
     "data": {
      "text/plain": [
       "0         0.854507\n",
       "1         0.791627\n",
       "2         0.178304\n",
       "3         0.025882\n",
       "4         0.049921\n",
       "            ...   \n",
       "373335    0.964996\n",
       "373336    0.955585\n",
       "373337    0.223514\n",
       "373338    0.041729\n",
       "373339    0.887818\n",
       "Length: 373340, dtype: float64"
      ]
     },
     "execution_count": 52,
     "metadata": {},
     "output_type": "execute_result"
    }
   ],
   "source": [
    "train_normal_avg"
   ]
  },
  {
   "cell_type": "code",
   "execution_count": 53,
   "metadata": {},
   "outputs": [
    {
     "data": {
      "text/html": [
       "<div>\n",
       "<style scoped>\n",
       "    .dataframe tbody tr th:only-of-type {\n",
       "        vertical-align: middle;\n",
       "    }\n",
       "\n",
       "    .dataframe tbody tr th {\n",
       "        vertical-align: top;\n",
       "    }\n",
       "\n",
       "    .dataframe thead th {\n",
       "        text-align: right;\n",
       "    }\n",
       "</style>\n",
       "<table border=\"1\" class=\"dataframe\">\n",
       "  <thead>\n",
       "    <tr style=\"text-align: right;\">\n",
       "      <th></th>\n",
       "      <th>0</th>\n",
       "      <th>1</th>\n",
       "      <th>2</th>\n",
       "      <th>3</th>\n",
       "      <th>4</th>\n",
       "      <th>5</th>\n",
       "      <th>6</th>\n",
       "      <th>7</th>\n",
       "      <th>8</th>\n",
       "      <th>9</th>\n",
       "      <th>...</th>\n",
       "      <th>373330</th>\n",
       "      <th>373331</th>\n",
       "      <th>373332</th>\n",
       "      <th>373333</th>\n",
       "      <th>373334</th>\n",
       "      <th>373335</th>\n",
       "      <th>373336</th>\n",
       "      <th>373337</th>\n",
       "      <th>373338</th>\n",
       "      <th>373339</th>\n",
       "    </tr>\n",
       "  </thead>\n",
       "  <tbody>\n",
       "    <tr>\n",
       "      <th>401</th>\n",
       "      <td>0.888325</td>\n",
       "      <td>0.832968</td>\n",
       "      <td>0.695411</td>\n",
       "      <td>0.048017</td>\n",
       "      <td>0.727225</td>\n",
       "      <td>0.312515</td>\n",
       "      <td>0.018260</td>\n",
       "      <td>0.518893</td>\n",
       "      <td>0.940338</td>\n",
       "      <td>0.029709</td>\n",
       "      <td>...</td>\n",
       "      <td>0.859779</td>\n",
       "      <td>NaN</td>\n",
       "      <td>0.047253</td>\n",
       "      <td>0.938123</td>\n",
       "      <td>0.171332</td>\n",
       "      <td>0.955816</td>\n",
       "      <td>0.927675</td>\n",
       "      <td>0.578457</td>\n",
       "      <td>0.040895</td>\n",
       "      <td>0.908358</td>\n",
       "    </tr>\n",
       "    <tr>\n",
       "      <th>402</th>\n",
       "      <td>0.879158</td>\n",
       "      <td>0.862857</td>\n",
       "      <td>0.709084</td>\n",
       "      <td>0.035661</td>\n",
       "      <td>0.483589</td>\n",
       "      <td>0.402005</td>\n",
       "      <td>0.015316</td>\n",
       "      <td>0.267226</td>\n",
       "      <td>0.970474</td>\n",
       "      <td>0.024629</td>\n",
       "      <td>...</td>\n",
       "      <td>0.837683</td>\n",
       "      <td>0.022618</td>\n",
       "      <td>0.063714</td>\n",
       "      <td>0.969582</td>\n",
       "      <td>0.428615</td>\n",
       "      <td>0.963958</td>\n",
       "      <td>0.953841</td>\n",
       "      <td>0.671126</td>\n",
       "      <td>0.055974</td>\n",
       "      <td>0.924396</td>\n",
       "    </tr>\n",
       "    <tr>\n",
       "      <th>403</th>\n",
       "      <td>0.888019</td>\n",
       "      <td>0.869937</td>\n",
       "      <td>0.597571</td>\n",
       "      <td>0.036429</td>\n",
       "      <td>0.576867</td>\n",
       "      <td>0.575563</td>\n",
       "      <td>0.005518</td>\n",
       "      <td>0.558326</td>\n",
       "      <td>0.972794</td>\n",
       "      <td>0.020674</td>\n",
       "      <td>...</td>\n",
       "      <td>0.807002</td>\n",
       "      <td>0.033350</td>\n",
       "      <td>NaN</td>\n",
       "      <td>0.970555</td>\n",
       "      <td>0.393869</td>\n",
       "      <td>0.971233</td>\n",
       "      <td>0.963400</td>\n",
       "      <td>0.507865</td>\n",
       "      <td>0.047907</td>\n",
       "      <td>0.882344</td>\n",
       "    </tr>\n",
       "    <tr>\n",
       "      <th>404</th>\n",
       "      <td>0.842255</td>\n",
       "      <td>0.721084</td>\n",
       "      <td>0.307624</td>\n",
       "      <td>0.019180</td>\n",
       "      <td>0.297014</td>\n",
       "      <td>0.393510</td>\n",
       "      <td>0.011936</td>\n",
       "      <td>0.180016</td>\n",
       "      <td>0.942302</td>\n",
       "      <td>0.013034</td>\n",
       "      <td>...</td>\n",
       "      <td>0.639844</td>\n",
       "      <td>0.022981</td>\n",
       "      <td>0.039782</td>\n",
       "      <td>0.960157</td>\n",
       "      <td>0.628780</td>\n",
       "      <td>0.957418</td>\n",
       "      <td>0.910309</td>\n",
       "      <td>0.346398</td>\n",
       "      <td>0.035977</td>\n",
       "      <td>0.850335</td>\n",
       "    </tr>\n",
       "    <tr>\n",
       "      <th>405</th>\n",
       "      <td>0.891527</td>\n",
       "      <td>0.862903</td>\n",
       "      <td>0.530659</td>\n",
       "      <td>0.044347</td>\n",
       "      <td>0.418598</td>\n",
       "      <td>0.461024</td>\n",
       "      <td>0.009242</td>\n",
       "      <td>0.475367</td>\n",
       "      <td>0.957992</td>\n",
       "      <td>0.024730</td>\n",
       "      <td>...</td>\n",
       "      <td>0.807450</td>\n",
       "      <td>0.029601</td>\n",
       "      <td>0.049552</td>\n",
       "      <td>0.984605</td>\n",
       "      <td>0.671491</td>\n",
       "      <td>0.964492</td>\n",
       "      <td>0.949156</td>\n",
       "      <td>0.489872</td>\n",
       "      <td>0.029529</td>\n",
       "      <td>0.890880</td>\n",
       "    </tr>\n",
       "    <tr>\n",
       "      <th>...</th>\n",
       "      <td>...</td>\n",
       "      <td>...</td>\n",
       "      <td>...</td>\n",
       "      <td>...</td>\n",
       "      <td>...</td>\n",
       "      <td>...</td>\n",
       "      <td>...</td>\n",
       "      <td>...</td>\n",
       "      <td>...</td>\n",
       "      <td>...</td>\n",
       "      <td>...</td>\n",
       "      <td>...</td>\n",
       "      <td>...</td>\n",
       "      <td>...</td>\n",
       "      <td>...</td>\n",
       "      <td>...</td>\n",
       "      <td>...</td>\n",
       "      <td>...</td>\n",
       "      <td>...</td>\n",
       "      <td>...</td>\n",
       "      <td>...</td>\n",
       "    </tr>\n",
       "    <tr>\n",
       "      <th>797</th>\n",
       "      <td>0.867909</td>\n",
       "      <td>0.843404</td>\n",
       "      <td>0.333855</td>\n",
       "      <td>0.061649</td>\n",
       "      <td>0.259972</td>\n",
       "      <td>0.642128</td>\n",
       "      <td>0.021148</td>\n",
       "      <td>0.387123</td>\n",
       "      <td>0.963479</td>\n",
       "      <td>0.033045</td>\n",
       "      <td>...</td>\n",
       "      <td>0.649792</td>\n",
       "      <td>0.038908</td>\n",
       "      <td>0.092662</td>\n",
       "      <td>0.958811</td>\n",
       "      <td>0.616285</td>\n",
       "      <td>0.942673</td>\n",
       "      <td>0.954252</td>\n",
       "      <td>0.473129</td>\n",
       "      <td>NaN</td>\n",
       "      <td>0.911328</td>\n",
       "    </tr>\n",
       "    <tr>\n",
       "      <th>798</th>\n",
       "      <td>0.846249</td>\n",
       "      <td>0.712787</td>\n",
       "      <td>0.390848</td>\n",
       "      <td>0.031211</td>\n",
       "      <td>0.272155</td>\n",
       "      <td>0.229669</td>\n",
       "      <td>0.012468</td>\n",
       "      <td>0.233090</td>\n",
       "      <td>0.960263</td>\n",
       "      <td>0.025211</td>\n",
       "      <td>...</td>\n",
       "      <td>0.797244</td>\n",
       "      <td>0.026163</td>\n",
       "      <td>0.073446</td>\n",
       "      <td>0.949240</td>\n",
       "      <td>0.667904</td>\n",
       "      <td>0.938267</td>\n",
       "      <td>0.886726</td>\n",
       "      <td>0.381828</td>\n",
       "      <td>0.027678</td>\n",
       "      <td>NaN</td>\n",
       "    </tr>\n",
       "    <tr>\n",
       "      <th>799</th>\n",
       "      <td>0.906945</td>\n",
       "      <td>0.919743</td>\n",
       "      <td>0.625366</td>\n",
       "      <td>0.027937</td>\n",
       "      <td>0.366524</td>\n",
       "      <td>0.798170</td>\n",
       "      <td>0.013077</td>\n",
       "      <td>0.138306</td>\n",
       "      <td>0.972448</td>\n",
       "      <td>0.021659</td>\n",
       "      <td>...</td>\n",
       "      <td>0.777234</td>\n",
       "      <td>0.035095</td>\n",
       "      <td>0.043318</td>\n",
       "      <td>0.948648</td>\n",
       "      <td>0.238429</td>\n",
       "      <td>0.960682</td>\n",
       "      <td>0.952598</td>\n",
       "      <td>0.624767</td>\n",
       "      <td>0.026869</td>\n",
       "      <td>0.907069</td>\n",
       "    </tr>\n",
       "    <tr>\n",
       "      <th>800</th>\n",
       "      <td>0.831055</td>\n",
       "      <td>0.823128</td>\n",
       "      <td>0.119337</td>\n",
       "      <td>0.028180</td>\n",
       "      <td>0.504806</td>\n",
       "      <td>0.592392</td>\n",
       "      <td>0.014958</td>\n",
       "      <td>0.226216</td>\n",
       "      <td>0.964566</td>\n",
       "      <td>0.025649</td>\n",
       "      <td>...</td>\n",
       "      <td>0.756582</td>\n",
       "      <td>0.023916</td>\n",
       "      <td>0.045202</td>\n",
       "      <td>0.973502</td>\n",
       "      <td>0.317561</td>\n",
       "      <td>0.928408</td>\n",
       "      <td>0.948711</td>\n",
       "      <td>0.396211</td>\n",
       "      <td>0.048471</td>\n",
       "      <td>0.888137</td>\n",
       "    </tr>\n",
       "    <tr>\n",
       "      <th>801</th>\n",
       "      <td>0.874194</td>\n",
       "      <td>0.898549</td>\n",
       "      <td>0.398857</td>\n",
       "      <td>0.020607</td>\n",
       "      <td>0.050160</td>\n",
       "      <td>0.760982</td>\n",
       "      <td>0.011427</td>\n",
       "      <td>0.215980</td>\n",
       "      <td>0.946351</td>\n",
       "      <td>0.010709</td>\n",
       "      <td>...</td>\n",
       "      <td>0.859529</td>\n",
       "      <td>NaN</td>\n",
       "      <td>0.068077</td>\n",
       "      <td>0.948688</td>\n",
       "      <td>0.394797</td>\n",
       "      <td>0.964447</td>\n",
       "      <td>0.956472</td>\n",
       "      <td>0.398151</td>\n",
       "      <td>0.054754</td>\n",
       "      <td>0.807358</td>\n",
       "    </tr>\n",
       "  </tbody>\n",
       "</table>\n",
       "<p>401 rows × 373340 columns</p>\n",
       "</div>"
      ],
      "text/plain": [
       "       0         1         2         3         4         5         6       \\\n",
       "401  0.888325  0.832968  0.695411  0.048017  0.727225  0.312515  0.018260   \n",
       "402  0.879158  0.862857  0.709084  0.035661  0.483589  0.402005  0.015316   \n",
       "403  0.888019  0.869937  0.597571  0.036429  0.576867  0.575563  0.005518   \n",
       "404  0.842255  0.721084  0.307624  0.019180  0.297014  0.393510  0.011936   \n",
       "405  0.891527  0.862903  0.530659  0.044347  0.418598  0.461024  0.009242   \n",
       "..        ...       ...       ...       ...       ...       ...       ...   \n",
       "797  0.867909  0.843404  0.333855  0.061649  0.259972  0.642128  0.021148   \n",
       "798  0.846249  0.712787  0.390848  0.031211  0.272155  0.229669  0.012468   \n",
       "799  0.906945  0.919743  0.625366  0.027937  0.366524  0.798170  0.013077   \n",
       "800  0.831055  0.823128  0.119337  0.028180  0.504806  0.592392  0.014958   \n",
       "801  0.874194  0.898549  0.398857  0.020607  0.050160  0.760982  0.011427   \n",
       "\n",
       "       7         8         9       ...    373330    373331    373332  \\\n",
       "401  0.518893  0.940338  0.029709  ...  0.859779       NaN  0.047253   \n",
       "402  0.267226  0.970474  0.024629  ...  0.837683  0.022618  0.063714   \n",
       "403  0.558326  0.972794  0.020674  ...  0.807002  0.033350       NaN   \n",
       "404  0.180016  0.942302  0.013034  ...  0.639844  0.022981  0.039782   \n",
       "405  0.475367  0.957992  0.024730  ...  0.807450  0.029601  0.049552   \n",
       "..        ...       ...       ...  ...       ...       ...       ...   \n",
       "797  0.387123  0.963479  0.033045  ...  0.649792  0.038908  0.092662   \n",
       "798  0.233090  0.960263  0.025211  ...  0.797244  0.026163  0.073446   \n",
       "799  0.138306  0.972448  0.021659  ...  0.777234  0.035095  0.043318   \n",
       "800  0.226216  0.964566  0.025649  ...  0.756582  0.023916  0.045202   \n",
       "801  0.215980  0.946351  0.010709  ...  0.859529       NaN  0.068077   \n",
       "\n",
       "       373333    373334    373335    373336    373337    373338    373339  \n",
       "401  0.938123  0.171332  0.955816  0.927675  0.578457  0.040895  0.908358  \n",
       "402  0.969582  0.428615  0.963958  0.953841  0.671126  0.055974  0.924396  \n",
       "403  0.970555  0.393869  0.971233  0.963400  0.507865  0.047907  0.882344  \n",
       "404  0.960157  0.628780  0.957418  0.910309  0.346398  0.035977  0.850335  \n",
       "405  0.984605  0.671491  0.964492  0.949156  0.489872  0.029529  0.890880  \n",
       "..        ...       ...       ...       ...       ...       ...       ...  \n",
       "797  0.958811  0.616285  0.942673  0.954252  0.473129       NaN  0.911328  \n",
       "798  0.949240  0.667904  0.938267  0.886726  0.381828  0.027678       NaN  \n",
       "799  0.948648  0.238429  0.960682  0.952598  0.624767  0.026869  0.907069  \n",
       "800  0.973502  0.317561  0.928408  0.948711  0.396211  0.048471  0.888137  \n",
       "801  0.948688  0.394797  0.964447  0.956472  0.398151  0.054754  0.807358  \n",
       "\n",
       "[401 rows x 373340 columns]"
      ]
     },
     "execution_count": 53,
     "metadata": {},
     "output_type": "execute_result"
    }
   ],
   "source": [
    "all_beta_normalized_tumor"
   ]
  },
  {
   "cell_type": "code",
   "execution_count": 54,
   "metadata": {},
   "outputs": [],
   "source": [
    "all_beta_normalized_tumor = all_beta_normalized_tumor.subtract(\n",
    "    train_normal_avg, axis=1\n",
    ")"
   ]
  },
  {
   "cell_type": "code",
   "execution_count": 55,
   "metadata": {},
   "outputs": [],
   "source": [
    "all_beta_normalized_tumor = no_outlier(all_beta_normalized_tumor)"
   ]
  },
  {
   "cell_type": "code",
   "execution_count": 56,
   "metadata": {},
   "outputs": [
    {
     "data": {
      "text/html": [
       "<div>\n",
       "<style scoped>\n",
       "    .dataframe tbody tr th:only-of-type {\n",
       "        vertical-align: middle;\n",
       "    }\n",
       "\n",
       "    .dataframe tbody tr th {\n",
       "        vertical-align: top;\n",
       "    }\n",
       "\n",
       "    .dataframe thead th {\n",
       "        text-align: right;\n",
       "    }\n",
       "</style>\n",
       "<table border=\"1\" class=\"dataframe\">\n",
       "  <thead>\n",
       "    <tr style=\"text-align: right;\">\n",
       "      <th></th>\n",
       "      <th>0</th>\n",
       "      <th>1</th>\n",
       "      <th>2</th>\n",
       "      <th>3</th>\n",
       "      <th>4</th>\n",
       "      <th>5</th>\n",
       "      <th>6</th>\n",
       "      <th>7</th>\n",
       "      <th>8</th>\n",
       "      <th>9</th>\n",
       "      <th>...</th>\n",
       "      <th>373330</th>\n",
       "      <th>373331</th>\n",
       "      <th>373332</th>\n",
       "      <th>373333</th>\n",
       "      <th>373334</th>\n",
       "      <th>373335</th>\n",
       "      <th>373336</th>\n",
       "      <th>373337</th>\n",
       "      <th>373338</th>\n",
       "      <th>373339</th>\n",
       "    </tr>\n",
       "  </thead>\n",
       "  <tbody>\n",
       "    <tr>\n",
       "      <th>401</th>\n",
       "      <td>0.033817</td>\n",
       "      <td>0.041340</td>\n",
       "      <td>0.517107</td>\n",
       "      <td>0.022135</td>\n",
       "      <td>0.677304</td>\n",
       "      <td>-0.211210</td>\n",
       "      <td>0.006249</td>\n",
       "      <td>0.247649</td>\n",
       "      <td>-0.020166</td>\n",
       "      <td>0.006709</td>\n",
       "      <td>...</td>\n",
       "      <td>0.270256</td>\n",
       "      <td>NaN</td>\n",
       "      <td>-0.003689</td>\n",
       "      <td>-0.031371</td>\n",
       "      <td>-0.394612</td>\n",
       "      <td>-0.009180</td>\n",
       "      <td>-0.027910</td>\n",
       "      <td>0.354943</td>\n",
       "      <td>-0.000834</td>\n",
       "      <td>0.020540</td>\n",
       "    </tr>\n",
       "    <tr>\n",
       "      <th>402</th>\n",
       "      <td>0.024651</td>\n",
       "      <td>0.071229</td>\n",
       "      <td>0.530781</td>\n",
       "      <td>0.009779</td>\n",
       "      <td>0.433668</td>\n",
       "      <td>-0.121719</td>\n",
       "      <td>0.003305</td>\n",
       "      <td>-0.004018</td>\n",
       "      <td>0.009969</td>\n",
       "      <td>0.001630</td>\n",
       "      <td>...</td>\n",
       "      <td>0.248161</td>\n",
       "      <td>-0.004729</td>\n",
       "      <td>0.012772</td>\n",
       "      <td>0.000088</td>\n",
       "      <td>-0.137329</td>\n",
       "      <td>-0.001038</td>\n",
       "      <td>-0.001744</td>\n",
       "      <td>0.447611</td>\n",
       "      <td>0.014246</td>\n",
       "      <td>0.036578</td>\n",
       "    </tr>\n",
       "    <tr>\n",
       "      <th>403</th>\n",
       "      <td>0.033512</td>\n",
       "      <td>0.078310</td>\n",
       "      <td>0.419268</td>\n",
       "      <td>0.010547</td>\n",
       "      <td>0.526946</td>\n",
       "      <td>0.051839</td>\n",
       "      <td>-0.006493</td>\n",
       "      <td>0.287082</td>\n",
       "      <td>0.012290</td>\n",
       "      <td>-0.002325</td>\n",
       "      <td>...</td>\n",
       "      <td>0.217479</td>\n",
       "      <td>0.006004</td>\n",
       "      <td>NaN</td>\n",
       "      <td>0.001060</td>\n",
       "      <td>-0.172075</td>\n",
       "      <td>0.006237</td>\n",
       "      <td>0.007815</td>\n",
       "      <td>0.284351</td>\n",
       "      <td>0.006178</td>\n",
       "      <td>-0.005474</td>\n",
       "    </tr>\n",
       "    <tr>\n",
       "      <th>404</th>\n",
       "      <td>-0.012253</td>\n",
       "      <td>-0.070544</td>\n",
       "      <td>0.129321</td>\n",
       "      <td>-0.006702</td>\n",
       "      <td>0.247093</td>\n",
       "      <td>-0.130215</td>\n",
       "      <td>-0.000075</td>\n",
       "      <td>-0.091228</td>\n",
       "      <td>-0.018202</td>\n",
       "      <td>-0.009965</td>\n",
       "      <td>...</td>\n",
       "      <td>0.050321</td>\n",
       "      <td>-0.004366</td>\n",
       "      <td>-0.011160</td>\n",
       "      <td>-0.009338</td>\n",
       "      <td>0.062836</td>\n",
       "      <td>-0.007578</td>\n",
       "      <td>-0.045276</td>\n",
       "      <td>0.122884</td>\n",
       "      <td>-0.005751</td>\n",
       "      <td>-0.037483</td>\n",
       "    </tr>\n",
       "    <tr>\n",
       "      <th>405</th>\n",
       "      <td>0.037019</td>\n",
       "      <td>0.071276</td>\n",
       "      <td>0.352355</td>\n",
       "      <td>0.018465</td>\n",
       "      <td>0.368677</td>\n",
       "      <td>-0.062700</td>\n",
       "      <td>-0.002769</td>\n",
       "      <td>0.204123</td>\n",
       "      <td>-0.002512</td>\n",
       "      <td>0.001731</td>\n",
       "      <td>...</td>\n",
       "      <td>0.217927</td>\n",
       "      <td>0.002255</td>\n",
       "      <td>-0.001389</td>\n",
       "      <td>0.015111</td>\n",
       "      <td>0.105547</td>\n",
       "      <td>-0.000504</td>\n",
       "      <td>-0.006428</td>\n",
       "      <td>0.266358</td>\n",
       "      <td>-0.012200</td>\n",
       "      <td>0.003062</td>\n",
       "    </tr>\n",
       "    <tr>\n",
       "      <th>...</th>\n",
       "      <td>...</td>\n",
       "      <td>...</td>\n",
       "      <td>...</td>\n",
       "      <td>...</td>\n",
       "      <td>...</td>\n",
       "      <td>...</td>\n",
       "      <td>...</td>\n",
       "      <td>...</td>\n",
       "      <td>...</td>\n",
       "      <td>...</td>\n",
       "      <td>...</td>\n",
       "      <td>...</td>\n",
       "      <td>...</td>\n",
       "      <td>...</td>\n",
       "      <td>...</td>\n",
       "      <td>...</td>\n",
       "      <td>...</td>\n",
       "      <td>...</td>\n",
       "      <td>...</td>\n",
       "      <td>...</td>\n",
       "      <td>...</td>\n",
       "    </tr>\n",
       "    <tr>\n",
       "      <th>797</th>\n",
       "      <td>0.013401</td>\n",
       "      <td>0.051777</td>\n",
       "      <td>0.155551</td>\n",
       "      <td>NaN</td>\n",
       "      <td>0.210052</td>\n",
       "      <td>0.118404</td>\n",
       "      <td>0.009137</td>\n",
       "      <td>0.115879</td>\n",
       "      <td>0.002974</td>\n",
       "      <td>0.010046</td>\n",
       "      <td>...</td>\n",
       "      <td>0.060269</td>\n",
       "      <td>0.011561</td>\n",
       "      <td>0.041721</td>\n",
       "      <td>-0.010683</td>\n",
       "      <td>0.050341</td>\n",
       "      <td>-0.022323</td>\n",
       "      <td>-0.001333</td>\n",
       "      <td>0.249614</td>\n",
       "      <td>NaN</td>\n",
       "      <td>0.023510</td>\n",
       "    </tr>\n",
       "    <tr>\n",
       "      <th>798</th>\n",
       "      <td>-0.008259</td>\n",
       "      <td>-0.078840</td>\n",
       "      <td>0.212544</td>\n",
       "      <td>0.005330</td>\n",
       "      <td>0.222235</td>\n",
       "      <td>-0.294056</td>\n",
       "      <td>0.000457</td>\n",
       "      <td>-0.038154</td>\n",
       "      <td>-0.000241</td>\n",
       "      <td>0.002212</td>\n",
       "      <td>...</td>\n",
       "      <td>0.207721</td>\n",
       "      <td>-0.001184</td>\n",
       "      <td>0.022504</td>\n",
       "      <td>-0.020255</td>\n",
       "      <td>0.101960</td>\n",
       "      <td>-0.026729</td>\n",
       "      <td>NaN</td>\n",
       "      <td>0.158313</td>\n",
       "      <td>-0.014051</td>\n",
       "      <td>NaN</td>\n",
       "    </tr>\n",
       "    <tr>\n",
       "      <th>799</th>\n",
       "      <td>0.052438</td>\n",
       "      <td>0.128115</td>\n",
       "      <td>0.447063</td>\n",
       "      <td>0.002055</td>\n",
       "      <td>0.316603</td>\n",
       "      <td>0.274445</td>\n",
       "      <td>0.001066</td>\n",
       "      <td>-0.132938</td>\n",
       "      <td>0.011944</td>\n",
       "      <td>-0.001340</td>\n",
       "      <td>...</td>\n",
       "      <td>0.187711</td>\n",
       "      <td>0.007748</td>\n",
       "      <td>-0.007624</td>\n",
       "      <td>-0.020847</td>\n",
       "      <td>-0.327515</td>\n",
       "      <td>-0.004314</td>\n",
       "      <td>-0.002986</td>\n",
       "      <td>0.401253</td>\n",
       "      <td>-0.014860</td>\n",
       "      <td>0.019251</td>\n",
       "    </tr>\n",
       "    <tr>\n",
       "      <th>800</th>\n",
       "      <td>-0.023452</td>\n",
       "      <td>0.031500</td>\n",
       "      <td>-0.058967</td>\n",
       "      <td>0.002298</td>\n",
       "      <td>0.454885</td>\n",
       "      <td>0.068668</td>\n",
       "      <td>0.002947</td>\n",
       "      <td>-0.045028</td>\n",
       "      <td>0.004062</td>\n",
       "      <td>0.002650</td>\n",
       "      <td>...</td>\n",
       "      <td>0.167059</td>\n",
       "      <td>-0.003431</td>\n",
       "      <td>-0.005739</td>\n",
       "      <td>0.004008</td>\n",
       "      <td>-0.248383</td>\n",
       "      <td>-0.036588</td>\n",
       "      <td>-0.006874</td>\n",
       "      <td>0.172696</td>\n",
       "      <td>0.006742</td>\n",
       "      <td>0.000319</td>\n",
       "    </tr>\n",
       "    <tr>\n",
       "      <th>801</th>\n",
       "      <td>0.019686</td>\n",
       "      <td>0.106922</td>\n",
       "      <td>0.220554</td>\n",
       "      <td>-0.005275</td>\n",
       "      <td>0.000239</td>\n",
       "      <td>0.237258</td>\n",
       "      <td>-0.000584</td>\n",
       "      <td>-0.055264</td>\n",
       "      <td>-0.014153</td>\n",
       "      <td>-0.012291</td>\n",
       "      <td>...</td>\n",
       "      <td>0.270006</td>\n",
       "      <td>NaN</td>\n",
       "      <td>0.017136</td>\n",
       "      <td>-0.020806</td>\n",
       "      <td>-0.171147</td>\n",
       "      <td>-0.000549</td>\n",
       "      <td>0.000887</td>\n",
       "      <td>0.174637</td>\n",
       "      <td>0.013025</td>\n",
       "      <td>-0.080460</td>\n",
       "    </tr>\n",
       "  </tbody>\n",
       "</table>\n",
       "<p>401 rows × 373340 columns</p>\n",
       "</div>"
      ],
      "text/plain": [
       "       0         1         2         3         4         5         6       \\\n",
       "401  0.033817  0.041340  0.517107  0.022135  0.677304 -0.211210  0.006249   \n",
       "402  0.024651  0.071229  0.530781  0.009779  0.433668 -0.121719  0.003305   \n",
       "403  0.033512  0.078310  0.419268  0.010547  0.526946  0.051839 -0.006493   \n",
       "404 -0.012253 -0.070544  0.129321 -0.006702  0.247093 -0.130215 -0.000075   \n",
       "405  0.037019  0.071276  0.352355  0.018465  0.368677 -0.062700 -0.002769   \n",
       "..        ...       ...       ...       ...       ...       ...       ...   \n",
       "797  0.013401  0.051777  0.155551       NaN  0.210052  0.118404  0.009137   \n",
       "798 -0.008259 -0.078840  0.212544  0.005330  0.222235 -0.294056  0.000457   \n",
       "799  0.052438  0.128115  0.447063  0.002055  0.316603  0.274445  0.001066   \n",
       "800 -0.023452  0.031500 -0.058967  0.002298  0.454885  0.068668  0.002947   \n",
       "801  0.019686  0.106922  0.220554 -0.005275  0.000239  0.237258 -0.000584   \n",
       "\n",
       "       7         8         9       ...    373330    373331    373332  \\\n",
       "401  0.247649 -0.020166  0.006709  ...  0.270256       NaN -0.003689   \n",
       "402 -0.004018  0.009969  0.001630  ...  0.248161 -0.004729  0.012772   \n",
       "403  0.287082  0.012290 -0.002325  ...  0.217479  0.006004       NaN   \n",
       "404 -0.091228 -0.018202 -0.009965  ...  0.050321 -0.004366 -0.011160   \n",
       "405  0.204123 -0.002512  0.001731  ...  0.217927  0.002255 -0.001389   \n",
       "..        ...       ...       ...  ...       ...       ...       ...   \n",
       "797  0.115879  0.002974  0.010046  ...  0.060269  0.011561  0.041721   \n",
       "798 -0.038154 -0.000241  0.002212  ...  0.207721 -0.001184  0.022504   \n",
       "799 -0.132938  0.011944 -0.001340  ...  0.187711  0.007748 -0.007624   \n",
       "800 -0.045028  0.004062  0.002650  ...  0.167059 -0.003431 -0.005739   \n",
       "801 -0.055264 -0.014153 -0.012291  ...  0.270006       NaN  0.017136   \n",
       "\n",
       "       373333    373334    373335    373336    373337    373338    373339  \n",
       "401 -0.031371 -0.394612 -0.009180 -0.027910  0.354943 -0.000834  0.020540  \n",
       "402  0.000088 -0.137329 -0.001038 -0.001744  0.447611  0.014246  0.036578  \n",
       "403  0.001060 -0.172075  0.006237  0.007815  0.284351  0.006178 -0.005474  \n",
       "404 -0.009338  0.062836 -0.007578 -0.045276  0.122884 -0.005751 -0.037483  \n",
       "405  0.015111  0.105547 -0.000504 -0.006428  0.266358 -0.012200  0.003062  \n",
       "..        ...       ...       ...       ...       ...       ...       ...  \n",
       "797 -0.010683  0.050341 -0.022323 -0.001333  0.249614       NaN  0.023510  \n",
       "798 -0.020255  0.101960 -0.026729       NaN  0.158313 -0.014051       NaN  \n",
       "799 -0.020847 -0.327515 -0.004314 -0.002986  0.401253 -0.014860  0.019251  \n",
       "800  0.004008 -0.248383 -0.036588 -0.006874  0.172696  0.006742  0.000319  \n",
       "801 -0.020806 -0.171147 -0.000549  0.000887  0.174637  0.013025 -0.080460  \n",
       "\n",
       "[401 rows x 373340 columns]"
      ]
     },
     "execution_count": 56,
     "metadata": {},
     "output_type": "execute_result"
    }
   ],
   "source": [
    "all_beta_normalized_tumor"
   ]
  },
  {
   "cell_type": "code",
   "execution_count": 57,
   "metadata": {},
   "outputs": [],
   "source": [
    "train_tumor_mean = all_beta_normalized_tumor.mean(skipna=True, axis=0)"
   ]
  },
  {
   "cell_type": "code",
   "execution_count": 58,
   "metadata": {},
   "outputs": [],
   "source": [
    "delta_beta = pd.merge(\n",
    "    train_df.iloc[:-1, :1],\n",
    "    pd.DataFrame(train_tumor_mean, columns=[\"dbeta\"]),\n",
    "    left_index=True,\n",
    "    right_index=True,\n",
    ")\n",
    "update_nested_toml(\"preprocess.dbeta\", \"delta_beta_avg\", delta_beta.shape[0])"
   ]
  },
  {
   "cell_type": "code",
   "execution_count": 59,
   "metadata": {},
   "outputs": [],
   "source": [
    "# print(delta_beta[pd.isna(delta_beta[\"dbeta\"])])\n",
    "# record the list of feature with dbeta being NaN\n",
    "update_nested_toml(\n",
    "    \"preprocess.dbeta\",\n",
    "    \"NaN_dbeta_feature\",\n",
    "    delta_beta.loc[pd.isna(delta_beta[\"dbeta\"]), \"Unnamed: 0\"].tolist(),\n",
    ")\n",
    "delta_beta.dropna(inplace=True, axis=0)\n",
    "update_nested_toml(\"preprocess.dbeta\", \"delta_beta_avg_remove_NaN\", delta_beta.shape[0])"
   ]
  },
  {
   "cell_type": "code",
   "execution_count": 61,
   "metadata": {},
   "outputs": [],
   "source": [
    "dmp = pd.read_csv(f\"../{TYPE}/champ_result/{data_source}/DMP_result_0.csv\")\n",
    "dmp = dmp[[\"Unnamed: 0\", \"gene\", \"feature\"]]\n",
    "update_nested_toml(\"preprocess.dbeta\", \"dmp_before_dropna_shape_feature\", dmp.shape[0])\n",
    "dmp.dropna(inplace=True)\n",
    "update_nested_toml(\"preprocess.dbeta\", \"dmp_after_dropna_shape_feature\", dmp.shape[0])"
   ]
  },
  {
   "cell_type": "code",
   "execution_count": 62,
   "metadata": {},
   "outputs": [],
   "source": [
    "result = pd.merge(delta_beta, dmp, on=\"Unnamed: 0\", how=\"left\")\n",
    "update_nested_toml(\n",
    "    \"preprocess.dbeta\", \"delta_beta_avg_remove_NaN_with_gene_name\", result.shape[0]\n",
    ")"
   ]
  },
  {
   "cell_type": "code",
   "execution_count": 63,
   "metadata": {},
   "outputs": [],
   "source": [
    "def find_max_dBeta_grouped(group):\n",
    "    idx_max = group[\"dbeta\"].abs().idxmax()\n",
    "    return group.loc[idx_max]\n",
    "\n",
    "\n",
    "dbeta = result.groupby(\"gene\", as_index=False).apply(\n",
    "    find_max_dBeta_grouped, include_groups=False\n",
    ")"
   ]
  },
  {
   "cell_type": "code",
   "execution_count": 64,
   "metadata": {},
   "outputs": [
    {
     "data": {
      "text/html": [
       "<div>\n",
       "<style scoped>\n",
       "    .dataframe tbody tr th:only-of-type {\n",
       "        vertical-align: middle;\n",
       "    }\n",
       "\n",
       "    .dataframe tbody tr th {\n",
       "        vertical-align: top;\n",
       "    }\n",
       "\n",
       "    .dataframe thead th {\n",
       "        text-align: right;\n",
       "    }\n",
       "</style>\n",
       "<table border=\"1\" class=\"dataframe\">\n",
       "  <thead>\n",
       "    <tr style=\"text-align: right;\">\n",
       "      <th></th>\n",
       "      <th>ID</th>\n",
       "      <th>gene</th>\n",
       "      <th>dbeta</th>\n",
       "      <th>feature</th>\n",
       "    </tr>\n",
       "  </thead>\n",
       "  <tbody>\n",
       "    <tr>\n",
       "      <th>0</th>\n",
       "      <td>cg03630821</td>\n",
       "      <td>A1BG</td>\n",
       "      <td>0.122335</td>\n",
       "      <td>Body</td>\n",
       "    </tr>\n",
       "    <tr>\n",
       "      <th>1</th>\n",
       "      <td>cg27394794</td>\n",
       "      <td>A1CF</td>\n",
       "      <td>-0.324511</td>\n",
       "      <td>Body</td>\n",
       "    </tr>\n",
       "    <tr>\n",
       "      <th>2</th>\n",
       "      <td>cg07196505</td>\n",
       "      <td>A2BP1</td>\n",
       "      <td>-0.431728</td>\n",
       "      <td>Body</td>\n",
       "    </tr>\n",
       "    <tr>\n",
       "      <th>3</th>\n",
       "      <td>cg00336946</td>\n",
       "      <td>A2LD1</td>\n",
       "      <td>-0.248725</td>\n",
       "      <td>TSS1500</td>\n",
       "    </tr>\n",
       "    <tr>\n",
       "      <th>4</th>\n",
       "      <td>cg00134295</td>\n",
       "      <td>A2M</td>\n",
       "      <td>-0.187741</td>\n",
       "      <td>TSS1500</td>\n",
       "    </tr>\n",
       "    <tr>\n",
       "      <th>...</th>\n",
       "      <td>...</td>\n",
       "      <td>...</td>\n",
       "      <td>...</td>\n",
       "      <td>...</td>\n",
       "    </tr>\n",
       "    <tr>\n",
       "      <th>18647</th>\n",
       "      <td>cg00692173</td>\n",
       "      <td>ZYG11B</td>\n",
       "      <td>0.171931</td>\n",
       "      <td>Body</td>\n",
       "    </tr>\n",
       "    <tr>\n",
       "      <th>18648</th>\n",
       "      <td>cg18074834</td>\n",
       "      <td>ZYX</td>\n",
       "      <td>0.045219</td>\n",
       "      <td>Body</td>\n",
       "    </tr>\n",
       "    <tr>\n",
       "      <th>18649</th>\n",
       "      <td>cg16463044</td>\n",
       "      <td>ZZEF1</td>\n",
       "      <td>-0.150548</td>\n",
       "      <td>Body</td>\n",
       "    </tr>\n",
       "    <tr>\n",
       "      <th>18650</th>\n",
       "      <td>cg22221847</td>\n",
       "      <td>ZZZ3</td>\n",
       "      <td>-0.028853</td>\n",
       "      <td>3'UTR</td>\n",
       "    </tr>\n",
       "    <tr>\n",
       "      <th>18651</th>\n",
       "      <td>cg20009101</td>\n",
       "      <td>psiTPTE22</td>\n",
       "      <td>0.254932</td>\n",
       "      <td>Body</td>\n",
       "    </tr>\n",
       "  </tbody>\n",
       "</table>\n",
       "<p>18652 rows × 4 columns</p>\n",
       "</div>"
      ],
      "text/plain": [
       "               ID       gene     dbeta  feature\n",
       "0      cg03630821       A1BG  0.122335     Body\n",
       "1      cg27394794       A1CF -0.324511     Body\n",
       "2      cg07196505      A2BP1 -0.431728     Body\n",
       "3      cg00336946      A2LD1 -0.248725  TSS1500\n",
       "4      cg00134295        A2M -0.187741  TSS1500\n",
       "...           ...        ...       ...      ...\n",
       "18647  cg00692173     ZYG11B  0.171931     Body\n",
       "18648  cg18074834        ZYX  0.045219     Body\n",
       "18649  cg16463044      ZZEF1 -0.150548     Body\n",
       "18650  cg22221847       ZZZ3 -0.028853    3'UTR\n",
       "18651  cg20009101  psiTPTE22  0.254932     Body\n",
       "\n",
       "[18652 rows x 4 columns]"
      ]
     },
     "execution_count": 64,
     "metadata": {},
     "output_type": "execute_result"
    }
   ],
   "source": [
    "dbeta.columns = [\"gene\", \"ID\", \"dbeta\", \"feature\"]\n",
    "dbeta = dbeta[[\"ID\", \"gene\", \"dbeta\", \"feature\"]]\n",
    "# DEBUG\n",
    "dbeta\n",
    "# END"
   ]
  },
  {
   "cell_type": "code",
   "execution_count": null,
   "metadata": {},
   "outputs": [],
   "source": [
    "# comorbidity = pd.read_csv(\n",
    "#     \"../external_result/matchgene174_single_3Y10__OR2.txt\", sep=\"\\t\", header=None\n",
    "# )\n",
    "# dbeta = dbeta[\n",
    "#     dbeta[\"gene\"].isin(comorbidity[0])\n",
    "# ]\n",
    "\n",
    "# result_max_per_gene_single"
   ]
  },
  {
   "cell_type": "code",
   "execution_count": 65,
   "metadata": {},
   "outputs": [],
   "source": [
    "dbeta.to_csv(f\"{trainOutPath}/dbeta.csv\", index=False)"
   ]
  },
  {
   "cell_type": "markdown",
   "metadata": {},
   "source": [
    "### Sec. 2 Filter genes by dbeta values\n",
    "1. filter genes by dbeta values\n",
    "3. filter genes by TSS position\n",
    "4. plot distribution of dbeta values\n",
    "5. plot PCA for normal and tumor\n"
   ]
  },
  {
   "cell_type": "code",
   "execution_count": null,
   "metadata": {},
   "outputs": [],
   "source": [
    "# dbeta = pd.read_csv(f\"{trainOutPath}/dbeta.csv\")"
   ]
  },
  {
   "cell_type": "markdown",
   "metadata": {},
   "source": [
    "#### Filtering TSS"
   ]
  },
  {
   "cell_type": "code",
   "execution_count": 66,
   "metadata": {},
   "outputs": [],
   "source": [
    "TSS = dbeta[dbeta[\"feature\"].str.contains(\"TSS\")]"
   ]
  },
  {
   "cell_type": "code",
   "execution_count": 67,
   "metadata": {},
   "outputs": [],
   "source": [
    "TSS.to_csv(f\"{trainOutPath}/dbeta_TSS.csv\", index=False)"
   ]
  },
  {
   "cell_type": "markdown",
   "metadata": {},
   "source": [
    "#### Thresholding"
   ]
  },
  {
   "cell_type": "code",
   "execution_count": 68,
   "metadata": {},
   "outputs": [],
   "source": [
    "threshold = 0.5\n",
    "TSS_threshold = TSS[abs(TSS[\"dbeta\"]) > threshold]\n",
    "while True:\n",
    "    TSS_threshold = TSS[abs(TSS[\"dbeta\"]) > threshold]\n",
    "    count = TSS_threshold.shape[0]\n",
    "    if (\n",
    "        config[\"preprocess\"][\"filtering\"][\"hyper\"][\"avg_dbeta_lower_bound\"]\n",
    "        <= count\n",
    "        <= config[\"preprocess\"][\"filtering\"][\"hyper\"][\"avg_dbeta_upper_bound\"]\n",
    "    ):\n",
    "        break\n",
    "    threshold -= 0.01\n",
    "threshold = round(threshold, 2)\n",
    "update_nested_toml(\"preprocess.filtering\", \"threshold\", threshold)"
   ]
  },
  {
   "cell_type": "code",
   "execution_count": 69,
   "metadata": {},
   "outputs": [],
   "source": [
    "TSS_threshold.to_csv(f\"{trainOutPath}/dbeta_TSS_{threshold}.csv\", index=False)"
   ]
  },
  {
   "cell_type": "markdown",
   "metadata": {},
   "source": [
    "#### Visualization"
   ]
  },
  {
   "cell_type": "code",
   "execution_count": 71,
   "metadata": {},
   "outputs": [
    {
     "name": "stderr",
     "output_type": "stream",
     "text": [
      "INFO:matplotlib.font_manager:generated new fontManager\n"
     ]
    },
    {
     "data": {
      "text/plain": [
       "Text(0.5, 1.0, 'Density plot of delta Beta value')"
      ]
     },
     "execution_count": 71,
     "metadata": {},
     "output_type": "execute_result"
    },
    {
     "data": {
      "image/png": "[encoded data removed]",
      "text/plain": [
       "<Figure size 640x480 with 1 Axes>"
      ]
     },
     "metadata": {},
     "output_type": "display_data"
    }
   ],
   "source": [
    "# DEBUG\n",
    "import seaborn as sns\n",
    "import matplotlib.pyplot as plt\n",
    "\n",
    "sns.kdeplot(TSS_threshold[\"dbeta\"])\n",
    "plt.xlabel(\"delta Beta value\")\n",
    "plt.title(\"Density plot of delta Beta value\")\n",
    "# END"
   ]
  },
  {
   "cell_type": "code",
   "execution_count": null,
   "metadata": {},
   "outputs": [],
   "source": [
    "# train_df = pd.read_csv(f\"{trainOutPath}/all_beta_normalized_0.csv\")"
   ]
  },
  {
   "cell_type": "code",
   "execution_count": 72,
   "metadata": {},
   "outputs": [
    {
     "name": "stdout",
     "output_type": "stream",
     "text": [
      "X shape: (802, 18652)\n",
      "y shape: 802\n"
     ]
    }
   ],
   "source": [
    "normal_count = (train_df.iloc[-1, 1:] == 0).sum()\n",
    "df_gene = train_df.iloc[:-1, :]\n",
    "df_gene = df_gene[df_gene[df_gene.columns[0]].isin(dbeta[\"ID\"])]\n",
    "X = df_gene.iloc[:, 1:].reset_index(drop=True).T\n",
    "y = [0 if i < normal_count else 1 for i in range(X.shape[0])]\n",
    "# DEBUG\n",
    "print(f\"X shape: {X.shape}\")\n",
    "print(f\"y shape: {len(y)}\")\n",
    "# END"
   ]
  },
  {
   "cell_type": "code",
   "execution_count": 38,
   "metadata": {},
   "outputs": [
    {
     "ename": "NameError",
     "evalue": "name 'X' is not defined",
     "output_type": "error",
     "traceback": [
      "\u001b[1;31m---------------------------------------------------------------------------\u001b[0m",
      "\u001b[1;31mNameError\u001b[0m                                 Traceback (most recent call last)",
      "Cell \u001b[1;32mIn[38], line 6\u001b[0m\n\u001b[0;32m      3\u001b[0m \u001b[38;5;28;01mfrom\u001b[39;00m \u001b[38;5;21;01msklearn\u001b[39;00m\u001b[38;5;21;01m.\u001b[39;00m\u001b[38;5;21;01mdecomposition\u001b[39;00m \u001b[38;5;28;01mimport\u001b[39;00m PCA\n\u001b[0;32m      5\u001b[0m pca \u001b[38;5;241m=\u001b[39m PCA(n_components\u001b[38;5;241m=\u001b[39m\u001b[38;5;241m3\u001b[39m)\n\u001b[1;32m----> 6\u001b[0m X_pca \u001b[38;5;241m=\u001b[39m pca\u001b[38;5;241m.\u001b[39mfit_transform(\u001b[43mX\u001b[49m)\n\u001b[0;32m      8\u001b[0m df \u001b[38;5;241m=\u001b[39m pd\u001b[38;5;241m.\u001b[39mDataFrame(\n\u001b[0;32m      9\u001b[0m     {\n\u001b[0;32m     10\u001b[0m         \u001b[38;5;124m\"\u001b[39m\u001b[38;5;124mPrincipal Component 1\u001b[39m\u001b[38;5;124m\"\u001b[39m: X_pca[:, \u001b[38;5;241m0\u001b[39m],\n\u001b[1;32m   (...)\u001b[0m\n\u001b[0;32m     14\u001b[0m     }\n\u001b[0;32m     15\u001b[0m )\n\u001b[0;32m     16\u001b[0m \u001b[38;5;28mprint\u001b[39m(df\u001b[38;5;241m.\u001b[39mshape)\n",
      "\u001b[1;31mNameError\u001b[0m: name 'X' is not defined"
     ]
    }
   ],
   "source": [
    "import plotly.express as px\n",
    "import pandas as pd\n",
    "from sklearn.decomposition import PCA\n",
    "\n",
    "pca = PCA(n_components=3)\n",
    "X_pca = pca.fit_transform(X)\n",
    "\n",
    "df = pd.DataFrame(\n",
    "    {\n",
    "        \"Principal Component 1\": X_pca[:, 0],\n",
    "        \"Principal Component 2\": X_pca[:, 1],\n",
    "        \"Principal Component 3\": X_pca[:, 2],\n",
    "        \"Class\": y,\n",
    "    }\n",
    ")\n",
    "print(df.shape)\n",
    "fig = px.scatter_3d(\n",
    "    df,\n",
    "    x=\"Principal Component 1\",\n",
    "    y=\"Principal Component 2\",\n",
    "    z=\"Principal Component 3\",\n",
    "    color=\"Class\",\n",
    "    title=\"PCA of Dataset\",\n",
    "    color_continuous_scale=\"Viridis\",\n",
    ")\n",
    "\n",
    "fig.update_layout(\n",
    "    scene=dict(\n",
    "        xaxis_title=\"Principal Component 1\",\n",
    "        yaxis_title=\"Principal Component 2\",\n",
    "        zaxis_title=\"Principal Component 3\",\n",
    "    )\n",
    ")\n",
    "\n",
    "# fig.show()\n",
    "\n",
    "fig.write_html(f\"{trainOutPath}/preprocess_filtering_pca.html\")\n",
    "# open in browser"
   ]
  },
  {
   "cell_type": "markdown",
   "metadata": {},
   "source": [
    "### Sec. 3 Machine Learning\n",
    "1. remove hypo-methylated genes\n",
    "2. RFE\n",
    "3. RFECV (tbd)"
   ]
  },
  {
   "cell_type": "code",
   "execution_count": 9,
   "metadata": {},
   "outputs": [],
   "source": [
    "config = load_config(CONFIG_PATH)\n",
    "threshold = config[\"preprocess\"][\"filtering\"][\"threshold\"]\n",
    "TSS_threshold = pd.read_csv(f\"{trainOutPath}/dbeta_TSS_{threshold}.csv\")"
   ]
  },
  {
   "cell_type": "code",
   "execution_count": 10,
   "metadata": {},
   "outputs": [
    {
     "data": {
      "text/html": [
       "<div>\n",
       "<style scoped>\n",
       "    .dataframe tbody tr th:only-of-type {\n",
       "        vertical-align: middle;\n",
       "    }\n",
       "\n",
       "    .dataframe tbody tr th {\n",
       "        vertical-align: top;\n",
       "    }\n",
       "\n",
       "    .dataframe thead th {\n",
       "        text-align: right;\n",
       "    }\n",
       "</style>\n",
       "<table border=\"1\" class=\"dataframe\">\n",
       "  <thead>\n",
       "    <tr style=\"text-align: right;\">\n",
       "      <th></th>\n",
       "      <th>ID</th>\n",
       "      <th>gene</th>\n",
       "      <th>dbeta</th>\n",
       "      <th>feature</th>\n",
       "    </tr>\n",
       "  </thead>\n",
       "  <tbody>\n",
       "    <tr>\n",
       "      <th>1</th>\n",
       "      <td>cg24613080</td>\n",
       "      <td>ACCN1</td>\n",
       "      <td>0.393994</td>\n",
       "      <td>TSS1500</td>\n",
       "    </tr>\n",
       "    <tr>\n",
       "      <th>2</th>\n",
       "      <td>cg02131967</td>\n",
       "      <td>ACE</td>\n",
       "      <td>0.380513</td>\n",
       "      <td>TSS1500</td>\n",
       "    </tr>\n",
       "    <tr>\n",
       "      <th>3</th>\n",
       "      <td>cg10266490</td>\n",
       "      <td>ACOT11</td>\n",
       "      <td>0.383674</td>\n",
       "      <td>TSS200</td>\n",
       "    </tr>\n",
       "    <tr>\n",
       "      <th>4</th>\n",
       "      <td>cg14672994</td>\n",
       "      <td>ACSF2</td>\n",
       "      <td>0.383849</td>\n",
       "      <td>TSS1500</td>\n",
       "    </tr>\n",
       "    <tr>\n",
       "      <th>5</th>\n",
       "      <td>cg25558103</td>\n",
       "      <td>ADAM11</td>\n",
       "      <td>0.351653</td>\n",
       "      <td>TSS1500</td>\n",
       "    </tr>\n",
       "    <tr>\n",
       "      <th>...</th>\n",
       "      <td>...</td>\n",
       "      <td>...</td>\n",
       "      <td>...</td>\n",
       "      <td>...</td>\n",
       "    </tr>\n",
       "    <tr>\n",
       "      <th>355</th>\n",
       "      <td>cg05470554</td>\n",
       "      <td>WNT16</td>\n",
       "      <td>0.352612</td>\n",
       "      <td>TSS200</td>\n",
       "    </tr>\n",
       "    <tr>\n",
       "      <th>356</th>\n",
       "      <td>cg06274159</td>\n",
       "      <td>ZFP42</td>\n",
       "      <td>0.420692</td>\n",
       "      <td>TSS200</td>\n",
       "    </tr>\n",
       "    <tr>\n",
       "      <th>357</th>\n",
       "      <td>cg16014085</td>\n",
       "      <td>ZNF48</td>\n",
       "      <td>0.377859</td>\n",
       "      <td>TSS1500</td>\n",
       "    </tr>\n",
       "    <tr>\n",
       "      <th>358</th>\n",
       "      <td>cg16731240</td>\n",
       "      <td>ZNF577</td>\n",
       "      <td>0.559272</td>\n",
       "      <td>TSS200</td>\n",
       "    </tr>\n",
       "    <tr>\n",
       "      <th>360</th>\n",
       "      <td>cg05165378</td>\n",
       "      <td>ZNF655</td>\n",
       "      <td>0.384410</td>\n",
       "      <td>TSS1500</td>\n",
       "    </tr>\n",
       "  </tbody>\n",
       "</table>\n",
       "<p>278 rows × 4 columns</p>\n",
       "</div>"
      ],
      "text/plain": [
       "             ID    gene     dbeta  feature\n",
       "1    cg24613080   ACCN1  0.393994  TSS1500\n",
       "2    cg02131967     ACE  0.380513  TSS1500\n",
       "3    cg10266490  ACOT11  0.383674   TSS200\n",
       "4    cg14672994   ACSF2  0.383849  TSS1500\n",
       "5    cg25558103  ADAM11  0.351653  TSS1500\n",
       "..          ...     ...       ...      ...\n",
       "355  cg05470554   WNT16  0.352612   TSS200\n",
       "356  cg06274159   ZFP42  0.420692   TSS200\n",
       "357  cg16014085   ZNF48  0.377859  TSS1500\n",
       "358  cg16731240  ZNF577  0.559272   TSS200\n",
       "360  cg05165378  ZNF655  0.384410  TSS1500\n",
       "\n",
       "[278 rows x 4 columns]"
      ]
     },
     "execution_count": 10,
     "metadata": {},
     "output_type": "execute_result"
    }
   ],
   "source": [
    "TSS_threshold_hyper = TSS_threshold[TSS_threshold[\"dbeta\"] > 0]\n",
    "# DEBUG\n",
    "TSS_threshold_hyper\n",
    "# END"
   ]
  },
  {
   "cell_type": "code",
   "execution_count": 7,
   "metadata": {},
   "outputs": [],
   "source": [
    "train_df = pd.read_csv(f\"{trainOutPath}/all_beta_normalized_0.csv\")\n",
    "test_df = pd.read_csv(f\"{testOutPath}/all_beta_normalized_1.csv\")"
   ]
  },
  {
   "cell_type": "code",
   "execution_count": 11,
   "metadata": {},
   "outputs": [],
   "source": [
    "X_train = train_df[train_df[\"Unnamed: 0\"].isin(TSS_threshold_hyper[\"ID\"])]\n",
    "X_test = test_df[test_df[\"Unnamed: 0\"].isin(TSS_threshold_hyper[\"ID\"])]"
   ]
  },
  {
   "cell_type": "code",
   "execution_count": 12,
   "metadata": {},
   "outputs": [],
   "source": [
    "X_train = X_train.iloc[:, 1:].T.values.tolist()\n",
    "X_test = X_test.iloc[:, 1:].T.values.tolist()"
   ]
  },
  {
   "cell_type": "code",
   "execution_count": 13,
   "metadata": {},
   "outputs": [],
   "source": [
    "config = load_config(CONFIG_PATH)\n",
    "normal_count_train = config[\"preprocess\"][\"merge_and_split\"][\n",
    "    \"training_class_distribution\"\n",
    "][0]\n",
    "normal_count_test = config[\"preprocess\"][\"merge_and_split\"][\n",
    "    \"testing_class_distribution\"\n",
    "][0]\n",
    "y_train = [0 if i < normal_count_train else 1 for i in range(len(X_train))]\n",
    "y_test = [0 if i < normal_count_test else 1 for i in range(len(X_test))]"
   ]
  },
  {
   "cell_type": "code",
   "execution_count": 14,
   "metadata": {},
   "outputs": [],
   "source": [
    "import pandas as pd\n",
    "from sklearn.model_selection import cross_val_score\n",
    "from sklearn.feature_selection import RFE\n",
    "from sklearn.svm import SVC\n",
    "from sklearn.linear_model import LogisticRegression\n",
    "from sklearn.tree import DecisionTreeClassifier\n",
    "from sklearn.ensemble import RandomForestClassifier\n",
    "from xgboost import XGBClassifier\n",
    "from sklearn.metrics import (\n",
    "    accuracy_score,\n",
    "    recall_score,\n",
    "    precision_score,\n",
    "    f1_score,\n",
    "    matthews_corrcoef,\n",
    "    roc_auc_score,\n",
    "    auc,\n",
    "    roc_curve,\n",
    "    confusion_matrix,\n",
    ")\n",
    "from sklearn.model_selection import GridSearchCV"
   ]
  },
  {
   "cell_type": "code",
   "execution_count": 15,
   "metadata": {},
   "outputs": [],
   "source": [
    "selection_models = {\n",
    "    \"XGBoost\": XGBClassifier(random_state=42),\n",
    "    \"Random Forest\": RandomForestClassifier(random_state=42),\n",
    "    \"Decision Tree\": DecisionTreeClassifier(random_state=42),\n",
    "    \"SVM\": SVC(kernel=\"linear\", random_state=42),\n",
    "}\n",
    "\n",
    "param_xgb = {\n",
    "    \"learning_rate\": [0.001, 0.01, 0.1],\n",
    "    \"n_estimators\": [50, 100, 200],\n",
    "    \"max_depth\": [2, 3, 4],\n",
    "    \"subsample\": [0.6, 0.7, 0.8],\n",
    "    \"colsample_bytree\": [0.6, 0.7, 0.8],\n",
    "    \"min_child_weight\": [40, 50, 60],\n",
    "}\n",
    "\n",
    "param_rf = {\n",
    "    \"n_estimators\": [50, 100, 150, 200],\n",
    "    \"min_samples_split\": [80, 90],\n",
    "    \"min_samples_leaf\": [80, 90],\n",
    "    \"max_features\": [5, 10, 20],\n",
    "}\n",
    "\n",
    "param_svm = {\"kernel\": [\"rbf\", \"poly\", \"sigmoid\"], \"C\": [50, 100, 200]}\n",
    "\n",
    "param_dt = {\n",
    "    \"min_samples_split\": [70, 80, 90],\n",
    "    \"min_samples_leaf\": [70, 80, 90],\n",
    "    \"max_features\": [5, 10, 20],\n",
    "}\n",
    "\n",
    "def set_parameters(model: object, param_grid: dict) -> object:\n",
    "    grid_search = GridSearchCV(\n",
    "        estimator=model, param_grid=param_grid, cv=5, n_jobs=-1, verbose=2\n",
    "    )\n",
    "    return grid_search\n",
    "\n",
    "xgb_model = set_parameters(XGBClassifier(random_state=42), param_xgb)\n",
    "rf_model = set_parameters(RandomForestClassifier(random_state=42), param_rf)\n",
    "svm_model = set_parameters(SVC(random_state=42), param_svm)\n",
    "dt_model = set_parameters(DecisionTreeClassifier(random_state=42), param_dt)\n",
    "\n",
    "train_models = {\n",
    "    \"XGBoost\": xgb_model,\n",
    "    \"Random Forest\": rf_model,\n",
    "    \"Decision Tree\": dt_model,\n",
    "    \"SVM\": svm_model,\n",
    "}\n"
   ]
  },
  {
   "cell_type": "code",
   "execution_count": 16,
   "metadata": {},
   "outputs": [],
   "source": [
    "def append_to_file(file_name: str, data: pd.DataFrame) -> None:\n",
    "        if not os.path.isfile(file_name):\n",
    "            data.to_csv(file_name, index=False)\n",
    "        else:\n",
    "            data.to_csv(file_name, index=False, mode=\"a\", header=False)\n",
    "\n",
    "def record(\n",
    "    best_estimator: object,\n",
    "    X: pd.DataFrame,\n",
    "    y: pd.Series,\n",
    "    selection_model_name: str,\n",
    "    train_model_name: str,\n",
    "    feature_count: int,\n",
    "    best_score: float,\n",
    "    best_params: dict,\n",
    "    filepath: str,\n",
    ") -> None:\n",
    "\n",
    "    y_pred_on_X = best_estimator.predict(X)\n",
    "\n",
    "    tn, fp, _, _ = confusion_matrix(y, y_pred_on_X).ravel()\n",
    "    accuracy = accuracy_score(y, y_pred_on_X)\n",
    "    recall = recall_score(y, y_pred_on_X)\n",
    "    specificity = tn / (tn + fp)\n",
    "    precision = precision_score(y, y_pred_on_X)\n",
    "\n",
    "    fpr, tpr, _ = roc_curve(y, y_pred_on_X)\n",
    "    roc_auc = auc(fpr, tpr)\n",
    "    fpr = fpr.tolist()\n",
    "    tpr = tpr.tolist()\n",
    "\n",
    "    append_to_file(\n",
    "        f\"{filepath}/rfe.csv\",\n",
    "        pd.DataFrame(\n",
    "            [\n",
    "                {\n",
    "                    \"selection_model\": selection_model_name,\n",
    "                    \"train_model\": train_model_name,\n",
    "                    \"features\": feature_count,\n",
    "                    \"accuracy\": accuracy,\n",
    "                    \"recall\": recall,\n",
    "                    \"speficity\": specificity,\n",
    "                    \"precision\": precision,\n",
    "                    \"f1_score\": f1_score(y, y_pred_on_X),\n",
    "                    \"J-index\": recall + specificity - 1,\n",
    "                    \"AUC\": roc_auc,\n",
    "                    \"MCC\": matthews_corrcoef(y, y_pred_on_X),\n",
    "                    \"Mean cross-validated score\": best_score,\n",
    "                    \"Best parameters\": best_params,\n",
    "                }\n",
    "            ]\n",
    "        ),\n",
    "    )\n",
    "    append_to_file(\n",
    "        f\"{filepath}/fpr_tpr.csv\",\n",
    "        pd.DataFrame(\n",
    "            [\n",
    "                {\n",
    "                    \"selection_model\": selection_model_name,\n",
    "                    \"train_model\": train_model_name,\n",
    "                    \"features\": feature_count,\n",
    "                    \"fpr\": fpr,\n",
    "                    \"tpr\": tpr,\n",
    "                    \"AUC\": roc_auc,\n",
    "                }\n",
    "            ]\n",
    "        ),\n",
    "    )\n"
   ]
  },
  {
   "cell_type": "code",
   "execution_count": 17,
   "metadata": {},
   "outputs": [
    {
     "name": "stdout",
     "output_type": "stream",
     "text": [
      "Fitting 5 folds for each of 729 candidates, totalling 3645 fits\n",
      "Fitting 5 folds for each of 48 candidates, totalling 240 fits\n"
     ]
    },
    {
     "name": "stderr",
     "output_type": "stream",
     "text": [
      "D:\\Users\\005535\\AppData\\Local\\Packages\\PythonSoftwareFoundation.Python.3.11_qbz5n2kfra8p0\\LocalCache\\local-packages\\Python311\\site-packages\\numpy\\ma\\core.py:2892: RuntimeWarning: invalid value encountered in cast\n",
      "  _data = np.array(data, dtype=dtype, copy=copy,\n"
     ]
    },
    {
     "name": "stdout",
     "output_type": "stream",
     "text": [
      "Fitting 5 folds for each of 27 candidates, totalling 135 fits\n",
      "Fitting 5 folds for each of 9 candidates, totalling 45 fits\n"
     ]
    },
    {
     "name": "stderr",
     "output_type": "stream",
     "text": [
      "D:\\Users\\005535\\AppData\\Local\\Packages\\PythonSoftwareFoundation.Python.3.11_qbz5n2kfra8p0\\LocalCache\\local-packages\\Python311\\site-packages\\numpy\\ma\\core.py:2892: RuntimeWarning: invalid value encountered in cast\n",
      "  _data = np.array(data, dtype=dtype, copy=copy,\n"
     ]
    },
    {
     "name": "stdout",
     "output_type": "stream",
     "text": [
      "Fitting 5 folds for each of 729 candidates, totalling 3645 fits\n",
      "Fitting 5 folds for each of 48 candidates, totalling 240 fits\n",
      "Fitting 5 folds for each of 27 candidates, totalling 135 fits\n",
      "Fitting 5 folds for each of 9 candidates, totalling 45 fits\n",
      "Fitting 5 folds for each of 729 candidates, totalling 3645 fits\n",
      "Fitting 5 folds for each of 48 candidates, totalling 240 fits\n",
      "Fitting 5 folds for each of 27 candidates, totalling 135 fits\n",
      "Fitting 5 folds for each of 9 candidates, totalling 45 fits\n",
      "Fitting 5 folds for each of 729 candidates, totalling 3645 fits\n",
      "Fitting 5 folds for each of 48 candidates, totalling 240 fits\n",
      "Fitting 5 folds for each of 27 candidates, totalling 135 fits\n",
      "Fitting 5 folds for each of 9 candidates, totalling 45 fits\n",
      "Fitting 5 folds for each of 729 candidates, totalling 3645 fits\n",
      "Fitting 5 folds for each of 48 candidates, totalling 240 fits\n",
      "Fitting 5 folds for each of 27 candidates, totalling 135 fits\n",
      "Fitting 5 folds for each of 9 candidates, totalling 45 fits\n",
      "Fitting 5 folds for each of 729 candidates, totalling 3645 fits\n",
      "Fitting 5 folds for each of 48 candidates, totalling 240 fits\n",
      "Fitting 5 folds for each of 27 candidates, totalling 135 fits\n",
      "Fitting 5 folds for each of 9 candidates, totalling 45 fits\n",
      "Fitting 5 folds for each of 729 candidates, totalling 3645 fits\n",
      "Fitting 5 folds for each of 48 candidates, totalling 240 fits\n",
      "Fitting 5 folds for each of 27 candidates, totalling 135 fits\n",
      "Fitting 5 folds for each of 9 candidates, totalling 45 fits\n",
      "Fitting 5 folds for each of 729 candidates, totalling 3645 fits\n",
      "Fitting 5 folds for each of 48 candidates, totalling 240 fits\n",
      "Fitting 5 folds for each of 27 candidates, totalling 135 fits\n",
      "Fitting 5 folds for each of 9 candidates, totalling 45 fits\n",
      "Fitting 5 folds for each of 729 candidates, totalling 3645 fits\n",
      "Fitting 5 folds for each of 48 candidates, totalling 240 fits\n",
      "Fitting 5 folds for each of 27 candidates, totalling 135 fits\n",
      "Fitting 5 folds for each of 9 candidates, totalling 45 fits\n",
      "Fitting 5 folds for each of 729 candidates, totalling 3645 fits\n",
      "Fitting 5 folds for each of 48 candidates, totalling 240 fits\n",
      "Fitting 5 folds for each of 27 candidates, totalling 135 fits\n",
      "Fitting 5 folds for each of 9 candidates, totalling 45 fits\n",
      "Fitting 5 folds for each of 729 candidates, totalling 3645 fits\n",
      "Fitting 5 folds for each of 48 candidates, totalling 240 fits\n",
      "Fitting 5 folds for each of 27 candidates, totalling 135 fits\n",
      "Fitting 5 folds for each of 9 candidates, totalling 45 fits\n",
      "Fitting 5 folds for each of 729 candidates, totalling 3645 fits\n",
      "Fitting 5 folds for each of 48 candidates, totalling 240 fits\n",
      "Fitting 5 folds for each of 27 candidates, totalling 135 fits\n",
      "Fitting 5 folds for each of 9 candidates, totalling 45 fits\n"
     ]
    }
   ],
   "source": [
    "for selection_model_name, selection_model in selection_models.items():\n",
    "    for feature_count in range(25, 36, 5):\n",
    "        rfe = RFE(estimator=selection_model, n_features_to_select=feature_count)\n",
    "        X_train_rfe = rfe.fit_transform(X_train, y_train)\n",
    "        X_test_rfe = rfe.transform(X_test)\n",
    "        selected_feature_names = (\n",
    "            pd.DataFrame(TSS_threshold_hyper.iloc[rfe.support_, 1])\n",
    "            .reset_index(drop=True)\n",
    "            .T\n",
    "        )\n",
    "\n",
    "        label = f\"{selection_model_name}_{feature_count}\"\n",
    "\n",
    "        selected_feature_names.insert(0, \"selection_model_name\", label)\n",
    "\n",
    "        append_to_file(\n",
    "            f\"{trainOutPath}/selected_feature_names.csv\", selected_feature_names\n",
    "        )\n",
    "\n",
    "        for train_model_name, train_model in train_models.items():\n",
    "            train_model.fit(X_train_rfe, y_train)\n",
    "            best_params = train_model.best_params_\n",
    "\n",
    "            best_score = train_model.best_score_\n",
    "\n",
    "            record(\n",
    "                train_model.best_estimator_,\n",
    "                X_train_rfe,\n",
    "                y_train,\n",
    "                selection_model_name,\n",
    "                train_model_name,\n",
    "                feature_count,\n",
    "                best_score,\n",
    "                best_params,\n",
    "                f\"{trainOutPath}\",\n",
    "            )\n",
    "            record(\n",
    "                train_model.best_estimator_,\n",
    "                X_test_rfe,\n",
    "                y_test,\n",
    "                selection_model_name,\n",
    "                train_model_name,\n",
    "                feature_count,\n",
    "                best_score,\n",
    "                best_params,\n",
    "                f\"{testOutPath}\",\n",
    "            )"
   ]
  },
  {
   "cell_type": "code",
   "execution_count": 18,
   "metadata": {},
   "outputs": [],
   "source": [
    "fpr_tpr_tr = pd.read_csv(f\"{trainOutPath}/fpr_tpr.csv\")\n",
    "fpr_tpr_te = pd.read_csv(f\"{testOutPath}/fpr_tpr.csv\")"
   ]
  },
  {
   "cell_type": "code",
   "execution_count": 19,
   "metadata": {},
   "outputs": [],
   "source": [
    "rfe_tr = pd.read_csv(f\"{trainOutPath}/rfe.csv\")\n",
    "rfe_te = pd.read_csv(f\"{testOutPath}/rfe.csv\")"
   ]
  },
  {
   "cell_type": "code",
   "execution_count": 30,
   "metadata": {},
   "outputs": [],
   "source": [
    "rfe_j = pd.merge(rfe_tr, rfe_te, on=[\"selection_model\", \"train_model\", \"features\"], suffixes=('_train', '_test'))\n",
    "fpr_tpr_j = pd.merge(fpr_tpr_tr, fpr_tpr_te, on=[\"selection_model\", \"train_model\", \"features\"], suffixes=('_train', '_test'))\n",
    "J = pd.merge(rfe_j, fpr_tpr_j, on=[\"selection_model\", \"train_model\", \"features\", \"AUC_train\", \"AUC_test\"])"
   ]
  },
  {
   "cell_type": "code",
   "execution_count": 31,
   "metadata": {},
   "outputs": [],
   "source": [
    "import ast\n",
    "\n",
    "J[\"fpr_train\"] = J[\"fpr_train\"].apply(ast.literal_eval)\n",
    "J[\"tpr_train\"] = J[\"tpr_train\"].apply(ast.literal_eval)\n",
    "J[\"fpr_test\"] = J[\"fpr_test\"].apply(ast.literal_eval)\n",
    "J[\"tpr_test\"] = J[\"tpr_test\"].apply(ast.literal_eval)"
   ]
  },
  {
   "cell_type": "code",
   "execution_count": 40,
   "metadata": {},
   "outputs": [
    {
     "ename": "ValueError",
     "evalue": "Mime type rendering requires nbformat>=4.2.0 but it is not installed",
     "output_type": "error",
     "traceback": [
      "\u001b[1;31m---------------------------------------------------------------------------\u001b[0m",
      "\u001b[1;31mValueError\u001b[0m                                Traceback (most recent call last)",
      "File \u001b[1;32m~\\AppData\\Local\\Packages\\PythonSoftwareFoundation.Python.3.11_qbz5n2kfra8p0\\LocalCache\\local-packages\\Python311\\site-packages\\IPython\\core\\formatters.py:984\u001b[0m, in \u001b[0;36mIPythonDisplayFormatter.__call__\u001b[1;34m(self, obj)\u001b[0m\n\u001b[0;32m    982\u001b[0m method \u001b[38;5;241m=\u001b[39m get_real_method(obj, \u001b[38;5;28mself\u001b[39m\u001b[38;5;241m.\u001b[39mprint_method)\n\u001b[0;32m    983\u001b[0m \u001b[38;5;28;01mif\u001b[39;00m method \u001b[38;5;129;01mis\u001b[39;00m \u001b[38;5;129;01mnot\u001b[39;00m \u001b[38;5;28;01mNone\u001b[39;00m:\n\u001b[1;32m--> 984\u001b[0m     \u001b[43mmethod\u001b[49m\u001b[43m(\u001b[49m\u001b[43m)\u001b[49m\n\u001b[0;32m    985\u001b[0m     \u001b[38;5;28;01mreturn\u001b[39;00m \u001b[38;5;28;01mTrue\u001b[39;00m\n",
      "File \u001b[1;32m~\\AppData\\Local\\Packages\\PythonSoftwareFoundation.Python.3.11_qbz5n2kfra8p0\\LocalCache\\local-packages\\Python311\\site-packages\\plotly\\basedatatypes.py:832\u001b[0m, in \u001b[0;36mBaseFigure._ipython_display_\u001b[1;34m(self)\u001b[0m\n\u001b[0;32m    829\u001b[0m \u001b[38;5;28;01mimport\u001b[39;00m \u001b[38;5;21;01mplotly\u001b[39;00m\u001b[38;5;21;01m.\u001b[39;00m\u001b[38;5;21;01mio\u001b[39;00m \u001b[38;5;28;01mas\u001b[39;00m \u001b[38;5;21;01mpio\u001b[39;00m\n\u001b[0;32m    831\u001b[0m \u001b[38;5;28;01mif\u001b[39;00m pio\u001b[38;5;241m.\u001b[39mrenderers\u001b[38;5;241m.\u001b[39mrender_on_display \u001b[38;5;129;01mand\u001b[39;00m pio\u001b[38;5;241m.\u001b[39mrenderers\u001b[38;5;241m.\u001b[39mdefault:\n\u001b[1;32m--> 832\u001b[0m     \u001b[43mpio\u001b[49m\u001b[38;5;241;43m.\u001b[39;49m\u001b[43mshow\u001b[49m\u001b[43m(\u001b[49m\u001b[38;5;28;43mself\u001b[39;49m\u001b[43m)\u001b[49m\n\u001b[0;32m    833\u001b[0m \u001b[38;5;28;01melse\u001b[39;00m:\n\u001b[0;32m    834\u001b[0m     \u001b[38;5;28mprint\u001b[39m(\u001b[38;5;28mrepr\u001b[39m(\u001b[38;5;28mself\u001b[39m))\n",
      "File \u001b[1;32m~\\AppData\\Local\\Packages\\PythonSoftwareFoundation.Python.3.11_qbz5n2kfra8p0\\LocalCache\\local-packages\\Python311\\site-packages\\plotly\\io\\_renderers.py:394\u001b[0m, in \u001b[0;36mshow\u001b[1;34m(fig, renderer, validate, **kwargs)\u001b[0m\n\u001b[0;32m    389\u001b[0m         \u001b[38;5;28;01mraise\u001b[39;00m \u001b[38;5;167;01mValueError\u001b[39;00m(\n\u001b[0;32m    390\u001b[0m             \u001b[38;5;124m\"\u001b[39m\u001b[38;5;124mMime type rendering requires ipython but it is not installed\u001b[39m\u001b[38;5;124m\"\u001b[39m\n\u001b[0;32m    391\u001b[0m         )\n\u001b[0;32m    393\u001b[0m     \u001b[38;5;28;01mif\u001b[39;00m \u001b[38;5;129;01mnot\u001b[39;00m nbformat \u001b[38;5;129;01mor\u001b[39;00m Version(nbformat\u001b[38;5;241m.\u001b[39m__version__) \u001b[38;5;241m<\u001b[39m Version(\u001b[38;5;124m\"\u001b[39m\u001b[38;5;124m4.2.0\u001b[39m\u001b[38;5;124m\"\u001b[39m):\n\u001b[1;32m--> 394\u001b[0m         \u001b[38;5;28;01mraise\u001b[39;00m \u001b[38;5;167;01mValueError\u001b[39;00m(\n\u001b[0;32m    395\u001b[0m             \u001b[38;5;124m\"\u001b[39m\u001b[38;5;124mMime type rendering requires nbformat>=4.2.0 but it is not installed\u001b[39m\u001b[38;5;124m\"\u001b[39m\n\u001b[0;32m    396\u001b[0m         )\n\u001b[0;32m    398\u001b[0m     ipython_display\u001b[38;5;241m.\u001b[39mdisplay(bundle, raw\u001b[38;5;241m=\u001b[39m\u001b[38;5;28;01mTrue\u001b[39;00m)\n\u001b[0;32m    400\u001b[0m \u001b[38;5;66;03m# external renderers\u001b[39;00m\n",
      "\u001b[1;31mValueError\u001b[0m: Mime type rendering requires nbformat>=4.2.0 but it is not installed"
     ]
    },
    {
     "data": {
      "application/vnd.plotly.v1+json": {
       "config": {
        "plotlyServerURL": "https://plot.ly"
       },
       "data": [
        {
         "mode": "lines",
         "name": "XGBoost XGBoost (AUC = 0.935)",
         "type": "scatter",
         "x": [
          0,
          0.09226932668329177,
          1
         ],
         "y": [
          0,
          0.9625935162094763,
          1
         ]
        },
        {
         "mode": "lines",
         "name": "XGBoost Random Forest (AUC = 0.934)",
         "type": "scatter",
         "x": [
          0,
          0.09226932668329177,
          1
         ],
         "y": [
          0,
          0.9600997506234414,
          1
         ]
        },
        {
         "mode": "lines",
         "name": "XGBoost Decision Tree (AUC = 0.933)",
         "type": "scatter",
         "x": [
          0,
          0.09476309226932668,
          1
         ],
         "y": [
          0,
          0.9600997506234414,
          1
         ]
        },
        {
         "mode": "lines",
         "name": "XGBoost SVM (AUC = 0.999)",
         "type": "scatter",
         "x": [
          0,
          0,
          1
         ],
         "y": [
          0,
          0.9975062344139651,
          1
         ]
        },
        {
         "mode": "lines",
         "name": "XGBoost XGBoost (AUC = 0.934)",
         "type": "scatter",
         "x": [
          0,
          0.09226932668329177,
          1
         ],
         "y": [
          0,
          0.9600997506234414,
          1
         ]
        },
        {
         "mode": "lines",
         "name": "XGBoost Random Forest (AUC = 0.933)",
         "type": "scatter",
         "x": [
          0,
          0.09226932668329177,
          1
         ],
         "y": [
          0,
          0.9576059850374065,
          1
         ]
        },
        {
         "mode": "lines",
         "name": "XGBoost Decision Tree (AUC = 0.931)",
         "type": "scatter",
         "x": [
          0,
          0.0773067331670823,
          1
         ],
         "y": [
          0,
          0.940149625935162,
          1
         ]
        },
        {
         "mode": "lines",
         "name": "XGBoost SVM (AUC = 0.999)",
         "type": "scatter",
         "x": [
          0,
          0,
          1
         ],
         "y": [
          0,
          0.9975062344139651,
          1
         ]
        },
        {
         "mode": "lines",
         "name": "XGBoost XGBoost (AUC = 0.935)",
         "type": "scatter",
         "x": [
          0,
          0.09226932668329177,
          1
         ],
         "y": [
          0,
          0.9625935162094763,
          1
         ]
        },
        {
         "mode": "lines",
         "name": "XGBoost Random Forest (AUC = 0.933)",
         "type": "scatter",
         "x": [
          0,
          0.09226932668329177,
          1
         ],
         "y": [
          0,
          0.9576059850374065,
          1
         ]
        },
        {
         "mode": "lines",
         "name": "XGBoost Decision Tree (AUC = 0.930)",
         "type": "scatter",
         "x": [
          0,
          0.10723192019950124,
          1
         ],
         "y": [
          0,
          0.9675810473815462,
          1
         ]
        },
        {
         "mode": "lines",
         "name": "XGBoost SVM (AUC = 0.999)",
         "type": "scatter",
         "x": [
          0,
          0,
          1
         ],
         "y": [
          0,
          0.9975062344139651,
          1
         ]
        },
        {
         "mode": "lines",
         "name": "Random Forest XGBoost (AUC = 0.935)",
         "type": "scatter",
         "x": [
          0,
          0.09226932668329177,
          1
         ],
         "y": [
          0,
          0.9625935162094763,
          1
         ]
        },
        {
         "mode": "lines",
         "name": "Random Forest Random Forest (AUC = 0.933)",
         "type": "scatter",
         "x": [
          0,
          0.09226932668329177,
          1
         ],
         "y": [
          0,
          0.9576059850374065,
          1
         ]
        },
        {
         "mode": "lines",
         "name": "Random Forest Decision Tree (AUC = 0.930)",
         "type": "scatter",
         "x": [
          0,
          0.10723192019950124,
          1
         ],
         "y": [
          0,
          0.9675810473815462,
          1
         ]
        },
        {
         "mode": "lines",
         "name": "Random Forest SVM (AUC = 0.998)",
         "type": "scatter",
         "x": [
          0,
          0,
          1
         ],
         "y": [
          0,
          0.9950124688279302,
          1
         ]
        },
        {
         "mode": "lines",
         "name": "Random Forest XGBoost (AUC = 0.943)",
         "type": "scatter",
         "x": [
          0,
          0.07481296758104738,
          1
         ],
         "y": [
          0,
          0.9600997506234414,
          1
         ]
        },
        {
         "mode": "lines",
         "name": "Random Forest Random Forest (AUC = 0.933)",
         "type": "scatter",
         "x": [
          0,
          0.08977556109725686,
          1
         ],
         "y": [
          0,
          0.9551122194513716,
          1
         ]
        },
        {
         "mode": "lines",
         "name": "Random Forest Decision Tree (AUC = 0.933)",
         "type": "scatter",
         "x": [
          0,
          0.09476309226932668,
          1
         ],
         "y": [
          0,
          0.9600997506234414,
          1
         ]
        },
        {
         "mode": "lines",
         "name": "Random Forest SVM (AUC = 0.999)",
         "type": "scatter",
         "x": [
          0,
          0,
          1
         ],
         "y": [
          0,
          0.9975062344139651,
          1
         ]
        },
        {
         "mode": "lines",
         "name": "Random Forest XGBoost (AUC = 0.941)",
         "type": "scatter",
         "x": [
          0,
          0.06982543640897755,
          1
         ],
         "y": [
          0,
          0.9526184538653366,
          1
         ]
        },
        {
         "mode": "lines",
         "name": "Random Forest Random Forest (AUC = 0.933)",
         "type": "scatter",
         "x": [
          0,
          0.09226932668329177,
          1
         ],
         "y": [
          0,
          0.9576059850374065,
          1
         ]
        },
        {
         "mode": "lines",
         "name": "Random Forest Decision Tree (AUC = 0.933)",
         "type": "scatter",
         "x": [
          0,
          0.09476309226932668,
          1
         ],
         "y": [
          0,
          0.9600997506234414,
          1
         ]
        },
        {
         "mode": "lines",
         "name": "Random Forest SVM (AUC = 0.998)",
         "type": "scatter",
         "x": [
          0,
          0,
          1
         ],
         "y": [
          0,
          0.9950124688279302,
          1
         ]
        },
        {
         "mode": "lines",
         "name": "Decision Tree XGBoost (AUC = 0.935)",
         "type": "scatter",
         "x": [
          0,
          0.08977556109725686,
          1
         ],
         "y": [
          0,
          0.9600997506234414,
          1
         ]
        },
        {
         "mode": "lines",
         "name": "Decision Tree Random Forest (AUC = 0.934)",
         "type": "scatter",
         "x": [
          0,
          0.08977556109725686,
          1
         ],
         "y": [
          0,
          0.9576059850374065,
          1
         ]
        },
        {
         "mode": "lines",
         "name": "Decision Tree Decision Tree (AUC = 0.933)",
         "type": "scatter",
         "x": [
          0,
          0.09476309226932668,
          1
         ],
         "y": [
          0,
          0.9600997506234414,
          1
         ]
        },
        {
         "mode": "lines",
         "name": "Decision Tree SVM (AUC = 0.998)",
         "type": "scatter",
         "x": [
          0,
          0,
          1
         ],
         "y": [
          0,
          0.9950124688279302,
          1
         ]
        },
        {
         "mode": "lines",
         "name": "Decision Tree XGBoost (AUC = 0.936)",
         "type": "scatter",
         "x": [
          0,
          0.08478802992518704,
          1
         ],
         "y": [
          0,
          0.9576059850374065,
          1
         ]
        },
        {
         "mode": "lines",
         "name": "Decision Tree Random Forest (AUC = 0.934)",
         "type": "scatter",
         "x": [
          0,
          0.08977556109725686,
          1
         ],
         "y": [
          0,
          0.9576059850374065,
          1
         ]
        },
        {
         "mode": "lines",
         "name": "Decision Tree Decision Tree (AUC = 0.933)",
         "type": "scatter",
         "x": [
          0,
          0.09476309226932668,
          1
         ],
         "y": [
          0,
          0.9600997506234414,
          1
         ]
        },
        {
         "mode": "lines",
         "name": "Decision Tree SVM (AUC = 0.996)",
         "type": "scatter",
         "x": [
          0,
          0.0024937655860349127,
          1
         ],
         "y": [
          0,
          0.9950124688279302,
          1
         ]
        },
        {
         "mode": "lines",
         "name": "Decision Tree XGBoost (AUC = 0.933)",
         "type": "scatter",
         "x": [
          0,
          0.09476309226932668,
          1
         ],
         "y": [
          0,
          0.9600997506234414,
          1
         ]
        },
        {
         "mode": "lines",
         "name": "Decision Tree Random Forest (AUC = 0.931)",
         "type": "scatter",
         "x": [
          0,
          0.09226932668329177,
          1
         ],
         "y": [
          0,
          0.9551122194513716,
          1
         ]
        },
        {
         "mode": "lines",
         "name": "Decision Tree Decision Tree (AUC = 0.923)",
         "type": "scatter",
         "x": [
          0,
          0.10224438902743142,
          1
         ],
         "y": [
          0,
          0.9476309226932669,
          1
         ]
        },
        {
         "mode": "lines",
         "name": "Decision Tree SVM (AUC = 0.999)",
         "type": "scatter",
         "x": [
          0,
          0,
          1
         ],
         "y": [
          0,
          0.9975062344139651,
          1
         ]
        },
        {
         "mode": "lines",
         "name": "SVM XGBoost (AUC = 0.946)",
         "type": "scatter",
         "x": [
          0,
          0.057356608478802994,
          1
         ],
         "y": [
          0,
          0.9501246882793017,
          1
         ]
        },
        {
         "mode": "lines",
         "name": "SVM Random Forest (AUC = 0.931)",
         "type": "scatter",
         "x": [
          0,
          0.09226932668329177,
          1
         ],
         "y": [
          0,
          0.9551122194513716,
          1
         ]
        },
        {
         "mode": "lines",
         "name": "SVM Decision Tree (AUC = 0.930)",
         "type": "scatter",
         "x": [
          0,
          0.10723192019950124,
          1
         ],
         "y": [
          0,
          0.9675810473815462,
          1
         ]
        },
        {
         "mode": "lines",
         "name": "SVM SVM (AUC = 0.999)",
         "type": "scatter",
         "x": [
          0,
          0,
          1
         ],
         "y": [
          0,
          0.9975062344139651,
          1
         ]
        },
        {
         "mode": "lines",
         "name": "SVM XGBoost (AUC = 0.953)",
         "type": "scatter",
         "x": [
          0,
          0.05236907730673317,
          1
         ],
         "y": [
          0,
          0.9576059850374065,
          1
         ]
        },
        {
         "mode": "lines",
         "name": "SVM Random Forest (AUC = 0.931)",
         "type": "scatter",
         "x": [
          0,
          0.09226932668329177,
          1
         ],
         "y": [
          0,
          0.9551122194513716,
          1
         ]
        },
        {
         "mode": "lines",
         "name": "SVM Decision Tree (AUC = 0.930)",
         "type": "scatter",
         "x": [
          0,
          0.10723192019950124,
          1
         ],
         "y": [
          0,
          0.9675810473815462,
          1
         ]
        },
        {
         "mode": "lines",
         "name": "SVM SVM (AUC = 0.996)",
         "type": "scatter",
         "x": [
          0,
          0,
          1
         ],
         "y": [
          0,
          0.9925187032418953,
          1
         ]
        },
        {
         "mode": "lines",
         "name": "SVM XGBoost (AUC = 0.948)",
         "type": "scatter",
         "x": [
          0,
          0.06733167082294264,
          1
         ],
         "y": [
          0,
          0.9625935162094763,
          1
         ]
        },
        {
         "mode": "lines",
         "name": "SVM Random Forest (AUC = 0.931)",
         "type": "scatter",
         "x": [
          0,
          0.09226932668329177,
          1
         ],
         "y": [
          0,
          0.9551122194513716,
          1
         ]
        },
        {
         "mode": "lines",
         "name": "SVM Decision Tree (AUC = 0.930)",
         "type": "scatter",
         "x": [
          0,
          0.10723192019950124,
          1
         ],
         "y": [
          0,
          0.9675810473815462,
          1
         ]
        },
        {
         "mode": "lines",
         "name": "SVM SVM (AUC = 1.000)",
         "type": "scatter",
         "x": [
          0,
          0,
          1
         ],
         "y": [
          0,
          1,
          1
         ]
        },
        {
         "line": {
          "color": "grey",
          "dash": "dash"
         },
         "mode": "lines",
         "name": "Random Guess",
         "type": "scatter",
         "x": [
          0,
          1
         ],
         "y": [
          0,
          1
         ]
        }
       ],
       "layout": {
        "height": 1200,
        "legend": {
         "title": {
          "text": "Model"
         }
        },
        "template": {
         "data": {
          "bar": [
           {
            "error_x": {
             "color": "#2a3f5f"
            },
            "error_y": {
             "color": "#2a3f5f"
            },
            "marker": {
             "line": {
              "color": "white",
              "width": 0.5
             },
             "pattern": {
              "fillmode": "overlay",
              "size": 10,
              "solidity": 0.2
             }
            },
            "type": "bar"
           }
          ],
          "barpolar": [
           {
            "marker": {
             "line": {
              "color": "white",
              "width": 0.5
             },
             "pattern": {
              "fillmode": "overlay",
              "size": 10,
              "solidity": 0.2
             }
            },
            "type": "barpolar"
           }
          ],
          "carpet": [
           {
            "aaxis": {
             "endlinecolor": "#2a3f5f",
             "gridcolor": "#C8D4E3",
             "linecolor": "#C8D4E3",
             "minorgridcolor": "#C8D4E3",
             "startlinecolor": "#2a3f5f"
            },
            "baxis": {
             "endlinecolor": "#2a3f5f",
             "gridcolor": "#C8D4E3",
             "linecolor": "#C8D4E3",
             "minorgridcolor": "#C8D4E3",
             "startlinecolor": "#2a3f5f"
            },
            "type": "carpet"
           }
          ],
          "choropleth": [
           {
            "colorbar": {
             "outlinewidth": 0,
             "ticks": ""
            },
            "type": "choropleth"
           }
          ],
          "contour": [
           {
            "colorbar": {
             "outlinewidth": 0,
             "ticks": ""
            },
            "colorscale": [
             [
              0,
              "#0d0887"
             ],
             [
              0.1111111111111111,
              "#46039f"
             ],
             [
              0.2222222222222222,
              "#7201a8"
             ],
             [
              0.3333333333333333,
              "#9c179e"
             ],
             [
              0.4444444444444444,
              "#bd3786"
             ],
             [
              0.5555555555555556,
              "#d8576b"
             ],
             [
              0.6666666666666666,
              "#ed7953"
             ],
             [
              0.7777777777777778,
              "#fb9f3a"
             ],
             [
              0.8888888888888888,
              "#fdca26"
             ],
             [
              1,
              "#f0f921"
             ]
            ],
            "type": "contour"
           }
          ],
          "contourcarpet": [
           {
            "colorbar": {
             "outlinewidth": 0,
             "ticks": ""
            },
            "type": "contourcarpet"
           }
          ],
          "heatmap": [
           {
            "colorbar": {
             "outlinewidth": 0,
             "ticks": ""
            },
            "colorscale": [
             [
              0,
              "#0d0887"
             ],
             [
              0.1111111111111111,
              "#46039f"
             ],
             [
              0.2222222222222222,
              "#7201a8"
             ],
             [
              0.3333333333333333,
              "#9c179e"
             ],
             [
              0.4444444444444444,
              "#bd3786"
             ],
             [
              0.5555555555555556,
              "#d8576b"
             ],
             [
              0.6666666666666666,
              "#ed7953"
             ],
             [
              0.7777777777777778,
              "#fb9f3a"
             ],
             [
              0.8888888888888888,
              "#fdca26"
             ],
             [
              1,
              "#f0f921"
             ]
            ],
            "type": "heatmap"
           }
          ],
          "heatmapgl": [
           {
            "colorbar": {
             "outlinewidth": 0,
             "ticks": ""
            },
            "colorscale": [
             [
              0,
              "#0d0887"
             ],
             [
              0.1111111111111111,
              "#46039f"
             ],
             [
              0.2222222222222222,
              "#7201a8"
             ],
             [
              0.3333333333333333,
              "#9c179e"
             ],
             [
              0.4444444444444444,
              "#bd3786"
             ],
             [
              0.5555555555555556,
              "#d8576b"
             ],
             [
              0.6666666666666666,
              "#ed7953"
             ],
             [
              0.7777777777777778,
              "#fb9f3a"
             ],
             [
              0.8888888888888888,
              "#fdca26"
             ],
             [
              1,
              "#f0f921"
             ]
            ],
            "type": "heatmapgl"
           }
          ],
          "histogram": [
           {
            "marker": {
             "pattern": {
              "fillmode": "overlay",
              "size": 10,
              "solidity": 0.2
             }
            },
            "type": "histogram"
           }
          ],
          "histogram2d": [
           {
            "colorbar": {
             "outlinewidth": 0,
             "ticks": ""
            },
            "colorscale": [
             [
              0,
              "#0d0887"
             ],
             [
              0.1111111111111111,
              "#46039f"
             ],
             [
              0.2222222222222222,
              "#7201a8"
             ],
             [
              0.3333333333333333,
              "#9c179e"
             ],
             [
              0.4444444444444444,
              "#bd3786"
             ],
             [
              0.5555555555555556,
              "#d8576b"
             ],
             [
              0.6666666666666666,
              "#ed7953"
             ],
             [
              0.7777777777777778,
              "#fb9f3a"
             ],
             [
              0.8888888888888888,
              "#fdca26"
             ],
             [
              1,
              "#f0f921"
             ]
            ],
            "type": "histogram2d"
           }
          ],
          "histogram2dcontour": [
           {
            "colorbar": {
             "outlinewidth": 0,
             "ticks": ""
            },
            "colorscale": [
             [
              0,
              "#0d0887"
             ],
             [
              0.1111111111111111,
              "#46039f"
             ],
             [
              0.2222222222222222,
              "#7201a8"
             ],
             [
              0.3333333333333333,
              "#9c179e"
             ],
             [
              0.4444444444444444,
              "#bd3786"
             ],
             [
              0.5555555555555556,
              "#d8576b"
             ],
             [
              0.6666666666666666,
              "#ed7953"
             ],
             [
              0.7777777777777778,
              "#fb9f3a"
             ],
             [
              0.8888888888888888,
              "#fdca26"
             ],
             [
              1,
              "#f0f921"
             ]
            ],
            "type": "histogram2dcontour"
           }
          ],
          "mesh3d": [
           {
            "colorbar": {
             "outlinewidth": 0,
             "ticks": ""
            },
            "type": "mesh3d"
           }
          ],
          "parcoords": [
           {
            "line": {
             "colorbar": {
              "outlinewidth": 0,
              "ticks": ""
             }
            },
            "type": "parcoords"
           }
          ],
          "pie": [
           {
            "automargin": true,
            "type": "pie"
           }
          ],
          "scatter": [
           {
            "fillpattern": {
             "fillmode": "overlay",
             "size": 10,
             "solidity": 0.2
            },
            "type": "scatter"
           }
          ],
          "scatter3d": [
           {
            "line": {
             "colorbar": {
              "outlinewidth": 0,
              "ticks": ""
             }
            },
            "marker": {
             "colorbar": {
              "outlinewidth": 0,
              "ticks": ""
             }
            },
            "type": "scatter3d"
           }
          ],
          "scattercarpet": [
           {
            "marker": {
             "colorbar": {
              "outlinewidth": 0,
              "ticks": ""
             }
            },
            "type": "scattercarpet"
           }
          ],
          "scattergeo": [
           {
            "marker": {
             "colorbar": {
              "outlinewidth": 0,
              "ticks": ""
             }
            },
            "type": "scattergeo"
           }
          ],
          "scattergl": [
           {
            "marker": {
             "colorbar": {
              "outlinewidth": 0,
              "ticks": ""
             }
            },
            "type": "scattergl"
           }
          ],
          "scattermapbox": [
           {
            "marker": {
             "colorbar": {
              "outlinewidth": 0,
              "ticks": ""
             }
            },
            "type": "scattermapbox"
           }
          ],
          "scatterpolar": [
           {
            "marker": {
             "colorbar": {
              "outlinewidth": 0,
              "ticks": ""
             }
            },
            "type": "scatterpolar"
           }
          ],
          "scatterpolargl": [
           {
            "marker": {
             "colorbar": {
              "outlinewidth": 0,
              "ticks": ""
             }
            },
            "type": "scatterpolargl"
           }
          ],
          "scatterternary": [
           {
            "marker": {
             "colorbar": {
              "outlinewidth": 0,
              "ticks": ""
             }
            },
            "type": "scatterternary"
           }
          ],
          "surface": [
           {
            "colorbar": {
             "outlinewidth": 0,
             "ticks": ""
            },
            "colorscale": [
             [
              0,
              "#0d0887"
             ],
             [
              0.1111111111111111,
              "#46039f"
             ],
             [
              0.2222222222222222,
              "#7201a8"
             ],
             [
              0.3333333333333333,
              "#9c179e"
             ],
             [
              0.4444444444444444,
              "#bd3786"
             ],
             [
              0.5555555555555556,
              "#d8576b"
             ],
             [
              0.6666666666666666,
              "#ed7953"
             ],
             [
              0.7777777777777778,
              "#fb9f3a"
             ],
             [
              0.8888888888888888,
              "#fdca26"
             ],
             [
              1,
              "#f0f921"
             ]
            ],
            "type": "surface"
           }
          ],
          "table": [
           {
            "cells": {
             "fill": {
              "color": "#EBF0F8"
             },
             "line": {
              "color": "white"
             }
            },
            "header": {
             "fill": {
              "color": "#C8D4E3"
             },
             "line": {
              "color": "white"
             }
            },
            "type": "table"
           }
          ]
         },
         "layout": {
          "annotationdefaults": {
           "arrowcolor": "#2a3f5f",
           "arrowhead": 0,
           "arrowwidth": 1
          },
          "autotypenumbers": "strict",
          "coloraxis": {
           "colorbar": {
            "outlinewidth": 0,
            "ticks": ""
           }
          },
          "colorscale": {
           "diverging": [
            [
             0,
             "#8e0152"
            ],
            [
             0.1,
             "#c51b7d"
            ],
            [
             0.2,
             "#de77ae"
            ],
            [
             0.3,
             "#f1b6da"
            ],
            [
             0.4,
             "#fde0ef"
            ],
            [
             0.5,
             "#f7f7f7"
            ],
            [
             0.6,
             "#e6f5d0"
            ],
            [
             0.7,
             "#b8e186"
            ],
            [
             0.8,
             "#7fbc41"
            ],
            [
             0.9,
             "#4d9221"
            ],
            [
             1,
             "#276419"
            ]
           ],
           "sequential": [
            [
             0,
             "#0d0887"
            ],
            [
             0.1111111111111111,
             "#46039f"
            ],
            [
             0.2222222222222222,
             "#7201a8"
            ],
            [
             0.3333333333333333,
             "#9c179e"
            ],
            [
             0.4444444444444444,
             "#bd3786"
            ],
            [
             0.5555555555555556,
             "#d8576b"
            ],
            [
             0.6666666666666666,
             "#ed7953"
            ],
            [
             0.7777777777777778,
             "#fb9f3a"
            ],
            [
             0.8888888888888888,
             "#fdca26"
            ],
            [
             1,
             "#f0f921"
            ]
           ],
           "sequentialminus": [
            [
             0,
             "#0d0887"
            ],
            [
             0.1111111111111111,
             "#46039f"
            ],
            [
             0.2222222222222222,
             "#7201a8"
            ],
            [
             0.3333333333333333,
             "#9c179e"
            ],
            [
             0.4444444444444444,
             "#bd3786"
            ],
            [
             0.5555555555555556,
             "#d8576b"
            ],
            [
             0.6666666666666666,
             "#ed7953"
            ],
            [
             0.7777777777777778,
             "#fb9f3a"
            ],
            [
             0.8888888888888888,
             "#fdca26"
            ],
            [
             1,
             "#f0f921"
            ]
           ]
          },
          "colorway": [
           "#636efa",
           "#EF553B",
           "#00cc96",
           "#ab63fa",
           "#FFA15A",
           "#19d3f3",
           "#FF6692",
           "#B6E880",
           "#FF97FF",
           "#FECB52"
          ],
          "font": {
           "color": "#2a3f5f"
          },
          "geo": {
           "bgcolor": "white",
           "lakecolor": "white",
           "landcolor": "white",
           "showlakes": true,
           "showland": true,
           "subunitcolor": "#C8D4E3"
          },
          "hoverlabel": {
           "align": "left"
          },
          "hovermode": "closest",
          "mapbox": {
           "style": "light"
          },
          "paper_bgcolor": "white",
          "plot_bgcolor": "white",
          "polar": {
           "angularaxis": {
            "gridcolor": "#EBF0F8",
            "linecolor": "#EBF0F8",
            "ticks": ""
           },
           "bgcolor": "white",
           "radialaxis": {
            "gridcolor": "#EBF0F8",
            "linecolor": "#EBF0F8",
            "ticks": ""
           }
          },
          "scene": {
           "xaxis": {
            "backgroundcolor": "white",
            "gridcolor": "#DFE8F3",
            "gridwidth": 2,
            "linecolor": "#EBF0F8",
            "showbackground": true,
            "ticks": "",
            "zerolinecolor": "#EBF0F8"
           },
           "yaxis": {
            "backgroundcolor": "white",
            "gridcolor": "#DFE8F3",
            "gridwidth": 2,
            "linecolor": "#EBF0F8",
            "showbackground": true,
            "ticks": "",
            "zerolinecolor": "#EBF0F8"
           },
           "zaxis": {
            "backgroundcolor": "white",
            "gridcolor": "#DFE8F3",
            "gridwidth": 2,
            "linecolor": "#EBF0F8",
            "showbackground": true,
            "ticks": "",
            "zerolinecolor": "#EBF0F8"
           }
          },
          "shapedefaults": {
           "line": {
            "color": "#2a3f5f"
           }
          },
          "ternary": {
           "aaxis": {
            "gridcolor": "#DFE8F3",
            "linecolor": "#A2B1C6",
            "ticks": ""
           },
           "baxis": {
            "gridcolor": "#DFE8F3",
            "linecolor": "#A2B1C6",
            "ticks": ""
           },
           "bgcolor": "white",
           "caxis": {
            "gridcolor": "#DFE8F3",
            "linecolor": "#A2B1C6",
            "ticks": ""
           }
          },
          "title": {
           "x": 0.05
          },
          "xaxis": {
           "automargin": true,
           "gridcolor": "#EBF0F8",
           "linecolor": "#EBF0F8",
           "ticks": "",
           "title": {
            "standoff": 15
           },
           "zerolinecolor": "#EBF0F8",
           "zerolinewidth": 2
          },
          "yaxis": {
           "automargin": true,
           "gridcolor": "#EBF0F8",
           "linecolor": "#EBF0F8",
           "ticks": "",
           "title": {
            "standoff": 15
           },
           "zerolinecolor": "#EBF0F8",
           "zerolinewidth": 2
          }
         }
        },
        "title": {
         "text": "ROC Curves for Different Models"
        },
        "width": 1600,
        "xaxis": {
         "title": {
          "text": "False Positive Rate (FPR)"
         }
        },
        "yaxis": {
         "title": {
          "text": "True Positive Rate (TPR)"
         }
        }
       }
      },
      "text/html": [
       "<div>                        <script type=\"text/javascript\">window.PlotlyConfig = {MathJaxConfig: 'local'};</script>\n",
       "        <script charset=\"utf-8\" src=\"https://cdn.plot.ly/plotly-2.35.2.min.js\"></script>                <div id=\"f041d039-c84c-4e0e-9331-a4e15b6ad5a6\" class=\"plotly-graph-div\" style=\"height:1200px; width:1600px;\"></div>            <script type=\"text/javascript\">                                    window.PLOTLYENV=window.PLOTLYENV || {};                                    if (document.getElementById(\"f041d039-c84c-4e0e-9331-a4e15b6ad5a6\")) {                    Plotly.newPlot(                        \"f041d039-c84c-4e0e-9331-a4e15b6ad5a6\",                        [{\"mode\":\"lines\",\"name\":\"XGBoost XGBoost (AUC = 0.935)\",\"x\":[0.0,0.09226932668329177,1.0],\"y\":[0.0,0.9625935162094763,1.0],\"type\":\"scatter\"},{\"mode\":\"lines\",\"name\":\"XGBoost Random Forest (AUC = 0.934)\",\"x\":[0.0,0.09226932668329177,1.0],\"y\":[0.0,0.9600997506234414,1.0],\"type\":\"scatter\"},{\"mode\":\"lines\",\"name\":\"XGBoost Decision Tree (AUC = 0.933)\",\"x\":[0.0,0.09476309226932668,1.0],\"y\":[0.0,0.9600997506234414,1.0],\"type\":\"scatter\"},{\"mode\":\"lines\",\"name\":\"XGBoost SVM (AUC = 0.999)\",\"x\":[0.0,0.0,1.0],\"y\":[0.0,0.9975062344139651,1.0],\"type\":\"scatter\"},{\"mode\":\"lines\",\"name\":\"XGBoost XGBoost (AUC = 0.934)\",\"x\":[0.0,0.09226932668329177,1.0],\"y\":[0.0,0.9600997506234414,1.0],\"type\":\"scatter\"},{\"mode\":\"lines\",\"name\":\"XGBoost Random Forest (AUC = 0.933)\",\"x\":[0.0,0.09226932668329177,1.0],\"y\":[0.0,0.9576059850374065,1.0],\"type\":\"scatter\"},{\"mode\":\"lines\",\"name\":\"XGBoost Decision Tree (AUC = 0.931)\",\"x\":[0.0,0.0773067331670823,1.0],\"y\":[0.0,0.940149625935162,1.0],\"type\":\"scatter\"},{\"mode\":\"lines\",\"name\":\"XGBoost SVM (AUC = 0.999)\",\"x\":[0.0,0.0,1.0],\"y\":[0.0,0.9975062344139651,1.0],\"type\":\"scatter\"},{\"mode\":\"lines\",\"name\":\"XGBoost XGBoost (AUC = 0.935)\",\"x\":[0.0,0.09226932668329177,1.0],\"y\":[0.0,0.9625935162094763,1.0],\"type\":\"scatter\"},{\"mode\":\"lines\",\"name\":\"XGBoost Random Forest (AUC = 0.933)\",\"x\":[0.0,0.09226932668329177,1.0],\"y\":[0.0,0.9576059850374065,1.0],\"type\":\"scatter\"},{\"mode\":\"lines\",\"name\":\"XGBoost Decision Tree (AUC = 0.930)\",\"x\":[0.0,0.10723192019950124,1.0],\"y\":[0.0,0.9675810473815462,1.0],\"type\":\"scatter\"},{\"mode\":\"lines\",\"name\":\"XGBoost SVM (AUC = 0.999)\",\"x\":[0.0,0.0,1.0],\"y\":[0.0,0.9975062344139651,1.0],\"type\":\"scatter\"},{\"mode\":\"lines\",\"name\":\"Random Forest XGBoost (AUC = 0.935)\",\"x\":[0.0,0.09226932668329177,1.0],\"y\":[0.0,0.9625935162094763,1.0],\"type\":\"scatter\"},{\"mode\":\"lines\",\"name\":\"Random Forest Random Forest (AUC = 0.933)\",\"x\":[0.0,0.09226932668329177,1.0],\"y\":[0.0,0.9576059850374065,1.0],\"type\":\"scatter\"},{\"mode\":\"lines\",\"name\":\"Random Forest Decision Tree (AUC = 0.930)\",\"x\":[0.0,0.10723192019950124,1.0],\"y\":[0.0,0.9675810473815462,1.0],\"type\":\"scatter\"},{\"mode\":\"lines\",\"name\":\"Random Forest SVM (AUC = 0.998)\",\"x\":[0.0,0.0,1.0],\"y\":[0.0,0.9950124688279302,1.0],\"type\":\"scatter\"},{\"mode\":\"lines\",\"name\":\"Random Forest XGBoost (AUC = 0.943)\",\"x\":[0.0,0.07481296758104738,1.0],\"y\":[0.0,0.9600997506234414,1.0],\"type\":\"scatter\"},{\"mode\":\"lines\",\"name\":\"Random Forest Random Forest (AUC = 0.933)\",\"x\":[0.0,0.08977556109725686,1.0],\"y\":[0.0,0.9551122194513716,1.0],\"type\":\"scatter\"},{\"mode\":\"lines\",\"name\":\"Random Forest Decision Tree (AUC = 0.933)\",\"x\":[0.0,0.09476309226932668,1.0],\"y\":[0.0,0.9600997506234414,1.0],\"type\":\"scatter\"},{\"mode\":\"lines\",\"name\":\"Random Forest SVM (AUC = 0.999)\",\"x\":[0.0,0.0,1.0],\"y\":[0.0,0.9975062344139651,1.0],\"type\":\"scatter\"},{\"mode\":\"lines\",\"name\":\"Random Forest XGBoost (AUC = 0.941)\",\"x\":[0.0,0.06982543640897755,1.0],\"y\":[0.0,0.9526184538653366,1.0],\"type\":\"scatter\"},{\"mode\":\"lines\",\"name\":\"Random Forest Random Forest (AUC = 0.933)\",\"x\":[0.0,0.09226932668329177,1.0],\"y\":[0.0,0.9576059850374065,1.0],\"type\":\"scatter\"},{\"mode\":\"lines\",\"name\":\"Random Forest Decision Tree (AUC = 0.933)\",\"x\":[0.0,0.09476309226932668,1.0],\"y\":[0.0,0.9600997506234414,1.0],\"type\":\"scatter\"},{\"mode\":\"lines\",\"name\":\"Random Forest SVM (AUC = 0.998)\",\"x\":[0.0,0.0,1.0],\"y\":[0.0,0.9950124688279302,1.0],\"type\":\"scatter\"},{\"mode\":\"lines\",\"name\":\"Decision Tree XGBoost (AUC = 0.935)\",\"x\":[0.0,0.08977556109725686,1.0],\"y\":[0.0,0.9600997506234414,1.0],\"type\":\"scatter\"},{\"mode\":\"lines\",\"name\":\"Decision Tree Random Forest (AUC = 0.934)\",\"x\":[0.0,0.08977556109725686,1.0],\"y\":[0.0,0.9576059850374065,1.0],\"type\":\"scatter\"},{\"mode\":\"lines\",\"name\":\"Decision Tree Decision Tree (AUC = 0.933)\",\"x\":[0.0,0.09476309226932668,1.0],\"y\":[0.0,0.9600997506234414,1.0],\"type\":\"scatter\"},{\"mode\":\"lines\",\"name\":\"Decision Tree SVM (AUC = 0.998)\",\"x\":[0.0,0.0,1.0],\"y\":[0.0,0.9950124688279302,1.0],\"type\":\"scatter\"},{\"mode\":\"lines\",\"name\":\"Decision Tree XGBoost (AUC = 0.936)\",\"x\":[0.0,0.08478802992518704,1.0],\"y\":[0.0,0.9576059850374065,1.0],\"type\":\"scatter\"},{\"mode\":\"lines\",\"name\":\"Decision Tree Random Forest (AUC = 0.934)\",\"x\":[0.0,0.08977556109725686,1.0],\"y\":[0.0,0.9576059850374065,1.0],\"type\":\"scatter\"},{\"mode\":\"lines\",\"name\":\"Decision Tree Decision Tree (AUC = 0.933)\",\"x\":[0.0,0.09476309226932668,1.0],\"y\":[0.0,0.9600997506234414,1.0],\"type\":\"scatter\"},{\"mode\":\"lines\",\"name\":\"Decision Tree SVM (AUC = 0.996)\",\"x\":[0.0,0.0024937655860349127,1.0],\"y\":[0.0,0.9950124688279302,1.0],\"type\":\"scatter\"},{\"mode\":\"lines\",\"name\":\"Decision Tree XGBoost (AUC = 0.933)\",\"x\":[0.0,0.09476309226932668,1.0],\"y\":[0.0,0.9600997506234414,1.0],\"type\":\"scatter\"},{\"mode\":\"lines\",\"name\":\"Decision Tree Random Forest (AUC = 0.931)\",\"x\":[0.0,0.09226932668329177,1.0],\"y\":[0.0,0.9551122194513716,1.0],\"type\":\"scatter\"},{\"mode\":\"lines\",\"name\":\"Decision Tree Decision Tree (AUC = 0.923)\",\"x\":[0.0,0.10224438902743142,1.0],\"y\":[0.0,0.9476309226932669,1.0],\"type\":\"scatter\"},{\"mode\":\"lines\",\"name\":\"Decision Tree SVM (AUC = 0.999)\",\"x\":[0.0,0.0,1.0],\"y\":[0.0,0.9975062344139651,1.0],\"type\":\"scatter\"},{\"mode\":\"lines\",\"name\":\"SVM XGBoost (AUC = 0.946)\",\"x\":[0.0,0.057356608478802994,1.0],\"y\":[0.0,0.9501246882793017,1.0],\"type\":\"scatter\"},{\"mode\":\"lines\",\"name\":\"SVM Random Forest (AUC = 0.931)\",\"x\":[0.0,0.09226932668329177,1.0],\"y\":[0.0,0.9551122194513716,1.0],\"type\":\"scatter\"},{\"mode\":\"lines\",\"name\":\"SVM Decision Tree (AUC = 0.930)\",\"x\":[0.0,0.10723192019950124,1.0],\"y\":[0.0,0.9675810473815462,1.0],\"type\":\"scatter\"},{\"mode\":\"lines\",\"name\":\"SVM SVM (AUC = 0.999)\",\"x\":[0.0,0.0,1.0],\"y\":[0.0,0.9975062344139651,1.0],\"type\":\"scatter\"},{\"mode\":\"lines\",\"name\":\"SVM XGBoost (AUC = 0.953)\",\"x\":[0.0,0.05236907730673317,1.0],\"y\":[0.0,0.9576059850374065,1.0],\"type\":\"scatter\"},{\"mode\":\"lines\",\"name\":\"SVM Random Forest (AUC = 0.931)\",\"x\":[0.0,0.09226932668329177,1.0],\"y\":[0.0,0.9551122194513716,1.0],\"type\":\"scatter\"},{\"mode\":\"lines\",\"name\":\"SVM Decision Tree (AUC = 0.930)\",\"x\":[0.0,0.10723192019950124,1.0],\"y\":[0.0,0.9675810473815462,1.0],\"type\":\"scatter\"},{\"mode\":\"lines\",\"name\":\"SVM SVM (AUC = 0.996)\",\"x\":[0.0,0.0,1.0],\"y\":[0.0,0.9925187032418953,1.0],\"type\":\"scatter\"},{\"mode\":\"lines\",\"name\":\"SVM XGBoost (AUC = 0.948)\",\"x\":[0.0,0.06733167082294264,1.0],\"y\":[0.0,0.9625935162094763,1.0],\"type\":\"scatter\"},{\"mode\":\"lines\",\"name\":\"SVM Random Forest (AUC = 0.931)\",\"x\":[0.0,0.09226932668329177,1.0],\"y\":[0.0,0.9551122194513716,1.0],\"type\":\"scatter\"},{\"mode\":\"lines\",\"name\":\"SVM Decision Tree (AUC = 0.930)\",\"x\":[0.0,0.10723192019950124,1.0],\"y\":[0.0,0.9675810473815462,1.0],\"type\":\"scatter\"},{\"mode\":\"lines\",\"name\":\"SVM SVM (AUC = 1.000)\",\"x\":[0.0,0.0,1.0],\"y\":[0.0,1.0,1.0],\"type\":\"scatter\"},{\"line\":{\"color\":\"grey\",\"dash\":\"dash\"},\"mode\":\"lines\",\"name\":\"Random Guess\",\"x\":[0,1],\"y\":[0,1],\"type\":\"scatter\"}],                        {\"template\":{\"data\":{\"barpolar\":[{\"marker\":{\"line\":{\"color\":\"white\",\"width\":0.5},\"pattern\":{\"fillmode\":\"overlay\",\"size\":10,\"solidity\":0.2}},\"type\":\"barpolar\"}],\"bar\":[{\"error_x\":{\"color\":\"#2a3f5f\"},\"error_y\":{\"color\":\"#2a3f5f\"},\"marker\":{\"line\":{\"color\":\"white\",\"width\":0.5},\"pattern\":{\"fillmode\":\"overlay\",\"size\":10,\"solidity\":0.2}},\"type\":\"bar\"}],\"carpet\":[{\"aaxis\":{\"endlinecolor\":\"#2a3f5f\",\"gridcolor\":\"#C8D4E3\",\"linecolor\":\"#C8D4E3\",\"minorgridcolor\":\"#C8D4E3\",\"startlinecolor\":\"#2a3f5f\"},\"baxis\":{\"endlinecolor\":\"#2a3f5f\",\"gridcolor\":\"#C8D4E3\",\"linecolor\":\"#C8D4E3\",\"minorgridcolor\":\"#C8D4E3\",\"startlinecolor\":\"#2a3f5f\"},\"type\":\"carpet\"}],\"choropleth\":[{\"colorbar\":{\"outlinewidth\":0,\"ticks\":\"\"},\"type\":\"choropleth\"}],\"contourcarpet\":[{\"colorbar\":{\"outlinewidth\":0,\"ticks\":\"\"},\"type\":\"contourcarpet\"}],\"contour\":[{\"colorbar\":{\"outlinewidth\":0,\"ticks\":\"\"},\"colorscale\":[[0.0,\"#0d0887\"],[0.1111111111111111,\"#46039f\"],[0.2222222222222222,\"#7201a8\"],[0.3333333333333333,\"#9c179e\"],[0.4444444444444444,\"#bd3786\"],[0.5555555555555556,\"#d8576b\"],[0.6666666666666666,\"#ed7953\"],[0.7777777777777778,\"#fb9f3a\"],[0.8888888888888888,\"#fdca26\"],[1.0,\"#f0f921\"]],\"type\":\"contour\"}],\"heatmapgl\":[{\"colorbar\":{\"outlinewidth\":0,\"ticks\":\"\"},\"colorscale\":[[0.0,\"#0d0887\"],[0.1111111111111111,\"#46039f\"],[0.2222222222222222,\"#7201a8\"],[0.3333333333333333,\"#9c179e\"],[0.4444444444444444,\"#bd3786\"],[0.5555555555555556,\"#d8576b\"],[0.6666666666666666,\"#ed7953\"],[0.7777777777777778,\"#fb9f3a\"],[0.8888888888888888,\"#fdca26\"],[1.0,\"#f0f921\"]],\"type\":\"heatmapgl\"}],\"heatmap\":[{\"colorbar\":{\"outlinewidth\":0,\"ticks\":\"\"},\"colorscale\":[[0.0,\"#0d0887\"],[0.1111111111111111,\"#46039f\"],[0.2222222222222222,\"#7201a8\"],[0.3333333333333333,\"#9c179e\"],[0.4444444444444444,\"#bd3786\"],[0.5555555555555556,\"#d8576b\"],[0.6666666666666666,\"#ed7953\"],[0.7777777777777778,\"#fb9f3a\"],[0.8888888888888888,\"#fdca26\"],[1.0,\"#f0f921\"]],\"type\":\"heatmap\"}],\"histogram2dcontour\":[{\"colorbar\":{\"outlinewidth\":0,\"ticks\":\"\"},\"colorscale\":[[0.0,\"#0d0887\"],[0.1111111111111111,\"#46039f\"],[0.2222222222222222,\"#7201a8\"],[0.3333333333333333,\"#9c179e\"],[0.4444444444444444,\"#bd3786\"],[0.5555555555555556,\"#d8576b\"],[0.6666666666666666,\"#ed7953\"],[0.7777777777777778,\"#fb9f3a\"],[0.8888888888888888,\"#fdca26\"],[1.0,\"#f0f921\"]],\"type\":\"histogram2dcontour\"}],\"histogram2d\":[{\"colorbar\":{\"outlinewidth\":0,\"ticks\":\"\"},\"colorscale\":[[0.0,\"#0d0887\"],[0.1111111111111111,\"#46039f\"],[0.2222222222222222,\"#7201a8\"],[0.3333333333333333,\"#9c179e\"],[0.4444444444444444,\"#bd3786\"],[0.5555555555555556,\"#d8576b\"],[0.6666666666666666,\"#ed7953\"],[0.7777777777777778,\"#fb9f3a\"],[0.8888888888888888,\"#fdca26\"],[1.0,\"#f0f921\"]],\"type\":\"histogram2d\"}],\"histogram\":[{\"marker\":{\"pattern\":{\"fillmode\":\"overlay\",\"size\":10,\"solidity\":0.2}},\"type\":\"histogram\"}],\"mesh3d\":[{\"colorbar\":{\"outlinewidth\":0,\"ticks\":\"\"},\"type\":\"mesh3d\"}],\"parcoords\":[{\"line\":{\"colorbar\":{\"outlinewidth\":0,\"ticks\":\"\"}},\"type\":\"parcoords\"}],\"pie\":[{\"automargin\":true,\"type\":\"pie\"}],\"scatter3d\":[{\"line\":{\"colorbar\":{\"outlinewidth\":0,\"ticks\":\"\"}},\"marker\":{\"colorbar\":{\"outlinewidth\":0,\"ticks\":\"\"}},\"type\":\"scatter3d\"}],\"scattercarpet\":[{\"marker\":{\"colorbar\":{\"outlinewidth\":0,\"ticks\":\"\"}},\"type\":\"scattercarpet\"}],\"scattergeo\":[{\"marker\":{\"colorbar\":{\"outlinewidth\":0,\"ticks\":\"\"}},\"type\":\"scattergeo\"}],\"scattergl\":[{\"marker\":{\"colorbar\":{\"outlinewidth\":0,\"ticks\":\"\"}},\"type\":\"scattergl\"}],\"scattermapbox\":[{\"marker\":{\"colorbar\":{\"outlinewidth\":0,\"ticks\":\"\"}},\"type\":\"scattermapbox\"}],\"scatterpolargl\":[{\"marker\":{\"colorbar\":{\"outlinewidth\":0,\"ticks\":\"\"}},\"type\":\"scatterpolargl\"}],\"scatterpolar\":[{\"marker\":{\"colorbar\":{\"outlinewidth\":0,\"ticks\":\"\"}},\"type\":\"scatterpolar\"}],\"scatter\":[{\"fillpattern\":{\"fillmode\":\"overlay\",\"size\":10,\"solidity\":0.2},\"type\":\"scatter\"}],\"scatterternary\":[{\"marker\":{\"colorbar\":{\"outlinewidth\":0,\"ticks\":\"\"}},\"type\":\"scatterternary\"}],\"surface\":[{\"colorbar\":{\"outlinewidth\":0,\"ticks\":\"\"},\"colorscale\":[[0.0,\"#0d0887\"],[0.1111111111111111,\"#46039f\"],[0.2222222222222222,\"#7201a8\"],[0.3333333333333333,\"#9c179e\"],[0.4444444444444444,\"#bd3786\"],[0.5555555555555556,\"#d8576b\"],[0.6666666666666666,\"#ed7953\"],[0.7777777777777778,\"#fb9f3a\"],[0.8888888888888888,\"#fdca26\"],[1.0,\"#f0f921\"]],\"type\":\"surface\"}],\"table\":[{\"cells\":{\"fill\":{\"color\":\"#EBF0F8\"},\"line\":{\"color\":\"white\"}},\"header\":{\"fill\":{\"color\":\"#C8D4E3\"},\"line\":{\"color\":\"white\"}},\"type\":\"table\"}]},\"layout\":{\"annotationdefaults\":{\"arrowcolor\":\"#2a3f5f\",\"arrowhead\":0,\"arrowwidth\":1},\"autotypenumbers\":\"strict\",\"coloraxis\":{\"colorbar\":{\"outlinewidth\":0,\"ticks\":\"\"}},\"colorscale\":{\"diverging\":[[0,\"#8e0152\"],[0.1,\"#c51b7d\"],[0.2,\"#de77ae\"],[0.3,\"#f1b6da\"],[0.4,\"#fde0ef\"],[0.5,\"#f7f7f7\"],[0.6,\"#e6f5d0\"],[0.7,\"#b8e186\"],[0.8,\"#7fbc41\"],[0.9,\"#4d9221\"],[1,\"#276419\"]],\"sequential\":[[0.0,\"#0d0887\"],[0.1111111111111111,\"#46039f\"],[0.2222222222222222,\"#7201a8\"],[0.3333333333333333,\"#9c179e\"],[0.4444444444444444,\"#bd3786\"],[0.5555555555555556,\"#d8576b\"],[0.6666666666666666,\"#ed7953\"],[0.7777777777777778,\"#fb9f3a\"],[0.8888888888888888,\"#fdca26\"],[1.0,\"#f0f921\"]],\"sequentialminus\":[[0.0,\"#0d0887\"],[0.1111111111111111,\"#46039f\"],[0.2222222222222222,\"#7201a8\"],[0.3333333333333333,\"#9c179e\"],[0.4444444444444444,\"#bd3786\"],[0.5555555555555556,\"#d8576b\"],[0.6666666666666666,\"#ed7953\"],[0.7777777777777778,\"#fb9f3a\"],[0.8888888888888888,\"#fdca26\"],[1.0,\"#f0f921\"]]},\"colorway\":[\"#636efa\",\"#EF553B\",\"#00cc96\",\"#ab63fa\",\"#FFA15A\",\"#19d3f3\",\"#FF6692\",\"#B6E880\",\"#FF97FF\",\"#FECB52\"],\"font\":{\"color\":\"#2a3f5f\"},\"geo\":{\"bgcolor\":\"white\",\"lakecolor\":\"white\",\"landcolor\":\"white\",\"showlakes\":true,\"showland\":true,\"subunitcolor\":\"#C8D4E3\"},\"hoverlabel\":{\"align\":\"left\"},\"hovermode\":\"closest\",\"mapbox\":{\"style\":\"light\"},\"paper_bgcolor\":\"white\",\"plot_bgcolor\":\"white\",\"polar\":{\"angularaxis\":{\"gridcolor\":\"#EBF0F8\",\"linecolor\":\"#EBF0F8\",\"ticks\":\"\"},\"bgcolor\":\"white\",\"radialaxis\":{\"gridcolor\":\"#EBF0F8\",\"linecolor\":\"#EBF0F8\",\"ticks\":\"\"}},\"scene\":{\"xaxis\":{\"backgroundcolor\":\"white\",\"gridcolor\":\"#DFE8F3\",\"gridwidth\":2,\"linecolor\":\"#EBF0F8\",\"showbackground\":true,\"ticks\":\"\",\"zerolinecolor\":\"#EBF0F8\"},\"yaxis\":{\"backgroundcolor\":\"white\",\"gridcolor\":\"#DFE8F3\",\"gridwidth\":2,\"linecolor\":\"#EBF0F8\",\"showbackground\":true,\"ticks\":\"\",\"zerolinecolor\":\"#EBF0F8\"},\"zaxis\":{\"backgroundcolor\":\"white\",\"gridcolor\":\"#DFE8F3\",\"gridwidth\":2,\"linecolor\":\"#EBF0F8\",\"showbackground\":true,\"ticks\":\"\",\"zerolinecolor\":\"#EBF0F8\"}},\"shapedefaults\":{\"line\":{\"color\":\"#2a3f5f\"}},\"ternary\":{\"aaxis\":{\"gridcolor\":\"#DFE8F3\",\"linecolor\":\"#A2B1C6\",\"ticks\":\"\"},\"baxis\":{\"gridcolor\":\"#DFE8F3\",\"linecolor\":\"#A2B1C6\",\"ticks\":\"\"},\"bgcolor\":\"white\",\"caxis\":{\"gridcolor\":\"#DFE8F3\",\"linecolor\":\"#A2B1C6\",\"ticks\":\"\"}},\"title\":{\"x\":0.05},\"xaxis\":{\"automargin\":true,\"gridcolor\":\"#EBF0F8\",\"linecolor\":\"#EBF0F8\",\"ticks\":\"\",\"title\":{\"standoff\":15},\"zerolinecolor\":\"#EBF0F8\",\"zerolinewidth\":2},\"yaxis\":{\"automargin\":true,\"gridcolor\":\"#EBF0F8\",\"linecolor\":\"#EBF0F8\",\"ticks\":\"\",\"title\":{\"standoff\":15},\"zerolinecolor\":\"#EBF0F8\",\"zerolinewidth\":2}}},\"title\":{\"text\":\"ROC Curves for Different Models\"},\"xaxis\":{\"title\":{\"text\":\"False Positive Rate (FPR)\"}},\"yaxis\":{\"title\":{\"text\":\"True Positive Rate (TPR)\"}},\"legend\":{\"title\":{\"text\":\"Model\"}},\"width\":1600,\"height\":1200},                        {\"responsive\": true}                    )                };                            </script>        </div>"
      ],
      "text/plain": [
       "Figure({\n",
       "    'data': [{'mode': 'lines',\n",
       "              'name': 'XGBoost XGBoost (AUC = 0.935)',\n",
       "              'type': 'scatter',\n",
       "              'x': [0.0, 0.09226932668329177, 1.0],\n",
       "              'y': [0.0, 0.9625935162094763, 1.0]},\n",
       "             {'mode': 'lines',\n",
       "              'name': 'XGBoost Random Forest (AUC = 0.934)',\n",
       "              'type': 'scatter',\n",
       "              'x': [0.0, 0.09226932668329177, 1.0],\n",
       "              'y': [0.0, 0.9600997506234414, 1.0]},\n",
       "             {'mode': 'lines',\n",
       "              'name': 'XGBoost Decision Tree (AUC = 0.933)',\n",
       "              'type': 'scatter',\n",
       "              'x': [0.0, 0.09476309226932668, 1.0],\n",
       "              'y': [0.0, 0.9600997506234414, 1.0]},\n",
       "             {'mode': 'lines',\n",
       "              'name': 'XGBoost SVM (AUC = 0.999)',\n",
       "              'type': 'scatter',\n",
       "              'x': [0.0, 0.0, 1.0],\n",
       "              'y': [0.0, 0.9975062344139651, 1.0]},\n",
       "             {'mode': 'lines',\n",
       "              'name': 'XGBoost XGBoost (AUC = 0.934)',\n",
       "              'type': 'scatter',\n",
       "              'x': [0.0, 0.09226932668329177, 1.0],\n",
       "              'y': [0.0, 0.9600997506234414, 1.0]},\n",
       "             {'mode': 'lines',\n",
       "              'name': 'XGBoost Random Forest (AUC = 0.933)',\n",
       "              'type': 'scatter',\n",
       "              'x': [0.0, 0.09226932668329177, 1.0],\n",
       "              'y': [0.0, 0.9576059850374065, 1.0]},\n",
       "             {'mode': 'lines',\n",
       "              'name': 'XGBoost Decision Tree (AUC = 0.931)',\n",
       "              'type': 'scatter',\n",
       "              'x': [0.0, 0.0773067331670823, 1.0],\n",
       "              'y': [0.0, 0.940149625935162, 1.0]},\n",
       "             {'mode': 'lines',\n",
       "              'name': 'XGBoost SVM (AUC = 0.999)',\n",
       "              'type': 'scatter',\n",
       "              'x': [0.0, 0.0, 1.0],\n",
       "              'y': [0.0, 0.9975062344139651, 1.0]},\n",
       "             {'mode': 'lines',\n",
       "              'name': 'XGBoost XGBoost (AUC = 0.935)',\n",
       "              'type': 'scatter',\n",
       "              'x': [0.0, 0.09226932668329177, 1.0],\n",
       "              'y': [0.0, 0.9625935162094763, 1.0]},\n",
       "             {'mode': 'lines',\n",
       "              'name': 'XGBoost Random Forest (AUC = 0.933)',\n",
       "              'type': 'scatter',\n",
       "              'x': [0.0, 0.09226932668329177, 1.0],\n",
       "              'y': [0.0, 0.9576059850374065, 1.0]},\n",
       "             {'mode': 'lines',\n",
       "              'name': 'XGBoost Decision Tree (AUC = 0.930)',\n",
       "              'type': 'scatter',\n",
       "              'x': [0.0, 0.10723192019950124, 1.0],\n",
       "              'y': [0.0, 0.9675810473815462, 1.0]},\n",
       "             {'mode': 'lines',\n",
       "              'name': 'XGBoost SVM (AUC = 0.999)',\n",
       "              'type': 'scatter',\n",
       "              'x': [0.0, 0.0, 1.0],\n",
       "              'y': [0.0, 0.9975062344139651, 1.0]},\n",
       "             {'mode': 'lines',\n",
       "              'name': 'Random Forest XGBoost (AUC = 0.935)',\n",
       "              'type': 'scatter',\n",
       "              'x': [0.0, 0.09226932668329177, 1.0],\n",
       "              'y': [0.0, 0.9625935162094763, 1.0]},\n",
       "             {'mode': 'lines',\n",
       "              'name': 'Random Forest Random Forest (AUC = 0.933)',\n",
       "              'type': 'scatter',\n",
       "              'x': [0.0, 0.09226932668329177, 1.0],\n",
       "              'y': [0.0, 0.9576059850374065, 1.0]},\n",
       "             {'mode': 'lines',\n",
       "              'name': 'Random Forest Decision Tree (AUC = 0.930)',\n",
       "              'type': 'scatter',\n",
       "              'x': [0.0, 0.10723192019950124, 1.0],\n",
       "              'y': [0.0, 0.9675810473815462, 1.0]},\n",
       "             {'mode': 'lines',\n",
       "              'name': 'Random Forest SVM (AUC = 0.998)',\n",
       "              'type': 'scatter',\n",
       "              'x': [0.0, 0.0, 1.0],\n",
       "              'y': [0.0, 0.9950124688279302, 1.0]},\n",
       "             {'mode': 'lines',\n",
       "              'name': 'Random Forest XGBoost (AUC = 0.943)',\n",
       "              'type': 'scatter',\n",
       "              'x': [0.0, 0.07481296758104738, 1.0],\n",
       "              'y': [0.0, 0.9600997506234414, 1.0]},\n",
       "             {'mode': 'lines',\n",
       "              'name': 'Random Forest Random Forest (AUC = 0.933)',\n",
       "              'type': 'scatter',\n",
       "              'x': [0.0, 0.08977556109725686, 1.0],\n",
       "              'y': [0.0, 0.9551122194513716, 1.0]},\n",
       "             {'mode': 'lines',\n",
       "              'name': 'Random Forest Decision Tree (AUC = 0.933)',\n",
       "              'type': 'scatter',\n",
       "              'x': [0.0, 0.09476309226932668, 1.0],\n",
       "              'y': [0.0, 0.9600997506234414, 1.0]},\n",
       "             {'mode': 'lines',\n",
       "              'name': 'Random Forest SVM (AUC = 0.999)',\n",
       "              'type': 'scatter',\n",
       "              'x': [0.0, 0.0, 1.0],\n",
       "              'y': [0.0, 0.9975062344139651, 1.0]},\n",
       "             {'mode': 'lines',\n",
       "              'name': 'Random Forest XGBoost (AUC = 0.941)',\n",
       "              'type': 'scatter',\n",
       "              'x': [0.0, 0.06982543640897755, 1.0],\n",
       "              'y': [0.0, 0.9526184538653366, 1.0]},\n",
       "             {'mode': 'lines',\n",
       "              'name': 'Random Forest Random Forest (AUC = 0.933)',\n",
       "              'type': 'scatter',\n",
       "              'x': [0.0, 0.09226932668329177, 1.0],\n",
       "              'y': [0.0, 0.9576059850374065, 1.0]},\n",
       "             {'mode': 'lines',\n",
       "              'name': 'Random Forest Decision Tree (AUC = 0.933)',\n",
       "              'type': 'scatter',\n",
       "              'x': [0.0, 0.09476309226932668, 1.0],\n",
       "              'y': [0.0, 0.9600997506234414, 1.0]},\n",
       "             {'mode': 'lines',\n",
       "              'name': 'Random Forest SVM (AUC = 0.998)',\n",
       "              'type': 'scatter',\n",
       "              'x': [0.0, 0.0, 1.0],\n",
       "              'y': [0.0, 0.9950124688279302, 1.0]},\n",
       "             {'mode': 'lines',\n",
       "              'name': 'Decision Tree XGBoost (AUC = 0.935)',\n",
       "              'type': 'scatter',\n",
       "              'x': [0.0, 0.08977556109725686, 1.0],\n",
       "              'y': [0.0, 0.9600997506234414, 1.0]},\n",
       "             {'mode': 'lines',\n",
       "              'name': 'Decision Tree Random Forest (AUC = 0.934)',\n",
       "              'type': 'scatter',\n",
       "              'x': [0.0, 0.08977556109725686, 1.0],\n",
       "              'y': [0.0, 0.9576059850374065, 1.0]},\n",
       "             {'mode': 'lines',\n",
       "              'name': 'Decision Tree Decision Tree (AUC = 0.933)',\n",
       "              'type': 'scatter',\n",
       "              'x': [0.0, 0.09476309226932668, 1.0],\n",
       "              'y': [0.0, 0.9600997506234414, 1.0]},\n",
       "             {'mode': 'lines',\n",
       "              'name': 'Decision Tree SVM (AUC = 0.998)',\n",
       "              'type': 'scatter',\n",
       "              'x': [0.0, 0.0, 1.0],\n",
       "              'y': [0.0, 0.9950124688279302, 1.0]},\n",
       "             {'mode': 'lines',\n",
       "              'name': 'Decision Tree XGBoost (AUC = 0.936)',\n",
       "              'type': 'scatter',\n",
       "              'x': [0.0, 0.08478802992518704, 1.0],\n",
       "              'y': [0.0, 0.9576059850374065, 1.0]},\n",
       "             {'mode': 'lines',\n",
       "              'name': 'Decision Tree Random Forest (AUC = 0.934)',\n",
       "              'type': 'scatter',\n",
       "              'x': [0.0, 0.08977556109725686, 1.0],\n",
       "              'y': [0.0, 0.9576059850374065, 1.0]},\n",
       "             {'mode': 'lines',\n",
       "              'name': 'Decision Tree Decision Tree (AUC = 0.933)',\n",
       "              'type': 'scatter',\n",
       "              'x': [0.0, 0.09476309226932668, 1.0],\n",
       "              'y': [0.0, 0.9600997506234414, 1.0]},\n",
       "             {'mode': 'lines',\n",
       "              'name': 'Decision Tree SVM (AUC = 0.996)',\n",
       "              'type': 'scatter',\n",
       "              'x': [0.0, 0.0024937655860349127, 1.0],\n",
       "              'y': [0.0, 0.9950124688279302, 1.0]},\n",
       "             {'mode': 'lines',\n",
       "              'name': 'Decision Tree XGBoost (AUC = 0.933)',\n",
       "              'type': 'scatter',\n",
       "              'x': [0.0, 0.09476309226932668, 1.0],\n",
       "              'y': [0.0, 0.9600997506234414, 1.0]},\n",
       "             {'mode': 'lines',\n",
       "              'name': 'Decision Tree Random Forest (AUC = 0.931)',\n",
       "              'type': 'scatter',\n",
       "              'x': [0.0, 0.09226932668329177, 1.0],\n",
       "              'y': [0.0, 0.9551122194513716, 1.0]},\n",
       "             {'mode': 'lines',\n",
       "              'name': 'Decision Tree Decision Tree (AUC = 0.923)',\n",
       "              'type': 'scatter',\n",
       "              'x': [0.0, 0.10224438902743142, 1.0],\n",
       "              'y': [0.0, 0.9476309226932669, 1.0]},\n",
       "             {'mode': 'lines',\n",
       "              'name': 'Decision Tree SVM (AUC = 0.999)',\n",
       "              'type': 'scatter',\n",
       "              'x': [0.0, 0.0, 1.0],\n",
       "              'y': [0.0, 0.9975062344139651, 1.0]},\n",
       "             {'mode': 'lines',\n",
       "              'name': 'SVM XGBoost (AUC = 0.946)',\n",
       "              'type': 'scatter',\n",
       "              'x': [0.0, 0.057356608478802994, 1.0],\n",
       "              'y': [0.0, 0.9501246882793017, 1.0]},\n",
       "             {'mode': 'lines',\n",
       "              'name': 'SVM Random Forest (AUC = 0.931)',\n",
       "              'type': 'scatter',\n",
       "              'x': [0.0, 0.09226932668329177, 1.0],\n",
       "              'y': [0.0, 0.9551122194513716, 1.0]},\n",
       "             {'mode': 'lines',\n",
       "              'name': 'SVM Decision Tree (AUC = 0.930)',\n",
       "              'type': 'scatter',\n",
       "              'x': [0.0, 0.10723192019950124, 1.0],\n",
       "              'y': [0.0, 0.9675810473815462, 1.0]},\n",
       "             {'mode': 'lines',\n",
       "              'name': 'SVM SVM (AUC = 0.999)',\n",
       "              'type': 'scatter',\n",
       "              'x': [0.0, 0.0, 1.0],\n",
       "              'y': [0.0, 0.9975062344139651, 1.0]},\n",
       "             {'mode': 'lines',\n",
       "              'name': 'SVM XGBoost (AUC = 0.953)',\n",
       "              'type': 'scatter',\n",
       "              'x': [0.0, 0.05236907730673317, 1.0],\n",
       "              'y': [0.0, 0.9576059850374065, 1.0]},\n",
       "             {'mode': 'lines',\n",
       "              'name': 'SVM Random Forest (AUC = 0.931)',\n",
       "              'type': 'scatter',\n",
       "              'x': [0.0, 0.09226932668329177, 1.0],\n",
       "              'y': [0.0, 0.9551122194513716, 1.0]},\n",
       "             {'mode': 'lines',\n",
       "              'name': 'SVM Decision Tree (AUC = 0.930)',\n",
       "              'type': 'scatter',\n",
       "              'x': [0.0, 0.10723192019950124, 1.0],\n",
       "              'y': [0.0, 0.9675810473815462, 1.0]},\n",
       "             {'mode': 'lines',\n",
       "              'name': 'SVM SVM (AUC = 0.996)',\n",
       "              'type': 'scatter',\n",
       "              'x': [0.0, 0.0, 1.0],\n",
       "              'y': [0.0, 0.9925187032418953, 1.0]},\n",
       "             {'mode': 'lines',\n",
       "              'name': 'SVM XGBoost (AUC = 0.948)',\n",
       "              'type': 'scatter',\n",
       "              'x': [0.0, 0.06733167082294264, 1.0],\n",
       "              'y': [0.0, 0.9625935162094763, 1.0]},\n",
       "             {'mode': 'lines',\n",
       "              'name': 'SVM Random Forest (AUC = 0.931)',\n",
       "              'type': 'scatter',\n",
       "              'x': [0.0, 0.09226932668329177, 1.0],\n",
       "              'y': [0.0, 0.9551122194513716, 1.0]},\n",
       "             {'mode': 'lines',\n",
       "              'name': 'SVM Decision Tree (AUC = 0.930)',\n",
       "              'type': 'scatter',\n",
       "              'x': [0.0, 0.10723192019950124, 1.0],\n",
       "              'y': [0.0, 0.9675810473815462, 1.0]},\n",
       "             {'mode': 'lines',\n",
       "              'name': 'SVM SVM (AUC = 1.000)',\n",
       "              'type': 'scatter',\n",
       "              'x': [0.0, 0.0, 1.0],\n",
       "              'y': [0.0, 1.0, 1.0]},\n",
       "             {'line': {'color': 'grey', 'dash': 'dash'},\n",
       "              'mode': 'lines',\n",
       "              'name': 'Random Guess',\n",
       "              'type': 'scatter',\n",
       "              'x': [0, 1],\n",
       "              'y': [0, 1]}],\n",
       "    'layout': {'height': 1200,\n",
       "               'legend': {'title': {'text': 'Model'}},\n",
       "               'template': '...',\n",
       "               'title': {'text': 'ROC Curves for Different Models'},\n",
       "               'width': 1600,\n",
       "               'xaxis': {'title': {'text': 'False Positive Rate (FPR)'}},\n",
       "               'yaxis': {'title': {'text': 'True Positive Rate (TPR)'}}}\n",
       "})"
      ]
     },
     "execution_count": 40,
     "metadata": {},
     "output_type": "execute_result"
    }
   ],
   "source": [
    "import plotly.graph_objects as go\n",
    "\n",
    "fig = go.Figure()\n",
    "\n",
    "for index, row in J.iterrows():\n",
    "    if row['AUC_train'] > 0.5:\n",
    "        fig.add_trace(go.Scatter(\n",
    "            x=row['fpr_train'],\n",
    "            y=row['tpr_train'],\n",
    "            mode='lines',\n",
    "            name=f\"{row['selection_model']} {row['train_model']} (AUC = {row['AUC_train']:.3f})\"\n",
    "        ))\n",
    "\n",
    "# Add the random guess line\n",
    "fig.add_trace(go.Scatter(\n",
    "    x=[0, 1],\n",
    "    y=[0, 1],\n",
    "    mode='lines',\n",
    "    line=dict(dash='dash', color='grey'),\n",
    "    name='Random Guess'\n",
    "))\n",
    "\n",
    "# Update layout\n",
    "fig.update_layout(\n",
    "    title='ROC Curves for Different Models',\n",
    "    xaxis_title='False Positive Rate (FPR)',\n",
    "    yaxis_title='True Positive Rate (TPR)',\n",
    "    legend_title='Model',\n",
    "    template='plotly_white',\n",
    "    width=1600,  # Set the width of the canvas\n",
    "    height=1200   # Set the height of the canvas\n",
    ")\n",
    "\n",
    "fig.show()\n"
   ]
  },
  {
   "cell_type": "code",
   "execution_count": 58,
   "metadata": {},
   "outputs": [
    {
     "data": {
      "application/vnd.plotly.v1+json": {
       "config": {
        "plotlyServerURL": "https://plot.ly"
       },
       "data": [
        {
         "marker": {
          "color": [
           "blue",
           "orange",
           "green",
           "red"
          ]
         },
         "type": "bar",
         "x": [
          "AUC_train > 0.5 & AUC_test > 0.5",
          "AUC_train > 0.5 & AUC_test = 0.5",
          "AUC_train = 0.5 & AUC_test > 0.5",
          "AUC_train = 0.5 & AUC_test = 0.5"
         ],
         "y": [
          48,
          0,
          0,
          0
         ]
        }
       ],
       "layout": {
        "template": {
         "data": {
          "bar": [
           {
            "error_x": {
             "color": "#2a3f5f"
            },
            "error_y": {
             "color": "#2a3f5f"
            },
            "marker": {
             "line": {
              "color": "#E5ECF6",
              "width": 0.5
             },
             "pattern": {
              "fillmode": "overlay",
              "size": 10,
              "solidity": 0.2
             }
            },
            "type": "bar"
           }
          ],
          "barpolar": [
           {
            "marker": {
             "line": {
              "color": "#E5ECF6",
              "width": 0.5
             },
             "pattern": {
              "fillmode": "overlay",
              "size": 10,
              "solidity": 0.2
             }
            },
            "type": "barpolar"
           }
          ],
          "carpet": [
           {
            "aaxis": {
             "endlinecolor": "#2a3f5f",
             "gridcolor": "white",
             "linecolor": "white",
             "minorgridcolor": "white",
             "startlinecolor": "#2a3f5f"
            },
            "baxis": {
             "endlinecolor": "#2a3f5f",
             "gridcolor": "white",
             "linecolor": "white",
             "minorgridcolor": "white",
             "startlinecolor": "#2a3f5f"
            },
            "type": "carpet"
           }
          ],
          "choropleth": [
           {
            "colorbar": {
             "outlinewidth": 0,
             "ticks": ""
            },
            "type": "choropleth"
           }
          ],
          "contour": [
           {
            "colorbar": {
             "outlinewidth": 0,
             "ticks": ""
            },
            "colorscale": [
             [
              0,
              "#0d0887"
             ],
             [
              0.1111111111111111,
              "#46039f"
             ],
             [
              0.2222222222222222,
              "#7201a8"
             ],
             [
              0.3333333333333333,
              "#9c179e"
             ],
             [
              0.4444444444444444,
              "#bd3786"
             ],
             [
              0.5555555555555556,
              "#d8576b"
             ],
             [
              0.6666666666666666,
              "#ed7953"
             ],
             [
              0.7777777777777778,
              "#fb9f3a"
             ],
             [
              0.8888888888888888,
              "#fdca26"
             ],
             [
              1,
              "#f0f921"
             ]
            ],
            "type": "contour"
           }
          ],
          "contourcarpet": [
           {
            "colorbar": {
             "outlinewidth": 0,
             "ticks": ""
            },
            "type": "contourcarpet"
           }
          ],
          "heatmap": [
           {
            "colorbar": {
             "outlinewidth": 0,
             "ticks": ""
            },
            "colorscale": [
             [
              0,
              "#0d0887"
             ],
             [
              0.1111111111111111,
              "#46039f"
             ],
             [
              0.2222222222222222,
              "#7201a8"
             ],
             [
              0.3333333333333333,
              "#9c179e"
             ],
             [
              0.4444444444444444,
              "#bd3786"
             ],
             [
              0.5555555555555556,
              "#d8576b"
             ],
             [
              0.6666666666666666,
              "#ed7953"
             ],
             [
              0.7777777777777778,
              "#fb9f3a"
             ],
             [
              0.8888888888888888,
              "#fdca26"
             ],
             [
              1,
              "#f0f921"
             ]
            ],
            "type": "heatmap"
           }
          ],
          "heatmapgl": [
           {
            "colorbar": {
             "outlinewidth": 0,
             "ticks": ""
            },
            "colorscale": [
             [
              0,
              "#0d0887"
             ],
             [
              0.1111111111111111,
              "#46039f"
             ],
             [
              0.2222222222222222,
              "#7201a8"
             ],
             [
              0.3333333333333333,
              "#9c179e"
             ],
             [
              0.4444444444444444,
              "#bd3786"
             ],
             [
              0.5555555555555556,
              "#d8576b"
             ],
             [
              0.6666666666666666,
              "#ed7953"
             ],
             [
              0.7777777777777778,
              "#fb9f3a"
             ],
             [
              0.8888888888888888,
              "#fdca26"
             ],
             [
              1,
              "#f0f921"
             ]
            ],
            "type": "heatmapgl"
           }
          ],
          "histogram": [
           {
            "marker": {
             "pattern": {
              "fillmode": "overlay",
              "size": 10,
              "solidity": 0.2
             }
            },
            "type": "histogram"
           }
          ],
          "histogram2d": [
           {
            "colorbar": {
             "outlinewidth": 0,
             "ticks": ""
            },
            "colorscale": [
             [
              0,
              "#0d0887"
             ],
             [
              0.1111111111111111,
              "#46039f"
             ],
             [
              0.2222222222222222,
              "#7201a8"
             ],
             [
              0.3333333333333333,
              "#9c179e"
             ],
             [
              0.4444444444444444,
              "#bd3786"
             ],
             [
              0.5555555555555556,
              "#d8576b"
             ],
             [
              0.6666666666666666,
              "#ed7953"
             ],
             [
              0.7777777777777778,
              "#fb9f3a"
             ],
             [
              0.8888888888888888,
              "#fdca26"
             ],
             [
              1,
              "#f0f921"
             ]
            ],
            "type": "histogram2d"
           }
          ],
          "histogram2dcontour": [
           {
            "colorbar": {
             "outlinewidth": 0,
             "ticks": ""
            },
            "colorscale": [
             [
              0,
              "#0d0887"
             ],
             [
              0.1111111111111111,
              "#46039f"
             ],
             [
              0.2222222222222222,
              "#7201a8"
             ],
             [
              0.3333333333333333,
              "#9c179e"
             ],
             [
              0.4444444444444444,
              "#bd3786"
             ],
             [
              0.5555555555555556,
              "#d8576b"
             ],
             [
              0.6666666666666666,
              "#ed7953"
             ],
             [
              0.7777777777777778,
              "#fb9f3a"
             ],
             [
              0.8888888888888888,
              "#fdca26"
             ],
             [
              1,
              "#f0f921"
             ]
            ],
            "type": "histogram2dcontour"
           }
          ],
          "mesh3d": [
           {
            "colorbar": {
             "outlinewidth": 0,
             "ticks": ""
            },
            "type": "mesh3d"
           }
          ],
          "parcoords": [
           {
            "line": {
             "colorbar": {
              "outlinewidth": 0,
              "ticks": ""
             }
            },
            "type": "parcoords"
           }
          ],
          "pie": [
           {
            "automargin": true,
            "type": "pie"
           }
          ],
          "scatter": [
           {
            "fillpattern": {
             "fillmode": "overlay",
             "size": 10,
             "solidity": 0.2
            },
            "type": "scatter"
           }
          ],
          "scatter3d": [
           {
            "line": {
             "colorbar": {
              "outlinewidth": 0,
              "ticks": ""
             }
            },
            "marker": {
             "colorbar": {
              "outlinewidth": 0,
              "ticks": ""
             }
            },
            "type": "scatter3d"
           }
          ],
          "scattercarpet": [
           {
            "marker": {
             "colorbar": {
              "outlinewidth": 0,
              "ticks": ""
             }
            },
            "type": "scattercarpet"
           }
          ],
          "scattergeo": [
           {
            "marker": {
             "colorbar": {
              "outlinewidth": 0,
              "ticks": ""
             }
            },
            "type": "scattergeo"
           }
          ],
          "scattergl": [
           {
            "marker": {
             "colorbar": {
              "outlinewidth": 0,
              "ticks": ""
             }
            },
            "type": "scattergl"
           }
          ],
          "scattermapbox": [
           {
            "marker": {
             "colorbar": {
              "outlinewidth": 0,
              "ticks": ""
             }
            },
            "type": "scattermapbox"
           }
          ],
          "scatterpolar": [
           {
            "marker": {
             "colorbar": {
              "outlinewidth": 0,
              "ticks": ""
             }
            },
            "type": "scatterpolar"
           }
          ],
          "scatterpolargl": [
           {
            "marker": {
             "colorbar": {
              "outlinewidth": 0,
              "ticks": ""
             }
            },
            "type": "scatterpolargl"
           }
          ],
          "scatterternary": [
           {
            "marker": {
             "colorbar": {
              "outlinewidth": 0,
              "ticks": ""
             }
            },
            "type": "scatterternary"
           }
          ],
          "surface": [
           {
            "colorbar": {
             "outlinewidth": 0,
             "ticks": ""
            },
            "colorscale": [
             [
              0,
              "#0d0887"
             ],
             [
              0.1111111111111111,
              "#46039f"
             ],
             [
              0.2222222222222222,
              "#7201a8"
             ],
             [
              0.3333333333333333,
              "#9c179e"
             ],
             [
              0.4444444444444444,
              "#bd3786"
             ],
             [
              0.5555555555555556,
              "#d8576b"
             ],
             [
              0.6666666666666666,
              "#ed7953"
             ],
             [
              0.7777777777777778,
              "#fb9f3a"
             ],
             [
              0.8888888888888888,
              "#fdca26"
             ],
             [
              1,
              "#f0f921"
             ]
            ],
            "type": "surface"
           }
          ],
          "table": [
           {
            "cells": {
             "fill": {
              "color": "#EBF0F8"
             },
             "line": {
              "color": "white"
             }
            },
            "header": {
             "fill": {
              "color": "#C8D4E3"
             },
             "line": {
              "color": "white"
             }
            },
            "type": "table"
           }
          ]
         },
         "layout": {
          "annotationdefaults": {
           "arrowcolor": "#2a3f5f",
           "arrowhead": 0,
           "arrowwidth": 1
          },
          "autotypenumbers": "strict",
          "coloraxis": {
           "colorbar": {
            "outlinewidth": 0,
            "ticks": ""
           }
          },
          "colorscale": {
           "diverging": [
            [
             0,
             "#8e0152"
            ],
            [
             0.1,
             "#c51b7d"
            ],
            [
             0.2,
             "#de77ae"
            ],
            [
             0.3,
             "#f1b6da"
            ],
            [
             0.4,
             "#fde0ef"
            ],
            [
             0.5,
             "#f7f7f7"
            ],
            [
             0.6,
             "#e6f5d0"
            ],
            [
             0.7,
             "#b8e186"
            ],
            [
             0.8,
             "#7fbc41"
            ],
            [
             0.9,
             "#4d9221"
            ],
            [
             1,
             "#276419"
            ]
           ],
           "sequential": [
            [
             0,
             "#0d0887"
            ],
            [
             0.1111111111111111,
             "#46039f"
            ],
            [
             0.2222222222222222,
             "#7201a8"
            ],
            [
             0.3333333333333333,
             "#9c179e"
            ],
            [
             0.4444444444444444,
             "#bd3786"
            ],
            [
             0.5555555555555556,
             "#d8576b"
            ],
            [
             0.6666666666666666,
             "#ed7953"
            ],
            [
             0.7777777777777778,
             "#fb9f3a"
            ],
            [
             0.8888888888888888,
             "#fdca26"
            ],
            [
             1,
             "#f0f921"
            ]
           ],
           "sequentialminus": [
            [
             0,
             "#0d0887"
            ],
            [
             0.1111111111111111,
             "#46039f"
            ],
            [
             0.2222222222222222,
             "#7201a8"
            ],
            [
             0.3333333333333333,
             "#9c179e"
            ],
            [
             0.4444444444444444,
             "#bd3786"
            ],
            [
             0.5555555555555556,
             "#d8576b"
            ],
            [
             0.6666666666666666,
             "#ed7953"
            ],
            [
             0.7777777777777778,
             "#fb9f3a"
            ],
            [
             0.8888888888888888,
             "#fdca26"
            ],
            [
             1,
             "#f0f921"
            ]
           ]
          },
          "colorway": [
           "#636efa",
           "#EF553B",
           "#00cc96",
           "#ab63fa",
           "#FFA15A",
           "#19d3f3",
           "#FF6692",
           "#B6E880",
           "#FF97FF",
           "#FECB52"
          ],
          "font": {
           "color": "#2a3f5f"
          },
          "geo": {
           "bgcolor": "white",
           "lakecolor": "white",
           "landcolor": "#E5ECF6",
           "showlakes": true,
           "showland": true,
           "subunitcolor": "white"
          },
          "hoverlabel": {
           "align": "left"
          },
          "hovermode": "closest",
          "mapbox": {
           "style": "light"
          },
          "paper_bgcolor": "white",
          "plot_bgcolor": "#E5ECF6",
          "polar": {
           "angularaxis": {
            "gridcolor": "white",
            "linecolor": "white",
            "ticks": ""
           },
           "bgcolor": "#E5ECF6",
           "radialaxis": {
            "gridcolor": "white",
            "linecolor": "white",
            "ticks": ""
           }
          },
          "scene": {
           "xaxis": {
            "backgroundcolor": "#E5ECF6",
            "gridcolor": "white",
            "gridwidth": 2,
            "linecolor": "white",
            "showbackground": true,
            "ticks": "",
            "zerolinecolor": "white"
           },
           "yaxis": {
            "backgroundcolor": "#E5ECF6",
            "gridcolor": "white",
            "gridwidth": 2,
            "linecolor": "white",
            "showbackground": true,
            "ticks": "",
            "zerolinecolor": "white"
           },
           "zaxis": {
            "backgroundcolor": "#E5ECF6",
            "gridcolor": "white",
            "gridwidth": 2,
            "linecolor": "white",
            "showbackground": true,
            "ticks": "",
            "zerolinecolor": "white"
           }
          },
          "shapedefaults": {
           "line": {
            "color": "#2a3f5f"
           }
          },
          "ternary": {
           "aaxis": {
            "gridcolor": "white",
            "linecolor": "white",
            "ticks": ""
           },
           "baxis": {
            "gridcolor": "white",
            "linecolor": "white",
            "ticks": ""
           },
           "bgcolor": "#E5ECF6",
           "caxis": {
            "gridcolor": "white",
            "linecolor": "white",
            "ticks": ""
           }
          },
          "title": {
           "x": 0.05
          },
          "xaxis": {
           "automargin": true,
           "gridcolor": "white",
           "linecolor": "white",
           "ticks": "",
           "title": {
            "standoff": 15
           },
           "zerolinecolor": "white",
           "zerolinewidth": 2
          },
          "yaxis": {
           "automargin": true,
           "gridcolor": "white",
           "linecolor": "white",
           "ticks": "",
           "title": {
            "standoff": 15
           },
           "zerolinecolor": "white",
           "zerolinewidth": 2
          }
         }
        },
        "title": {
         "text": "Count of AUC_train and AUC_test Values"
        },
        "xaxis": {
         "title": {
          "text": "AUC Value Combination"
         }
        },
        "yaxis": {
         "title": {
          "text": "Count"
         }
        }
       }
      }
     },
     "metadata": {},
     "output_type": "display_data"
    }
   ],
   "source": [
    "import plotly.graph_objects as go\n",
    "\n",
    "# Count the occurrences for AUC_train > 0.5\n",
    "auc_train_greater_than_0_5 = J[J['AUC_train'] > 0.5]\n",
    "auc_test_greater_than_0_5_for_train_greater_than_0_5 = (auc_train_greater_than_0_5['AUC_test'] > 0.5).sum()\n",
    "auc_test_equal_to_0_5_for_train_greater_than_0_5 = (auc_train_greater_than_0_5['AUC_test'] == 0.5).sum()\n",
    "\n",
    "# Count the occurrences for AUC_train = 0.5\n",
    "auc_train_equal_to_0_5 = J[J['AUC_train'] == 0.5]\n",
    "auc_test_greater_than_0_5_for_train_equal_to_0_5 = (auc_train_equal_to_0_5['AUC_test'] > 0.5).sum()\n",
    "auc_test_equal_to_0_5_for_train_equal_to_0_5 = (auc_train_equal_to_0_5['AUC_test'] == 0.5).sum()\n",
    "\n",
    "# Create a bar chart\n",
    "labels = [\n",
    "    'AUC_train > 0.5 & AUC_test > 0.5',\n",
    "    'AUC_train > 0.5 & AUC_test = 0.5',\n",
    "    'AUC_train = 0.5 & AUC_test > 0.5',\n",
    "    'AUC_train = 0.5 & AUC_test = 0.5'\n",
    "]\n",
    "counts = [\n",
    "    auc_test_greater_than_0_5_for_train_greater_than_0_5,\n",
    "    auc_test_equal_to_0_5_for_train_greater_than_0_5,\n",
    "    auc_test_greater_than_0_5_for_train_equal_to_0_5,\n",
    "    auc_test_equal_to_0_5_for_train_equal_to_0_5\n",
    "]\n",
    "\n",
    "fig = go.Figure(data=[go.Bar(x=labels, y=counts, marker_color=['blue', 'orange', 'green', 'red'])])\n",
    "fig.update_layout(\n",
    "    title='Count of AUC_train and AUC_test Values',\n",
    "    xaxis_title='AUC Value Combination',\n",
    "    yaxis_title='Count'\n",
    ")\n",
    "fig.show()"
   ]
  },
  {
   "cell_type": "code",
   "execution_count": null,
   "metadata": {},
   "outputs": [],
   "source": []
  }
 ],
 "metadata": {
  "kernelspec": {
   "display_name": ".venv",
   "language": "python",
   "name": "python3"
  },
  "language_info": {
   "codemirror_mode": {
    "name": "ipython",
    "version": 3
   },
   "file_extension": ".py",
   "mimetype": "text/x-python",
   "name": "python",
   "nbconvert_exporter": "python",
   "pygments_lexer": "ipython3",
   "version": "3.11.9"
  }
 },
 "nbformat": 4,
 "nbformat_minor": 2
}
