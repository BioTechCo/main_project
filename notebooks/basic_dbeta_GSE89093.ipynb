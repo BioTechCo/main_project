{
 "cells": [
  {
   "cell_type": "code",
   "execution_count": 3,
   "metadata": {},
   "outputs": [],
   "source": [
    "import pandas as pd\n",
    "import numpy as np"
   ]
  },
  {
   "cell_type": "code",
   "execution_count": 6,
   "metadata": {},
   "outputs": [],
   "source": [
    "file_endings = \"GSE89093\""
   ]
  },
  {
   "cell_type": "code",
   "execution_count": 98,
   "metadata": {},
   "outputs": [],
   "source": [
    "train = pd.read_csv(f\"../champ_result/GSE89093.csv\")"
   ]
  },
  {
   "cell_type": "code",
   "execution_count": null,
   "metadata": {},
   "outputs": [],
   "source": [
    "train_value = train.iloc[:, 1:]\n",
    "train_value.head()"
   ]
  },
  {
   "cell_type": "code",
   "execution_count": 100,
   "metadata": {},
   "outputs": [],
   "source": [
    "phe = pd.read_csv('../champ_result/GSE89093_phenotype.csv')\n",
    "mask = phe['cancer_status'] == 'healthy'"
   ]
  },
  {
   "cell_type": "code",
   "execution_count": 101,
   "metadata": {},
   "outputs": [],
   "source": [
    "train_normal = train_value.iloc[:,mask.values]\n",
    "train_tumor = train_value.iloc[:,~mask.values]\n",
    "train_normal = train_normal.T.reset_index(drop=True).T\n",
    "train_tumor = train_tumor.T.reset_index(drop=True).T"
   ]
  },
  {
   "cell_type": "code",
   "execution_count": null,
   "metadata": {},
   "outputs": [],
   "source": [
    "# train_normal\n",
    "train_tumor"
   ]
  },
  {
   "cell_type": "markdown",
   "metadata": {},
   "source": [
    "##### Calculate Δβ"
   ]
  },
  {
   "cell_type": "code",
   "execution_count": 103,
   "metadata": {},
   "outputs": [],
   "source": [
    "# remove outlier based on every column\n",
    "def IQR(df):\n",
    "    Q1 = df.quantile(0.25)\n",
    "    Q3 = df.quantile(0.75)\n",
    "    IQR = Q3 - Q1\n",
    "    upper_fence = Q3 + IQR*1.5\n",
    "    lower_fence = Q1 - IQR*1.5\n",
    "    return upper_fence,lower_fence\n",
    "def no_outlier(df):\n",
    "    upper_fence, lower_fence = IQR(df)\n",
    "    ddf=df[(df>lower_fence)&(df<upper_fence)]\n",
    "    return ddf"
   ]
  },
  {
   "cell_type": "code",
   "execution_count": 104,
   "metadata": {},
   "outputs": [],
   "source": [
    "train_normal = no_outlier(train_normal)\n",
    "train_tumor = no_outlier(train_tumor)"
   ]
  },
  {
   "cell_type": "code",
   "execution_count": 105,
   "metadata": {},
   "outputs": [],
   "source": [
    "train_normal_avg = train_normal.mean(skipna=True, axis = 0)"
   ]
  },
  {
   "cell_type": "code",
   "execution_count": 106,
   "metadata": {},
   "outputs": [],
   "source": [
    "train_tumor=(train_tumor).subtract(train_normal_avg, axis = 1)"
   ]
  },
  {
   "cell_type": "code",
   "execution_count": 107,
   "metadata": {},
   "outputs": [],
   "source": [
    "train_tumor=no_outlier(train_tumor)"
   ]
  },
  {
   "cell_type": "code",
   "execution_count": 108,
   "metadata": {},
   "outputs": [],
   "source": [
    "train_tumor_mean = train_tumor.mean(skipna=True, axis = 1)"
   ]
  },
  {
   "cell_type": "code",
   "execution_count": null,
   "metadata": {},
   "outputs": [],
   "source": [
    "dbeta = pd.merge(train.iloc[:,:1], pd.DataFrame(train_tumor_mean, columns = [\"dbeta\"]), left_index=True, right_index=True)\n",
    "dbeta"
   ]
  },
  {
   "cell_type": "code",
   "execution_count": 110,
   "metadata": {},
   "outputs": [],
   "source": [
    "# rename ID_REF to ID\n",
    "dbeta.rename(columns={\"ID_REF\": \"ID\"}, inplace=True)"
   ]
  },
  {
   "cell_type": "code",
   "execution_count": null,
   "metadata": {},
   "outputs": [],
   "source": [
    "# %matplotlib inline\n",
    "import matplotlib.pyplot as plt\n",
    "import seaborn as sns\n",
    "sns.kdeplot(dbeta['dbeta'], label='healthy')\n",
    "plt.xlabel('delta Beta value')\n",
    "plt.title('Density plot of delta Beta value')"
   ]
  },
  {
   "cell_type": "code",
   "execution_count": null,
   "metadata": {},
   "outputs": [],
   "source": [
    "GPL13534 = pd.read_csv(\"../external_result\\GPL13534-11288.txt\", sep=\"\\t\")"
   ]
  },
  {
   "cell_type": "code",
   "execution_count": null,
   "metadata": {},
   "outputs": [],
   "source": [
    "GPL13534.columns"
   ]
  },
  {
   "cell_type": "code",
   "execution_count": null,
   "metadata": {},
   "outputs": [],
   "source": [
    "GPL13534 = GPL13534[[\"ID\", \"UCSC_RefGene_Name\", \"UCSC_RefGene_Group\"]]\n",
    "GPL13534.dropna(inplace=True)\n",
    "GPL13534"
   ]
  },
  {
   "cell_type": "code",
   "execution_count": null,
   "metadata": {},
   "outputs": [],
   "source": [
    "result = pd.merge(dbeta, GPL13534, on=\"ID\", how=\"inner\")\n",
    "result"
   ]
  },
  {
   "cell_type": "code",
   "execution_count": null,
   "metadata": {},
   "outputs": [],
   "source": [
    "result['UCSC_RefGene_Name'] = result['UCSC_RefGene_Name'].str.split(';').str[0]\n",
    "result['UCSC_RefGene_Group'] = result['UCSC_RefGene_Group'].str.split(';').str[0]\n",
    "result"
   ]
  },
  {
   "cell_type": "code",
   "execution_count": null,
   "metadata": {},
   "outputs": [],
   "source": [
    "def find_max_dBeta_grouped(group):\n",
    "    idx_max = group['dbeta'].abs().idxmax()\n",
    "    return group.loc[idx_max]\n",
    "\n",
    "result_max_per_gene = result.groupby(\"UCSC_RefGene_Name\").apply(find_max_dBeta_grouped).reset_index(drop=True)"
   ]
  },
  {
   "cell_type": "code",
   "execution_count": 118,
   "metadata": {},
   "outputs": [],
   "source": [
    "single = pd.read_csv('../comorbidity/matchgene174_single_3Y10__OR2.txt', sep='\\t', header=None)"
   ]
  },
  {
   "cell_type": "code",
   "execution_count": null,
   "metadata": {},
   "outputs": [],
   "source": [
    "result_max_per_gene_single = result_max_per_gene[result_max_per_gene['UCSC_RefGene_Name'].isin(single[0])]\n",
    "result_max_per_gene_single"
   ]
  },
  {
   "cell_type": "code",
   "execution_count": 120,
   "metadata": {},
   "outputs": [
    {
     "data": {
      "text/plain": [
       "'GSE89093'"
      ]
     },
     "execution_count": 120,
     "metadata": {},
     "output_type": "execute_result"
    }
   ],
   "source": [
    "file_endings"
   ]
  },
  {
   "cell_type": "code",
   "execution_count": 122,
   "metadata": {},
   "outputs": [],
   "source": [
    "result_max_per_gene_single.to_csv(f\"../result/result_basic_dbeta_{file_endings}.csv\", index=False)"
   ]
  },
  {
   "cell_type": "markdown",
   "metadata": {},
   "source": [
    "Lazy reading, skip when exectuing the code from top to bottom."
   ]
  },
  {
   "cell_type": "code",
   "execution_count": 7,
   "metadata": {},
   "outputs": [],
   "source": [
    "result_basic_dbeta = pd.read_csv(f\"../result/result_basic_dbeta_{file_endings}.csv\")"
   ]
  },
  {
   "cell_type": "code",
   "execution_count": null,
   "metadata": {},
   "outputs": [],
   "source": [
    "dbeta_process_liquid = result_basic_dbeta.copy()\n",
    "dbeta_process_liquid"
   ]
  },
  {
   "cell_type": "markdown",
   "metadata": {},
   "source": [
    "Filter by TSS1500 & TSS200 (Optional)"
   ]
  },
  {
   "cell_type": "code",
   "execution_count": null,
   "metadata": {},
   "outputs": [],
   "source": [
    "# remove rows that UCSC_RefGene_Group != 'TSS200' or 'TSS1500'\n",
    "dbeta_process_liquid = dbeta_process_liquid[dbeta_process_liquid['UCSC_RefGene_Group'].isin(['TSS200', 'TSS1500'])]\n",
    "dbeta_process_liquid"
   ]
  },
  {
   "cell_type": "code",
   "execution_count": 9,
   "metadata": {},
   "outputs": [],
   "source": [
    "result_max_per_gene_single = pd.read_csv(f\"../result/result_basic_process.csv\")"
   ]
  },
  {
   "cell_type": "code",
   "execution_count": null,
   "metadata": {},
   "outputs": [],
   "source": [
    "dbeta_process_tissue = result_max_per_gene_single.copy()\n",
    "dbeta_process_tissue.columns = ['ID', 'dbeta', 'UCSC_RefGene_Name']\n",
    "dbeta_process_tissue"
   ]
  },
  {
   "cell_type": "code",
   "execution_count": null,
   "metadata": {},
   "outputs": [],
   "source": [
    "# intersect between liquid and tissue\n",
    "interseted = pd.merge(dbeta_process_liquid, dbeta_process_tissue, on=\"ID\", how=\"inner\")\n",
    "interseted = interseted[(interseted['dbeta_x'] * interseted['dbeta_y']) > 0]\n",
    "interseted = interseted.drop(columns=['UCSC_RefGene_Name_y'])\n",
    "interseted = interseted.rename(columns={'UCSC_RefGene_Name_x': 'UCSC_RefGene_Name'})\n",
    "interseted = interseted.rename(columns={'dbeta_x': 'dbeta_liquid'})\n",
    "interseted = interseted.rename(columns={'dbeta_y': 'dbeta_tissue'})\n",
    "interseted = interseted[['ID', 'UCSC_RefGene_Name', 'dbeta_liquid', 'dbeta_tissue']]\n",
    "print(interseted.shape)\n",
    "interseted"
   ]
  },
  {
   "cell_type": "code",
   "execution_count": 12,
   "metadata": {},
   "outputs": [
    {
     "data": {
      "image/png": "[encoded data removed]",
      "text/plain": [
       "<Figure size 640x480 with 1 Axes>"
      ]
     },
     "metadata": {},
     "output_type": "display_data"
    }
   ],
   "source": [
    "# draw scatter plot for liquid and tissue\n",
    "import matplotlib.pyplot as plt\n",
    "import seaborn as sns\n",
    "interseted['status'] = np.where(abs(interseted['dbeta_liquid']) < 0.2, 'liquid_dbeta < 0.2', 'liquid_dbeta >= 0.2')\n",
    "\n",
    "sns.scatterplot(\n",
    "    data=interseted,\n",
    "    x='dbeta_liquid',\n",
    "    y='dbeta_tissue',\n",
    "    hue='status',\n",
    "    palette=['blue', 'gray'])\n",
    "plt.xlabel('dbeta_liquid')\n",
    "plt.ylabel('dbeta_tissue')\n",
    "plt.title('Scatter plot of dbeta between liquid and tissue')\n",
    "plt.axhline(0, color='black', linewidth=1, linestyle='--')\n",
    "plt.axvline(0, color='black', linewidth=1, linestyle='--')\n",
    "plt.axvline(0.2, color='red', linewidth=1, linestyle='--')\n",
    "plt.axvline(-0.2, color='red', linewidth=1, linestyle='--')\n",
    "plt.show()"
   ]
  },
  {
   "cell_type": "code",
   "execution_count": null,
   "metadata": {},
   "outputs": [],
   "source": [
    "interseted = interseted[abs(interseted['dbeta_liquid']) >= 0.2]\n",
    "interseted = interseted.drop(columns=['status'])\n",
    "print(interseted.shape)\n",
    "interseted"
   ]
  },
  {
   "cell_type": "code",
   "execution_count": 14,
   "metadata": {},
   "outputs": [],
   "source": [
    "interseted.to_csv(f\"../result/train_and_GSE89093_interseted.csv\", index=False)"
   ]
  }
 ],
 "metadata": {
  "kernelspec": {
   "display_name": "venv",
   "language": "python",
   "name": "python3"
  },
  "language_info": {
   "codemirror_mode": {
    "name": "ipython",
    "version": 3
   },
   "file_extension": ".py",
   "mimetype": "text/x-python",
   "name": "python",
   "nbconvert_exporter": "python",
   "pygments_lexer": "ipython3",
   "version": "3.10.11"
  }
 },
 "nbformat": 4,
 "nbformat_minor": 2
}
