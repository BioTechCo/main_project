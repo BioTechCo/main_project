{
 "cells": [
  {
   "cell_type": "code",
   "execution_count": 2,
   "metadata": {},
   "outputs": [],
   "source": [
    "import pandas as pd\n",
    "import numpy as np"
   ]
  },
  {
   "cell_type": "code",
   "execution_count": 116,
   "metadata": {},
   "outputs": [
    {
     "name": "stderr",
     "output_type": "stream",
     "text": [
      "C:\\Users\\Administrator\\AppData\\Local\\Temp\\ipykernel_18480\\3228984633.py:1: DtypeWarning: Columns (1,2,3,4,5,6,7,8,9,10,11,12,13,14,15,16,17,18,19,20,21,22,23,24,25,26,27,28,29,30,31,32,33,34,35,36,37,38,39,40,41,42,43,44,45,46,47,48,49,50,51,52,53,54,55,56,57,58,59,60,61,62,63,64,65,66,67,68,69,70,71,72,73,74,75,76,77,78,79,80,81,82,83,84,85,86,87,88,89,90,91,92) have mixed types. Specify dtype option on import or set low_memory=False.\n",
      "  train = pd.read_csv(f\"../../乳癌液態/GSE89093/GSE89093_all_beta_normalized.csv\")\n"
     ]
    }
   ],
   "source": [
    "train = pd.read_csv(f\"../../乳癌液態/GSE89093/GSE89093_all_beta_normalized.csv\")"
   ]
  },
  {
   "cell_type": "code",
   "execution_count": 117,
   "metadata": {},
   "outputs": [
    {
     "data": {
      "text/html": [
       "<div>\n",
       "<style scoped>\n",
       "    .dataframe tbody tr th:only-of-type {\n",
       "        vertical-align: middle;\n",
       "    }\n",
       "\n",
       "    .dataframe tbody tr th {\n",
       "        vertical-align: top;\n",
       "    }\n",
       "\n",
       "    .dataframe thead th {\n",
       "        text-align: right;\n",
       "    }\n",
       "</style>\n",
       "<table border=\"1\" class=\"dataframe\">\n",
       "  <thead>\n",
       "    <tr style=\"text-align: right;\">\n",
       "      <th></th>\n",
       "      <th>1</th>\n",
       "      <th>2</th>\n",
       "      <th>3</th>\n",
       "      <th>4</th>\n",
       "      <th>5</th>\n",
       "      <th>6</th>\n",
       "      <th>7</th>\n",
       "      <th>8</th>\n",
       "      <th>9</th>\n",
       "      <th>10</th>\n",
       "      <th>...</th>\n",
       "      <th>83</th>\n",
       "      <th>84</th>\n",
       "      <th>85</th>\n",
       "      <th>86</th>\n",
       "      <th>87</th>\n",
       "      <th>88</th>\n",
       "      <th>89</th>\n",
       "      <th>90</th>\n",
       "      <th>91</th>\n",
       "      <th>92</th>\n",
       "    </tr>\n",
       "  </thead>\n",
       "  <tbody>\n",
       "    <tr>\n",
       "      <th>0</th>\n",
       "      <td>0.486644</td>\n",
       "      <td>0.47279</td>\n",
       "      <td>0.440157</td>\n",
       "      <td>0.401009</td>\n",
       "      <td>0.403449</td>\n",
       "      <td>0.453738</td>\n",
       "      <td>0.50543</td>\n",
       "      <td>0.525945</td>\n",
       "      <td>0.539579</td>\n",
       "      <td>0.378885</td>\n",
       "      <td>...</td>\n",
       "      <td>0.586559</td>\n",
       "      <td>0.557733</td>\n",
       "      <td>0.515352</td>\n",
       "      <td>0.570047</td>\n",
       "      <td>0.586289</td>\n",
       "      <td>0.428182</td>\n",
       "      <td>0.410767</td>\n",
       "      <td>0.535594</td>\n",
       "      <td>0.561125</td>\n",
       "      <td>0.534982</td>\n",
       "    </tr>\n",
       "    <tr>\n",
       "      <th>1</th>\n",
       "      <td>0.989213</td>\n",
       "      <td>0.993538</td>\n",
       "      <td>0.991012</td>\n",
       "      <td>0.995878</td>\n",
       "      <td>0.996242</td>\n",
       "      <td>0.992823</td>\n",
       "      <td>0.990628</td>\n",
       "      <td>0.992809</td>\n",
       "      <td>0.999285</td>\n",
       "      <td>0.99813</td>\n",
       "      <td>...</td>\n",
       "      <td>0.980657</td>\n",
       "      <td>0.994747</td>\n",
       "      <td>0.987606</td>\n",
       "      <td>0.994711</td>\n",
       "      <td>0.982437</td>\n",
       "      <td>0.982954</td>\n",
       "      <td>0.994045</td>\n",
       "      <td>0.987665</td>\n",
       "      <td>0.993932</td>\n",
       "      <td>0.991112</td>\n",
       "    </tr>\n",
       "    <tr>\n",
       "      <th>2</th>\n",
       "      <td>0.984875</td>\n",
       "      <td>0.951471</td>\n",
       "      <td>0.948615</td>\n",
       "      <td>0.949571</td>\n",
       "      <td>0.963231</td>\n",
       "      <td>0.972137</td>\n",
       "      <td>0.972501</td>\n",
       "      <td>0.969343</td>\n",
       "      <td>0.950113</td>\n",
       "      <td>0.964967</td>\n",
       "      <td>...</td>\n",
       "      <td>0.966235</td>\n",
       "      <td>0.960497</td>\n",
       "      <td>0.955022</td>\n",
       "      <td>0.955616</td>\n",
       "      <td>0.936133</td>\n",
       "      <td>0.955798</td>\n",
       "      <td>0.937965</td>\n",
       "      <td>0.965013</td>\n",
       "      <td>0.942853</td>\n",
       "      <td>0.945216</td>\n",
       "    </tr>\n",
       "    <tr>\n",
       "      <th>3</th>\n",
       "      <td>0.102033</td>\n",
       "      <td>0.168589</td>\n",
       "      <td>0.158073</td>\n",
       "      <td>0.141595</td>\n",
       "      <td>0.124284</td>\n",
       "      <td>0.179538</td>\n",
       "      <td>0.181141</td>\n",
       "      <td>0.198009</td>\n",
       "      <td>0.171876</td>\n",
       "      <td>0.160247</td>\n",
       "      <td>...</td>\n",
       "      <td>0.164425</td>\n",
       "      <td>0.146259</td>\n",
       "      <td>0.162503</td>\n",
       "      <td>0.170724</td>\n",
       "      <td>0.15129</td>\n",
       "      <td>0.113963</td>\n",
       "      <td>0.176928</td>\n",
       "      <td>0.133602</td>\n",
       "      <td>0.147707</td>\n",
       "      <td>0.166224</td>\n",
       "    </tr>\n",
       "    <tr>\n",
       "      <th>4</th>\n",
       "      <td>0.798909</td>\n",
       "      <td>0.720664</td>\n",
       "      <td>0.745585</td>\n",
       "      <td>0.75112</td>\n",
       "      <td>0.738786</td>\n",
       "      <td>0.777767</td>\n",
       "      <td>0.776491</td>\n",
       "      <td>0.839313</td>\n",
       "      <td>0.830973</td>\n",
       "      <td>0.844176</td>\n",
       "      <td>...</td>\n",
       "      <td>0.795153</td>\n",
       "      <td>0.799779</td>\n",
       "      <td>0.79659</td>\n",
       "      <td>0.831788</td>\n",
       "      <td>0.794952</td>\n",
       "      <td>0.783985</td>\n",
       "      <td>0.720944</td>\n",
       "      <td>0.756649</td>\n",
       "      <td>0.848983</td>\n",
       "      <td>0.820339</td>\n",
       "    </tr>\n",
       "  </tbody>\n",
       "</table>\n",
       "<p>5 rows × 92 columns</p>\n",
       "</div>"
      ],
      "text/plain": [
       "          1         2         3         4         5         6         7  \\\n",
       "0  0.486644   0.47279  0.440157  0.401009  0.403449  0.453738   0.50543   \n",
       "1  0.989213  0.993538  0.991012  0.995878  0.996242  0.992823  0.990628   \n",
       "2  0.984875  0.951471  0.948615  0.949571  0.963231  0.972137  0.972501   \n",
       "3  0.102033  0.168589  0.158073  0.141595  0.124284  0.179538  0.181141   \n",
       "4  0.798909  0.720664  0.745585   0.75112  0.738786  0.777767  0.776491   \n",
       "\n",
       "          8         9        10  ...        83        84        85        86  \\\n",
       "0  0.525945  0.539579  0.378885  ...  0.586559  0.557733  0.515352  0.570047   \n",
       "1  0.992809  0.999285   0.99813  ...  0.980657  0.994747  0.987606  0.994711   \n",
       "2  0.969343  0.950113  0.964967  ...  0.966235  0.960497  0.955022  0.955616   \n",
       "3  0.198009  0.171876  0.160247  ...  0.164425  0.146259  0.162503  0.170724   \n",
       "4  0.839313  0.830973  0.844176  ...  0.795153  0.799779   0.79659  0.831788   \n",
       "\n",
       "         87        88        89        90        91        92  \n",
       "0  0.586289  0.428182  0.410767  0.535594  0.561125  0.534982  \n",
       "1  0.982437  0.982954  0.994045  0.987665  0.993932  0.991112  \n",
       "2  0.936133  0.955798  0.937965  0.965013  0.942853  0.945216  \n",
       "3   0.15129  0.113963  0.176928  0.133602  0.147707  0.166224  \n",
       "4  0.794952  0.783985  0.720944  0.756649  0.848983  0.820339  \n",
       "\n",
       "[5 rows x 92 columns]"
      ]
     },
     "execution_count": 117,
     "metadata": {},
     "output_type": "execute_result"
    }
   ],
   "source": [
    "train_value = train.iloc[:, 1:]\n",
    "train_value.head()"
   ]
  },
  {
   "cell_type": "code",
   "execution_count": 118,
   "metadata": {},
   "outputs": [],
   "source": [
    "phe = train[train['0'].isin(['dummy'])].iloc[:,1::]\n",
    "mask = phe == 'healthy'"
   ]
  },
  {
   "cell_type": "code",
   "execution_count": 119,
   "metadata": {},
   "outputs": [],
   "source": [
    "train_normal = train_value.iloc[:,np.nonzero(mask)[1]]\n",
    "train_tumor = train_value.iloc[:,np.nonzero(~mask)[1]]\n",
    "train_normal = train_normal.T.reset_index(drop=True).T\n",
    "train_tumor = train_tumor.T.reset_index(drop=True).T"
   ]
  },
  {
   "cell_type": "code",
   "execution_count": 120,
   "metadata": {},
   "outputs": [],
   "source": [
    "train_normal=train_normal.iloc[:-1,:]\n",
    "train_tumor=train_tumor.iloc[:-1,:]\n"
   ]
  },
  {
   "cell_type": "code",
   "execution_count": 121,
   "metadata": {},
   "outputs": [],
   "source": [
    "train_normal = train_normal.astype(float)\n",
    "train_tumor = train_tumor.astype(float)\n",
    "# train_normal"
   ]
  },
  {
   "cell_type": "markdown",
   "metadata": {},
   "source": [
    "##### Calculate Δβ"
   ]
  },
  {
   "cell_type": "code",
   "execution_count": 70,
   "metadata": {},
   "outputs": [],
   "source": [
    "# remove outlier based on every column\n",
    "def IQR(df):\n",
    "    Q1 = df.quantile(0.25)\n",
    "    Q3 = df.quantile(0.75)\n",
    "    IQR = Q3 - Q1\n",
    "    upper_fence = Q3 + IQR*1.5\n",
    "    lower_fence = Q1 - IQR*1.5\n",
    "    return upper_fence,lower_fence\n",
    "def no_outlier(df):\n",
    "    upper_fence, lower_fence = IQR(df)\n",
    "    ddf=df[(df>lower_fence)&(df<upper_fence)]\n",
    "    return ddf"
   ]
  },
  {
   "cell_type": "code",
   "execution_count": 122,
   "metadata": {},
   "outputs": [],
   "source": [
    "train_normal = no_outlier(train_normal)\n",
    "train_tumor = no_outlier(train_tumor)"
   ]
  },
  {
   "cell_type": "code",
   "execution_count": 123,
   "metadata": {},
   "outputs": [
    {
     "data": {
      "text/plain": [
       "0         0.519146\n",
       "1         0.990404\n",
       "2         0.953030\n",
       "3         0.184443\n",
       "4         0.805800\n",
       "            ...   \n",
       "450819    0.917263\n",
       "450820    0.031839\n",
       "450821    0.290072\n",
       "450822    0.524766\n",
       "450823    0.898986\n",
       "Length: 450824, dtype: float64"
      ]
     },
     "execution_count": 123,
     "metadata": {},
     "output_type": "execute_result"
    }
   ],
   "source": [
    "train_normal_avg = train_normal.mean(skipna=True, axis = 1)\n",
    "train_normal_avg"
   ]
  },
  {
   "cell_type": "code",
   "execution_count": 124,
   "metadata": {},
   "outputs": [],
   "source": [
    "train_tumor=(train_tumor).subtract(train_normal_avg, axis = 0)"
   ]
  },
  {
   "cell_type": "code",
   "execution_count": 125,
   "metadata": {},
   "outputs": [],
   "source": [
    "train_tumor=no_outlier(train_tumor)"
   ]
  },
  {
   "cell_type": "code",
   "execution_count": 126,
   "metadata": {},
   "outputs": [],
   "source": [
    "train_tumor_mean = train_tumor.mean(skipna=True, axis = 1)"
   ]
  },
  {
   "cell_type": "code",
   "execution_count": 127,
   "metadata": {},
   "outputs": [
    {
     "data": {
      "text/html": [
       "<div>\n",
       "<style scoped>\n",
       "    .dataframe tbody tr th:only-of-type {\n",
       "        vertical-align: middle;\n",
       "    }\n",
       "\n",
       "    .dataframe tbody tr th {\n",
       "        vertical-align: top;\n",
       "    }\n",
       "\n",
       "    .dataframe thead th {\n",
       "        text-align: right;\n",
       "    }\n",
       "</style>\n",
       "<table border=\"1\" class=\"dataframe\">\n",
       "  <thead>\n",
       "    <tr style=\"text-align: right;\">\n",
       "      <th></th>\n",
       "      <th>0</th>\n",
       "      <th>dbeta</th>\n",
       "    </tr>\n",
       "  </thead>\n",
       "  <tbody>\n",
       "    <tr>\n",
       "      <th>0</th>\n",
       "      <td>cg00000029</td>\n",
       "      <td>0.009136</td>\n",
       "    </tr>\n",
       "    <tr>\n",
       "      <th>1</th>\n",
       "      <td>cg00000108</td>\n",
       "      <td>0.000004</td>\n",
       "    </tr>\n",
       "    <tr>\n",
       "      <th>2</th>\n",
       "      <td>cg00000109</td>\n",
       "      <td>0.002752</td>\n",
       "    </tr>\n",
       "    <tr>\n",
       "      <th>3</th>\n",
       "      <td>cg00000165</td>\n",
       "      <td>-0.003757</td>\n",
       "    </tr>\n",
       "    <tr>\n",
       "      <th>4</th>\n",
       "      <td>cg00000236</td>\n",
       "      <td>0.011955</td>\n",
       "    </tr>\n",
       "    <tr>\n",
       "      <th>...</th>\n",
       "      <td>...</td>\n",
       "      <td>...</td>\n",
       "    </tr>\n",
       "    <tr>\n",
       "      <th>450819</th>\n",
       "      <td>cg27665860</td>\n",
       "      <td>-0.002816</td>\n",
       "    </tr>\n",
       "    <tr>\n",
       "      <th>450820</th>\n",
       "      <td>cg27665925</td>\n",
       "      <td>0.000772</td>\n",
       "    </tr>\n",
       "    <tr>\n",
       "      <th>450821</th>\n",
       "      <td>cg27665985</td>\n",
       "      <td>0.003498</td>\n",
       "    </tr>\n",
       "    <tr>\n",
       "      <th>450822</th>\n",
       "      <td>cg27666046</td>\n",
       "      <td>0.002321</td>\n",
       "    </tr>\n",
       "    <tr>\n",
       "      <th>450823</th>\n",
       "      <td>cg27666123</td>\n",
       "      <td>0.006047</td>\n",
       "    </tr>\n",
       "  </tbody>\n",
       "</table>\n",
       "<p>450824 rows × 2 columns</p>\n",
       "</div>"
      ],
      "text/plain": [
       "                 0     dbeta\n",
       "0       cg00000029  0.009136\n",
       "1       cg00000108  0.000004\n",
       "2       cg00000109  0.002752\n",
       "3       cg00000165 -0.003757\n",
       "4       cg00000236  0.011955\n",
       "...            ...       ...\n",
       "450819  cg27665860 -0.002816\n",
       "450820  cg27665925  0.000772\n",
       "450821  cg27665985  0.003498\n",
       "450822  cg27666046  0.002321\n",
       "450823  cg27666123  0.006047\n",
       "\n",
       "[450824 rows x 2 columns]"
      ]
     },
     "execution_count": 127,
     "metadata": {},
     "output_type": "execute_result"
    }
   ],
   "source": [
    "dbeta = pd.merge(train.iloc[:-1,:1], pd.DataFrame(train_tumor_mean, columns = [\"dbeta\"]), left_index=True, right_index=True)\n",
    "dbeta"
   ]
  },
  {
   "cell_type": "code",
   "execution_count": 128,
   "metadata": {},
   "outputs": [],
   "source": [
    "# rename ID_REF to ID\n",
    "dbeta.rename(columns={\"0\": \"ID\"}, inplace=True)"
   ]
  },
  {
   "cell_type": "code",
   "execution_count": 129,
   "metadata": {},
   "outputs": [
    {
     "data": {
      "text/plain": [
       "Text(0.5, 1.0, 'Density plot of delta Beta value')"
      ]
     },
     "execution_count": 129,
     "metadata": {},
     "output_type": "execute_result"
    },
    {
     "data": {
      "image/png": "[encoded data removed]",
      "text/plain": [
       "<Figure size 640x480 with 1 Axes>"
      ]
     },
     "metadata": {},
     "output_type": "display_data"
    }
   ],
   "source": [
    "# %matplotlib inline\n",
    "import matplotlib.pyplot as plt\n",
    "import seaborn as sns\n",
    "sns.kdeplot(dbeta['dbeta'], label='healthy')\n",
    "plt.xlabel('delta Beta value')\n",
    "plt.title('Density plot of delta Beta value')"
   ]
  },
  {
   "cell_type": "code",
   "execution_count": 130,
   "metadata": {},
   "outputs": [
    {
     "name": "stderr",
     "output_type": "stream",
     "text": [
      "C:\\Users\\Administrator\\AppData\\Local\\Temp\\ipykernel_18480\\1119215373.py:1: DtypeWarning: Columns (11,14,15,36) have mixed types. Specify dtype option on import or set low_memory=False.\n",
      "  GPL13534 = pd.read_csv(\"../external_result/GPL13534-11288.txt\", sep=\"\\t\")\n"
     ]
    }
   ],
   "source": [
    "GPL13534 = pd.read_csv(\"../external_result/GPL13534-11288.txt\", sep=\"\\t\")"
   ]
  },
  {
   "cell_type": "code",
   "execution_count": 131,
   "metadata": {},
   "outputs": [
    {
     "data": {
      "text/plain": [
       "Index(['ID', 'Name', 'AddressA_ID', 'AlleleA_ProbeSeq', 'AddressB_ID',\n",
       "       'AlleleB_ProbeSeq', 'Infinium_Design_Type', 'Next_Base',\n",
       "       'Color_Channel', 'Forward_Sequence', 'Genome_Build', 'CHR', 'MAPINFO',\n",
       "       'SourceSeq', 'Chromosome_36', 'Coordinate_36', 'Strand', 'Probe_SNPs',\n",
       "       'Probe_SNPs_10', 'Random_Loci', 'Methyl27_Loci', 'UCSC_RefGene_Name',\n",
       "       'UCSC_RefGene_Accession', 'UCSC_RefGene_Group', 'UCSC_CpG_Islands_Name',\n",
       "       'Relation_to_UCSC_CpG_Island', 'Phantom', 'DMR', 'Enhancer',\n",
       "       'HMM_Island', 'Regulatory_Feature_Name', 'Regulatory_Feature_Group',\n",
       "       'DHS', 'RANGE_START', 'RANGE_END', 'RANGE_GB', 'SPOT_ID'],\n",
       "      dtype='object')"
      ]
     },
     "execution_count": 131,
     "metadata": {},
     "output_type": "execute_result"
    }
   ],
   "source": [
    "GPL13534.columns"
   ]
  },
  {
   "cell_type": "code",
   "execution_count": 132,
   "metadata": {},
   "outputs": [
    {
     "data": {
      "text/html": [
       "<div>\n",
       "<style scoped>\n",
       "    .dataframe tbody tr th:only-of-type {\n",
       "        vertical-align: middle;\n",
       "    }\n",
       "\n",
       "    .dataframe tbody tr th {\n",
       "        vertical-align: top;\n",
       "    }\n",
       "\n",
       "    .dataframe thead th {\n",
       "        text-align: right;\n",
       "    }\n",
       "</style>\n",
       "<table border=\"1\" class=\"dataframe\">\n",
       "  <thead>\n",
       "    <tr style=\"text-align: right;\">\n",
       "      <th></th>\n",
       "      <th>ID</th>\n",
       "      <th>UCSC_RefGene_Name</th>\n",
       "      <th>UCSC_RefGene_Group</th>\n",
       "    </tr>\n",
       "  </thead>\n",
       "  <tbody>\n",
       "    <tr>\n",
       "      <th>0</th>\n",
       "      <td>cg00035864</td>\n",
       "      <td>TTTY18</td>\n",
       "      <td>TSS1500</td>\n",
       "    </tr>\n",
       "    <tr>\n",
       "      <th>1</th>\n",
       "      <td>cg00050873</td>\n",
       "      <td>TSPY4;FAM197Y2</td>\n",
       "      <td>Body;TSS1500</td>\n",
       "    </tr>\n",
       "    <tr>\n",
       "      <th>2</th>\n",
       "      <td>cg00061679</td>\n",
       "      <td>DAZ1;DAZ4;DAZ4</td>\n",
       "      <td>Body;Body;Body</td>\n",
       "    </tr>\n",
       "    <tr>\n",
       "      <th>3</th>\n",
       "      <td>cg00063477</td>\n",
       "      <td>EIF1AY</td>\n",
       "      <td>Body</td>\n",
       "    </tr>\n",
       "    <tr>\n",
       "      <th>4</th>\n",
       "      <td>cg00121626</td>\n",
       "      <td>BCORL2</td>\n",
       "      <td>Body</td>\n",
       "    </tr>\n",
       "    <tr>\n",
       "      <th>...</th>\n",
       "      <td>...</td>\n",
       "      <td>...</td>\n",
       "      <td>...</td>\n",
       "    </tr>\n",
       "    <tr>\n",
       "      <th>485501</th>\n",
       "      <td>ch.22.734399R</td>\n",
       "      <td>EP300</td>\n",
       "      <td>Body</td>\n",
       "    </tr>\n",
       "    <tr>\n",
       "      <th>485502</th>\n",
       "      <td>ch.22.740407F</td>\n",
       "      <td>RANGAP1</td>\n",
       "      <td>Body</td>\n",
       "    </tr>\n",
       "    <tr>\n",
       "      <th>485503</th>\n",
       "      <td>ch.22.757911F</td>\n",
       "      <td>XRCC6</td>\n",
       "      <td>Body</td>\n",
       "    </tr>\n",
       "    <tr>\n",
       "      <th>485504</th>\n",
       "      <td>ch.22.772318F</td>\n",
       "      <td>NAGA</td>\n",
       "      <td>Body</td>\n",
       "    </tr>\n",
       "    <tr>\n",
       "      <th>485507</th>\n",
       "      <td>ch.22.909671F</td>\n",
       "      <td>ATXN10;ATXN10</td>\n",
       "      <td>Body;Body</td>\n",
       "    </tr>\n",
       "  </tbody>\n",
       "</table>\n",
       "<p>365600 rows × 3 columns</p>\n",
       "</div>"
      ],
      "text/plain": [
       "                   ID UCSC_RefGene_Name UCSC_RefGene_Group\n",
       "0          cg00035864            TTTY18            TSS1500\n",
       "1          cg00050873    TSPY4;FAM197Y2       Body;TSS1500\n",
       "2          cg00061679    DAZ1;DAZ4;DAZ4     Body;Body;Body\n",
       "3          cg00063477            EIF1AY               Body\n",
       "4          cg00121626            BCORL2               Body\n",
       "...               ...               ...                ...\n",
       "485501  ch.22.734399R             EP300               Body\n",
       "485502  ch.22.740407F           RANGAP1               Body\n",
       "485503  ch.22.757911F             XRCC6               Body\n",
       "485504  ch.22.772318F              NAGA               Body\n",
       "485507  ch.22.909671F     ATXN10;ATXN10          Body;Body\n",
       "\n",
       "[365600 rows x 3 columns]"
      ]
     },
     "execution_count": 132,
     "metadata": {},
     "output_type": "execute_result"
    }
   ],
   "source": [
    "GPL13534 = GPL13534[[\"ID\", \"UCSC_RefGene_Name\", \"UCSC_RefGene_Group\"]]\n",
    "GPL13534.dropna(inplace=True)\n",
    "GPL13534"
   ]
  },
  {
   "cell_type": "code",
   "execution_count": 133,
   "metadata": {},
   "outputs": [
    {
     "data": {
      "text/html": [
       "<div>\n",
       "<style scoped>\n",
       "    .dataframe tbody tr th:only-of-type {\n",
       "        vertical-align: middle;\n",
       "    }\n",
       "\n",
       "    .dataframe tbody tr th {\n",
       "        vertical-align: top;\n",
       "    }\n",
       "\n",
       "    .dataframe thead th {\n",
       "        text-align: right;\n",
       "    }\n",
       "</style>\n",
       "<table border=\"1\" class=\"dataframe\">\n",
       "  <thead>\n",
       "    <tr style=\"text-align: right;\">\n",
       "      <th></th>\n",
       "      <th>ID</th>\n",
       "      <th>dbeta</th>\n",
       "      <th>UCSC_RefGene_Name</th>\n",
       "      <th>UCSC_RefGene_Group</th>\n",
       "    </tr>\n",
       "  </thead>\n",
       "  <tbody>\n",
       "    <tr>\n",
       "      <th>0</th>\n",
       "      <td>cg00000029</td>\n",
       "      <td>0.009136</td>\n",
       "      <td>RBL2</td>\n",
       "      <td>TSS1500</td>\n",
       "    </tr>\n",
       "    <tr>\n",
       "      <th>1</th>\n",
       "      <td>cg00000108</td>\n",
       "      <td>0.000004</td>\n",
       "      <td>C3orf35;C3orf35</td>\n",
       "      <td>Body;3'UTR</td>\n",
       "    </tr>\n",
       "    <tr>\n",
       "      <th>2</th>\n",
       "      <td>cg00000109</td>\n",
       "      <td>0.002752</td>\n",
       "      <td>FNDC3B;FNDC3B</td>\n",
       "      <td>Body;Body</td>\n",
       "    </tr>\n",
       "    <tr>\n",
       "      <th>3</th>\n",
       "      <td>cg00000236</td>\n",
       "      <td>0.011955</td>\n",
       "      <td>VDAC3;VDAC3</td>\n",
       "      <td>3'UTR;3'UTR</td>\n",
       "    </tr>\n",
       "    <tr>\n",
       "      <th>4</th>\n",
       "      <td>cg00000289</td>\n",
       "      <td>0.007991</td>\n",
       "      <td>ACTN1;ACTN1;ACTN1</td>\n",
       "      <td>3'UTR;3'UTR;3'UTR</td>\n",
       "    </tr>\n",
       "    <tr>\n",
       "      <th>...</th>\n",
       "      <td>...</td>\n",
       "      <td>...</td>\n",
       "      <td>...</td>\n",
       "      <td>...</td>\n",
       "    </tr>\n",
       "    <tr>\n",
       "      <th>343419</th>\n",
       "      <td>cg27665715</td>\n",
       "      <td>-0.001157</td>\n",
       "      <td>RAB11FIP3;RAB11FIP3</td>\n",
       "      <td>Body;Body</td>\n",
       "    </tr>\n",
       "    <tr>\n",
       "      <th>343420</th>\n",
       "      <td>cg27665767</td>\n",
       "      <td>-0.006870</td>\n",
       "      <td>PCDHGA4;PCDHGA7;PCDHGA6;PCDHGA1;PCDHGA5;PCDHGB...</td>\n",
       "      <td>Body;1stExon;Body;Body;Body;Body;Body;Body;Bod...</td>\n",
       "    </tr>\n",
       "    <tr>\n",
       "      <th>343421</th>\n",
       "      <td>cg27665769</td>\n",
       "      <td>0.002099</td>\n",
       "      <td>TNIP2;TNIP2</td>\n",
       "      <td>1stExon;TSS200</td>\n",
       "    </tr>\n",
       "    <tr>\n",
       "      <th>343422</th>\n",
       "      <td>cg27666046</td>\n",
       "      <td>0.002321</td>\n",
       "      <td>SECTM1</td>\n",
       "      <td>3'UTR</td>\n",
       "    </tr>\n",
       "    <tr>\n",
       "      <th>343423</th>\n",
       "      <td>cg27666123</td>\n",
       "      <td>0.006047</td>\n",
       "      <td>CTXN3;CTXN3</td>\n",
       "      <td>5'UTR;TSS1500</td>\n",
       "    </tr>\n",
       "  </tbody>\n",
       "</table>\n",
       "<p>343424 rows × 4 columns</p>\n",
       "</div>"
      ],
      "text/plain": [
       "                ID     dbeta  \\\n",
       "0       cg00000029  0.009136   \n",
       "1       cg00000108  0.000004   \n",
       "2       cg00000109  0.002752   \n",
       "3       cg00000236  0.011955   \n",
       "4       cg00000289  0.007991   \n",
       "...            ...       ...   \n",
       "343419  cg27665715 -0.001157   \n",
       "343420  cg27665767 -0.006870   \n",
       "343421  cg27665769  0.002099   \n",
       "343422  cg27666046  0.002321   \n",
       "343423  cg27666123  0.006047   \n",
       "\n",
       "                                        UCSC_RefGene_Name  \\\n",
       "0                                                    RBL2   \n",
       "1                                         C3orf35;C3orf35   \n",
       "2                                           FNDC3B;FNDC3B   \n",
       "3                                             VDAC3;VDAC3   \n",
       "4                                       ACTN1;ACTN1;ACTN1   \n",
       "...                                                   ...   \n",
       "343419                                RAB11FIP3;RAB11FIP3   \n",
       "343420  PCDHGA4;PCDHGA7;PCDHGA6;PCDHGA1;PCDHGA5;PCDHGB...   \n",
       "343421                                        TNIP2;TNIP2   \n",
       "343422                                             SECTM1   \n",
       "343423                                        CTXN3;CTXN3   \n",
       "\n",
       "                                       UCSC_RefGene_Group  \n",
       "0                                                 TSS1500  \n",
       "1                                              Body;3'UTR  \n",
       "2                                               Body;Body  \n",
       "3                                             3'UTR;3'UTR  \n",
       "4                                       3'UTR;3'UTR;3'UTR  \n",
       "...                                                   ...  \n",
       "343419                                          Body;Body  \n",
       "343420  Body;1stExon;Body;Body;Body;Body;Body;Body;Bod...  \n",
       "343421                                     1stExon;TSS200  \n",
       "343422                                              3'UTR  \n",
       "343423                                      5'UTR;TSS1500  \n",
       "\n",
       "[343424 rows x 4 columns]"
      ]
     },
     "execution_count": 133,
     "metadata": {},
     "output_type": "execute_result"
    }
   ],
   "source": [
    "result = pd.merge(dbeta, GPL13534, on=\"ID\", how=\"inner\")\n",
    "result"
   ]
  },
  {
   "cell_type": "code",
   "execution_count": 134,
   "metadata": {},
   "outputs": [],
   "source": [
    "result['UCSC_RefGene_Name'] = result['UCSC_RefGene_Name'].str.split(';').str[0]\n",
    "result['UCSC_RefGene_Group'] = result['UCSC_RefGene_Group'].str.split(';').str[0]\n",
    "result.dropna(inplace=True)"
   ]
  },
  {
   "cell_type": "code",
   "execution_count": 135,
   "metadata": {},
   "outputs": [],
   "source": [
    "result.to_csv(\"../result/dbeta_GSE89093_052.csv\",index=False)"
   ]
  },
  {
   "cell_type": "code",
   "execution_count": 136,
   "metadata": {},
   "outputs": [
    {
     "name": "stderr",
     "output_type": "stream",
     "text": [
      "C:\\Users\\Administrator\\AppData\\Local\\Temp\\ipykernel_18480\\563322187.py:5: DeprecationWarning: DataFrameGroupBy.apply operated on the grouping columns. This behavior is deprecated, and in a future version of pandas the grouping columns will be excluded from the operation. Either pass `include_groups=False` to exclude the groupings or explicitly select the grouping columns after groupby to silence this warning.\n",
      "  result_max_per_gene = result.groupby(\"UCSC_RefGene_Name\").apply(find_max_dBeta_grouped).reset_index(drop=True)\n"
     ]
    }
   ],
   "source": [
    "def find_max_dBeta_grouped(group):\n",
    "    idx_max = group['dbeta'].abs().idxmax()\n",
    "    return group.loc[idx_max]\n",
    "\n",
    "result_max_per_gene = result.groupby(\"UCSC_RefGene_Name\").apply(find_max_dBeta_grouped).reset_index(drop=True)"
   ]
  },
  {
   "cell_type": "code",
   "execution_count": 137,
   "metadata": {},
   "outputs": [],
   "source": [
    "single = pd.read_csv('../comorbidity/matchgene174_single_3Y10__OR2.txt', sep='\\t', header=None)"
   ]
  },
  {
   "cell_type": "code",
   "execution_count": 138,
   "metadata": {},
   "outputs": [
    {
     "data": {
      "text/html": [
       "<div>\n",
       "<style scoped>\n",
       "    .dataframe tbody tr th:only-of-type {\n",
       "        vertical-align: middle;\n",
       "    }\n",
       "\n",
       "    .dataframe tbody tr th {\n",
       "        vertical-align: top;\n",
       "    }\n",
       "\n",
       "    .dataframe thead th {\n",
       "        text-align: right;\n",
       "    }\n",
       "</style>\n",
       "<table border=\"1\" class=\"dataframe\">\n",
       "  <thead>\n",
       "    <tr style=\"text-align: right;\">\n",
       "      <th></th>\n",
       "      <th>ID</th>\n",
       "      <th>dbeta</th>\n",
       "      <th>UCSC_RefGene_Name</th>\n",
       "      <th>UCSC_RefGene_Group</th>\n",
       "    </tr>\n",
       "  </thead>\n",
       "  <tbody>\n",
       "    <tr>\n",
       "      <th>1</th>\n",
       "      <td>cg16531903</td>\n",
       "      <td>0.013321</td>\n",
       "      <td>A1CF</td>\n",
       "      <td>TSS1500</td>\n",
       "    </tr>\n",
       "    <tr>\n",
       "      <th>4</th>\n",
       "      <td>cg27166707</td>\n",
       "      <td>-0.006354</td>\n",
       "      <td>A2M</td>\n",
       "      <td>Body</td>\n",
       "    </tr>\n",
       "    <tr>\n",
       "      <th>5</th>\n",
       "      <td>cg24309769</td>\n",
       "      <td>-0.074597</td>\n",
       "      <td>A2ML1</td>\n",
       "      <td>Body</td>\n",
       "    </tr>\n",
       "    <tr>\n",
       "      <th>12</th>\n",
       "      <td>cg13001012</td>\n",
       "      <td>0.007991</td>\n",
       "      <td>AADAC</td>\n",
       "      <td>TSS1500</td>\n",
       "    </tr>\n",
       "    <tr>\n",
       "      <th>16</th>\n",
       "      <td>cg25628542</td>\n",
       "      <td>0.037536</td>\n",
       "      <td>AADAT</td>\n",
       "      <td>Body</td>\n",
       "    </tr>\n",
       "    <tr>\n",
       "      <th>...</th>\n",
       "      <td>...</td>\n",
       "      <td>...</td>\n",
       "      <td>...</td>\n",
       "      <td>...</td>\n",
       "    </tr>\n",
       "    <tr>\n",
       "      <th>19349</th>\n",
       "      <td>cg06155771</td>\n",
       "      <td>0.013769</td>\n",
       "      <td>ZNRD1</td>\n",
       "      <td>Body</td>\n",
       "    </tr>\n",
       "    <tr>\n",
       "      <th>19352</th>\n",
       "      <td>cg16483867</td>\n",
       "      <td>-0.013046</td>\n",
       "      <td>ZNRF3</td>\n",
       "      <td>Body</td>\n",
       "    </tr>\n",
       "    <tr>\n",
       "      <th>19369</th>\n",
       "      <td>cg22721334</td>\n",
       "      <td>-0.013064</td>\n",
       "      <td>ZSCAN18</td>\n",
       "      <td>1stExon</td>\n",
       "    </tr>\n",
       "    <tr>\n",
       "      <th>19389</th>\n",
       "      <td>cg16899823</td>\n",
       "      <td>-0.021684</td>\n",
       "      <td>ZWINT</td>\n",
       "      <td>TSS200</td>\n",
       "    </tr>\n",
       "    <tr>\n",
       "      <th>19393</th>\n",
       "      <td>cg20332503</td>\n",
       "      <td>0.010994</td>\n",
       "      <td>ZYX</td>\n",
       "      <td>Body</td>\n",
       "    </tr>\n",
       "  </tbody>\n",
       "</table>\n",
       "<p>8124 rows × 4 columns</p>\n",
       "</div>"
      ],
      "text/plain": [
       "               ID     dbeta UCSC_RefGene_Name UCSC_RefGene_Group\n",
       "1      cg16531903  0.013321              A1CF            TSS1500\n",
       "4      cg27166707 -0.006354               A2M               Body\n",
       "5      cg24309769 -0.074597             A2ML1               Body\n",
       "12     cg13001012  0.007991             AADAC            TSS1500\n",
       "16     cg25628542  0.037536             AADAT               Body\n",
       "...           ...       ...               ...                ...\n",
       "19349  cg06155771  0.013769             ZNRD1               Body\n",
       "19352  cg16483867 -0.013046             ZNRF3               Body\n",
       "19369  cg22721334 -0.013064           ZSCAN18            1stExon\n",
       "19389  cg16899823 -0.021684             ZWINT             TSS200\n",
       "19393  cg20332503  0.010994               ZYX               Body\n",
       "\n",
       "[8124 rows x 4 columns]"
      ]
     },
     "execution_count": 138,
     "metadata": {},
     "output_type": "execute_result"
    }
   ],
   "source": [
    "result_max_per_gene_single = result_max_per_gene[result_max_per_gene['UCSC_RefGene_Name'].isin(single[0])]\n",
    "result_max_per_gene_single"
   ]
  },
  {
   "cell_type": "code",
   "execution_count": 139,
   "metadata": {},
   "outputs": [],
   "source": [
    "file_endings=\"GSE89093\""
   ]
  },
  {
   "cell_type": "code",
   "execution_count": 140,
   "metadata": {},
   "outputs": [],
   "source": [
    "result_max_per_gene_single.to_csv(f\"../result/result_basic_dbeta_{file_endings}.csv\", index=False)"
   ]
  },
  {
   "cell_type": "markdown",
   "metadata": {},
   "source": [
    "Lazy reading, skip when exectuing the code from top to bottom."
   ]
  },
  {
   "cell_type": "code",
   "execution_count": 141,
   "metadata": {},
   "outputs": [],
   "source": [
    "result_basic_dbeta = pd.read_csv(f\"../result/result_basic_dbeta_{file_endings}.csv\")"
   ]
  },
  {
   "cell_type": "code",
   "execution_count": 142,
   "metadata": {},
   "outputs": [
    {
     "data": {
      "text/html": [
       "<div>\n",
       "<style scoped>\n",
       "    .dataframe tbody tr th:only-of-type {\n",
       "        vertical-align: middle;\n",
       "    }\n",
       "\n",
       "    .dataframe tbody tr th {\n",
       "        vertical-align: top;\n",
       "    }\n",
       "\n",
       "    .dataframe thead th {\n",
       "        text-align: right;\n",
       "    }\n",
       "</style>\n",
       "<table border=\"1\" class=\"dataframe\">\n",
       "  <thead>\n",
       "    <tr style=\"text-align: right;\">\n",
       "      <th></th>\n",
       "      <th>ID</th>\n",
       "      <th>dbeta</th>\n",
       "      <th>UCSC_RefGene_Name</th>\n",
       "      <th>UCSC_RefGene_Group</th>\n",
       "    </tr>\n",
       "  </thead>\n",
       "  <tbody>\n",
       "    <tr>\n",
       "      <th>0</th>\n",
       "      <td>cg16531903</td>\n",
       "      <td>0.013321</td>\n",
       "      <td>A1CF</td>\n",
       "      <td>TSS1500</td>\n",
       "    </tr>\n",
       "    <tr>\n",
       "      <th>1</th>\n",
       "      <td>cg27166707</td>\n",
       "      <td>-0.006354</td>\n",
       "      <td>A2M</td>\n",
       "      <td>Body</td>\n",
       "    </tr>\n",
       "    <tr>\n",
       "      <th>2</th>\n",
       "      <td>cg24309769</td>\n",
       "      <td>-0.074597</td>\n",
       "      <td>A2ML1</td>\n",
       "      <td>Body</td>\n",
       "    </tr>\n",
       "    <tr>\n",
       "      <th>3</th>\n",
       "      <td>cg13001012</td>\n",
       "      <td>0.007991</td>\n",
       "      <td>AADAC</td>\n",
       "      <td>TSS1500</td>\n",
       "    </tr>\n",
       "    <tr>\n",
       "      <th>4</th>\n",
       "      <td>cg25628542</td>\n",
       "      <td>0.037536</td>\n",
       "      <td>AADAT</td>\n",
       "      <td>Body</td>\n",
       "    </tr>\n",
       "    <tr>\n",
       "      <th>...</th>\n",
       "      <td>...</td>\n",
       "      <td>...</td>\n",
       "      <td>...</td>\n",
       "      <td>...</td>\n",
       "    </tr>\n",
       "    <tr>\n",
       "      <th>8119</th>\n",
       "      <td>cg06155771</td>\n",
       "      <td>0.013769</td>\n",
       "      <td>ZNRD1</td>\n",
       "      <td>Body</td>\n",
       "    </tr>\n",
       "    <tr>\n",
       "      <th>8120</th>\n",
       "      <td>cg16483867</td>\n",
       "      <td>-0.013046</td>\n",
       "      <td>ZNRF3</td>\n",
       "      <td>Body</td>\n",
       "    </tr>\n",
       "    <tr>\n",
       "      <th>8121</th>\n",
       "      <td>cg22721334</td>\n",
       "      <td>-0.013064</td>\n",
       "      <td>ZSCAN18</td>\n",
       "      <td>1stExon</td>\n",
       "    </tr>\n",
       "    <tr>\n",
       "      <th>8122</th>\n",
       "      <td>cg16899823</td>\n",
       "      <td>-0.021684</td>\n",
       "      <td>ZWINT</td>\n",
       "      <td>TSS200</td>\n",
       "    </tr>\n",
       "    <tr>\n",
       "      <th>8123</th>\n",
       "      <td>cg20332503</td>\n",
       "      <td>0.010994</td>\n",
       "      <td>ZYX</td>\n",
       "      <td>Body</td>\n",
       "    </tr>\n",
       "  </tbody>\n",
       "</table>\n",
       "<p>8124 rows × 4 columns</p>\n",
       "</div>"
      ],
      "text/plain": [
       "              ID     dbeta UCSC_RefGene_Name UCSC_RefGene_Group\n",
       "0     cg16531903  0.013321              A1CF            TSS1500\n",
       "1     cg27166707 -0.006354               A2M               Body\n",
       "2     cg24309769 -0.074597             A2ML1               Body\n",
       "3     cg13001012  0.007991             AADAC            TSS1500\n",
       "4     cg25628542  0.037536             AADAT               Body\n",
       "...          ...       ...               ...                ...\n",
       "8119  cg06155771  0.013769             ZNRD1               Body\n",
       "8120  cg16483867 -0.013046             ZNRF3               Body\n",
       "8121  cg22721334 -0.013064           ZSCAN18            1stExon\n",
       "8122  cg16899823 -0.021684             ZWINT             TSS200\n",
       "8123  cg20332503  0.010994               ZYX               Body\n",
       "\n",
       "[8124 rows x 4 columns]"
      ]
     },
     "execution_count": 142,
     "metadata": {},
     "output_type": "execute_result"
    }
   ],
   "source": [
    "dbeta_process_liquid = result_basic_dbeta.copy()\n",
    "dbeta_process_liquid"
   ]
  },
  {
   "cell_type": "markdown",
   "metadata": {},
   "source": [
    "Filter by TSS1500 & TSS200 (Optional)"
   ]
  },
  {
   "cell_type": "code",
   "execution_count": null,
   "metadata": {},
   "outputs": [],
   "source": [
    "# remove rows that UCSC_RefGene_Group != 'TSS200' or 'TSS1500'\n",
    "dbeta_process_liquid = dbeta_process_liquid[dbeta_process_liquid['UCSC_RefGene_Group'].isin(['TSS200', 'TSS1500'])]\n",
    "dbeta_process_liquid"
   ]
  },
  {
   "cell_type": "code",
   "execution_count": 9,
   "metadata": {},
   "outputs": [],
   "source": [
    "result_max_per_gene_single = pd.read_csv(f\"../result/result_basic_process.csv\")"
   ]
  },
  {
   "cell_type": "code",
   "execution_count": null,
   "metadata": {},
   "outputs": [],
   "source": [
    "dbeta_process_tissue = result_max_per_gene_single.copy()\n",
    "dbeta_process_tissue.columns = ['ID', 'dbeta', 'UCSC_RefGene_Name']\n",
    "dbeta_process_tissue"
   ]
  },
  {
   "cell_type": "code",
   "execution_count": null,
   "metadata": {},
   "outputs": [],
   "source": [
    "# intersect between liquid and tissue\n",
    "interseted = pd.merge(dbeta_process_liquid, dbeta_process_tissue, on=\"ID\", how=\"inner\")\n",
    "interseted = interseted[(interseted['dbeta_x'] * interseted['dbeta_y']) > 0]\n",
    "interseted = interseted.drop(columns=['UCSC_RefGene_Name_y'])\n",
    "interseted = interseted.rename(columns={'UCSC_RefGene_Name_x': 'UCSC_RefGene_Name'})\n",
    "interseted = interseted.rename(columns={'dbeta_x': 'dbeta_liquid'})\n",
    "interseted = interseted.rename(columns={'dbeta_y': 'dbeta_tissue'})\n",
    "interseted = interseted[['ID', 'UCSC_RefGene_Name', 'dbeta_liquid', 'dbeta_tissue']]\n",
    "print(interseted.shape)\n",
    "interseted"
   ]
  },
  {
   "cell_type": "code",
   "execution_count": 12,
   "metadata": {},
   "outputs": [
    {
     "data": {
      "image/png": "[encoded data removed]",
      "text/plain": [
       "<Figure size 640x480 with 1 Axes>"
      ]
     },
     "metadata": {},
     "output_type": "display_data"
    }
   ],
   "source": [
    "# draw scatter plot for liquid and tissue\n",
    "import matplotlib.pyplot as plt\n",
    "import seaborn as sns\n",
    "interseted['status'] = np.where(abs(interseted['dbeta_liquid']) < 0.2, 'liquid_dbeta < 0.2', 'liquid_dbeta >= 0.2')\n",
    "\n",
    "sns.scatterplot(\n",
    "    data=interseted,\n",
    "    x='dbeta_liquid',\n",
    "    y='dbeta_tissue',\n",
    "    hue='status',\n",
    "    palette=['blue', 'gray'])\n",
    "plt.xlabel('dbeta_liquid')\n",
    "plt.ylabel('dbeta_tissue')\n",
    "plt.title('Scatter plot of dbeta between liquid and tissue')\n",
    "plt.axhline(0, color='black', linewidth=1, linestyle='--')\n",
    "plt.axvline(0, color='black', linewidth=1, linestyle='--')\n",
    "plt.axvline(0.2, color='red', linewidth=1, linestyle='--')\n",
    "plt.axvline(-0.2, color='red', linewidth=1, linestyle='--')\n",
    "plt.show()"
   ]
  },
  {
   "cell_type": "code",
   "execution_count": null,
   "metadata": {},
   "outputs": [],
   "source": [
    "interseted = interseted[abs(interseted['dbeta_liquid']) >= 0.2]\n",
    "interseted = interseted.drop(columns=['status'])\n",
    "print(interseted.shape)\n",
    "interseted"
   ]
  },
  {
   "cell_type": "code",
   "execution_count": 14,
   "metadata": {},
   "outputs": [],
   "source": [
    "interseted.to_csv(f\"../result/train_and_GSE89093_interseted.csv\", index=False)"
   ]
  }
 ],
 "metadata": {
  "kernelspec": {
   "display_name": "venv",
   "language": "python",
   "name": "python3"
  },
  "language_info": {
   "codemirror_mode": {
    "name": "ipython",
    "version": 3
   },
   "file_extension": ".py",
   "mimetype": "text/x-python",
   "name": "python",
   "nbconvert_exporter": "python",
   "pygments_lexer": "ipython3",
   "version": "3.11.9"
  }
 },
 "nbformat": 4,
 "nbformat_minor": 2
}
