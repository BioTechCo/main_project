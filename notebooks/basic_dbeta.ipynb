{
 "cells": [
  {
   "cell_type": "code",
   "execution_count": 1,
   "metadata": {},
   "outputs": [],
   "source": [
    "import pandas as pd"
   ]
  },
  {
   "cell_type": "code",
   "execution_count": 2,
   "metadata": {},
   "outputs": [],
   "source": [
    "file_endings = \"GSE207998\"\n",
    "normal_count = 94"
   ]
  },
  {
   "cell_type": "code",
   "execution_count": 3,
   "metadata": {},
   "outputs": [],
   "source": [
    "train = pd.read_csv(f\"../champ_result/all_beta_normalized_{file_endings}.csv\")"
   ]
  },
  {
   "cell_type": "code",
   "execution_count": 4,
   "metadata": {},
   "outputs": [],
   "source": [
    "# id_list = pd.read_csv(\"../result/id_list.txt\", header=None)"
   ]
  },
  {
   "cell_type": "code",
   "execution_count": 5,
   "metadata": {},
   "outputs": [],
   "source": [
    "# train = train[train[\"Unnamed: 0\"].isin(id_list[0])]"
   ]
  },
  {
   "cell_type": "code",
   "execution_count": 6,
   "metadata": {},
   "outputs": [],
   "source": [
    "train_normal = train.iloc[:, 1:normal_count+1:2].T\n",
    "train_tumor = train.iloc[:,normal_count+1::2].T"
   ]
  },
  {
   "cell_type": "markdown",
   "metadata": {},
   "source": [
    "##### Calculate Δβ"
   ]
  },
  {
   "cell_type": "code",
   "execution_count": 7,
   "metadata": {},
   "outputs": [],
   "source": [
    "# remove outlier based on every column\n",
    "def IQR(df):\n",
    "    Q1 = df.quantile(0.25)\n",
    "    Q3 = df.quantile(0.75)\n",
    "    IQR = Q3 - Q1\n",
    "    upper_fence = Q3 + IQR*1.5\n",
    "    lower_fence = Q1 - IQR*1.5\n",
    "    return upper_fence,lower_fence\n",
    "def no_outlier(df):\n",
    "    upper_fence, lower_fence = IQR(df)\n",
    "    ddf=df[(df>lower_fence)&(df<upper_fence)]\n",
    "    return ddf"
   ]
  },
  {
   "cell_type": "code",
   "execution_count": 8,
   "metadata": {},
   "outputs": [],
   "source": [
    "train_normal = no_outlier(train_normal)\n",
    "train_tumor = no_outlier(train_tumor)"
   ]
  },
  {
   "cell_type": "code",
   "execution_count": 9,
   "metadata": {},
   "outputs": [],
   "source": [
    "train_normal_avg = train_normal.mean(skipna=True, axis = 0)"
   ]
  },
  {
   "cell_type": "code",
   "execution_count": 10,
   "metadata": {},
   "outputs": [],
   "source": [
    "train_tumor=(train_tumor).subtract(train_normal_avg, axis = 1)"
   ]
  },
  {
   "cell_type": "code",
   "execution_count": 11,
   "metadata": {},
   "outputs": [],
   "source": [
    "train_tumor=no_outlier(train_tumor)"
   ]
  },
  {
   "cell_type": "code",
   "execution_count": 12,
   "metadata": {},
   "outputs": [],
   "source": [
    "train_tumor_mean = train_tumor.mean(skipna=True, axis = 0)"
   ]
  },
  {
   "cell_type": "code",
   "execution_count": 13,
   "metadata": {},
   "outputs": [
    {
     "data": {
      "text/html": [
       "<div>\n",
       "<style scoped>\n",
       "    .dataframe tbody tr th:only-of-type {\n",
       "        vertical-align: middle;\n",
       "    }\n",
       "\n",
       "    .dataframe tbody tr th {\n",
       "        vertical-align: top;\n",
       "    }\n",
       "\n",
       "    .dataframe thead th {\n",
       "        text-align: right;\n",
       "    }\n",
       "</style>\n",
       "<table border=\"1\" class=\"dataframe\">\n",
       "  <thead>\n",
       "    <tr style=\"text-align: right;\">\n",
       "      <th></th>\n",
       "      <th>Unnamed: 0</th>\n",
       "      <th>dbeta</th>\n",
       "    </tr>\n",
       "  </thead>\n",
       "  <tbody>\n",
       "    <tr>\n",
       "      <th>0</th>\n",
       "      <td>cg00000957</td>\n",
       "      <td>0.005332</td>\n",
       "    </tr>\n",
       "    <tr>\n",
       "      <th>1</th>\n",
       "      <td>cg00001349</td>\n",
       "      <td>0.024420</td>\n",
       "    </tr>\n",
       "    <tr>\n",
       "      <th>2</th>\n",
       "      <td>cg00001583</td>\n",
       "      <td>0.279669</td>\n",
       "    </tr>\n",
       "    <tr>\n",
       "      <th>3</th>\n",
       "      <td>cg00002028</td>\n",
       "      <td>0.050706</td>\n",
       "    </tr>\n",
       "    <tr>\n",
       "      <th>4</th>\n",
       "      <td>cg00002719</td>\n",
       "      <td>0.361206</td>\n",
       "    </tr>\n",
       "    <tr>\n",
       "      <th>...</th>\n",
       "      <td>...</td>\n",
       "      <td>...</td>\n",
       "    </tr>\n",
       "    <tr>\n",
       "      <th>404849</th>\n",
       "      <td>cg27656573</td>\n",
       "      <td>-0.001472</td>\n",
       "    </tr>\n",
       "    <tr>\n",
       "      <th>404850</th>\n",
       "      <td>cg27657363</td>\n",
       "      <td>-0.137955</td>\n",
       "    </tr>\n",
       "    <tr>\n",
       "      <th>404851</th>\n",
       "      <td>cg27657537</td>\n",
       "      <td>-0.007020</td>\n",
       "    </tr>\n",
       "    <tr>\n",
       "      <th>404852</th>\n",
       "      <td>cg27662611</td>\n",
       "      <td>-0.003883</td>\n",
       "    </tr>\n",
       "    <tr>\n",
       "      <th>404853</th>\n",
       "      <td>cg27665648</td>\n",
       "      <td>-0.094903</td>\n",
       "    </tr>\n",
       "  </tbody>\n",
       "</table>\n",
       "<p>404854 rows × 2 columns</p>\n",
       "</div>"
      ],
      "text/plain": [
       "        Unnamed: 0     dbeta\n",
       "0       cg00000957  0.005332\n",
       "1       cg00001349  0.024420\n",
       "2       cg00001583  0.279669\n",
       "3       cg00002028  0.050706\n",
       "4       cg00002719  0.361206\n",
       "...            ...       ...\n",
       "404849  cg27656573 -0.001472\n",
       "404850  cg27657363 -0.137955\n",
       "404851  cg27657537 -0.007020\n",
       "404852  cg27662611 -0.003883\n",
       "404853  cg27665648 -0.094903\n",
       "\n",
       "[404854 rows x 2 columns]"
      ]
     },
     "execution_count": 13,
     "metadata": {},
     "output_type": "execute_result"
    }
   ],
   "source": [
    "Δβ = pd.merge(train.iloc[:,:1], pd.DataFrame(train_tumor_mean, columns = [\"dbeta\"]), left_index=True, right_index=True)\n",
    "Δβ"
   ]
  },
  {
   "cell_type": "code",
   "execution_count": 14,
   "metadata": {},
   "outputs": [
    {
     "name": "stdout",
     "output_type": "stream",
     "text": [
      "raw train shape: (347250, 24)\n",
      "after dropna: (267235, 2)\n"
     ]
    }
   ],
   "source": [
    "dmp_train = pd.read_csv(f\"../champ_result/DMP_result_{file_endings}.csv\")\n",
    "print(f\"raw train shape: {dmp_train.shape}\")\n",
    "dmp_train = dmp_train[[\"Unnamed: 0\", \"gene\"]]\n",
    "dmp_train.dropna(inplace=True)\n",
    "print(f\"after dropna: {dmp_train.shape}\")"
   ]
  },
  {
   "cell_type": "code",
   "execution_count": 15,
   "metadata": {},
   "outputs": [],
   "source": [
    "result = pd.merge(Δβ, dmp_train, on=\"Unnamed: 0\", how=\"inner\")"
   ]
  },
  {
   "cell_type": "code",
   "execution_count": 16,
   "metadata": {},
   "outputs": [],
   "source": [
    "def find_max_dBeta_grouped(group):\n",
    "    idx_max = group['dbeta'].abs().idxmax()\n",
    "    return group.loc[idx_max]\n",
    "\n",
    "result_max_per_gene = result.groupby(\"gene\").apply(find_max_dBeta_grouped).reset_index(drop=True)"
   ]
  },
  {
   "cell_type": "code",
   "execution_count": 17,
   "metadata": {},
   "outputs": [],
   "source": [
    "single = pd.read_csv('../comorbidity/matchgene174_single_3Y10__OR2.txt', sep='\\t', header=None)"
   ]
  },
  {
   "cell_type": "code",
   "execution_count": 18,
   "metadata": {},
   "outputs": [
    {
     "data": {
      "text/html": [
       "<div>\n",
       "<style scoped>\n",
       "    .dataframe tbody tr th:only-of-type {\n",
       "        vertical-align: middle;\n",
       "    }\n",
       "\n",
       "    .dataframe tbody tr th {\n",
       "        vertical-align: top;\n",
       "    }\n",
       "\n",
       "    .dataframe thead th {\n",
       "        text-align: right;\n",
       "    }\n",
       "</style>\n",
       "<table border=\"1\" class=\"dataframe\">\n",
       "  <thead>\n",
       "    <tr style=\"text-align: right;\">\n",
       "      <th></th>\n",
       "      <th>Unnamed: 0</th>\n",
       "      <th>dbeta</th>\n",
       "      <th>gene</th>\n",
       "    </tr>\n",
       "  </thead>\n",
       "  <tbody>\n",
       "    <tr>\n",
       "      <th>1</th>\n",
       "      <td>cg10222734</td>\n",
       "      <td>-0.389851</td>\n",
       "      <td>A1CF</td>\n",
       "    </tr>\n",
       "    <tr>\n",
       "      <th>4</th>\n",
       "      <td>cg08300930</td>\n",
       "      <td>0.246998</td>\n",
       "      <td>A2M</td>\n",
       "    </tr>\n",
       "    <tr>\n",
       "      <th>5</th>\n",
       "      <td>cg23546356</td>\n",
       "      <td>-0.340394</td>\n",
       "      <td>A2ML1</td>\n",
       "    </tr>\n",
       "    <tr>\n",
       "      <th>12</th>\n",
       "      <td>cg13001012</td>\n",
       "      <td>-0.138395</td>\n",
       "      <td>AADAC</td>\n",
       "    </tr>\n",
       "    <tr>\n",
       "      <th>16</th>\n",
       "      <td>cg18716979</td>\n",
       "      <td>0.081409</td>\n",
       "      <td>AADAT</td>\n",
       "    </tr>\n",
       "    <tr>\n",
       "      <th>...</th>\n",
       "      <td>...</td>\n",
       "      <td>...</td>\n",
       "      <td>...</td>\n",
       "    </tr>\n",
       "    <tr>\n",
       "      <th>18936</th>\n",
       "      <td>cg07468289</td>\n",
       "      <td>-0.383186</td>\n",
       "      <td>ZNRD1</td>\n",
       "    </tr>\n",
       "    <tr>\n",
       "      <th>18939</th>\n",
       "      <td>cg20080983</td>\n",
       "      <td>-0.216836</td>\n",
       "      <td>ZNRF3</td>\n",
       "    </tr>\n",
       "    <tr>\n",
       "      <th>18956</th>\n",
       "      <td>cg14231297</td>\n",
       "      <td>0.432943</td>\n",
       "      <td>ZSCAN18</td>\n",
       "    </tr>\n",
       "    <tr>\n",
       "      <th>18976</th>\n",
       "      <td>cg14642833</td>\n",
       "      <td>-0.015741</td>\n",
       "      <td>ZWINT</td>\n",
       "    </tr>\n",
       "    <tr>\n",
       "      <th>18980</th>\n",
       "      <td>cg03489712</td>\n",
       "      <td>-0.267346</td>\n",
       "      <td>ZYX</td>\n",
       "    </tr>\n",
       "  </tbody>\n",
       "</table>\n",
       "<p>8027 rows × 3 columns</p>\n",
       "</div>"
      ],
      "text/plain": [
       "       Unnamed: 0     dbeta     gene\n",
       "1      cg10222734 -0.389851     A1CF\n",
       "4      cg08300930  0.246998      A2M\n",
       "5      cg23546356 -0.340394    A2ML1\n",
       "12     cg13001012 -0.138395    AADAC\n",
       "16     cg18716979  0.081409    AADAT\n",
       "...           ...       ...      ...\n",
       "18936  cg07468289 -0.383186    ZNRD1\n",
       "18939  cg20080983 -0.216836    ZNRF3\n",
       "18956  cg14231297  0.432943  ZSCAN18\n",
       "18976  cg14642833 -0.015741    ZWINT\n",
       "18980  cg03489712 -0.267346      ZYX\n",
       "\n",
       "[8027 rows x 3 columns]"
      ]
     },
     "execution_count": 18,
     "metadata": {},
     "output_type": "execute_result"
    }
   ],
   "source": [
    "result_max_per_gene_single = result_max_per_gene[result_max_per_gene['gene'].isin(single[0])]\n",
    "result_max_per_gene_single"
   ]
  },
  {
   "cell_type": "code",
   "execution_count": 19,
   "metadata": {},
   "outputs": [],
   "source": [
    "result_max_per_gene_single.to_csv(f\"../result/result_max_per_gene_single_{file_endings}.csv\", index=False)"
   ]
  },
  {
   "cell_type": "code",
   "execution_count": 26,
   "metadata": {},
   "outputs": [
    {
     "name": "stdout",
     "output_type": "stream",
     "text": [
      "(960, 3)\n"
     ]
    },
    {
     "data": {
      "text/html": [
       "<div>\n",
       "<style scoped>\n",
       "    .dataframe tbody tr th:only-of-type {\n",
       "        vertical-align: middle;\n",
       "    }\n",
       "\n",
       "    .dataframe tbody tr th {\n",
       "        vertical-align: top;\n",
       "    }\n",
       "\n",
       "    .dataframe thead th {\n",
       "        text-align: right;\n",
       "    }\n",
       "</style>\n",
       "<table border=\"1\" class=\"dataframe\">\n",
       "  <thead>\n",
       "    <tr style=\"text-align: right;\">\n",
       "      <th></th>\n",
       "      <th>Unnamed: 0</th>\n",
       "      <th>dbeta</th>\n",
       "      <th>gene</th>\n",
       "    </tr>\n",
       "  </thead>\n",
       "  <tbody>\n",
       "    <tr>\n",
       "      <th>1</th>\n",
       "      <td>cg10222734</td>\n",
       "      <td>-0.389851</td>\n",
       "      <td>A1CF</td>\n",
       "    </tr>\n",
       "    <tr>\n",
       "      <th>58</th>\n",
       "      <td>cg14592673</td>\n",
       "      <td>-0.391966</td>\n",
       "      <td>ABCC3</td>\n",
       "    </tr>\n",
       "    <tr>\n",
       "      <th>59</th>\n",
       "      <td>cg18016288</td>\n",
       "      <td>-0.363512</td>\n",
       "      <td>ABCC4</td>\n",
       "    </tr>\n",
       "    <tr>\n",
       "      <th>103</th>\n",
       "      <td>cg11149849</td>\n",
       "      <td>-0.393696</td>\n",
       "      <td>ABR</td>\n",
       "    </tr>\n",
       "    <tr>\n",
       "      <th>129</th>\n",
       "      <td>cg00507135</td>\n",
       "      <td>-0.389435</td>\n",
       "      <td>ACBD5</td>\n",
       "    </tr>\n",
       "    <tr>\n",
       "      <th>...</th>\n",
       "      <td>...</td>\n",
       "      <td>...</td>\n",
       "      <td>...</td>\n",
       "    </tr>\n",
       "    <tr>\n",
       "      <th>18540</th>\n",
       "      <td>cg08272268</td>\n",
       "      <td>-0.366877</td>\n",
       "      <td>ZNF281</td>\n",
       "    </tr>\n",
       "    <tr>\n",
       "      <th>18553</th>\n",
       "      <td>cg02343823</td>\n",
       "      <td>0.362446</td>\n",
       "      <td>ZNF300</td>\n",
       "    </tr>\n",
       "    <tr>\n",
       "      <th>18620</th>\n",
       "      <td>cg07633317</td>\n",
       "      <td>-0.439770</td>\n",
       "      <td>ZNF423</td>\n",
       "    </tr>\n",
       "    <tr>\n",
       "      <th>18936</th>\n",
       "      <td>cg07468289</td>\n",
       "      <td>-0.383186</td>\n",
       "      <td>ZNRD1</td>\n",
       "    </tr>\n",
       "    <tr>\n",
       "      <th>18956</th>\n",
       "      <td>cg14231297</td>\n",
       "      <td>0.432943</td>\n",
       "      <td>ZSCAN18</td>\n",
       "    </tr>\n",
       "  </tbody>\n",
       "</table>\n",
       "<p>960 rows × 3 columns</p>\n",
       "</div>"
      ],
      "text/plain": [
       "       Unnamed: 0     dbeta     gene\n",
       "1      cg10222734 -0.389851     A1CF\n",
       "58     cg14592673 -0.391966    ABCC3\n",
       "59     cg18016288 -0.363512    ABCC4\n",
       "103    cg11149849 -0.393696      ABR\n",
       "129    cg00507135 -0.389435    ACBD5\n",
       "...           ...       ...      ...\n",
       "18540  cg08272268 -0.366877   ZNF281\n",
       "18553  cg02343823  0.362446   ZNF300\n",
       "18620  cg07633317 -0.439770   ZNF423\n",
       "18936  cg07468289 -0.383186    ZNRD1\n",
       "18956  cg14231297  0.432943  ZSCAN18\n",
       "\n",
       "[960 rows x 3 columns]"
      ]
     },
     "execution_count": 26,
     "metadata": {},
     "output_type": "execute_result"
    }
   ],
   "source": [
    "check = result_max_per_gene_single.loc[result_max_per_gene_single[\"dbeta\"].abs() > 0.35]\n",
    "print(check.shape)\n",
    "check"
   ]
  },
  {
   "cell_type": "code",
   "execution_count": null,
   "metadata": {},
   "outputs": [],
   "source": []
  }
 ],
 "metadata": {
  "kernelspec": {
   "display_name": "venv",
   "language": "python",
   "name": "python3"
  },
  "language_info": {
   "codemirror_mode": {
    "name": "ipython",
    "version": 3
   },
   "file_extension": ".py",
   "mimetype": "text/x-python",
   "name": "python",
   "nbconvert_exporter": "python",
   "pygments_lexer": "ipython3",
   "version": "3.10.11"
  }
 },
 "nbformat": 4,
 "nbformat_minor": 2
}
