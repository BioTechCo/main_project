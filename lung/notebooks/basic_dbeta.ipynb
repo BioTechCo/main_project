{
 "cells": [
  {
   "cell_type": "markdown",
   "metadata": {},
   "source": [
    "### Implementation\n",
    "1. split normal and tumor samples\n",
    "2. remove outliers in normal and tumor samples\n",
    "3. calculate the mean of normal sammples\n",
    "4. tumor - avg(normal)\n",
    "5. calculate the mean of tumor samples\n",
    "6. merge with DMP file\n",
    "7. exclude the genes not in single comorbidity list\n",
    "\n",
    "### Notes\n",
    "normal samples are procceed with tumor samples in all_beta_normalized file\n",
    "\n",
    "### Input Columns\n",
    "1. `Unnamed: 0` - id of the sample\n",
    "> list of serial number for each sample \n",
    "\n",
    "### Output Columns\n",
    "1. `id` - id of the sample\n",
    "2. `gene` - gene name\n",
    "3. `dbeta` - beta value of tumor - average of beta value of normal\n",
    "\n",
    "### Parameters\n",
    "1. `cancer_type` - cancer type name\n",
    "2. `data_source` - folder name where all_beta_normalized and DMP files are stored, either GSE accession number or associated \n",
    "3. `all_beta_normalized_path` - all_beta_normalized file path within `champ_result`\n",
    "4. `DMP_path` - DMP file path within `champ_result`\n",
    "5. `result_folder` - default `train100` folder\n",
    "6. `normal_count` - number of normal samples\n",
    "7. `is_duplicate` - if the sample is duplicate or not, 2 if duplicate, 1 if not duplicate"
   ]
  },
  {
   "cell_type": "code",
   "execution_count": 1,
   "metadata": {},
   "outputs": [],
   "source": [
    "import pandas as pd\n",
    "import os"
   ]
  },
  {
   "cell_type": "code",
   "execution_count": 21,
   "metadata": {},
   "outputs": [],
   "source": [
    "cancer_type = \"lung\"\n",
    "data_source = \"GDC_lung_tissue\"\n",
    "\n",
    "\n",
    "all_beta_normalized_path = \"all_beta_normalized_train.csv\"\n",
    "\n",
    "\n",
    "DMP_path = \"DMP_result_0.csv\"\n",
    "\n",
    "\n",
    "result_folder = \"train80\"\n",
    "\n",
    "\n",
    "normal_count = 30\n",
    "\n",
    "\n",
    "is_duplicate = 1"
   ]
  },
  {
   "cell_type": "code",
   "execution_count": 4,
   "metadata": {},
   "outputs": [],
   "source": [
    "all_beta_normalized = pd.read_csv(\n",
    "    f\"../result/{data_source}/{result_folder}/{all_beta_normalized_path}\"\n",
    ")"
   ]
  },
  {
   "cell_type": "code",
   "execution_count": 5,
   "metadata": {},
   "outputs": [
    {
     "name": "stdout",
     "output_type": "stream",
     "text": [
      "(115120, 601)\n"
     ]
    }
   ],
   "source": [
    "print(all_beta_normalized.shape)"
   ]
  },
  {
   "cell_type": "code",
   "execution_count": 9,
   "metadata": {},
   "outputs": [],
   "source": [
    "all_beta_normalized_normal = all_beta_normalized.iloc[\n",
    "    :-1, 1 : normal_count * 2 + 1 : is_duplicate\n",
    "]\n",
    "\n",
    "\n",
    "all_beta_normalized_tumor = all_beta_normalized.iloc[\n",
    "    :-1, normal_count * 2 + 1 :: is_duplicate\n",
    "]"
   ]
  },
  {
   "cell_type": "code",
   "execution_count": 11,
   "metadata": {},
   "outputs": [],
   "source": [
    "def IQR(df):\n",
    "    Q1 = df.quantile(0.25)\n",
    "    Q3 = df.quantile(0.75)\n",
    "    IQR = Q3 - Q1\n",
    "    upper_fence = Q3 + IQR * 1.5\n",
    "    lower_fence = Q1 - IQR * 1.5\n",
    "    return upper_fence, lower_fence\n",
    "\n",
    "\n",
    "def no_outlier(df):\n",
    "    upper_fence, lower_fence = IQR(df)\n",
    "    ddf = df[(df > lower_fence) & (df < upper_fence)]\n",
    "    return ddf"
   ]
  },
  {
   "cell_type": "code",
   "execution_count": 12,
   "metadata": {},
   "outputs": [],
   "source": [
    "all_beta_normalized_normal = no_outlier(all_beta_normalized_normal)\n",
    "all_beta_normalized_tumor = no_outlier(all_beta_normalized_tumor)"
   ]
  },
  {
   "cell_type": "code",
   "execution_count": 13,
   "metadata": {},
   "outputs": [],
   "source": [
    "train_normal_avg = all_beta_normalized_normal.mean(skipna=True, axis=1)"
   ]
  },
  {
   "cell_type": "code",
   "execution_count": 14,
   "metadata": {},
   "outputs": [],
   "source": [
    "all_beta_normalized_tumor = (all_beta_normalized_tumor).subtract(\n",
    "    train_normal_avg, axis=0\n",
    ")"
   ]
  },
  {
   "cell_type": "code",
   "execution_count": 15,
   "metadata": {},
   "outputs": [],
   "source": [
    "all_beta_normalized_tumor = no_outlier(all_beta_normalized_tumor)"
   ]
  },
  {
   "cell_type": "code",
   "execution_count": 16,
   "metadata": {},
   "outputs": [],
   "source": [
    "train_tumor_mean = all_beta_normalized_tumor.mean(skipna=True, axis=1)"
   ]
  },
  {
   "cell_type": "code",
   "execution_count": 17,
   "metadata": {},
   "outputs": [
    {
     "name": "stdout",
     "output_type": "stream",
     "text": [
      "(115119, 2)\n"
     ]
    },
    {
     "data": {
      "text/html": [
       "<div>\n",
       "<style scoped>\n",
       "    .dataframe tbody tr th:only-of-type {\n",
       "        vertical-align: middle;\n",
       "    }\n",
       "\n",
       "    .dataframe tbody tr th {\n",
       "        vertical-align: top;\n",
       "    }\n",
       "\n",
       "    .dataframe thead th {\n",
       "        text-align: right;\n",
       "    }\n",
       "</style>\n",
       "<table border=\"1\" class=\"dataframe\">\n",
       "  <thead>\n",
       "    <tr style=\"text-align: right;\">\n",
       "      <th></th>\n",
       "      <th>Unnamed: 0</th>\n",
       "      <th>dbeta</th>\n",
       "    </tr>\n",
       "  </thead>\n",
       "  <tbody>\n",
       "    <tr>\n",
       "      <th>0</th>\n",
       "      <td>cg16031338</td>\n",
       "      <td>-0.000718</td>\n",
       "    </tr>\n",
       "    <tr>\n",
       "      <th>1</th>\n",
       "      <td>cg08167951</td>\n",
       "      <td>0.022218</td>\n",
       "    </tr>\n",
       "    <tr>\n",
       "      <th>2</th>\n",
       "      <td>cg12712270</td>\n",
       "      <td>-0.005783</td>\n",
       "    </tr>\n",
       "    <tr>\n",
       "      <th>3</th>\n",
       "      <td>cg24422826</td>\n",
       "      <td>-0.001865</td>\n",
       "    </tr>\n",
       "    <tr>\n",
       "      <th>4</th>\n",
       "      <td>cg16247931</td>\n",
       "      <td>0.011955</td>\n",
       "    </tr>\n",
       "    <tr>\n",
       "      <th>...</th>\n",
       "      <td>...</td>\n",
       "      <td>...</td>\n",
       "    </tr>\n",
       "    <tr>\n",
       "      <th>115114</th>\n",
       "      <td>cg05175333</td>\n",
       "      <td>-0.006219</td>\n",
       "    </tr>\n",
       "    <tr>\n",
       "      <th>115115</th>\n",
       "      <td>cg21082271</td>\n",
       "      <td>-0.013783</td>\n",
       "    </tr>\n",
       "    <tr>\n",
       "      <th>115116</th>\n",
       "      <td>cg23376870</td>\n",
       "      <td>0.004818</td>\n",
       "    </tr>\n",
       "    <tr>\n",
       "      <th>115117</th>\n",
       "      <td>cg26284982</td>\n",
       "      <td>0.007483</td>\n",
       "    </tr>\n",
       "    <tr>\n",
       "      <th>115118</th>\n",
       "      <td>cg10092878</td>\n",
       "      <td>0.033891</td>\n",
       "    </tr>\n",
       "  </tbody>\n",
       "</table>\n",
       "<p>115119 rows × 2 columns</p>\n",
       "</div>"
      ],
      "text/plain": [
       "        Unnamed: 0     dbeta\n",
       "0       cg16031338 -0.000718\n",
       "1       cg08167951  0.022218\n",
       "2       cg12712270 -0.005783\n",
       "3       cg24422826 -0.001865\n",
       "4       cg16247931  0.011955\n",
       "...            ...       ...\n",
       "115114  cg05175333 -0.006219\n",
       "115115  cg21082271 -0.013783\n",
       "115116  cg23376870  0.004818\n",
       "115117  cg26284982  0.007483\n",
       "115118  cg10092878  0.033891\n",
       "\n",
       "[115119 rows x 2 columns]"
      ]
     },
     "execution_count": 17,
     "metadata": {},
     "output_type": "execute_result"
    }
   ],
   "source": [
    "delta_beta = pd.merge(\n",
    "    all_beta_normalized.iloc[:, :1],\n",
    "    pd.DataFrame(train_tumor_mean, columns=[\"dbeta\"]),\n",
    "    left_index=True,\n",
    "    right_index=True,\n",
    ")\n",
    "\n",
    "\n",
    "print(delta_beta.shape)\n",
    "delta_beta"
   ]
  },
  {
   "cell_type": "code",
   "execution_count": 32,
   "metadata": {},
   "outputs": [
    {
     "name": "stdout",
     "output_type": "stream",
     "text": [
      "dmp shape: (289650, 24)\n",
      "dmp shape after dropna: (219382, 3)\n"
     ]
    }
   ],
   "source": [
    "dmp = pd.read_csv(f\"../champ_result/{data_source}/{DMP_path}\")\n",
    "print(f\"dmp shape: {dmp.shape}\")\n",
    "dmp = dmp[[\"Unnamed: 0\", \"gene\", \"feature\"]]\n",
    "dmp.dropna(inplace=True)\n",
    "print(f\"dmp shape after dropna: {dmp.shape}\")"
   ]
  },
  {
   "cell_type": "code",
   "execution_count": 33,
   "metadata": {},
   "outputs": [],
   "source": [
    "result = pd.merge(delta_beta, dmp, on=\"Unnamed: 0\", how=\"inner\")"
   ]
  },
  {
   "cell_type": "code",
   "execution_count": 34,
   "metadata": {},
   "outputs": [],
   "source": [
    "def find_max_dBeta_grouped(group):\n",
    "    idx_max = group[\"dbeta\"].abs().idxmax()\n",
    "    return group.loc[idx_max]\n",
    "\n",
    "\n",
    "max_dbeta_per_gene = result.groupby(\"gene\", as_index=False).apply(\n",
    "    find_max_dBeta_grouped, include_groups=False\n",
    ")"
   ]
  },
  {
   "cell_type": "code",
   "execution_count": 35,
   "metadata": {},
   "outputs": [
    {
     "data": {
      "text/html": [
       "<div>\n",
       "<style scoped>\n",
       "    .dataframe tbody tr th:only-of-type {\n",
       "        vertical-align: middle;\n",
       "    }\n",
       "\n",
       "    .dataframe tbody tr th {\n",
       "        vertical-align: top;\n",
       "    }\n",
       "\n",
       "    .dataframe thead th {\n",
       "        text-align: right;\n",
       "    }\n",
       "</style>\n",
       "<table border=\"1\" class=\"dataframe\">\n",
       "  <thead>\n",
       "    <tr style=\"text-align: right;\">\n",
       "      <th></th>\n",
       "      <th>ID</th>\n",
       "      <th>gene</th>\n",
       "      <th>dbeta</th>\n",
       "      <th>feature</th>\n",
       "    </tr>\n",
       "  </thead>\n",
       "  <tbody>\n",
       "    <tr>\n",
       "      <th>0</th>\n",
       "      <td>cg03630821</td>\n",
       "      <td>A1BG</td>\n",
       "      <td>0.010959</td>\n",
       "      <td>Body</td>\n",
       "    </tr>\n",
       "    <tr>\n",
       "      <th>1</th>\n",
       "      <td>cg03986562</td>\n",
       "      <td>A2BP1</td>\n",
       "      <td>0.047753</td>\n",
       "      <td>Body</td>\n",
       "    </tr>\n",
       "    <tr>\n",
       "      <th>2</th>\n",
       "      <td>cg17902007</td>\n",
       "      <td>A2LD1</td>\n",
       "      <td>0.002987</td>\n",
       "      <td>5'UTR</td>\n",
       "    </tr>\n",
       "    <tr>\n",
       "      <th>3</th>\n",
       "      <td>cg08300930</td>\n",
       "      <td>A2M</td>\n",
       "      <td>-0.000617</td>\n",
       "      <td>Body</td>\n",
       "    </tr>\n",
       "    <tr>\n",
       "      <th>4</th>\n",
       "      <td>cg15384867</td>\n",
       "      <td>A2ML1</td>\n",
       "      <td>-0.005984</td>\n",
       "      <td>Body</td>\n",
       "    </tr>\n",
       "    <tr>\n",
       "      <th>...</th>\n",
       "      <td>...</td>\n",
       "      <td>...</td>\n",
       "      <td>...</td>\n",
       "      <td>...</td>\n",
       "    </tr>\n",
       "    <tr>\n",
       "      <th>14414</th>\n",
       "      <td>cg00397635</td>\n",
       "      <td>ZYG11A</td>\n",
       "      <td>0.015986</td>\n",
       "      <td>Body</td>\n",
       "    </tr>\n",
       "    <tr>\n",
       "      <th>14415</th>\n",
       "      <td>cg03935117</td>\n",
       "      <td>ZYG11B</td>\n",
       "      <td>0.008274</td>\n",
       "      <td>TSS1500</td>\n",
       "    </tr>\n",
       "    <tr>\n",
       "      <th>14416</th>\n",
       "      <td>cg05102190</td>\n",
       "      <td>ZYX</td>\n",
       "      <td>-0.019736</td>\n",
       "      <td>TSS200</td>\n",
       "    </tr>\n",
       "    <tr>\n",
       "      <th>14417</th>\n",
       "      <td>cg21517865</td>\n",
       "      <td>ZZEF1</td>\n",
       "      <td>0.011545</td>\n",
       "      <td>TSS1500</td>\n",
       "    </tr>\n",
       "    <tr>\n",
       "      <th>14418</th>\n",
       "      <td>cg04127303</td>\n",
       "      <td>ZZZ3</td>\n",
       "      <td>-0.009961</td>\n",
       "      <td>5'UTR</td>\n",
       "    </tr>\n",
       "  </tbody>\n",
       "</table>\n",
       "<p>14419 rows × 4 columns</p>\n",
       "</div>"
      ],
      "text/plain": [
       "               ID    gene     dbeta  feature\n",
       "0      cg03630821    A1BG  0.010959     Body\n",
       "1      cg03986562   A2BP1  0.047753     Body\n",
       "2      cg17902007   A2LD1  0.002987    5'UTR\n",
       "3      cg08300930     A2M -0.000617     Body\n",
       "4      cg15384867   A2ML1 -0.005984     Body\n",
       "...           ...     ...       ...      ...\n",
       "14414  cg00397635  ZYG11A  0.015986     Body\n",
       "14415  cg03935117  ZYG11B  0.008274  TSS1500\n",
       "14416  cg05102190     ZYX -0.019736   TSS200\n",
       "14417  cg21517865   ZZEF1  0.011545  TSS1500\n",
       "14418  cg04127303    ZZZ3 -0.009961    5'UTR\n",
       "\n",
       "[14419 rows x 4 columns]"
      ]
     },
     "execution_count": 35,
     "metadata": {},
     "output_type": "execute_result"
    }
   ],
   "source": [
    "max_dbeta_per_gene.columns = [\"gene\", \"ID\", \"dbeta\", \"feature\"]\n",
    "max_dbeta_per_gene = max_dbeta_per_gene[[\"ID\", \"gene\", \"dbeta\", \"feature\"]]\n",
    "max_dbeta_per_gene"
   ]
  },
  {
   "cell_type": "code",
   "execution_count": null,
   "metadata": {},
   "outputs": [],
   "source": [
    "# comorbidity = pd.read_csv(\n",
    "#     \"../external_result/matchgene174_single_3Y10__OR2.txt\", sep=\"\\t\", header=None\n",
    "# )"
   ]
  },
  {
   "cell_type": "code",
   "execution_count": null,
   "metadata": {},
   "outputs": [
    {
     "data": {
      "text/html": [
       "<div>\n",
       "<style scoped>\n",
       "    .dataframe tbody tr th:only-of-type {\n",
       "        vertical-align: middle;\n",
       "    }\n",
       "\n",
       "    .dataframe tbody tr th {\n",
       "        vertical-align: top;\n",
       "    }\n",
       "\n",
       "    .dataframe thead th {\n",
       "        text-align: right;\n",
       "    }\n",
       "</style>\n",
       "<table border=\"1\" class=\"dataframe\">\n",
       "  <thead>\n",
       "    <tr style=\"text-align: right;\">\n",
       "      <th></th>\n",
       "      <th>ID</th>\n",
       "      <th>gene</th>\n",
       "      <th>dbeta</th>\n",
       "      <th>feature</th>\n",
       "    </tr>\n",
       "  </thead>\n",
       "  <tbody>\n",
       "    <tr>\n",
       "      <th>3</th>\n",
       "      <td>cg08300930</td>\n",
       "      <td>A2M</td>\n",
       "      <td>0.055621</td>\n",
       "      <td>Body</td>\n",
       "    </tr>\n",
       "    <tr>\n",
       "      <th>4</th>\n",
       "      <td>cg21416544</td>\n",
       "      <td>A2ML1</td>\n",
       "      <td>0.074046</td>\n",
       "      <td>Body</td>\n",
       "    </tr>\n",
       "    <tr>\n",
       "      <th>11</th>\n",
       "      <td>cg13001012</td>\n",
       "      <td>AADAC</td>\n",
       "      <td>-0.039686</td>\n",
       "      <td>TSS1500</td>\n",
       "    </tr>\n",
       "    <tr>\n",
       "      <th>14</th>\n",
       "      <td>cg06339629</td>\n",
       "      <td>AADAT</td>\n",
       "      <td>0.035697</td>\n",
       "      <td>TSS1500</td>\n",
       "    </tr>\n",
       "    <tr>\n",
       "      <th>15</th>\n",
       "      <td>cg20940607</td>\n",
       "      <td>AAGAB</td>\n",
       "      <td>0.009760</td>\n",
       "      <td>1stExon</td>\n",
       "    </tr>\n",
       "    <tr>\n",
       "      <th>...</th>\n",
       "      <td>...</td>\n",
       "      <td>...</td>\n",
       "      <td>...</td>\n",
       "      <td>...</td>\n",
       "    </tr>\n",
       "    <tr>\n",
       "      <th>18318</th>\n",
       "      <td>cg07135797</td>\n",
       "      <td>ZNRD1</td>\n",
       "      <td>-0.063229</td>\n",
       "      <td>Body</td>\n",
       "    </tr>\n",
       "    <tr>\n",
       "      <th>18321</th>\n",
       "      <td>cg13298682</td>\n",
       "      <td>ZNRF3</td>\n",
       "      <td>-0.087323</td>\n",
       "      <td>Body</td>\n",
       "    </tr>\n",
       "    <tr>\n",
       "      <th>18337</th>\n",
       "      <td>cg05616010</td>\n",
       "      <td>ZSCAN18</td>\n",
       "      <td>0.084201</td>\n",
       "      <td>TSS1500</td>\n",
       "    </tr>\n",
       "    <tr>\n",
       "      <th>18357</th>\n",
       "      <td>cg14642833</td>\n",
       "      <td>ZWINT</td>\n",
       "      <td>-0.015362</td>\n",
       "      <td>TSS1500</td>\n",
       "    </tr>\n",
       "    <tr>\n",
       "      <th>18361</th>\n",
       "      <td>cg09704136</td>\n",
       "      <td>ZYX</td>\n",
       "      <td>0.080822</td>\n",
       "      <td>Body</td>\n",
       "    </tr>\n",
       "  </tbody>\n",
       "</table>\n",
       "<p>7868 rows × 4 columns</p>\n",
       "</div>"
      ],
      "text/plain": [
       "               ID     gene     dbeta  feature\n",
       "3      cg08300930      A2M  0.055621     Body\n",
       "4      cg21416544    A2ML1  0.074046     Body\n",
       "11     cg13001012    AADAC -0.039686  TSS1500\n",
       "14     cg06339629    AADAT  0.035697  TSS1500\n",
       "15     cg20940607    AAGAB  0.009760  1stExon\n",
       "...           ...      ...       ...      ...\n",
       "18318  cg07135797    ZNRD1 -0.063229     Body\n",
       "18321  cg13298682    ZNRF3 -0.087323     Body\n",
       "18337  cg05616010  ZSCAN18  0.084201  TSS1500\n",
       "18357  cg14642833    ZWINT -0.015362  TSS1500\n",
       "18361  cg09704136      ZYX  0.080822     Body\n",
       "\n",
       "[7868 rows x 4 columns]"
      ]
     },
     "execution_count": 23,
     "metadata": {},
     "output_type": "execute_result"
    }
   ],
   "source": [
    "# result_max_per_gene_single = max_dbeta_per_gene[\n",
    "#     max_dbeta_per_gene[\"gene\"].isin(comorbidity[0])\n",
    "# ]\n",
    "\n",
    "\n",
    "# result_max_per_gene_single"
   ]
  },
  {
   "cell_type": "code",
   "execution_count": 40,
   "metadata": {},
   "outputs": [],
   "source": [
    "# check if the folder exists\n",
    "if not os.path.exists(f\"../result/{data_source}/{result_folder}\"):\n",
    "    os.makedirs(f\"../result/{data_source}/{result_folder}\")\n",
    "max_dbeta_per_gene.to_csv(\n",
    "    f\"../result/{data_source}/{result_folder}/dbeta.csv\", index=False\n",
    ")"
   ]
  },
  {
   "cell_type": "code",
   "execution_count": null,
   "metadata": {},
   "outputs": [],
   "source": []
  }
 ],
 "metadata": {
  "kernelspec": {
   "display_name": ".venv",
   "language": "python",
   "name": "python3"
  },
  "language_info": {
   "codemirror_mode": {
    "name": "ipython",
    "version": 3
   },
   "file_extension": ".py",
   "mimetype": "text/x-python",
   "name": "python",
   "nbconvert_exporter": "python",
   "pygments_lexer": "ipython3",
   "version": "3.11.9"
  }
 },
 "nbformat": 4,
 "nbformat_minor": 2
}
